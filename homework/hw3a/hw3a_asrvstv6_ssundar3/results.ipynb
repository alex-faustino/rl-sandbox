{
 "cells": [
  {
   "cell_type": "code",
   "execution_count": 1,
   "metadata": {},
   "outputs": [
    {
     "name": "stderr",
     "output_type": "stream",
     "text": [
      "/Users/AmberS/anaconda3/lib/python3.6/site-packages/h5py/__init__.py:36: FutureWarning: Conversion of the second argument of issubdtype from `float` to `np.floating` is deprecated. In future, it will be treated as `np.float64 == np.dtype(float).type`.\n",
      "  from ._conv import register_converters as _register_converters\n"
     ]
    },
    {
     "name": "stdout",
     "output_type": "stream",
     "text": [
      "\u001b[33mWARN: gym.spaces.Box autodetected dtype as <class 'numpy.float32'>. Please provide explicit dtype.\u001b[0m\n",
      "6\n"
     ]
    },
    {
     "data": {
      "text/plain": [
       "<Figure size 640x480 with 1 Axes>"
      ]
     },
     "metadata": {},
     "output_type": "display_data"
    },
    {
     "data": {
      "text/plain": [
       "<Figure size 640x480 with 1 Axes>"
      ]
     },
     "metadata": {},
     "output_type": "display_data"
    }
   ],
   "source": [
    "# -*- coding: utf-8 -*-\n",
    "\"\"\"\n",
    "Created on Wed Sep 19 21:52:46 2018\n",
    "\n",
    "@author: sreen\n",
    "\"\"\"\n",
    "\n",
    "import tensorflow as tf\n",
    "import numpy as np\n",
    "import gym\n",
    "from gym import spaces\n",
    "from gym.utils import seeding\n",
    "import gym_envs\n",
    "import random\n",
    "#from random import choices\n",
    "import numpy as np\n",
    "import matplotlib.pyplot as plt\n",
    "\n",
    "#Declare M and N\n",
    "env = gym.make('acrobot-v0')\n",
    "N = env.action_space.n\n",
    "#print(M)\n",
    "M, = env.observation_space.shape\n",
    "print(M)\n",
    "\n",
    "\n",
    "nn1_units= 16\n",
    "nn2_units= 16\n",
    "nn3_units = 16\n",
    "\n",
    "tf.reset_default_graph()\n",
    "\n",
    "        \n",
    "input_observation = tf.placeholder(shape= (M,1) , dtype= tf.float32)\n",
    "Qnext = tf.placeholder(shape= (N,1) , dtype= tf.float32)\n",
    "'''\n",
    "        self.target_Q  = tf.placeholder(shape = (self.N,1), dtype = tf.float64)\n",
    "        self.current_Q = tf.Variable(tf.random_normal([self.N,1]))\n",
    "        self.predict =  tf.Variable(tf.random_normal([1,]))\n",
    "\n",
    "#Defining tensorflow architecture\n",
    "'''\n",
    "hidden_1_layer = {'weights':tf.Variable(tf.random_normal([M,nn1_units])),\n",
    "              'biases':tf.Variable(tf.random_normal([nn1_units,1]))}\n",
    "\n",
    "hidden_2_layer = {'weights':tf.Variable(tf.random_normal([nn1_units, nn2_units])),\n",
    "                  'biases':tf.Variable(tf.random_normal([nn2_units,1]))}\n",
    "\n",
    "hidden_3_layer = {'weights':tf.Variable(tf.random_normal([nn2_units, nn3_units])),\n",
    "                  'biases':tf.Variable(tf.random_normal([nn3_units,1]))}\n",
    "\n",
    "\n",
    "output_layer = {'weights':tf.Variable(tf.random_normal([nn3_units, N])),\n",
    "                'biases':tf.Variable(tf.random_normal([N,1]))}\n",
    "\n",
    "\n",
    "l1 = tf.add(tf.matmul(tf.transpose(hidden_1_layer['weights']), input_observation), hidden_1_layer['biases'])\n",
    "l1 = tf.nn.relu(l1)\n",
    "\n",
    "l2 = tf.add(tf.matmul(tf.transpose(hidden_2_layer['weights']),l1), hidden_2_layer['biases'])\n",
    "l2 = tf.nn.relu(l2)\n",
    "\n",
    "l3 = tf.add(tf.matmul(tf.transpose(hidden_3_layer['weights']),l2), hidden_3_layer['biases'])\n",
    "l3 = tf.nn.relu(l3)\n",
    "\n",
    "current_Q = tf.matmul(tf.transpose(output_layer['weights']), l3) + output_layer['biases']\n",
    "predict = tf.argmax(current_Q,0)\n",
    "\n",
    "\n",
    "'''\n",
    "current_Q = tf.matmul(tf.transpose(output_layer['weights']), input_observation) + output_layer['biases']\n",
    "predict = tf.argmax(current_Q,0)\n",
    "'''\n",
    "    \n",
    "    \n",
    "#BackProp    \n",
    "loss = tf.reduce_sum(tf.square(Qnext-current_Q))\n",
    "trainer = tf.train.AdamOptimizer()\n",
    "updateModel = trainer.minimize(loss)\n",
    "\n",
    "#init = tf.initialize_all_variables()\n",
    "init =  tf.global_variables_initializer()\n",
    "\n",
    "\n",
    "# Set learning parameters\n",
    "gamma = .9\n",
    "epsilon = 0.05\n",
    "num_episodes = 500\n",
    "#create lists to contain total rewards and steps per episode\n",
    "jList = []\n",
    "rList = []\n",
    "elist = []\n",
    "\n",
    "with tf.Session() as sess:\n",
    "    sess.run(init)\n",
    "    for i in range(num_episodes):\n",
    "        #Reset environment and get first new observation\n",
    "        s = env.reset()\n",
    "        s = np.asmatrix(s)\n",
    "        #print((s.T).shape)\n",
    "        rAll = 0\n",
    "        episode_epoch = 0\n",
    "        d = False\n",
    "        j = 0\n",
    "        #The Q-Network\n",
    "        while j < 1000:\n",
    "            j+=1\n",
    "            #Choose an action by greedily (with e chance of random action) from the Q-network\n",
    "            #print(s)\n",
    "            a,allQ = sess.run([predict, current_Q], feed_dict={input_observation: s.T})\n",
    "            #env.render()\n",
    "            #print('The value of action at iteration %d is %d'%(j,a[0]))\n",
    "            #print('---AllQ---')\n",
    "            #print(allQ)\n",
    "            #print(allQ) \n",
    "            if np.random.rand(1) < epsilon:\n",
    "                a[0] = env.action_space.sample()\n",
    "            #Get new state and reward from environment\n",
    "            s1,r,d,_ = env.step(a[0])\n",
    "            #Obtain the Q' values by feeding the new state through our network\n",
    "            s1 = np.asmatrix(s1)\n",
    "            a2,Q1 = sess.run([predict, current_Q],feed_dict={input_observation : s1.T})\n",
    "            #Obtain maxQ' and set our target value for chosen action.\n",
    "            maxQ1 = np.max(Q1)\n",
    "            targetQ = allQ\n",
    "            targetQ[a,0] = r + gamma*maxQ1\n",
    "            #Train our network using target and predicted Q values\n",
    "            _,epoch_loss = sess.run([updateModel, loss],feed_dict={input_observation: s.T, Qnext: targetQ})\n",
    "            #print(epoch_loss)\n",
    "            rAll += r\n",
    "            episode_epoch += epoch_loss\n",
    "            s = s1\n",
    "            '''\n",
    "            if d == True:\n",
    "                #Reduce chance of random action as we train the model.\n",
    "                e = 1./((i/50) + 10)\n",
    "                break\n",
    "            '''\n",
    "        jList.append(j)\n",
    "        rList.append(rAll)\n",
    "        elist.append(episode_epoch)\n",
    "        \n",
    "#print (\"Percent of succesful episodes: \" + str(sum(rList)/num_episodes) + \"%\")\n",
    "episode_no = [_+1 for _ in range(num_episodes)]\n",
    "plt.figure()\n",
    "plt.plot(episode_no,rList,'r-')\n",
    "plt.title('Evolution of reward with episode')\n",
    "plt.xlabel('Episode No')\n",
    "plt.ylabel('Reward')\n",
    "\n",
    "plt.figure()\n",
    "plt.plot(episode_no,elist,'b-')\n",
    "plt.title('Evolution of training loss with episode')\n",
    "plt.xlabel('Episode No')\n",
    "plt.ylabel('Episode Loss')\n",
    "\n",
    "#plt.show()\n"
   ]
  },
  {
   "cell_type": "code",
   "execution_count": 3,
   "metadata": {},
   "outputs": [
    {
     "data": {
      "text/plain": [
       "Text(0,0.5,'Episode Loss')"
      ]
     },
     "execution_count": 3,
     "metadata": {},
     "output_type": "execute_result"
    },
    {
     "data": {
      "image/png": "[encoded data removed]",
      "text/plain": [
       "<Figure size 432x288 with 1 Axes>"
      ]
     },
     "metadata": {},
     "output_type": "display_data"
    },
    {
     "data": {
      "image/png": "[encoded data removed]",
      "text/plain": [
       "<Figure size 432x288 with 1 Axes>"
      ]
     },
     "metadata": {},
     "output_type": "display_data"
    }
   ],
   "source": [
    "%matplotlib inline\n",
    "\n",
    "episode_no = [_+1 for _ in range(num_episodes)]\n",
    "plt.figure()\n",
    "plt.plot(episode_no,rList,'r-')\n",
    "plt.title('Evolution of reward with episode')\n",
    "plt.xlabel('Episode No')\n",
    "plt.ylabel('Reward')\n",
    "\n",
    "plt.figure()\n",
    "plt.plot(episode_no,elist,'b-')\n",
    "plt.title('Evolution of training loss with episode')\n",
    "plt.xlabel('Episode No')\n",
    "plt.ylabel('Episode Loss')"
   ]
  },
  {
   "cell_type": "code",
   "execution_count": null,
   "metadata": {},
   "outputs": [],
   "source": []
  }
 ],
 "metadata": {
  "kernelspec": {
   "display_name": "Python 3",
   "language": "python",
   "name": "python3"
  },
  "language_info": {
   "codemirror_mode": {
    "name": "ipython",
    "version": 3
   },
   "file_extension": ".py",
   "mimetype": "text/x-python",
   "name": "python",
   "nbconvert_exporter": "python",
   "pygments_lexer": "ipython3",
   "version": "3.6.5"
  }
 },
 "nbformat": 4,
 "nbformat_minor": 2
}
