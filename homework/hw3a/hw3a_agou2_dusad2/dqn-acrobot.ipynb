{
 "cells": [
  {
   "cell_type": "code",
   "execution_count": 23,
   "metadata": {
    "collapsed": true
   },
   "outputs": [],
   "source": [
    "import torch\n",
    "import torch.nn as nn\n",
    "import torch.nn.functional as F\n",
    "import torch.optim as optim\n",
    "import math\n",
    "import gym\n",
    "import matplotlib.pyplot as plt\n",
    "from acrobot import AcrobotEnv\n",
    "import numpy as np\n",
    "from tqdm import tqdm, trange"
   ]
  },
  {
   "cell_type": "markdown",
   "metadata": {},
   "source": [
    "Heavily referencing this link\n",
    "https://pytorch.org/tutorials/intermediate/reinforcement_q_learning.html"
   ]
  },
  {
   "cell_type": "code",
   "execution_count": 9,
   "metadata": {
    "collapsed": true
   },
   "outputs": [],
   "source": [
    "class Net(nn.Module):\n",
    "    def __init__(self):\n",
    "        super(Net, self).__init__()\n",
    "        self.fc1 = nn.Linear(6, 120)\n",
    "        self.fc2 = nn.Linear(120, 84)\n",
    "        self.fc3 = nn.Linear(84, 3)\n",
    "    \n",
    "    def forward(self, x):\n",
    "        x = F.relu(self.fc1(x))\n",
    "        x = F.relu(self.fc2(x))\n",
    "        x = self.fc3(x)\n",
    "        return x        \n"
   ]
  },
  {
   "cell_type": "code",
   "execution_count": 10,
   "metadata": {
    "collapsed": true
   },
   "outputs": [],
   "source": [
    "from collections import namedtuple\n",
    "import random\n",
    "\n",
    "Transition = namedtuple(\"Transition\", (\"state\", \"action\", \"next_state\", \"reward\"))\n",
    "\n",
    "class ReplayMemory():\n",
    "    def __init__(self, capacity):\n",
    "        self.capacity = capacity\n",
    "        self.memory = []\n",
    "        self.position = 0\n",
    "\n",
    "    def push(self, *args):\n",
    "        if len(self.memory) < self.capacity:\n",
    "            self.memory.append(None)\n",
    "        self.memory[self.position] = Transition(*args)\n",
    "        self.position = (self.position + 1) % self.capacity\n",
    "\n",
    "    def sample(self, batch_size):\n",
    "        return random.sample(self.memory, batch_size)\n",
    "    \n",
    "    def __len__(self):\n",
    "        return len(self.memory)"
   ]
  },
  {
   "cell_type": "code",
   "execution_count": 11,
   "metadata": {
    "collapsed": true
   },
   "outputs": [],
   "source": [
    "steps_done = 0\n",
    "def select_action(state):\n",
    "    global steps_done\n",
    "    sample = random.random()\n",
    "    eps_threshold = EPS_END + (EPS_START - EPS_END) * math.exp(-1.*steps_done/EPS_DECAY)\n",
    "    if sample > eps_threshold:\n",
    "        with torch.no_grad():\n",
    "            return net(state).argmax()\n",
    "    else:\n",
    "        return torch.tensor(random.randrange(3))"
   ]
  },
  {
   "cell_type": "code",
   "execution_count": 12,
   "metadata": {
    "collapsed": true
   },
   "outputs": [],
   "source": [
    "def to_tensor(env_state):\n",
    "    return torch.from_numpy(env_state).float()"
   ]
  },
  {
   "cell_type": "code",
   "execution_count": 14,
   "metadata": {
    "collapsed": true
   },
   "outputs": [],
   "source": [
    "BATCH_SIZE = 64\n",
    "GAMMA = 0.999\n",
    "EPS_START = 0.9\n",
    "EPS_END = 0.05\n",
    "EPS_DECAY = 200\n",
    "num_episodes = 50"
   ]
  },
  {
   "cell_type": "code",
   "execution_count": 17,
   "metadata": {},
   "outputs": [
    {
     "name": "stderr",
     "output_type": "stream",
     "text": [
      "100%|██████████| 100/100 [00:00<00:00, 634.14it/s]\n",
      "  0%|          | 0/100 [00:00<?, ?it/s]"
     ]
    },
    {
     "name": "stdout",
     "output_type": "stream",
     "text": [
      "\u001b[33mWARN: gym.spaces.Box autodetected dtype as <class 'numpy.float32'>. Please provide explicit dtype.\u001b[0m\n",
      "\u001b[33mWARN: Could not seed environment <AcrobotEnv instance>\u001b[0m\n"
     ]
    },
    {
     "name": "stderr",
     "output_type": "stream",
     "text": [
      "100%|██████████| 100/100 [00:00<00:00, 369.56it/s]\n",
      "100%|██████████| 100/100 [00:00<00:00, 334.35it/s]\n",
      "100%|██████████| 100/100 [00:00<00:00, 361.55it/s]\n",
      "100%|██████████| 100/100 [00:00<00:00, 357.51it/s]\n",
      "100%|██████████| 100/100 [00:00<00:00, 385.94it/s]\n",
      "100%|██████████| 100/100 [00:00<00:00, 376.08it/s]\n",
      "100%|██████████| 100/100 [00:00<00:00, 364.06it/s]\n",
      "100%|██████████| 100/100 [00:00<00:00, 359.36it/s]\n",
      "100%|██████████| 100/100 [00:00<00:00, 332.76it/s]\n",
      "100%|██████████| 100/100 [00:00<00:00, 229.97it/s]\n",
      "100%|██████████| 100/100 [00:00<00:00, 367.28it/s]\n",
      "100%|██████████| 100/100 [00:00<00:00, 351.20it/s]\n",
      "100%|██████████| 100/100 [00:00<00:00, 366.70it/s]\n",
      "100%|██████████| 100/100 [00:00<00:00, 368.37it/s]\n",
      "100%|██████████| 100/100 [00:00<00:00, 380.87it/s]\n",
      "100%|██████████| 100/100 [00:00<00:00, 373.20it/s]\n",
      "100%|██████████| 100/100 [00:00<00:00, 270.28it/s]\n",
      "100%|██████████| 100/100 [00:00<00:00, 370.72it/s]\n",
      "100%|██████████| 100/100 [00:00<00:00, 378.98it/s]\n",
      "100%|██████████| 100/100 [00:00<00:00, 369.59it/s]\n",
      "100%|██████████| 100/100 [00:00<00:00, 365.42it/s]\n",
      "100%|██████████| 100/100 [00:00<00:00, 359.16it/s]\n",
      "100%|██████████| 100/100 [00:00<00:00, 373.37it/s]\n",
      "100%|██████████| 100/100 [00:00<00:00, 370.12it/s]\n",
      "100%|██████████| 100/100 [00:00<00:00, 376.19it/s]\n",
      "100%|██████████| 100/100 [00:00<00:00, 372.77it/s]\n",
      "100%|██████████| 100/100 [00:00<00:00, 376.16it/s]\n",
      "100%|██████████| 100/100 [00:00<00:00, 373.96it/s]\n",
      "100%|██████████| 100/100 [00:00<00:00, 372.12it/s]\n",
      "100%|██████████| 100/100 [00:00<00:00, 364.22it/s]\n",
      "100%|██████████| 100/100 [00:00<00:00, 367.65it/s]\n",
      "100%|██████████| 100/100 [00:00<00:00, 366.89it/s]\n",
      "100%|██████████| 100/100 [00:00<00:00, 368.35it/s]\n",
      "100%|██████████| 100/100 [00:00<00:00, 369.81it/s]\n",
      "100%|██████████| 100/100 [00:00<00:00, 367.68it/s]\n",
      "100%|██████████| 100/100 [00:00<00:00, 372.87it/s]\n",
      "100%|██████████| 100/100 [00:00<00:00, 347.47it/s]\n",
      "100%|██████████| 100/100 [00:00<00:00, 366.16it/s]\n",
      "100%|██████████| 100/100 [00:00<00:00, 361.50it/s]\n",
      "100%|██████████| 100/100 [00:00<00:00, 380.57it/s]\n",
      "100%|██████████| 100/100 [00:00<00:00, 366.93it/s]\n",
      "100%|██████████| 100/100 [00:00<00:00, 362.07it/s]\n",
      "100%|██████████| 100/100 [00:00<00:00, 330.07it/s]\n",
      "100%|██████████| 100/100 [00:00<00:00, 360.14it/s]\n",
      "100%|██████████| 100/100 [00:00<00:00, 364.04it/s]\n",
      "100%|██████████| 100/100 [00:00<00:00, 354.79it/s]\n",
      "100%|██████████| 100/100 [00:00<00:00, 257.25it/s]\n",
      "100%|██████████| 100/100 [00:00<00:00, 265.32it/s]\n",
      "100%|██████████| 100/100 [00:00<00:00, 364.50it/s]\n"
     ]
    }
   ],
   "source": [
    "env = AcrobotEnv()\n",
    "\n",
    "# Initialize replay memory\n",
    "memory  = ReplayMemory(10000)\n",
    "\n",
    "# Initialize action-value function Q\n",
    "net = Net()\n",
    "\n",
    "# initialize target action-value function Q'\n",
    "clone = Net()\n",
    "clone.load_state_dict(net.state_dict())\n",
    "clone.eval()\n",
    "\n",
    "optimizer = optim.RMSprop(net.parameters())\n",
    "\n",
    "# For each episode\n",
    "for i in range(num_episodes):\n",
    "    state = env.reset()\n",
    "    for j in tqdm(range(100)):\n",
    "        # Select action according to epsilon greedy \n",
    "        action = select_action(to_tensor(state))\n",
    "        \n",
    "        # execution action and observe reward and next_state\n",
    "        next_state, reward, done, _ = env.step(action.item())\n",
    "        reward = torch.tensor(reward)\n",
    "        \n",
    "        # store transition in memory\n",
    "        memory.push(to_tensor(state), action, to_tensor(state), reward)\n",
    "\n",
    "        state = next_state\n",
    "        if len(memory) >= BATCH_SIZE:\n",
    "            # sample random minibatch of transitions\n",
    "            minibatch = memory.sample(BATCH_SIZE)\n",
    "            batch = Transition(*zip(*minibatch))\n",
    "            state_batch = torch.stack(batch.state)\n",
    "            action_batch = torch.stack(batch.action).view((64,1))\n",
    "            reward_batch = torch.stack(batch.reward)\n",
    "\n",
    "            # compute state values\n",
    "            state_action_values = net(state_batch).gather(1, action_batch)\n",
    "\n",
    "            # compute y_j\n",
    "            next_state_values = clone(state_batch).max(1)[0]\n",
    "            y_j = reward_batch.float() + GAMMA*next_state_values\n",
    "\n",
    "            criterion = nn.MSELoss()\n",
    "            loss = criterion(state_action_values, y_j)\n",
    "            optimizer.zero_grad()\n",
    "            loss.backward()\n",
    "            # clip error term between -1 and 1 \n",
    "            for param in net.parameters():\n",
    "                param.grad.data.clamp_(-1, 1)\n",
    "            optimizer.step()\n",
    "        if done:\n",
    "            break\n",
    "    clone.load_state_dict(net.state_dict())\n"
   ]
  },
  {
   "cell_type": "code",
   "execution_count": 21,
   "metadata": {},
   "outputs": [
    {
     "name": "stderr",
     "output_type": "stream",
     "text": [
      "100%|██████████| 10000/10000 [00:02<00:00, 4251.20it/s]\n"
     ]
    },
    {
     "data": {
      "image/png": "[encoded data removed]",
      "text/plain": [
       "<Figure size 432x288 with 1 Axes>"
      ]
     },
     "metadata": {
      "needs_background": "light"
     },
     "output_type": "display_data"
    }
   ],
   "source": [
    "\n",
    "state = env.reset()\n",
    "rewards = []\n",
    "for i in tqdm(range(10000)):\n",
    "    action = select_action(to_tensor(state))\n",
    "    state, reward, done, _ = env.step(action.item())\n",
    "    rewards.append(reward)\n",
    "\n",
    "plt.figure()\n",
    "plt.xlabel(\"Step\")\n",
    "plt.ylabel(\"Reward\")\n",
    "plt.plot(rewards)\n",
    "plt.show()  "
   ]
  },
  {
   "cell_type": "code",
   "execution_count": 28,
   "metadata": {},
   "outputs": [
    {
     "name": "stderr",
     "output_type": "stream",
     "text": [
      "1st loop:   0%|          | 0/10 [00:00<?, ?it/s]\n",
      "2nd loop:   0%|          | 0/5 [00:00<?, ?it/s]\u001b[A\n",
      "\n",
      "3nd loop:   0%|          | 0/100 [00:00<?, ?it/s]\u001b[A\u001b[A\n",
      "\n",
      "3nd loop:   1%|          | 1/100 [00:00<00:10,  9.51it/s]\u001b[A\u001b[A\n",
      "\n",
      "3nd loop:   2%|▏         | 2/100 [00:00<00:10,  9.45it/s]\u001b[A\u001b[A\n",
      "\n",
      "3nd loop:   3%|▎         | 3/100 [00:00<00:10,  9.37it/s]\u001b[A\u001b[A\n",
      "\n",
      "3nd loop:   4%|▍         | 4/100 [00:00<00:10,  9.36it/s]\u001b[A\u001b[A\n",
      "\n",
      "3nd loop:   5%|▌         | 5/100 [00:00<00:10,  9.30it/s]\u001b[A\u001b[A\n",
      "\n",
      "3nd loop:   6%|▌         | 6/100 [00:00<00:10,  9.22it/s]\u001b[A\u001b[A\n",
      "\n",
      "3nd loop:   7%|▋         | 7/100 [00:00<00:10,  9.21it/s]\u001b[A\u001b[A\n",
      "\n",
      "3nd loop:   8%|▊         | 8/100 [00:00<00:09,  9.32it/s]\u001b[A\u001b[A\n",
      "\n",
      "3nd loop:   9%|▉         | 9/100 [00:00<00:09,  9.40it/s]\u001b[A\u001b[A\n",
      "\n",
      "3nd loop:  10%|█         | 10/100 [00:01<00:09,  9.46it/s]\u001b[A\u001b[A\n",
      "\n",
      "3nd loop:  11%|█         | 11/100 [00:01<00:09,  9.48it/s]\u001b[A\u001b[A\n",
      "\n",
      "3nd loop:  12%|█▏        | 12/100 [00:01<00:09,  9.40it/s]\u001b[A\u001b[A\n",
      "\n",
      "3nd loop:  13%|█▎        | 13/100 [00:01<00:09,  9.45it/s]\u001b[A\u001b[A\n",
      "\n",
      "3nd loop:  14%|█▍        | 14/100 [00:01<00:09,  9.40it/s]\u001b[A\u001b[A\n",
      "\n",
      "3nd loop:  15%|█▌        | 15/100 [00:01<00:09,  9.37it/s]\u001b[A\u001b[A\n",
      "\n",
      "3nd loop:  16%|█▌        | 16/100 [00:01<00:08,  9.41it/s]\u001b[A\u001b[A\n",
      "\n",
      "3nd loop:  17%|█▋        | 17/100 [00:01<00:08,  9.49it/s]\u001b[A\u001b[A\n",
      "\n",
      "3nd loop:  18%|█▊        | 18/100 [00:01<00:08,  9.50it/s]\u001b[A\u001b[A\n",
      "\n",
      "3nd loop:  19%|█▉        | 19/100 [00:02<00:08,  9.43it/s]\u001b[A\u001b[A\n",
      "\n",
      "3nd loop:  20%|██        | 20/100 [00:02<00:08,  9.19it/s]\u001b[A\u001b[A\n",
      "\n",
      "3nd loop:  21%|██        | 21/100 [00:02<00:08,  9.20it/s]\u001b[A\u001b[A\n",
      "\n",
      "3nd loop:  22%|██▏       | 22/100 [00:02<00:08,  9.30it/s]\u001b[A\u001b[A\n",
      "\n",
      "3nd loop:  23%|██▎       | 23/100 [00:02<00:08,  9.27it/s]\u001b[A\u001b[A\n",
      "\n",
      "3nd loop:  24%|██▍       | 24/100 [00:02<00:08,  9.37it/s]\u001b[A\u001b[A\n",
      "\n",
      "3nd loop:  25%|██▌       | 25/100 [00:02<00:07,  9.44it/s]\u001b[A\u001b[A\n",
      "\n",
      "3nd loop:  26%|██▌       | 26/100 [00:02<00:07,  9.35it/s]\u001b[A\u001b[A\n",
      "\n",
      "3nd loop:  27%|██▋       | 27/100 [00:02<00:07,  9.31it/s]\u001b[A\u001b[A\n",
      "\n",
      "3nd loop:  28%|██▊       | 28/100 [00:02<00:07,  9.31it/s]\u001b[A\u001b[A\n",
      "\n",
      "3nd loop:  29%|██▉       | 29/100 [00:03<00:07,  9.35it/s]\u001b[A\u001b[A\n",
      "\n",
      "3nd loop:  30%|███       | 30/100 [00:03<00:07,  9.34it/s]\u001b[A\u001b[A\n",
      "\n",
      "3nd loop:  31%|███       | 31/100 [00:03<00:07,  9.44it/s]\u001b[A\u001b[A\n",
      "\n",
      "3nd loop:  32%|███▏      | 32/100 [00:03<00:07,  9.27it/s]\u001b[A\u001b[A\n",
      "\n",
      "3nd loop:  33%|███▎      | 33/100 [00:03<00:07,  9.35it/s]\u001b[A\u001b[A\n",
      "\n",
      "3nd loop:  34%|███▍      | 34/100 [00:03<00:07,  9.30it/s]\u001b[A\u001b[A\n",
      "\n",
      "3nd loop:  35%|███▌      | 35/100 [00:03<00:06,  9.31it/s]\u001b[A\u001b[A\n",
      "\n",
      "3nd loop:  36%|███▌      | 36/100 [00:03<00:06,  9.39it/s]\u001b[A\u001b[A\n",
      "\n",
      "3nd loop:  37%|███▋      | 37/100 [00:03<00:06,  9.47it/s]\u001b[A\u001b[A\n",
      "\n",
      "3nd loop:  38%|███▊      | 38/100 [00:04<00:06,  9.38it/s]\u001b[A\u001b[A\n",
      "\n",
      "3nd loop:  39%|███▉      | 39/100 [00:04<00:06,  9.39it/s]\u001b[A\u001b[A\n",
      "\n",
      "3nd loop:  40%|████      | 40/100 [00:04<00:06,  9.40it/s]\u001b[A\u001b[A\n",
      "\n",
      "3nd loop:  41%|████      | 41/100 [00:04<00:06,  9.33it/s]\u001b[A\u001b[A\n",
      "\n",
      "3nd loop:  42%|████▏     | 42/100 [00:04<00:06,  9.39it/s]\u001b[A\u001b[A\n",
      "\n",
      "3nd loop:  43%|████▎     | 43/100 [00:04<00:06,  9.41it/s]\u001b[A\u001b[A\n",
      "\n",
      "3nd loop:  44%|████▍     | 44/100 [00:04<00:05,  9.38it/s]\u001b[A\u001b[A\n",
      "\n",
      "3nd loop:  45%|████▌     | 45/100 [00:04<00:05,  9.34it/s]\u001b[A\u001b[A\n",
      "\n",
      "3nd loop:  46%|████▌     | 46/100 [00:04<00:05,  9.25it/s]\u001b[A\u001b[A\n",
      "\n",
      "3nd loop:  47%|████▋     | 47/100 [00:05<00:05,  9.28it/s]\u001b[A\u001b[A\n",
      "\n",
      "3nd loop:  48%|████▊     | 48/100 [00:05<00:05,  9.20it/s]\u001b[A\u001b[A\n",
      "\n",
      "3nd loop:  49%|████▉     | 49/100 [00:05<00:05,  9.22it/s]\u001b[A\u001b[A\n",
      "\n",
      "3nd loop:  50%|█████     | 50/100 [00:05<00:05,  9.29it/s]\u001b[A\u001b[A\n",
      "\n",
      "3nd loop:  51%|█████     | 51/100 [00:05<00:05,  9.34it/s]\u001b[A\u001b[A\n",
      "\n",
      "3nd loop:  52%|█████▏    | 52/100 [00:05<00:05,  9.46it/s]\n",
      "                                               \u001b[A\n"
     ]
    },
    {
     "ename": "KeyboardInterrupt",
     "evalue": "",
     "output_type": "error",
     "traceback": [
      "\u001b[0;31m---------------------------------------------------------------------------\u001b[0m",
      "\u001b[0;31mKeyboardInterrupt\u001b[0m                         Traceback (most recent call last)",
      "\u001b[0;32m<ipython-input-28-8e195c31eec4>\u001b[0m in \u001b[0;36m<module>\u001b[0;34m()\u001b[0m\n\u001b[1;32m      2\u001b[0m \u001b[0;32mfor\u001b[0m \u001b[0mi\u001b[0m \u001b[0;32min\u001b[0m \u001b[0mtrange\u001b[0m\u001b[0;34m(\u001b[0m\u001b[0;36m10\u001b[0m\u001b[0;34m,\u001b[0m \u001b[0mdesc\u001b[0m\u001b[0;34m=\u001b[0m\u001b[0;34m'1st loop'\u001b[0m\u001b[0;34m)\u001b[0m\u001b[0;34m:\u001b[0m\u001b[0;34m\u001b[0m\u001b[0m\n\u001b[1;32m      3\u001b[0m     \u001b[0;32mfor\u001b[0m \u001b[0mj\u001b[0m \u001b[0;32min\u001b[0m \u001b[0mtrange\u001b[0m\u001b[0;34m(\u001b[0m\u001b[0;36m5\u001b[0m\u001b[0;34m,\u001b[0m \u001b[0mdesc\u001b[0m\u001b[0;34m=\u001b[0m\u001b[0;34m'2nd loop'\u001b[0m\u001b[0;34m,\u001b[0m \u001b[0mleave\u001b[0m\u001b[0;34m=\u001b[0m\u001b[0;32mFalse\u001b[0m\u001b[0;34m)\u001b[0m\u001b[0;34m:\u001b[0m\u001b[0;34m\u001b[0m\u001b[0m\n\u001b[0;32m----> 4\u001b[0;31m         \u001b[0;32mfor\u001b[0m \u001b[0mk\u001b[0m \u001b[0;32min\u001b[0m \u001b[0mtrange\u001b[0m\u001b[0;34m(\u001b[0m\u001b[0;36m100\u001b[0m\u001b[0;34m,\u001b[0m \u001b[0mdesc\u001b[0m\u001b[0;34m=\u001b[0m\u001b[0;34m'3nd loop'\u001b[0m\u001b[0;34m)\u001b[0m\u001b[0;34m:\u001b[0m\u001b[0;34m\u001b[0m\u001b[0m\n\u001b[0m\u001b[1;32m      5\u001b[0m             \u001b[0mtime\u001b[0m\u001b[0;34m.\u001b[0m\u001b[0msleep\u001b[0m\u001b[0;34m(\u001b[0m\u001b[0;36m0.1\u001b[0m\u001b[0;34m)\u001b[0m\u001b[0;34m\u001b[0m\u001b[0m\n",
      "\u001b[0;32m/usr/local/lib/python3.7/site-packages/tqdm/_tqdm.py\u001b[0m in \u001b[0;36m__iter__\u001b[0;34m(self)\u001b[0m\n\u001b[1;32m    960\u001b[0m                                 \u001b[0mself\u001b[0m\u001b[0;34m.\u001b[0m\u001b[0mmoveto\u001b[0m\u001b[0;34m(\u001b[0m\u001b[0mabs\u001b[0m\u001b[0;34m(\u001b[0m\u001b[0mself\u001b[0m\u001b[0;34m.\u001b[0m\u001b[0mpos\u001b[0m\u001b[0;34m)\u001b[0m\u001b[0;34m)\u001b[0m\u001b[0;34m\u001b[0m\u001b[0m\n\u001b[1;32m    961\u001b[0m                             \u001b[0;31m# Print bar update\u001b[0m\u001b[0;34m\u001b[0m\u001b[0;34m\u001b[0m\u001b[0m\n\u001b[0;32m--> 962\u001b[0;31m                             \u001b[0msp\u001b[0m\u001b[0;34m(\u001b[0m\u001b[0mself\u001b[0m\u001b[0;34m.\u001b[0m\u001b[0m__repr__\u001b[0m\u001b[0;34m(\u001b[0m\u001b[0;34m)\u001b[0m\u001b[0;34m)\u001b[0m\u001b[0;34m\u001b[0m\u001b[0m\n\u001b[0m\u001b[1;32m    963\u001b[0m                             \u001b[0;32mif\u001b[0m \u001b[0mself\u001b[0m\u001b[0;34m.\u001b[0m\u001b[0mpos\u001b[0m\u001b[0;34m:\u001b[0m\u001b[0;34m\u001b[0m\u001b[0m\n\u001b[1;32m    964\u001b[0m                                 \u001b[0mself\u001b[0m\u001b[0;34m.\u001b[0m\u001b[0mmoveto\u001b[0m\u001b[0;34m(\u001b[0m\u001b[0;34m-\u001b[0m\u001b[0mabs\u001b[0m\u001b[0;34m(\u001b[0m\u001b[0mself\u001b[0m\u001b[0;34m.\u001b[0m\u001b[0mpos\u001b[0m\u001b[0;34m)\u001b[0m\u001b[0;34m)\u001b[0m\u001b[0;34m\u001b[0m\u001b[0m\n",
      "\u001b[0;32m/usr/local/lib/python3.7/site-packages/tqdm/_tqdm.py\u001b[0m in \u001b[0;36mprint_status\u001b[0;34m(s)\u001b[0m\n\u001b[1;32m    191\u001b[0m         \u001b[0;32mdef\u001b[0m \u001b[0mprint_status\u001b[0m\u001b[0;34m(\u001b[0m\u001b[0ms\u001b[0m\u001b[0;34m)\u001b[0m\u001b[0;34m:\u001b[0m\u001b[0;34m\u001b[0m\u001b[0m\n\u001b[1;32m    192\u001b[0m             \u001b[0mlen_s\u001b[0m \u001b[0;34m=\u001b[0m \u001b[0mlen\u001b[0m\u001b[0;34m(\u001b[0m\u001b[0ms\u001b[0m\u001b[0;34m)\u001b[0m\u001b[0;34m\u001b[0m\u001b[0m\n\u001b[0;32m--> 193\u001b[0;31m             \u001b[0mfp_write\u001b[0m\u001b[0;34m(\u001b[0m\u001b[0;34m'\\r'\u001b[0m \u001b[0;34m+\u001b[0m \u001b[0ms\u001b[0m \u001b[0;34m+\u001b[0m \u001b[0;34m(\u001b[0m\u001b[0;34m' '\u001b[0m \u001b[0;34m*\u001b[0m \u001b[0mmax\u001b[0m\u001b[0;34m(\u001b[0m\u001b[0mlast_len\u001b[0m\u001b[0;34m[\u001b[0m\u001b[0;36m0\u001b[0m\u001b[0;34m]\u001b[0m \u001b[0;34m-\u001b[0m \u001b[0mlen_s\u001b[0m\u001b[0;34m,\u001b[0m \u001b[0;36m0\u001b[0m\u001b[0;34m)\u001b[0m\u001b[0;34m)\u001b[0m\u001b[0;34m)\u001b[0m\u001b[0;34m\u001b[0m\u001b[0m\n\u001b[0m\u001b[1;32m    194\u001b[0m             \u001b[0mlast_len\u001b[0m\u001b[0;34m[\u001b[0m\u001b[0;36m0\u001b[0m\u001b[0;34m]\u001b[0m \u001b[0;34m=\u001b[0m \u001b[0mlen_s\u001b[0m\u001b[0;34m\u001b[0m\u001b[0m\n\u001b[1;32m    195\u001b[0m \u001b[0;34m\u001b[0m\u001b[0m\n",
      "\u001b[0;32m/usr/local/lib/python3.7/site-packages/tqdm/_tqdm.py\u001b[0m in \u001b[0;36mfp_write\u001b[0;34m(s)\u001b[0m\n\u001b[1;32m    185\u001b[0m         \u001b[0;32mdef\u001b[0m \u001b[0mfp_write\u001b[0m\u001b[0;34m(\u001b[0m\u001b[0ms\u001b[0m\u001b[0;34m)\u001b[0m\u001b[0;34m:\u001b[0m\u001b[0;34m\u001b[0m\u001b[0m\n\u001b[1;32m    186\u001b[0m             \u001b[0mfp\u001b[0m\u001b[0;34m.\u001b[0m\u001b[0mwrite\u001b[0m\u001b[0;34m(\u001b[0m\u001b[0m_unicode\u001b[0m\u001b[0;34m(\u001b[0m\u001b[0ms\u001b[0m\u001b[0;34m)\u001b[0m\u001b[0;34m)\u001b[0m\u001b[0;34m\u001b[0m\u001b[0m\n\u001b[0;32m--> 187\u001b[0;31m             \u001b[0mfp_flush\u001b[0m\u001b[0;34m(\u001b[0m\u001b[0;34m)\u001b[0m\u001b[0;34m\u001b[0m\u001b[0m\n\u001b[0m\u001b[1;32m    188\u001b[0m \u001b[0;34m\u001b[0m\u001b[0m\n\u001b[1;32m    189\u001b[0m         \u001b[0mlast_len\u001b[0m \u001b[0;34m=\u001b[0m \u001b[0;34m[\u001b[0m\u001b[0;36m0\u001b[0m\u001b[0;34m]\u001b[0m\u001b[0;34m\u001b[0m\u001b[0m\n",
      "\u001b[0;32m/usr/local/lib/python3.7/site-packages/ipykernel/iostream.py\u001b[0m in \u001b[0;36mflush\u001b[0;34m(self)\u001b[0m\n\u001b[1;32m    347\u001b[0m                 \u001b[0mself\u001b[0m\u001b[0;34m.\u001b[0m\u001b[0mpub_thread\u001b[0m\u001b[0;34m.\u001b[0m\u001b[0mschedule\u001b[0m\u001b[0;34m(\u001b[0m\u001b[0mevt\u001b[0m\u001b[0;34m.\u001b[0m\u001b[0mset\u001b[0m\u001b[0;34m)\u001b[0m\u001b[0;34m\u001b[0m\u001b[0m\n\u001b[1;32m    348\u001b[0m                 \u001b[0;31m# and give a timeout to avoid\u001b[0m\u001b[0;34m\u001b[0m\u001b[0;34m\u001b[0m\u001b[0m\n\u001b[0;32m--> 349\u001b[0;31m                 \u001b[0;32mif\u001b[0m \u001b[0;32mnot\u001b[0m \u001b[0mevt\u001b[0m\u001b[0;34m.\u001b[0m\u001b[0mwait\u001b[0m\u001b[0;34m(\u001b[0m\u001b[0mself\u001b[0m\u001b[0;34m.\u001b[0m\u001b[0mflush_timeout\u001b[0m\u001b[0;34m)\u001b[0m\u001b[0;34m:\u001b[0m\u001b[0;34m\u001b[0m\u001b[0m\n\u001b[0m\u001b[1;32m    350\u001b[0m                     \u001b[0;31m# write directly to __stderr__ instead of warning because\u001b[0m\u001b[0;34m\u001b[0m\u001b[0;34m\u001b[0m\u001b[0m\n\u001b[1;32m    351\u001b[0m                     \u001b[0;31m# if this is happening sys.stderr may be the problem.\u001b[0m\u001b[0;34m\u001b[0m\u001b[0;34m\u001b[0m\u001b[0m\n",
      "\u001b[0;32m/usr/local/Cellar/python/3.7.0/Frameworks/Python.framework/Versions/3.7/lib/python3.7/threading.py\u001b[0m in \u001b[0;36mwait\u001b[0;34m(self, timeout)\u001b[0m\n\u001b[1;32m    550\u001b[0m             \u001b[0msignaled\u001b[0m \u001b[0;34m=\u001b[0m \u001b[0mself\u001b[0m\u001b[0;34m.\u001b[0m\u001b[0m_flag\u001b[0m\u001b[0;34m\u001b[0m\u001b[0m\n\u001b[1;32m    551\u001b[0m             \u001b[0;32mif\u001b[0m \u001b[0;32mnot\u001b[0m \u001b[0msignaled\u001b[0m\u001b[0;34m:\u001b[0m\u001b[0;34m\u001b[0m\u001b[0m\n\u001b[0;32m--> 552\u001b[0;31m                 \u001b[0msignaled\u001b[0m \u001b[0;34m=\u001b[0m \u001b[0mself\u001b[0m\u001b[0;34m.\u001b[0m\u001b[0m_cond\u001b[0m\u001b[0;34m.\u001b[0m\u001b[0mwait\u001b[0m\u001b[0;34m(\u001b[0m\u001b[0mtimeout\u001b[0m\u001b[0;34m)\u001b[0m\u001b[0;34m\u001b[0m\u001b[0m\n\u001b[0m\u001b[1;32m    553\u001b[0m             \u001b[0;32mreturn\u001b[0m \u001b[0msignaled\u001b[0m\u001b[0;34m\u001b[0m\u001b[0m\n\u001b[1;32m    554\u001b[0m \u001b[0;34m\u001b[0m\u001b[0m\n",
      "\u001b[0;32m/usr/local/Cellar/python/3.7.0/Frameworks/Python.framework/Versions/3.7/lib/python3.7/threading.py\u001b[0m in \u001b[0;36mwait\u001b[0;34m(self, timeout)\u001b[0m\n\u001b[1;32m    298\u001b[0m             \u001b[0;32melse\u001b[0m\u001b[0;34m:\u001b[0m\u001b[0;34m\u001b[0m\u001b[0m\n\u001b[1;32m    299\u001b[0m                 \u001b[0;32mif\u001b[0m \u001b[0mtimeout\u001b[0m \u001b[0;34m>\u001b[0m \u001b[0;36m0\u001b[0m\u001b[0;34m:\u001b[0m\u001b[0;34m\u001b[0m\u001b[0m\n\u001b[0;32m--> 300\u001b[0;31m                     \u001b[0mgotit\u001b[0m \u001b[0;34m=\u001b[0m \u001b[0mwaiter\u001b[0m\u001b[0;34m.\u001b[0m\u001b[0macquire\u001b[0m\u001b[0;34m(\u001b[0m\u001b[0;32mTrue\u001b[0m\u001b[0;34m,\u001b[0m \u001b[0mtimeout\u001b[0m\u001b[0;34m)\u001b[0m\u001b[0;34m\u001b[0m\u001b[0m\n\u001b[0m\u001b[1;32m    301\u001b[0m                 \u001b[0;32melse\u001b[0m\u001b[0;34m:\u001b[0m\u001b[0;34m\u001b[0m\u001b[0m\n\u001b[1;32m    302\u001b[0m                     \u001b[0mgotit\u001b[0m \u001b[0;34m=\u001b[0m \u001b[0mwaiter\u001b[0m\u001b[0;34m.\u001b[0m\u001b[0macquire\u001b[0m\u001b[0;34m(\u001b[0m\u001b[0;32mFalse\u001b[0m\u001b[0;34m)\u001b[0m\u001b[0;34m\u001b[0m\u001b[0m\n",
      "\u001b[0;31mKeyboardInterrupt\u001b[0m: "
     ]
    }
   ],
   "source": [
    "import time\n",
    "for i in trange(10, desc='1st loop'):\n",
    "    for j in trange(5, desc='2nd loop', leave=False):\n",
    "        for k in trange(100, desc='3nd loop'):\n",
    "            time.sleep(0.1)"
   ]
  },
  {
   "cell_type": "code",
   "execution_count": null,
   "metadata": {
    "collapsed": true
   },
   "outputs": [],
   "source": []
  }
 ],
 "metadata": {
  "kernelspec": {
   "display_name": "Python 3",
   "language": "python",
   "name": "python3"
  },
  "language_info": {
   "codemirror_mode": {
    "name": "ipython",
    "version": 3
   },
   "file_extension": ".py",
   "mimetype": "text/x-python",
   "name": "python",
   "nbconvert_exporter": "python",
   "pygments_lexer": "ipython3",
   "version": "3.6.3"
  },
  "latex_envs": {
   "LaTeX_envs_menu_present": true,
   "autocomplete": true,
   "bibliofile": "biblio.bib",
   "cite_by": "apalike",
   "current_citInitial": 1,
   "eqLabelWithNumbers": true,
   "eqNumInitial": 1,
   "hotkeys": {
    "equation": "Ctrl-E",
    "itemize": "Ctrl-I"
   },
   "labels_anchors": false,
   "latex_user_defs": false,
   "report_style_numbering": false,
   "user_envs_cfg": false
  }
 },
 "nbformat": 4,
 "nbformat_minor": 2
}
