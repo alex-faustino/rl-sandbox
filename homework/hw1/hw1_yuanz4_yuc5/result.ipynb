{
 "cells": [
  {
   "cell_type": "code",
   "execution_count": 1,
   "metadata": {
    "collapsed": true
   },
   "outputs": [],
   "source": [
    "import gym\n",
    "import random\n",
    "import numpy as np\n",
    "import time"
   ]
  },
  {
   "cell_type": "markdown",
   "metadata": {},
   "source": [
    "# 1.Grid World"
   ]
  },
  {
   "cell_type": "code",
   "execution_count": 2,
   "metadata": {},
   "outputs": [
    {
     "name": "stdout",
     "output_type": "stream",
     "text": [
      "\u001b[33mWARN: Environment '<class 'gym.envs.grid_world.grid_world.GridWorldEnv'>' has deprecated methods '_step' and '_reset' rather than 'step' and 'reset'. Compatibility code invoked. Set _gym_disable_underscore_compat = True to disable this behavior.\u001b[0m\n",
      "initial state = [1 4]\n",
      "time = 0, action = left, goto = [1 3], reward = 0\n",
      "time = 1, action = left, goto = [1 2], reward = 0\n",
      "time = 2, action = left, goto = [1 1], reward = 0\n",
      "time = 3, action = left, goto = [1 0], reward = 0\n",
      "time = 4, action = left, goto = [1 0], reward = -1.0\n",
      "time = 5, action = up, goto = [0 0], reward = 0\n",
      "time = 6, action = up, goto = [0 0], reward = -1.0\n",
      "time = 7, action = right, goto = [0 1], reward = 0\n",
      "time = 8, action = up, goto = [4 1], reward = 10\n",
      "time = 9, action = up, goto = [3 1], reward = 0\n",
      "time = 10, action = up, goto = [2 1], reward = 0\n",
      "time = 11, action = up, goto = [1 1], reward = 0\n",
      "time = 12, action = up, goto = [0 1], reward = 0\n",
      "time = 13, action = up, goto = [4 1], reward = 10\n",
      "time = 14, action = up, goto = [3 1], reward = 0\n",
      "time = 15, action = down, goto = [4 1], reward = 0\n",
      "time = 16, action = down, goto = [4 1], reward = -1.0\n",
      "time = 17, action = left, goto = [4 0], reward = 0\n",
      "time = 18, action = left, goto = [4 0], reward = -1.0\n",
      "time = 19, action = left, goto = [4 0], reward = -1.0\n"
     ]
    }
   ],
   "source": [
    "env = gym.make('GridWorld-v0')\n",
    "env = env.unwrapped\n",
    "env.random(True)\n",
    "observation = env.reset()\n",
    "action_map = {0:'left', 1:'up', 2:'right', 3:'down'}\n",
    "print('initial state =', observation)\n",
    "for t in range(20):\n",
    "#     env.render('human')\n",
    "    action = env.action()\n",
    "    observation, reward, done, info = env.step(action)\n",
    "#     time.sleep(0.5)\n",
    "    print('time = {}, action = {}, goto = {}, reward = {}'.format(\n",
    "        t, action_map[action], observation, reward))"
   ]
  },
  {
   "cell_type": "markdown",
   "metadata": {},
   "source": [
    "### Example Trajectories\n",
    "<img align=left src=\"img/g_1.PNG\" width=\"45%\">\n",
    "\n",
    "<img align=right src=\"img/g_2.PNG\" width=\"45%\">"
   ]
  },
  {
   "cell_type": "markdown",
   "metadata": {},
   "source": [
    "# 2.Drop"
   ]
  },
  {
   "cell_type": "code",
   "execution_count": 3,
   "metadata": {},
   "outputs": [
    {
     "name": "stdout",
     "output_type": "stream",
     "text": [
      "initial state = 5.0\n",
      "time = 0, new_drop = 1, goto = 4.0, reward = 0\n",
      "time = 1, new_drop = -1, goto = 3.0, reward = 0\n",
      "time = 2, new_drop = -1, goto = 2.0, reward = 0\n",
      "time = 3, new_drop = 3, goto = 1.0, reward = 0\n",
      "time = 4, new_drop = -1, goto = 1.0, reward = 0\n",
      "time = 5, new_drop = -1, goto = 1.0, reward = 0\n",
      "time = 6, new_drop = 3, goto = 1.0, reward = 0\n",
      "time = 7, new_drop = -1, goto = 1.0, reward = 0\n",
      "time = 8, new_drop = -1, goto = 1.0, reward = 0\n",
      "time = 9, new_drop = 6, goto = 1.0, reward = 0\n",
      "time = 10, new_drop = -1, goto = 1.0, reward = 1\n",
      "time = 11, new_drop = -1, goto = 2.0, reward = 0\n",
      "time = 12, new_drop = 7, goto = 3.0, reward = 0\n",
      "time = 13, new_drop = -1, goto = 3.0, reward = 1\n",
      "time = 14, new_drop = -1, goto = 3.0, reward = 0\n",
      "time = 15, new_drop = 6, goto = 3.0, reward = 0\n",
      "time = 16, new_drop = -1, goto = 3.0, reward = 1\n",
      "time = 17, new_drop = -1, goto = 4.0, reward = 0\n",
      "time = 18, new_drop = 9, goto = 5.0, reward = 0\n",
      "time = 19, new_drop = -1, goto = 6.0, reward = -1\n"
     ]
    }
   ],
   "source": [
    "env = gym.make('Drop-v0')\n",
    "env = env.unwrapped\n",
    "observation = env.reset()\n",
    "print('initial state =', observation)\n",
    "for t in range(20):\n",
    "#     env.render('human')\n",
    "    action = env.new_drop(3)\n",
    "    observation, reward, done, info = env.step(action)\n",
    "#     time.sleep(0.5)\n",
    "    print('time = {}, new_drop = {}, goto = {}, reward = {}'.format(\n",
    "        t, action, observation, reward))"
   ]
  },
  {
   "cell_type": "markdown",
   "metadata": {},
   "source": [
    "### Example Trajectories\n",
    "<img align=left src=\"img/d_1.PNG\" width=\"45%\">\n",
    "\n",
    "<img align=right src=\"img/d_2.PNG\" width=\"45%\">"
   ]
  },
  {
   "cell_type": "code",
   "execution_count": null,
   "metadata": {
    "collapsed": true
   },
   "outputs": [],
   "source": []
  }
 ],
 "metadata": {
  "kernelspec": {
   "display_name": "Python 3",
   "language": "python",
   "name": "python3"
  },
  "language_info": {
   "codemirror_mode": {
    "name": "ipython",
    "version": 3
   },
   "file_extension": ".py",
   "mimetype": "text/x-python",
   "name": "python",
   "nbconvert_exporter": "python",
   "pygments_lexer": "ipython3",
   "version": "3.6.3"
  }
 },
 "nbformat": 4,
 "nbformat_minor": 2
}
