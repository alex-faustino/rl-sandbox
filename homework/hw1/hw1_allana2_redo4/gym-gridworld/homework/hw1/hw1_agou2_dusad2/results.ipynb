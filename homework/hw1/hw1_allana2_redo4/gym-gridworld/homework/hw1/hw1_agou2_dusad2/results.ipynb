{
 "cells": [
  {
   "cell_type": "code",
   "execution_count": 2,
   "metadata": {
    "collapsed": true
   },
   "outputs": [],
   "source": [
    "# %matplotlib inline\n",
    "import matplotlib\n",
    "import matplotlib.pyplot as plt"
   ]
  },
  {
   "cell_type": "code",
   "execution_count": 3,
   "metadata": {
    "collapsed": true
   },
   "outputs": [],
   "source": [
    "from gridworld import GridWorld\n",
    "from acrobot import AcrobotEnv\n",
    "from basicboxing import BoxingEnv\n",
    "\n",
    "import gym"
   ]
  },
  {
   "cell_type": "code",
   "execution_count": 13,
   "metadata": {
    "collapsed": true
   },
   "outputs": [],
   "source": [
    "def showImagesHorizontally(list_of_images):\n",
    "    fig = plt.figure(figsize=(40, 30))\n",
    "    number_of_imgs = len(list_of_images)\n",
    "    for i in range(number_of_imgs):\n",
    "        a=fig.add_subplot(1,number_of_imgs,i+1)\n",
    "        image = list_of_images[i]\n",
    "        plt.imshow(image)\n",
    "        plt.axis('off')"
   ]
  },
  {
   "cell_type": "markdown",
   "metadata": {},
   "source": [
    "## Gridworld"
   ]
  },
  {
   "cell_type": "code",
   "execution_count": null,
   "metadata": {
    "scrolled": false
   },
   "outputs": [],
   "source": [
    "env = GridWorld(is_hard=True)\n",
    "env.reset()\n",
    "imgs = []\n",
    "for _ in range(5):\n",
    "    imgs.append(env.render())\n",
    "    env.step(env.action_space.sample()) # take a random action"
   ]
  },
  {
   "cell_type": "code",
   "execution_count": 16,
   "metadata": {},
   "outputs": [
    {
     "data": {
      "image/png": "[encoded data removed]",
      "text/plain": [
       "<matplotlib.figure.Figure at 0x118140f28>"
      ]
     },
     "metadata": {},
     "output_type": "display_data"
    }
   ],
   "source": [
    "%matplotlib inline\n",
    "showImagesHorizontally(imgs)"
   ]
  },
  {
   "cell_type": "markdown",
   "metadata": {},
   "source": [
    "## Acrobot"
   ]
  },
  {
   "cell_type": "code",
   "execution_count": 17,
   "metadata": {},
   "outputs": [
    {
     "name": "stdout",
     "output_type": "stream",
     "text": [
      "\u001b[33mWARN: gym.spaces.Box autodetected dtype as <class 'numpy.float32'>. Please provide explicit dtype.\u001b[0m\n",
      "\u001b[33mWARN: Could not seed environment <AcrobotEnv instance>\u001b[0m\n"
     ]
    }
   ],
   "source": [
    "env = AcrobotEnv()\n",
    "env.reset()\n",
    "for _ in range(1000):\n",
    "    imgs.append(env.render())\n",
    "    env.step(env.action_space.sample()) # take a random action"
   ]
  },
  {
   "cell_type": "markdown",
   "metadata": {},
   "source": [
    "## 1D Boxing"
   ]
  },
  {
   "cell_type": "code",
   "execution_count": 6,
   "metadata": {
    "scrolled": false
   },
   "outputs": [
    {
     "name": "stdout",
     "output_type": "stream",
     "text": [
      "0 {'p1': 3, 'p2': 1, 'h1': 5, 'h2': 5} (0, 0) 0 0\n",
      "1 {'p1': 3, 'p2': 1, 'h1': 5, 'h2': 5} (0, 0) 0 0\n",
      "2 {'p1': 3, 'p2': 1, 'h1': 5, 'h2': 5} (0, 0) 0 0\n",
      "3 {'p1': 3, 'p2': 0, 'h1': 5, 'h2': 5} (0, 0) 0 0\n",
      "4 {'p1': 4, 'p2': 0, 'h1': 5, 'h2': 5} (0, 0) 0 0\n",
      "5 {'p1': 4, 'p2': 0, 'h1': 5, 'h2': 5} (-1, 0) -1 0\n",
      "6 {'p1': 4, 'p2': 0, 'h1': 5, 'h2': 5} (0, 0) -1 0\n",
      "7 {'p1': 4, 'p2': 0, 'h1': 5, 'h2': 5} (-1, 0) -2 0\n",
      "8 {'p1': 4, 'p2': 0, 'h1': 5, 'h2': 5} (0, -1) -2 -1\n",
      "9 {'p1': 4, 'p2': 0, 'h1': 5, 'h2': 5} (0, 0) -2 -1\n"
     ]
    }
   ],
   "source": [
    "env = BoxingEnv()\n",
    "env.reset()\n",
    "net_r1, net_r2 = 0, 0\n",
    "for i in range(10):\n",
    "    obs, reward, terminal, _ = env.step((env.action_space.sample(), env.action_space.sample()))\n",
    "    r1, r2 = reward\n",
    "    net_r1 += r1\n",
    "    net_r2 += r2\n",
    "    print(i, obs, reward, net_r1, net_r2)\n",
    "    if terminal:\n",
    "        break"
   ]
  },
  {
   "cell_type": "code",
   "execution_count": null,
   "metadata": {
    "collapsed": true
   },
   "outputs": [],
   "source": []
  }
 ],
 "metadata": {
  "kernelspec": {
   "display_name": "Python 3",
   "language": "python",
   "name": "python3"
  },
  "language_info": {
   "codemirror_mode": {
    "name": "ipython",
    "version": 3
   },
   "file_extension": ".py",
   "mimetype": "text/x-python",
   "name": "python",
   "nbconvert_exporter": "python",
   "pygments_lexer": "ipython3",
   "version": "3.6.3"
  },
  "latex_envs": {
   "LaTeX_envs_menu_present": true,
   "autocomplete": true,
   "bibliofile": "biblio.bib",
   "cite_by": "apalike",
   "current_citInitial": 1,
   "eqLabelWithNumbers": true,
   "eqNumInitial": 1,
   "hotkeys": {
    "equation": "Ctrl-E",
    "itemize": "Ctrl-I"
   },
   "labels_anchors": false,
   "latex_user_defs": false,
   "report_style_numbering": false,
   "user_envs_cfg": false
  }
 },
 "nbformat": 4,
 "nbformat_minor": 2
}
