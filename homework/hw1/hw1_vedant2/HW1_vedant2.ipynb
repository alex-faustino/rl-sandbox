{
 "cells": [
  {
   "cell_type": "markdown",
   "metadata": {},
   "source": [
    "# AE Reinforcement learning - Homework 1"
   ]
  },
  {
   "cell_type": "markdown",
   "metadata": {},
   "source": [
    "## GridWorld"
   ]
  },
  {
   "cell_type": "markdown",
   "metadata": {},
   "source": [
    "## Acrobot"
   ]
  },
  {
   "cell_type": "markdown",
   "metadata": {},
   "source": [
    "## Satellite attitude simulator"
   ]
  },
  {
   "cell_type": "code",
   "execution_count": 1,
   "metadata": {},
   "outputs": [
    {
     "name": "stdout",
     "output_type": "stream",
     "text": [
      "\n",
      "Satellite Lat Lon Alt:  -51.48337475911235 90.7177284205493 223.01517125078698 \n",
      "\n",
      "\n",
      "Satellite Position (normalized): [ 2502.91529395  3271.29548906 -5141.70237969] \n",
      "\n",
      "\n",
      "Satellite Position:  [2507.381362560922, 3268.4934320833263, -5141.3076520979175] \n",
      "\n",
      ">>> WARNING! Pitch is more than 90 deg. Results may not be accurate\n",
      "[ 0.65328148 -0.27059805  0.65328148  0.27059805]\n",
      "[ 0. 90.  0.]\n",
      "[[ 4.32978028e-17  7.07106781e-01 -7.07106781e-01]\n",
      " [-4.32978028e-17  7.07106781e-01  7.07106781e-01]\n",
      " [ 1.00000000e+00  0.00000000e+00  6.12323400e-17]] \n",
      "\n",
      "[[ 8.32667268e-17  0.00000000e+00 -1.00000000e+00]\n",
      " [-7.07106781e-01  7.07106781e-01  0.00000000e+00]\n",
      " [ 7.07106781e-01  7.07106781e-01  8.32667268e-17]] \n",
      "\n",
      "[[ 4.32978028e-17  4.32978028e-17 -1.00000000e+00]\n",
      " [-7.07106781e-01  7.07106781e-01  0.00000000e+00]\n",
      " [ 7.07106781e-01  7.07106781e-01  6.12323400e-17]] \n",
      "\n",
      "0\n",
      "1\n",
      "2\n",
      "3\n",
      "4\n",
      "Elapsed time: 3.368 s\n"
     ]
    }
   ],
   "source": [
    "import attitudeDynamics\n",
    "%run attitudeDynamics/pss_main.py\n"
   ]
  },
  {
   "cell_type": "code",
   "execution_count": 1,
   "metadata": {},
   "outputs": [
    {
     "name": "stdout",
     "output_type": "stream",
     "text": [
      "pygame 1.9.4\n",
      "Hello from the pygame community. https://www.pygame.org/contribute.html\n"
     ]
    }
   ],
   "source": [
    "%run attitudeDynamics/attitude_viz.py"
   ]
  },
  {
   "cell_type": "code",
   "execution_count": 8,
   "metadata": {},
   "outputs": [
    {
     "ename": "SystemExit",
     "evalue": "",
     "output_type": "error",
     "traceback": [
      "An exception has occurred, use %tb to see the full traceback.\n",
      "\u001b[1;31mSystemExit\u001b[0m\n"
     ]
    },
    {
     "name": "stderr",
     "output_type": "stream",
     "text": [
      "C:\\Users\\Vedant\\Anaconda3\\envs\\RL\\lib\\site-packages\\IPython\\core\\interactiveshell.py:2969: UserWarning: To exit: use 'exit', 'quit', or Ctrl-D.\n",
      "  warn(\"To exit: use 'exit', 'quit', or Ctrl-D.\", stacklevel=1)\n"
     ]
    }
   ],
   "source": [
    "# %load attitudeDynamics/attitude_viz.py\n",
    "\n",
    "\"\"\"\n",
    "Created on Wed Sep  5 01:16:54 2018\n",
    "\n",
    "@author: Vedant\n",
    "\"\"\"\n",
    "\n",
    "\"\"\"\n",
    " Simulation of a rotating 3D Cube\n",
    " Developed by Leonel Machava <leonelmachava@gmail.com>\n",
    " \n",
    "<a class=\"vglnk\" href=\"http://codeNtronix.com\" rel=\"nofollow\"><span>http</span><span>://</span><span>codeNtronix</span><span>.</span><span>com</span></a>\n",
    " \n",
    "\"\"\"\n",
    "import sys, math, pygame\n",
    "from operator import itemgetter\n",
    " \n",
    "class Point3D:\n",
    "    def __init__(self, x = 0, y = 0, z = 0):\n",
    "        self.x, self.y, self.z = float(x), float(y), float(z)\n",
    " \n",
    "    def rotateX(self, angle):\n",
    "        \"\"\" Rotates the point around the X axis by the given angle in degrees. \"\"\"\n",
    "        rad = angle * math.pi / 180\n",
    "        cosa = math.cos(rad)\n",
    "        sina = math.sin(rad)\n",
    "        y = self.y * cosa - self.z * sina\n",
    "        z = self.y * sina + self.z * cosa\n",
    "        return Point3D(self.x, y, z)\n",
    " \n",
    "    def rotateY(self, angle):\n",
    "        \"\"\" Rotates the point around the Y axis by the given angle in degrees. \"\"\"\n",
    "        rad = angle * math.pi / 180\n",
    "        cosa = math.cos(rad)\n",
    "        sina = math.sin(rad)\n",
    "        z = self.z * cosa - self.x * sina\n",
    "        x = self.z * sina + self.x * cosa\n",
    "        return Point3D(x, self.y, z)\n",
    " \n",
    "    def rotateZ(self, angle):\n",
    "        \"\"\" Rotates the point around the Z axis by the given angle in degrees. \"\"\"\n",
    "        rad = angle * math.pi / 180\n",
    "        cosa = math.cos(rad)\n",
    "        sina = math.sin(rad)\n",
    "        x = self.x * cosa - self.y * sina\n",
    "        y = self.x * sina + self.y * cosa\n",
    "        return Point3D(x, y, self.z)\n",
    " \n",
    "    def project(self, win_width, win_height, fov, viewer_distance):\n",
    "        \"\"\" Transforms this 3D point to 2D using a perspective projection. \"\"\"\n",
    "        factor = fov / (viewer_distance + self.z)\n",
    "        x = self.x * factor + win_width / 2\n",
    "        y = -self.y * factor + win_height / 2\n",
    "        return Point3D(x, y, self.z)\n",
    " \n",
    "class Simulation:\n",
    "    def __init__(self, win_width = 640, win_height = 480):\n",
    "        pygame.init()\n",
    " \n",
    "        self.screen = pygame.display.set_mode((win_width, win_height))\n",
    "        pygame.display.set_caption(\"Simulation of a rotating 3D Cube\")\n",
    " \n",
    "        self.clock = pygame.time.Clock()\n",
    " \n",
    "        self.vertices = [\n",
    "            Point3D(-1,1,-1),\n",
    "            Point3D(1,1,-1),\n",
    "            Point3D(1,-1,-1),\n",
    "            Point3D(-1,-1,-1),\n",
    "            Point3D(-1,1,1),\n",
    "            Point3D(1,1,1),\n",
    "            Point3D(1,-1,1),\n",
    "            Point3D(-1,-1,1)\n",
    "        ]\n",
    " \n",
    "        # Define the vertices that compose each of the 6 faces. These numbers are\n",
    "        # indices to the vertices list defined above.\n",
    "        self.faces  = [(0,1,2,3),(1,5,6,2),(5,4,7,6),(4,0,3,7),(0,4,5,1),(3,2,6,7)]\n",
    " \n",
    "        # Define colors for each face\n",
    "        self.colors = [(255,0,255),(255,0,0),(0,255,0),(0,0,255),(0,255,255),(255,255,0)]\n",
    " \n",
    "        self.angle = 0\n",
    " \n",
    "    def run(self):\n",
    "        \"\"\" Main Loop \"\"\"\n",
    "        while 1:\n",
    "            for event in pygame.event.get():\n",
    "                if event.type == pygame.QUIT:\n",
    "                    pygame.quit()\n",
    "                    sys.exit()\n",
    " \n",
    "            self.clock.tick(50)\n",
    "            self.screen.fill((0,32,0))\n",
    " \n",
    "            # It will hold transformed vertices.\n",
    "            t = []\n",
    " \n",
    "            for v in self.vertices:\n",
    "                # Rotate the point around X axis, then around Y axis, and finally around Z axis.\n",
    "                r = v.rotateX(self.angle).rotateY(self.angle).rotateZ(self.angle)\n",
    "                # Transform the point from 3D to 2D\n",
    "                p = r.project(self.screen.get_width(), self.screen.get_height(), 256, 4)\n",
    "                # Put the point in the list of transformed vertices\n",
    "                t.append(p)\n",
    " \n",
    "            # Calculate the average Z values of each face.\n",
    "            avg_z = []\n",
    "            i = 0\n",
    "            for f in self.faces:\n",
    "                z = (t[f[0]].z + t[f[1]].z + t[f[2]].z + t[f[3]].z) / 4.0\n",
    "                avg_z.append([i,z])\n",
    "                i = i + 1\n",
    " \n",
    "            # Draw the faces using the Painter's algorithm:\n",
    "            # Distant faces are drawn before the closer ones.\n",
    "            for tmp in sorted(avg_z,key=itemgetter(1),reverse=True):\n",
    "                face_index = tmp[0]\n",
    "                f = self.faces[face_index]\n",
    "                pointlist = [(t[f[0]].x, t[f[0]].y), (t[f[1]].x, t[f[1]].y),\n",
    "                             (t[f[1]].x, t[f[1]].y), (t[f[2]].x, t[f[2]].y),\n",
    "                             (t[f[2]].x, t[f[2]].y), (t[f[3]].x, t[f[3]].y),\n",
    "                             (t[f[3]].x, t[f[3]].y), (t[f[0]].x, t[f[0]].y)]\n",
    "                pygame.draw.polygon(self.screen,self.colors[face_index],pointlist)\n",
    " \n",
    "            self.angle += 1\n",
    " \n",
    "            pygame.display.flip()\n",
    " \n",
    "if __name__ == \"__main__\":\n",
    "    Simulation().run()"
   ]
  }
 ],
 "metadata": {
  "kernelspec": {
   "display_name": "Python 3",
   "language": "python",
   "name": "python3"
  },
  "language_info": {
   "codemirror_mode": {
    "name": "ipython",
    "version": 3
   },
   "file_extension": ".py",
   "mimetype": "text/x-python",
   "name": "python",
   "nbconvert_exporter": "python",
   "pygments_lexer": "ipython3",
   "version": "3.6.6"
  }
 },
 "nbformat": 4,
 "nbformat_minor": 2
}
