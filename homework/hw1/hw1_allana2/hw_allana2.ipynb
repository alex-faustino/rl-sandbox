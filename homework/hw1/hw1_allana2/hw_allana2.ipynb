{
 "cells": [
  {
   "cell_type": "markdown",
   "metadata": {},
   "source": [
    "# Notes for Reader(s)\n",
    "The below verifies that openai gym is properly installed. \n",
    "\n",
    "Note that one has to restart kernel and clear outputs to get rid of openai gym windows on my computer."
   ]
  },
  {
   "cell_type": "code",
   "execution_count": null,
   "metadata": {
    "collapsed": false
   },
   "outputs": [],
   "source": [
    "import gym\n",
    "import gym.spaces\n",
    "env = gym.make('CartPole-v0')\n",
    "env.reset()\n",
    "for _ in range(1000):\n",
    "    env.render()\n",
    "    env.step(env.action_space.sample()) # take a random action"
   ]
  },
  {
   "cell_type": "markdown",
   "metadata": {
    "collapsed": true
   },
   "source": [
    "# Creating Environments Within OpenAI Gym\n",
    "\n",
    "## 1) Gridworld\n",
    "[Assignment instructions](https://github.com/compdyn/598rl/wiki/HW1#what-to-do) state to implement Example 3.5 from [Reinforcement Learning: An Introduction](http://incompleteideas.net/book/the-book-2nd.html).\n",
    "### Assumptions Allowed/Required\n",
    "* Agent is initialized in a uniformly random location in the gridworld for each trial (monte carlo?).\n",
    "\n",
    "## 2) Classic Control System\n",
    "[Assignment instructions](https://github.com/compdyn/598rl/wiki/HW1#what-to-do) state to implement **acrobot**, and to reference equations of motion in Chapter 3 of [Underactuated Robotics.](http://underactuated.mit.edu/underactuated.html)\n",
    "\n",
    "## 3) Custom Environment That Suits My Interest\n",
    "Since there isn't much guidance in the [assignment instructions] (creativity mandates this)(https://github.com/compdyn/598rl/wiki/HW1#what-to-do), candidate ideas for this will be listed and discussed below.\n",
    "### Modeling a Grid-World as a Series of Bandit Problems\n",
    "Assumptions that are required include:\n",
    "* the environment is stationary in terms of its statistics\n",
    "* that the value function has to be bounded in order for policies like the Upper Confidence Bound \n",
    "\n",
    "Note that martingales may be used to model systems with limited stochasticity.\n",
    "\n",
    "### Question for Reader(s)\n",
    "Would such a formulation of the problem constitute a new environment? My preliminary thought is \"no,\" but my optimism forces this to remain present on the assignment. "
   ]
  }
 ],
 "metadata": {
  "anaconda-cloud": {},
  "kernelspec": {
   "display_name": "Python [default]",
   "language": "python",
   "name": "python3"
  },
  "language_info": {
   "codemirror_mode": {
    "name": "ipython",
    "version": 3
   },
   "file_extension": ".py",
   "mimetype": "text/x-python",
   "name": "python",
   "nbconvert_exporter": "python",
   "pygments_lexer": "ipython3",
   "version": "3.5.2"
  }
 },
 "nbformat": 4,
 "nbformat_minor": 1
}
