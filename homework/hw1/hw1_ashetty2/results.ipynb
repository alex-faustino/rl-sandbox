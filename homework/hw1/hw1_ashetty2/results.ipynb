{
 "cells": [
  {
   "cell_type": "markdown",
   "metadata": {},
   "source": [
    "# 598RL HW1"
   ]
  },
  {
   "cell_type": "code",
   "execution_count": 1,
   "metadata": {},
   "outputs": [],
   "source": [
    "#import basic packages\n",
    "from IPython.display import clear_output\n",
    "import time\n",
    "import numpy as np\n",
    "import matplotlib.pyplot as plt\n",
    "%matplotlib inline"
   ]
  },
  {
   "cell_type": "markdown",
   "metadata": {},
   "source": [
    "## A grid-world:\n",
    "\n",
    "Example 3.5 (Gridworld) from Sutton and Barto (Second Edition, Online Draft): http://incompleteideas.net/book/the-book-2nd.html"
   ]
  },
  {
   "cell_type": "code",
   "execution_count": 2,
   "metadata": {},
   "outputs": [
    {
     "name": "stdout",
     "output_type": "stream",
     "text": [
      "-A-B-\n",
      "-----\n",
      "---b-\n",
      "----X\n",
      "-a---\n",
      "\n",
      " 1 24 S 0 3.0\n"
     ]
    },
    {
     "data": {
      "image/png": "[encoded data removed]",
      "text/plain": [
       "<Figure size 432x288 with 1 Axes>"
      ]
     },
     "metadata": {},
     "output_type": "display_data"
    }
   ],
   "source": [
    "import gym\n",
    "import gridworld\n",
    "\n",
    "env = gym.make('GridWorld-v0')\n",
    "n_eps, n_steps = 2, 25\n",
    "sleep_time = 1.0\n",
    "\n",
    "reward_array = np.empty([n_eps, n_steps])\n",
    "\n",
    "for i_eps in range(0, n_eps):\n",
    "    observation = env.reset()\n",
    "    clear_output(wait=True)\n",
    "    env.render()\n",
    "    time.sleep(sleep_time)\n",
    "    \n",
    "    for i_step in range(0, n_steps):\n",
    "        action = env.action_space()\n",
    "        observation, reward, done, info = env.step(action)\n",
    "        reward_array[i_eps,i_step] = reward\n",
    "        clear_output(wait=True)\n",
    "        env.render()\n",
    "        print('\\n',i_eps, i_step, action, reward, np.sum(reward_array[i_eps, 0:i_step+1]))\n",
    "        time.sleep(sleep_time)\n",
    "    \n",
    "    plt.plot(np.cumsum(reward_array[i_eps,:]), label=('Episode '+str(i_eps)))\n",
    "    \n",
    "plt.legend()\n",
    "plt.title('Cumulative reward')\n",
    "plt.show()"
   ]
  },
  {
   "cell_type": "markdown",
   "metadata": {},
   "source": [
    "## A classic control system:\n",
    "\n",
    "Implement your own version of the \"acrobot.\" A description of this system with equations of motion can be found in Chapter 3 of Tedrake, Underactuated Robotics (Online Draft): http://underactuated.mit.edu/underactuated.html"
   ]
  },
  {
   "cell_type": "code",
   "execution_count": 3,
   "metadata": {
    "scrolled": true
   },
   "outputs": [
    {
     "name": "stdout",
     "output_type": "stream",
     "text": [
      "\n",
      " 1 99 -0.9186907783086757 0 0.0\n"
     ]
    },
    {
     "data": {
      "image/png": "[encoded data removed]",
      "text/plain": [
       "<Figure size 432x288 with 1 Axes>"
      ]
     },
     "metadata": {},
     "output_type": "display_data"
    }
   ],
   "source": [
    "import gym\n",
    "import gym.spaces\n",
    "import my_acrobot\n",
    "\n",
    "env = gym.make('MyAcrobot-v0')\n",
    "n_eps, n_steps = 2, 100\n",
    "reward_array = np.empty([n_eps, n_steps])\n",
    "\n",
    "for i_eps in range(n_eps):\n",
    "    observation = env.reset()\n",
    "    env.render()\n",
    "    \n",
    "    for i_step in range(n_steps):\n",
    "\n",
    "        action = np.random.uniform(-1.0, 1.0)\n",
    "        observation, reward, done, info = env.step(action)\n",
    "        reward_array[i_eps,i_step] = reward\n",
    "        clear_output(wait=True)\n",
    "        env.render()\n",
    "        print('\\n',i_eps, i_step, action, reward, np.sum(reward_array[i_eps, 0:i_step+1]))\n",
    "        if done:\n",
    "            print(\"Episode finished after {} timesteps\".format(t+1))\n",
    "            break\n",
    "            \n",
    "    plt.plot(np.cumsum(reward_array[i_eps,:]), label=('Episode '+str(i_eps)))\n",
    "    \n",
    "plt.legend()\n",
    "plt.title('Cumulative reward')\n",
    "plt.show()\n",
    "env.close()"
   ]
  },
  {
   "cell_type": "markdown",
   "metadata": {},
   "source": [
    "## A system of your choice:\n",
    "\n",
    "A basic target finder in a grid world. Details:\n",
    "\n",
    "-  Can specify different target at each time environment is reset\n",
    "-  Agent observes a subset of the world, specified by OBS_RANGE in the environment\n",
    "-  At each position agent can take 4 possible actions: north, south, east, west\n",
    "-  Actions that would take the agent off the grid leave its location unchanged, but also result in a reward of -1\n",
    "-  When agent reaches the target, it receives a reward of +10 and the episode ends"
   ]
  },
  {
   "cell_type": "code",
   "execution_count": 4,
   "metadata": {},
   "outputs": [
    {
     "name": "stdout",
     "output_type": "stream",
     "text": [
      "....................\n",
      "...............D....\n",
      "....................\n",
      "....................\n",
      "....................\n",
      "..X.................\n",
      "....................\n",
      "...B................\n",
      "....................\n",
      "..........A.........\n",
      "....................\n",
      "....................\n",
      "....................\n",
      "....................\n",
      "....................\n",
      "....................\n",
      "....................\n",
      "....................\n",
      "....................\n",
      "..................C.\n",
      "\n",
      "Observation:\n",
      "\n",
      "**.......\n",
      "**.......\n",
      "**.......\n",
      "**.......\n",
      "**..X....\n",
      "**.......\n",
      "**...B...\n",
      "**.......\n",
      "**.......\n",
      "\n",
      " 1 19 S 0 0.0\n"
     ]
    },
    {
     "data": {
      "image/png": "[encoded data removed]",
      "text/plain": [
       "<Figure size 432x288 with 1 Axes>"
      ]
     },
     "metadata": {},
     "output_type": "display_data"
    }
   ],
   "source": [
    "import gym\n",
    "import target_finder\n",
    "\n",
    "env = gym.make('TargetFinder-v0')\n",
    "n_eps, n_steps = 2, 20\n",
    "sleep_time = 1.0\n",
    "\n",
    "reward_array = np.empty([n_eps, n_steps])\n",
    "\n",
    "for i_eps in range(0, n_eps):\n",
    "    observation = env.reset(\"B\")\n",
    "    clear_output(wait=True)\n",
    "    env.render()\n",
    "    time.sleep(sleep_time)\n",
    "    \n",
    "    for i_step in range(0, n_steps):\n",
    "        action = env.action_space()\n",
    "        observation, reward, done, info = env.step(action)\n",
    "        reward_array[i_eps,i_step] = reward\n",
    "        clear_output(wait=True)\n",
    "        env.render()\n",
    "        print('\\n',i_eps, i_step, action, reward, np.sum(reward_array[i_eps, 0:i_step+1]))\n",
    "        time.sleep(sleep_time)\n",
    "    \n",
    "    plt.plot(np.cumsum(reward_array[i_eps,:]), label=('Episode '+str(i_eps)))\n",
    "    \n",
    "plt.legend()\n",
    "plt.title('Cumulative reward')\n",
    "plt.show()"
   ]
  }
 ],
 "metadata": {
  "kernelspec": {
   "display_name": "Python 3",
   "language": "python",
   "name": "python3"
  },
  "language_info": {
   "codemirror_mode": {
    "name": "ipython",
    "version": 3
   },
   "file_extension": ".py",
   "mimetype": "text/x-python",
   "name": "python",
   "nbconvert_exporter": "python",
   "pygments_lexer": "ipython3",
   "version": "3.6.5"
  }
 },
 "nbformat": 4,
 "nbformat_minor": 2
}
