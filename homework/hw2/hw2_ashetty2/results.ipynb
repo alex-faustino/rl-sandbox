{
 "cells": [
  {
   "cell_type": "markdown",
   "metadata": {},
   "source": [
    "# 598RL HW2"
   ]
  },
  {
   "cell_type": "code",
   "execution_count": 1,
   "metadata": {},
   "outputs": [],
   "source": [
    "#import basic packages\n",
    "from IPython.display import clear_output\n",
    "import time\n",
    "import numpy as np\n",
    "import matplotlib.pyplot as plt\n",
    "%matplotlib inline"
   ]
  },
  {
   "cell_type": "markdown",
   "metadata": {},
   "source": [
    "## Common functions:"
   ]
  },
  {
   "cell_type": "code",
   "execution_count": 2,
   "metadata": {},
   "outputs": [],
   "source": [
    "def get_action(Q_table, curr_state, exp_prob, action_str, gridmap):\n",
    "    \n",
    "    n_act = len(action_str)\n",
    "    rand_n = np.random.rand(1)[0]\n",
    "    if rand_n < exp_prob:\n",
    "        action = action_str[np.random.randint(n_act)]\n",
    "        \n",
    "    else:\n",
    "        state_row = get_state_row(curr_state, gridmap)\n",
    "        action_col = np.argmax(Q_table[state_row,:])\n",
    "        action = action_str[action_col]\n",
    "        \n",
    "    return action"
   ]
  },
  {
   "cell_type": "code",
   "execution_count": 3,
   "metadata": {},
   "outputs": [],
   "source": [
    "def get_state_row(curr_state, gridmap):\n",
    "    \n",
    "    state_row = curr_state[0]*len(gridmap[0]) + curr_state[1]\n",
    "    return state_row"
   ]
  },
  {
   "cell_type": "code",
   "execution_count": 4,
   "metadata": {},
   "outputs": [],
   "source": [
    "def remap_Q(Q):\n",
    "    \n",
    "    tmp = np.empty(Q.shape)\n",
    "    for i in range(0, Q.shape[0]):\n",
    "        minq, maxq = min(Q[i,:]), max(Q[i,:])\n",
    "        tmp[i,:] = (Q[i,:] - minq) / (maxq - minq)\n",
    "    return tmp"
   ]
  },
  {
   "cell_type": "markdown",
   "metadata": {},
   "source": [
    "## SARSA with epsilon-greedy policy (S&B 6.4):"
   ]
  },
  {
   "cell_type": "code",
   "execution_count": 5,
   "metadata": {
    "scrolled": false
   },
   "outputs": [
    {
     "data": {
      "image/png": "[encoded data removed]",
      "text/plain": [
       "<Figure size 432x288 with 1 Axes>"
      ]
     },
     "metadata": {},
     "output_type": "display_data"
    },
    {
     "name": "stdout",
     "output_type": "stream",
     "text": [
      "[[ 28.55320422 194.23652204  14.74767878  20.48618003]\n",
      " [200.56172456 200.48178246 200.32579481 202.69734336]\n",
      " [ 30.19076685  43.90247185  12.55716073 198.96395408]\n",
      " [ 16.72849811  17.38064363  21.51072062 195.93546364]\n",
      " [ 14.56758262  20.93357447   1.79641572 189.99183182]\n",
      " [ 79.6878595   89.98382376 198.20172204  79.77539892]\n",
      " [200.65672175 194.04211351 193.88361046 193.80765061]\n",
      " [103.0830148  125.01815309  88.61622567 198.39804767]\n",
      " [ 80.76240849  68.57558538  60.12337475 196.20749985]\n",
      " [ 24.11512505  19.95842185  36.89615789 193.51313844]\n",
      " [131.85863983 111.0103361  196.12733801 114.97737952]\n",
      " [198.63626279 190.51321116 190.08223728 190.37501508]\n",
      " [ 94.61978724  90.00497279  69.17715657 195.78864177]\n",
      " [193.74986732  23.33140972  13.41427058  56.1696618 ]\n",
      " [185.86420578   2.09240558   6.97046556  13.35840831]\n",
      " [193.37515337  71.26722944  96.231147    88.86587961]\n",
      " [196.63622006 189.34524729 190.44333064 188.78332825]\n",
      " [104.54253335  94.52533107  74.43962504 194.34757852]\n",
      " [ 36.06892339  19.26102994  16.14450863 191.64441182]\n",
      " [ 14.64355891   8.04323787  15.76826592 186.84954534]\n",
      " [ 82.94364542  74.34059428 191.99176895  90.99354292]\n",
      " [194.65727678 188.81772117 187.9533843  186.98268216]\n",
      " [100.49580211  95.78247574  63.53452205 192.38271292]\n",
      " [ 39.50138334  18.3924341    4.72664275 189.71948883]\n",
      " [ 23.83381753  11.24784185  22.38997645 185.52479891]]\n"
     ]
    },
    {
     "data": {
      "image/png": "[encoded data removed]",
      "text/plain": [
       "<Figure size 432x288 with 1 Axes>"
      ]
     },
     "metadata": {},
     "output_type": "display_data"
    }
   ],
   "source": [
    "##change set level to easy or hard\n",
    "\n",
    "import gym\n",
    "import gridworld\n",
    "\n",
    "env = gym.make('GridWorld-v0')\n",
    "set_level = 'easy'\n",
    "show_heatmap = True\n",
    "n_eps, episode_length = 5000, 100\n",
    "epsilon = 0.4\n",
    "epsilon_decay = 0.999\n",
    "lr = 0.05\n",
    "gamma = 0.99\n",
    "\n",
    "n_action = len(env.action_str)\n",
    "n_states = len(env.GRIDMAP[0]) * len(env.GRIDMAP)\n",
    "Q_ = np.random.rand(n_states,n_action)\n",
    "#Q_ = Q_ / Q_.sum(axis=1, keepdims=True)\n",
    "reward_array = np.zeros([n_eps,])\n",
    "\n",
    "for i_eps in range(0, n_eps):\n",
    "    \n",
    "    eps_reward = 0\n",
    "    epsilon = epsilon*epsilon_decay\n",
    "    s = env.reset(set_level)\n",
    "    a = get_action(Q_, s, epsilon, env.action_str, env.GRIDMAP)\n",
    "    \n",
    "    for i_step in range(0, episode_length):\n",
    "\n",
    "        srow = get_state_row(s, env.GRIDMAP)\n",
    "        acol = env.action_str.find(a)\n",
    "\n",
    "        s_, reward, done, info = env.step(a)\n",
    "        a_ = get_action(Q_, s_, epsilon, env.action_str, env.GRIDMAP)\n",
    "        s_row = get_state_row(s_, env.GRIDMAP)\n",
    "        a_col = env.action_str.find(a_)\n",
    "        Q_[srow,acol] = Q_[srow,acol] + lr*( reward + gamma*Q_[s_row,a_col] - Q_[srow,acol] )\n",
    "        \n",
    "        eps_reward += reward\n",
    "        s, a = s_, a_\n",
    "\n",
    "    reward_array[i_eps] = eps_reward\n",
    "        \n",
    "plt.plot(reward_array)\n",
    "plt.xlabel('Episode number')\n",
    "plt.ylabel('Episode reward')\n",
    "plt.show()\n",
    "        \n",
    "print(Q_)\n",
    "plt.imshow(remap_Q(Q_), cmap='hot', interpolation='nearest')\n",
    "plt.xlabel('actions')\n",
    "plt.ylabel('states')\n",
    "plt.show()"
   ]
  },
  {
   "cell_type": "code",
   "execution_count": 6,
   "metadata": {},
   "outputs": [
    {
     "name": "stdout",
     "output_type": "stream",
     "text": [
      "-A-B-\n",
      "-----\n",
      "---b-\n",
      "-X---\n",
      "-a---\n",
      "\n",
      " 19 40\n"
     ]
    }
   ],
   "source": [
    "#visualize trajectory:\n",
    "episode_length = 20\n",
    "reward_total = 0\n",
    "sleep_time = 0.5\n",
    "s = env.reset(set_level)\n",
    "clear_output(wait=True)\n",
    "env.render()\n",
    "time.sleep(sleep_time)\n",
    "\n",
    "for i_step in range(0, episode_length):\n",
    "    \n",
    "    a = get_action(Q_, s, 0.0, env.action_str, env.GRIDMAP)\n",
    "    s, reward, done, info = env.step(a)\n",
    "    reward_total += reward\n",
    "    clear_output(wait=True)\n",
    "    env.render()\n",
    "    print('\\nStep:',i_step, 'Reward:', reward_total)\n",
    "    time.sleep(sleep_time)"
   ]
  },
  {
   "cell_type": "markdown",
   "metadata": {},
   "source": [
    "## Q-Learning (S&B 6.5):"
   ]
  },
  {
   "cell_type": "code",
   "execution_count": 9,
   "metadata": {},
   "outputs": [
    {
     "data": {
      "image/png": "[encoded data removed]",
      "text/plain": [
       "<Figure size 432x288 with 1 Axes>"
      ]
     },
     "metadata": {},
     "output_type": "display_data"
    },
    {
     "name": "stdout",
     "output_type": "stream",
     "text": [
      "[[ 69.23340607  75.05748161 179.1157458   92.06103493]\n",
      " [180.3321412  180.33251335 180.64928655 180.33231466]\n",
      " [ 67.10935508  74.16257384  56.82500128 179.13661533]\n",
      " [120.81406312 127.13338934 176.25187353 126.86130998]\n",
      " [ 32.91699221   8.03373253  15.54207562 173.89470908]\n",
      " [172.74389691 170.07191355 176.43441163 171.0623613 ]\n",
      " [178.60729755 174.7431236  174.38204016 174.79707895]\n",
      " [169.12347729 170.63871113 163.68227555 176.42326729]\n",
      " [174.34632555 106.53224385  83.14384133 117.48190446]\n",
      " [ 21.91393635  44.53177462  20.92901987 172.02125773]\n",
      " [172.49088435 169.25557108 174.4837078  170.73977775]\n",
      " [176.62454596 172.93949721 172.93381665 172.85436611]\n",
      " [170.03977808 169.28998396 169.31362767 174.48987638]\n",
      " [157.44613118 160.79358182 155.4892196  172.72707655]\n",
      " [ 37.42183846  57.5925444   73.41047166 170.82338394]\n",
      " [172.87142376 165.23607182 169.76106613 165.46083777]\n",
      " [174.47492706 170.8273355  170.42808441 171.04595448]\n",
      " [166.52496159 165.33457688 165.40900802 172.57235109]\n",
      " [171.17615602 131.31773642 115.91248356 132.78644447]\n",
      " [ 66.49904282  61.25948081  73.01749788 168.98284255]\n",
      " [166.94806248 165.51485958 170.51925603 164.45859799]\n",
      " [172.49084808 169.62366527 168.9265187  168.80089577]\n",
      " [165.237376   164.26621362 157.48172963 170.52586788]\n",
      " [168.63750671  73.53946418  57.11293056  68.63312385]\n",
      " [166.70583845  25.2682766    5.1326487   40.0750629 ]]\n"
     ]
    },
    {
     "data": {
      "image/png": "[encoded data removed]",
      "text/plain": [
       "<Figure size 432x288 with 1 Axes>"
      ]
     },
     "metadata": {},
     "output_type": "display_data"
    }
   ],
   "source": [
    "##change set level to easy or hard\n",
    "\n",
    "import gym\n",
    "import gridworld\n",
    "\n",
    "env = gym.make('GridWorld-v0')\n",
    "set_level = 'hard'\n",
    "show_heatmap = True\n",
    "n_eps, episode_length = 5000, 100\n",
    "epsilon = 0.4\n",
    "epsilon_decay = 0.999\n",
    "lr = 0.05\n",
    "gamma = 0.99\n",
    "\n",
    "n_action = len(env.action_str)\n",
    "n_states = len(env.GRIDMAP[0]) * len(env.GRIDMAP)\n",
    "Q_ = np.random.rand(n_states,n_action)\n",
    "#Q_ = Q_ / Q_.sum(axis=1, keepdims=True)\n",
    "reward_array = np.zeros([n_eps,])\n",
    "\n",
    "for i_eps in range(0, n_eps):\n",
    "    \n",
    "    eps_reward = 0\n",
    "    epsilon = epsilon*epsilon_decay\n",
    "    s = env.reset(set_level)\n",
    "        \n",
    "    for i_step in range(0, episode_length):\n",
    "\n",
    "        srow = get_state_row(s, env.GRIDMAP)\n",
    "        \n",
    "        a = get_action(Q_, s, epsilon, env.action_str, env.GRIDMAP)\n",
    "        acol = env.action_str.find(a)\n",
    "        s_, reward, done, info = env.step(a)\n",
    "        s_row = get_state_row(s_, env.GRIDMAP)\n",
    "        \n",
    "        Q_[srow,acol] = Q_[srow,acol] + lr*( reward + gamma*max(Q_[s_row,:]) - Q_[srow,acol] )\n",
    "        \n",
    "        eps_reward += reward\n",
    "        s = s_\n",
    "\n",
    "    reward_array[i_eps] = eps_reward\n",
    "        \n",
    "plt.plot(reward_array)\n",
    "plt.xlabel('Episode number')\n",
    "plt.ylabel('Episode reward')\n",
    "plt.show()\n",
    "        \n",
    "print(Q_)\n",
    "plt.imshow(remap_Q(Q_), cmap='hot', interpolation='nearest')\n",
    "plt.xlabel('actions')\n",
    "plt.ylabel('states')\n",
    "plt.show()"
   ]
  },
  {
   "cell_type": "code",
   "execution_count": 12,
   "metadata": {},
   "outputs": [
    {
     "name": "stdout",
     "output_type": "stream",
     "text": [
      "-A-B-\n",
      "-----\n",
      "---b-\n",
      "-X---\n",
      "-a---\n",
      "\n",
      "Step: 19 Reward: 39\n"
     ]
    }
   ],
   "source": [
    "#visualize trajectory:\n",
    "episode_length = 20\n",
    "reward_total = 0\n",
    "sleep_time = 0.5\n",
    "s = env.reset(set_level)\n",
    "clear_output(wait=True)\n",
    "env.render()\n",
    "time.sleep(sleep_time)\n",
    "\n",
    "for i_step in range(0, episode_length):\n",
    "    \n",
    "    a = get_action(Q_, s, 0.0, env.action_str, env.GRIDMAP)\n",
    "    s, reward, done, info = env.step(a)\n",
    "    reward_total += reward\n",
    "    clear_output(wait=True)\n",
    "    env.render()\n",
    "    print('\\nStep:',i_step, 'Reward:', reward_total)\n",
    "    time.sleep(sleep_time)"
   ]
  }
 ],
 "metadata": {
  "kernelspec": {
   "display_name": "Python 3",
   "language": "python",
   "name": "python3"
  },
  "language_info": {
   "codemirror_mode": {
    "name": "ipython",
    "version": 3
   },
   "file_extension": ".py",
   "mimetype": "text/x-python",
   "name": "python",
   "nbconvert_exporter": "python",
   "pygments_lexer": "ipython3",
   "version": "3.5.2"
  }
 },
 "nbformat": 4,
 "nbformat_minor": 2
}
