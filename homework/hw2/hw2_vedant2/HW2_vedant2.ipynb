{
 "cells": [
  {
   "cell_type": "markdown",
   "metadata": {},
   "source": [
    "# AE Reinforcement learning - Homework 1"
   ]
  },
  {
   "cell_type": "markdown",
   "metadata": {},
   "source": [
    "# SARSA Agent "
   ]
  },
  {
   "cell_type": "code",
   "execution_count": 7,
   "metadata": {},
   "outputs": [],
   "source": [
    "import time, pickle, os\n",
    "\n",
    "def SARSA(env,epsilon = 0.9,total_episodes = 10000,max_steps = 100,lr_rate = 0.81,gamma = 0.96):\n",
    "\n",
    "    Q = np.zeros((env.observation_space.n, env.action_space.n))\n",
    "\n",
    "    def choose_action(state):\n",
    "        action=0\n",
    "        if np.random.uniform(0, 1) < epsilon:\n",
    "            action = env.action_space.sample()\n",
    "        else:\n",
    "            action = np.argmax(Q[state, :])\n",
    "        return action\n",
    "\n",
    "    def learn(state, state2, reward, action, action2):\n",
    "        predict = Q[state, action]\n",
    "        target = reward + gamma * Q[state2, action2]\n",
    "        Q[state, action] = Q[state, action] + lr_rate * (target - predict)\n",
    "    # Start\n",
    "    rewards=0\n",
    "    for episode in range(total_episodes):\n",
    "        t = 0\n",
    "        state = env.reset()\n",
    "        action = choose_action(state)\n",
    "        while t < max_steps:\n",
    "            env.render()\n",
    "            state2, reward, done, info = env.step(action)\n",
    "            action2 = choose_action(state2)\n",
    "            learn(state, state2, reward, action, action2)\n",
    "            state = state2\n",
    "            action = action2\n",
    "            t += 1\n",
    "            rewards+=1\n",
    "            if done:\n",
    "                break\n",
    "      # epsilon = min_epsilon + (max_epsilon - min_epsilon) * np.exp(-decay_rate * episode) \n",
    "      # os.system('clear')\n",
    "            time.sleep(0.1)\n",
    "    print (\"Score over time: \", rewards/total_episodes)\n",
    "    print(Q)\n",
    "    with open(\"frozenLake_qTable_sarsa.pkl\", 'wb') as f:\n",
    "        pickle.dump(Q, f)"
   ]
  },
  {
   "cell_type": "markdown",
   "metadata": {},
   "source": [
    "## GridWorld"
   ]
  },
  {
   "cell_type": "markdown",
   "metadata": {},
   "source": [
    "The Grid world problem was implemented and solved for both the easy and hard case. The implementation is based on the \"Frozen lake\" environment, already available in Gym. Each example below shoews 10 episodes with a random policy."
   ]
  },
  {
   "cell_type": "markdown",
   "metadata": {},
   "source": [
    "### GridWorld (easy)"
   ]
  },
  {
   "cell_type": "code",
   "execution_count": 9,
   "metadata": {},
   "outputs": [
    {
     "name": "stdout",
     "output_type": "stream",
     "text": [
      "\n",
      "\u001b[46mE\u001b[0m\u001b[46mA\u001b[0m\u001b[46mE\u001b[0m\u001b[46mB\u001b[0m\u001b[46mE\u001b[0m\n",
      "\u001b[46mE\u001b[0m\u001b[46mS\u001b[0m\u001b[46mS\u001b[0m\u001b[46m\u001b[41mS\u001b[0m\u001b[0m\u001b[46mE\u001b[0m\n",
      "\u001b[46mE\u001b[0m\u001b[46mS\u001b[0m\u001b[46mS\u001b[0m\u001b[46mS\u001b[0m\u001b[46mE\u001b[0m\n",
      "\u001b[46mE\u001b[0m\u001b[46mS\u001b[0m\u001b[46mS\u001b[0m\u001b[46mS\u001b[0m\u001b[46mE\u001b[0m\n",
      "\u001b[46mE\u001b[0m\u001b[46mE\u001b[0m\u001b[46mE\u001b[0m\u001b[46mE\u001b[0m\u001b[46mE\u001b[0m\n",
      "8\n",
      "\n",
      "\u001b[46mE\u001b[0m\u001b[46mA\u001b[0m\u001b[46mE\u001b[0m\u001b[46mB\u001b[0m\u001b[46mE\u001b[0m\n",
      "\u001b[46mE\u001b[0m\u001b[46mS\u001b[0m\u001b[46mS\u001b[0m\u001b[46mS\u001b[0m\u001b[46mE\u001b[0m\n",
      "\u001b[46mE\u001b[0m\u001b[46mS\u001b[0m\u001b[46mS\u001b[0m\u001b[46mS\u001b[0m\u001b[46mE\u001b[0m\n",
      "\u001b[46mE\u001b[0m\u001b[46mS\u001b[0m\u001b[46mS\u001b[0m\u001b[46mS\u001b[0m\u001b[46m\u001b[41mE\u001b[0m\u001b[0m\n",
      "\u001b[46mE\u001b[0m\u001b[46mE\u001b[0m\u001b[46mE\u001b[0m\u001b[46mE\u001b[0m\u001b[46mE\u001b[0m\n",
      "19\n",
      "\n",
      "\u001b[46mE\u001b[0m\u001b[46mA\u001b[0m\u001b[46mE\u001b[0m\u001b[46mB\u001b[0m\u001b[46mE\u001b[0m\n",
      "\u001b[46mE\u001b[0m\u001b[46mS\u001b[0m\u001b[46mS\u001b[0m\u001b[46mS\u001b[0m\u001b[46mE\u001b[0m\n",
      "\u001b[46mE\u001b[0m\u001b[46mS\u001b[0m\u001b[46mS\u001b[0m\u001b[46mS\u001b[0m\u001b[46mE\u001b[0m\n",
      "\u001b[46mE\u001b[0m\u001b[46m\u001b[41mS\u001b[0m\u001b[0m\u001b[46mS\u001b[0m\u001b[46mS\u001b[0m\u001b[46mE\u001b[0m\n",
      "\u001b[46mE\u001b[0m\u001b[46mE\u001b[0m\u001b[46mE\u001b[0m\u001b[46mE\u001b[0m\u001b[46mE\u001b[0m\n",
      "16\n",
      "\n",
      "\u001b[46mE\u001b[0m\u001b[46mA\u001b[0m\u001b[46mE\u001b[0m\u001b[46mB\u001b[0m\u001b[46mE\u001b[0m\n",
      "\u001b[46mE\u001b[0m\u001b[46mS\u001b[0m\u001b[46mS\u001b[0m\u001b[46m\u001b[41mS\u001b[0m\u001b[0m\u001b[46mE\u001b[0m\n",
      "\u001b[46mE\u001b[0m\u001b[46mS\u001b[0m\u001b[46mS\u001b[0m\u001b[46mS\u001b[0m\u001b[46mE\u001b[0m\n",
      "\u001b[46mE\u001b[0m\u001b[46mS\u001b[0m\u001b[46mS\u001b[0m\u001b[46mS\u001b[0m\u001b[46mE\u001b[0m\n",
      "\u001b[46mE\u001b[0m\u001b[46mE\u001b[0m\u001b[46mE\u001b[0m\u001b[46mE\u001b[0m\u001b[46mE\u001b[0m\n",
      "8\n",
      "\n",
      "\u001b[46mE\u001b[0m\u001b[46mA\u001b[0m\u001b[46mE\u001b[0m\u001b[46mB\u001b[0m\u001b[46mE\u001b[0m\n",
      "\u001b[46mE\u001b[0m\u001b[46mS\u001b[0m\u001b[46mS\u001b[0m\u001b[46mS\u001b[0m\u001b[46mE\u001b[0m\n",
      "\u001b[46mE\u001b[0m\u001b[46mS\u001b[0m\u001b[46mS\u001b[0m\u001b[46mS\u001b[0m\u001b[46mE\u001b[0m\n",
      "\u001b[46mE\u001b[0m\u001b[46mS\u001b[0m\u001b[46mS\u001b[0m\u001b[46mS\u001b[0m\u001b[46mE\u001b[0m\n",
      "\u001b[46mE\u001b[0m\u001b[46mE\u001b[0m\u001b[46mE\u001b[0m\u001b[46mE\u001b[0m\u001b[46m\u001b[41mE\u001b[0m\u001b[0m\n",
      "24\n",
      "\n",
      "\u001b[46mE\u001b[0m\u001b[46mA\u001b[0m\u001b[46mE\u001b[0m\u001b[46mB\u001b[0m\u001b[46mE\u001b[0m\n",
      "\u001b[46mE\u001b[0m\u001b[46mS\u001b[0m\u001b[46mS\u001b[0m\u001b[46mS\u001b[0m\u001b[46mE\u001b[0m\n",
      "\u001b[46mE\u001b[0m\u001b[46mS\u001b[0m\u001b[46mS\u001b[0m\u001b[46mS\u001b[0m\u001b[46mE\u001b[0m\n",
      "\u001b[46mE\u001b[0m\u001b[46m\u001b[41mS\u001b[0m\u001b[0m\u001b[46mS\u001b[0m\u001b[46mS\u001b[0m\u001b[46mE\u001b[0m\n",
      "\u001b[46mE\u001b[0m\u001b[46mE\u001b[0m\u001b[46mE\u001b[0m\u001b[46mE\u001b[0m\u001b[46mE\u001b[0m\n",
      "16\n",
      "\n",
      "\u001b[46mE\u001b[0m\u001b[46mA\u001b[0m\u001b[46mE\u001b[0m\u001b[46mB\u001b[0m\u001b[46mE\u001b[0m\n",
      "\u001b[46mE\u001b[0m\u001b[46mS\u001b[0m\u001b[46mS\u001b[0m\u001b[46mS\u001b[0m\u001b[46mE\u001b[0m\n",
      "\u001b[46mE\u001b[0m\u001b[46mS\u001b[0m\u001b[46mS\u001b[0m\u001b[46mS\u001b[0m\u001b[46mE\u001b[0m\n",
      "\u001b[46mE\u001b[0m\u001b[46mS\u001b[0m\u001b[46mS\u001b[0m\u001b[46mS\u001b[0m\u001b[46mE\u001b[0m\n",
      "\u001b[46mE\u001b[0m\u001b[46mE\u001b[0m\u001b[46mE\u001b[0m\u001b[46m\u001b[41mE\u001b[0m\u001b[0m\u001b[46mE\u001b[0m\n",
      "23\n",
      "\n",
      "\u001b[46mE\u001b[0m\u001b[46mA\u001b[0m\u001b[46mE\u001b[0m\u001b[46mB\u001b[0m\u001b[46mE\u001b[0m\n",
      "\u001b[46mE\u001b[0m\u001b[46mS\u001b[0m\u001b[46mS\u001b[0m\u001b[46mS\u001b[0m\u001b[46mE\u001b[0m\n",
      "\u001b[46mE\u001b[0m\u001b[46mS\u001b[0m\u001b[46mS\u001b[0m\u001b[46mS\u001b[0m\u001b[46mE\u001b[0m\n",
      "\u001b[46mE\u001b[0m\u001b[46mS\u001b[0m\u001b[46mS\u001b[0m\u001b[46mS\u001b[0m\u001b[46mE\u001b[0m\n",
      "\u001b[46mE\u001b[0m\u001b[46mE\u001b[0m\u001b[46m\u001b[41mE\u001b[0m\u001b[0m\u001b[46mE\u001b[0m\u001b[46mE\u001b[0m\n",
      "22\n",
      "\n",
      "\u001b[46m\u001b[41mE\u001b[0m\u001b[0m\u001b[46mA\u001b[0m\u001b[46mE\u001b[0m\u001b[46mB\u001b[0m\u001b[46mE\u001b[0m\n",
      "\u001b[46mE\u001b[0m\u001b[46mS\u001b[0m\u001b[46mS\u001b[0m\u001b[46mS\u001b[0m\u001b[46mE\u001b[0m\n",
      "\u001b[46mE\u001b[0m\u001b[46mS\u001b[0m\u001b[46mS\u001b[0m\u001b[46mS\u001b[0m\u001b[46mE\u001b[0m\n",
      "\u001b[46mE\u001b[0m\u001b[46mS\u001b[0m\u001b[46mS\u001b[0m\u001b[46mS\u001b[0m\u001b[46mE\u001b[0m\n",
      "\u001b[46mE\u001b[0m\u001b[46mE\u001b[0m\u001b[46mE\u001b[0m\u001b[46mE\u001b[0m\u001b[46mE\u001b[0m\n",
      "0\n",
      "\n",
      "\u001b[46mE\u001b[0m\u001b[46mA\u001b[0m\u001b[46mE\u001b[0m\u001b[46mB\u001b[0m\u001b[46mE\u001b[0m\n",
      "\u001b[46mE\u001b[0m\u001b[46mS\u001b[0m\u001b[46mS\u001b[0m\u001b[46mS\u001b[0m\u001b[46mE\u001b[0m\n",
      "\u001b[46mE\u001b[0m\u001b[46mS\u001b[0m\u001b[46mS\u001b[0m\u001b[46mS\u001b[0m\u001b[46mE\u001b[0m\n",
      "\u001b[46mE\u001b[0m\u001b[46mS\u001b[0m\u001b[46mS\u001b[0m\u001b[46m\u001b[41mS\u001b[0m\u001b[0m\u001b[46mE\u001b[0m\n",
      "\u001b[46mE\u001b[0m\u001b[46mE\u001b[0m\u001b[46mE\u001b[0m\u001b[46mE\u001b[0m\u001b[46mE\u001b[0m\n",
      "18\n"
     ]
    }
   ],
   "source": [
    "import gym\n",
    "import gridWorld\n",
    "import numpy as np\n",
    "env = gym.make('GridWorld-v0')\n",
    "\n",
    "\n",
    "            \n",
    "def run_episode(env, parameters):\n",
    "    action_list = []\n",
    "    reward_list= []\n",
    "    observation_list= []\n",
    "    observation = env.reset()\n",
    "    totalreward = 0\n",
    "    for i in range(10):\n",
    "        observation = env.reset()\n",
    "        env.render('human')\n",
    "        print(observation)\n",
    "        action = env.action_space.sample()\n",
    "        observation, reward, done, info = env.step(action)        \n",
    "        totalreward += reward\n",
    "        #action_list = np.append(action_list, (action))\n",
    "        reward_list= np.append(reward_list, reward)\n",
    "        #observation_list= np.append(observation_list, (observation))\n",
    "        action_list.append(action)\n",
    "        observation_list.append(observation)\n",
    "        if done:\n",
    "            print(\"Episode finished after {} timesteps\".format(t+1))\n",
    "            break\n",
    "    return totalreward, action_list, reward_list, observation_list\n",
    "\n",
    "parameters = np.random.rand(4) * 2 - 1\n",
    "reward, action_list, reward_list, observation_list = run_episode(env,parameters)\n",
    "env.close()"
   ]
  },
  {
   "cell_type": "code",
   "execution_count": 10,
   "metadata": {},
   "outputs": [
    {
     "name": "stdout",
     "output_type": "stream",
     "text": [
      "\n",
      "\u001b[46mE\u001b[0m\u001b[46mA\u001b[0m\u001b[46mE\u001b[0m\u001b[46mB\u001b[0m\u001b[46mE\u001b[0m\n",
      "\u001b[46mE\u001b[0m\u001b[46mS\u001b[0m\u001b[46mS\u001b[0m\u001b[46mS\u001b[0m\u001b[46mE\u001b[0m\n",
      "\u001b[46mE\u001b[0m\u001b[46mS\u001b[0m\u001b[46mS\u001b[0m\u001b[46mS\u001b[0m\u001b[46mE\u001b[0m\n",
      "\u001b[46m\u001b[41mE\u001b[0m\u001b[0m\u001b[46mS\u001b[0m\u001b[46mS\u001b[0m\u001b[46mS\u001b[0m\u001b[46mE\u001b[0m\n",
      "\u001b[46mE\u001b[0m\u001b[46mE\u001b[0m\u001b[46mE\u001b[0m\u001b[46mE\u001b[0m\u001b[46mE\u001b[0m\n"
     ]
    },
    {
     "ename": "NameError",
     "evalue": "name 'ACTIONFN' is not defined",
     "output_type": "error",
     "traceback": [
      "\u001b[1;31m---------------------------------------------------------------------------\u001b[0m",
      "\u001b[1;31mNameError\u001b[0m                                 Traceback (most recent call last)",
      "\u001b[1;32m<ipython-input-10-ff81e330d774>\u001b[0m in \u001b[0;36m<module>\u001b[1;34m()\u001b[0m\n\u001b[1;32m----> 1\u001b[1;33m \u001b[0mSARSA\u001b[0m\u001b[1;33m(\u001b[0m\u001b[0menv\u001b[0m\u001b[1;33m)\u001b[0m\u001b[1;33m\u001b[0m\u001b[0m\n\u001b[0m",
      "\u001b[1;32m<ipython-input-7-d1986ccedafa>\u001b[0m in \u001b[0;36mSARSA\u001b[1;34m(env, epsilon, total_episodes, max_steps, lr_rate, gamma)\u001b[0m\n\u001b[0;32m     24\u001b[0m         \u001b[0maction\u001b[0m \u001b[1;33m=\u001b[0m \u001b[0mchoose_action\u001b[0m\u001b[1;33m(\u001b[0m\u001b[0mstate\u001b[0m\u001b[1;33m)\u001b[0m\u001b[1;33m\u001b[0m\u001b[0m\n\u001b[0;32m     25\u001b[0m         \u001b[1;32mwhile\u001b[0m \u001b[0mt\u001b[0m \u001b[1;33m<\u001b[0m \u001b[0mmax_steps\u001b[0m\u001b[1;33m:\u001b[0m\u001b[1;33m\u001b[0m\u001b[0m\n\u001b[1;32m---> 26\u001b[1;33m             \u001b[0menv\u001b[0m\u001b[1;33m.\u001b[0m\u001b[0mrender\u001b[0m\u001b[1;33m(\u001b[0m\u001b[1;33m)\u001b[0m\u001b[1;33m\u001b[0m\u001b[0m\n\u001b[0m\u001b[0;32m     27\u001b[0m             \u001b[0mstate2\u001b[0m\u001b[1;33m,\u001b[0m \u001b[0mreward\u001b[0m\u001b[1;33m,\u001b[0m \u001b[0mdone\u001b[0m\u001b[1;33m,\u001b[0m \u001b[0minfo\u001b[0m \u001b[1;33m=\u001b[0m \u001b[0menv\u001b[0m\u001b[1;33m.\u001b[0m\u001b[0mstep\u001b[0m\u001b[1;33m(\u001b[0m\u001b[0maction\u001b[0m\u001b[1;33m)\u001b[0m\u001b[1;33m\u001b[0m\u001b[0m\n\u001b[0;32m     28\u001b[0m             \u001b[0maction2\u001b[0m \u001b[1;33m=\u001b[0m \u001b[0mchoose_action\u001b[0m\u001b[1;33m(\u001b[0m\u001b[0mstate2\u001b[0m\u001b[1;33m)\u001b[0m\u001b[1;33m\u001b[0m\u001b[0m\n",
      "\u001b[1;32m~\\Desktop\\AE_RL\\Repo\\homework\\hw2\\hw2_vedant2\\gridWorld\\gridWorld2.py\u001b[0m in \u001b[0;36mrender\u001b[1;34m(self, mode)\u001b[0m\n\u001b[0;32m    102\u001b[0m                 \u001b[0mdesc\u001b[0m\u001b[1;33m[\u001b[0m\u001b[0mrow\u001b[0m\u001b[1;33m]\u001b[0m\u001b[1;33m[\u001b[0m\u001b[0mcol\u001b[0m\u001b[1;33m]\u001b[0m \u001b[1;33m=\u001b[0m \u001b[0mutils\u001b[0m\u001b[1;33m.\u001b[0m\u001b[0mcolorize\u001b[0m\u001b[1;33m(\u001b[0m\u001b[0mdesc\u001b[0m\u001b[1;33m[\u001b[0m\u001b[0mrow\u001b[0m\u001b[1;33m]\u001b[0m\u001b[1;33m[\u001b[0m\u001b[0mcol\u001b[0m\u001b[1;33m]\u001b[0m\u001b[1;33m,\u001b[0m \u001b[1;34m\"cyan\"\u001b[0m\u001b[1;33m,\u001b[0m \u001b[0mhighlight\u001b[0m\u001b[1;33m=\u001b[0m\u001b[1;32mTrue\u001b[0m\u001b[1;33m)\u001b[0m\u001b[1;33m\u001b[0m\u001b[0m\n\u001b[0;32m    103\u001b[0m \u001b[1;33m\u001b[0m\u001b[0m\n\u001b[1;32m--> 104\u001b[1;33m         \u001b[1;32mif\u001b[0m \u001b[0mself\u001b[0m\u001b[1;33m.\u001b[0m\u001b[0mlastaction\u001b[0m \u001b[1;32mis\u001b[0m \u001b[1;32mnot\u001b[0m \u001b[1;32mNone\u001b[0m\u001b[1;33m:\u001b[0m\u001b[1;33m\u001b[0m\u001b[0m\n\u001b[0m\u001b[0;32m    105\u001b[0m             \u001b[0moutfile\u001b[0m\u001b[1;33m.\u001b[0m\u001b[0mwrite\u001b[0m\u001b[1;33m(\u001b[0m\u001b[1;34m\"  ({})\\n\"\u001b[0m\u001b[1;33m.\u001b[0m\u001b[0mformat\u001b[0m\u001b[1;33m(\u001b[0m\u001b[0mACTIONFN\u001b[0m\u001b[1;33m[\u001b[0m\u001b[0mself\u001b[0m\u001b[1;33m.\u001b[0m\u001b[0mlastaction\u001b[0m\u001b[1;33m]\u001b[0m\u001b[1;33m)\u001b[0m\u001b[1;33m)\u001b[0m\u001b[1;33m\u001b[0m\u001b[0m\n\u001b[0;32m    106\u001b[0m         \u001b[1;32melse\u001b[0m\u001b[1;33m:\u001b[0m\u001b[1;33m\u001b[0m\u001b[0m\n",
      "\u001b[1;31mNameError\u001b[0m: name 'ACTIONFN' is not defined"
     ]
    }
   ],
   "source": [
    "SARSA(env)"
   ]
  },
  {
   "cell_type": "markdown",
   "metadata": {},
   "source": [
    "### GridWorld (hard)"
   ]
  },
  {
   "cell_type": "code",
   "execution_count": 2,
   "metadata": {},
   "outputs": [
    {
     "name": "stdout",
     "output_type": "stream",
     "text": [
      "\n",
      "\u001b[46mE\u001b[0m\u001b[46mA\u001b[0m\u001b[46mE\u001b[0m\u001b[46mB\u001b[0m\u001b[46m\u001b[41mE\u001b[0m\u001b[0m\n",
      "\u001b[46mE\u001b[0m\u001b[46mS\u001b[0m\u001b[46mS\u001b[0m\u001b[46mS\u001b[0m\u001b[46mE\u001b[0m\n",
      "\u001b[46mE\u001b[0m\u001b[46mS\u001b[0m\u001b[46mS\u001b[0m\u001b[46mS\u001b[0m\u001b[46mE\u001b[0m\n",
      "\u001b[46mE\u001b[0m\u001b[46mS\u001b[0m\u001b[46mS\u001b[0m\u001b[46mS\u001b[0m\u001b[46mE\u001b[0m\n",
      "\u001b[46mE\u001b[0m\u001b[46mE\u001b[0m\u001b[46mE\u001b[0m\u001b[46mE\u001b[0m\u001b[46mE\u001b[0m\n",
      "4\n",
      "\n",
      "\u001b[46mE\u001b[0m\u001b[46mA\u001b[0m\u001b[46mE\u001b[0m\u001b[46mB\u001b[0m\u001b[46mE\u001b[0m\n",
      "\u001b[46mE\u001b[0m\u001b[46mS\u001b[0m\u001b[46mS\u001b[0m\u001b[46mS\u001b[0m\u001b[46mE\u001b[0m\n",
      "\u001b[46mE\u001b[0m\u001b[46mS\u001b[0m\u001b[46mS\u001b[0m\u001b[46mS\u001b[0m\u001b[46mE\u001b[0m\n",
      "\u001b[46mE\u001b[0m\u001b[46mS\u001b[0m\u001b[46mS\u001b[0m\u001b[46mS\u001b[0m\u001b[46mE\u001b[0m\n",
      "\u001b[46mE\u001b[0m\u001b[46mE\u001b[0m\u001b[46mE\u001b[0m\u001b[46m\u001b[41mE\u001b[0m\u001b[0m\u001b[46mE\u001b[0m\n",
      "23\n",
      "\n",
      "\u001b[46mE\u001b[0m\u001b[46mA\u001b[0m\u001b[46mE\u001b[0m\u001b[46mB\u001b[0m\u001b[46mE\u001b[0m\n",
      "\u001b[46mE\u001b[0m\u001b[46mS\u001b[0m\u001b[46mS\u001b[0m\u001b[46mS\u001b[0m\u001b[46mE\u001b[0m\n",
      "\u001b[46mE\u001b[0m\u001b[46mS\u001b[0m\u001b[46mS\u001b[0m\u001b[46mS\u001b[0m\u001b[46mE\u001b[0m\n",
      "\u001b[46mE\u001b[0m\u001b[46mS\u001b[0m\u001b[46m\u001b[41mS\u001b[0m\u001b[0m\u001b[46mS\u001b[0m\u001b[46mE\u001b[0m\n",
      "\u001b[46mE\u001b[0m\u001b[46mE\u001b[0m\u001b[46mE\u001b[0m\u001b[46mE\u001b[0m\u001b[46mE\u001b[0m\n",
      "17\n",
      "\n",
      "\u001b[46mE\u001b[0m\u001b[46mA\u001b[0m\u001b[46mE\u001b[0m\u001b[46mB\u001b[0m\u001b[46mE\u001b[0m\n",
      "\u001b[46mE\u001b[0m\u001b[46mS\u001b[0m\u001b[46mS\u001b[0m\u001b[46mS\u001b[0m\u001b[46mE\u001b[0m\n",
      "\u001b[46mE\u001b[0m\u001b[46m\u001b[41mS\u001b[0m\u001b[0m\u001b[46mS\u001b[0m\u001b[46mS\u001b[0m\u001b[46mE\u001b[0m\n",
      "\u001b[46mE\u001b[0m\u001b[46mS\u001b[0m\u001b[46mS\u001b[0m\u001b[46mS\u001b[0m\u001b[46mE\u001b[0m\n",
      "\u001b[46mE\u001b[0m\u001b[46mE\u001b[0m\u001b[46mE\u001b[0m\u001b[46mE\u001b[0m\u001b[46mE\u001b[0m\n",
      "11\n",
      "\n",
      "\u001b[46mE\u001b[0m\u001b[46mA\u001b[0m\u001b[46mE\u001b[0m\u001b[46mB\u001b[0m\u001b[46mE\u001b[0m\n",
      "\u001b[46mE\u001b[0m\u001b[46mS\u001b[0m\u001b[46mS\u001b[0m\u001b[46m\u001b[41mS\u001b[0m\u001b[0m\u001b[46mE\u001b[0m\n",
      "\u001b[46mE\u001b[0m\u001b[46mS\u001b[0m\u001b[46mS\u001b[0m\u001b[46mS\u001b[0m\u001b[46mE\u001b[0m\n",
      "\u001b[46mE\u001b[0m\u001b[46mS\u001b[0m\u001b[46mS\u001b[0m\u001b[46mS\u001b[0m\u001b[46mE\u001b[0m\n",
      "\u001b[46mE\u001b[0m\u001b[46mE\u001b[0m\u001b[46mE\u001b[0m\u001b[46mE\u001b[0m\u001b[46mE\u001b[0m\n",
      "8\n",
      "\n",
      "\u001b[46mE\u001b[0m\u001b[46mA\u001b[0m\u001b[46mE\u001b[0m\u001b[46mB\u001b[0m\u001b[46mE\u001b[0m\n",
      "\u001b[46mE\u001b[0m\u001b[46mS\u001b[0m\u001b[46mS\u001b[0m\u001b[46mS\u001b[0m\u001b[46mE\u001b[0m\n",
      "\u001b[46mE\u001b[0m\u001b[46mS\u001b[0m\u001b[46mS\u001b[0m\u001b[46mS\u001b[0m\u001b[46m\u001b[41mE\u001b[0m\u001b[0m\n",
      "\u001b[46mE\u001b[0m\u001b[46mS\u001b[0m\u001b[46mS\u001b[0m\u001b[46mS\u001b[0m\u001b[46mE\u001b[0m\n",
      "\u001b[46mE\u001b[0m\u001b[46mE\u001b[0m\u001b[46mE\u001b[0m\u001b[46mE\u001b[0m\u001b[46mE\u001b[0m\n",
      "14\n",
      "\n",
      "\u001b[46mE\u001b[0m\u001b[46mA\u001b[0m\u001b[46mE\u001b[0m\u001b[46mB\u001b[0m\u001b[46mE\u001b[0m\n",
      "\u001b[46mE\u001b[0m\u001b[46mS\u001b[0m\u001b[46mS\u001b[0m\u001b[46m\u001b[41mS\u001b[0m\u001b[0m\u001b[46mE\u001b[0m\n",
      "\u001b[46mE\u001b[0m\u001b[46mS\u001b[0m\u001b[46mS\u001b[0m\u001b[46mS\u001b[0m\u001b[46mE\u001b[0m\n",
      "\u001b[46mE\u001b[0m\u001b[46mS\u001b[0m\u001b[46mS\u001b[0m\u001b[46mS\u001b[0m\u001b[46mE\u001b[0m\n",
      "\u001b[46mE\u001b[0m\u001b[46mE\u001b[0m\u001b[46mE\u001b[0m\u001b[46mE\u001b[0m\u001b[46mE\u001b[0m\n",
      "8\n",
      "\n",
      "\u001b[46mE\u001b[0m\u001b[46mA\u001b[0m\u001b[46mE\u001b[0m\u001b[46mB\u001b[0m\u001b[46mE\u001b[0m\n",
      "\u001b[46mE\u001b[0m\u001b[46mS\u001b[0m\u001b[46mS\u001b[0m\u001b[46mS\u001b[0m\u001b[46mE\u001b[0m\n",
      "\u001b[46mE\u001b[0m\u001b[46mS\u001b[0m\u001b[46mS\u001b[0m\u001b[46mS\u001b[0m\u001b[46mE\u001b[0m\n",
      "\u001b[46mE\u001b[0m\u001b[46mS\u001b[0m\u001b[46mS\u001b[0m\u001b[46mS\u001b[0m\u001b[46mE\u001b[0m\n",
      "\u001b[46mE\u001b[0m\u001b[46mE\u001b[0m\u001b[46mE\u001b[0m\u001b[46m\u001b[41mE\u001b[0m\u001b[0m\u001b[46mE\u001b[0m\n",
      "23\n",
      "\n",
      "\u001b[46mE\u001b[0m\u001b[46mA\u001b[0m\u001b[46mE\u001b[0m\u001b[46m\u001b[41mB\u001b[0m\u001b[0m\u001b[46mE\u001b[0m\n",
      "\u001b[46mE\u001b[0m\u001b[46mS\u001b[0m\u001b[46mS\u001b[0m\u001b[46mS\u001b[0m\u001b[46mE\u001b[0m\n",
      "\u001b[46mE\u001b[0m\u001b[46mS\u001b[0m\u001b[46mS\u001b[0m\u001b[46mS\u001b[0m\u001b[46mE\u001b[0m\n",
      "\u001b[46mE\u001b[0m\u001b[46mS\u001b[0m\u001b[46mS\u001b[0m\u001b[46mS\u001b[0m\u001b[46mE\u001b[0m\n",
      "\u001b[46mE\u001b[0m\u001b[46mE\u001b[0m\u001b[46mE\u001b[0m\u001b[46mE\u001b[0m\u001b[46mE\u001b[0m\n",
      "3\n",
      "\n",
      "\u001b[46m\u001b[41mE\u001b[0m\u001b[0m\u001b[46mA\u001b[0m\u001b[46mE\u001b[0m\u001b[46mB\u001b[0m\u001b[46mE\u001b[0m\n",
      "\u001b[46mE\u001b[0m\u001b[46mS\u001b[0m\u001b[46mS\u001b[0m\u001b[46mS\u001b[0m\u001b[46mE\u001b[0m\n",
      "\u001b[46mE\u001b[0m\u001b[46mS\u001b[0m\u001b[46mS\u001b[0m\u001b[46mS\u001b[0m\u001b[46mE\u001b[0m\n",
      "\u001b[46mE\u001b[0m\u001b[46mS\u001b[0m\u001b[46mS\u001b[0m\u001b[46mS\u001b[0m\u001b[46mE\u001b[0m\n",
      "\u001b[46mE\u001b[0m\u001b[46mE\u001b[0m\u001b[46mE\u001b[0m\u001b[46mE\u001b[0m\u001b[46mE\u001b[0m\n",
      "0\n"
     ]
    }
   ],
   "source": [
    "import gym\n",
    "import gridWorld\n",
    "import numpy as np\n",
    "env = gym.make('hard_GridWorld-v0')\n",
    "\n",
    "\n",
    "            \n",
    "def run_episode(env, parameters):\n",
    "    action_list = []\n",
    "    reward_list= []\n",
    "    observation_list= []\n",
    "    observation = env.reset()\n",
    "    totalreward = 0\n",
    "    for i in range(10):\n",
    "        observation = env.reset()\n",
    "        env.render('human')\n",
    "        print(observation)\n",
    "        action = env.action_space.sample()\n",
    "        observation, reward, done, info = env.step(action)        \n",
    "        totalreward += reward\n",
    "        #action_list = np.append(action_list, (action))\n",
    "        reward_list= np.append(reward_list, reward)\n",
    "        #observation_list= np.append(observation_list, (observation))\n",
    "        action_list.append(action)\n",
    "        observation_list.append(observation)\n",
    "        if done:\n",
    "            print(\"Episode finished after {} timesteps\".format(t+1))\n",
    "            break\n",
    "    return totalreward, action_list, reward_list, observation_list\n",
    "\n",
    "parameters = np.random.rand(4) * 2 - 1\n",
    "reward, action_list, reward_list, observation_list = run_episode(env,parameters)\n",
    "env.close()"
   ]
  },
  {
   "cell_type": "markdown",
   "metadata": {},
   "source": [
    "Note:For some reason my first attempt at the implementation had a bug, and hence GridWorlf2 is the working copy."
   ]
  }
 ],
 "metadata": {
  "kernelspec": {
   "display_name": "Python 3",
   "language": "python",
   "name": "python3"
  },
  "language_info": {
   "codemirror_mode": {
    "name": "ipython",
    "version": 3
   },
   "file_extension": ".py",
   "mimetype": "text/x-python",
   "name": "python",
   "nbconvert_exporter": "python",
   "pygments_lexer": "ipython3",
   "version": "3.6.6"
  }
 },
 "nbformat": 4,
 "nbformat_minor": 2
}
