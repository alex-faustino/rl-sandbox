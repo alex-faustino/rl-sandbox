{
 "cells": [
  {
   "cell_type": "code",
   "execution_count": 11,
   "metadata": {
    "scrolled": true
   },
   "outputs": [
    {
     "name": "stdout",
     "output_type": "stream",
     "text": [
      "All Iterations done\n"
     ]
    },
    {
     "data": {
      "text/plain": [
       "\"\\nresultdict = {'Iteration':iteration,'REINFORCE_reward':rew_p_st,'Variance': mat_var}\\ndf = pd.DataFrame.from_dict(resultdict)\\ndf.to_csv('Cumulative_Results.csv')\\n#plt.show()\\n\""
      ]
     },
     "execution_count": 11,
     "metadata": {},
     "output_type": "execute_result"
    },
    {
     "data": {
      "image/png": "[encoded data removed]",
      "text/plain": [
       "<matplotlib.figure.Figure at 0x21e577bb9e8>"
      ]
     },
     "metadata": {},
     "output_type": "display_data"
    }
   ],
   "source": [
    "import numpy as np\n",
    "import gym\n",
    "from gym import spaces\n",
    "from gym.utils import seeding\n",
    "import gym_envs\n",
    "import random\n",
    "from random import choices\n",
    "import pandas as pd\n",
    "import matplotlib.pyplot as plt\n",
    "%matplotlib inline\n",
    "\n",
    "\n",
    "env = gym.make('grid_world-v0')\n",
    "M = env.action_space.n\n",
    "N1 = env.state_space.n\n",
    "breakout = True\n",
    "N = N1*N1\n",
    "k = 0\n",
    "d = {}\n",
    "for i in range(N1):\n",
    "    for j in range(N1):\n",
    "        d.update([((i,j),k)])\n",
    "        k+=1\n",
    "\n",
    "theta = np.zeros((M,N))\n",
    "choice_a = [0,1,2,3]\n",
    "\n",
    "rew = np.ones((M,N))\n",
    "alpha = 0.01\n",
    "ep_max = 100\n",
    "epsilon = 0\n",
    "t_steps = 30\n",
    "p = np.zeros((M,N))\n",
    "dist = [epsilon, 1-epsilon]\n",
    "choice = [1,2]\n",
    "\n",
    "def softmax(s):\n",
    "    \n",
    "    #p_theta = np.exp(np.multiply(theta[:,s],rew[:,s]))\n",
    "    p_theta = np.exp(theta[:,s])\n",
    "    #print(np.linalg.norm(theta))\n",
    "    return p_theta/np.sum(p_theta), np.argmax(p_theta/np.sum(p_theta))\n",
    "\n",
    "count= 0\n",
    "\n",
    "def softmax_complete():\n",
    "    P_Theta = np.zeros((M,N))\n",
    "    for i in range(N):\n",
    "        p_theta = np.exp(theta[:,i])\n",
    "        p_theta = p_theta/np.sum(p_theta)\n",
    "        P_Theta[:,i] = p_theta\n",
    "        #print(np.multiply(theta[:,s],rew[:,s]))\n",
    "        #print(rew[:,s])\n",
    "    print('Finally:', P_Theta)\n",
    "    #tmp = np.argmax(P_Theta,axis=0)\n",
    "    tmp_star = np.zeros((N1,N1))\n",
    "    for i in range(N1):\n",
    "        for j in range(N1):\n",
    "            s = d[(i,j)]\n",
    "            f = np.amax(P_Theta[:,s])\n",
    "            f1 = np.argmax(P_Theta[:,s])\n",
    "            tmp_star[4-i,j] = f1\n",
    "    print(tmp_star)\n",
    " \n",
    "rew_p_st = np.zeros(300)\n",
    "#mat_mean = np.zeros(100)\n",
    "#mat_var = np.zeros(100)\n",
    "iteration = np.zeros_like(rew_p_st)      \n",
    "for j in range(300):\n",
    "    count += 1\n",
    "    R = np.zeros((ep_max,1))\n",
    "    grd = np.zeros((ep_max,M,N))\n",
    "    ep_sum = np.zeros((M,N))\n",
    "    theta_old = theta\n",
    "    for i in range(ep_max):\n",
    "        \n",
    "        env.reset()\n",
    "        s1,s2 = env.state\n",
    "        s = d[(s1,s2)]\n",
    "        \n",
    "        for t in range(t_steps):\n",
    "#            \n",
    "            tmp1, tmp2  = softmax(s)\n",
    "            \n",
    "            tmp3 = [tmp1[0], tmp1[1], tmp1[2], tmp1[3]]\n",
    "            tmp = random.choices(choice_a, tmp3)\n",
    "            a = tmp[0]\n",
    "            \n",
    "            obs, reward, done, info = env.step(a)\n",
    "            rew_p_st[j] = rew_p_st[j] + reward\n",
    "            R[i] += reward\n",
    "            phi = np.zeros((M,N))\n",
    "            phi[a,s] = rew[a,s]\n",
    "            grd[i,:,:] += phi \n",
    "            p_theta, a = softmax(s)\n",
    "            \n",
    "            for ac in range(M):\n",
    "                phi = np.zeros((M,N))\n",
    "                phi[ac,s] = rew[ac,s]\n",
    "                grd[i,:,:] -= p_theta[ac]*phi\n",
    "            \n",
    "            s1,s2 = obs\n",
    "            s = d[(s1,s2)]\n",
    "      \n",
    "        ep_sum += (1/ep_max)*R[i]*grd[i,:,:] \n",
    " \n",
    "    #print('Count is: ', count)\n",
    "    theta = theta_old + alpha*ep_sum\n",
    "    #mat_mean[j] = np.mean(ep_sum)\n",
    "    #mat_var[j] = np.var(ep_sum)\n",
    "\n",
    "    #print(np.linalg.norm(theta-theta_old))\n",
    "    rew_p_st[j] = rew_p_st[j]/(ep_max*t_steps)\n",
    "    iteration[j] = j\n",
    "\n",
    "#softmax_complete()\n",
    "#print('Count is: ', count)\n",
    "print('All Iterations done')\n",
    "#print(mat_mean)\n",
    "#print(mat_var)\n",
    "plt.plot(iteration,rew_p_st)\n",
    "plt.xlabel('No of Batches or Epochs')\n",
    "plt.ylabel('Avg Reward Per step')\n",
    "plt.title('Performance of REINFORCE, stepsize=0.01, No of batches:300')\n",
    "\n",
    "\n",
    "'''\n",
    "resultdict = {'Iteration':iteration,'REINFORCE_reward':rew_p_st,'Variance': mat_var}\n",
    "df = pd.DataFrame.from_dict(resultdict)\n",
    "df.to_csv('Cumulative_Results.csv')\n",
    "#plt.show()\n",
    "'''"
   ]
  },
  {
   "cell_type": "code",
   "execution_count": 15,
   "metadata": {},
   "outputs": [],
   "source": [
    "import pandas as pd\n",
    "\n",
    "df1 = pd.read_csv('Cumulative_Results_Final.csv')\n",
    "df1['OLD_REINFORCE_reward'] = rew_p_st\n",
    "df1.to_csv('Cumulative_Results_Final.csv')"
   ]
  },
  {
   "cell_type": "code",
   "execution_count": null,
   "metadata": {
    "collapsed": true
   },
   "outputs": [],
   "source": []
  }
 ],
 "metadata": {
  "kernelspec": {
   "display_name": "Python 3",
   "language": "python",
   "name": "python3"
  },
  "language_info": {
   "codemirror_mode": {
    "name": "ipython",
    "version": 3
   },
   "file_extension": ".py",
   "mimetype": "text/x-python",
   "name": "python",
   "nbconvert_exporter": "python",
   "pygments_lexer": "ipython3",
   "version": "3.6.3"
  }
 },
 "nbformat": 4,
 "nbformat_minor": 2
}
