{
 "cells": [
  {
   "cell_type": "code",
   "execution_count": 42,
   "metadata": {
    "collapsed": true
   },
   "outputs": [],
   "source": [
    "import matplotlib.pyplot as plt\n",
    "%matplotlib inline\n",
    "import gym\n",
    "import random\n",
    "import numpy as np\n",
    "import math\n",
    "import warnings\n",
    "warnings.filterwarnings(\"ignore\",category =RuntimeWarning)\n",
    "import numpy.linalg as la\n",
    "from Policy import Policy"
   ]
  },
  {
   "cell_type": "markdown",
   "metadata": {},
   "source": [
    "# REINFORCE Algorithm"
   ]
  },
  {
   "cell_type": "code",
   "execution_count": 43,
   "metadata": {
    "collapsed": true
   },
   "outputs": [],
   "source": [
    "def get_trajectory(env, episode_length):\n",
    "    states = np.zeros(episode_length+1, dtype=int)\n",
    "    actions = np.zeros(episode_length, dtype=int)\n",
    "    rewards = np.zeros(episode_length, dtype=int)\n",
    "    x, y = env.reset()\n",
    "    states[0] = x * 5 + y\n",
    "    for i in range(episode_length):\n",
    "        action = env.action()\n",
    "        observation, reward, done, info = env.step(action)\n",
    "        states[i+1] = observation[0] * 5 + observation[1]\n",
    "        actions[i] = action\n",
    "        rewards[i] = reward\n",
    "    return states, actions, rewards\n",
    "\n",
    "def gradient(s, a, policy):\n",
    "    dJ = np.zeros(policy.shape)\n",
    "    p_action = np.exp(policy[s][a]) / np.sum(np.exp(policy[s]))\n",
    "    dJ[s][:] = -p_action\n",
    "    dJ[s][a] = 1 - p_action\n",
    "    return dJ"
   ]
  },
  {
   "cell_type": "code",
   "execution_count": 44,
   "metadata": {
    "collapsed": true
   },
   "outputs": [],
   "source": [
    "def REINFORCE(level, epsilon, episode_length, num_trajectories, n_episode, learning_rate):\n",
    "    env = Policy(level, epsilon)\n",
    "    episode_array = [i for i in range(n_episode)]\n",
    "    reward_array = []\n",
    "    for n in range(n_episode):\n",
    "        reward_sum = 0\n",
    "        policy = env.get_policy()\n",
    "        dJ_all = np.zeros(policy.shape)\n",
    "        for t in range(num_trajectories):\n",
    "            states, actions, rewards = get_trajectory(env, episode_length)\n",
    "            dJ = np.zeros(policy.shape)\n",
    "            for e in range(episode_length):\n",
    "                dJ += gradient(states[e], actions[e], policy)\n",
    "            dJ_all += dJ * rewards.sum() / num_trajectories\n",
    "            reward_sum += rewards.sum() / num_trajectories\n",
    "        env.update(learning_rate * dJ_all)\n",
    "        reward_array.append(reward_sum / episode_length)\n",
    "    return episode_array, reward_array"
   ]
  },
  {
   "cell_type": "code",
   "execution_count": 45,
   "metadata": {
    "collapsed": true
   },
   "outputs": [],
   "source": [
    "def REINFORCE_Baseline(level, epsilon, episode_length, num_trajectories, n_episode, learning_rate):\n",
    "    env = Policy(level, epsilon)\n",
    "    episode_array = [i for i in range(n_episode)]\n",
    "    reward_array = []\n",
    "    for n in range(n_episode):\n",
    "        reward_sum = 0\n",
    "        policy = env.get_policy()\n",
    "        dJ_all = np.zeros(policy.shape)\n",
    "        b_numerator = 0\n",
    "        b_denominator = 0\n",
    "        var = 0\n",
    "        var_all = 0\n",
    "        records = []\n",
    "        for t in range(num_trajectories):\n",
    "            states, actions, rewards = get_trajectory(env, episode_length)\n",
    "            dJ = np.zeros(policy.shape)\n",
    "            for e in range(episode_length):\n",
    "                dJ += gradient(states[e], actions[e], policy)\n",
    "            records.append([dJ, rewards])\n",
    "            dJ_all += dJ * rewards.sum() / num_trajectories\n",
    "            var += (la.norm(dJ) * rewards.sum())**2 / num_trajectories\n",
    "            reward_sum += rewards.sum() / num_trajectories\n",
    "            b_numerator += la.norm(dJ)**2 * rewards.sum() / num_trajectories\n",
    "            b_denominator += la.norm(dJ)**2 / num_trajectories\n",
    "        b = b_numerator / b_denominator\n",
    "        var_all = var - la.norm(dJ_all)**2\n",
    "        var_b = 0\n",
    "        var_all_b = 0\n",
    "        dJ_all_b = np.zeros(policy.shape)\n",
    "        for t in range(num_trajectories):\n",
    "            dJ_b = records[t][0]\n",
    "            reward_b = records[t][1].sum()-b\n",
    "            dJ_all_b += dJ_b * reward_b / num_trajectories\n",
    "            var_b += (la.norm(dJ_b) * reward_b)**2 / num_trajectories\n",
    "        var_all_b = var_b - la.norm(dJ_all_b)**2\n",
    "#         print('var =', var_all, ', var_b =', var_all_b)\n",
    "        env.update(learning_rate * dJ_all_b)\n",
    "        reward_array.append(reward_sum / episode_length)\n",
    "    return episode_array, reward_array"
   ]
  },
  {
   "cell_type": "code",
   "execution_count": 46,
   "metadata": {
    "collapsed": true
   },
   "outputs": [],
   "source": [
    "def REINFORCE_Causality(level, epsilon, episode_length, num_trajectories, n_episode, learning_rate):\n",
    "    env = Policy(level, epsilon)\n",
    "    episode_array = [i for i in range(n_episode)]\n",
    "    reward_array = []\n",
    "    for n in range(n_episode):\n",
    "        reward_sum = 0\n",
    "        policy = env.get_policy()\n",
    "        dJ_all = np.zeros(policy.shape)\n",
    "        for t in range(num_trajectories):\n",
    "            states, actions, rewards = get_trajectory(env, episode_length)\n",
    "            dJ = np.zeros(policy.shape)\n",
    "            for e in range(episode_length):\n",
    "                dJ += gradient(states[e], actions[e], policy) * rewards[e:episode_length].sum()\n",
    "            dJ_all += dJ / num_trajectories\n",
    "            reward_sum += rewards.sum() / num_trajectories\n",
    "        env.update(learning_rate * dJ_all)\n",
    "        reward_array.append(reward_sum / episode_length)\n",
    "    return episode_array, reward_array"
   ]
  },
  {
   "cell_type": "code",
   "execution_count": 83,
   "metadata": {
    "collapsed": true
   },
   "outputs": [],
   "source": [
    "# pool = [[policy, [[dJ_sum, states, actions, rewards], ...num_trajectories], ...n_episode]\n",
    "def REINFORCE_Importance(level, epsilon, episode_length, num_trajectories, n_episode, learning_rate, add_trajectories):\n",
    "    env = Policy(level, epsilon)\n",
    "    episode_array = [i for i in range(n_episode)]\n",
    "    reward_array = []\n",
    "    pool = []\n",
    "    for n in range(n_episode):\n",
    "        policy = env.get_policy()\n",
    "        dJ_all = np.zeros(policy.shape)\n",
    "        reward_sum = 0\n",
    "        var, var_all = 0, 0\n",
    "        old_trajectories = len(pool) * num_trajectories\n",
    "        real_add_trajectories = min(old_trajectories, add_trajectories)\n",
    "        actual_trajectories = num_trajectories + real_add_trajectories\n",
    "        pool.append([policy, []])\n",
    "        if (old_trajectories != 0):\n",
    "            index = np.random.choice(range(old_trajectories), real_add_trajectories, replace=False)\n",
    "        for t in range(real_add_trajectories):\n",
    "            index_episode = int(index[t] / num_trajectories)\n",
    "            index_trajectory = index[t] % num_trajectories\n",
    "            old_policy = pool[index_episode][0]\n",
    "            dJ_sum, states, actions, rewards = pool[index_episode][1][index_trajectory]\n",
    "            total_weight_numerator, total_weight_denominator = 0, 0\n",
    "            for e in range(episode_length):\n",
    "                total_weight_numerator += policy[states[e]][actions[e]]\n",
    "                total_weight_denominator += old_policy[states[e]][actions[e]]\n",
    "            total_weight = total_weight_numerator / total_weight_denominator\n",
    "            reward_sum += total_weight * rewards.sum() / actual_trajectories\n",
    "            var += (total_weight * la.norm(dJ_sum) * rewards.sum())**2 / actual_trajectories\n",
    "            dJ_all += total_weight * dJ_sum * rewards.sum() / actual_trajectories\n",
    "        for t in range(num_trajectories):\n",
    "            states, actions, rewards = get_trajectory(env, episode_length)\n",
    "            dJ_sum = np.zeros(policy.shape)\n",
    "            for e in range(episode_length):\n",
    "                dJ_sum += gradient(states[e], actions[e], policy)\n",
    "            pool[n][1].append([dJ_sum, states, actions, rewards])\n",
    "            dJ_all += dJ_sum * rewards.sum() / actual_trajectories\n",
    "            var += (la.norm(dJ_sum) * rewards.sum())**2 / actual_trajectories\n",
    "            reward_sum += rewards.sum() / actual_trajectories\n",
    "        var_all = var - la.norm(dJ_all)**2\n",
    "        env.update(learning_rate * dJ_all)\n",
    "        reward_array.append(reward_sum / episode_length)\n",
    "    return episode_array, reward_array"
   ]
  },
  {
   "cell_type": "markdown",
   "metadata": {},
   "source": [
    "# Convergence of REINFORCE for Differente Hyperparameters"
   ]
  },
  {
   "cell_type": "code",
   "execution_count": 84,
   "metadata": {},
   "outputs": [
    {
     "data": {
      "image/png": "[encoded data removed]",
      "text/plain": [
       "<matplotlib.figure.Figure at 0x173d37f2940>"
      ]
     },
     "metadata": {},
     "output_type": "display_data"
    }
   ],
   "source": [
    "# level, epsilon, episode_length, num_trajectories, n_episode, learning_rate\n",
    "# {'Importance': , 'Causality': , 'Baseline': }\n",
    "# r_episode_1, r_reward_1 = REINFORCE('hard', 0.1, 20, 20, 100, 0.1, {'Baseline': 1})\n",
    "# r_episode_2, r_reward_2 = REINFORCE_Causality('hard', 0.1, 20, 20, 100, 0.1)\n",
    "# r_episode_3, r_reward_3 = REINFORCE_Baseline('hard', 0.1, 20, 20, 100, 0.1)\n",
    "r_episode_4, r_reward_4 = REINFORCE_Importance('hard', 0.1, 20, 20, 100, 0.1, 5)\n",
    "# plt.plot(r_episode_1, r_reward_1, label='P1')\n",
    "# plt.plot(r_episode_2, r_reward_2, label='P2')\n",
    "# plt.plot(r_episode_3, r_reward_3, label='P3')\n",
    "plt.plot(r_episode_4, r_reward_4, label='P4')\n",
    "plt.xlabel('Episode number')\n",
    "plt.ylabel('Average reward')\n",
    "plt.ylim(bottom=0)\n",
    "plt.legend()\n",
    "plt.show()"
   ]
  },
  {
   "cell_type": "code",
   "execution_count": null,
   "metadata": {
    "collapsed": true
   },
   "outputs": [],
   "source": []
  },
  {
   "cell_type": "code",
   "execution_count": 75,
   "metadata": {
    "collapsed": true
   },
   "outputs": [],
   "source": [
    "# # {'Importance': add_trajectories, 'Causality': 1, 'Baseline': 1}\n",
    "# # pool = [[policy, [[[this_dJ, ...], states, actions, rewards], ...num_trajectories], ...n_episode]\n",
    "# def REINFORCE(level, epsilon, episode_length, num_trajectories, n_episode, learning_rate, mode):\n",
    "#     env = Policy(level, epsilon)\n",
    "#     episode_array = [i for i in range(n_episode)]\n",
    "#     reward_array = []\n",
    "#     add_trajectories = 0\n",
    "#     if 'Importance' in mode.keys():\n",
    "#         pool = []\n",
    "#         add_trajectories = mode['Importance']\n",
    "#     for n in range(n_episode):\n",
    "#         policy = env.get_policy()\n",
    "#         if 'Baseline' in mode.keys():\n",
    "#             b_numerator, b_denominator = 0, 0\n",
    "#             var_b, var_all_b = 0, 0\n",
    "#         dJ_all = np.zeros(policy.shape)\n",
    "#         reward_sum = 0\n",
    "#         var, var_all = 0, 0\n",
    "#         actual_trajectories = num_trajectories + add_trajectories\n",
    "#         if 'Importance' in mode.keys():\n",
    "#             old_trajectories = len(pool)*num_trajectories\n",
    "#             real_add_trajectories = min(old_trajectories, add_trajectories)\n",
    "#             actual_trajectories = num_trajectories + real_add_trajectories\n",
    "#             pool.append([policy, []])\n",
    "#             index = np.random.choice(range(old_trajectories), real_add_trajectories, replace=False)\n",
    "#             for t in range(real_add_trajectories):\n",
    "#                 index_episode = index[t] / num_trajectories\n",
    "#                 index_trajectory = index[t] % num_trajectories\n",
    "#                 old_policy = pool[index_episode][0]\n",
    "#                 this_dJ, states, actions, rewards = pool[index_episode][1][index_trajectory]\n",
    "#                 total_weight_numerator, total_weight_denominator = 0, 0\n",
    "#                 for e in range(episode_length):\n",
    "#                     total_weight_numerator += policy[states[e]][actions[e]]\n",
    "#                     total_weight_denominator += old_policy[states[e]][actions[e]]\n",
    "#                 total_weight = total_weight_numerator / total_weight_denominator\n",
    "#                 reward_sum += total_weight * rewards.sum() / actual_trajectories\n",
    "#                 var += (la.norm(dJ_sum) * rewards.sum())**2 / actual_trajectories\n",
    "#                 dJ_all += dJ_sum * rewards.sum() / actual_trajectories\n",
    "#                 if 'Baseline' in mode.keys():\n",
    "#                     weight = \n",
    "#                     b_numerator += la.norm(dJ_sum)**2 * rewards.sum() / actual_trajectories\n",
    "#                     b_denominator += la.norm(dJ_sum)**2 / actual_trajectories\n",
    "#         for t in range(num_trajectories):\n",
    "#             states, actions, rewards = get_trajectory(env, episode_length)\n",
    "#             if 'Importance' in mode.keys():\n",
    "#                 pool[n][1].append([[]])\n",
    "#             dJ_sum = np.zeros(policy.shape)\n",
    "#             for e in range(episode_length):\n",
    "#                 this_dJ = gradient(states[e], actions[e], policy)\n",
    "# #                 if 'Causality' in mode.keys():\n",
    "# #                     dJ_sum += this_dJ\n",
    "# #                 else:\n",
    "# #                     dJ_sum += this_dJ\n",
    "#                 if 'Importance' in mode.keys():\n",
    "#                     pool[n][1][t][0].append(this_dJ)\n",
    "#             if 'Importance' in mode.keys():\n",
    "#                 pool[n][1][t].append(states, actions, rewards)\n",
    "#             dJ_all += dJ_sum * rewards.sum() / actual_trajectories\n",
    "#             var += (la.norm(dJ_sum) * rewards.sum())**2 / actual_trajectories\n",
    "#             reward_sum += rewards.sum() / actual_trajectories\n",
    "#             if 'Baseline' in mode.keys():\n",
    "#                 b_numerator += la.norm(dJ_sum)**2 * rewards.sum() / actual_trajectories\n",
    "#                 b_denominator += la.norm(dJ_sum)**2 / actual_trajectories\n",
    "#         var_all = var - la.norm(dJ_all)**2\n",
    "#         if 'Baseline' in mode.keys():\n",
    "#             b = b_numerator / b_denominator\n",
    "#             dJ_all_b = np.zeros(policy.shape)\n",
    "#         for t in range(num_trajectories):\n",
    "#             dJ_b = records[t][0]\n",
    "#             reward_b = records[t][1].sum()-b\n",
    "#             dJ_all_b += dJ_b * reward_b / num_trajectories\n",
    "#             var_b += (la.norm(dJ_b) * reward_b)**2 / num_trajectories\n",
    "#         var_all_b = var_b - la.norm(dJ_all_b)**2\n",
    "# #         print('var =', var_all, ', var_b =', var_all_b)\n",
    "#         env.update(learning_rate * dJ_all_b)\n",
    "#         reward_array.append(reward_sum / episode_length)\n",
    "#     states, actions, rewards = get_trajectory(env, episode_length)\n",
    "#     return episode_array, reward_array, (states, actions, rewards)"
   ]
  }
 ],
 "metadata": {
  "kernelspec": {
   "display_name": "Python 3",
   "language": "python",
   "name": "python3"
  },
  "language_info": {
   "codemirror_mode": {
    "name": "ipython",
    "version": 3
   },
   "file_extension": ".py",
   "mimetype": "text/x-python",
   "name": "python",
   "nbconvert_exporter": "python",
   "pygments_lexer": "ipython3",
   "version": "3.6.3"
  }
 },
 "nbformat": 4,
 "nbformat_minor": 2
}
