{
 "cells": [
  {
   "cell_type": "code",
   "execution_count": 1,
   "metadata": {},
   "outputs": [
    {
     "data": {
      "text/plain": [
       "[543]"
      ]
     },
     "execution_count": 1,
     "metadata": {},
     "output_type": "execute_result"
    }
   ],
   "source": [
    "import gym\n",
    "import matplotlib.pyplot as plt\n",
    "import random\n",
    "import numpy as np\n",
    "from gridworld.gridworld import GridWorldEnvNew\n",
    "import argparse\n",
    "\n",
    "env = gym.make('MyGridworld-v2')\n",
    "store_state = {}\n",
    "store_action = {}\n",
    "store_reward = {}\n",
    "store_qfunc = {}\n",
    "total_reward = []\n",
    "\n",
    "a_seed = 543\n",
    "a_render = True \n",
    "a_gamma = 1\n",
    "a_log_interval = 10\n",
    "a_lr = 1e-2\n",
    "\n",
    "env.seed(a_seed)"
   ]
  },
  {
   "cell_type": "code",
   "execution_count": 2,
   "metadata": {},
   "outputs": [],
   "source": [
    "def compute_gradient(policy, state, action):\n",
    "    \n",
    "    delt_grad = np.zeros(policy.shape)\n",
    "    \n",
    "    ### softmax layer \n",
    "    pmf_smax = np.exp(policy[state,:]) / np.sum(np.exp(policy[state,:]), axis=0)\n",
    "\n",
    "    ### Finding Delta_grad-> \\delta_{ss} and \\delta_{aa}\n",
    "    delt_grad[state,:] = -pmf_smax[action]\n",
    "    delt_grad[state,action] = 1 - pmf_smax[action]\n",
    "    \n",
    "    return delt_grad, np.log(pmf_smax[action])"
   ]
  },
  {
   "cell_type": "code",
   "execution_count": 22,
   "metadata": {},
   "outputs": [],
   "source": [
    "def REINFORCE_learning(no_episodes, episode_len,batch_size, alpha, baseline_length, algo = 'd'): \n",
    "    no_batch = int(no_episodes/batch_size)\n",
    "    pfunc = np.zeros([env.observation_space.n, env.action_space.n])\n",
    "    store_all_grads = np.zeros([env.observation_space.n, env.action_space.n, no_episodes])\n",
    "    rf_reward = []\n",
    "\n",
    "    store_all_rewards = []\n",
    "    for i_batch in range(no_batch): \n",
    "        delt_grad = np.zeros(pfunc.shape)\n",
    "        reward_batch = 0\n",
    "    \n",
    "        for n_bach in range(batch_size):\n",
    "            ### Initialize the episode with random state\n",
    "            init_state, cur_pos = env.reset()\n",
    "            #print('Reset state: ', init_state)\n",
    "    \n",
    "            store_s = np.zeros([episode_len], dtype=int) #store states\n",
    "            store_a = np.zeros([episode_len], dtype=int) # store actions\n",
    "            store_r = np.zeros([episode_len], dtype=int) # store rewards\n",
    "            store_p = np.zeros([episode_len], dtype=int) ## log probabilities\n",
    "            \n",
    "            for t in range(episode_len):        \n",
    "        \n",
    "                ### policy based action gradient\n",
    "                pmf_smax = np.exp(pfunc[cur_pos,:]) / np.sum(np.exp(pfunc[cur_pos,:]), axis=0)\n",
    "                a = np.random.choice(np.arange(pfunc.shape[1]), 1, replace=False, p=pmf_smax)\n",
    "                action =  int(a) \n",
    "                store_a[t] = action\n",
    "                store_p[t] = np.log(pmf_smax[a])\n",
    "                \n",
    "                ### Environment is propagated based on action taken\n",
    "                next_state, reward, done, info = env.step(action)\n",
    "                next_pos = info['pos'] ## S'\n",
    "        \n",
    "                ### Plotting and Storing\n",
    "                #print(\" \")\n",
    "                #print(\"Action: \", action)     \n",
    "                #print(\"Reward: \", reward)\n",
    "                #print(\"State:  \", next_pos, next_state)\n",
    "                store_s[t] = next_pos\n",
    "                store_r[t] = reward\n",
    "            \n",
    "                cur_pos = next_pos ## S<--S\n",
    "                env.render()\n",
    "    \n",
    "            ### Calculating the baselines\n",
    "            if (algo.find('b')!=-1):\n",
    "                store_all_rewards.append(store_r)\n",
    "            \n",
    "                ### Calculating baseline information from rewards\n",
    "                ### Ask Dr. West or Dr. Bretl if this makes sense? \n",
    "                store_b = np.zeros([episode_len])\n",
    "                if (i_batch+n_bach >=baseline_length):\n",
    "                    for j in range(i_batch+n_bach-baseline_length, i_batch+n_bach):\n",
    "                        for t in range(episode_len):\n",
    "                            store_b[t] += np.sum(store_all_rewards[j][t:])\n",
    "                    store_b = store_b/float(baseline_length)\n",
    "                    #print('baseline: ', store_b, float(i_batch+n_bach+1))\n",
    "            \n",
    "            #### Here update the policy based on the episode states, actions and rewards\n",
    "            grad_eps = np.zeros(pfunc.shape)\n",
    "            reward_eps = 0\n",
    "            for t in range(episode_len):\n",
    "                ## checking for causality \n",
    "                reward_c, reward_b = 0, 0\n",
    "                if (algo.find('c')!=-1):\n",
    "                    reward_c = np.sum(store_r[t:])\n",
    "                else: \n",
    "                    reward_c = np.sum(store_r)\n",
    "                ## checking for baseline\n",
    "                if (algo.find('b')!=-1):\n",
    "                    reward_b = reward_c - store_b[t]\n",
    "                else: \n",
    "                    reward_b = reward_c\n",
    "\n",
    "                #update the gradient\n",
    "                grad_val, new_lh = compute_gradient(pfunc, store_s[t], store_a[t])\n",
    "                grad_eps += reward_b*grad_val\n",
    "                reward_eps += store_r[t]\n",
    "                \n",
    "            old_lh = np.sum(store_p)\n",
    "            if (algo.find('i')!=-1):\n",
    "                imp_samp_lh = np.exp(old_lh) / np.exp(new_lh)\n",
    "            else: \n",
    "                imp_samp_lh = 1.0\n",
    "            delt_grad += (imp_samp_lh * grad_eps) / batch_size\n",
    "            reward_batch += reward_eps / batch_size\n",
    "            store_all_grads[:,:,n_bach+i_batch] = delt_grad\n",
    "        \n",
    "        #update policy\n",
    "        rf_reward.append(reward_batch)\n",
    "        pfunc = pfunc + alpha * delt_grad\n",
    "\n",
    "    env.close()\n",
    "    \n",
    "    return pfunc, rf_reward, store_all_grads"
   ]
  },
  {
   "cell_type": "code",
   "execution_count": 4,
   "metadata": {
    "scrolled": true
   },
   "outputs": [],
   "source": [
    "## With first st of hyperparameters\n",
    "no_episodes = 200 #0\n",
    "episode_len = 100 \n",
    "batch_size = 10\n",
    "alpha = 0.05\n",
    "baseline_length = 5\n",
    "\n",
    "## these results are shown for easy level\n",
    "bci_pfunc, bci_reward = REINFORCE_learning(no_episodes, episode_len,batch_size, alpha, baseline_length, algo='bci')"
   ]
  },
  {
   "cell_type": "code",
   "execution_count": 11,
   "metadata": {},
   "outputs": [],
   "source": [
    "### This one is for the old reinforcement learning implemented in last week homework\n",
    "d_pfunc, d_reward = REINFORCE_learning(no_episodes, episode_len,batch_size, alpha, baseline_length, algo='d')"
   ]
  },
  {
   "cell_type": "code",
   "execution_count": 13,
   "metadata": {},
   "outputs": [
    {
     "data": {
      "image/png": "[encoded data removed]",
      "text/plain": [
       "<Figure size 432x288 with 1 Axes>"
      ]
     },
     "metadata": {
      "needs_background": "light"
     },
     "output_type": "display_data"
    }
   ],
   "source": [
    "plt.plot(np.arange(int(no_episodes/batch_size))*batch_size, bci_reward, 'b')\n",
    "plt.plot(np.arange(int(no_episodes/batch_size))*batch_size, d_reward, 'r')\n",
    "#plt.legend('old REINFORCE', 'new REINFORCE')\n",
    "plt.show()"
   ]
  },
  {
   "cell_type": "code",
   "execution_count": 23,
   "metadata": {
    "scrolled": true
   },
   "outputs": [],
   "source": [
    "## With second set of hyperparameters\n",
    "no_episodes = 200\n",
    "episode_len = 50  \n",
    "batch_size = 20\n",
    "alpha = 0.1\n",
    "\n",
    "### these results are shown for easy level\n",
    "bc_pfunc, bc_reward, bc_grads = REINFORCE_learning(no_episodes, episode_len,batch_size, alpha, baseline_length)\n",
    "bi_pfunc, bi_reward, bi_grads = REINFORCE_learning(no_episodes, episode_len,batch_size, alpha, baseline_length)\n",
    "ci_pfunc, ci_reward, ci_grads = REINFORCE_learning(no_episodes, episode_len,batch_size, alpha, baseline_length)"
   ]
  },
  {
   "cell_type": "code",
   "execution_count": null,
   "metadata": {},
   "outputs": [],
   "source": [
    "plt.plot(np.arange(int(no_episodes/batch_size))*batch_size, bc_reward, 'b')\n",
    "plt.plot(np.arange(int(no_episodes/batch_size))*batch_size, bi_reward, 'r')\n",
    "plt.plot(np.arange(int(no_episodes/batch_size))*batch_size, ci_reward, 'k')\n",
    "plt.legend('no imp_samp', 'no_causality', 'no baseline')\n",
    "plt.show()"
   ]
  },
  {
   "cell_type": "code",
   "execution_count": null,
   "metadata": {},
   "outputs": [],
   "source": [
    "## With second set of hyperparameters\n",
    "no_episodes = 200\n",
    "episode_len = 50  \n",
    "batch_size = 20\n",
    "alpha = 0.1\n",
    "\n",
    "### these results are shown for easy level\n",
    "bc_pfunc, b_reward = REINFORCE_learning(no_episodes, episode_len,batch_size, alpha, baseline_length)\n",
    "bi_pfunc, bi_reward = REINFORCE_learning(no_episodes, episode_len,batch_size, alpha, baseline_length)\n",
    "ci_pfunc, ci_reward = REINFORCE_learning(no_episodes, episode_len,batch_size, alpha, baseline_length)"
   ]
  },
  {
   "cell_type": "code",
   "execution_count": null,
   "metadata": {},
   "outputs": [],
   "source": []
  },
  {
   "cell_type": "code",
   "execution_count": null,
   "metadata": {},
   "outputs": [],
   "source": []
  },
  {
   "cell_type": "code",
   "execution_count": null,
   "metadata": {},
   "outputs": [],
   "source": []
  }
 ],
 "metadata": {
  "kernelspec": {
   "display_name": "Python 3",
   "language": "python",
   "name": "python3"
  },
  "language_info": {
   "codemirror_mode": {
    "name": "ipython",
    "version": 3
   },
   "file_extension": ".py",
   "mimetype": "text/x-python",
   "name": "python",
   "nbconvert_exporter": "python",
   "pygments_lexer": "ipython3",
   "version": "3.5.2"
  }
 },
 "nbformat": 4,
 "nbformat_minor": 2
}
