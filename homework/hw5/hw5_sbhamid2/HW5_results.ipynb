{
 "cells": [
  {
   "cell_type": "markdown",
   "metadata": {},
   "source": [
    "# <font color='black'> HomeWork-5\n",
    "Netid: sbhamid2</font>"
   ]
  },
  {
   "cell_type": "markdown",
   "metadata": {},
   "source": [
    "__Your goal is to add the following three things to your implementation of the REINFORCE algorithm and to quantify the impact of these things when training an agent for the grid_world environment:__\n",
    "\n",
    "__Importance sampling: REINFORCE is an on-policy algorithm. Importance sampling can be used to produce an off-policy variant of this algorithm. The benefits of using off-policy learning in policy gradient methods are similar to those you discovered in the context of value function methods with \"experience replay.\" Keep a history of trajectories (with log-probabilities and rewards) and choose a subset of them for mini-batch training at each step of REINFORCE.__\n",
    "\n",
    "__Causality: REINFORCE depends on having a good estimate of the policy gradient. This estimate is obtained by computing a sample mean - the average gradient over some number of sampled trajectories. If the variance of the gradient is high, then many samples are required to obtain a good estimate of the mean. One way to reduce the variance is to eliminate any term in the gradient whose mean is known to be identically zero. (If you know a quantity is zero in expectation, why estimate it?) The idea of \"causality\" is that the reward at a given time should not - in expectation - depend on actions taken at any later time. Modify your computation of the gradient to eliminate terms that are zero due to \"causality.\"__\n",
    "\n",
    "__Baseline shift: It is possible to show that the gradient of J(theta) and the gradient of J(theta) - b have the same mean for any b but can have different variance. \"Baseline shift\" means choosing b to minimize the variance. Modify your computation of the gradient to incorporate baseline shift. Remember that b is chosen element-wise - a different value of b is best for each component of theta.__\n",
    "\n",
    "__Apply REINFORCE with these three changes to your grid_world example from HW1. As before, choose hyperparameters so that the training converges. Test your algorithm on both the \"easy\" version of grid_world (actions deterministically move the agent) and the \"hard\" version (some probability of moving in a direction different to the desired action).__"
   ]
  },
  {
   "cell_type": "code",
   "execution_count": 1,
   "metadata": {},
   "outputs": [
    {
     "data": {
      "text/plain": [
       "[543]"
      ]
     },
     "execution_count": 1,
     "metadata": {},
     "output_type": "execute_result"
    }
   ],
   "source": [
    "import gym\n",
    "import matplotlib.pyplot as plt\n",
    "import numpy as np\n",
    "from gridworld.gridworld import GridWorldEnvNew\n",
    "import reinforce as re\n",
    "\n",
    "myenv = gym.make('MyGridworld-v2')\n",
    "set_params = {}\n",
    "myenv.seed(543)"
   ]
  },
  {
   "cell_type": "code",
   "execution_count": 2,
   "metadata": {},
   "outputs": [],
   "source": [
    "##### Results are shown for easy version, can be changed to hard version as well here\n",
    "myenv.env.version = 'easy' #'hard'"
   ]
  },
  {
   "cell_type": "markdown",
   "metadata": {},
   "source": [
    "__Compare the learning speed (number of episodes) to your implementation of REINFORCE from last week. Do the three changes result in faster or slower convergence? Do they result in a better agent?__"
   ]
  },
  {
   "cell_type": "code",
   "execution_count": 3,
   "metadata": {},
   "outputs": [
    {
     "name": "stdout",
     "output_type": "stream",
     "text": [
      "Version:  easy\n",
      "Executing Baseline\n",
      "Executing Causality\n",
      "Executing Importance Sampling\n",
      "Batch:  0\n",
      "Batch:  1\n",
      "Batch:  2\n",
      "Batch:  3\n",
      "Batch:  4\n",
      "Batch:  5\n",
      "Batch:  6\n",
      "Batch:  7\n",
      "Batch:  8\n",
      "Batch:  9\n"
     ]
    }
   ],
   "source": [
    "## Plotting the learning curves of REINFORCE learning\n",
    "set_params.update({'no_eps': 500, 'eps_len': 100, 'alpha': 0.05, 'batch_size': 50, 'mem_size': 75, 'algo': 'bci'})\n",
    "agentA = re.REINFORCElearning(myenv)\n",
    "pfuncA, rewardA, gradA = agentA.train(set_params)"
   ]
  },
  {
   "cell_type": "code",
   "execution_count": 4,
   "metadata": {},
   "outputs": [
    {
     "name": "stdout",
     "output_type": "stream",
     "text": [
      "Version:  easy\n",
      "Batch:  0\n",
      "Batch:  1\n",
      "Batch:  2\n",
      "Batch:  3\n",
      "Batch:  4\n",
      "Batch:  5\n",
      "Batch:  6\n",
      "Batch:  7\n",
      "Batch:  8\n",
      "Batch:  9\n"
     ]
    }
   ],
   "source": [
    "## Plotting the learning curves of REINFORCE learning\n",
    "set_params.update({'no_eps': 500, 'eps_len': 100, 'alpha': 0.05, 'batch_size': 50, 'mem_size': 75, 'algo': 'd'})\n",
    "agentB = re.REINFORCElearning(myenv)\n",
    "pfuncB, rewardB, gradB = agentB.train(set_params)"
   ]
  },
  {
   "cell_type": "code",
   "execution_count": 40,
   "metadata": {},
   "outputs": [
    {
     "data": {
      "image/png": "[encoded data removed]",
      "text/plain": [
       "<Figure size 432x288 with 1 Axes>"
      ]
     },
     "metadata": {
      "needs_background": "light"
     },
     "output_type": "display_data"
    }
   ],
   "source": [
    "plt.plot(np.arange(int(agentA.no_eps/float(agentA.batch_size)))*agentA.batch_size, rewardA, label='B-C-I')\n",
    "plt.plot(np.arange(int(agentB.no_eps/float(agentB.batch_size)))*agentB.batch_size, rewardB, label='Default')\n",
    "plt.legend()\n",
    "plt.ylabel('Average reward per episode')\n",
    "plt.xlabel('Episode number')\n",
    "plt.title('Comparing Default with Baseline,Causality, IS')\n",
    "plt.show()"
   ]
  },
  {
   "cell_type": "markdown",
   "metadata": {},
   "source": [
    "__Also, compare the sample variance of the policy gradient. Verify that \"causality\" and \"baseline shift\" reduce the sample variance. (Does importance sampling have an effect on the sample variance?)__"
   ]
  },
  {
   "cell_type": "code",
   "execution_count": 10,
   "metadata": {},
   "outputs": [
    {
     "name": "stdout",
     "output_type": "stream",
     "text": [
      "Version:  easy\n",
      "Executing Causality\n",
      "Batch:  0\n",
      "Batch:  1\n",
      "Batch:  2\n",
      "Batch:  3\n",
      "Batch:  4\n",
      "Batch:  5\n",
      "Batch:  6\n",
      "Batch:  7\n",
      "Batch:  8\n",
      "Batch:  9\n"
     ]
    }
   ],
   "source": [
    "## Plotting the learning curves of REINFORCE learning Including Causality\n",
    "set_params.update({'no_eps': 500, 'eps_len': 100, 'alpha': 0.05, 'batch_size': 50, 'mem_size': 75, 'algo': 'c'})\n",
    "agentC = re.REINFORCElearning(myenv)\n",
    "pfuncC, rewardC, gradC = agentC.train(set_params)"
   ]
  },
  {
   "cell_type": "code",
   "execution_count": 11,
   "metadata": {},
   "outputs": [
    {
     "name": "stdout",
     "output_type": "stream",
     "text": [
      "Version:  easy\n",
      "Executing Baseline\n",
      "Batch:  0\n",
      "Batch:  1\n",
      "Batch:  2\n",
      "Batch:  3\n",
      "Batch:  4\n",
      "Batch:  5\n",
      "Batch:  6\n",
      "Batch:  7\n",
      "Batch:  8\n",
      "Batch:  9\n"
     ]
    }
   ],
   "source": [
    "## Plotting the learning curves of REINFORCE learning Including Baseline Shift\n",
    "set_params.update({'no_eps': 500, 'eps_len': 100, 'alpha': 0.05, 'batch_size': 50, 'mem_size': 75, 'algo': 'b'})\n",
    "agentD = re.REINFORCElearning(myenv)\n",
    "pfuncD, rewardD, gradD = agentD.train(set_params)"
   ]
  },
  {
   "cell_type": "code",
   "execution_count": 19,
   "metadata": {},
   "outputs": [
    {
     "name": "stdout",
     "output_type": "stream",
     "text": [
      "Average variance in last batch of samples\n",
      "Vanilla: 546968.883838\n",
      "Causality: 135902.198958\n",
      "Baseline Shift: 84426.8326969\n"
     ]
    }
   ],
   "source": [
    "gradB_3d = np.dstack(gradB.values())\n",
    "gradC_3d = np.dstack(gradC.values())\n",
    "gradD_3d = np.dstack(gradD.values())\n",
    "print('Lower average variance by using Baseline shift and causality')\n",
    "print('Vanilla:', np.mean(np.var(gradB_3d, axis=-1)))\n",
    "print('Causality:', np.mean(np.var(gradC_3d, axis=-1)))\n",
    "print('Baseline Shift:', np.mean(np.var(gradD_3d, axis=-1)))"
   ]
  },
  {
   "cell_type": "markdown",
   "metadata": {},
   "source": [
    "__Include an ablation study in your analysis, where you test the algorithm three times, with one feature removed each time (e.g., with only importance sampling and baseline shift), to quantify the impact of this feature on performance.__"
   ]
  },
  {
   "cell_type": "code",
   "execution_count": 6,
   "metadata": {},
   "outputs": [
    {
     "name": "stdout",
     "output_type": "stream",
     "text": [
      "Version:  easy\n",
      "Executing Baseline\n",
      "Executing Causality\n",
      "Batch:  0\n",
      "Batch:  1\n",
      "Batch:  2\n",
      "Batch:  3\n",
      "Batch:  4\n",
      "Batch:  5\n",
      "Batch:  6\n",
      "Batch:  7\n",
      "Batch:  8\n",
      "Batch:  9\n"
     ]
    }
   ],
   "source": [
    "## Plotting the learning curves of REINFORCE learning Including Causality\n",
    "set_params.update({'no_eps': 500, 'eps_len': 100, 'alpha': 0.05, 'batch_size': 50, 'mem_size': 75, 'algo': 'bc'})\n",
    "agentE = re.REINFORCElearning(myenv)\n",
    "pfuncE, rewardE, gradE = agentE.train(set_params)"
   ]
  },
  {
   "cell_type": "code",
   "execution_count": 7,
   "metadata": {},
   "outputs": [
    {
     "name": "stdout",
     "output_type": "stream",
     "text": [
      "Version:  easy\n",
      "Executing Baseline\n",
      "Executing Importance Sampling\n",
      "Batch:  0\n",
      "Batch:  1\n",
      "Batch:  2\n",
      "Batch:  3\n",
      "Batch:  4\n",
      "Batch:  5\n",
      "Batch:  6\n",
      "Batch:  7\n",
      "Batch:  8\n",
      "Batch:  9\n"
     ]
    }
   ],
   "source": [
    "## Plotting the learning curves of REINFORCE learning Including Causality\n",
    "set_params.update({'no_eps': 500, 'eps_len': 100, 'alpha': 0.05, 'batch_size': 50, 'mem_size': 75, 'algo': 'bi'})\n",
    "agentF = re.REINFORCElearning(myenv)\n",
    "pfuncF, rewardF, gradF = agentF.train(set_params)"
   ]
  },
  {
   "cell_type": "code",
   "execution_count": 8,
   "metadata": {},
   "outputs": [
    {
     "name": "stdout",
     "output_type": "stream",
     "text": [
      "Version:  easy\n",
      "Executing Causality\n",
      "Executing Importance Sampling\n",
      "Batch:  0\n",
      "Batch:  1\n",
      "Batch:  2\n",
      "Batch:  3\n",
      "Batch:  4\n",
      "Batch:  5\n",
      "Batch:  6\n",
      "Batch:  7\n",
      "Batch:  8\n",
      "Batch:  9\n"
     ]
    }
   ],
   "source": [
    "## Plotting the learning curves of REINFORCE learning Including Causality\n",
    "set_params.update({'no_eps': 500, 'eps_len': 100, 'alpha': 0.05, 'batch_size': 50, 'mem_size': 75, 'algo': 'ci'})\n",
    "agentG = re.REINFORCElearning(myenv)\n",
    "pfuncG, rewardG, gradG = agentG.train(set_params)"
   ]
  },
  {
   "cell_type": "code",
   "execution_count": 39,
   "metadata": {},
   "outputs": [
    {
     "data": {
      "image/png": "[encoded data removed]",
      "text/plain": [
       "<Figure size 432x288 with 1 Axes>"
      ]
     },
     "metadata": {
      "needs_background": "light"
     },
     "output_type": "display_data"
    }
   ],
   "source": [
    "plt.plot(np.arange(int(agentE.no_eps/float(agentE.batch_size)))*agentE.batch_size, rewardE, label='w/o imp sampling')\n",
    "plt.plot(np.arange(int(agentF.no_eps/float(agentF.batch_size)))*agentF.batch_size, rewardF, label='w/o causality')\n",
    "plt.plot(np.arange(int(agentG.no_eps/float(agentG.batch_size)))*agentG.batch_size, rewardG, label='w/o baseline')\n",
    "plt.legend()\n",
    "plt.ylabel('Average reward per episode')\n",
    "plt.xlabel('Episode number')\n",
    "plt.title('Easy version: Ablation Study')\n",
    "plt.show()"
   ]
  },
  {
   "cell_type": "code",
   "execution_count": null,
   "metadata": {},
   "outputs": [],
   "source": []
  }
 ],
 "metadata": {
  "kernelspec": {
   "display_name": "Python 3",
   "language": "python",
   "name": "python3"
  },
  "language_info": {
   "codemirror_mode": {
    "name": "ipython",
    "version": 3
   },
   "file_extension": ".py",
   "mimetype": "text/x-python",
   "name": "python",
   "nbconvert_exporter": "python",
   "pygments_lexer": "ipython3",
   "version": "3.5.2"
  }
 },
 "nbformat": 4,
 "nbformat_minor": 2
}
