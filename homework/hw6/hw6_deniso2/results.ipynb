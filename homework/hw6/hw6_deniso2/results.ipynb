{
 "cells": [
  {
   "cell_type": "markdown",
   "metadata": {},
   "source": [
    "## HW6 by Denis Osipychev\n",
    "# Proximal Policy Optimization Algorithms"
   ]
  },
  {
   "cell_type": "markdown",
   "metadata": {},
   "source": [
    "### Hyper parameters and service functions"
   ]
  },
  {
   "cell_type": "code",
   "execution_count": 1,
   "metadata": {},
   "outputs": [],
   "source": [
    "# import env and modules\n",
    "import gym\n",
    "import numpy as np\n",
    "import random\n",
    "import tensorflow as tf\n",
    "import tensorflow.contrib.slim as slim"
   ]
  },
  {
   "cell_type": "code",
   "execution_count": 2,
   "metadata": {},
   "outputs": [
    {
     "data": {
      "text/plain": [
       "array([-0.85939927,  0.5113051 ,  0.19142354])"
      ]
     },
     "execution_count": 2,
     "metadata": {},
     "output_type": "execute_result"
    }
   ],
   "source": [
    "# create an instance of env\n",
    "env = gym.make('Pendulum-v0')\n",
    "env.reset()"
   ]
  },
  {
   "cell_type": "code",
   "execution_count": 11,
   "metadata": {},
   "outputs": [],
   "source": [
    "class PPOagent():\n",
    "    def __init__(self, s_size,a_size,h_size):\n",
    "        \n",
    "        self.state_in= tf.placeholder(shape=[None,s_size],dtype=tf.float32)\n",
    "        \n",
    "        # Value network\n",
    "        hidden1 = slim.fully_connected(self.state_in,h_size,biases_initializer=None,activation_fn=tf.nn.relu)\n",
    "        self.value = slim.fully_connected(hidden1,1,biases_initializer=None,activation_fn=None)\n",
    "        \n",
    "        # loss for V network\n",
    "        self.v_target = tf.placeholder(shape=[None],dtype=tf.float32)\n",
    "        self.v_loss = tf.reduce_mean(tf.square(self.v_target - self.value))\n",
    "        self.v_optimizer = tf.train.AdamOptimizer(alpha_v).minimize(self.v_loss)\n",
    "        \n",
    "        \n",
    "        # Policy network\n",
    "        hidden2 = slim.fully_connected(self.state_in,h_size,biases_initializer=None,activation_fn=tf.nn.tanh)\n",
    "        self.p_mean = slim.fully_connected(hidden2,a_size,activation_fn=tf.nn.tanh,biases_initializer=None)\n",
    "        self.p_var = slim.fully_connected(hidden2,a_size,activation_fn=tf.nn.softplus,biases_initializer=None)\n",
    "        prob_distr = tf.distributions.Normal(loc=self.p_mean, scale=self.p_var)\n",
    "        self.action = prob_distr.sample(1)\n",
    "        self.log_prob = prob_distr.log_prob(self.action)\n",
    "                        \n",
    "        # loss for Policy network (A value)\n",
    "        self.old_log_prob = tf.placeholder(shape=[None],dtype=tf.float32)\n",
    "        self.a_target = tf.placeholder(shape=[None],dtype=tf.float32)\n",
    "               \n",
    "        ratio = tf.exp(self.log_prob - self.old_log_prob) # pnew / pold\n",
    "        surr_loss = ratio * self.a_target # surrogate from conservative policy iteration\n",
    "        surr_loss_clip = tf.clip_by_value(ratio, 1.0 - 0.2, 1.0 + 0.2) * self.a_target #\n",
    "        entropy = tf.reduce_mean(tf.exp(self.log_prob)*self.log_prob)\n",
    "        self.p_loss = - tf.reduce_mean(tf.minimum(surr_loss, surr_loss_clip)) - 0.01 * entropy\n",
    "        self.p_optimizer = tf.train.AdamOptimizer(alpha_p).minimize(self.p_loss)"
   ]
  },
  {
   "cell_type": "code",
   "execution_count": 12,
   "metadata": {},
   "outputs": [],
   "source": [
    "class ReplayMemory():\n",
    "    def __init__(self, capacity):\n",
    "        self.capacity = capacity\n",
    "        self.memory = []\n",
    "        self.position = 0\n",
    "\n",
    "    def push(self, arg):\n",
    "        if len(self.memory) < self.capacity:\n",
    "            self.memory.append(None)\n",
    "        self.memory[self.position] = arg\n",
    "        self.position = (self.position + 1) % self.capacity\n",
    "\n",
    "    def sample(self, batch_size):\n",
    "        if len(self.memory) < batch_size:\n",
    "            batch_size = len(self.memory)\n",
    "        return random.sample(self.memory, batch_size)\n",
    "    \n",
    "    def size(self):\n",
    "        return len(self.memory)"
   ]
  },
  {
   "cell_type": "code",
   "execution_count": 13,
   "metadata": {},
   "outputs": [],
   "source": [
    "def compute_v(r_batch, v_new_batch):\n",
    "    v_next = np.asarray(v_new_batch).squeeze()\n",
    "    r = np.asarray(r_batch).squeeze()\n",
    "    return r + v_next*gamma\n",
    "    \n",
    "def compute_a(discounted_r, v):\n",
    "    v_targ = np.asarray(discounted_r).squeeze()\n",
    "    v = np.asarray(v).squeeze()\n",
    "    gae = v_targ - v\n",
    "    return gae"
   ]
  },
  {
   "cell_type": "code",
   "execution_count": 14,
   "metadata": {},
   "outputs": [],
   "source": [
    "# initialize hyperparams for PG\n",
    "n_episodes = 10000\n",
    "episode_length = 200\n",
    "gamma = 0.9\n",
    "alpha_v = 1e-3\n",
    "alpha_p = 1e-3\n",
    "lambd = lam = 1\n",
    "epsilon = 0.2\n",
    "update_freq = 100\n",
    "buffer_size = 1000\n",
    "batch_size = 100"
   ]
  },
  {
   "cell_type": "code",
   "execution_count": 15,
   "metadata": {},
   "outputs": [],
   "source": [
    "# TF variables reset\n",
    "tf.reset_default_graph()\n",
    "myAgent = PPOagent(s_size=3,a_size=1,h_size=20)\n",
    "init = tf.global_variables_initializer()"
   ]
  },
  {
   "cell_type": "code",
   "execution_count": 16,
   "metadata": {
    "scrolled": true
   },
   "outputs": [
    {
     "name": "stdout",
     "output_type": "stream",
     "text": [
      " Epoch: 100 ,Average R: -6.237343816757202 V_loss: 0.5972490505218506 P_loss: 0.14811285614967346 var: 0.7130182138085366\n",
      " Epoch: 200 ,Average R: -6.404433641433716 V_loss: 59.78313714828491 P_loss: 14.821449342679978 var: 0.7020146489143372\n",
      " Epoch: 300 ,Average R: -6.44769766330719 V_loss: 65.62899638366699 P_loss: 15.981919785499574 var: 0.7370478641986847\n",
      " Epoch: 400 ,Average R: -6.39533576965332 V_loss: 73.78063110084535 P_loss: 31.217677177000052 var: 0.6916502904891968\n",
      " Epoch: 500 ,Average R: -6.44246009349823 V_loss: 88.2288345230102 P_loss: 27.48212566213609 var: 0.6889522922039032\n",
      " Epoch: 600 ,Average R: -6.414337811470031 V_loss: 104.03091778182988 P_loss: 11.686228901910784 var: 0.691675273180008\n",
      " Epoch: 700 ,Average R: -6.453921346664429 V_loss: 118.90035010910033 P_loss: 11.766027110576633 var: 0.6922203594446182\n",
      " Epoch: 800 ,Average R: -6.458444676399231 V_loss: 137.38430702667242 P_loss: 15.262532805156706 var: 0.6933990824222565\n",
      " Epoch: 900 ,Average R: -6.407478904724121 V_loss: 147.97200609054568 P_loss: 13.87114392523766 var: 0.693701451420784\n",
      " Epoch: 1000 ,Average R: -6.419667234420777 V_loss: 163.01072143325806 P_loss: 10.359398636245729 var: 0.6967906838655472\n",
      " Epoch: 1100 ,Average R: -6.426349391937256 V_loss: 178.59583511199943 P_loss: 9.420899973630906 var: 0.6979126465320588\n",
      " Epoch: 1200 ,Average R: -6.440686182975769 V_loss: 173.38622586593618 P_loss: 10.856575772047044 var: 0.6965045315027237\n",
      " Epoch: 1300 ,Average R: -6.440898885726929 V_loss: 181.36055268173214 P_loss: 11.271654043912887 var: 0.693453362584114\n",
      " Epoch: 1400 ,Average R: -6.442486000061035 V_loss: 201.87237889556883 P_loss: 9.539286222171786 var: 0.6948128908872604\n",
      " Epoch: 1500 ,Average R: -6.491660056114196 V_loss: 191.22849076004022 P_loss: 50.18727688541413 var: 0.6896652156114578\n",
      " Epoch: 1600 ,Average R: -6.397576832771302 V_loss: 184.3872867233276 P_loss: 8.544520517110822 var: 0.6877500432729721\n",
      " Epoch: 1700 ,Average R: -6.414917607307434 V_loss: 190.33633717575074 P_loss: 8.086872630739213 var: 0.688728598356247\n",
      " Epoch: 1800 ,Average R: -6.509757375717163 V_loss: 189.52764471588137 P_loss: 50.06105010058881 var: 0.6844796472787857\n",
      " Epoch: 1900 ,Average R: -6.441991028785705 V_loss: 192.1611688056945 P_loss: 11.55778233549595 var: 0.6952675986289978\n",
      " Epoch: 2000 ,Average R: -6.435561599731446 V_loss: 197.69410091400144 P_loss: 8.83536530892849 var: 0.6898708438873291\n",
      " Epoch: 2100 ,Average R: -6.407884254455566 V_loss: 187.45347469520567 P_loss: 8.165199583601952 var: 0.6911752945184708\n",
      " Epoch: 2200 ,Average R: -6.4368186378479 V_loss: 190.43127411346427 P_loss: 8.26537673254013 var: 0.6981879889965057\n",
      " Epoch: 2300 ,Average R: -6.363191218376159 V_loss: 179.11965790977467 P_loss: 8.569442704796788 var: 0.6883931678533554\n",
      " Epoch: 2400 ,Average R: -6.4197255849838255 V_loss: 192.48713379135134 P_loss: 10.24199638080597 var: 0.6934951055049896\n",
      " Epoch: 2500 ,Average R: -6.4390401268005375 V_loss: 170.89413319129943 P_loss: 11.975291481375692 var: 0.7190973299741745\n",
      " Epoch: 2600 ,Average R: -6.392013311386108 V_loss: 168.90945925407402 P_loss: 7.697608261489869 var: 0.6899887585639953\n",
      " Epoch: 2700 ,Average R: -6.487025938034058 V_loss: 186.08890634689328 P_loss: 10.159159294199942 var: 0.6937623077630997\n",
      " Epoch: 2800 ,Average R: -6.506708383560181 V_loss: 172.6705613975525 P_loss: 8.049058366489412 var: 0.6980491024255753\n",
      " Epoch: 2900 ,Average R: -6.437080039978027 V_loss: 170.54332533798225 P_loss: 7.65836620182991 var: 0.7024613857269287\n",
      " Epoch: 3000 ,Average R: -6.449761800765991 V_loss: 160.25680519294744 P_loss: 7.468468561434747 var: 0.6966061621904374\n",
      " Epoch: 3100 ,Average R: -6.439154491424561 V_loss: 152.6729526462555 P_loss: 7.994157701539994 var: 0.6994907152652741\n",
      " Epoch: 3200 ,Average R: -6.400872020721436 V_loss: 169.02563278121946 P_loss: 9.465174294018745 var: 0.6931398898363114\n",
      " Epoch: 3300 ,Average R: -6.43842086315155 V_loss: 157.7007421634674 P_loss: 7.422306162667274 var: 0.7039426845312119\n",
      " Epoch: 3400 ,Average R: -6.433966517448425 V_loss: 154.59793585510258 P_loss: 8.310622746300695 var: 0.6939478266239166\n",
      " Epoch: 3500 ,Average R: -6.380772290229797 V_loss: 151.63228791656496 P_loss: 6.556563194847106 var: 0.6963935357332229\n",
      " Epoch: 3600 ,Average R: -6.463918852806091 V_loss: 156.58094483718878 P_loss: 7.208292016577719 var: 0.6976187461614609\n",
      " Epoch: 3700 ,Average R: -6.382106485366822 V_loss: 157.8637324356079 P_loss: 8.399703033113477 var: 0.696849217414856\n",
      " Epoch: 3800 ,Average R: -6.43817108631134 V_loss: 137.44185700874328 P_loss: 8.170607409024239 var: 0.7024419498443604\n",
      " Epoch: 3900 ,Average R: -6.418651261329651 V_loss: 160.19127543449406 P_loss: 7.012664372825624 var: 0.7187760674953461\n",
      " Epoch: 4000 ,Average R: -6.441356763839722 V_loss: 148.15737933387763 P_loss: 7.664123699498176 var: 0.7108682632446289\n",
      " Epoch: 4100 ,Average R: -6.443298583030701 V_loss: 132.27285190048224 P_loss: 7.5664572562098495 var: 0.7013798999786377\n",
      " Epoch: 4200 ,Average R: -6.3579197692871094 V_loss: 140.56618670272826 P_loss: 7.011735541617867 var: 0.7075952315330505\n",
      " Epoch: 4300 ,Average R: -6.388940176963806 V_loss: 128.3888072483063 P_loss: 5.302784478116036 var: 0.7134951239824295\n",
      " Epoch: 4400 ,Average R: -6.34323543548584 V_loss: 131.34225323715208 P_loss: 6.19291248669624 var: 0.7026429110765458\n",
      " Epoch: 4500 ,Average R: -6.340958800315857 V_loss: 136.31626634674072 P_loss: 5.735963464736938 var: 0.7058595991134644\n",
      " Epoch: 4600 ,Average R: -6.359397144317627 V_loss: 123.74146761398315 P_loss: 6.9704850773811335 var: 0.6913257020711899\n",
      " Epoch: 4700 ,Average R: -6.381009378433228 V_loss: 139.614292868805 P_loss: 6.075585068488121 var: 0.6950916826725007\n",
      " Epoch: 4800 ,Average R: -6.443468813896179 V_loss: 133.77530540351873 P_loss: 5.68014932948351 var: 0.7122906124591828\n",
      " Epoch: 4900 ,Average R: -6.406542119979858 V_loss: 123.14778286285399 P_loss: 6.41908984725475 var: 0.6981850159168244\n",
      " Epoch: 5000 ,Average R: -6.47905978679657 V_loss: 110.19450825386042 P_loss: 8.04464851913452 var: 0.6997414010763169\n",
      " Epoch: 5100 ,Average R: -6.447978262901306 V_loss: 111.73332710456847 P_loss: 7.89085083065033 var: 0.6936998921632767\n",
      " Epoch: 5200 ,Average R: -6.4682720136642455 V_loss: 105.32158091468817 P_loss: 5.058991967988014 var: 0.6950684916973114\n",
      " Epoch: 5300 ,Average R: -6.400562024116516 V_loss: 125.04329452209473 P_loss: 5.477889463102814 var: 0.7016410672664642\n",
      " Epoch: 5400 ,Average R: -6.489300308227539 V_loss: 109.30810575523377 P_loss: 9.918900772798061 var: 0.7081612122058868\n",
      " Epoch: 5500 ,Average R: -6.44756826877594 V_loss: 102.89552355079651 P_loss: 5.380351129150391 var: 0.7017285877466202\n",
      " Epoch: 5600 ,Average R: -6.455866541862488 V_loss: 98.33130677833559 P_loss: 11.549814692294598 var: 0.6969562661647797\n",
      " Epoch: 5700 ,Average R: -6.46768949508667 V_loss: 85.393429164505 P_loss: 7.871651242256164 var: 0.7100049299001694\n",
      " Epoch: 5800 ,Average R: -6.431354470252991 V_loss: 91.75571850547789 P_loss: 8.989166449356079 var: 0.698312230706215\n",
      " Epoch: 5900 ,Average R: -6.448505311012268 V_loss: 84.75150773010255 P_loss: 7.0659120777606965 var: 0.7058120906352997\n",
      " Epoch: 6000 ,Average R: -6.425440626144409 V_loss: 80.71480921897891 P_loss: 6.780181402468681 var: 0.708291203379631\n",
      " Epoch: 6100 ,Average R: -6.375195231437683 V_loss: 74.0406623477936 P_loss: 5.673021972787379 var: 0.7109100157022477\n",
      " Epoch: 6200 ,Average R: -6.364171814918518 V_loss: 73.65477437705994 P_loss: 4.119367419493199 var: 0.7070224171876908\n",
      " Epoch: 6300 ,Average R: -6.374289450645446 V_loss: 71.09994763183595 P_loss: 5.036084173619745 var: 0.7295238065719605\n",
      " Epoch: 6400 ,Average R: -6.430474061965942 V_loss: 71.59615373306274 P_loss: 5.431902759146691 var: 0.7188660651445389\n",
      " Epoch: 6500 ,Average R: -6.3659247350692745 V_loss: 66.64934821510315 P_loss: 5.11782885454893 var: 0.7238400214910508\n",
      " Epoch: 6600 ,Average R: -6.307589373588562 V_loss: 67.55924055366516 P_loss: 7.2289948917269715 var: 0.7179699221253395\n",
      " Epoch: 6700 ,Average R: -6.446948566436768 V_loss: 63.14801503887176 P_loss: 4.685469842827319 var: 0.7338499861955643\n",
      " Epoch: 6800 ,Average R: -6.411597833633423 V_loss: 61.65526165924069 P_loss: 4.38373202176094 var: 0.7010573774576188\n",
      " Epoch: 6900 ,Average R: -6.450958065986633 V_loss: 52.55353404712676 P_loss: 5.11077302250862 var: 0.7151808458566665\n"
     ]
    },
    {
     "name": "stdout",
     "output_type": "stream",
     "text": [
      " Epoch: 7000 ,Average R: -6.392494640350342 V_loss: 53.52935520706177 P_loss: 7.8159099047303195 var: 0.693734148144722\n",
      " Epoch: 7100 ,Average R: -6.376474022865295 V_loss: 49.754222750854495 P_loss: 4.890400366699694 var: 0.7151417773962021\n",
      " Epoch: 7200 ,Average R: -6.367020936012268 V_loss: 47.34676093139646 P_loss: 4.878928549563885 var: 0.7183139681816101\n",
      " Epoch: 7300 ,Average R: -6.3307356357574465 V_loss: 44.78159059123992 P_loss: 5.429674606502057 var: 0.7446565735340118\n",
      " Epoch: 7400 ,Average R: -6.32490695476532 V_loss: 41.620276124954216 P_loss: 8.76278045037985 var: 0.7670629227161407\n",
      " Epoch: 7500 ,Average R: -6.387186737060547 V_loss: 38.86498676910401 P_loss: 4.652388293075561 var: 0.7273715019226075\n",
      " Epoch: 7600 ,Average R: -6.4286339521408085 V_loss: 38.438407140731805 P_loss: 5.024854436969758 var: 0.7058548206090927\n",
      " Epoch: 7700 ,Average R: -6.396252460479737 V_loss: 38.541891048431395 P_loss: 4.164119464296103 var: 0.7013249117136001\n",
      " Epoch: 7800 ,Average R: -6.415110063552857 V_loss: 36.505945752334604 P_loss: 6.642118368744853 var: 0.7173289775848388\n",
      " Epoch: 7900 ,Average R: -6.418931927680969 V_loss: 35.429420812988276 P_loss: 4.617771013426783 var: 0.7101037508249283\n",
      " Epoch: 8000 ,Average R: -6.51293936252594 V_loss: 33.37910934238434 P_loss: 3.7613920761168007 var: 0.7175981140136719\n",
      " Epoch: 8100 ,Average R: -6.498655877113342 V_loss: 32.95348330059053 P_loss: 4.079754159498217 var: 0.7316310107707977\n",
      " Epoch: 8200 ,Average R: -6.454758987426758 V_loss: 30.98590641078949 P_loss: 4.519260802778602 var: 0.7202898931503295\n",
      " Epoch: 8300 ,Average R: -6.383590178489685 V_loss: 30.534869606494905 P_loss: 4.557538321092724 var: 0.7142590260505677\n",
      " Epoch: 8400 ,Average R: -6.369988632202149 V_loss: 29.220177204036712 P_loss: 3.5416989340305327 var: 0.7066875648498535\n",
      " Epoch: 8500 ,Average R: -6.3791821622848515 V_loss: 28.323944722938535 P_loss: 4.304949817067384 var: 0.7141845214366913\n",
      " Epoch: 8600 ,Average R: -6.403577890396118 V_loss: 27.338546174621584 P_loss: 7.0155849070847 var: 0.7082057720422745\n",
      " Epoch: 8700 ,Average R: -6.415463252067566 V_loss: 26.46123483467102 P_loss: 5.379784967410562 var: 0.7186162340641021\n",
      " Epoch: 8800 ,Average R: -6.4419471502304075 V_loss: 25.512392009830474 P_loss: 102.3720782269895 var: 0.6765510535240173\n",
      " Epoch: 8900 ,Average R: -6.422981700897217 V_loss: 24.64314181566239 P_loss: 5.323936213541029 var: 0.7191475182771683\n",
      " Epoch: 9000 ,Average R: -6.437447290420533 V_loss: 24.851634683799748 P_loss: 4.117152668368816 var: 0.6997941440343857\n",
      " Epoch: 9100 ,Average R: -6.436286387443542 V_loss: 23.835949073600776 P_loss: 4.070104921370745 var: 0.674627702832222\n",
      " Epoch: 9200 ,Average R: -6.420185790061951 V_loss: 23.398131313419345 P_loss: 3.1767654108282177 var: 0.7002905195951462\n",
      " Epoch: 9300 ,Average R: -6.49999692440033 V_loss: 23.228050711536394 P_loss: 4.858183707915619 var: 0.6988472157716751\n",
      " Epoch: 9400 ,Average R: -6.439851832389832 V_loss: 22.580805895805355 P_loss: 4.372950251424315 var: 0.6791552948951721\n",
      " Epoch: 9500 ,Average R: -6.492074074745179 V_loss: 22.297966741466517 P_loss: 4.760409987920522 var: 0.6906468617916107\n",
      " Epoch: 9600 ,Average R: -6.478190636634826 V_loss: 22.482599656581876 P_loss: 3.7449540792942067 var: 0.6885888767242432\n",
      " Epoch: 9700 ,Average R: -6.412676682472229 V_loss: 22.365543129062647 P_loss: 3.8678294838637113 var: 0.6965419960021972\n",
      " Epoch: 9800 ,Average R: -6.469223499298096 V_loss: 22.028990989923468 P_loss: 3.0496857210487134 var: 0.6887258958816528\n",
      " Epoch: 9900 ,Average R: -6.494236278533935 V_loss: 21.841313348150248 P_loss: 4.1213574734956016 var: 0.69087173640728\n",
      " Epoch: 10000 ,Average R: -6.469430961608887 V_loss: 21.049667978572852 P_loss: 2.937917568847536 var: 0.6994796633720398\n"
     ]
    }
   ],
   "source": [
    "with tf.Session() as sess:\n",
    "    \n",
    "    sess.run(init)\n",
    "    \n",
    "    gradBuffer = sess.run(tf.trainable_variables())\n",
    "    for ix,grad in enumerate(gradBuffer):\n",
    "        gradBuffer[ix] = grad * 0\n",
    "    \n",
    "    stats = []\n",
    "    vloss, ploss = 0, 0\n",
    "    buffer = ReplayMemory(buffer_size)\n",
    "    i_episode = 0\n",
    "    \n",
    "    while i_episode < n_episodes:\n",
    "        \n",
    "        s = env.reset()\n",
    "        s = np.array(s).reshape(1, 3)\n",
    "        running_reward = 0\n",
    "        trajectory = []\n",
    "        i_episode += 1\n",
    "        var = []\n",
    "        \n",
    "        for t in range(episode_length):\n",
    "            \n",
    "            action, plog, pvar = sess.run([myAgent.action,myAgent.log_prob,myAgent.p_var],\n",
    "                                     feed_dict={myAgent.state_in:s})\n",
    "\n",
    "            s_new,r,d,_ = env.step(action)\n",
    "            \n",
    "            var.append(pvar)\n",
    "            \n",
    "            #populate the trajectory\n",
    "            trajectory.append([s,action,r,s_new,plog])\n",
    "            #buffer.push([s,action,r,s_new,plog])\n",
    "    \n",
    "            prev_action = action\n",
    "            s = np.array(s_new).reshape(1, 3)\n",
    "            running_reward += r\n",
    "            \n",
    "            if d == True:\n",
    "                break\n",
    "        \n",
    "        buffer.push(trajectory)\n",
    "        \n",
    "        if i_episode % update_freq == 0:\n",
    "    \n",
    "            vloss, ploss = 0, 0\n",
    "    \n",
    "            # sample the trajectories\n",
    "            batch = buffer.sample(batch_size)\n",
    "        \n",
    "            #do update for each trajectory in the batch\n",
    "            for traj in batch:\n",
    "                s_arr, a_arr, r_arr, s_new_arr, p_arr = zip(*traj)\n",
    "                \n",
    "                v_new_arr = sess.run(myAgent.value, feed_dict={myAgent.state_in:np.asarray(s_new_arr).squeeze()})\n",
    "                v_target_arr = compute_v(r_arr,v_new_arr)\n",
    "                \n",
    "                v_arr = sess.run(myAgent.value, feed_dict={myAgent.state_in:np.asarray(s_arr).squeeze()})\n",
    "                a_target_arr = compute_a(v_target_arr, v_arr)\n",
    "        \n",
    "                _, vl = sess.run([myAgent.v_optimizer, myAgent.v_loss],\n",
    "                                 feed_dict={myAgent.state_in:np.asarray(s_arr).squeeze(),\n",
    "                                            myAgent.v_target:np.asarray(v_target_arr).squeeze()})\n",
    "                \n",
    "                _, pl = sess.run([myAgent.p_optimizer, myAgent.p_loss],\n",
    "                                 feed_dict={myAgent.state_in:np.asarray(s_arr).reshape(len(s_arr),3),\n",
    "                                            myAgent.old_log_prob:np.asarray(p_arr).reshape(len(p_arr)),\n",
    "                                            myAgent.a_target:np.asarray(a_target_arr).reshape(len(a_target_arr))})\n",
    "                                 \n",
    "                vloss += vl\n",
    "                ploss += pl\n",
    "                \n",
    "            vloss /= batch_size\n",
    "            ploss /= batch_size\n",
    "                    \n",
    "        # Update statistics\n",
    "        stats.append([i_episode,running_reward/len(trajectory),vloss,ploss,np.asarray(var).mean()])\n",
    "        \n",
    "        if i_episode % 100 == 0:\n",
    "            print(' Epoch:',i_episode,\n",
    "                  ',Average R:',np.mean(np.asarray(stats)[-100:,1]),\n",
    "                  'V_loss:', np.mean(np.asarray(stats)[-100:,2]),\n",
    "                  'P_loss:',np.mean(np.asarray(stats)[-100:,3]),\n",
    "                    'var:',np.mean(np.asarray(stats)[-100:,4]))\n",
    "    "
   ]
  },
  {
   "cell_type": "code",
   "execution_count": 17,
   "metadata": {},
   "outputs": [
    {
     "data": {
      "image/png": "[encoded data removed]",
      "text/plain": [
       "<Figure size 432x288 with 1 Axes>"
      ]
     },
     "metadata": {
      "needs_background": "light"
     },
     "output_type": "display_data"
    },
    {
     "data": {
      "image/png": "[encoded data removed]",
      "text/plain": [
       "<Figure size 432x288 with 1 Axes>"
      ]
     },
     "metadata": {
      "needs_background": "light"
     },
     "output_type": "display_data"
    }
   ],
   "source": [
    "#plot the results (taken from https://gist.github.com/vksah32/8ba7ee7489bd8ec50c995f6216adcb7d)\n",
    "import pandas as pd\n",
    "import matplotlib.pyplot as plt \n",
    "\n",
    "i,r,vl,pl,var = zip(*stats)\n",
    "r_np = np.asarray(r).flatten()\n",
    "i_np = np.asarray(i).flatten()\n",
    "v_np = np.asarray(vl).flatten()\n",
    "p_np = np.asarray(pl).flatten()\n",
    "var_np = np.asarray(var).flatten()\n",
    "\n",
    "mean_r = pd.Series(r_np).rolling(window=100).mean()\n",
    "mean_v = pd.Series(v_np).rolling(window=100).mean()\n",
    "mean_p = pd.Series(p_np).rolling(window=100).mean()\n",
    "mean_var = pd.Series(var_np).rolling(window=100).mean()\n",
    "\n",
    "plt.figure(0)\n",
    "plt.xlabel(\"epochs\")\n",
    "plt.ylabel(\"score per step\")\n",
    "plt.plot(i_np, mean_r, 'r-')\n",
    "plt.plot(i_np, r_np, 'r-', alpha=0.2)\n",
    "plt.legend(['ppo'])\n",
    "plt.title('Simple pend')\n",
    "plt.show()\n",
    "\n",
    "plt.figure(1)\n",
    "plt.ylabel(\"score per step\")\n",
    "plt.plot(i_np, v_np, 'r-')\n",
    "plt.plot(i_np, p_np, 'b-')\n",
    "plt.plot(i_np, mean_v, 'r-', alpha=0.2)\n",
    "plt.plot(i_np, mean_p, 'b-', alpha=0.2)\n",
    "\n",
    "plt.legend(['ppo'])\n",
    "plt.title('Simple pend')\n",
    "plt.show()"
   ]
  },
  {
   "cell_type": "markdown",
   "metadata": {},
   "source": [
    "## seems to be working now."
   ]
  },
  {
   "cell_type": "code",
   "execution_count": null,
   "metadata": {},
   "outputs": [],
   "source": []
  },
  {
   "cell_type": "code",
   "execution_count": null,
   "metadata": {},
   "outputs": [],
   "source": []
  }
 ],
 "metadata": {
  "kernelspec": {
   "display_name": "Python 3",
   "language": "python",
   "name": "python3"
  },
  "language_info": {
   "codemirror_mode": {
    "name": "ipython",
    "version": 3
   },
   "file_extension": ".py",
   "mimetype": "text/x-python",
   "name": "python",
   "nbconvert_exporter": "python",
   "pygments_lexer": "ipython3",
   "version": "3.6.6"
  }
 },
 "nbformat": 4,
 "nbformat_minor": 2
}
