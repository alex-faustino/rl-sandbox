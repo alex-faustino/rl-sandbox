{
 "cells": [
  {
   "cell_type": "markdown",
   "metadata": {},
   "source": [
    "## HW6 by Denis Osipychev\n",
    "# Proximal Policy Optimization Algorithms"
   ]
  },
  {
   "cell_type": "markdown",
   "metadata": {},
   "source": [
    "### Hyper parameters and service functions"
   ]
  },
  {
   "cell_type": "code",
   "execution_count": 1,
   "metadata": {},
   "outputs": [],
   "source": [
    "# import env and modules\n",
    "import gym\n",
    "import numpy as np\n",
    "import random\n",
    "import tensorflow as tf\n",
    "import tensorflow.contrib.slim as slim"
   ]
  },
  {
   "cell_type": "code",
   "execution_count": 2,
   "metadata": {},
   "outputs": [
    {
     "data": {
      "text/plain": [
       "array([-0.85939927,  0.5113051 ,  0.19142354])"
      ]
     },
     "execution_count": 2,
     "metadata": {},
     "output_type": "execute_result"
    }
   ],
   "source": [
    "# create an instance of env\n",
    "env = gym.make('Pendulum-v0')\n",
    "env.reset()"
   ]
  },
  {
   "cell_type": "code",
   "execution_count": 11,
   "metadata": {},
   "outputs": [],
   "source": [
    "class PPOagent():\n",
    "    def __init__(self, s_size,a_size,h_size):\n",
    "        \n",
    "        self.state_in= tf.placeholder(shape=[None,s_size],dtype=tf.float32)\n",
    "        \n",
    "        # Value network\n",
    "        hidden1 = slim.fully_connected(self.state_in,h_size,biases_initializer=None,activation_fn=tf.nn.relu)\n",
    "        self.value = slim.fully_connected(hidden1,1,biases_initializer=None,activation_fn=None)\n",
    "        \n",
    "        # loss for V network\n",
    "        self.v_target = tf.placeholder(shape=[None],dtype=tf.float32)\n",
    "        self.v_loss = tf.reduce_mean(tf.square(self.v_target - self.value))\n",
    "        self.v_optimizer = tf.train.AdamOptimizer(alpha_v).minimize(self.v_loss)\n",
    "        \n",
    "        \n",
    "        # Policy network\n",
    "        hidden2 = slim.fully_connected(self.state_in,h_size,biases_initializer=None,activation_fn=tf.nn.tanh)\n",
    "        self.p_mean = slim.fully_connected(hidden2,a_size,activation_fn=tf.nn.tanh,biases_initializer=None)\n",
    "        self.p_var = slim.fully_connected(hidden2,a_size,activation_fn=tf.nn.softplus,biases_initializer=None)\n",
    "        prob_distr = tf.distributions.Normal(loc=self.p_mean, scale=self.p_var)\n",
    "        self.action = prob_distr.sample(1)\n",
    "        self.log_prob = prob_distr.log_prob(self.action)\n",
    "                        \n",
    "        # loss for Policy network (A value)\n",
    "        self.old_log_prob = tf.placeholder(shape=[None],dtype=tf.float32)\n",
    "        self.a_target = tf.placeholder(shape=[None],dtype=tf.float32)\n",
    "               \n",
    "        ratio = tf.exp(self.log_prob - self.old_log_prob) # pnew / pold\n",
    "        surr_loss = ratio * self.a_target # surrogate from conservative policy iteration\n",
    "        surr_loss_clip = tf.clip_by_value(ratio, 1.0 - 0.2, 1.0 + 0.2) * self.a_target #\n",
    "        entropy = tf.reduce_mean(tf.exp(self.log_prob)*self.log_prob)\n",
    "        self.p_loss = - tf.reduce_mean(tf.minimum(surr_loss, surr_loss_clip)) - 0.01 * entropy\n",
    "        self.p_optimizer = tf.train.AdamOptimizer(alpha_p).minimize(self.p_loss)"
   ]
  },
  {
   "cell_type": "code",
   "execution_count": 12,
   "metadata": {},
   "outputs": [],
   "source": [
    "class ReplayMemory():\n",
    "    def __init__(self, capacity):\n",
    "        self.capacity = capacity\n",
    "        self.memory = []\n",
    "        self.position = 0\n",
    "\n",
    "    def push(self, arg):\n",
    "        if len(self.memory) < self.capacity:\n",
    "            self.memory.append(None)\n",
    "        self.memory[self.position] = arg\n",
    "        self.position = (self.position + 1) % self.capacity\n",
    "\n",
    "    def sample(self, batch_size):\n",
    "        if len(self.memory) < batch_size:\n",
    "            batch_size = len(self.memory)\n",
    "        return random.sample(self.memory, batch_size)\n",
    "    \n",
    "    def size(self):\n",
    "        return len(self.memory)"
   ]
  },
  {
   "cell_type": "code",
   "execution_count": 13,
   "metadata": {},
   "outputs": [],
   "source": [
    "def compute_v(r_batch, v_new_batch):\n",
    "    v_next = np.asarray(v_new_batch).squeeze()\n",
    "    r = np.asarray(r_batch).squeeze()\n",
    "    return r + v_next*gamma\n",
    "    \n",
    "def compute_a(discounted_r, v):\n",
    "    v_targ = np.asarray(discounted_r).squeeze()\n",
    "    v = np.asarray(v).squeeze()\n",
    "    gae = v_targ - v\n",
    "    return gae"
   ]
  },
  {
   "cell_type": "code",
   "execution_count": 14,
   "metadata": {},
   "outputs": [],
   "source": [
    "# initialize hyperparams for PG\n",
    "n_episodes = 10000\n",
    "episode_length = 200\n",
    "gamma = 0.9\n",
    "alpha_v = 1e-3\n",
    "alpha_p = 1e-3\n",
    "lambd = lam = 1\n",
    "epsilon = 0.2\n",
    "update_freq = 100\n",
    "buffer_size = 1000\n",
    "batch_size = 100"
   ]
  },
  {
   "cell_type": "code",
   "execution_count": 15,
   "metadata": {},
   "outputs": [],
   "source": [
    "# TF variables reset\n",
    "tf.reset_default_graph()\n",
    "myAgent = PPOagent(s_size=3,a_size=1,h_size=20)\n",
    "init = tf.global_variables_initializer()"
   ]
  },
  {
   "cell_type": "code",
   "execution_count": null,
   "metadata": {
    "scrolled": true
   },
   "outputs": [
    {
     "name": "stdout",
     "output_type": "stream",
     "text": [
      " Epoch: 100 ,Average R: -6.237343816757202 V_loss: 0.5972490505218506 P_loss: 0.14811285614967346 var: 0.7130182138085366\n",
      " Epoch: 200 ,Average R: -6.404433641433716 V_loss: 59.78313714828491 P_loss: 14.821449342679978 var: 0.7020146489143372\n",
      " Epoch: 300 ,Average R: -6.44769766330719 V_loss: 65.62899638366699 P_loss: 15.981919785499574 var: 0.7370478641986847\n",
      " Epoch: 400 ,Average R: -6.39533576965332 V_loss: 73.78063110084535 P_loss: 31.217677177000052 var: 0.6916502904891968\n",
      " Epoch: 500 ,Average R: -6.44246009349823 V_loss: 88.2288345230102 P_loss: 27.48212566213609 var: 0.6889522922039032\n",
      " Epoch: 600 ,Average R: -6.414337811470031 V_loss: 104.03091778182988 P_loss: 11.686228901910784 var: 0.691675273180008\n",
      " Epoch: 700 ,Average R: -6.453921346664429 V_loss: 118.90035010910033 P_loss: 11.766027110576633 var: 0.6922203594446182\n",
      " Epoch: 800 ,Average R: -6.458444676399231 V_loss: 137.38430702667242 P_loss: 15.262532805156706 var: 0.6933990824222565\n",
      " Epoch: 900 ,Average R: -6.407478904724121 V_loss: 147.97200609054568 P_loss: 13.87114392523766 var: 0.693701451420784\n",
      " Epoch: 1000 ,Average R: -6.419667234420777 V_loss: 163.01072143325806 P_loss: 10.359398636245729 var: 0.6967906838655472\n",
      " Epoch: 1100 ,Average R: -6.426349391937256 V_loss: 178.59583511199943 P_loss: 9.420899973630906 var: 0.6979126465320588\n",
      " Epoch: 1200 ,Average R: -6.440686182975769 V_loss: 173.38622586593618 P_loss: 10.856575772047044 var: 0.6965045315027237\n",
      " Epoch: 1300 ,Average R: -6.440898885726929 V_loss: 181.36055268173214 P_loss: 11.271654043912887 var: 0.693453362584114\n",
      " Epoch: 1400 ,Average R: -6.442486000061035 V_loss: 201.87237889556883 P_loss: 9.539286222171786 var: 0.6948128908872604\n",
      " Epoch: 1500 ,Average R: -6.491660056114196 V_loss: 191.22849076004022 P_loss: 50.18727688541413 var: 0.6896652156114578\n",
      " Epoch: 1600 ,Average R: -6.397576832771302 V_loss: 184.3872867233276 P_loss: 8.544520517110822 var: 0.6877500432729721\n",
      " Epoch: 1700 ,Average R: -6.414917607307434 V_loss: 190.33633717575074 P_loss: 8.086872630739213 var: 0.688728598356247\n",
      " Epoch: 1800 ,Average R: -6.509757375717163 V_loss: 189.52764471588137 P_loss: 50.06105010058881 var: 0.6844796472787857\n",
      " Epoch: 1900 ,Average R: -6.441991028785705 V_loss: 192.1611688056945 P_loss: 11.55778233549595 var: 0.6952675986289978\n",
      " Epoch: 2000 ,Average R: -6.435561599731446 V_loss: 197.69410091400144 P_loss: 8.83536530892849 var: 0.6898708438873291\n",
      " Epoch: 2100 ,Average R: -6.407884254455566 V_loss: 187.45347469520567 P_loss: 8.165199583601952 var: 0.6911752945184708\n",
      " Epoch: 2200 ,Average R: -6.4368186378479 V_loss: 190.43127411346427 P_loss: 8.26537673254013 var: 0.6981879889965057\n",
      " Epoch: 2300 ,Average R: -6.363191218376159 V_loss: 179.11965790977467 P_loss: 8.569442704796788 var: 0.6883931678533554\n",
      " Epoch: 2400 ,Average R: -6.4197255849838255 V_loss: 192.48713379135134 P_loss: 10.24199638080597 var: 0.6934951055049896\n",
      " Epoch: 2500 ,Average R: -6.4390401268005375 V_loss: 170.89413319129943 P_loss: 11.975291481375692 var: 0.7190973299741745\n",
      " Epoch: 2600 ,Average R: -6.392013311386108 V_loss: 168.90945925407402 P_loss: 7.697608261489869 var: 0.6899887585639953\n",
      " Epoch: 2700 ,Average R: -6.487025938034058 V_loss: 186.08890634689328 P_loss: 10.159159294199942 var: 0.6937623077630997\n",
      " Epoch: 2800 ,Average R: -6.506708383560181 V_loss: 172.6705613975525 P_loss: 8.049058366489412 var: 0.6980491024255753\n"
     ]
    }
   ],
   "source": [
    "with tf.Session() as sess:\n",
    "    \n",
    "    sess.run(init)\n",
    "    \n",
    "    gradBuffer = sess.run(tf.trainable_variables())\n",
    "    for ix,grad in enumerate(gradBuffer):\n",
    "        gradBuffer[ix] = grad * 0\n",
    "    \n",
    "    stats = []\n",
    "    vloss, ploss = 0, 0\n",
    "    buffer = ReplayMemory(buffer_size)\n",
    "    i_episode = 0\n",
    "    \n",
    "    while i_episode < n_episodes:\n",
    "        \n",
    "        s = env.reset()\n",
    "        s = np.array(s).reshape(1, 3)\n",
    "        running_reward = 0\n",
    "        trajectory = []\n",
    "        i_episode += 1\n",
    "        var = []\n",
    "        \n",
    "        for t in range(episode_length):\n",
    "            \n",
    "            action, plog, pvar = sess.run([myAgent.action,myAgent.log_prob,myAgent.p_var],\n",
    "                                     feed_dict={myAgent.state_in:s})\n",
    "\n",
    "            s_new,r,d,_ = env.step(action)\n",
    "            \n",
    "            var.append(pvar)\n",
    "            \n",
    "            #populate the trajectory\n",
    "            trajectory.append([s,action,r,s_new,plog])\n",
    "            #buffer.push([s,action,r,s_new,plog])\n",
    "    \n",
    "            prev_action = action\n",
    "            s = np.array(s_new).reshape(1, 3)\n",
    "            running_reward += r\n",
    "            \n",
    "            if d == True:\n",
    "                break\n",
    "        \n",
    "        buffer.push(trajectory)\n",
    "        \n",
    "        if i_episode % update_freq == 0:\n",
    "    \n",
    "            vloss, ploss = 0, 0\n",
    "    \n",
    "            # sample the trajectories\n",
    "            batch = buffer.sample(batch_size)\n",
    "        \n",
    "            #do update for each trajectory in the batch\n",
    "            for traj in batch:\n",
    "                s_arr, a_arr, r_arr, s_new_arr, p_arr = zip(*traj)\n",
    "                \n",
    "                v_new_arr = sess.run(myAgent.value, feed_dict={myAgent.state_in:np.asarray(s_new_arr).squeeze()})\n",
    "                v_target_arr = compute_v(r_arr,v_new_arr)\n",
    "                \n",
    "                v_arr = sess.run(myAgent.value, feed_dict={myAgent.state_in:np.asarray(s_arr).squeeze()})\n",
    "                a_target_arr = compute_a(v_target_arr, v_arr)\n",
    "        \n",
    "                _, vl = sess.run([myAgent.v_optimizer, myAgent.v_loss],\n",
    "                                 feed_dict={myAgent.state_in:np.asarray(s_arr).squeeze(),\n",
    "                                            myAgent.v_target:np.asarray(v_target_arr).squeeze()})\n",
    "                \n",
    "                _, pl = sess.run([myAgent.p_optimizer, myAgent.p_loss],\n",
    "                                 feed_dict={myAgent.state_in:np.asarray(s_arr).reshape(len(s_arr),3),\n",
    "                                            myAgent.old_log_prob:np.asarray(p_arr).reshape(len(p_arr)),\n",
    "                                            myAgent.a_target:np.asarray(a_target_arr).reshape(len(a_target_arr))})\n",
    "                                 \n",
    "                vloss += vl\n",
    "                ploss += pl\n",
    "                \n",
    "            vloss /= batch_size\n",
    "            ploss /= batch_size\n",
    "                    \n",
    "        # Update statistics\n",
    "        stats.append([i_episode,running_reward/len(trajectory),vloss,ploss,np.asarray(var).mean()])\n",
    "        \n",
    "        if i_episode % 100 == 0:\n",
    "            print(' Epoch:',i_episode,\n",
    "                  ',Average R:',np.mean(np.asarray(stats)[-100:,1]),\n",
    "                  'V_loss:', np.mean(np.asarray(stats)[-100:,2]),\n",
    "                  'P_loss:',np.mean(np.asarray(stats)[-100:,3]),\n",
    "                    'var:',np.mean(np.asarray(stats)[-100:,4]))\n",
    "    "
   ]
  },
  {
   "cell_type": "code",
   "execution_count": null,
   "metadata": {},
   "outputs": [],
   "source": [
    "#plot the results (taken from https://gist.github.com/vksah32/8ba7ee7489bd8ec50c995f6216adcb7d)\n",
    "import pandas as pd\n",
    "import matplotlib.pyplot as plt \n",
    "\n",
    "i,r,vl,pl,var = zip(*stats)\n",
    "r_np = np.asarray(r).flatten()\n",
    "i_np = np.asarray(i).flatten()\n",
    "v_np = np.asarray(vl).flatten()\n",
    "p_np = np.asarray(pl).flatten()\n",
    "var_np = np.asarray(var).flatten()\n",
    "\n",
    "mean_r = pd.Series(r_np).rolling(window=100).mean()\n",
    "mean_v = pd.Series(v_np).rolling(window=100).mean()\n",
    "mean_p = pd.Series(p_np).rolling(window=100).mean()\n",
    "mean_var = pd.Series(var_np).rolling(window=100).mean()\n",
    "\n",
    "plt.figure(0)\n",
    "plt.xlabel(\"epochs\")\n",
    "plt.ylabel(\"score per step\")\n",
    "plt.plot(i_np, mean_r, 'r-')\n",
    "plt.plot(i_np, r_np, 'r-', alpha=0.2)\n",
    "plt.legend(['ppo'])\n",
    "plt.title('Simple pend')\n",
    "plt.show()\n",
    "\n",
    "plt.figure(1)\n",
    "plt.ylabel(\"score per step\")\n",
    "plt.plot(i_np, v_np, 'r-')\n",
    "plt.plot(i_np, p_np, 'b-')\n",
    "plt.plot(i_np, mean_v, 'r-', alpha=0.2)\n",
    "plt.plot(i_np, mean_p, 'b-', alpha=0.2)\n",
    "\n",
    "plt.legend(['ppo'])\n",
    "plt.title('Simple pend')\n",
    "plt.show()"
   ]
  },
  {
   "cell_type": "markdown",
   "metadata": {},
   "source": [
    "## seems to be working now."
   ]
  },
  {
   "cell_type": "code",
   "execution_count": null,
   "metadata": {},
   "outputs": [],
   "source": []
  },
  {
   "cell_type": "code",
   "execution_count": null,
   "metadata": {},
   "outputs": [],
   "source": []
  }
 ],
 "metadata": {
  "kernelspec": {
   "display_name": "Python 3",
   "language": "python",
   "name": "python3"
  },
  "language_info": {
   "codemirror_mode": {
    "name": "ipython",
    "version": 3
   },
   "file_extension": ".py",
   "mimetype": "text/x-python",
   "name": "python",
   "nbconvert_exporter": "python",
   "pygments_lexer": "ipython3",
   "version": "3.6.6"
  }
 },
 "nbformat": 4,
 "nbformat_minor": 2
}
