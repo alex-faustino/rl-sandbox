{
 "cells": [
  {
   "cell_type": "markdown",
   "metadata": {},
   "source": [
    "## HW6 by Denis Osipychev\n",
    "# Proximal Policy Optimization Algorithms"
   ]
  },
  {
   "cell_type": "markdown",
   "metadata": {},
   "source": [
    "### Hyper parameters and service functions"
   ]
  },
  {
   "cell_type": "code",
   "execution_count": null,
   "metadata": {},
   "outputs": [],
   "source": [
    "# import env and modules\n",
    "import gym\n",
    "import numpy as np\n",
    "import random\n",
    "import tensorflow as tf\n",
    "import tensorflow.contrib.slim as slim"
   ]
  },
  {
   "cell_type": "code",
   "execution_count": 2,
   "metadata": {},
   "outputs": [
    {
     "data": {
      "text/plain": [
       "array([-0.71562238, -0.69848738,  0.6366009 ])"
      ]
     },
     "execution_count": 2,
     "metadata": {},
     "output_type": "execute_result"
    }
   ],
   "source": [
    "# create an instance of env\n",
    "env = gym.make('Pendulum-v0')\n",
    "env.reset()"
   ]
  },
  {
   "cell_type": "code",
   "execution_count": 3,
   "metadata": {},
   "outputs": [],
   "source": [
    "class PPOagent():\n",
    "    def __init__(self, lr, s_size,a_size,h_size):\n",
    "        \n",
    "        self.state_in= tf.placeholder(shape=[None,s_size],dtype=tf.float32)\n",
    "        \n",
    "        # Value network\n",
    "        hidden1 = slim.fully_connected(self.state_in,h_size,biases_initializer=None,activation_fn=tf.nn.tanh)\n",
    "        self.value = slim.fully_connected(hidden1,1,biases_initializer=None)\n",
    "        \n",
    "        # Policy network\n",
    "        hidden2 = slim.fully_connected(self.state_in,h_size,biases_initializer=None,activation_fn=tf.nn.tanh)\n",
    "        p_mean = slim.fully_connected(hidden2,a_size,activation_fn=tf.nn.tanh,biases_initializer=None)\n",
    "        p_var = slim.fully_connected(hidden2,a_size,activation_fn=tf.nn.softplus,biases_initializer=None)\n",
    "        prob_distr = tf.distributions.Normal(loc=p_mean, scale=p_var)\n",
    "        self.action = prob_distr.sample(1)\n",
    "        self.log_prob = prob_distr.log_prob(self.action)\n",
    "        \n",
    "        # loss for V network\n",
    "        self.v_target = tf.placeholder(shape=[None],dtype=tf.float32)\n",
    "        v_loss = tf.reduce_mean(tf.square(self.v_target - self.value))\n",
    "        \n",
    "        # loss for Policy network (A value)\n",
    "        self.old_log_prob = tf.placeholder(shape=[None],dtype=tf.float32)\n",
    "        self.a_target = tf.placeholder(shape=[None],dtype=tf.float32)\n",
    "               \n",
    "        ratio = tf.exp(self.log_prob - self.old_log_prob) # pnew / pold\n",
    "        surr_loss = ratio * self.a_target # surrogate from conservative policy iteration\n",
    "        surr_loss_clip = tf.clip_by_value(ratio, 1.0 - 0.2, 1.0 + 0.2) * self.a_target #\n",
    "        p_loss = - tf.reduce_mean(tf.minimum(surr_loss, surr_loss_clip))\n",
    "        \n",
    "        # total loss function\n",
    "        total_loss = p_loss + v_loss\n",
    "        \n",
    "        #tvars = tf.trainable_variables()\n",
    "        self.optimizer = tf.train.AdamOptimizer(alpha).minimize(total_loss)"
   ]
  },
  {
   "cell_type": "code",
   "execution_count": null,
   "metadata": {},
   "outputs": [],
   "source": [
    "# def traj2v_a(s_arr, a_arr, r_arr, s_new_arr, v_arr):\n",
    "    \n",
    "#     new_state = np.append(s_new_arr, 0) # last element is only used for last vtarg, but we already zeroed it if last new = 1\n",
    "#     v_predicted = np.append(v_arr, r_arr[-1])\n",
    "#     T = len(r_arr)\n",
    "#     advantage = np.empty(T, 'float32')\n",
    "#     gaelam = np.empty(T, 'float32')\n",
    "#     lastgaelam = 0\n",
    "#     for t in reversed(range(T)):\n",
    "#         nonterminal = 1 - new_state[t+1]\n",
    "#         delta = r_arr[t] + gamma * v_predicted[t+1] * nonterminal - v_predicted[t]\n",
    "#         gaelam[t] = delta + gamma * lambd * nonterminal * lastgaelam\n",
    "#         lastgaelam = gaelam[t]\n",
    "#         advantage[t] = gaelam[t]\n",
    "#     tdlamret = advantage + v_predicted\n",
    "#     return tdlamret, advantage"
   ]
  },
  {
   "cell_type": "code",
   "execution_count": null,
   "metadata": {},
   "outputs": [],
   "source": [
    "# def v_and_a(s_arr, a_arr, r_arr, s_new_arr, v_arr, gamma, lambd):\n",
    "    \n",
    "#     new_state = np.append(s_new_arr, 0) # last element is only used for last vtarg, but we already zeroed it if last new = 1\n",
    "#     v_predicted = np.append(v_arr, r_arr[-1])\n",
    "#     T = len(r_arr)\n",
    "#     advantage = np.empty(T, 'float32')\n",
    "#     gaelam = np.empty(T, 'float32')\n",
    "#     lastgaelam = 0\n",
    "#     for t in reversed(range(T)):\n",
    "#         nonterminal = 1 - new_state[t+1]\n",
    "#         delta = r_arr[t] + gamma * v_predicted[t+1] * nonterminal - v_predicted[t]\n",
    "#         gaelam[t] = delta + gamma * lam * nonterminal * lastgaelam\n",
    "#         lastgaelam = gaelam[t]\n",
    "#         advantage[t] = gaelam[t]\n",
    "#     tdlamret = advantage + v_predicted\n",
    "#     return tdlamret, advantage"
   ]
  },
  {
   "cell_type": "code",
   "execution_count": 4,
   "metadata": {},
   "outputs": [],
   "source": [
    "class ReplayMemory():\n",
    "    def __init__(self, capacity):\n",
    "        self.capacity = capacity\n",
    "        self.memory = []\n",
    "        self.position = 0\n",
    "\n",
    "    def push(self, arg):\n",
    "        if len(self.memory) < self.capacity:\n",
    "            self.memory.append(None)\n",
    "        self.memory[self.position] = arg\n",
    "        self.position = (self.position + 1) % self.capacity\n",
    "\n",
    "    def sample(self, batch_size):\n",
    "        if len(self.memory) < batch_size:\n",
    "            batch_size = len(self.memory)\n",
    "        return random.sample(self.memory, batch_size)\n",
    "    \n",
    "    def size(self):\n",
    "        return len(self.memory)"
   ]
  },
  {
   "cell_type": "code",
   "execution_count": null,
   "metadata": {},
   "outputs": [],
   "source": [
    "def compute_v(r_batch, v_new_batch):\n",
    "    v_next = np.asarray(v_new_batch).flatten()\n",
    "    reward = np.asarray(r_batch).flatten()\n",
    "    return reward + v_next*gamma\n",
    "    \n",
    "def compute_a(discounted_r, v):\n",
    "    discounted_r = np.asarray(discounted_r).flatten()\n",
    "    v = np.asarray(v).flatten()\n",
    "    gae = discounted_r - v\n",
    "    return gae"
   ]
  },
  {
   "cell_type": "code",
   "execution_count": 5,
   "metadata": {},
   "outputs": [],
   "source": [
    "# initialize hyperparams for PG\n",
    "n_episodes = 5000\n",
    "episode_length = 100\n",
    "gamma = 0.99\n",
    "alpha = 0.0001\n",
    "lambd = lam = 1\n",
    "epsilon = 0.2\n",
    "update_freq = 10\n",
    "buffer_size = 1000\n",
    "batch_size = 100"
   ]
  },
  {
   "cell_type": "code",
   "execution_count": 6,
   "metadata": {},
   "outputs": [],
   "source": [
    "# TF variables reset\n",
    "tf.reset_default_graph()\n",
    "myAgent = PPOagent(lr=alpha,s_size=3,a_size=1,h_size=20)\n",
    "init = tf.global_variables_initializer()"
   ]
  },
  {
   "cell_type": "code",
   "execution_count": 7,
   "metadata": {},
   "outputs": [
    {
     "name": "stdout",
     "output_type": "stream",
     "text": [
      " Epoch: 100 ,Average R: -594.9123300170899\n",
      " Epoch: 200 ,Average R: -606.5799978637696\n",
      " Epoch: 300 ,Average R: -614.8857260131836\n",
      " Epoch: 400 ,Average R: -592.9326348876953\n",
      " Epoch: 500 ,Average R: -589.971086730957\n",
      " Epoch: 600 ,Average R: -609.7478033447265\n",
      " Epoch: 700 ,Average R: -604.5405825805664\n",
      " Epoch: 800 ,Average R: -600.0023239135742\n",
      " Epoch: 900 ,Average R: -600.5494659423828\n",
      " Epoch: 1000 ,Average R: -609.4274411010742\n",
      " Epoch: 1100 ,Average R: -595.2545462036132\n",
      " Epoch: 1200 ,Average R: -604.5076651000977\n",
      " Epoch: 1300 ,Average R: -592.4987307739258\n",
      " Epoch: 1400 ,Average R: -591.0888497924805\n",
      " Epoch: 1500 ,Average R: -594.3765417480469\n",
      " Epoch: 1600 ,Average R: -611.8899365234375\n",
      " Epoch: 1700 ,Average R: -594.6014654541016\n",
      " Epoch: 1800 ,Average R: -595.0692581176758\n",
      " Epoch: 1900 ,Average R: -602.3887823486328\n",
      " Epoch: 2000 ,Average R: -605.5490240478516\n",
      " Epoch: 2100 ,Average R: -601.0630804443359\n",
      " Epoch: 2200 ,Average R: -594.6235430908204\n",
      " Epoch: 2300 ,Average R: -601.1083450317383\n",
      " Epoch: 2400 ,Average R: -607.5132043457031\n",
      " Epoch: 2500 ,Average R: -586.671470336914\n",
      " Epoch: 2600 ,Average R: -604.0046560668945\n",
      " Epoch: 2700 ,Average R: -609.6353030395508\n",
      " Epoch: 2800 ,Average R: -587.5813558959961\n",
      " Epoch: 2900 ,Average R: -599.3842050170898\n",
      " Epoch: 3000 ,Average R: -601.7135461425781\n",
      " Epoch: 3100 ,Average R: -600.2834204101563\n",
      " Epoch: 3200 ,Average R: -608.9112686157226\n",
      " Epoch: 3300 ,Average R: -595.4955340576172\n",
      " Epoch: 3400 ,Average R: -590.726205444336\n",
      " Epoch: 3500 ,Average R: -597.9817193603516\n",
      " Epoch: 3600 ,Average R: -604.3875833129882\n",
      " Epoch: 3700 ,Average R: -600.1813540649414\n",
      " Epoch: 3800 ,Average R: -586.4946530151367\n",
      " Epoch: 3900 ,Average R: -606.174345703125\n",
      " Epoch: 4000 ,Average R: -603.1230780029297\n",
      " Epoch: 4100 ,Average R: -588.1104461669922\n"
     ]
    },
    {
     "ename": "KeyboardInterrupt",
     "evalue": "",
     "output_type": "error",
     "traceback": [
      "\u001b[0;31m---------------------------------------------------------------------------\u001b[0m",
      "\u001b[0;31mKeyboardInterrupt\u001b[0m                         Traceback (most recent call last)",
      "\u001b[0;32m<ipython-input-7-f29e03765afd>\u001b[0m in \u001b[0;36m<module>\u001b[0;34m()\u001b[0m\n\u001b[1;32m     22\u001b[0m \u001b[0;34m\u001b[0m\u001b[0m\n\u001b[1;32m     23\u001b[0m             action, plog = sess.run([myAgent.action,myAgent.log_prob],\n\u001b[0;32m---> 24\u001b[0;31m                                      feed_dict={myAgent.state_in:s})\n\u001b[0m\u001b[1;32m     25\u001b[0m \u001b[0;34m\u001b[0m\u001b[0m\n\u001b[1;32m     26\u001b[0m             \u001b[0ms_new\u001b[0m\u001b[0;34m,\u001b[0m\u001b[0mr\u001b[0m\u001b[0;34m,\u001b[0m\u001b[0md\u001b[0m\u001b[0;34m,\u001b[0m\u001b[0m_\u001b[0m \u001b[0;34m=\u001b[0m \u001b[0menv\u001b[0m\u001b[0;34m.\u001b[0m\u001b[0mstep\u001b[0m\u001b[0;34m(\u001b[0m\u001b[0maction\u001b[0m\u001b[0;34m)\u001b[0m\u001b[0;34m\u001b[0m\u001b[0m\n",
      "\u001b[0;32m~/Documents/miniconda3/lib/python3.6/site-packages/tensorflow/python/client/session.py\u001b[0m in \u001b[0;36mrun\u001b[0;34m(self, fetches, feed_dict, options, run_metadata)\u001b[0m\n\u001b[1;32m    898\u001b[0m     \u001b[0;32mtry\u001b[0m\u001b[0;34m:\u001b[0m\u001b[0;34m\u001b[0m\u001b[0m\n\u001b[1;32m    899\u001b[0m       result = self._run(None, fetches, feed_dict, options_ptr,\n\u001b[0;32m--> 900\u001b[0;31m                          run_metadata_ptr)\n\u001b[0m\u001b[1;32m    901\u001b[0m       \u001b[0;32mif\u001b[0m \u001b[0mrun_metadata\u001b[0m\u001b[0;34m:\u001b[0m\u001b[0;34m\u001b[0m\u001b[0m\n\u001b[1;32m    902\u001b[0m         \u001b[0mproto_data\u001b[0m \u001b[0;34m=\u001b[0m \u001b[0mtf_session\u001b[0m\u001b[0;34m.\u001b[0m\u001b[0mTF_GetBuffer\u001b[0m\u001b[0;34m(\u001b[0m\u001b[0mrun_metadata_ptr\u001b[0m\u001b[0;34m)\u001b[0m\u001b[0;34m\u001b[0m\u001b[0m\n",
      "\u001b[0;32m~/Documents/miniconda3/lib/python3.6/site-packages/tensorflow/python/client/session.py\u001b[0m in \u001b[0;36m_run\u001b[0;34m(self, handle, fetches, feed_dict, options, run_metadata)\u001b[0m\n\u001b[1;32m   1118\u001b[0m     \u001b[0;31m# Create a fetch handler to take care of the structure of fetches.\u001b[0m\u001b[0;34m\u001b[0m\u001b[0;34m\u001b[0m\u001b[0m\n\u001b[1;32m   1119\u001b[0m     fetch_handler = _FetchHandler(\n\u001b[0;32m-> 1120\u001b[0;31m         self._graph, fetches, feed_dict_tensor, feed_handles=feed_handles)\n\u001b[0m\u001b[1;32m   1121\u001b[0m \u001b[0;34m\u001b[0m\u001b[0m\n\u001b[1;32m   1122\u001b[0m     \u001b[0;31m# Run request and get response.\u001b[0m\u001b[0;34m\u001b[0m\u001b[0;34m\u001b[0m\u001b[0m\n",
      "\u001b[0;32m~/Documents/miniconda3/lib/python3.6/site-packages/tensorflow/python/client/session.py\u001b[0m in \u001b[0;36m__init__\u001b[0;34m(self, graph, fetches, feeds, feed_handles)\u001b[0m\n\u001b[1;32m    425\u001b[0m     \"\"\"\n\u001b[1;32m    426\u001b[0m     \u001b[0;32mwith\u001b[0m \u001b[0mgraph\u001b[0m\u001b[0;34m.\u001b[0m\u001b[0mas_default\u001b[0m\u001b[0;34m(\u001b[0m\u001b[0;34m)\u001b[0m\u001b[0;34m:\u001b[0m\u001b[0;34m\u001b[0m\u001b[0m\n\u001b[0;32m--> 427\u001b[0;31m       \u001b[0mself\u001b[0m\u001b[0;34m.\u001b[0m\u001b[0m_fetch_mapper\u001b[0m \u001b[0;34m=\u001b[0m \u001b[0m_FetchMapper\u001b[0m\u001b[0;34m.\u001b[0m\u001b[0mfor_fetch\u001b[0m\u001b[0;34m(\u001b[0m\u001b[0mfetches\u001b[0m\u001b[0;34m)\u001b[0m\u001b[0;34m\u001b[0m\u001b[0m\n\u001b[0m\u001b[1;32m    428\u001b[0m     \u001b[0mself\u001b[0m\u001b[0;34m.\u001b[0m\u001b[0m_fetches\u001b[0m \u001b[0;34m=\u001b[0m \u001b[0;34m[\u001b[0m\u001b[0;34m]\u001b[0m\u001b[0;34m\u001b[0m\u001b[0m\n\u001b[1;32m    429\u001b[0m     \u001b[0mself\u001b[0m\u001b[0;34m.\u001b[0m\u001b[0m_targets\u001b[0m \u001b[0;34m=\u001b[0m \u001b[0;34m[\u001b[0m\u001b[0;34m]\u001b[0m\u001b[0;34m\u001b[0m\u001b[0m\n",
      "\u001b[0;32m~/Documents/miniconda3/lib/python3.6/site-packages/tensorflow/python/client/session.py\u001b[0m in \u001b[0;36mfor_fetch\u001b[0;34m(fetch)\u001b[0m\n\u001b[1;32m    243\u001b[0m     \u001b[0;32melif\u001b[0m \u001b[0misinstance\u001b[0m\u001b[0;34m(\u001b[0m\u001b[0mfetch\u001b[0m\u001b[0;34m,\u001b[0m \u001b[0;34m(\u001b[0m\u001b[0mlist\u001b[0m\u001b[0;34m,\u001b[0m \u001b[0mtuple\u001b[0m\u001b[0;34m)\u001b[0m\u001b[0;34m)\u001b[0m\u001b[0;34m:\u001b[0m\u001b[0;34m\u001b[0m\u001b[0m\n\u001b[1;32m    244\u001b[0m       \u001b[0;31m# NOTE(touts): This is also the code path for namedtuples.\u001b[0m\u001b[0;34m\u001b[0m\u001b[0;34m\u001b[0m\u001b[0m\n\u001b[0;32m--> 245\u001b[0;31m       \u001b[0;32mreturn\u001b[0m \u001b[0m_ListFetchMapper\u001b[0m\u001b[0;34m(\u001b[0m\u001b[0mfetch\u001b[0m\u001b[0;34m)\u001b[0m\u001b[0;34m\u001b[0m\u001b[0m\n\u001b[0m\u001b[1;32m    246\u001b[0m     \u001b[0;32melif\u001b[0m \u001b[0misinstance\u001b[0m\u001b[0;34m(\u001b[0m\u001b[0mfetch\u001b[0m\u001b[0;34m,\u001b[0m \u001b[0mdict\u001b[0m\u001b[0;34m)\u001b[0m\u001b[0;34m:\u001b[0m\u001b[0;34m\u001b[0m\u001b[0m\n\u001b[1;32m    247\u001b[0m       \u001b[0;32mreturn\u001b[0m \u001b[0m_DictFetchMapper\u001b[0m\u001b[0;34m(\u001b[0m\u001b[0mfetch\u001b[0m\u001b[0;34m)\u001b[0m\u001b[0;34m\u001b[0m\u001b[0m\n",
      "\u001b[0;32m~/Documents/miniconda3/lib/python3.6/site-packages/tensorflow/python/client/session.py\u001b[0m in \u001b[0;36m__init__\u001b[0;34m(self, fetches)\u001b[0m\n\u001b[1;32m    350\u001b[0m     \"\"\"\n\u001b[1;32m    351\u001b[0m     \u001b[0mself\u001b[0m\u001b[0;34m.\u001b[0m\u001b[0m_fetch_type\u001b[0m \u001b[0;34m=\u001b[0m \u001b[0mtype\u001b[0m\u001b[0;34m(\u001b[0m\u001b[0mfetches\u001b[0m\u001b[0;34m)\u001b[0m\u001b[0;34m\u001b[0m\u001b[0m\n\u001b[0;32m--> 352\u001b[0;31m     \u001b[0mself\u001b[0m\u001b[0;34m.\u001b[0m\u001b[0m_mappers\u001b[0m \u001b[0;34m=\u001b[0m \u001b[0;34m[\u001b[0m\u001b[0m_FetchMapper\u001b[0m\u001b[0;34m.\u001b[0m\u001b[0mfor_fetch\u001b[0m\u001b[0;34m(\u001b[0m\u001b[0mfetch\u001b[0m\u001b[0;34m)\u001b[0m \u001b[0;32mfor\u001b[0m \u001b[0mfetch\u001b[0m \u001b[0;32min\u001b[0m \u001b[0mfetches\u001b[0m\u001b[0;34m]\u001b[0m\u001b[0;34m\u001b[0m\u001b[0m\n\u001b[0m\u001b[1;32m    353\u001b[0m     \u001b[0mself\u001b[0m\u001b[0;34m.\u001b[0m\u001b[0m_unique_fetches\u001b[0m\u001b[0;34m,\u001b[0m \u001b[0mself\u001b[0m\u001b[0;34m.\u001b[0m\u001b[0m_value_indices\u001b[0m \u001b[0;34m=\u001b[0m \u001b[0m_uniquify_fetches\u001b[0m\u001b[0;34m(\u001b[0m\u001b[0mself\u001b[0m\u001b[0;34m.\u001b[0m\u001b[0m_mappers\u001b[0m\u001b[0;34m)\u001b[0m\u001b[0;34m\u001b[0m\u001b[0m\n\u001b[1;32m    354\u001b[0m \u001b[0;34m\u001b[0m\u001b[0m\n",
      "\u001b[0;32m~/Documents/miniconda3/lib/python3.6/site-packages/tensorflow/python/client/session.py\u001b[0m in \u001b[0;36m<listcomp>\u001b[0;34m(.0)\u001b[0m\n\u001b[1;32m    350\u001b[0m     \"\"\"\n\u001b[1;32m    351\u001b[0m     \u001b[0mself\u001b[0m\u001b[0;34m.\u001b[0m\u001b[0m_fetch_type\u001b[0m \u001b[0;34m=\u001b[0m \u001b[0mtype\u001b[0m\u001b[0;34m(\u001b[0m\u001b[0mfetches\u001b[0m\u001b[0;34m)\u001b[0m\u001b[0;34m\u001b[0m\u001b[0m\n\u001b[0;32m--> 352\u001b[0;31m     \u001b[0mself\u001b[0m\u001b[0;34m.\u001b[0m\u001b[0m_mappers\u001b[0m \u001b[0;34m=\u001b[0m \u001b[0;34m[\u001b[0m\u001b[0m_FetchMapper\u001b[0m\u001b[0;34m.\u001b[0m\u001b[0mfor_fetch\u001b[0m\u001b[0;34m(\u001b[0m\u001b[0mfetch\u001b[0m\u001b[0;34m)\u001b[0m \u001b[0;32mfor\u001b[0m \u001b[0mfetch\u001b[0m \u001b[0;32min\u001b[0m \u001b[0mfetches\u001b[0m\u001b[0;34m]\u001b[0m\u001b[0;34m\u001b[0m\u001b[0m\n\u001b[0m\u001b[1;32m    353\u001b[0m     \u001b[0mself\u001b[0m\u001b[0;34m.\u001b[0m\u001b[0m_unique_fetches\u001b[0m\u001b[0;34m,\u001b[0m \u001b[0mself\u001b[0m\u001b[0;34m.\u001b[0m\u001b[0m_value_indices\u001b[0m \u001b[0;34m=\u001b[0m \u001b[0m_uniquify_fetches\u001b[0m\u001b[0;34m(\u001b[0m\u001b[0mself\u001b[0m\u001b[0;34m.\u001b[0m\u001b[0m_mappers\u001b[0m\u001b[0;34m)\u001b[0m\u001b[0;34m\u001b[0m\u001b[0m\n\u001b[1;32m    354\u001b[0m \u001b[0;34m\u001b[0m\u001b[0m\n",
      "\u001b[0;32m~/Documents/miniconda3/lib/python3.6/site-packages/tensorflow/python/client/session.py\u001b[0m in \u001b[0;36mfor_fetch\u001b[0;34m(fetch)\u001b[0m\n\u001b[1;32m    251\u001b[0m         \u001b[0;32mif\u001b[0m \u001b[0misinstance\u001b[0m\u001b[0;34m(\u001b[0m\u001b[0mfetch\u001b[0m\u001b[0;34m,\u001b[0m \u001b[0mtensor_type\u001b[0m\u001b[0;34m)\u001b[0m\u001b[0;34m:\u001b[0m\u001b[0;34m\u001b[0m\u001b[0m\n\u001b[1;32m    252\u001b[0m           \u001b[0mfetches\u001b[0m\u001b[0;34m,\u001b[0m \u001b[0mcontraction_fn\u001b[0m \u001b[0;34m=\u001b[0m \u001b[0mfetch_fn\u001b[0m\u001b[0;34m(\u001b[0m\u001b[0mfetch\u001b[0m\u001b[0;34m)\u001b[0m\u001b[0;34m\u001b[0m\u001b[0m\n\u001b[0;32m--> 253\u001b[0;31m           \u001b[0;32mreturn\u001b[0m \u001b[0m_ElementFetchMapper\u001b[0m\u001b[0;34m(\u001b[0m\u001b[0mfetches\u001b[0m\u001b[0;34m,\u001b[0m \u001b[0mcontraction_fn\u001b[0m\u001b[0;34m)\u001b[0m\u001b[0;34m\u001b[0m\u001b[0m\n\u001b[0m\u001b[1;32m    254\u001b[0m     \u001b[0;31m# Did not find anything.\u001b[0m\u001b[0;34m\u001b[0m\u001b[0;34m\u001b[0m\u001b[0m\n\u001b[1;32m    255\u001b[0m     raise TypeError('Fetch argument %r has invalid type %r' % (fetch,\n",
      "\u001b[0;32m~/Documents/miniconda3/lib/python3.6/site-packages/tensorflow/python/client/session.py\u001b[0m in \u001b[0;36m__init__\u001b[0;34m(self, fetches, contraction_fn)\u001b[0m\n\u001b[1;32m    280\u001b[0m       \u001b[0;32mtry\u001b[0m\u001b[0;34m:\u001b[0m\u001b[0;34m\u001b[0m\u001b[0m\n\u001b[1;32m    281\u001b[0m         self._unique_fetches.append(ops.get_default_graph().as_graph_element(\n\u001b[0;32m--> 282\u001b[0;31m             fetch, allow_tensor=True, allow_operation=True))\n\u001b[0m\u001b[1;32m    283\u001b[0m       \u001b[0;32mexcept\u001b[0m \u001b[0mTypeError\u001b[0m \u001b[0;32mas\u001b[0m \u001b[0me\u001b[0m\u001b[0;34m:\u001b[0m\u001b[0;34m\u001b[0m\u001b[0m\n\u001b[1;32m    284\u001b[0m         raise TypeError('Fetch argument %r has invalid type %r, '\n",
      "\u001b[0;32m~/Documents/miniconda3/lib/python3.6/site-packages/tensorflow/python/framework/ops.py\u001b[0m in \u001b[0;36mas_graph_element\u001b[0;34m(self, obj, allow_tensor, allow_operation)\u001b[0m\n\u001b[1;32m   3587\u001b[0m       \u001b[0;32mreturn\u001b[0m \u001b[0mself\u001b[0m\u001b[0;34m.\u001b[0m\u001b[0m_as_graph_element_locked\u001b[0m\u001b[0;34m(\u001b[0m\u001b[0mobj\u001b[0m\u001b[0;34m,\u001b[0m \u001b[0mallow_tensor\u001b[0m\u001b[0;34m,\u001b[0m \u001b[0mallow_operation\u001b[0m\u001b[0;34m)\u001b[0m\u001b[0;34m\u001b[0m\u001b[0m\n\u001b[1;32m   3588\u001b[0m \u001b[0;34m\u001b[0m\u001b[0m\n\u001b[0;32m-> 3589\u001b[0;31m     \u001b[0;32mwith\u001b[0m \u001b[0mself\u001b[0m\u001b[0;34m.\u001b[0m\u001b[0m_lock\u001b[0m\u001b[0;34m:\u001b[0m\u001b[0;34m\u001b[0m\u001b[0m\n\u001b[0m\u001b[1;32m   3590\u001b[0m       \u001b[0;32mreturn\u001b[0m \u001b[0mself\u001b[0m\u001b[0;34m.\u001b[0m\u001b[0m_as_graph_element_locked\u001b[0m\u001b[0;34m(\u001b[0m\u001b[0mobj\u001b[0m\u001b[0;34m,\u001b[0m \u001b[0mallow_tensor\u001b[0m\u001b[0;34m,\u001b[0m \u001b[0mallow_operation\u001b[0m\u001b[0;34m)\u001b[0m\u001b[0;34m\u001b[0m\u001b[0m\n\u001b[1;32m   3591\u001b[0m \u001b[0;34m\u001b[0m\u001b[0m\n",
      "\u001b[0;31mKeyboardInterrupt\u001b[0m: "
     ]
    }
   ],
   "source": [
    "with tf.Session() as sess:\n",
    "    \n",
    "    sess.run(init)\n",
    "    \n",
    "    gradBuffer = sess.run(tf.trainable_variables())\n",
    "    for ix,grad in enumerate(gradBuffer):\n",
    "        gradBuffer[ix] = grad * 0\n",
    "    \n",
    "    stats = []\n",
    "    buffer = ReplayMemory(buffer_size)\n",
    "    i_episode = 0\n",
    "    \n",
    "    while i_episode < n_episodes:\n",
    "        \n",
    "        s = env.reset()\n",
    "        s = np.array(s).reshape(1, 3)\n",
    "        running_reward = 0\n",
    "        trajectory = []\n",
    "        i_episode += 1\n",
    "        \n",
    "        for t in range(episode_length):\n",
    "            \n",
    "            action, plog = sess.run([myAgent.action,myAgent.log_prob],\n",
    "                                     feed_dict={myAgent.state_in:s})\n",
    "\n",
    "            s_new,r,d,_ = env.step(action)\n",
    "            \n",
    "            #populate the trajectory\n",
    "            trajectory.append([s,action,r,s_new,plog])\n",
    "            #buffer.push([s,action,r,s_new,plog])\n",
    "    \n",
    "            prev_action = action\n",
    "            s = np.array(s_new).reshape(1, 3)\n",
    "            running_reward += r\n",
    "            \n",
    "            if d == True:\n",
    "                \n",
    "                buffer.push(trajectory)\n",
    "                break\n",
    "                \n",
    "        # sample the trajectories\n",
    "        batch = buffer.sample(batch_size)\n",
    "        \n",
    "        #do update for each trajectory in the batch\n",
    "        for traj in batch:\n",
    "            s_arr, a_arr, r_arr, s_new_arr, p_arr = zip(*traj)\n",
    "            v_new_arr = sess.run(myAgent.value, feed_dict={myAgent.state_in:s_new_arr})\n",
    "            v_arr = sess.run(myAgent.value, feed_dict={myAgent.state_in:s_arr})\n",
    "            v_target_arr = compute_v(r_arr,v_new_arr)\n",
    "            a_target_arr = compute_a(v_target_arr, v_arr)\n",
    "        \n",
    "            feed_dict={myAgent.state_in:s_arr,\n",
    "                        myAgent.old_log_prob:p_arr,\n",
    "                        myAgent.a_target:a_target_arr,\n",
    "                        myAgent.v_target:v_target_arr}\n",
    "            _ = sess.run(myAgent.optimizer, feed_dict=feed_dict)\n",
    "                    \n",
    "        # Update statistics\n",
    "        stats.append([i_episode,running_reward])\n",
    "        \n",
    "        if i_episode % 100 == 0:\n",
    "            print(' Epoch:',i_episode,',Average R:',np.mean(np.asarray(stats)[-100:,1]))\n",
    "    "
   ]
  },
  {
   "cell_type": "code",
   "execution_count": 9,
   "metadata": {},
   "outputs": [
    {
     "data": {
      "image/png": "[encoded data removed]",
      "text/plain": [
       "<Figure size 432x288 with 1 Axes>"
      ]
     },
     "metadata": {},
     "output_type": "display_data"
    }
   ],
   "source": [
    "#plot the results (taken from https://gist.github.com/vksah32/8ba7ee7489bd8ec50c995f6216adcb7d)\n",
    "import pandas as pd\n",
    "import matplotlib.pyplot as plt \n",
    "\n",
    "i,r = zip(*stats)\n",
    "r_np = np.asarray(r).flatten()\n",
    "i_np = np.asarray(i).flatten()\n",
    "\n",
    "mean_x1 = pd.Series(r_np).rolling(window=100).mean()\n",
    "\n",
    "plt.xlabel(\"epochs\")\n",
    "plt.ylabel(\"score per step\")\n",
    "plt.plot(i_np, mean_x1, 'r-')\n",
    "plt.legend(['ppo'])\n",
    "plt.title('Simple pend')\n",
    "plt.show()"
   ]
  },
  {
   "cell_type": "markdown",
   "metadata": {},
   "source": [
    "## still not working ("
   ]
  },
  {
   "cell_type": "code",
   "execution_count": null,
   "metadata": {},
   "outputs": [],
   "source": []
  }
 ],
 "metadata": {
  "kernelspec": {
   "display_name": "Python 3",
   "language": "python",
   "name": "python3"
  },
  "language_info": {
   "codemirror_mode": {
    "name": "ipython",
    "version": 3
   },
   "file_extension": ".py",
   "mimetype": "text/x-python",
   "name": "python",
   "nbconvert_exporter": "python",
   "pygments_lexer": "ipython3",
   "version": "3.6.5"
  }
 },
 "nbformat": 4,
 "nbformat_minor": 2
}
