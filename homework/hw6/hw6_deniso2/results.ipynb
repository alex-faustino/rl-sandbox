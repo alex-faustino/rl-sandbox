{
 "cells": [
  {
   "cell_type": "markdown",
   "metadata": {},
   "source": [
    "## HW6 by Denis Osipychev\n",
    "# Proximal Policy Optimization Algorithms"
   ]
  },
  {
   "cell_type": "markdown",
   "metadata": {},
   "source": [
    "### Hyper parameters and service functions"
   ]
  },
  {
   "cell_type": "code",
   "execution_count": 1,
   "metadata": {},
   "outputs": [],
   "source": [
    "# import env and modules\n",
    "import gym\n",
    "import numpy as np\n",
    "import random\n",
    "import tensorflow as tf\n",
    "import tensorflow.contrib.slim as slim"
   ]
  },
  {
   "cell_type": "code",
   "execution_count": 2,
   "metadata": {},
   "outputs": [
    {
     "data": {
      "text/plain": [
       "array([-0.82612914, -0.56348082, -0.67388422])"
      ]
     },
     "execution_count": 2,
     "metadata": {},
     "output_type": "execute_result"
    }
   ],
   "source": [
    "# create an instance of env\n",
    "env = gym.make('Pendulum-v0')\n",
    "env.reset()"
   ]
  },
  {
   "cell_type": "code",
   "execution_count": 3,
   "metadata": {},
   "outputs": [],
   "source": [
    "class PPOagent():\n",
    "    def __init__(self, lr, s_size,a_size,h_size):\n",
    "        \n",
    "        self.state_in= tf.placeholder(shape=[None,s_size],dtype=tf.float32)\n",
    "        \n",
    "        # Value network\n",
    "        hidden1 = slim.fully_connected(self.state_in,h_size,biases_initializer=None,activation_fn=tf.nn.tanh)\n",
    "        self.value = slim.fully_connected(hidden1,1,biases_initializer=None)\n",
    "        \n",
    "        # Policy network\n",
    "        hidden2 = slim.fully_connected(self.state_in,h_size,biases_initializer=None,activation_fn=tf.nn.tanh)\n",
    "        p_mean = slim.fully_connected(hidden2,a_size,activation_fn=tf.nn.tanh,biases_initializer=None)\n",
    "        p_var = slim.fully_connected(hidden2,a_size,activation_fn=tf.nn.softplus,biases_initializer=None)\n",
    "        prob_distr = tf.distributions.Normal(loc=p_mean, scale=p_var)\n",
    "        self.action = prob_distr.sample(1)\n",
    "        self.log_prob = prob_distr.log_prob(self.action)\n",
    "        \n",
    "        # loss for V network\n",
    "        self.v_target = tf.placeholder(shape=[None],dtype=tf.float32)\n",
    "        self.v_loss = tf.reduce_mean(tf.square(self.v_target - self.value))\n",
    "        \n",
    "        # loss for Policy network (A value)\n",
    "        self.old_log_prob = tf.placeholder(shape=[None],dtype=tf.float32)\n",
    "        self.a_target = tf.placeholder(shape=[None],dtype=tf.float32)\n",
    "               \n",
    "        ratio = tf.exp(self.log_prob - self.old_log_prob) # pnew / pold\n",
    "        surr_loss = ratio * self.a_target # surrogate from conservative policy iteration\n",
    "        surr_loss_clip = tf.clip_by_value(ratio, 1.0 - 0.2, 1.0 + 0.2) * self.a_target #\n",
    "        self.p_loss = - tf.reduce_mean(tf.minimum(surr_loss, surr_loss_clip))\n",
    "        \n",
    "        # total loss function\n",
    "        total_loss = self.p_loss + self.v_loss\n",
    "        \n",
    "        #tvars = tf.trainable_variables()\n",
    "        self.optimizer = tf.train.AdamOptimizer(alpha).minimize(total_loss)"
   ]
  },
  {
   "cell_type": "code",
   "execution_count": null,
   "metadata": {},
   "outputs": [],
   "source": [
    "# def traj2v_a(s_arr, a_arr, r_arr, s_new_arr, v_arr):\n",
    "    \n",
    "#     new_state = np.append(s_new_arr, 0) # last element is only used for last vtarg, but we already zeroed it if last new = 1\n",
    "#     v_predicted = np.append(v_arr, r_arr[-1])\n",
    "#     T = len(r_arr)\n",
    "#     advantage = np.empty(T, 'float32')\n",
    "#     gaelam = np.empty(T, 'float32')\n",
    "#     lastgaelam = 0\n",
    "#     for t in reversed(range(T)):\n",
    "#         nonterminal = 1 - new_state[t+1]\n",
    "#         delta = r_arr[t] + gamma * v_predicted[t+1] * nonterminal - v_predicted[t]\n",
    "#         gaelam[t] = delta + gamma * lambd * nonterminal * lastgaelam\n",
    "#         lastgaelam = gaelam[t]\n",
    "#         advantage[t] = gaelam[t]\n",
    "#     tdlamret = advantage + v_predicted\n",
    "#     return tdlamret, advantage"
   ]
  },
  {
   "cell_type": "code",
   "execution_count": null,
   "metadata": {},
   "outputs": [],
   "source": [
    "# def v_and_a(s_arr, a_arr, r_arr, s_new_arr, v_arr, gamma, lambd):\n",
    "    \n",
    "#     new_state = np.append(s_new_arr, 0) # last element is only used for last vtarg, but we already zeroed it if last new = 1\n",
    "#     v_predicted = np.append(v_arr, r_arr[-1])\n",
    "#     T = len(r_arr)\n",
    "#     advantage = np.empty(T, 'float32')\n",
    "#     gaelam = np.empty(T, 'float32')\n",
    "#     lastgaelam = 0\n",
    "#     for t in reversed(range(T)):\n",
    "#         nonterminal = 1 - new_state[t+1]\n",
    "#         delta = r_arr[t] + gamma * v_predicted[t+1] * nonterminal - v_predicted[t]\n",
    "#         gaelam[t] = delta + gamma * lam * nonterminal * lastgaelam\n",
    "#         lastgaelam = gaelam[t]\n",
    "#         advantage[t] = gaelam[t]\n",
    "#     tdlamret = advantage + v_predicted\n",
    "#     return tdlamret, advantage"
   ]
  },
  {
   "cell_type": "code",
   "execution_count": 4,
   "metadata": {},
   "outputs": [],
   "source": [
    "class ReplayMemory():\n",
    "    def __init__(self, capacity):\n",
    "        self.capacity = capacity\n",
    "        self.memory = []\n",
    "        self.position = 0\n",
    "\n",
    "    def push(self, arg):\n",
    "        if len(self.memory) < self.capacity:\n",
    "            self.memory.append(None)\n",
    "        self.memory[self.position] = arg\n",
    "        self.position = (self.position + 1) % self.capacity\n",
    "\n",
    "    def sample(self, batch_size):\n",
    "        if len(self.memory) < batch_size:\n",
    "            batch_size = len(self.memory)\n",
    "        return random.sample(self.memory, batch_size)\n",
    "    \n",
    "    def size(self):\n",
    "        return len(self.memory)"
   ]
  },
  {
   "cell_type": "code",
   "execution_count": 5,
   "metadata": {},
   "outputs": [],
   "source": [
    "def compute_v(r_batch, v_new_batch):\n",
    "    v_next = np.asarray(v_new_batch).flatten()\n",
    "    reward = np.asarray(r_batch).flatten()\n",
    "    return reward + v_next*gamma\n",
    "    \n",
    "def compute_a(discounted_r, v):\n",
    "    discounted_r = np.asarray(discounted_r).flatten()\n",
    "    v = np.asarray(v).flatten()\n",
    "    gae = discounted_r - v\n",
    "    return gae"
   ]
  },
  {
   "cell_type": "code",
   "execution_count": 6,
   "metadata": {},
   "outputs": [],
   "source": [
    "# initialize hyperparams for PG\n",
    "n_episodes = 5000\n",
    "episode_length = 100\n",
    "gamma = 0.99\n",
    "alpha = 0.001\n",
    "lambd = lam = 1\n",
    "epsilon = 0.2\n",
    "update_freq = 100\n",
    "buffer_size = 10000\n",
    "batch_size = 100"
   ]
  },
  {
   "cell_type": "code",
   "execution_count": 7,
   "metadata": {},
   "outputs": [],
   "source": [
    "# TF variables reset\n",
    "tf.reset_default_graph()\n",
    "myAgent = PPOagent(lr=alpha,s_size=3,a_size=1,h_size=20)\n",
    "init = tf.global_variables_initializer()"
   ]
  },
  {
   "cell_type": "code",
   "execution_count": 8,
   "metadata": {},
   "outputs": [
    {
     "name": "stdout",
     "output_type": "stream",
     "text": [
      " Epoch: 100 ,Average R: -696.2412420654297\n",
      " Epoch: 200 ,Average R: -695.3099069213868\n",
      " Epoch: 300 ,Average R: -683.7463781738281\n",
      " Epoch: 400 ,Average R: -670.5775\n",
      " Epoch: 500 ,Average R: -675.8975958251954\n",
      " Epoch: 600 ,Average R: -662.021806640625\n",
      " Epoch: 700 ,Average R: -675.9881564331055\n",
      " Epoch: 800 ,Average R: -661.2864569091797\n",
      " Epoch: 900 ,Average R: -664.1730978393555\n",
      " Epoch: 1000 ,Average R: -679.8218545532227\n",
      " Epoch: 1100 ,Average R: -659.062466430664\n",
      " Epoch: 1200 ,Average R: -662.7121896362305\n",
      " Epoch: 1300 ,Average R: -648.8498876953125\n",
      " Epoch: 1400 ,Average R: -645.3748333740234\n",
      " Epoch: 1500 ,Average R: -647.8473904418945\n",
      " Epoch: 1600 ,Average R: -659.7887545776367\n",
      " Epoch: 1700 ,Average R: -684.2725140380859\n",
      " Epoch: 1800 ,Average R: -644.9701547241211\n",
      " Epoch: 1900 ,Average R: -680.1027767944336\n",
      " Epoch: 2000 ,Average R: -683.5123602294922\n",
      " Epoch: 2100 ,Average R: -655.5321423339843\n",
      " Epoch: 2200 ,Average R: -655.3643444824219\n",
      " Epoch: 2300 ,Average R: -632.3569766235352\n",
      " Epoch: 2400 ,Average R: -649.2777783203124\n",
      " Epoch: 2500 ,Average R: -639.2452499389649\n",
      " Epoch: 2600 ,Average R: -669.2567224121094\n",
      " Epoch: 2700 ,Average R: -637.8565744018555\n",
      " Epoch: 2800 ,Average R: -673.2045196533203\n",
      " Epoch: 2900 ,Average R: -644.2117230224609\n",
      " Epoch: 3000 ,Average R: -626.1583975219727\n",
      " Epoch: 3100 ,Average R: -643.1675073242187\n",
      " Epoch: 3200 ,Average R: -634.9867175292969\n",
      " Epoch: 3300 ,Average R: -630.204185180664\n",
      " Epoch: 3400 ,Average R: -660.0901510620117\n",
      " Epoch: 3500 ,Average R: -626.4789993286133\n"
     ]
    },
    {
     "ename": "KeyboardInterrupt",
     "evalue": "",
     "output_type": "error",
     "traceback": [
      "\u001b[0;31m---------------------------------------------------------------------------\u001b[0m",
      "\u001b[0;31mKeyboardInterrupt\u001b[0m                         Traceback (most recent call last)",
      "\u001b[0;32m<ipython-input-8-ff19a4efda70>\u001b[0m in \u001b[0;36m<module>\u001b[0;34m()\u001b[0m\n\u001b[1;32m     46\u001b[0m         \u001b[0;32mfor\u001b[0m \u001b[0mtraj\u001b[0m \u001b[0;32min\u001b[0m \u001b[0mbatch\u001b[0m\u001b[0;34m:\u001b[0m\u001b[0;34m\u001b[0m\u001b[0m\n\u001b[1;32m     47\u001b[0m             \u001b[0ms_arr\u001b[0m\u001b[0;34m,\u001b[0m \u001b[0ma_arr\u001b[0m\u001b[0;34m,\u001b[0m \u001b[0mr_arr\u001b[0m\u001b[0;34m,\u001b[0m \u001b[0ms_new_arr\u001b[0m\u001b[0;34m,\u001b[0m \u001b[0mp_arr\u001b[0m \u001b[0;34m=\u001b[0m \u001b[0mzip\u001b[0m\u001b[0;34m(\u001b[0m\u001b[0;34m*\u001b[0m\u001b[0mtraj\u001b[0m\u001b[0;34m)\u001b[0m\u001b[0;34m\u001b[0m\u001b[0m\n\u001b[0;32m---> 48\u001b[0;31m             \u001b[0mv_new_arr\u001b[0m \u001b[0;34m=\u001b[0m \u001b[0msess\u001b[0m\u001b[0;34m.\u001b[0m\u001b[0mrun\u001b[0m\u001b[0;34m(\u001b[0m\u001b[0mmyAgent\u001b[0m\u001b[0;34m.\u001b[0m\u001b[0mvalue\u001b[0m\u001b[0;34m,\u001b[0m \u001b[0mfeed_dict\u001b[0m\u001b[0;34m=\u001b[0m\u001b[0;34m{\u001b[0m\u001b[0mmyAgent\u001b[0m\u001b[0;34m.\u001b[0m\u001b[0mstate_in\u001b[0m\u001b[0;34m:\u001b[0m\u001b[0mnp\u001b[0m\u001b[0;34m.\u001b[0m\u001b[0masarray\u001b[0m\u001b[0;34m(\u001b[0m\u001b[0ms_new_arr\u001b[0m\u001b[0;34m)\u001b[0m\u001b[0;34m.\u001b[0m\u001b[0mreshape\u001b[0m\u001b[0;34m(\u001b[0m\u001b[0mlen\u001b[0m\u001b[0;34m(\u001b[0m\u001b[0ms_new_arr\u001b[0m\u001b[0;34m)\u001b[0m\u001b[0;34m,\u001b[0m\u001b[0;36m3\u001b[0m\u001b[0;34m)\u001b[0m\u001b[0;34m}\u001b[0m\u001b[0;34m)\u001b[0m\u001b[0;34m\u001b[0m\u001b[0m\n\u001b[0m\u001b[1;32m     49\u001b[0m             \u001b[0mv_arr\u001b[0m \u001b[0;34m=\u001b[0m \u001b[0msess\u001b[0m\u001b[0;34m.\u001b[0m\u001b[0mrun\u001b[0m\u001b[0;34m(\u001b[0m\u001b[0mmyAgent\u001b[0m\u001b[0;34m.\u001b[0m\u001b[0mvalue\u001b[0m\u001b[0;34m,\u001b[0m \u001b[0mfeed_dict\u001b[0m\u001b[0;34m=\u001b[0m\u001b[0;34m{\u001b[0m\u001b[0mmyAgent\u001b[0m\u001b[0;34m.\u001b[0m\u001b[0mstate_in\u001b[0m\u001b[0;34m:\u001b[0m\u001b[0mnp\u001b[0m\u001b[0;34m.\u001b[0m\u001b[0masarray\u001b[0m\u001b[0;34m(\u001b[0m\u001b[0ms_arr\u001b[0m\u001b[0;34m)\u001b[0m\u001b[0;34m.\u001b[0m\u001b[0mreshape\u001b[0m\u001b[0;34m(\u001b[0m\u001b[0mlen\u001b[0m\u001b[0;34m(\u001b[0m\u001b[0ms_arr\u001b[0m\u001b[0;34m)\u001b[0m\u001b[0;34m,\u001b[0m\u001b[0;36m3\u001b[0m\u001b[0;34m)\u001b[0m\u001b[0;34m}\u001b[0m\u001b[0;34m)\u001b[0m\u001b[0;34m\u001b[0m\u001b[0m\n\u001b[1;32m     50\u001b[0m             \u001b[0mv_target_arr\u001b[0m \u001b[0;34m=\u001b[0m \u001b[0mcompute_v\u001b[0m\u001b[0;34m(\u001b[0m\u001b[0mr_arr\u001b[0m\u001b[0;34m,\u001b[0m\u001b[0mv_new_arr\u001b[0m\u001b[0;34m)\u001b[0m\u001b[0;34m\u001b[0m\u001b[0m\n",
      "\u001b[0;32m~/Documents/miniconda3/lib/python3.6/site-packages/tensorflow/python/client/session.py\u001b[0m in \u001b[0;36mrun\u001b[0;34m(self, fetches, feed_dict, options, run_metadata)\u001b[0m\n\u001b[1;32m    898\u001b[0m     \u001b[0;32mtry\u001b[0m\u001b[0;34m:\u001b[0m\u001b[0;34m\u001b[0m\u001b[0m\n\u001b[1;32m    899\u001b[0m       result = self._run(None, fetches, feed_dict, options_ptr,\n\u001b[0;32m--> 900\u001b[0;31m                          run_metadata_ptr)\n\u001b[0m\u001b[1;32m    901\u001b[0m       \u001b[0;32mif\u001b[0m \u001b[0mrun_metadata\u001b[0m\u001b[0;34m:\u001b[0m\u001b[0;34m\u001b[0m\u001b[0m\n\u001b[1;32m    902\u001b[0m         \u001b[0mproto_data\u001b[0m \u001b[0;34m=\u001b[0m \u001b[0mtf_session\u001b[0m\u001b[0;34m.\u001b[0m\u001b[0mTF_GetBuffer\u001b[0m\u001b[0;34m(\u001b[0m\u001b[0mrun_metadata_ptr\u001b[0m\u001b[0;34m)\u001b[0m\u001b[0;34m\u001b[0m\u001b[0m\n",
      "\u001b[0;32m~/Documents/miniconda3/lib/python3.6/site-packages/tensorflow/python/client/session.py\u001b[0m in \u001b[0;36m_run\u001b[0;34m(self, handle, fetches, feed_dict, options, run_metadata)\u001b[0m\n\u001b[1;32m   1114\u001b[0m \u001b[0;34m\u001b[0m\u001b[0m\n\u001b[1;32m   1115\u001b[0m           \u001b[0mfeed_dict_tensor\u001b[0m\u001b[0;34m[\u001b[0m\u001b[0msubfeed_t\u001b[0m\u001b[0;34m]\u001b[0m \u001b[0;34m=\u001b[0m \u001b[0mnp_val\u001b[0m\u001b[0;34m\u001b[0m\u001b[0m\n\u001b[0;32m-> 1116\u001b[0;31m           \u001b[0mfeed_map\u001b[0m\u001b[0;34m[\u001b[0m\u001b[0mcompat\u001b[0m\u001b[0;34m.\u001b[0m\u001b[0mas_bytes\u001b[0m\u001b[0;34m(\u001b[0m\u001b[0msubfeed_t\u001b[0m\u001b[0;34m.\u001b[0m\u001b[0mname\u001b[0m\u001b[0;34m)\u001b[0m\u001b[0;34m]\u001b[0m \u001b[0;34m=\u001b[0m \u001b[0;34m(\u001b[0m\u001b[0msubfeed_t\u001b[0m\u001b[0;34m,\u001b[0m \u001b[0msubfeed_val\u001b[0m\u001b[0;34m)\u001b[0m\u001b[0;34m\u001b[0m\u001b[0m\n\u001b[0m\u001b[1;32m   1117\u001b[0m \u001b[0;34m\u001b[0m\u001b[0m\n\u001b[1;32m   1118\u001b[0m     \u001b[0;31m# Create a fetch handler to take care of the structure of fetches.\u001b[0m\u001b[0;34m\u001b[0m\u001b[0;34m\u001b[0m\u001b[0m\n",
      "\u001b[0;32m~/Documents/miniconda3/lib/python3.6/site-packages/tensorflow/python/util/compat.py\u001b[0m in \u001b[0;36mas_bytes\u001b[0;34m(bytes_or_text, encoding)\u001b[0m\n\u001b[1;32m     59\u001b[0m     \u001b[0mTypeError\u001b[0m\u001b[0;34m:\u001b[0m \u001b[0mIf\u001b[0m\u001b[0;31m \u001b[0m\u001b[0;31m`\u001b[0m\u001b[0mbytes_or_text\u001b[0m\u001b[0;31m`\u001b[0m \u001b[0;32mis\u001b[0m \u001b[0;32mnot\u001b[0m \u001b[0ma\u001b[0m \u001b[0mbinary\u001b[0m \u001b[0;32mor\u001b[0m \u001b[0municode\u001b[0m \u001b[0mstring\u001b[0m\u001b[0;34m.\u001b[0m\u001b[0;34m\u001b[0m\u001b[0m\n\u001b[1;32m     60\u001b[0m   \"\"\"\n\u001b[0;32m---> 61\u001b[0;31m   \u001b[0;32mif\u001b[0m \u001b[0misinstance\u001b[0m\u001b[0;34m(\u001b[0m\u001b[0mbytes_or_text\u001b[0m\u001b[0;34m,\u001b[0m \u001b[0m_six\u001b[0m\u001b[0;34m.\u001b[0m\u001b[0mtext_type\u001b[0m\u001b[0;34m)\u001b[0m\u001b[0;34m:\u001b[0m\u001b[0;34m\u001b[0m\u001b[0m\n\u001b[0m\u001b[1;32m     62\u001b[0m     \u001b[0;32mreturn\u001b[0m \u001b[0mbytes_or_text\u001b[0m\u001b[0;34m.\u001b[0m\u001b[0mencode\u001b[0m\u001b[0;34m(\u001b[0m\u001b[0mencoding\u001b[0m\u001b[0;34m)\u001b[0m\u001b[0;34m\u001b[0m\u001b[0m\n\u001b[1;32m     63\u001b[0m   \u001b[0;32melif\u001b[0m \u001b[0misinstance\u001b[0m\u001b[0;34m(\u001b[0m\u001b[0mbytes_or_text\u001b[0m\u001b[0;34m,\u001b[0m \u001b[0mbytes\u001b[0m\u001b[0;34m)\u001b[0m\u001b[0;34m:\u001b[0m\u001b[0;34m\u001b[0m\u001b[0m\n",
      "\u001b[0;31mKeyboardInterrupt\u001b[0m: "
     ]
    }
   ],
   "source": [
    "with tf.Session() as sess:\n",
    "    \n",
    "    sess.run(init)\n",
    "    \n",
    "    gradBuffer = sess.run(tf.trainable_variables())\n",
    "    for ix,grad in enumerate(gradBuffer):\n",
    "        gradBuffer[ix] = grad * 0\n",
    "    \n",
    "    stats = []\n",
    "    buffer = ReplayMemory(buffer_size)\n",
    "    i_episode = 0\n",
    "    \n",
    "    while i_episode < n_episodes:\n",
    "        \n",
    "        s = env.reset()\n",
    "        s = np.array(s).reshape(1, 3)\n",
    "        running_reward = 0\n",
    "        trajectory = []\n",
    "        i_episode += 1\n",
    "        \n",
    "        for t in range(episode_length):\n",
    "            \n",
    "            action, plog = sess.run([myAgent.action,myAgent.log_prob],\n",
    "                                     feed_dict={myAgent.state_in:s})\n",
    "\n",
    "            s_new,r,d,_ = env.step(action)\n",
    "            \n",
    "            #populate the trajectory\n",
    "            trajectory.append([s,action,r,s_new,plog])\n",
    "            #buffer.push([s,action,r,s_new,plog])\n",
    "    \n",
    "            prev_action = action\n",
    "            s = np.array(s_new).reshape(1, 3)\n",
    "            running_reward += r\n",
    "            \n",
    "            if d == True:\n",
    "                \n",
    "                \n",
    "                break\n",
    "        buffer.push(trajectory)\n",
    "        # sample the trajectories\n",
    "        batch = buffer.sample(batch_size)\n",
    "        #print(batch)\n",
    "        \n",
    "        #do update for each trajectory in the batch\n",
    "        for traj in batch:\n",
    "            s_arr, a_arr, r_arr, s_new_arr, p_arr = zip(*traj)\n",
    "            v_new_arr = sess.run(myAgent.value, feed_dict={myAgent.state_in:np.asarray(s_new_arr).reshape(len(s_new_arr),3)})\n",
    "            v_arr = sess.run(myAgent.value, feed_dict={myAgent.state_in:np.asarray(s_arr).reshape(len(s_arr),3)})\n",
    "            v_target_arr = compute_v(r_arr,v_new_arr)\n",
    "            a_target_arr = compute_a(v_target_arr, v_arr)\n",
    "        \n",
    "            feed_dict={myAgent.state_in:np.asarray(s_arr).reshape(len(s_arr),3),\n",
    "                        myAgent.old_log_prob:np.asarray(p_arr).reshape(len(p_arr)),\n",
    "                        myAgent.a_target:np.asarray(a_target_arr).reshape(len(a_target_arr)),\n",
    "                        myAgent.v_target:np.asarray(v_target_arr).reshape(len(v_target_arr))}\n",
    "            _, vl, pl = sess.run([myAgent.optimizer, myAgent.v_loss, myAgent.p_loss], feed_dict=feed_dict)\n",
    "            #print('update')\n",
    "                    \n",
    "        # Update statistics\n",
    "        stats.append([i_episode,running_reward])\n",
    "        \n",
    "        if i_episode % 100 == 0:\n",
    "            print(' Epoch:',i_episode,',Average R:',np.mean(np.asarray(stats)[-100:,1]))\n",
    "    "
   ]
  },
  {
   "cell_type": "code",
   "execution_count": 10,
   "metadata": {},
   "outputs": [
    {
     "data": {
      "image/png": "[encoded data removed]",
      "text/plain": [
       "<Figure size 432x288 with 1 Axes>"
      ]
     },
     "metadata": {},
     "output_type": "display_data"
    }
   ],
   "source": [
    "#plot the results (taken from https://gist.github.com/vksah32/8ba7ee7489bd8ec50c995f6216adcb7d)\n",
    "import pandas as pd\n",
    "import matplotlib.pyplot as plt \n",
    "\n",
    "i,r = zip(*stats)\n",
    "r_np = np.asarray(r).flatten()\n",
    "i_np = np.asarray(i).flatten()\n",
    "\n",
    "mean_x1 = pd.Series(r_np).rolling(window=100).mean()\n",
    "\n",
    "plt.xlabel(\"epochs\")\n",
    "plt.ylabel(\"score per step\")\n",
    "plt.plot(i_np, mean_x1, 'r-')\n",
    "plt.legend(['ppo'])\n",
    "plt.title('Simple pend')\n",
    "plt.show()"
   ]
  },
  {
   "cell_type": "markdown",
   "metadata": {},
   "source": [
    "## seems to be working now."
   ]
  },
  {
   "cell_type": "code",
   "execution_count": null,
   "metadata": {},
   "outputs": [],
   "source": []
  }
 ],
 "metadata": {
  "kernelspec": {
   "display_name": "Python 3",
   "language": "python",
   "name": "python3"
  },
  "language_info": {
   "codemirror_mode": {
    "name": "ipython",
    "version": 3
   },
   "file_extension": ".py",
   "mimetype": "text/x-python",
   "name": "python",
   "nbconvert_exporter": "python",
   "pygments_lexer": "ipython3",
   "version": "3.6.5"
  }
 },
 "nbformat": 4,
 "nbformat_minor": 2
}
