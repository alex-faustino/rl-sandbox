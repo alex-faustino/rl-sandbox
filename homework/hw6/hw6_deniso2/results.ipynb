{
 "cells": [
  {
   "cell_type": "markdown",
   "metadata": {},
   "source": [
    "## HW6 by Denis Osipychev\n",
    "# Proximal Policy Optimization Algorithms"
   ]
  },
  {
   "cell_type": "markdown",
   "metadata": {},
   "source": [
    "### Hyper parameters and service functions"
   ]
  },
  {
   "cell_type": "code",
   "execution_count": 3,
   "metadata": {},
   "outputs": [],
   "source": [
    "# import env and modules\n",
    "import gym\n",
    "import numpy as np\n",
    "import random\n",
    "import tensorflow as tf\n",
    "import tensorflow.contrib.slim as slim"
   ]
  },
  {
   "cell_type": "code",
   "execution_count": 4,
   "metadata": {},
   "outputs": [
    {
     "data": {
      "text/plain": [
       "array([ 0.8302812 ,  0.55734471, -0.40096087])"
      ]
     },
     "execution_count": 4,
     "metadata": {},
     "output_type": "execute_result"
    }
   ],
   "source": [
    "# create an instance of env\n",
    "env = gym.make('Pendulum-v0')\n",
    "env.reset()"
   ]
  },
  {
   "cell_type": "code",
   "execution_count": 5,
   "metadata": {},
   "outputs": [],
   "source": [
    "class PPOagent():\n",
    "    def __init__(self, lr, s_size,a_size,h_size):\n",
    "        \n",
    "        self.state_in= tf.placeholder(shape=[None,s_size],dtype=tf.float32)\n",
    "        \n",
    "        # Value network\n",
    "        hidden1 = slim.fully_connected(self.state_in,h_size,biases_initializer=None,activation_fn=tf.nn.tanh)\n",
    "        self.value = slim.fully_connected(hidden1,1,biases_initializer=None)\n",
    "        \n",
    "        # Policy network\n",
    "        hidden2 = slim.fully_connected(self.state_in,h_size,biases_initializer=None,activation_fn=tf.nn.tanh)\n",
    "        p_mean = slim.fully_connected(hidden2,a_size,activation_fn=tf.nn.tanh,biases_initializer=None)\n",
    "        p_var = slim.fully_connected(hidden2,a_size,activation_fn=tf.nn.softplus,biases_initializer=None)\n",
    "        prob_distr = tf.distributions.Normal(loc=p_mean, scale=p_var)\n",
    "        self.action = prob_distr.sample(1)\n",
    "        self.log_prob = prob_distr.log_prob(self.action)\n",
    "        \n",
    "        # loss for V network\n",
    "        self.v_target = tf.placeholder(shape=[None],dtype=tf.float32)\n",
    "        v_loss = tf.reduce_mean(tf.square(self.v_target - self.value))\n",
    "        \n",
    "        # loss for Policy network (A value)\n",
    "        self.old_log_prob = tf.placeholder(shape=[None],dtype=tf.float32)\n",
    "        self.a_target = tf.placeholder(shape=[None],dtype=tf.float32)\n",
    "               \n",
    "        ratio = tf.exp(self.log_prob - self.old_log_prob) # pnew / pold\n",
    "        surr_loss = ratio * self.a_target # surrogate from conservative policy iteration\n",
    "        surr_loss_clip = tf.clip_by_value(ratio, 1.0 - 0.2, 1.0 + 0.2) * self.a_target #\n",
    "        p_loss = - tf.reduce_mean(tf.minimum(surr_loss, surr_loss_clip))\n",
    "        \n",
    "        # total loss function\n",
    "        total_loss = p_loss + v_loss\n",
    "        \n",
    "        #tvars = tf.trainable_variables()\n",
    "        self.optimizer = tf.train.AdamOptimizer(alpha).minimize(total_loss)"
   ]
  },
  {
   "cell_type": "code",
   "execution_count": 6,
   "metadata": {},
   "outputs": [],
   "source": [
    "# def traj2v_a(s_arr, a_arr, r_arr, s_new_arr, v_arr):\n",
    "    \n",
    "#     new_state = np.append(s_new_arr, 0) # last element is only used for last vtarg, but we already zeroed it if last new = 1\n",
    "#     v_predicted = np.append(v_arr, r_arr[-1])\n",
    "#     T = len(r_arr)\n",
    "#     advantage = np.empty(T, 'float32')\n",
    "#     gaelam = np.empty(T, 'float32')\n",
    "#     lastgaelam = 0\n",
    "#     for t in reversed(range(T)):\n",
    "#         nonterminal = 1 - new_state[t+1]\n",
    "#         delta = r_arr[t] + gamma * v_predicted[t+1] * nonterminal - v_predicted[t]\n",
    "#         gaelam[t] = delta + gamma * lambd * nonterminal * lastgaelam\n",
    "#         lastgaelam = gaelam[t]\n",
    "#         advantage[t] = gaelam[t]\n",
    "#     tdlamret = advantage + v_predicted\n",
    "#     return tdlamret, advantage"
   ]
  },
  {
   "cell_type": "code",
   "execution_count": 7,
   "metadata": {},
   "outputs": [],
   "source": [
    "# def v_and_a(s_arr, a_arr, r_arr, s_new_arr, v_arr, gamma, lambd):\n",
    "    \n",
    "#     new_state = np.append(s_new_arr, 0) # last element is only used for last vtarg, but we already zeroed it if last new = 1\n",
    "#     v_predicted = np.append(v_arr, r_arr[-1])\n",
    "#     T = len(r_arr)\n",
    "#     advantage = np.empty(T, 'float32')\n",
    "#     gaelam = np.empty(T, 'float32')\n",
    "#     lastgaelam = 0\n",
    "#     for t in reversed(range(T)):\n",
    "#         nonterminal = 1 - new_state[t+1]\n",
    "#         delta = r_arr[t] + gamma * v_predicted[t+1] * nonterminal - v_predicted[t]\n",
    "#         gaelam[t] = delta + gamma * lam * nonterminal * lastgaelam\n",
    "#         lastgaelam = gaelam[t]\n",
    "#         advantage[t] = gaelam[t]\n",
    "#     tdlamret = advantage + v_predicted\n",
    "#     return tdlamret, advantage"
   ]
  },
  {
   "cell_type": "code",
   "execution_count": 8,
   "metadata": {},
   "outputs": [],
   "source": [
    "class ReplayMemory():\n",
    "    def __init__(self, capacity):\n",
    "        self.capacity = capacity\n",
    "        self.memory = []\n",
    "        self.position = 0\n",
    "\n",
    "    def push(self, arg):\n",
    "        if len(self.memory) < self.capacity:\n",
    "            self.memory.append(None)\n",
    "        self.memory[self.position] = arg\n",
    "        self.position = (self.position + 1) % self.capacity\n",
    "\n",
    "    def sample(self, batch_size):\n",
    "        if len(self.memory) < batch_size:\n",
    "            batch_size = len(self.memory)\n",
    "        return random.sample(self.memory, batch_size)\n",
    "    \n",
    "    def size(self):\n",
    "        return len(self.memory)"
   ]
  },
  {
   "cell_type": "code",
   "execution_count": 9,
   "metadata": {},
   "outputs": [],
   "source": [
    "def compute_v(r_batch, v_new_batch):\n",
    "    v_next = np.asarray(v_new_batch).flatten()\n",
    "    reward = np.asarray(r_batch).flatten()\n",
    "    return reward + v_next*gamma\n",
    "    \n",
    "def compute_a(discounted_r, v):\n",
    "    discounted_r = np.asarray(discounted_r).flatten()\n",
    "    v = np.asarray(v).flatten()\n",
    "    gae = discounted_r - v\n",
    "    return gae"
   ]
  },
  {
   "cell_type": "code",
   "execution_count": 10,
   "metadata": {},
   "outputs": [],
   "source": [
    "# initialize hyperparams for PG\n",
    "n_episodes = 5000\n",
    "episode_length = 100\n",
    "gamma = 0.9\n",
    "alpha = 0.0001\n",
    "lambd = lam = 1\n",
    "epsilon = 0.2\n",
    "update_freq = 100\n",
    "buffer_size = 1000\n",
    "batch_size = 100"
   ]
  },
  {
   "cell_type": "code",
   "execution_count": 11,
   "metadata": {},
   "outputs": [],
   "source": [
    "# TF variables reset\n",
    "tf.reset_default_graph()\n",
    "myAgent = PPOagent(lr=alpha,s_size=3,a_size=1,h_size=20)\n",
    "init = tf.global_variables_initializer()"
   ]
  },
  {
   "cell_type": "code",
   "execution_count": 14,
   "metadata": {},
   "outputs": [
    {
     "name": "stdout",
     "output_type": "stream",
     "text": [
      " Epoch: 100 ,Average R: -607.953092956543\n",
      " Epoch: 200 ,Average R: -627.9741461181641\n",
      " Epoch: 300 ,Average R: -611.050805053711\n",
      " Epoch: 400 ,Average R: -572.831937866211\n",
      " Epoch: 500 ,Average R: -583.0015939331055\n",
      " Epoch: 600 ,Average R: -592.173974609375\n",
      " Epoch: 700 ,Average R: -591.1477014160156\n",
      " Epoch: 800 ,Average R: -590.8488623046875\n",
      " Epoch: 900 ,Average R: -621.1459158325196\n",
      " Epoch: 1000 ,Average R: -584.4582983398437\n",
      " Epoch: 1100 ,Average R: -603.2373043823242\n",
      " Epoch: 1200 ,Average R: -584.7682049560547\n",
      " Epoch: 1300 ,Average R: -592.9871575927734\n",
      " Epoch: 1400 ,Average R: -605.369533996582\n",
      " Epoch: 1500 ,Average R: -584.6065133666992\n",
      " Epoch: 1600 ,Average R: -601.8565353393554\n",
      " Epoch: 1700 ,Average R: -592.4377493286133\n",
      " Epoch: 1800 ,Average R: -588.7872088623047\n",
      " Epoch: 1900 ,Average R: -591.2056564331054\n",
      " Epoch: 2000 ,Average R: -600.0466064453125\n",
      " Epoch: 2100 ,Average R: -587.2736038208008\n",
      " Epoch: 2200 ,Average R: -602.2943408203125\n",
      " Epoch: 2300 ,Average R: -599.5740441894532\n",
      " Epoch: 2400 ,Average R: -593.6683404541016\n",
      " Epoch: 2500 ,Average R: -615.656354675293\n",
      " Epoch: 2600 ,Average R: -594.9169177246093\n",
      " Epoch: 2700 ,Average R: -612.264091796875\n",
      " Epoch: 2800 ,Average R: -607.2417684936523\n",
      " Epoch: 2900 ,Average R: -589.2573870849609\n",
      " Epoch: 3000 ,Average R: -586.1859197998047\n",
      " Epoch: 3100 ,Average R: -619.9135046386718\n",
      " Epoch: 3200 ,Average R: -584.3632525634765\n",
      " Epoch: 3300 ,Average R: -609.4207528686524\n",
      " Epoch: 3400 ,Average R: -622.3799182128906\n",
      " Epoch: 3500 ,Average R: -609.8301657104493\n",
      " Epoch: 3600 ,Average R: -588.1460452270508\n",
      " Epoch: 3700 ,Average R: -610.6247988891602\n",
      " Epoch: 3800 ,Average R: -586.9979158020019\n",
      " Epoch: 3900 ,Average R: -598.1759625244141\n",
      " Epoch: 4000 ,Average R: -584.9486601257324\n",
      " Epoch: 4100 ,Average R: -599.4378530883789\n",
      " Epoch: 4200 ,Average R: -613.7710943603515\n",
      " Epoch: 4300 ,Average R: -568.6067321777343\n",
      " Epoch: 4400 ,Average R: -603.4851736450196\n",
      " Epoch: 4500 ,Average R: -595.1212622070312\n",
      " Epoch: 4600 ,Average R: -586.1640112304688\n",
      " Epoch: 4700 ,Average R: -610.2480194091797\n",
      " Epoch: 4800 ,Average R: -602.9027554321289\n",
      " Epoch: 4900 ,Average R: -585.0267303466796\n",
      " Epoch: 5000 ,Average R: -613.6320809936524\n"
     ]
    }
   ],
   "source": [
    "with tf.Session() as sess:\n",
    "    \n",
    "    sess.run(init)\n",
    "    \n",
    "    gradBuffer = sess.run(tf.trainable_variables())\n",
    "    for ix,grad in enumerate(gradBuffer):\n",
    "        gradBuffer[ix] = grad * 0\n",
    "    \n",
    "    stats = []\n",
    "    buffer = ReplayMemory(buffer_size)\n",
    "    i_episode = 0\n",
    "    \n",
    "    while i_episode < n_episodes:\n",
    "        \n",
    "        s = env.reset()\n",
    "        s = np.array(s).reshape(1, 3)\n",
    "        running_reward = 0\n",
    "        trajectory = []\n",
    "        i_episode += 1\n",
    "        \n",
    "        for t in range(episode_length):\n",
    "            \n",
    "            action, plog = sess.run([myAgent.action,myAgent.log_prob],\n",
    "                                     feed_dict={myAgent.state_in:s})\n",
    "\n",
    "            s_new,r,d,_ = env.step(action)\n",
    "            \n",
    "            #populate the trajectory\n",
    "#             trajectory.append([s,action,r,s_new,plog])\n",
    "            buffer.push([s,action,r,s_new,plog])\n",
    "    \n",
    "            prev_action = action\n",
    "            s = np.array(s_new).reshape(1, 3)\n",
    "            running_reward += r\n",
    "            \n",
    "#             if d == True:\n",
    "#                 buffer.push(trajectory)\n",
    "#                 break\n",
    "                \n",
    "        # sample the trajectories\n",
    "        batch = buffer.sample(batch_size)\n",
    "        \n",
    "        s_arr, a_arr, r_arr, s_new_arr, p_arr = zip(*batch)\n",
    "        \n",
    "        v_new_arr = sess.run(myAgent.value, feed_dict={myAgent.state_in:np.array(s_new_arr).reshape(batch_size,3)})\n",
    "        v_arr = sess.run(myAgent.value, feed_dict={myAgent.state_in:np.array(s_arr).reshape(batch_size,3)})\n",
    "        v_target_arr = compute_v(r_arr,v_new_arr)\n",
    "        a_target_arr = compute_a(v_target_arr, v_arr)\n",
    "        \n",
    "        feed_dict={myAgent.state_in:np.array(s_arr).reshape(batch_size,3),\n",
    "                        myAgent.old_log_prob:np.array(p_arr).reshape(batch_size),\n",
    "                        myAgent.a_target:a_target_arr,\n",
    "                        myAgent.v_target:v_target_arr}\n",
    "        _ = sess.run(myAgent.optimizer, feed_dict=feed_dict)\n",
    "            \n",
    "#             # add gradients to grad buffer\n",
    "#         for idx,grad in enumerate(grads):\n",
    "#             gradBuffer[idx] += grads\n",
    "\n",
    "#         if i_episode % update_freq == 0 and i_episode != 0:\n",
    "#             feed_dict= dict(zip(myAgent.gradient_holders, gradBuffer))\n",
    "#             _ = sess.run(myAgent.update_batch, feed_dict=feed_dict)\n",
    "#             for ix,grad in enumerate(gradBuffer):\n",
    "#                 gradBuffer[ix] = grad * 0\n",
    "\n",
    "        \n",
    "        # Update statistics\n",
    "        stats.append([i_episode,running_reward])\n",
    "        \n",
    "        if i_episode % 100 == 0:\n",
    "            print(' Epoch:',i_episode,',Average R:',np.mean(np.asarray(stats)[-100:,1]))\n",
    "    "
   ]
  },
  {
   "cell_type": "code",
   "execution_count": null,
   "metadata": {},
   "outputs": [],
   "source": [
    "#plot the results (taken from https://gist.github.com/vksah32/8ba7ee7489bd8ec50c995f6216adcb7d)\n",
    "import pandas as pd\n",
    "import matplotlib.pyplot as plt \n",
    "\n",
    "i,r = zip(*stats)\n",
    "r_np = np.asarray(r).flatten()\n",
    "i_np = np.asarray(i).flatten()\n",
    "\n",
    "mean_x1 = pd.Series(r_np).rolling(window=100).mean()\n",
    "\n",
    "plt.xlabel(\"epochs\")\n",
    "plt.ylabel(\"score per step\")\n",
    "plt.plot(i_np, mean_x1, 'r-')\n",
    "plt.legend(['ppo'])\n",
    "plt.title('Simple pend')\n",
    "plt.show()"
   ]
  },
  {
   "cell_type": "code",
   "execution_count": null,
   "metadata": {},
   "outputs": [],
   "source": [
    "np.asarray(r_arr).shape"
   ]
  },
  {
   "cell_type": "code",
   "execution_count": null,
   "metadata": {},
   "outputs": [],
   "source": []
  }
 ],
 "metadata": {
  "kernelspec": {
   "display_name": "Python 3",
   "language": "python",
   "name": "python3"
  },
  "language_info": {
   "codemirror_mode": {
    "name": "ipython",
    "version": 3
   },
   "file_extension": ".py",
   "mimetype": "text/x-python",
   "name": "python",
   "nbconvert_exporter": "python",
   "pygments_lexer": "ipython3",
   "version": "3.6.6"
  }
 },
 "nbformat": 4,
 "nbformat_minor": 2
}
