{
 "cells": [
  {
   "cell_type": "markdown",
   "metadata": {},
   "source": [
    "## HW6 by Denis Osipychev\n",
    "# Proximal Policy Optimization Algorithms"
   ]
  },
  {
   "cell_type": "markdown",
   "metadata": {},
   "source": [
    "### Hyper parameters and service functions"
   ]
  },
  {
   "cell_type": "code",
   "execution_count": 1,
   "metadata": {},
   "outputs": [],
   "source": [
    "# import env and modules\n",
    "import gym\n",
    "import numpy as np\n",
    "import random\n",
    "import tensorflow as tf\n",
    "import tensorflow.contrib.slim as slim"
   ]
  },
  {
   "cell_type": "code",
   "execution_count": 2,
   "metadata": {},
   "outputs": [
    {
     "data": {
      "text/plain": [
       "array([0.00756341, 0.9999714 , 0.73552468])"
      ]
     },
     "execution_count": 2,
     "metadata": {},
     "output_type": "execute_result"
    }
   ],
   "source": [
    "# create an instance of env\n",
    "env = gym.make('Pendulum-v0')\n",
    "env.reset()"
   ]
  },
  {
   "cell_type": "code",
   "execution_count": 23,
   "metadata": {},
   "outputs": [],
   "source": [
    "class PPOagent():\n",
    "    def __init__(self, lr, s_size,a_size,h_size):\n",
    "        \n",
    "        self.state_in= tf.placeholder(shape=[None,s_size],dtype=tf.float32)\n",
    "        \n",
    "        #### Value network\n",
    "        hidden1 = slim.fully_connected(self.state_in,h_size,biases_initializer=None,activation_fn=tf.nn.relu)\n",
    "        self.value = slim.fully_connected(hidden1,1,biases_initializer=None)\n",
    "        \n",
    "        # loss for V network\n",
    "        self.v_target = tf.placeholder(shape=[None],dtype=tf.float32)\n",
    "        v_loss = tf.reduce_mean(tf.square(self.value - self.v_target))\n",
    "        \n",
    "        #### Policy network\n",
    "        hidden2 = slim.fully_connected(self.state_in,h_size,biases_initializer=None,activation_fn=tf.nn.relu)\n",
    "        mu = slim.fully_connected(hidden2,a_size,biases_initializer=None,activation_fn=tf.nn.tanh)\n",
    "        sigma = slim.fully_connected(hidden2,a_size,biases_initializer=None,activation_fn=tf.nn.relu)\n",
    "        self.action = tf.random_normal([1], mean=mu, stddev=sigma)\n",
    "        \n",
    "        # loss for Policy network (A value)\n",
    "        self.old_p_mean = tf.placeholder(shape=[None],dtype=tf.float32)\n",
    "        self.a_target = tf.placeholder(shape=[None],dtype=tf.float32)\n",
    "        ratio = tf.exp(tf.log(mu) - tf.log(self.old_p_mean)) # pnew / pold\n",
    "        surr_loss = ratio * self.a_target # surrogate from conservative policy iteration\n",
    "        surr_loss_clip = tf.clip_by_value(ratio, 1.0 - epsilon, 1.0 + epsilon) * self.a_target #\n",
    "        p_loss = - tf.reduce_mean(tf.minimum(surr_loss, surr_loss_clip))\n",
    "        \n",
    "        # total loss function\n",
    "        total_loss = p_loss + v_loss\n",
    "        \n",
    "        tvars = tf.trainable_variables()\n",
    "        self.gradient_holders = []\n",
    "        for idx,var in enumerate(tvars):\n",
    "            placeholder = tf.placeholder(tf.float32,name=str(idx)+'_holder')\n",
    "            self.gradient_holders.append(placeholder)\n",
    "        \n",
    "        self.gradients_v = tf.gradients(v_loss,tvars)\n",
    "        self.gradients_p = tf.gradients(p_loss,tvars)\n",
    "        \n",
    "        optimizer = tf.train.AdamOptimizer(learning_rate=lr)\n",
    "        self.update_batch = optimizer.apply_gradients(zip(self.gradient_holders,tvars))"
   ]
  },
  {
   "cell_type": "code",
   "execution_count": 34,
   "metadata": {},
   "outputs": [],
   "source": [
    "def traj2v_a(s_arr, a_arr, r_arr, s_new_arr, v_arr):\n",
    "    \n",
    "    traj_len = len(r_arr)\n",
    "    advantage = np.empty(traj_len, 'float32')\n",
    "    \n",
    "    lastgaelam = 0\n",
    "    \n",
    "    for t in reversed(range(traj_len-1)):\n",
    "        delta = r_arr[t] + gamma * v_arr[t+1] - v_arr[t]\n",
    "        gae = delta + gamma * lastgaelam\n",
    "        lastgaelam = gae\n",
    "        advantage[t] = gae\n",
    "    tdlamret = advantage + v_arr\n",
    "    return tdlamret, advantage"
   ]
  },
  {
   "cell_type": "code",
   "execution_count": 35,
   "metadata": {},
   "outputs": [],
   "source": [
    "class ReplayMemory():\n",
    "    def __init__(self, capacity):\n",
    "        self.capacity = capacity\n",
    "        self.memory = []\n",
    "        self.position = 0\n",
    "\n",
    "    def push(self, arg):\n",
    "        if len(self.memory) < self.capacity:\n",
    "            self.memory.append(None)\n",
    "        self.memory[self.position] = arg\n",
    "        self.position = (self.position + 1) % self.capacity\n",
    "\n",
    "    def sample(self, batch_size):\n",
    "        if len(self.memory) < batch_size:\n",
    "            batch_size = len(self.memory)\n",
    "        return random.sample(self.memory, batch_size)\n",
    "    \n",
    "    def size(self):\n",
    "        return len(self.memory)"
   ]
  },
  {
   "cell_type": "code",
   "execution_count": 36,
   "metadata": {},
   "outputs": [],
   "source": [
    "# initialize hyperparams for PG\n",
    "n_episodes = 5000\n",
    "episode_length = 200\n",
    "gamma = 0.9\n",
    "alpha = 0.001\n",
    "lambd = 1\n",
    "epsilon = 0.2\n",
    "update_freq = 100\n",
    "buffer_size = 1000\n",
    "batch_size = 100"
   ]
  },
  {
   "cell_type": "code",
   "execution_count": 37,
   "metadata": {},
   "outputs": [],
   "source": [
    "# TF variables reset\n",
    "tf.reset_default_graph()\n",
    "myAgent = PPOagent(lr=alpha,s_size=3,a_size=1,h_size=20)\n",
    "init = tf.global_variables_initializer()"
   ]
  },
  {
   "cell_type": "code",
   "execution_count": 48,
   "metadata": {},
   "outputs": [
    {
     "ename": "ValueError",
     "evalue": "Cannot feed value of shape (200, 1, 200) for Tensor 'Placeholder_1:0', which has shape '(?,)'",
     "output_type": "error",
     "traceback": [
      "\u001b[0;31m---------------------------------------------------------------------------\u001b[0m",
      "\u001b[0;31mValueError\u001b[0m                                Traceback (most recent call last)",
      "\u001b[0;32m<ipython-input-48-d3ca6d4154db>\u001b[0m in \u001b[0;36m<module>\u001b[0;34m\u001b[0m\n\u001b[1;32m     46\u001b[0m                         \u001b[0mmyAgent\u001b[0m\u001b[0;34m.\u001b[0m\u001b[0ma_target\u001b[0m\u001b[0;34m:\u001b[0m\u001b[0ma_target_arr\u001b[0m\u001b[0;34m,\u001b[0m\u001b[0;34m\u001b[0m\u001b[0m\n\u001b[1;32m     47\u001b[0m                         myAgent.v_target:v_target_arr}\n\u001b[0;32m---> 48\u001b[0;31m             \u001b[0mgrads_p\u001b[0m \u001b[0;34m=\u001b[0m \u001b[0msess\u001b[0m\u001b[0;34m.\u001b[0m\u001b[0mrun\u001b[0m\u001b[0;34m(\u001b[0m\u001b[0mmyAgent\u001b[0m\u001b[0;34m.\u001b[0m\u001b[0mgradients_p\u001b[0m\u001b[0;34m,\u001b[0m \u001b[0mfeed_dict\u001b[0m\u001b[0;34m=\u001b[0m\u001b[0mfeed_dict\u001b[0m\u001b[0;34m)\u001b[0m\u001b[0;34m\u001b[0m\u001b[0m\n\u001b[0m\u001b[1;32m     49\u001b[0m             \u001b[0mgrads_v\u001b[0m \u001b[0;34m=\u001b[0m \u001b[0msess\u001b[0m\u001b[0;34m.\u001b[0m\u001b[0mrun\u001b[0m\u001b[0;34m(\u001b[0m\u001b[0mmyAgent\u001b[0m\u001b[0;34m.\u001b[0m\u001b[0mgradients_v\u001b[0m\u001b[0;34m,\u001b[0m \u001b[0mfeed_dict\u001b[0m\u001b[0;34m=\u001b[0m\u001b[0mfeed_dict\u001b[0m\u001b[0;34m)\u001b[0m\u001b[0;34m\u001b[0m\u001b[0m\n\u001b[1;32m     50\u001b[0m \u001b[0;34m\u001b[0m\u001b[0m\n",
      "\u001b[0;32m~/miniconda3/envs/598/lib/python3.6/site-packages/tensorflow/python/client/session.py\u001b[0m in \u001b[0;36mrun\u001b[0;34m(self, fetches, feed_dict, options, run_metadata)\u001b[0m\n\u001b[1;32m    885\u001b[0m     \u001b[0;32mtry\u001b[0m\u001b[0;34m:\u001b[0m\u001b[0;34m\u001b[0m\u001b[0m\n\u001b[1;32m    886\u001b[0m       result = self._run(None, fetches, feed_dict, options_ptr,\n\u001b[0;32m--> 887\u001b[0;31m                          run_metadata_ptr)\n\u001b[0m\u001b[1;32m    888\u001b[0m       \u001b[0;32mif\u001b[0m \u001b[0mrun_metadata\u001b[0m\u001b[0;34m:\u001b[0m\u001b[0;34m\u001b[0m\u001b[0m\n\u001b[1;32m    889\u001b[0m         \u001b[0mproto_data\u001b[0m \u001b[0;34m=\u001b[0m \u001b[0mtf_session\u001b[0m\u001b[0;34m.\u001b[0m\u001b[0mTF_GetBuffer\u001b[0m\u001b[0;34m(\u001b[0m\u001b[0mrun_metadata_ptr\u001b[0m\u001b[0;34m)\u001b[0m\u001b[0;34m\u001b[0m\u001b[0m\n",
      "\u001b[0;32m~/miniconda3/envs/598/lib/python3.6/site-packages/tensorflow/python/client/session.py\u001b[0m in \u001b[0;36m_run\u001b[0;34m(self, handle, fetches, feed_dict, options, run_metadata)\u001b[0m\n\u001b[1;32m   1084\u001b[0m                              \u001b[0;34m'which has shape %r'\u001b[0m \u001b[0;34m%\u001b[0m\u001b[0;34m\u001b[0m\u001b[0m\n\u001b[1;32m   1085\u001b[0m                              (np_val.shape, subfeed_t.name,\n\u001b[0;32m-> 1086\u001b[0;31m                               str(subfeed_t.get_shape())))\n\u001b[0m\u001b[1;32m   1087\u001b[0m           \u001b[0;32mif\u001b[0m \u001b[0;32mnot\u001b[0m \u001b[0mself\u001b[0m\u001b[0;34m.\u001b[0m\u001b[0mgraph\u001b[0m\u001b[0;34m.\u001b[0m\u001b[0mis_feedable\u001b[0m\u001b[0;34m(\u001b[0m\u001b[0msubfeed_t\u001b[0m\u001b[0;34m)\u001b[0m\u001b[0;34m:\u001b[0m\u001b[0;34m\u001b[0m\u001b[0m\n\u001b[1;32m   1088\u001b[0m             \u001b[0;32mraise\u001b[0m \u001b[0mValueError\u001b[0m\u001b[0;34m(\u001b[0m\u001b[0;34m'Tensor %s may not be fed.'\u001b[0m \u001b[0;34m%\u001b[0m \u001b[0msubfeed_t\u001b[0m\u001b[0;34m)\u001b[0m\u001b[0;34m\u001b[0m\u001b[0m\n",
      "\u001b[0;31mValueError\u001b[0m: Cannot feed value of shape (200, 1, 200) for Tensor 'Placeholder_1:0', which has shape '(?,)'"
     ]
    }
   ],
   "source": [
    "with tf.Session() as sess:\n",
    "    \n",
    "    sess.run(init)\n",
    "    \n",
    "    gradBuffer = sess.run(tf.trainable_variables())\n",
    "    for ix,grad in enumerate(gradBuffer):\n",
    "        gradBuffer[ix] = grad * 0\n",
    "    \n",
    "    stats = []\n",
    "    buffer = ReplayMemory(buffer_size)\n",
    "    i_episode = 0\n",
    "    \n",
    "    while i_episode < n_episodes:\n",
    "        \n",
    "        s = env.reset()\n",
    "        s = np.array(s).reshape(1, 3)\n",
    "        running_reward = 0\n",
    "        trajectory = []\n",
    "        i_episode += 1\n",
    "        \n",
    "        for t in range(episode_length):\n",
    "            \n",
    "            action, value = sess.run([myAgent.action,myAgent.value],\n",
    "                                     feed_dict={myAgent.state_in:s})\n",
    "\n",
    "            s_new,r,d,_ = env.step(action)\n",
    "            \n",
    "            #populate the trajectory\n",
    "            trajectory.append([s,action,r,s_new,value])\n",
    "            \n",
    "            prev_action = action\n",
    "            s = np.array(s_new).reshape(1, 3)\n",
    "            running_reward += r\n",
    "            \n",
    "            if d == True:\n",
    "                buffer.push(trajectory)\n",
    "                break\n",
    "                \n",
    "        # sample the trajectories\n",
    "        tra_batch = buffer.sample(batch_size)\n",
    "        \n",
    "        for i in range(len(tra_batch)):\n",
    "            s_arr, a_arr, r_arr, s_new_arr, v_arr = zip(*tra_batch[i])\n",
    "            v_target_arr, a_target_arr = traj2v_a(s_arr, a_arr, r_arr, s_new_arr, v_arr)\n",
    "            feed_dict={myAgent.state_in:s_arr,\n",
    "                        myAgent.a_target:a_target_arr,\n",
    "                        myAgent.v_target:v_target_arr}\n",
    "            grads_p = sess.run(myAgent.gradients_p, feed_dict=feed_dict)\n",
    "            grads_v = sess.run(myAgent.gradients_v, feed_dict=feed_dict)\n",
    "            \n",
    "            # add gradients to grad buffer\n",
    "            for idx,grad in enumerate(grads):\n",
    "                gradBuffer[idx] += grad_p + grad_v\n",
    "\n",
    "        if i_episode % update_freq == 0 and i_episode != 0:\n",
    "            feed_dict= dict(zip(myAgent.gradient_holders, gradBuffer))\n",
    "            _ = sess.run(myAgent.update_batch, feed_dict=feed_dict)\n",
    "            for ix,grad in enumerate(gradBuffer):\n",
    "                gradBuffer[ix] = grad * 0\n",
    "\n",
    "        \n",
    "        # Update statistics\n",
    "        stats.append([i_episode,running_reward])\n",
    "        \n",
    "        if i_episode % 100 == 0:\n",
    "            print(' Epoch:',i_episode,',Average R:',np.mean(np.asarray(stats)[-100:,1]))\n",
    "    "
   ]
  },
  {
   "cell_type": "code",
   "execution_count": null,
   "metadata": {},
   "outputs": [],
   "source": [
    "#plot the results (taken from https://gist.github.com/vksah32/8ba7ee7489bd8ec50c995f6216adcb7d)\n",
    "import pandas as pd\n",
    "import matplotlib.pyplot as plt \n",
    "\n",
    "i,r = zip(*stats)\n",
    "r_np = np.asarray(r).flatten()\n",
    "i_np = np.asarray(i).flatten()\n",
    "\n",
    "mean_x1 = pd.Series(r_np).rolling(window=100).mean()\n",
    "\n",
    "plt.xlabel(\"epochs\")\n",
    "plt.ylabel(\"score per step\")\n",
    "plt.plot(i_np, mean_x1, 'r-')\n",
    "plt.legend(['ppo'])\n",
    "plt.title('Simple pend')\n",
    "plt.show()"
   ]
  },
  {
   "cell_type": "code",
   "execution_count": null,
   "metadata": {},
   "outputs": [],
   "source": [
    "r_np"
   ]
  },
  {
   "cell_type": "code",
   "execution_count": null,
   "metadata": {},
   "outputs": [],
   "source": []
  }
 ],
 "metadata": {
  "kernelspec": {
   "display_name": "Python 3",
   "language": "python",
   "name": "python3"
  },
  "language_info": {
   "codemirror_mode": {
    "name": "ipython",
    "version": 3
   },
   "file_extension": ".py",
   "mimetype": "text/x-python",
   "name": "python",
   "nbconvert_exporter": "python",
   "pygments_lexer": "ipython3",
   "version": "3.6.6"
  }
 },
 "nbformat": 4,
 "nbformat_minor": 2
}
