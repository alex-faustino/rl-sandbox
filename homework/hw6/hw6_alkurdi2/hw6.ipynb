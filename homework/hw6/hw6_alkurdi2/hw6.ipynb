{
 "cells": [
  {
   "cell_type": "markdown",
   "metadata": {},
   "source": [
    "# PPO algorithm"
   ]
  },
  {
   "cell_type": "code",
   "execution_count": 20,
   "metadata": {},
   "outputs": [
    {
     "name": "stdout",
     "output_type": "stream",
     "text": [
      "\u001b[33mWARN: gym.spaces.Box autodetected dtype as <class 'numpy.float32'>. Please provide explicit dtype.\u001b[0m\n",
      "\u001b[33mWARN: gym.spaces.Box autodetected dtype as <class 'numpy.float32'>. Please provide explicit dtype.\u001b[0m\n"
     ]
    }
   ],
   "source": [
    "import gym\n",
    "import time\n",
    "import torch\n",
    "import torch.nn as nn\n",
    "import torch.nn.functional as F\n",
    "import torch.optim as optim\n",
    "from torch.distributions import Normal\n",
    "from torch.utils.data.sampler import BatchSampler, SubsetRandomSampler\n",
    "from torch.autograd import Variable \n",
    "\n",
    "import numpy as np\n",
    "\n",
    "import matplotlib.pyplot as plt\n",
    "from myfunctions import space_size\n",
    "space_size=space_size.space_size\n",
    "\n",
    "\n",
    "\n",
    "env=gym.make('Pendulum-v0')\n",
    "env.seed(0)\n",
    "\n",
    "size=space_size(env)\n",
    "a_s , o_s = size.a , size.o\n",
    "D_in = size.o\n",
    "D_out = size.a\n",
    "ep_len, ep_max, e, gamma, batch_size= 200, 3000, 0.2, 0.9, 100\n",
    "hypers = [ep_len, ep_max, e, gamma, batch_size] \n",
    "ε = [0.8, 0.1]\n",
    "l_r = 1e-3\n",
    "\n",
    "D_in, H, D_out = env.observation_space.shape[0], 100, env.action_space.shape[0]\n",
    "N = 10 #epoch"
   ]
  },
  {
   "cell_type": "markdown",
   "metadata": {},
   "source": [
    "# Neural network block"
   ]
  },
  {
   "cell_type": "code",
   "execution_count": 21,
   "metadata": {},
   "outputs": [],
   "source": [
    "# Setting parameters for the activation function\n",
    "action_range=np.array([env.action_space.low[0], env.action_space.high[0]],dtype=None)\n",
    "[a,b]=[action_range.sum(), action_range.ptp()/2] # action [center, space]\n",
    "\n",
    "# Actor Block\n",
    "class actorNN(nn.Module):\n",
    "\n",
    "    def __init__(self, D_in, H, D_out):\n",
    "        super(actorNN, self).__init__()\n",
    "        self.layerh = nn.Linear(D_in, H)\n",
    "        self.mu_layer = nn.Linear(H, D_out)\n",
    "        self.sigma_layer = nn.Linear(H, D_out)\n",
    "        \n",
    "    def forward(self, x):\n",
    "        x = x.float() if type(x) == torch.Tensor else torch.from_numpy(x).float()\n",
    "        h = self.layerh(x)\n",
    "        h_relu = F.relu(h)\n",
    "        mu = 2*torch.tanh(self.mu_layer(h))\n",
    "        sigma = F.softplus(self.sigma_layer(h)) + 1e-3\n",
    "        \n",
    "        return mu, sigma\n",
    "\n",
    "# Critic Block\n",
    "class criticNN(nn.Module):\n",
    "    \n",
    "    def __init__(self, D_in, H, D_out):\n",
    "        super(criticNN, self).__init__()\n",
    "        self.layerh = nn.Linear(D_in, H)\n",
    "        self.Vlayer = nn.Linear(H, D_out)\n",
    "    \n",
    "    def forward(self, x):\n",
    "        x = x.float() if type(x) == torch.Tensor else torch.from_numpy(x).float()\n",
    "        V_pred = self.Vlayer( F.relu( self.layerh(x) ) )\n",
    "        return V_pred\n",
    "\n"
   ]
  },
  {
   "cell_type": "markdown",
   "metadata": {},
   "source": [
    "# Agent block"
   ]
  },
  {
   "cell_type": "code",
   "execution_count": null,
   "metadata": {},
   "outputs": [],
   "source": [
    "# Agent Block\n",
    "class Agent():\n",
    "    \n",
    "    def __init__(self):\n",
    "        self.gamma=gamma\n",
    "        self.ep_len=ep_len\n",
    "        \n",
    "\n",
    "    def cum_reward(self, r_s):\n",
    "        G=np.zeros_like(r_s)\n",
    "        G[-1]=r_s[-1]\n",
    "        for i in range(len(r_s)-2,-1,-1):\n",
    "            G[i]=G[i+1]*gamma+r_s[i]\n",
    "        return G\n",
    "    \n",
    "    def get_adv(self, r, v):\n",
    "        \n",
    "        A=np.zeros(self.ep_len)\n",
    "        for i in range(self.ep_len-2):\n",
    "            A[i] = r[i]- v[i] + gamma**(self.ep_len-i)*v[-1]\n",
    "        #A= r + v[-2] - v[-1]\n",
    "        return A\n",
    "    \n",
    "        \"\"\" def get_loss(self, A, r, e):\n",
    "        # L_clip=E[min(r*A(t), np.clip(r, 1-self.e, 1+self.e))]\n",
    "        # L_vf=E[Policy/Policy_old*A[t]-beta*]\n",
    "        # S=\n",
    "        #L_vf= \n",
    "        loss=[]#[L_clip, L_vf] # [L_clip,]\n",
    "        return loss\"\"\""
   ]
  },
  {
   "cell_type": "markdown",
   "metadata": {},
   "source": [
    "# Update function"
   ]
  },
  {
   "cell_type": "code",
   "execution_count": 23,
   "metadata": {},
   "outputs": [],
   "source": [
    "\n",
    "def update(s, a, r, s_n, a_lp, gamma, opta, optc):\n",
    "    max_grad_norm = 0.5\n",
    "\n",
    "    #s, a , r, s_n, a_lp = state_store, action_store, reward_store, state_store, action_lps\n",
    "    s = torch.tensor(np.asarray(s[:-1:10]), dtype=torch.float)\n",
    "    a = torch.tensor(np.asarray(a[:-1:10]), dtype=torch.float).view(-1, 1)\n",
    "    r = torch.tensor(np.asarray(r[:-1:10]), dtype=torch.float).view(-1, 1)\n",
    "    s_n = torch.tensor(np.asarray(s_n[1::10]), dtype=torch.float)\n",
    "    old_action_log_probs = torch.tensor(a_lp[:-1:10], dtype=torch.float).view(-1, 1)\n",
    "    \n",
    "    r = (r - r.mean()) / (r.std() + 1e-5)\n",
    "    with torch.no_grad():\n",
    "        target_v = r + gamma * critic(s_n)\n",
    "\n",
    "    adv = (target_v - critic(s)).detach()\n",
    "\n",
    "    for _ in range(N):\n",
    "        for index in BatchSampler( SubsetRandomSampler(range(ep_len//10)), 1, False):\n",
    "\n",
    "            (mu, sigma) = actor.forward(s[index])\n",
    "            dist = Normal(mu, sigma)\n",
    "            action_log_probs = dist.log_prob(a[index])\n",
    "            ratio = torch.exp(action_log_probs - old_action_log_probs[index])\n",
    "\n",
    "            surr1 = ratio * adv[index]\n",
    "            surr2 = torch.clamp(ratio, 1.0 - e,\n",
    "                                1.0 + e) * adv[index]\n",
    "            action_loss = -torch.min(surr1, surr2).mean()\n",
    "\n",
    "            opta.zero_grad()\n",
    "            action_loss.backward()\n",
    "            nn.utils.clip_grad_norm_(actor.parameters(), max_grad_norm)\n",
    "            opta.step()\n",
    "\n",
    "            value_loss = F.smooth_l1_loss(critic(s[index]), target_v[index])\n",
    "            optc.zero_grad()\n",
    "            value_loss.backward()\n",
    "            nn.utils.clip_grad_norm_(critic.parameters(), max_grad_norm)\n",
    "            optc.step()"
   ]
  },
  {
   "cell_type": "markdown",
   "metadata": {},
   "source": [
    "# main "
   ]
  },
  {
   "cell_type": "code",
   "execution_count": 24,
   "metadata": {},
   "outputs": [],
   "source": [
    "\n",
    "done = False\n",
    "A=np.zeros(ep_max)\n",
    "\n",
    "agent = Agent()\n",
    "actor = actorNN(D_in, H, D_out)\n",
    "critic = criticNN(D_in, H, D_out)\n",
    "\n",
    "optim_a = optim.Adam(actor.parameters(), lr=1e-4)\n",
    "optim_c = optim.Adam(critic.parameters(), lr=3e-4)\n",
    "\n",
    "\n",
    "end_ep_reward=[]\n",
    "\n",
    "for i_episodes in range(ep_max):\n",
    "    \n",
    "    state=env.reset()    \n",
    "    state_store = []\n",
    "    action_store = []\n",
    "    reward_store = []\n",
    "    v_store = []\n",
    "    reward_sofar = 0\n",
    "    action_lps = []\n",
    "    \n",
    "    for i_step in range(ep_len):\n",
    "        # run actor and critic to get mean, std and Value function. \n",
    "        mu, sigma = actor.forward(state)\n",
    "        v = critic.forward(state).item()\n",
    "        \n",
    "        # sampling the distribution to choose action:\n",
    "        policy = Normal(mu[0],sigma[0])\n",
    "        action = policy.sample()\n",
    "        action_log_prob = policy.log_prob(action)\n",
    "        action=action.item()\n",
    "        \n",
    "        # take action\n",
    "        n_state, reward, done, _ = env.step([action])\n",
    "        \n",
    "        # storing\n",
    "        state_store.append(state)\n",
    "        action_store.append(action)\n",
    "        action_lps.append(action_log_prob)\n",
    "        reward_store.append(reward)\n",
    "        v_store.append(v)\n",
    "        \n",
    "        # #calculate A, and L\n",
    "        # A=agent.get_adv(reward_store, v)\n",
    "        # L=Agent.get_loss(v, r, A, e)\n",
    "        \n",
    "        # update parameters\n",
    "        state = n_state\n",
    "        reward_sofar += reward\n",
    "         \n",
    "    end_ep_reward.append(reward_sofar)\n",
    "    cum_reward = agent.cum_reward(reward_store)\n",
    "    \n",
    "    #calculate A, and L\n",
    "    #A = agent.get_adv(cum_reward, v_store )\n",
    "    #L = Agent.get_loss(v_store, reward_store, A, e)\n",
    "\n",
    "    # update\n",
    "    update(state_store, action_store, reward_store, state_store, action_lps, gamma, optim_a, optim_c)\n",
    "    \n",
    "    \n",
    "    "
   ]
  },
  {
   "cell_type": "markdown",
   "metadata": {},
   "source": [
    "# results"
   ]
  },
  {
   "cell_type": "code",
   "execution_count": 26,
   "metadata": {},
   "outputs": [
    {
     "data": {
      "image/png": "[encoded data removed]",
      "text/plain": [
       "<matplotlib.figure.Figure at 0x1bc3f4cbbe0>"
      ]
     },
     "metadata": {},
     "output_type": "display_data"
    },
    {
     "data": {
      "text/plain": [
       "<function matplotlib.pyplot.show>"
      ]
     },
     "execution_count": 26,
     "metadata": {},
     "output_type": "execute_result"
    },
    {
     "data": {
      "image/png": "[encoded data removed]",
      "text/plain": [
       "<matplotlib.figure.Figure at 0x1bc3f424b00>"
      ]
     },
     "metadata": {},
     "output_type": "display_data"
    }
   ],
   "source": [
    "#plt.plot(reward_store)\n",
    "plt.plot(end_ep_reward)\n",
    "plt.show()\n",
    "\n",
    "plt.plot(action_store)\n",
    "plt.show"
   ]
  }
 ],
 "metadata": {
  "kernelspec": {
   "display_name": "Python 3",
   "language": "python",
   "name": "python3"
  }
 },
 "nbformat": 4,
 "nbformat_minor": 2
}
