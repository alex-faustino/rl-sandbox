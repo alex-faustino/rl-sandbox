{
 "cells": [
  {
   "cell_type": "markdown",
   "metadata": {},
   "source": [
    "# HW6\n",
    "\n",
    "Your goal this week is to implement PPO and apply it to the simple pendulum. The main reference for PPO is Schulman et al (2017).\n",
    "\n",
    "You can think of PPO as a natural extension of REINFORCE (which you implemented in HW4 and HW5), where we are now using a deep net both to describe the policy (actor) and the value function (critic).\n",
    "\n",
    "In particular, a key step will be to implement the loss function in Eq. (9) of Schulman et al (2017). The input to the deep net should be the continuous state (joint angle, joint velocity). The output from the deep net should be both the mean and variance of a normal distribution from which the continuous action (joint torque) is sampled - a so-called \"Gaussian policy\" - and the value of the state. You are free to drop the \"entropy bonus\" term from Eq. (9). Note that pytorch and tensorflow will compute the gradient of the loss function for you - there is no need to derive an expression for the gradient yourself, as you did in HW4 for the tabular policy.\n",
    "\n",
    "Your implementation should be designed so that it can be used with arbitrary continuous-state/continuous-action gym environments. In particular, you should aspire to apply your same algorithm to the acrobot (where the deep net would output the mean and covariance of a multi-variate normal distribution as well as the value), once you have successfully applied it to the simple pendulum.\n",
    "\n",
    "Follow the same pattern as with previous homework - choose hyperparameters so that the training converges, plot the learning rate, and so forth."
   ]
  },
  {
   "cell_type": "markdown",
   "metadata": {},
   "source": [
    "## Setting up hyperparameters"
   ]
  },
  {
   "cell_type": "code",
   "execution_count": 1,
   "metadata": {},
   "outputs": [
    {
     "name": "stdout",
     "output_type": "stream",
     "text": [
      "No GPU found\n"
     ]
    }
   ],
   "source": [
    "import tensorflow as tf\n",
    "import numpy as np\n",
    "import matplotlib.pyplot as plt\n",
    "import gym\n",
    "import os\n",
    "\n",
    "# Run on CPU instead of GPU\n",
    "os.environ['CUDA_VISIBLE_DEVICES'] = '-1'\n",
    "\n",
    "if tf.test.gpu_device_name():\n",
    "    print('GPU found')\n",
    "else:\n",
    "    print(\"No GPU found\")\n",
    "\n",
    "# Define number of episodes and time horizon\n",
    "episode_num = 512\n",
    "time_horizon = 256\n",
    "\n",
    "# Discount rate and learning rate for actor and critic network\n",
    "gamma = 0.9\n",
    "lr_a = 0.0001 # Actor network learning rate\n",
    "lr_c = 0.0002 # Critic network learning rate\n",
    "\n",
    "# Batch size\n",
    "BATCH = 32\n",
    "\n",
    "# Number of update within each Batch\n",
    "A_UPDATE_STEPS = 10\n",
    "C_UPDATE_STEPS = 10\n",
    "\n",
    "# State and action dimension\n",
    "S_DIM = 3 \n",
    "A_DIM = 1"
   ]
  },
  {
   "cell_type": "markdown",
   "metadata": {},
   "source": [
    "## Memory and post process module"
   ]
  },
  {
   "cell_type": "code",
   "execution_count": 2,
   "metadata": {},
   "outputs": [],
   "source": [
    "# Define Memory for saving state, action and reward of each mini-batch\n",
    "class Memory(object):\n",
    "    def __init__(self):\n",
    "        self.ep_obs, self.ep_act, self.ep_rwd = [], [], []\n",
    "\n",
    "    def store_transition(self, obs0, act, rwd):\n",
    "        self.ep_obs.append(obs0)\n",
    "        self.ep_act.append(act)\n",
    "        self.ep_rwd.append(rwd)\n",
    "\n",
    "    def covert_to_array(self):\n",
    "        array_obs = np.vstack(self.ep_obs)\n",
    "        array_act = np.vstack(self.ep_act)\n",
    "        array_rwd = np.array(self.ep_rwd)\n",
    "        return array_obs, array_act, array_rwd\n",
    "\n",
    "    def reset(self):\n",
    "        self.ep_obs, self.ep_act, self.ep_rwd = [], [], []\n",
    "\n",
    "# Post processing unit for showing resl\n",
    "class PostProcess(object):\n",
    "    def __init__(self):\n",
    "        self.ep_reward = 0\n",
    "        self.total_reward = []\n",
    "        self.traj = []\n",
    "        self.opt_traj = []\n",
    "\n",
    "    def rew_acu(self, reward, s):\n",
    "        self.ep_reward = self.ep_reward + reward\n",
    "        self.traj.append(s)\n",
    "\n",
    "    def push(self, episode):\n",
    "        if ep == 0:\n",
    "            self.total_reward.append(self.ep_reward)\n",
    "        else:\n",
    "            self.total_reward.append(self.ep_reward*0.1 + self.total_reward[-1]*0.9)\n",
    "        #print('epoch',episode,' | reward', self.ep_reward)\n",
    "\n",
    "        self.opt_traj = self.traj\n",
    "\n",
    "        self.traj = []\n",
    "        self.ep_reward = 0\n",
    "\n",
    "    def graph(self):\n",
    "        plt.figure(0)\n",
    "        plt.plot(self.total_reward)\n",
    "        plt.figure(1)\n",
    "        [s,c,dt] = plt.plot(range(256), self.opt_traj)\n",
    "        plt.legend([s,c,dt], [\"sin(theta)\",\"cos(theta)\",\"dtheta\"], loc=1)\n",
    "        plt.show()\n",
    "\n",
    "        print(np.shape(self.opt_traj[:][0]))\n",
    "\n",
    "    def get_reward(self):\n",
    "        return self.total_reward\n",
    "\n",
    "    def reset(self):\n",
    "        self.ep_reward = 0\n",
    "        self.total_reward = []\n"
   ]
  },
  {
   "cell_type": "markdown",
   "metadata": {},
   "source": [
    "## Proximal Policy Optimizer (PPO) module"
   ]
  },
  {
   "cell_type": "code",
   "execution_count": 3,
   "metadata": {},
   "outputs": [],
   "source": [
    "# Main Agent for implemntation of PPO\n",
    "class PPO(object):\n",
    "\n",
    "    def __init__(self):\n",
    "        self.input = tf.placeholder(tf.float32, [None, S_DIM], 'state')\n",
    "        self.memory = Memory()\n",
    "\n",
    "        # critic\n",
    "        with tf.variable_scope('critic'):\n",
    "            self.v = self._build_cnet('critic', trainable= True)\n",
    "            self.q_value = tf.placeholder(tf.float32, [None, 1], 'q_value')\n",
    "            self.advantage = self.q_value - self.v\n",
    "\n",
    "            self.critic_loss = tf.reduce_mean(tf.square(self.advantage))\n",
    "            self.critic_op = tf.train.AdamOptimizer(lr_c).minimize(self.critic_loss)\n",
    "\n",
    "        # actor\n",
    "        policy, policy_params = self._build_anet('policy', trainable=True)\n",
    "        old_policy, old_policy_params = self._build_anet('old_policy', trainable=False)\n",
    "\n",
    "        with tf.variable_scope('sample_action'):\n",
    "            self.sample_op = tf.squeeze(policy.sample(1), axis=0)       # choosing action\n",
    "        with tf.variable_scope('update_old_policy'):\n",
    "            self.update_old_policy_op = [oldp.assign(p) for p, oldp in zip(policy_params, old_policy_params)]\n",
    "\n",
    "        self.act = tf.placeholder(tf.float32, [None, A_DIM], 'action')\n",
    "        self.adv = tf.placeholder(tf.float32, [None, 1], 'advantage')\n",
    "\n",
    "        with tf.variable_scope('loss'):\n",
    "            with tf.variable_scope('surrogate'):\n",
    "                ratio = policy.prob(self.act) / old_policy.prob(self.act)\n",
    "                self.actor_loss = -tf.reduce_mean(tf.minimum(\n",
    "                    ratio * self.adv,\n",
    "                    tf.clip_by_value(ratio, 1.-0.2, 1.+0.2)*self.adv))\n",
    "\n",
    "        with tf.variable_scope('atrain'):\n",
    "            self.actor_op = tf.train.AdamOptimizer(lr_a).minimize(self.actor_loss)\n",
    "\n",
    "        self.sess = tf.Session()\n",
    "        self.sess.run(tf.global_variables_initializer())\n",
    "\n",
    "    def update(self):\n",
    "        state, action, reward = self.memory.covert_to_array()\n",
    "        self.memory.reset()\n",
    "        a = self.get_q(state[-1][:], reward)\n",
    "\n",
    "        self.sess.run(self.update_old_policy_op)\n",
    "        adv = self.sess.run(self.advantage, {self.input: state, self.q_value: a})\n",
    "\n",
    "        # update actor\n",
    "        [self.sess.run(self.actor_op, {self.input: state, self.act: action, self.adv: adv}) for _ in range(A_UPDATE_STEPS)]\n",
    "\n",
    "        # update critic\n",
    "        [self.sess.run(self.critic_op, {self.input: state, self.q_value: a}) for _ in range(C_UPDATE_STEPS)]\n",
    "\n",
    "    def _build_cnet(self, name, trainable):\n",
    "        with tf.variable_scope(name):\n",
    "            l1 = tf.layers.dense(self.input, 100, tf.nn.relu)\n",
    "            v = tf.layers.dense(l1, 1)\n",
    "        return v\n",
    "\n",
    "\n",
    "    def _build_anet(self, name, trainable):\n",
    "        with tf.variable_scope(name):\n",
    "            l1 = tf.layers.dense(self.input, 100, tf.nn.relu, trainable=trainable)\n",
    "            mu = 2 * tf.layers.dense(l1, A_DIM, tf.nn.tanh, trainable=trainable)\n",
    "            sigma = tf.layers.dense(l1, A_DIM, tf.nn.softplus, trainable=trainable)\n",
    "            norm_dist = tf.distributions.Normal(loc=mu, scale=sigma)\n",
    "        params = tf.get_collection(tf.GraphKeys.GLOBAL_VARIABLES, scope=name)\n",
    "        return norm_dist, params\n",
    "\n",
    "    def choose_action(self, s):\n",
    "        s = s[np.newaxis, :]\n",
    "        a = self.sess.run(self.sample_op, {self.input: s})[0]\n",
    "        return np.clip(a, -2, 2)\n",
    "\n",
    "    def get_v(self, s):\n",
    "        if s.ndim < 2: s = s[np.newaxis, :]\n",
    "        return self.sess.run(self.v, {self.input: s})[0, 0]\n",
    "\n",
    "    def get_q(self, s, reward):\n",
    "        v_s_ = self.get_v(s)\n",
    "        discounted_r = []\n",
    "        for r in reward[::-1]:\n",
    "            v_s_ = r + gamma * v_s_\n",
    "            discounted_r.append(v_s_)\n",
    "        discounted_r.reverse()\n",
    "        return np.array(discounted_r)[:, np.newaxis]"
   ]
  },
  {
   "cell_type": "markdown",
   "metadata": {},
   "source": [
    "## Pendulum-V0 in loop"
   ]
  },
  {
   "cell_type": "code",
   "execution_count": 4,
   "metadata": {},
   "outputs": [
    {
     "data": {
      "image/png": "[encoded data removed]",
      "text/plain": [
       "<Figure size 432x288 with 1 Axes>"
      ]
     },
     "metadata": {
      "needs_background": "light"
     },
     "output_type": "display_data"
    },
    {
     "data": {
      "image/png": "[encoded data removed]",
      "text/plain": [
       "<Figure size 432x288 with 1 Axes>"
      ]
     },
     "metadata": {
      "needs_background": "light"
     },
     "output_type": "display_data"
    },
    {
     "name": "stdout",
     "output_type": "stream",
     "text": [
      "(3,)\n"
     ]
    }
   ],
   "source": [
    "env = gym.make('Pendulum-v0').unwrapped\n",
    "ppo = PPO()\n",
    "pporcess = PostProcess()\n",
    "\n",
    "for ep in range(episode_num):\n",
    "    s = env.reset()\n",
    "    for t in range(time_horizon):    # in one episode\n",
    "\n",
    "        '''if ep >= 300:\n",
    "            env.render()'''\n",
    "\n",
    "        a = ppo.choose_action(s)\n",
    "        s_, r, done, _ = env.step(a) \n",
    "\n",
    "        ppo.memory.store_transition(s, a, (r+8)/8)\n",
    "\n",
    "        s = s_\n",
    "        \n",
    "        pporcess.rew_acu(r, s)\n",
    "\n",
    "        # update ppo\n",
    "        if (t+1) % BATCH == 0 or t == time_horizon-1:\n",
    "            ppo.update()\n",
    "\n",
    "    pporcess.push(ep)\n",
    "\n",
    "pporcess.graph()\n",
    "env.close()"
   ]
  },
  {
   "cell_type": "markdown",
   "metadata": {},
   "source": [
    "## Analysis of results\n",
    "\n",
    "As is obvious from reward plot the algorithm is able to converge in less than 500 epochs however since there is penalty on control effort, in some cases where pendulum is on upright position we get poor reward since actor exerts too much torque. In addition in some cases we get too much oscilation before converging to upright position hence lower reward. \\\\\n",
    "Second plot is example trajectory. As you can see at the $t \\geq 50$ we have $$sin(\\theta) = 1 $$ and $$cos(\\theta) = 0$$ meaning that $$theta = \\frac{\\pi}{2}$$ additionally $$\\dot{\\theta}=0$$"
   ]
  },
  {
   "cell_type": "code",
   "execution_count": null,
   "metadata": {},
   "outputs": [],
   "source": []
  }
 ],
 "metadata": {
  "kernelspec": {
   "display_name": "Python 3",
   "language": "python",
   "name": "python3"
  },
  "language_info": {
   "codemirror_mode": {
    "name": "ipython",
    "version": 3
   },
   "file_extension": ".py",
   "mimetype": "text/x-python",
   "name": "python",
   "nbconvert_exporter": "python",
   "pygments_lexer": "ipython3",
   "version": "3.6.7"
  }
 },
 "nbformat": 4,
 "nbformat_minor": 2
}
