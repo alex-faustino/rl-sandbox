{
 "cells": [
  {
   "cell_type": "code",
   "execution_count": 1,
   "metadata": {},
   "outputs": [
    {
     "data": {
      "text/plain": [
       "<torch._C.Generator at 0x7fe25132c1f0>"
      ]
     },
     "execution_count": 1,
     "metadata": {},
     "output_type": "execute_result"
    }
   ],
   "source": [
    "import gym\n",
    "import matplotlib.pyplot as plt\n",
    "import random\n",
    "import numpy as np\n",
    "from gridworld.gridworld import GridWorldEnvNew\n",
    "\n",
    "import argparse\n",
    "import gym\n",
    "import numpy as np\n",
    "from itertools import count\n",
    "\n",
    "import torch\n",
    "import torch.nn as nn\n",
    "import torch.nn.functional as F\n",
    "import torch.optim as optim\n",
    "from torch.distributions import Categorical\n",
    "\n",
    "env = gym.make('MyGridworld-v2')\n",
    "store_state = {}\n",
    "store_action = {}\n",
    "store_reward = {}\n",
    "store_qfunc = {}\n",
    "\n",
    "a_seed = 543\n",
    "a_render = True \n",
    "a_gamma = 1\n",
    "a_log_interval = 10\n",
    "a_lr = 1e-2\n",
    "\n",
    "env.seed(a_seed)\n",
    "torch.manual_seed(a_seed)"
   ]
  },
  {
   "cell_type": "code",
   "execution_count": 2,
   "metadata": {},
   "outputs": [],
   "source": [
    "def SARSA_learning(no_episodes, episode_len, gamma, epsilon, alpha): \n",
    "\n",
    "    sarsa_qfunc = np.zeros([env.observation_space.n, env.action_space.n])\n",
    "    sarsa_reward = []\n",
    "\n",
    "    for i_episode in range(no_episodes):\n",
    "        ## Intialize the arrays for storing state, action and reward\n",
    "        store_state[str(i_episode)] = []\n",
    "        store_action[str(i_episode)] = []\n",
    "        store_reward[str(i_episode)] = []\n",
    "        store_qfunc[str(i_episode)] = []\n",
    "    \n",
    "        ### Initialize the episode with random state\n",
    "        init_state, cur_pos = env.reset()\n",
    "        #print('Reset state for SARSA: ', i_episode, init_state)\n",
    "\n",
    "        ### epsilon_greedy algorithm for \"A\" action\n",
    "        myprob = random.uniform(0, 1) \n",
    "        if myprob < epsilon:\n",
    "            #print('Random action executed')\n",
    "            action = env.action_space.sample() # Explore action space\n",
    "        else:\n",
    "            action = np.argmax(sarsa_qfunc[cur_pos]) \n",
    "        store_action[str(i_episode)].append(action)\n",
    "    \n",
    "        for t in range(episode_len):        \n",
    "            cur_q = sarsa_qfunc[cur_pos, action] ## Q(S,A)        \n",
    "            \n",
    "            next_state, reward, done, info = env.step(action)       \n",
    "            next_pos = info['pos'] ## S'\n",
    "                \n",
    "            ### epsilon_greedy algorithm for A' action\n",
    "            nextprob = random.uniform(0, 1) \n",
    "            if nextprob < epsilon:\n",
    "                #print('Random next action executed')\n",
    "                next_action = env.action_space.sample() # Explore action space\n",
    "            else:\n",
    "                next_action = np.argmax(sarsa_qfunc[cur_pos]) \n",
    "        \n",
    "            next_max = sarsa_qfunc[next_pos, next_action] ## Q(S',A')            \n",
    "            ### Q(S,A) = Q(S,A) + alpha( R + gamma*Q(S',A')-Q(S,A) )\n",
    "            new_value = (1 - alpha) * cur_q + alpha * (reward + gamma * next_max)\n",
    "            sarsa_qfunc[cur_pos, action] = new_value\n",
    "        \n",
    "            cur_pos = next_pos  ## S<--S'\n",
    "            action = next_action ## A<--A'\n",
    "        \n",
    "            ### Plotting and Storing\n",
    "            #print(\" \")\n",
    "            #print(\"Action: \", action)     \n",
    "            #print(\"Reward: \", reward)\n",
    "            #print(\"State:  \", next_pos, next_state)\n",
    "            store_action[str(i_episode)].append(action)\n",
    "            store_reward[str(i_episode)].append(reward)\n",
    "            store_state[str(i_episode)].append(next_pos)\n",
    "            env.render()\n",
    "    \n",
    "        store_qfunc[str(i_episode)] = sarsa_qfunc\n",
    "        sarsa_reward.append(sum(store_reward[str(i_episode)]))\n",
    "    \n",
    "    env.close()\n",
    "    return sarsa_qfunc, sarsa_reward"
   ]
  },
  {
   "cell_type": "code",
   "execution_count": 3,
   "metadata": {},
   "outputs": [],
   "source": [
    "def Q_learning(no_episodes, episode_len, gamma, epsilon, alpha):\n",
    "\n",
    "    ql_qfunc = np.zeros([env.observation_space.n, env.action_space.n])\n",
    "    ql_reward = []\n",
    "    \n",
    "    for i_episode in range(no_episodes):\n",
    "        ## Intialize the arrays for storing state, action and reward\n",
    "        store_state[str(i_episode)] = []\n",
    "        store_action[str(i_episode)] = []\n",
    "        store_reward[str(i_episode)] = []\n",
    "        store_qfunc[str(i_episode)] = []\n",
    "    \n",
    "        ### Initialize the episode with random state\n",
    "        init_state, cur_pos = env.reset()\n",
    "        #print('Reset state for QL: ', i_episode, init_state)\n",
    "    \n",
    "        for t in range(episode_len):\n",
    "\n",
    "            ### epsilon_greedy algorithm for A action\n",
    "            myprob = random.uniform(0, 1) \n",
    "            if myprob < epsilon:\n",
    "                #print('Random action executed')\n",
    "                action = env.action_space.sample() # Explore action space\n",
    "            else:\n",
    "                action = np.argmax(ql_qfunc[cur_pos]) \n",
    "            # Exploit learned values env.action_space.sample()  # \n",
    "            \n",
    "            store_action[str(i_episode)].append(action)\n",
    "            next_state, reward, done, info = env.step(action)\n",
    "        \n",
    "            next_pos = info['pos'] ## S'\n",
    "            cur_q = ql_qfunc[cur_pos, action] ## Q(S,A)        \n",
    "            next_q = np.max(ql_qfunc[next_pos]) ## A' = max_a Q(S',a)\n",
    "        \n",
    "            ### Q(S,A) = Q(S,A) + alpha( R + gamma*Q(S',A')-Q(S,A) )\n",
    "            q_val = (1 - alpha) * cur_q + alpha * (reward + gamma * next_q)\n",
    "            ql_qfunc[cur_pos, action] = q_val ## Q (S,A)\n",
    "        \n",
    "            cur_pos = next_pos ## S<--S'\n",
    "            \n",
    "            ### Plotting and Storing\n",
    "            #print(\" \")\n",
    "            #print(\"Action: \", action)     \n",
    "            #print(\"Reward: \", reward)\n",
    "            #print(\"State:  \", next_pos, next_state)\n",
    "            store_state[str(i_episode)].append(next_pos)\n",
    "            store_reward[str(i_episode)].append(reward)\n",
    "            env.render()\n",
    "    \n",
    "        store_qfunc[str(i_episode)] = ql_qfunc\n",
    "        ql_reward.append(sum(store_reward[str(i_episode)]))\n",
    "\n",
    "    env.close()\n",
    "    return ql_qfunc, ql_reward"
   ]
  },
  {
   "cell_type": "code",
   "execution_count": 4,
   "metadata": {},
   "outputs": [],
   "source": [
    "## Plotting the learning curves of Qlearning and SARSA algorithm\n",
    "### Hard or easy level can be changed in the gridworld.py file\n",
    "no_episodes = 50 #0\n",
    "episode_len = 100\n",
    "alpha = 0.01\n",
    "gamma = 0.8\n",
    "epsilon = 0.1\n",
    "\n",
    "### These results are for hard-level\n",
    "sarsa_qfunc, sarsa_reward = SARSA_learning(no_episodes, episode_len, gamma, epsilon, alpha)\n",
    "ql_qfunc, ql_reward = Q_learning(no_episodes, episode_len, gamma, epsilon, alpha)"
   ]
  },
  {
   "cell_type": "code",
   "execution_count": 5,
   "metadata": {},
   "outputs": [
    {
     "data": {
      "image/png": "[encoded data removed]",
      "text/plain": [
       "<Figure size 432x288 with 1 Axes>"
      ]
     },
     "metadata": {
      "needs_background": "light"
     },
     "output_type": "display_data"
    }
   ],
   "source": [
    "plt.plot(np.arange(no_episodes), ql_reward, 'b')\n",
    "plt.plot(np.arange(no_episodes), sarsa_reward, 'r')\n",
    "plt.show()"
   ]
  },
  {
   "cell_type": "code",
   "execution_count": null,
   "metadata": {},
   "outputs": [],
   "source": [
    "#### Therefore, Q-learning and SARSA-learning seem to be more robust and have a better consistent performance \n",
    "#### as compared to reinforce algorithm which is explained in BUILD_REINFORCE file"
   ]
  },
  {
   "cell_type": "code",
   "execution_count": null,
   "metadata": {},
   "outputs": [],
   "source": []
  },
  {
   "cell_type": "code",
   "execution_count": null,
   "metadata": {},
   "outputs": [],
   "source": []
  }
 ],
 "metadata": {
  "kernelspec": {
   "display_name": "Python 3",
   "language": "python",
   "name": "python3"
  },
  "language_info": {
   "codemirror_mode": {
    "name": "ipython",
    "version": 3
   },
   "file_extension": ".py",
   "mimetype": "text/x-python",
   "name": "python",
   "nbconvert_exporter": "python",
   "pygments_lexer": "ipython3",
   "version": "3.5.2"
  }
 },
 "nbformat": 4,
 "nbformat_minor": 2
}
