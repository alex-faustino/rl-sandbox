{
 "cells": [
  {
   "cell_type": "markdown",
   "metadata": {},
   "source": [
    "# 598RL HW4"
   ]
  },
  {
   "cell_type": "code",
   "execution_count": 1,
   "metadata": {},
   "outputs": [],
   "source": [
    "#import basic packages\n",
    "from IPython.display import clear_output\n",
    "import time\n",
    "import numpy as np\n",
    "import matplotlib.pyplot as plt\n",
    "%matplotlib inline\n",
    "\n",
    "import gym\n",
    "import gridworld\n",
    "\n",
    "params_ = {}\n",
    "env = gym.make('GridWorld-v0')"
   ]
  },
  {
   "cell_type": "markdown",
   "metadata": {},
   "source": [
    "### Set level to  the \"easy\" version of grid_world (actions deterministically move the agent) or the \"hard\" version (some probability of moving in a direction different to the desired action)"
   ]
  },
  {
   "cell_type": "code",
   "execution_count": null,
   "metadata": {},
   "outputs": [],
   "source": [
    "set_level = 'easy'"
   ]
  },
  {
   "cell_type": "markdown",
   "metadata": {},
   "source": [
    "## Common functions:"
   ]
  },
  {
   "cell_type": "code",
   "execution_count": 2,
   "metadata": {},
   "outputs": [],
   "source": [
    "def get_state_row(curr_state, gridmap):\n",
    "    \n",
    "    state_row = curr_state[0]*len(gridmap[0]) + curr_state[1]\n",
    "    return state_row"
   ]
  },
  {
   "cell_type": "markdown",
   "metadata": {},
   "source": [
    "## SARSA and Q-Learning functions:"
   ]
  },
  {
   "cell_type": "code",
   "execution_count": 3,
   "metadata": {},
   "outputs": [],
   "source": [
    "def get_action_Q(Q_table, curr_state, exp_prob, action_str, gridmap):\n",
    "    \n",
    "    n_act = len(action_str)\n",
    "    rand_n = np.random.rand(1)[0]\n",
    "    if rand_n < exp_prob:\n",
    "        action = action_str[np.random.randint(n_act)]\n",
    "        \n",
    "    else:\n",
    "        state_row = get_state_row(curr_state, gridmap)\n",
    "        action_col = np.argmax(Q_table[state_row,:])\n",
    "        action = action_str[action_col]\n",
    "        \n",
    "    return action"
   ]
  },
  {
   "cell_type": "code",
   "execution_count": 4,
   "metadata": {},
   "outputs": [],
   "source": [
    "def SARSA(params):\n",
    "\n",
    "    n_eps, episode_length = params['n_eps'], params['episode_length']\n",
    "    epsilon = params['epsilon']\n",
    "    epsilon_decay = params['epsilon_decay']\n",
    "    lr = params['lr']\n",
    "    gamma = params['gamma']\n",
    "\n",
    "    n_action = len(env.action_str)\n",
    "    n_states = len(env.GRIDMAP[0]) * len(env.GRIDMAP)\n",
    "    Q_ = np.random.rand(n_states,n_action)\n",
    "    \n",
    "    reward_array = np.zeros([n_eps,])\n",
    "\n",
    "    for i_eps in range(0, n_eps):\n",
    "\n",
    "        eps_reward = 0\n",
    "        epsilon = epsilon*epsilon_decay\n",
    "        s = env.reset(set_level)\n",
    "        a = get_action_Q(Q_, s, epsilon, env.action_str, env.GRIDMAP)\n",
    "\n",
    "        for i_step in range(0, episode_length):\n",
    "\n",
    "            srow = get_state_row(s, env.GRIDMAP)\n",
    "            acol = env.action_str.find(a)\n",
    "\n",
    "            s_, reward, done, info = env.step(a)\n",
    "            a_ = get_action_Q(Q_, s_, epsilon, env.action_str, env.GRIDMAP)\n",
    "            s_row = get_state_row(s_, env.GRIDMAP)\n",
    "            a_col = env.action_str.find(a_)\n",
    "            Q_[srow,acol] = Q_[srow,acol] + lr*( reward + gamma*Q_[s_row,a_col] - Q_[srow,acol] )\n",
    "\n",
    "            eps_reward += reward\n",
    "            s, a = s_, a_\n",
    "\n",
    "        reward_array[i_eps] = eps_reward\n",
    "\n",
    "    return np.arange(n_eps), reward_array, Q_"
   ]
  },
  {
   "cell_type": "code",
   "execution_count": 5,
   "metadata": {},
   "outputs": [],
   "source": [
    "def QLearning(params):\n",
    "\n",
    "    n_eps, episode_length = params['n_eps'], params['episode_length']\n",
    "    epsilon = params['epsilon']\n",
    "    epsilon_decay = params['epsilon_decay']\n",
    "    lr = params['lr']\n",
    "    gamma = params['gamma']\n",
    "    \n",
    "    n_action = len(env.action_str)\n",
    "    n_states = len(env.GRIDMAP[0]) * len(env.GRIDMAP)\n",
    "    Q_ = np.random.rand(n_states,n_action)\n",
    "\n",
    "    reward_array = np.zeros([n_eps,])\n",
    "\n",
    "    for i_eps in range(0, n_eps):\n",
    "\n",
    "        eps_reward = 0\n",
    "        epsilon = epsilon*epsilon_decay\n",
    "        s = env.reset(set_level)\n",
    "\n",
    "        for i_step in range(0, episode_length):\n",
    "\n",
    "            srow = get_state_row(s, env.GRIDMAP)\n",
    "\n",
    "            a = get_action_Q(Q_, s, epsilon, env.action_str, env.GRIDMAP)\n",
    "            acol = env.action_str.find(a)\n",
    "            s_, reward, done, info = env.step(a)\n",
    "            s_row = get_state_row(s_, env.GRIDMAP)\n",
    "\n",
    "            Q_[srow,acol] = Q_[srow,acol] + lr*( reward + gamma*max(Q_[s_row,:]) - Q_[srow,acol] )\n",
    "\n",
    "            eps_reward += reward\n",
    "            s = s_\n",
    "\n",
    "        reward_array[i_eps] = eps_reward\n",
    "\n",
    "    return np.arange(n_eps), reward_array, Q_"
   ]
  },
  {
   "cell_type": "markdown",
   "metadata": {},
   "source": [
    "## REINFORCE functions:"
   ]
  },
  {
   "cell_type": "code",
   "execution_count": 6,
   "metadata": {},
   "outputs": [],
   "source": [
    "def REINFORCE_get_action(s, policy):\n",
    "    \n",
    "    policy_a = np.exp(policy[s,:]) / np.sum(np.exp(policy[s,:]), axis=0)\n",
    "    #print(policy_a)\n",
    "    a = np.random.choice(np.arange(policy.shape[1]), 1, replace=False, p=policy_a)\n",
    "    \n",
    "    return int(a)"
   ]
  },
  {
   "cell_type": "code",
   "execution_count": 7,
   "metadata": {},
   "outputs": [],
   "source": [
    "def REINFORCE_get_trajectory(T, policy):\n",
    "    \n",
    "    states, actions, rewards = np.zeros([T], dtype=int), np.zeros([T], dtype=int), np.zeros([T], dtype=int)\n",
    "    \n",
    "    s = env.reset(set_level)\n",
    "    states[0] = get_state_row(s, env.GRIDMAP)\n",
    "    \n",
    "    for t in range(T):\n",
    "        #print(states[t])\n",
    "        \n",
    "        actions[t] = REINFORCE_get_action(states[t], policy)\n",
    "        s, rewards[t], _, _ = env.step(env.action_str[actions[t]])\n",
    "        \n",
    "        if t!=T-1:\n",
    "            states[t+1] = get_state_row(s, env.GRIDMAP)\n",
    "    \n",
    "    return states, actions, rewards"
   ]
  },
  {
   "cell_type": "markdown",
   "metadata": {},
   "source": [
    "### Equations to calculate gradient of tabular policy (From lecture notes L4):\n",
    "<img src=\"tabular_policy_gradient.jpg\">"
   ]
  },
  {
   "cell_type": "code",
   "execution_count": 8,
   "metadata": {},
   "outputs": [],
   "source": [
    "def REINFORCE_get_gradient(s, a, policy):\n",
    "    \n",
    "    dJ = np.zeros(policy.shape)\n",
    "    policy_a = np.exp(policy[s,:]) / np.sum(np.exp(policy[s,:]), axis=0)\n",
    "    \n",
    "    dJ[s,:] = -policy_a[a]\n",
    "    dJ[s,a] = 1 - policy_a[a]\n",
    "    \n",
    "    return dJ"
   ]
  },
  {
   "cell_type": "markdown",
   "metadata": {},
   "source": [
    "## Train REINFORCE (S&B 13.3):"
   ]
  },
  {
   "cell_type": "code",
   "execution_count": 9,
   "metadata": {},
   "outputs": [],
   "source": [
    "def policy_gradient(params):\n",
    "\n",
    "    n_action = len(env.action_str)\n",
    "    n_states = len(env.GRIDMAP[0]) * len(env.GRIDMAP)\n",
    "\n",
    "    n_eps, episode_length = params['n_eps'], params['episode_length']\n",
    "    batch_size = params['batch_size']\n",
    "    lr = params['lr']\n",
    "\n",
    "    n_batches = int( n_eps / batch_size)\n",
    "    policy_ = np.ones((n_states,n_action))\n",
    "    reward_array = []\n",
    "\n",
    "    for batch in range(n_batches):\n",
    "\n",
    "        J_grad = np.zeros(policy_.shape)\n",
    "        reward_avg = 0\n",
    "        for n in range(batch_size):\n",
    "\n",
    "            s, a, r =  REINFORCE_get_trajectory(episode_length, policy_)\n",
    "\n",
    "            J_curr_traj = np.zeros(policy_.shape)\n",
    "            reward_curr_traj = 0\n",
    "            for t in range(episode_length):\n",
    "                #update the gradient\n",
    "                J_curr_traj += REINFORCE_get_gradient(s[t], a[t], policy_)\n",
    "                reward_curr_traj += r[t]\n",
    "\n",
    "            J_grad += (J_curr_traj * reward_curr_traj) / batch_size\n",
    "\n",
    "            reward_avg += reward_curr_traj / batch_size\n",
    "\n",
    "        #update policy\n",
    "        reward_array.append(reward_avg)\n",
    "        policy_ = policy_ + lr * J_grad\n",
    "\n",
    "    return np.arange(n_batches)*batch_size, reward_array, policy_"
   ]
  },
  {
   "cell_type": "markdown",
   "metadata": {},
   "source": [
    "### Compare policy gradient using different hyperparameters"
   ]
  },
  {
   "cell_type": "code",
   "execution_count": 20,
   "metadata": {},
   "outputs": [
    {
     "data": {
      "image/png": "[encoded data removed]",
      "text/plain": [
       "<Figure size 432x288 with 1 Axes>"
      ]
     },
     "metadata": {},
     "output_type": "display_data"
    }
   ],
   "source": [
    "params_.update({'n_eps': 5000, 'episode_length': 100, 'batch_size': 100, 'lr': 0.05})\n",
    "pg1_x, pg1_y, policy1 = policy_gradient(params_)\n",
    "params_.update({'n_eps': 5000, 'episode_length': 100, 'batch_size': 10, 'lr': 0.05})\n",
    "pg2_x, pg2_y, policy2 = policy_gradient(params_)\n",
    "params_.update({'n_eps': 5000, 'episode_length': 100, 'batch_size': 100, 'lr': 0.01})\n",
    "pg3_x, pg3_y, policy3 = policy_gradient(params_)\n",
    "params_.update({'n_eps': 5000, 'episode_length': 100, 'batch_size': 100, 'lr': 0.006})\n",
    "pg4_x, pg4_y, policy4 = policy_gradient(params_)\n",
    "params_.update({'n_eps': 5000, 'episode_length': 100, 'batch_size': 10, 'lr': 0.01})\n",
    "pg5_x, pg5_y, policy5 = policy_gradient(params_)\n",
    "plt.plot(pg1_x, pg1_y, label='PG1')\n",
    "plt.plot(pg2_x, pg2_y, label='PG2')\n",
    "plt.plot(pg3_x, pg3_y, label='PG3')\n",
    "plt.plot(pg4_x, pg4_y, label='PG4')\n",
    "plt.plot(pg5_x, pg5_y, label='PG5')\n",
    "plt.xlabel('Episode number')\n",
    "plt.ylabel('Average batch reward')\n",
    "plt.legend()\n",
    "plt.show()"
   ]
  },
  {
   "cell_type": "markdown",
   "metadata": {},
   "source": [
    "### Assign best policy for later comparisons"
   ]
  },
  {
   "cell_type": "code",
   "execution_count": 21,
   "metadata": {},
   "outputs": [],
   "source": [
    "pgb_x, pgb_y, best_policy = pg2_x, pg2_y, policy2"
   ]
  },
  {
   "cell_type": "markdown",
   "metadata": {},
   "source": [
    "## Train SARSA and Q-Learning (S&B 6.4 and S&B 6.5)"
   ]
  },
  {
   "cell_type": "code",
   "execution_count": 22,
   "metadata": {},
   "outputs": [
    {
     "data": {
      "image/png": "[encoded data removed]",
      "text/plain": [
       "<Figure size 432x288 with 1 Axes>"
      ]
     },
     "metadata": {},
     "output_type": "display_data"
    }
   ],
   "source": [
    "params_.update({'n_eps': 5000, 'episode_length': 100, 'epsilon': 0.4, 'epsilon_decay': 0.999, 'lr': 0.5, 'gamma': 0.99})\n",
    "sarsa_x, sarsa_y, Q_sarsa = SARSA(params_)\n",
    "params_.update({'n_eps': 5000, 'episode_length': 100, 'epsilon': 0.4, 'epsilon_decay': 0.999, 'lr': 1.0, 'gamma': 0.99})\n",
    "ql_x, ql_y, Q_ql = QLearning(params_)\n",
    "plt.plot(pgb_x, pgb_y, label='PG_best')\n",
    "plt.plot(sarsa_x, sarsa_y, label='SARSA')\n",
    "plt.plot(ql_x, ql_y, label='Q-L')\n",
    "plt.xlabel('Episode number')\n",
    "plt.ylabel('Average batch reward')\n",
    "plt.legend()\n",
    "plt.show()"
   ]
  },
  {
   "cell_type": "markdown",
   "metadata": {},
   "source": [
    "## Visualize trajectory"
   ]
  },
  {
   "cell_type": "code",
   "execution_count": 23,
   "metadata": {},
   "outputs": [
    {
     "name": "stdout",
     "output_type": "stream",
     "text": [
      "-X-B-\n",
      "-----\n",
      "---b-\n",
      "-----\n",
      "-a---\n",
      "\n",
      "Step: 19 Reward: 40\n"
     ]
    }
   ],
   "source": [
    "#visualize trajectory:\n",
    "mode = 'policy_gradient'\n",
    "# mode = 'SARSA'\n",
    "# mode = 'Q_learning'\n",
    "\n",
    "episode_length = 20\n",
    "reward_total = 0\n",
    "sleep_time = 0.5\n",
    "s = env.reset(set_level)\n",
    "clear_output(wait=True)\n",
    "env.render()\n",
    "time.sleep(sleep_time)\n",
    "\n",
    "for i_step in range(0, episode_length):\n",
    "\n",
    "    if mode is 'policy_gradient':\n",
    "        a = env.action_str[REINFORCE_get_action(get_state_row(s, env.GRIDMAP), best_policy)]\n",
    "    elif mode is 'SARSA':\n",
    "        a = get_action(Q_sarsa, s, 0.0, env.action_str, env.GRIDMAP)\n",
    "    elif mode is 'Q_learning':\n",
    "        a = get_action(Q_ql, s, 0.0, env.action_str, env.GRIDMAP)\n",
    "\n",
    "    s, reward, done, info = env.step(a)\n",
    "    reward_total += reward\n",
    "    clear_output(wait=True)\n",
    "    env.render()\n",
    "    print('\\nStep:',i_step, 'Reward:', reward_total)\n",
    "    time.sleep(sleep_time)"
   ]
  }
 ],
 "metadata": {
  "kernelspec": {
   "display_name": "Python 3",
   "language": "python",
   "name": "python3"
  },
  "language_info": {
   "codemirror_mode": {
    "name": "ipython",
    "version": 3
   },
   "file_extension": ".py",
   "mimetype": "text/x-python",
   "name": "python",
   "nbconvert_exporter": "python",
   "pygments_lexer": "ipython3",
   "version": "3.6.5"
  }
 },
 "nbformat": 4,
 "nbformat_minor": 2
}
