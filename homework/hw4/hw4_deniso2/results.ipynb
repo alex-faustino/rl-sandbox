{
 "cells": [
  {
   "cell_type": "markdown",
   "metadata": {},
   "source": [
    "## HW4 by Denis Osipychev\n",
    "# Tabular Policy Gradient\n",
    "### Policy Gradient - REINFORCE"
   ]
  },
  {
   "cell_type": "code",
   "execution_count": 1,
   "metadata": {},
   "outputs": [],
   "source": [
    "# import env and modules\n",
    "import gym\n",
    "import numpy as np\n",
    "import myenv"
   ]
  },
  {
   "cell_type": "code",
   "execution_count": 2,
   "metadata": {},
   "outputs": [],
   "source": [
    "# create an instance of env\n",
    "env = myenv.GridWorldEnv()"
   ]
  },
  {
   "cell_type": "code",
   "execution_count": 3,
   "metadata": {},
   "outputs": [],
   "source": [
    "# initialize hyperparams for PG\n",
    "n_episodes = 10000\n",
    "episode_lenght = 20\n",
    "gamma = 0.9\n",
    "alpha = 0.001\n",
    "update_freq = 100"
   ]
  },
  {
   "cell_type": "code",
   "execution_count": 4,
   "metadata": {},
   "outputs": [],
   "source": [
    "# initialize random policy weights\n",
    "def policy_init():\n",
    "    #policy = np.zeros([env.observation_space.n, env.action_space.n])\n",
    "    policy = np.random.rand(env.observation_space.n, env.action_space.n)-0.5\n",
    "    #print('Policy:\\n',policy)\n",
    "    return policy"
   ]
  },
  {
   "cell_type": "code",
   "execution_count": 5,
   "metadata": {},
   "outputs": [],
   "source": [
    "# function to discount reward in trajectory\n",
    "def discount_rewards(r):\n",
    "    discounted_reward = np.zeros_like(r)\n",
    "    running_reward = 0\n",
    "    for t in reversed(range(0,len(r))):\n",
    "        running_reward = running_reward*gamma + r[t]\n",
    "        discounted_reward[t] = running_reward\n",
    "    return discounted_reward"
   ]
  },
  {
   "cell_type": "code",
   "execution_count": 6,
   "metadata": {},
   "outputs": [],
   "source": [
    "# stable softmax (taken from https://deepnotes.io/softmax-crossentropy)\n",
    "def softmax(x):\n",
    "    exps = np.exp(x - np.max(x))\n",
    "    return exps / np.sum(exps)"
   ]
  },
  {
   "cell_type": "code",
   "execution_count": 7,
   "metadata": {},
   "outputs": [],
   "source": [
    "# gradient function for softmax given single trajectory (based on lecture notes)\n",
    "def gradient(policy, s_arr, a_arr, r_arr):\n",
    "    n = len(r_arr)\n",
    "    g = np.zeros_like(policy)\n",
    "    for t in range(n):\n",
    "        dp = np.eye(4)[a_arr[t]] - softmax(policy[s_arr[t]]) #one hot vector -minus policy for one state\n",
    "        g[s_arr[t]] = g[s_arr[t]] + dp * r_arr[t] #accumulate gradients through trajectory\n",
    "    return g"
   ]
  },
  {
   "cell_type": "code",
   "execution_count": 8,
   "metadata": {},
   "outputs": [],
   "source": [
    "# PG REINFORCE algorithm\n",
    "def PolicyGrad(policy):\n",
    "    stats = []\n",
    "    grad_buffer = np.zeros_like(policy)\n",
    "            \n",
    "    for i_episode in range(n_episodes):\n",
    "        r_total = 0\n",
    "        s = env.reset()[:]\n",
    "        trajectory = []\n",
    "            \n",
    "        for t in range(episode_lenght):\n",
    "        \n",
    "            s_flat = s[0] * 5 + s[1] #flatter state from 2D to 1D to simplify policy matrix\n",
    "            a_distr = softmax(policy[s_flat]) #get prob distr over actions\n",
    "            a = np.random.choice(np.arange(4), p=a_distr) #draw an action w.r. to prob distr\n",
    "            s_prime, r, d, _ = env.step(a)\n",
    "\n",
    "            trajectory.append([s_flat,a,r])\n",
    "                \n",
    "            s = s_prime[:]\n",
    "            r_total += r\n",
    "                \n",
    "            if d:\n",
    "                break\n",
    "                     \n",
    "        # update gradient buffer with new trajectory\n",
    "        s_arr, a_arr, r_arr = zip(*trajectory)\n",
    "        r_arr = discount_rewards(r_arr)\n",
    "        grad = gradient(policy, s_arr, a_arr, r_arr)\n",
    "        grad_buffer = grad_buffer + grad #accumulate gradients b/w updates\n",
    "        \n",
    "        if i_episode % update_freq == 0 and i_episode!=0:\n",
    "            policy = policy + alpha*grad_buffer\n",
    "            grad_buffer = np.zeros_like(policy)\n",
    "            #print('Policy updated')\n",
    "        \n",
    "        # Update statistics\n",
    "        stats.append([i_episode,r_total])\n",
    "        \n",
    "        if i_episode % 100 == 0:\n",
    "            print(' Epoch:',i_episode,',Average R:',np.mean(np.asarray(stats)[-100:,1]))\n",
    "    \n",
    "    return policy,stats"
   ]
  },
  {
   "cell_type": "code",
   "execution_count": 9,
   "metadata": {},
   "outputs": [],
   "source": [
    "# print a policy (taken from Dr. West solution and adapted)\n",
    "def print_policy(policy_matrix):\n",
    "    output = ''\n",
    "    k = 0\n",
    "    for i in range(5):\n",
    "        for j in range(5):\n",
    "            if len(policy_matrix.shape) == 2:\n",
    "                s = i*5 + j\n",
    "                a = policy_matrix[s,:].argmax()\n",
    "            else:\n",
    "                a = policy_matrix[i,j,:].argmax()\n",
    "            c = [u\"⇧\",u\"⇩\",u\"⇦\",u\"⇨\"][a]\n",
    "            output += c\n",
    "            k += 1\n",
    "        output += '\\n'\n",
    "    return output"
   ]
  },
  {
   "cell_type": "code",
   "execution_count": 10,
   "metadata": {
    "scrolled": true
   },
   "outputs": [
    {
     "name": "stdout",
     "output_type": "stream",
     "text": [
      " Epoch: 0 ,Average R: 6.0\n",
      " Epoch: 100 ,Average R: 1.77\n",
      " Epoch: 200 ,Average R: 1.23\n",
      " Epoch: 300 ,Average R: 2.58\n",
      " Epoch: 400 ,Average R: 3.45\n",
      " Epoch: 500 ,Average R: 4.17\n",
      " Epoch: 600 ,Average R: 3.26\n",
      " Epoch: 700 ,Average R: 4.74\n",
      " Epoch: 800 ,Average R: 4.03\n",
      " Epoch: 900 ,Average R: 4.59\n",
      " Epoch: 1000 ,Average R: 5.88\n",
      " Epoch: 1100 ,Average R: 6.37\n",
      " Epoch: 1200 ,Average R: 7.78\n",
      " Epoch: 1300 ,Average R: 7.87\n",
      " Epoch: 1400 ,Average R: 7.64\n",
      " Epoch: 1500 ,Average R: 9.37\n",
      " Epoch: 1600 ,Average R: 12.02\n",
      " Epoch: 1700 ,Average R: 11.87\n",
      " Epoch: 1800 ,Average R: 12.2\n",
      " Epoch: 1900 ,Average R: 14.68\n",
      " Epoch: 2000 ,Average R: 16.31\n",
      " Epoch: 2100 ,Average R: 17.83\n",
      " Epoch: 2200 ,Average R: 19.66\n",
      " Epoch: 2300 ,Average R: 19.24\n",
      " Epoch: 2400 ,Average R: 23.18\n",
      " Epoch: 2500 ,Average R: 22.26\n",
      " Epoch: 2600 ,Average R: 23.44\n",
      " Epoch: 2700 ,Average R: 24.9\n",
      " Epoch: 2800 ,Average R: 24.69\n",
      " Epoch: 2900 ,Average R: 25.69\n",
      " Epoch: 3000 ,Average R: 27.03\n",
      " Epoch: 3100 ,Average R: 26.11\n",
      " Epoch: 3200 ,Average R: 26.96\n",
      " Epoch: 3300 ,Average R: 28.31\n",
      " Epoch: 3400 ,Average R: 29.5\n",
      " Epoch: 3500 ,Average R: 30.69\n",
      " Epoch: 3600 ,Average R: 29.59\n",
      " Epoch: 3700 ,Average R: 29.5\n",
      " Epoch: 3800 ,Average R: 29.83\n",
      " Epoch: 3900 ,Average R: 32.14\n",
      " Epoch: 4000 ,Average R: 31.61\n",
      " Epoch: 4100 ,Average R: 30.81\n",
      " Epoch: 4200 ,Average R: 32.18\n",
      " Epoch: 4300 ,Average R: 33.3\n",
      " Epoch: 4400 ,Average R: 31.92\n",
      " Epoch: 4500 ,Average R: 32.25\n",
      " Epoch: 4600 ,Average R: 33.28\n",
      " Epoch: 4700 ,Average R: 33.55\n",
      " Epoch: 4800 ,Average R: 32.38\n",
      " Epoch: 4900 ,Average R: 33.71\n",
      " Epoch: 5000 ,Average R: 31.93\n",
      " Epoch: 5100 ,Average R: 32.11\n",
      " Epoch: 5200 ,Average R: 33.57\n",
      " Epoch: 5300 ,Average R: 32.7\n",
      " Epoch: 5400 ,Average R: 33.05\n",
      " Epoch: 5500 ,Average R: 34.11\n",
      " Epoch: 5600 ,Average R: 32.39\n",
      " Epoch: 5700 ,Average R: 33.98\n",
      " Epoch: 5800 ,Average R: 33.65\n",
      " Epoch: 5900 ,Average R: 34.3\n",
      " Epoch: 6000 ,Average R: 33.32\n",
      " Epoch: 6100 ,Average R: 34.59\n",
      " Epoch: 6200 ,Average R: 34.88\n",
      " Epoch: 6300 ,Average R: 34.4\n",
      " Epoch: 6400 ,Average R: 33.63\n",
      " Epoch: 6500 ,Average R: 33.9\n",
      " Epoch: 6600 ,Average R: 33.21\n",
      " Epoch: 6700 ,Average R: 33.31\n",
      " Epoch: 6800 ,Average R: 33.21\n",
      " Epoch: 6900 ,Average R: 35.28\n",
      " Epoch: 7000 ,Average R: 34.64\n",
      " Epoch: 7100 ,Average R: 34.13\n",
      " Epoch: 7200 ,Average R: 33.84\n",
      " Epoch: 7300 ,Average R: 34.43\n",
      " Epoch: 7400 ,Average R: 34.63\n",
      " Epoch: 7500 ,Average R: 35.36\n",
      " Epoch: 7600 ,Average R: 33.75\n",
      " Epoch: 7700 ,Average R: 34.07\n",
      " Epoch: 7800 ,Average R: 35.07\n",
      " Epoch: 7900 ,Average R: 34.91\n",
      " Epoch: 8000 ,Average R: 33.58\n",
      " Epoch: 8100 ,Average R: 35.46\n",
      " Epoch: 8200 ,Average R: 35.06\n",
      " Epoch: 8300 ,Average R: 34.33\n",
      " Epoch: 8400 ,Average R: 34.47\n",
      " Epoch: 8500 ,Average R: 34.27\n",
      " Epoch: 8600 ,Average R: 33.79\n",
      " Epoch: 8700 ,Average R: 34.85\n",
      " Epoch: 8800 ,Average R: 35.52\n",
      " Epoch: 8900 ,Average R: 34.72\n",
      " Epoch: 9000 ,Average R: 35.8\n",
      " Epoch: 9100 ,Average R: 35.17\n",
      " Epoch: 9200 ,Average R: 34.51\n",
      " Epoch: 9300 ,Average R: 34.98\n",
      " Epoch: 9400 ,Average R: 35.37\n",
      " Epoch: 9500 ,Average R: 34.73\n",
      " Epoch: 9600 ,Average R: 34.6\n",
      " Epoch: 9700 ,Average R: 34.4\n",
      " Epoch: 9800 ,Average R: 34.84\n",
      " Epoch: 9900 ,Average R: 34.62\n"
     ]
    }
   ],
   "source": [
    "# run the algorithm to get statistics (simple env)\n",
    "env.stochastic_transitions = False\n",
    "policy = policy_init()\n",
    "policy, statsPGa = PolicyGrad(policy)"
   ]
  },
  {
   "cell_type": "code",
   "execution_count": 11,
   "metadata": {},
   "outputs": [
    {
     "name": "stdout",
     "output_type": "stream",
     "text": [
      "Policy (simple case):\n",
      "⇦⇧⇦⇦⇦\n",
      "⇩⇧⇧⇧⇧\n",
      "⇨⇨⇨⇨⇧\n",
      "⇨⇧⇨⇨⇨\n",
      "⇨⇨⇨⇨⇨\n",
      "\n"
     ]
    }
   ],
   "source": [
    "print(\"Policy (simple case):\")\n",
    "print(print_policy(policy))"
   ]
  },
  {
   "cell_type": "code",
   "execution_count": 12,
   "metadata": {
    "scrolled": true
   },
   "outputs": [
    {
     "name": "stdout",
     "output_type": "stream",
     "text": [
      " Epoch: 0 ,Average R: -5.0\n",
      " Epoch: 100 ,Average R: 0.73\n",
      " Epoch: 200 ,Average R: 0.1\n",
      " Epoch: 300 ,Average R: 0.27\n",
      " Epoch: 400 ,Average R: 1.11\n",
      " Epoch: 500 ,Average R: 2.52\n",
      " Epoch: 600 ,Average R: 1.83\n",
      " Epoch: 700 ,Average R: 1.33\n",
      " Epoch: 800 ,Average R: 2.29\n",
      " Epoch: 900 ,Average R: 2.04\n",
      " Epoch: 1000 ,Average R: 3.83\n",
      " Epoch: 1100 ,Average R: 3.69\n",
      " Epoch: 1200 ,Average R: 4.66\n",
      " Epoch: 1300 ,Average R: 6.11\n",
      " Epoch: 1400 ,Average R: 6.0\n",
      " Epoch: 1500 ,Average R: 7.19\n",
      " Epoch: 1600 ,Average R: 7.73\n",
      " Epoch: 1700 ,Average R: 8.34\n",
      " Epoch: 1800 ,Average R: 9.04\n",
      " Epoch: 1900 ,Average R: 10.46\n",
      " Epoch: 2000 ,Average R: 10.24\n",
      " Epoch: 2100 ,Average R: 11.1\n",
      " Epoch: 2200 ,Average R: 12.21\n",
      " Epoch: 2300 ,Average R: 12.41\n",
      " Epoch: 2400 ,Average R: 13.6\n",
      " Epoch: 2500 ,Average R: 13.96\n",
      " Epoch: 2600 ,Average R: 14.67\n",
      " Epoch: 2700 ,Average R: 15.99\n",
      " Epoch: 2800 ,Average R: 16.11\n",
      " Epoch: 2900 ,Average R: 17.52\n",
      " Epoch: 3000 ,Average R: 16.77\n",
      " Epoch: 3100 ,Average R: 18.88\n",
      " Epoch: 3200 ,Average R: 19.21\n",
      " Epoch: 3300 ,Average R: 18.07\n",
      " Epoch: 3400 ,Average R: 18.37\n",
      " Epoch: 3500 ,Average R: 19.6\n",
      " Epoch: 3600 ,Average R: 17.2\n",
      " Epoch: 3700 ,Average R: 20.12\n",
      " Epoch: 3800 ,Average R: 21.94\n",
      " Epoch: 3900 ,Average R: 21.95\n",
      " Epoch: 4000 ,Average R: 21.74\n",
      " Epoch: 4100 ,Average R: 22.17\n",
      " Epoch: 4200 ,Average R: 22.98\n",
      " Epoch: 4300 ,Average R: 22.41\n",
      " Epoch: 4400 ,Average R: 22.12\n",
      " Epoch: 4500 ,Average R: 23.83\n",
      " Epoch: 4600 ,Average R: 25.52\n",
      " Epoch: 4700 ,Average R: 23.69\n",
      " Epoch: 4800 ,Average R: 24.17\n",
      " Epoch: 4900 ,Average R: 23.12\n",
      " Epoch: 5000 ,Average R: 23.92\n",
      " Epoch: 5100 ,Average R: 25.46\n",
      " Epoch: 5200 ,Average R: 26.01\n",
      " Epoch: 5300 ,Average R: 26.19\n",
      " Epoch: 5400 ,Average R: 26.31\n",
      " Epoch: 5500 ,Average R: 25.74\n",
      " Epoch: 5600 ,Average R: 25.12\n",
      " Epoch: 5700 ,Average R: 26.36\n",
      " Epoch: 5800 ,Average R: 27.65\n",
      " Epoch: 5900 ,Average R: 26.59\n",
      " Epoch: 6000 ,Average R: 26.85\n",
      " Epoch: 6100 ,Average R: 27.22\n",
      " Epoch: 6200 ,Average R: 27.34\n",
      " Epoch: 6300 ,Average R: 27.57\n",
      " Epoch: 6400 ,Average R: 28.11\n",
      " Epoch: 6500 ,Average R: 25.76\n",
      " Epoch: 6600 ,Average R: 26.62\n",
      " Epoch: 6700 ,Average R: 27.54\n",
      " Epoch: 6800 ,Average R: 27.78\n",
      " Epoch: 6900 ,Average R: 28.34\n",
      " Epoch: 7000 ,Average R: 28.56\n",
      " Epoch: 7100 ,Average R: 27.37\n",
      " Epoch: 7200 ,Average R: 29.11\n",
      " Epoch: 7300 ,Average R: 29.02\n",
      " Epoch: 7400 ,Average R: 28.01\n",
      " Epoch: 7500 ,Average R: 28.62\n",
      " Epoch: 7600 ,Average R: 27.96\n",
      " Epoch: 7700 ,Average R: 28.71\n",
      " Epoch: 7800 ,Average R: 29.29\n",
      " Epoch: 7900 ,Average R: 29.63\n",
      " Epoch: 8000 ,Average R: 27.6\n",
      " Epoch: 8100 ,Average R: 28.43\n",
      " Epoch: 8200 ,Average R: 28.87\n",
      " Epoch: 8300 ,Average R: 29.31\n",
      " Epoch: 8400 ,Average R: 28.19\n",
      " Epoch: 8500 ,Average R: 28.71\n",
      " Epoch: 8600 ,Average R: 29.13\n",
      " Epoch: 8700 ,Average R: 29.22\n",
      " Epoch: 8800 ,Average R: 28.27\n",
      " Epoch: 8900 ,Average R: 28.59\n",
      " Epoch: 9000 ,Average R: 29.31\n",
      " Epoch: 9100 ,Average R: 27.45\n",
      " Epoch: 9200 ,Average R: 28.77\n",
      " Epoch: 9300 ,Average R: 28.22\n",
      " Epoch: 9400 ,Average R: 29.04\n",
      " Epoch: 9500 ,Average R: 28.43\n",
      " Epoch: 9600 ,Average R: 27.9\n",
      " Epoch: 9700 ,Average R: 29.21\n",
      " Epoch: 9800 ,Average R: 29.19\n",
      " Epoch: 9900 ,Average R: 29.78\n"
     ]
    }
   ],
   "source": [
    "# run the algorithm to get statistics (complex env)\n",
    "env.stochastic_transitions = True\n",
    "policy = policy_init()\n",
    "policy, statsPGb = PolicyGrad(policy)"
   ]
  },
  {
   "cell_type": "code",
   "execution_count": 13,
   "metadata": {},
   "outputs": [
    {
     "name": "stdout",
     "output_type": "stream",
     "text": [
      "Policy (simple case):\n",
      "⇦⇦⇧⇦⇧\n",
      "⇩⇧⇧⇧⇧\n",
      "⇨⇨⇧⇧⇧\n",
      "⇨⇧⇧⇧⇧\n",
      "⇨⇨⇨⇧⇧\n",
      "\n"
     ]
    }
   ],
   "source": [
    "print(\"Policy (simple case):\")\n",
    "print(print_policy(policy))"
   ]
  },
  {
   "cell_type": "code",
   "execution_count": 25,
   "metadata": {},
   "outputs": [
    {
     "data": {
      "image/png": "[encoded data removed]",
      "text/plain": [
       "<Figure size 432x288 with 1 Axes>"
      ]
     },
     "metadata": {},
     "output_type": "display_data"
    }
   ],
   "source": [
    "#plot the results (taken from https://gist.github.com/vksah32/8ba7ee7489bd8ec50c995f6216adcb7d)\n",
    "import pandas as pd\n",
    "import matplotlib.pyplot as plt \n",
    "\n",
    "mean_x1 = pd.Series(np.asarray(statsPGa)[:,1]).rolling(window=100).mean()/episode_lenght\n",
    "mean_x2 = pd.Series(np.asarray(statsPGb)[:,1]).rolling(window=100).mean()/episode_lenght\n",
    "itr = range(n_episodes)\n",
    "\n",
    "plt.xlabel(\"epochs\")\n",
    "plt.ylabel(\"score\")\n",
    "plt.plot(itr, mean_x1, 'r-')\n",
    "plt.plot(itr, mean_x2, 'b-')\n",
    "plt.legend(['Simple','Complex'])\n",
    "plt.show()"
   ]
  },
  {
   "cell_type": "markdown",
   "metadata": {},
   "source": [
    "# Tabular Q-learning and SARSA"
   ]
  },
  {
   "cell_type": "code",
   "execution_count": 15,
   "metadata": {},
   "outputs": [],
   "source": [
    "# initialize hyper parameters\n",
    "epsilon = 0.1"
   ]
  },
  {
   "cell_type": "code",
   "execution_count": 16,
   "metadata": {},
   "outputs": [],
   "source": [
    "# epsilon greedy policy\n",
    "def greedy_policy(Q, state):\n",
    "    if np.random.uniform() < epsilon:\n",
    "#         best_action = int(np.random.uniform() * 4 // 1)\n",
    "        best_action = np.random.randint(4)\n",
    "    else:\n",
    "        best_action = np.argmax(Q[state[0]][state[1]])\n",
    "    return best_action"
   ]
  },
  {
   "cell_type": "code",
   "execution_count": 17,
   "metadata": {},
   "outputs": [],
   "source": [
    "#SARSA algorithm\n",
    "def SARSA(Q):\n",
    "    stats = []\n",
    "    \n",
    "    for i_episode in range(n_episodes):\n",
    "        r_total = 0\n",
    "        s = env.reset()[:]\n",
    "        a = greedy_policy(Q, s)\n",
    "    \n",
    "        for t in range(episode_lenght):\n",
    "        \n",
    "            s_prime, r, d, _ = env.step(a)\n",
    "            a_prime = greedy_policy(Q, s_prime)\n",
    "        \n",
    "            # Q Update\n",
    "            q_target = r + gamma * Q[s_prime[0]][s_prime[1]][a_prime]\n",
    "            q_delta = q_target - Q[s[0]][s[1]][a]\n",
    "            Q[s[0]][s[1]][a] = Q[s[0]][s[1]][a] + alpha * q_delta\n",
    "    \n",
    "            if d:\n",
    "                break\n",
    "                \n",
    "            a = a_prime\n",
    "            s = s_prime[:]\n",
    "            r_total += r\n",
    "        \n",
    "        # Update statistics\n",
    "        stats.append([i_episode,r_total])\n",
    "    return Q, stats"
   ]
  },
  {
   "cell_type": "code",
   "execution_count": 18,
   "metadata": {},
   "outputs": [],
   "source": [
    "def Q_Learn(Q):\n",
    "    stats = []\n",
    "\n",
    "    for i_episode in range(n_episodes):\n",
    "\n",
    "        r_total = 0\n",
    "        s = env.reset()[:]\n",
    "        a = greedy_policy(Q, s)\n",
    "    \n",
    "        for t in range(episode_lenght):\n",
    "        \n",
    "            a = greedy_policy(Q, s)\n",
    "            s_prime, r, d, _ = env.step(a)\n",
    "            \n",
    "            # Q Update\n",
    "            q_target = r + gamma * max(Q[s_prime[0]][s_prime[1]][:])\n",
    "            q_delta = q_target - Q[s[0]][s[1]][a]\n",
    "            Q[s[0]][s[1]][a] = Q[s[0]][s[1]][a] + alpha * q_delta\n",
    "    \n",
    "            if d:\n",
    "                break\n",
    "                \n",
    "            s = s_prime[:]\n",
    "            r_total += r\n",
    "        \n",
    "        # Update statistics\n",
    "        stats.append([i_episode,r_total])\n",
    "    \n",
    "    return Q, stats"
   ]
  },
  {
   "cell_type": "code",
   "execution_count": 19,
   "metadata": {},
   "outputs": [],
   "source": [
    "# run the algorithm to get statistics (simple env) \n",
    "env.stochastic_transitions = False\n",
    "Q = np.zeros((5,5,4))\n",
    "Q, statsSARSAa = SARSA(Q)\n",
    "\n",
    "Q = np.zeros((5,5,4))\n",
    "Q, statsQLa = Q_Learn(Q)"
   ]
  },
  {
   "cell_type": "code",
   "execution_count": 20,
   "metadata": {},
   "outputs": [
    {
     "name": "stdout",
     "output_type": "stream",
     "text": [
      "Policy (simple case):\n",
      "⇦⇧⇧⇧⇧\n",
      "⇧⇧⇧⇧⇧\n",
      "⇨⇦⇧⇧⇧\n",
      "⇧⇧⇧⇧⇧\n",
      "⇨⇨⇧⇧⇧\n",
      "\n"
     ]
    }
   ],
   "source": [
    "print(\"Policy (simple case):\")\n",
    "print(print_policy(Q))"
   ]
  },
  {
   "cell_type": "code",
   "execution_count": 21,
   "metadata": {},
   "outputs": [],
   "source": [
    "# run the algorithm to get statistics (complex env)\n",
    "env.stochastic_transitions = True\n",
    "Q = np.zeros((5,5,4))\n",
    "Q, statsSARSAb = SARSA(Q)\n",
    "\n",
    "Q = np.zeros((5,5,4))\n",
    "Q, statsQLb = Q_Learn(Q)"
   ]
  },
  {
   "cell_type": "code",
   "execution_count": 22,
   "metadata": {},
   "outputs": [
    {
     "name": "stdout",
     "output_type": "stream",
     "text": [
      "Policy (complex case):\n",
      "⇦⇦⇦⇧⇧\n",
      "⇧⇧⇧⇧⇧\n",
      "⇦⇧⇧⇧⇦\n",
      "⇧⇧⇧⇧⇧\n",
      "⇨⇨⇨⇨⇧\n",
      "\n"
     ]
    }
   ],
   "source": [
    "print(\"Policy (complex case):\")\n",
    "print(print_policy(Q))"
   ]
  },
  {
   "cell_type": "code",
   "execution_count": 23,
   "metadata": {},
   "outputs": [
    {
     "data": {
      "image/png": "[encoded data removed]",
      "text/plain": [
       "<Figure size 432x288 with 1 Axes>"
      ]
     },
     "metadata": {},
     "output_type": "display_data"
    }
   ],
   "source": [
    "#plot the results (taken from https://gist.github.com/vksah32/8ba7ee7489bd8ec50c995f6216adcb7d)\n",
    "import pandas as pd\n",
    "import matplotlib.pyplot as plt \n",
    "\n",
    "mean_x1 = pd.Series(np.asarray(statsPGa)[:,1]).rolling(window=100).mean()/episode_lenght\n",
    "mean_x2 = pd.Series(np.asarray(statsSARSAa)[:,1]).rolling(window=100).mean()/episode_lenght\n",
    "mean_x3 = pd.Series(np.asarray(statsQLa)[:,1]).rolling(window=100).mean()/episode_lenght\n",
    "\n",
    "itr = range(n_episodes)\n",
    "\n",
    "plt.xlabel(\"epochs\")\n",
    "plt.ylabel(\"score\")\n",
    "plt.plot(itr, mean_x1, 'r-')\n",
    "plt.plot(itr, mean_x2, 'b-')\n",
    "plt.plot(itr, mean_x3, 'g-')\n",
    "plt.legend(['PG','SARSA','QLearn'])\n",
    "plt.title('Simple Env')\n",
    "plt.show()"
   ]
  },
  {
   "cell_type": "code",
   "execution_count": 24,
   "metadata": {},
   "outputs": [
    {
     "data": {
      "image/png": "[encoded data removed]",
      "text/plain": [
       "<Figure size 432x288 with 1 Axes>"
      ]
     },
     "metadata": {},
     "output_type": "display_data"
    }
   ],
   "source": [
    "#plot the results (taken from https://gist.github.com/vksah32/8ba7ee7489bd8ec50c995f6216adcb7d)\n",
    "import pandas as pd\n",
    "import matplotlib.pyplot as plt \n",
    "\n",
    "mean_x1 = pd.Series(np.asarray(statsPGb)[:,1]).rolling(window=100).mean()/episode_lenght\n",
    "mean_x2 = pd.Series(np.asarray(statsSARSAb)[:,1]).rolling(window=100).mean()/episode_lenght\n",
    "mean_x3 = pd.Series(np.asarray(statsQLb)[:,1]).rolling(window=100).mean()/episode_lenght\n",
    "\n",
    "itr = range(n_episodes)\n",
    "\n",
    "plt.xlabel(\"epochs\")\n",
    "plt.ylabel(\"score\")\n",
    "plt.plot(itr, mean_x1, 'r-')\n",
    "plt.plot(itr, mean_x2, 'b-')\n",
    "plt.plot(itr, mean_x3, 'g-')\n",
    "plt.legend(['PG','SARSA','QLearn'])\n",
    "plt.title('Complex Env')\n",
    "plt.show()"
   ]
  }
 ],
 "metadata": {
  "kernelspec": {
   "display_name": "Python 3",
   "language": "python",
   "name": "python3"
  },
  "language_info": {
   "codemirror_mode": {
    "name": "ipython",
    "version": 3
   },
   "file_extension": ".py",
   "mimetype": "text/x-python",
   "name": "python",
   "nbconvert_exporter": "python",
   "pygments_lexer": "ipython3",
   "version": "3.6.5"
  }
 },
 "nbformat": 4,
 "nbformat_minor": 2
}
