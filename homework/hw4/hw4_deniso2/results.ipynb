{
 "cells": [
  {
   "cell_type": "markdown",
   "metadata": {},
   "source": [
    "## HW4 by Denis Osipychev\n",
    "# Tabular Policy Gradient\n",
    "### Policy Gradient - REINFORCE"
   ]
  },
  {
   "cell_type": "code",
   "execution_count": 1,
   "metadata": {},
   "outputs": [],
   "source": [
    "# import env and modules\n",
    "import gym\n",
    "import numpy as np\n",
    "import myenv"
   ]
  },
  {
   "cell_type": "code",
   "execution_count": 2,
   "metadata": {},
   "outputs": [],
   "source": [
    "# create an instance of env\n",
    "env = myenv.GridWorldEnv()"
   ]
  },
  {
   "cell_type": "code",
   "execution_count": 3,
   "metadata": {},
   "outputs": [],
   "source": [
    "# initialize hyperparams for PG\n",
    "n_episodes = 10000\n",
    "episode_lenght = 100\n",
    "gamma = 0.9\n",
    "alpha = 0.001\n",
    "update_freq = 1000"
   ]
  },
  {
   "cell_type": "code",
   "execution_count": 4,
   "metadata": {},
   "outputs": [],
   "source": [
    "# initialize random policy weights\n",
    "def policy_init():\n",
    "    #policy = np.zeros([env.observation_space.n, env.action_space.n])\n",
    "    policy = np.random.rand(env.observation_space.n, env.action_space.n)-0.5\n",
    "    #print('Policy:\\n',policy)\n",
    "    return policy"
   ]
  },
  {
   "cell_type": "code",
   "execution_count": 5,
   "metadata": {},
   "outputs": [],
   "source": [
    "# function to discount reward in trajectory\n",
    "def discount_rewards(r):\n",
    "    discounted_reward = np.zeros_like(r)\n",
    "    running_reward = 0\n",
    "    for t in reversed(range(0,len(r))):\n",
    "        running_reward = running_reward*gamma + r[t]\n",
    "        discounted_reward[t] = running_reward\n",
    "    return discounted_reward"
   ]
  },
  {
   "cell_type": "code",
   "execution_count": 6,
   "metadata": {},
   "outputs": [],
   "source": [
    "# stable softmax (taken from https://deepnotes.io/softmax-crossentropy)\n",
    "def softmax(x):\n",
    "    exps = np.exp(x - np.max(x))\n",
    "    return exps / np.sum(exps)"
   ]
  },
  {
   "cell_type": "code",
   "execution_count": 7,
   "metadata": {},
   "outputs": [],
   "source": [
    "# gradient function for softmax given single trajectory (based on lecture notes)\n",
    "def gradient(policy, s_arr, a_arr, r_arr):\n",
    "    n = len(r_arr)\n",
    "    g = np.zeros_like(policy)\n",
    "    for t in range(n):\n",
    "        dp = np.eye(4)[a_arr[t]] - softmax(policy[s_arr[t]]) #one hot vector -minus policy for one state\n",
    "        g[s_arr[t]] = g[s_arr[t]] + dp * r_arr[t] #accumulate gradients through trajectory\n",
    "    return g"
   ]
  },
  {
   "cell_type": "code",
   "execution_count": 8,
   "metadata": {},
   "outputs": [],
   "source": [
    "# PG REINFORCE algorithm\n",
    "def PolicyGrad(policy):\n",
    "    stats = []\n",
    "    grad_buffer = np.zeros_like(policy)\n",
    "            \n",
    "    for i_episode in range(n_episodes):\n",
    "        r_total = 0\n",
    "        s = env.reset()[:]\n",
    "        trajectory = []\n",
    "            \n",
    "        for t in range(episode_lenght):\n",
    "        \n",
    "            s_flat = s[0] * 5 + s[1] #flatter state from 2D to 1D to simplify policy matrix\n",
    "            a_distr = softmax(policy[s_flat]) #get prob distr over actions\n",
    "            a = np.random.choice(np.arange(4), p=a_distr) #draw an action w.r. to prob distr\n",
    "            s_prime, r, d, _ = env.step(a)\n",
    "\n",
    "            trajectory.append([s_flat,a,r])\n",
    "                \n",
    "            s = s_prime[:]\n",
    "            r_total += r\n",
    "                \n",
    "            if d:\n",
    "                break\n",
    "                     \n",
    "        # update gradient buffer with new trajectory\n",
    "        s_arr, a_arr, r_arr = zip(*trajectory)\n",
    "        r_arr = discount_rewards(r_arr)\n",
    "        grad = gradient(policy, s_arr, a_arr, r_arr)\n",
    "        grad_buffer = grad_buffer + grad #accumulate gradients b/w updates\n",
    "        \n",
    "        if i_episode % update_freq == 0 and i_episode!=0:\n",
    "            policy = policy + alpha*grad_buffer\n",
    "            grad_buffer = np.zeros_like(policy)\n",
    "            #print('Policy updated')\n",
    "        \n",
    "        # Update statistics\n",
    "        stats.append([i_episode,r_total])\n",
    "        \n",
    "        if i_episode % 100 == 0:\n",
    "            print(' Epoch:',i_episode,',Average R:',np.mean(np.asarray(stats)[-100:,1]))\n",
    "    \n",
    "    return policy,stats"
   ]
  },
  {
   "cell_type": "code",
   "execution_count": 9,
   "metadata": {},
   "outputs": [],
   "source": [
    "# print a policy (taken from Dr. West solution and adapted)\n",
    "def print_policy(policy_matrix):\n",
    "    output = ''\n",
    "    k = 0\n",
    "    for i in range(5):\n",
    "        for j in range(5):\n",
    "            s = i*5 + j\n",
    "            a = policy_matrix[s,:].argmax()\n",
    "            c = [u\"⇧\",u\"⇩\",u\"⇦\",u\"⇨\"][a]\n",
    "            output += c\n",
    "            k += 1\n",
    "        output += '\\n'\n",
    "    return output"
   ]
  },
  {
   "cell_type": "code",
   "execution_count": 10,
   "metadata": {
    "collapsed": true
   },
   "outputs": [
    {
     "name": "stdout",
     "output_type": "stream",
     "text": [
      " Epoch: 0 ,Average R: -25.0\n",
      " Epoch: 100 ,Average R: -7.51\n",
      " Epoch: 200 ,Average R: -5.71\n",
      " Epoch: 300 ,Average R: -5.84\n",
      " Epoch: 400 ,Average R: -5.88\n",
      " Epoch: 500 ,Average R: -4.81\n",
      " Epoch: 600 ,Average R: -6.48\n",
      " Epoch: 700 ,Average R: -3.63\n",
      " Epoch: 800 ,Average R: -4.07\n",
      " Epoch: 900 ,Average R: -5.31\n",
      " Epoch: 1000 ,Average R: -5.96\n",
      " Epoch: 1100 ,Average R: 84.29\n",
      " Epoch: 1200 ,Average R: 83.51\n",
      " Epoch: 1300 ,Average R: 85.13\n",
      " Epoch: 1400 ,Average R: 83.35\n",
      " Epoch: 1500 ,Average R: 83.4\n",
      " Epoch: 1600 ,Average R: 86.55\n",
      " Epoch: 1700 ,Average R: 84.42\n",
      " Epoch: 1800 ,Average R: 85.43\n",
      " Epoch: 1900 ,Average R: 84.53\n",
      " Epoch: 2000 ,Average R: 85.57\n",
      " Epoch: 2100 ,Average R: 163.96\n",
      " Epoch: 2200 ,Average R: 165.8\n",
      " Epoch: 2300 ,Average R: 163.38\n",
      " Epoch: 2400 ,Average R: 166.5\n",
      " Epoch: 2500 ,Average R: 163.66\n",
      " Epoch: 2600 ,Average R: 164.24\n",
      " Epoch: 2700 ,Average R: 165.88\n",
      " Epoch: 2800 ,Average R: 165.57\n",
      " Epoch: 2900 ,Average R: 162.42\n",
      " Epoch: 3000 ,Average R: 163.27\n",
      " Epoch: 3100 ,Average R: 166.65\n",
      " Epoch: 3200 ,Average R: 165.76\n",
      " Epoch: 3300 ,Average R: 165.09\n",
      " Epoch: 3400 ,Average R: 164.69\n",
      " Epoch: 3500 ,Average R: 164.67\n",
      " Epoch: 3600 ,Average R: 164.68\n",
      " Epoch: 3700 ,Average R: 167.53\n",
      " Epoch: 3800 ,Average R: 167.12\n",
      " Epoch: 3900 ,Average R: 167.07\n",
      " Epoch: 4000 ,Average R: 162.59\n",
      " Epoch: 4100 ,Average R: 167.5\n",
      " Epoch: 4200 ,Average R: 165.06\n",
      " Epoch: 4300 ,Average R: 168.56\n",
      " Epoch: 4400 ,Average R: 166.9\n",
      " Epoch: 4500 ,Average R: 167.72\n",
      " Epoch: 4600 ,Average R: 166.18\n",
      " Epoch: 4700 ,Average R: 167.52\n",
      " Epoch: 4800 ,Average R: 166.85\n",
      " Epoch: 4900 ,Average R: 167.85\n",
      " Epoch: 5000 ,Average R: 164.86\n",
      " Epoch: 5100 ,Average R: 170.06\n",
      " Epoch: 5200 ,Average R: 165.18\n",
      " Epoch: 5300 ,Average R: 168.62\n",
      " Epoch: 5400 ,Average R: 167.99\n",
      " Epoch: 5500 ,Average R: 166.78\n",
      " Epoch: 5600 ,Average R: 165.26\n",
      " Epoch: 5700 ,Average R: 167.73\n",
      " Epoch: 5800 ,Average R: 165.86\n",
      " Epoch: 5900 ,Average R: 167.5\n",
      " Epoch: 6000 ,Average R: 166.16\n",
      " Epoch: 6100 ,Average R: 165.83\n",
      " Epoch: 6200 ,Average R: 167.55\n",
      " Epoch: 6300 ,Average R: 167.4\n",
      " Epoch: 6400 ,Average R: 169.57\n",
      " Epoch: 6500 ,Average R: 166.61\n",
      " Epoch: 6600 ,Average R: 167.06\n",
      " Epoch: 6700 ,Average R: 166.29\n",
      " Epoch: 6800 ,Average R: 166.92\n",
      " Epoch: 6900 ,Average R: 167.7\n",
      " Epoch: 7000 ,Average R: 167.06\n",
      " Epoch: 7100 ,Average R: 167.77\n",
      " Epoch: 7200 ,Average R: 169.08\n",
      " Epoch: 7300 ,Average R: 166.82\n",
      " Epoch: 7400 ,Average R: 166.64\n",
      " Epoch: 7500 ,Average R: 166.73\n",
      " Epoch: 7600 ,Average R: 167.93\n",
      " Epoch: 7700 ,Average R: 169.05\n",
      " Epoch: 7800 ,Average R: 164.54\n",
      " Epoch: 7900 ,Average R: 167.92\n",
      " Epoch: 8000 ,Average R: 166.84\n",
      " Epoch: 8100 ,Average R: 169.31\n",
      " Epoch: 8200 ,Average R: 167.4\n",
      " Epoch: 8300 ,Average R: 169.21\n",
      " Epoch: 8400 ,Average R: 166.41\n",
      " Epoch: 8500 ,Average R: 166.15\n",
      " Epoch: 8600 ,Average R: 166.4\n",
      " Epoch: 8700 ,Average R: 165.17\n",
      " Epoch: 8800 ,Average R: 169.7\n",
      " Epoch: 8900 ,Average R: 168.96\n",
      " Epoch: 9000 ,Average R: 167.42\n",
      " Epoch: 9100 ,Average R: 169.27\n",
      " Epoch: 9200 ,Average R: 167.37\n",
      " Epoch: 9300 ,Average R: 165.51\n",
      " Epoch: 9400 ,Average R: 167.51\n",
      " Epoch: 9500 ,Average R: 167.93\n",
      " Epoch: 9600 ,Average R: 166.54\n",
      " Epoch: 9700 ,Average R: 166.2\n",
      " Epoch: 9800 ,Average R: 168.7\n",
      " Epoch: 9900 ,Average R: 167.17\n"
     ]
    }
   ],
   "source": [
    "# run the algorithm to get statistics (simple env)\n",
    "env.stochastic_transitions = False\n",
    "policy = policy_init()\n",
    "policy, statsPGa = PolicyGrad(policy)"
   ]
  },
  {
   "cell_type": "code",
   "execution_count": 12,
   "metadata": {},
   "outputs": [
    {
     "name": "stdout",
     "output_type": "stream",
     "text": [
      "Policy (simple case):\n",
      "⇦⇦⇦⇦⇦\n",
      "⇧⇧⇧⇧⇧\n",
      "⇨⇨⇧⇧⇧\n",
      "⇦⇧⇧⇧⇧\n",
      "⇨⇨⇧⇧⇨\n",
      "\n"
     ]
    }
   ],
   "source": [
    "print(\"Policy (simple case):\")\n",
    "print(print_policy(policy))"
   ]
  },
  {
   "cell_type": "code",
   "execution_count": 13,
   "metadata": {
    "collapsed": true
   },
   "outputs": [
    {
     "name": "stdout",
     "output_type": "stream",
     "text": [
      " Epoch: 0 ,Average R: 16.0\n",
      " Epoch: 100 ,Average R: 4.98\n",
      " Epoch: 200 ,Average R: 6.88\n",
      " Epoch: 300 ,Average R: 7.11\n",
      " Epoch: 400 ,Average R: 7.98\n",
      " Epoch: 500 ,Average R: 7.81\n",
      " Epoch: 600 ,Average R: 8.11\n",
      " Epoch: 700 ,Average R: 6.83\n",
      " Epoch: 800 ,Average R: 4.92\n",
      " Epoch: 900 ,Average R: 5.84\n",
      " Epoch: 1000 ,Average R: 9.17\n",
      " Epoch: 1100 ,Average R: 103.64\n",
      " Epoch: 1200 ,Average R: 102.32\n",
      " Epoch: 1300 ,Average R: 104.7\n",
      " Epoch: 1400 ,Average R: 102.89\n",
      " Epoch: 1500 ,Average R: 104.79\n",
      " Epoch: 1600 ,Average R: 104.47\n",
      " Epoch: 1700 ,Average R: 102.46\n",
      " Epoch: 1800 ,Average R: 102.28\n",
      " Epoch: 1900 ,Average R: 103.06\n",
      " Epoch: 2000 ,Average R: 103.32\n",
      " Epoch: 2100 ,Average R: 164.06\n",
      " Epoch: 2200 ,Average R: 167.32\n",
      " Epoch: 2300 ,Average R: 166.97\n",
      " Epoch: 2400 ,Average R: 167.38\n",
      " Epoch: 2500 ,Average R: 167.14\n",
      " Epoch: 2600 ,Average R: 164.79\n",
      " Epoch: 2700 ,Average R: 166.23\n",
      " Epoch: 2800 ,Average R: 167.64\n",
      " Epoch: 2900 ,Average R: 166.48\n",
      " Epoch: 3000 ,Average R: 167.66\n",
      " Epoch: 3100 ,Average R: 168.23\n",
      " Epoch: 3200 ,Average R: 168.35\n",
      " Epoch: 3300 ,Average R: 165.73\n",
      " Epoch: 3400 ,Average R: 167.01\n",
      " Epoch: 3500 ,Average R: 166.65\n",
      " Epoch: 3600 ,Average R: 166.23\n",
      " Epoch: 3700 ,Average R: 166.98\n",
      " Epoch: 3800 ,Average R: 167.34\n",
      " Epoch: 3900 ,Average R: 168.68\n",
      " Epoch: 4000 ,Average R: 166.15\n",
      " Epoch: 4100 ,Average R: 165.95\n",
      " Epoch: 4200 ,Average R: 164.58\n",
      " Epoch: 4300 ,Average R: 168.33\n",
      " Epoch: 4400 ,Average R: 166.29\n",
      " Epoch: 4500 ,Average R: 166.64\n",
      " Epoch: 4600 ,Average R: 166.55\n",
      " Epoch: 4700 ,Average R: 168.14\n",
      " Epoch: 4800 ,Average R: 167.73\n",
      " Epoch: 4900 ,Average R: 166.49\n",
      " Epoch: 5000 ,Average R: 167.93\n",
      " Epoch: 5100 ,Average R: 167.02\n",
      " Epoch: 5200 ,Average R: 168.56\n",
      " Epoch: 5300 ,Average R: 167.32\n",
      " Epoch: 5400 ,Average R: 168.78\n",
      " Epoch: 5500 ,Average R: 168.27\n",
      " Epoch: 5600 ,Average R: 167.68\n",
      " Epoch: 5700 ,Average R: 169.14\n",
      " Epoch: 5800 ,Average R: 165.57\n",
      " Epoch: 5900 ,Average R: 169.42\n",
      " Epoch: 6000 ,Average R: 168.59\n",
      " Epoch: 6100 ,Average R: 169.75\n",
      " Epoch: 6200 ,Average R: 166.86\n",
      " Epoch: 6300 ,Average R: 170.09\n",
      " Epoch: 6400 ,Average R: 168.98\n",
      " Epoch: 6500 ,Average R: 171.69\n",
      " Epoch: 6600 ,Average R: 168.88\n",
      " Epoch: 6700 ,Average R: 166.29\n",
      " Epoch: 6800 ,Average R: 171.11\n",
      " Epoch: 6900 ,Average R: 165.81\n",
      " Epoch: 7000 ,Average R: 166.18\n",
      " Epoch: 7100 ,Average R: 169.79\n",
      " Epoch: 7200 ,Average R: 169.23\n",
      " Epoch: 7300 ,Average R: 167.25\n",
      " Epoch: 7400 ,Average R: 169.39\n",
      " Epoch: 7500 ,Average R: 165.07\n",
      " Epoch: 7600 ,Average R: 168.53\n",
      " Epoch: 7700 ,Average R: 170.38\n",
      " Epoch: 7800 ,Average R: 167.6\n",
      " Epoch: 7900 ,Average R: 167.7\n",
      " Epoch: 8000 ,Average R: 167.78\n",
      " Epoch: 8100 ,Average R: 168.83\n",
      " Epoch: 8200 ,Average R: 169.34\n",
      " Epoch: 8300 ,Average R: 171.42\n",
      " Epoch: 8400 ,Average R: 169.58\n",
      " Epoch: 8500 ,Average R: 168.78\n",
      " Epoch: 8600 ,Average R: 167.65\n",
      " Epoch: 8700 ,Average R: 167.84\n",
      " Epoch: 8800 ,Average R: 169.14\n",
      " Epoch: 8900 ,Average R: 166.18\n",
      " Epoch: 9000 ,Average R: 169.86\n",
      " Epoch: 9100 ,Average R: 169.36\n",
      " Epoch: 9200 ,Average R: 168.05\n",
      " Epoch: 9300 ,Average R: 171.13\n",
      " Epoch: 9400 ,Average R: 168.82\n",
      " Epoch: 9500 ,Average R: 169.48\n",
      " Epoch: 9600 ,Average R: 167.59\n",
      " Epoch: 9700 ,Average R: 169.06\n",
      " Epoch: 9800 ,Average R: 167.64\n",
      " Epoch: 9900 ,Average R: 167.22\n"
     ]
    }
   ],
   "source": [
    "# run the algorithm to get statistics (complex env)\n",
    "env.stochastic_transitions = True\n",
    "policy = policy_init()\n",
    "policy, statsPGb = PolicyGrad(policy)"
   ]
  },
  {
   "cell_type": "code",
   "execution_count": 14,
   "metadata": {},
   "outputs": [
    {
     "name": "stdout",
     "output_type": "stream",
     "text": [
      "Policy (simple case):\n",
      "⇦⇧⇧⇧⇧\n",
      "⇧⇧⇧⇧⇧\n",
      "⇨⇧⇧⇧⇧\n",
      "⇩⇧⇧⇧⇧\n",
      "⇨⇧⇧⇧⇨\n",
      "\n"
     ]
    }
   ],
   "source": [
    "print(\"Policy (simple case):\")\n",
    "print(print_policy(policy))"
   ]
  },
  {
   "cell_type": "code",
   "execution_count": 18,
   "metadata": {},
   "outputs": [
    {
     "data": {
      "image/png": "[encoded data removed]",
      "text/plain": [
       "<Figure size 432x288 with 1 Axes>"
      ]
     },
     "metadata": {},
     "output_type": "display_data"
    }
   ],
   "source": [
    "#plot the results (taken from https://gist.github.com/vksah32/8ba7ee7489bd8ec50c995f6216adcb7d)\n",
    "import pandas as pd\n",
    "import matplotlib.pyplot as plt \n",
    "\n",
    "mean_x1 = pd.Series(np.asarray(statsPGa)[:,1]).rolling(window=100).mean()\n",
    "mean_x2 = pd.Series(np.asarray(statsPGb)[:,1]).rolling(window=100).mean()\n",
    "itr = range(n_episodes)\n",
    "\n",
    "plt.xlabel(\"epochs\")\n",
    "plt.ylabel(\"score\")\n",
    "plt.plot(itr, mean_x1, 'r-')\n",
    "plt.plot(itr, mean_x2, 'b-')\n",
    "plt.legend(['Simple','Complex'])\n",
    "plt.show()"
   ]
  },
  {
   "cell_type": "markdown",
   "metadata": {},
   "source": [
    "# Tabular Q-learning and SARSA"
   ]
  },
  {
   "cell_type": "code",
   "execution_count": 19,
   "metadata": {},
   "outputs": [],
   "source": [
    "# initialize hyper parameters\n",
    "epsilon = 0.1"
   ]
  },
  {
   "cell_type": "code",
   "execution_count": 20,
   "metadata": {},
   "outputs": [],
   "source": [
    "# epsilon greedy policy\n",
    "def greedy_policy(Q, state):\n",
    "    if np.random.uniform() < epsilon:\n",
    "#         best_action = int(np.random.uniform() * 4 // 1)\n",
    "        best_action = np.random.randint(4)\n",
    "    else:\n",
    "        best_action = np.argmax(Q[state[0]][state[1]])\n",
    "    return best_action"
   ]
  },
  {
   "cell_type": "code",
   "execution_count": 21,
   "metadata": {},
   "outputs": [],
   "source": [
    "#SARSA algorithm\n",
    "def SARSA(Q):\n",
    "    stats = []\n",
    "    \n",
    "    for i_episode in range(n_episodes):\n",
    "        r_total = 0\n",
    "        s = env.reset()[:]\n",
    "        a = greedy_policy(Q, s)\n",
    "    \n",
    "        for t in range(episode_lenght):\n",
    "        \n",
    "            s_prime, r, d, _ = env.step(a)\n",
    "            a_prime = greedy_policy(Q, s_prime)\n",
    "        \n",
    "            # Q Update\n",
    "            q_target = r + gamma * Q[s_prime[0]][s_prime[1]][a_prime]\n",
    "            q_delta = q_target - Q[s[0]][s[1]][a]\n",
    "            Q[s[0]][s[1]][a] = Q[s[0]][s[1]][a] + alpha * q_delta\n",
    "    \n",
    "            if d:\n",
    "                break\n",
    "                \n",
    "            a = a_prime\n",
    "            s = s_prime[:]\n",
    "            r_total += r\n",
    "        \n",
    "        # Update statistics\n",
    "        stats.append([i_episode,r_total])\n",
    "    return Q, stats"
   ]
  },
  {
   "cell_type": "code",
   "execution_count": 22,
   "metadata": {},
   "outputs": [],
   "source": [
    "def Q_Learn(Q):\n",
    "    stats = []\n",
    "\n",
    "    for i_episode in range(n_episodes):\n",
    "\n",
    "        r_total = 0\n",
    "        s = env.reset()[:]\n",
    "        a = greedy_policy(Q, s)\n",
    "    \n",
    "        for t in range(episode_lenght):\n",
    "        \n",
    "            a = greedy_policy(Q, s)\n",
    "            s_prime, r, d, _ = env.step(a)\n",
    "            \n",
    "            # Q Update\n",
    "            q_target = r + gamma * max(Q[s_prime[0]][s_prime[1]][:])\n",
    "            q_delta = q_target - Q[s[0]][s[1]][a]\n",
    "            Q[s[0]][s[1]][a] = Q[s[0]][s[1]][a] + alpha * q_delta\n",
    "    \n",
    "            if d:\n",
    "                break\n",
    "                \n",
    "            s = s_prime[:]\n",
    "            r_total += r\n",
    "        \n",
    "        # Update statistics\n",
    "        stats.append([i_episode,r_total])\n",
    "    \n",
    "    return Q, stats"
   ]
  },
  {
   "cell_type": "code",
   "execution_count": 23,
   "metadata": {},
   "outputs": [],
   "source": [
    "# run the algorithm to get statistics (simple env) \n",
    "env.stochastic_transitions = False\n",
    "Q = np.zeros((5,5,4))\n",
    "Q, statsSARSAa = SARSA(Q)\n",
    "\n",
    "Q = np.zeros((5,5,4))\n",
    "Q, statsQLa = Q_Learn(Q)"
   ]
  },
  {
   "cell_type": "code",
   "execution_count": 24,
   "metadata": {},
   "outputs": [],
   "source": [
    "# run the algorithm to get statistics (complex env)\n",
    "env.stochastic_transitions = True\n",
    "Q = np.zeros((5,5,4))\n",
    "Q, statsSARSAb = SARSA(Q)\n",
    "\n",
    "Q = np.zeros((5,5,4))\n",
    "Q, statsQLb = Q_Learn(Q)"
   ]
  },
  {
   "cell_type": "code",
   "execution_count": 25,
   "metadata": {},
   "outputs": [
    {
     "data": {
      "image/png": "[encoded data removed]",
      "text/plain": [
       "<Figure size 432x288 with 1 Axes>"
      ]
     },
     "metadata": {},
     "output_type": "display_data"
    }
   ],
   "source": [
    "#plot the results (taken from https://gist.github.com/vksah32/8ba7ee7489bd8ec50c995f6216adcb7d)\n",
    "import pandas as pd\n",
    "import matplotlib.pyplot as plt \n",
    "\n",
    "mean_x1 = pd.Series(np.asarray(statsPGa)[:,1]).rolling(window=100).mean()\n",
    "mean_x2 = pd.Series(np.asarray(statsSARSAa)[:,1]).rolling(window=100).mean()\n",
    "mean_x3 = pd.Series(np.asarray(statsQLa)[:,1]).rolling(window=100).mean()\n",
    "\n",
    "itr = range(n_episodes)\n",
    "\n",
    "plt.xlabel(\"epochs\")\n",
    "plt.ylabel(\"score\")\n",
    "plt.plot(itr, mean_x1, 'r-')\n",
    "plt.plot(itr, mean_x2, 'b-')\n",
    "plt.plot(itr, mean_x3, 'g-')\n",
    "plt.legend(['PG','SARSA','QLearn'])\n",
    "plt.title('Simple Env')\n",
    "plt.show()"
   ]
  },
  {
   "cell_type": "code",
   "execution_count": 26,
   "metadata": {},
   "outputs": [
    {
     "data": {
      "image/png": "[encoded data removed]",
      "text/plain": [
       "<Figure size 432x288 with 1 Axes>"
      ]
     },
     "metadata": {},
     "output_type": "display_data"
    }
   ],
   "source": [
    "#plot the results (taken from https://gist.github.com/vksah32/8ba7ee7489bd8ec50c995f6216adcb7d)\n",
    "import pandas as pd\n",
    "import matplotlib.pyplot as plt \n",
    "\n",
    "mean_x1 = pd.Series(np.asarray(statsPGb)[:,1]).rolling(window=100).mean()\n",
    "mean_x2 = pd.Series(np.asarray(statsSARSAb)[:,1]).rolling(window=100).mean()\n",
    "mean_x3 = pd.Series(np.asarray(statsQLb)[:,1]).rolling(window=100).mean()\n",
    "\n",
    "itr = range(n_episodes)\n",
    "\n",
    "plt.xlabel(\"epochs\")\n",
    "plt.ylabel(\"score\")\n",
    "plt.plot(itr, mean_x1, 'r-')\n",
    "plt.plot(itr, mean_x2, 'b-')\n",
    "plt.plot(itr, mean_x3, 'g-')\n",
    "plt.legend(['PG','SARSA','QLearn'])\n",
    "plt.title('Complex Env')\n",
    "plt.show()"
   ]
  }
 ],
 "metadata": {
  "kernelspec": {
   "display_name": "Python 3",
   "language": "python",
   "name": "python3"
  },
  "language_info": {
   "codemirror_mode": {
    "name": "ipython",
    "version": 3
   },
   "file_extension": ".py",
   "mimetype": "text/x-python",
   "name": "python",
   "nbconvert_exporter": "python",
   "pygments_lexer": "ipython3",
   "version": "3.6.5"
  }
 },
 "nbformat": 4,
 "nbformat_minor": 2
}
