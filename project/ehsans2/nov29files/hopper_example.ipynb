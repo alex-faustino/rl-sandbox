{
 "cells": [
  {
   "cell_type": "code",
   "execution_count": 1,
   "metadata": {},
   "outputs": [],
   "source": [
    "%matplotlib widget\n",
    "from matplotlib import pyplot as plt\n",
    "\n",
    "import pybullet as p\n",
    "import numpy as np\n",
    "import pybullet_data\n",
    "import IPython.display\n",
    "import PIL.Image\n",
    "from utilities.render_utils import compiler_video, image_renderer\n",
    "from utilities.pyb_vizutils import pyb_viz\n",
    "from utilities.pyb_bodyutils import create_side_sliders, deactivate_joint_motors"
   ]
  },
  {
   "cell_type": "code",
   "execution_count": 2,
   "metadata": {},
   "outputs": [
    {
     "data": {
      "text/plain": [
       "'/home/ehsans2/.local/lib/python3.6/site-packages/pybullet_data'"
      ]
     },
     "execution_count": 2,
     "metadata": {},
     "output_type": "execute_result"
    }
   ],
   "source": [
    "p.connect(p.DIRECT)\n",
    "p.resetSimulation()\n",
    "p.setAdditionalSearchPath(pybullet_data.getDataPath())\n",
    "pybullet_data.getDataPath()"
   ]
  },
  {
   "cell_type": "code",
   "execution_count": 3,
   "metadata": {},
   "outputs": [],
   "source": [
    "time_step = 0.0001\n",
    "def reset_sim():\n",
    "    global plane, robot, viz_util\n",
    "    p.resetSimulation()\n",
    "    plane = p.loadURDF(\"plane.urdf\", useFixedBase=True)\n",
    "    robot_urdf = 'urdf/mymonoped_handed.urdf'\n",
    "    robot = p.loadURDF(robot_urdf, basePosition = [0, 0, 1.3], baseOrientation = [0,0,1,1],\n",
    "                       useFixedBase=False)\n",
    "    thickness = 0.04\n",
    "    slide_height = 5\n",
    "    create_side_sliders(slide_height = slide_height, slide_width = 0.06, wall_thickness = thickness, \n",
    "                        centerPosition = [-(1.27-thickness/2),0,slide_height/2+thickness], left_wall = True)\n",
    "    create_side_sliders(slide_height = slide_height, slide_width = 0.06, wall_thickness = thickness, \n",
    "                        centerPosition = [ (1.27-thickness/2),0,slide_height/2+thickness], right_wall = True)\n",
    "    p.setGravity(0, 0, -9.81)\n",
    "    p.setTimeStep(time_step)\n",
    "    p.setRealTimeSimulation(0)\n",
    "    viz_util = pyb_viz()\n",
    "    deactivate_joint_motors(robot)\n",
    "\n",
    "reset_sim()"
   ]
  },
  {
   "cell_type": "code",
   "execution_count": 4,
   "metadata": {},
   "outputs": [],
   "source": [
    "vid_compiler = compiler_video()\n",
    "disp_np_im = lambda np_im: IPython.display.display(PIL.Image.fromarray(np_im.astype(np.uint8)))\n",
    "im_renderer_h = image_renderer(pixelWidth=640, pixelHeight=480)\n",
    "im_renderer_v = image_renderer(pixelWidth=640, pixelHeight=480)\n",
    "im_renderer_h.set_view(yaw = 90, #yaw angle in degrees left/right around up-axis\n",
    "                       pitch = -20, #pitch in degrees up/down\n",
    "                       roll = 0) #roll in degrees around forward vector\n",
    "im_renderer_v.set_view(yaw = 0, pitch=-20, roll=0)\n",
    "\n",
    "#plt.imshow(im_renderer())"
   ]
  },
  {
   "cell_type": "code",
   "execution_count": 5,
   "metadata": {},
   "outputs": [
    {
     "name": "stdout",
     "output_type": "stream",
     "text": [
      "uint8\n"
     ]
    },
    {
     "data": {
      "image/png": "[encoded data removed]",
      "text/plain": [
       "<PIL.Image.Image image mode=RGBA size=640x480 at 0x7FA9345FC278>"
      ]
     },
     "metadata": {},
     "output_type": "display_data"
    }
   ],
   "source": [
    "viz_util.unhide_all()\n",
    "#viz_util.hide_like_before()\n",
    "im_renderer_v.set_view(yaw = 45)\n",
    "disp_np_im(im_renderer_v())"
   ]
  },
  {
   "cell_type": "code",
   "execution_count": null,
   "metadata": {},
   "outputs": [],
   "source": [
    "T = 2\n",
    "theta = 0.3\n",
    "fps = 20\n",
    "maxforce = 0\n",
    "\n",
    "reset_sim()\n",
    "p.resetBaseVelocity(plane,linearVelocity=[0,2,0])\n",
    "im_renderer_v.set_view(yaw = 0)\n",
    "disp_np_im(im_renderer_v())\n",
    "\n",
    "vid_compiler = compiler_video()\n",
    "vid_compiler.reset()\n",
    "im_renderer_h.set_view(yaw = 90)\n",
    "im_renderer_v.set_view(yaw = 0)\n",
    "last_render_t = 0\n",
    "yaw = 0\n",
    "for t in np.arange(10/time_step)*time_step:\n",
    "    desired_angle = (theta*4./T) * (np.abs(((t - T/4.)%T)-T/2)-T/4)\n",
    "    \n",
    "    desired_angle = theta * np.sin(t*(2*np.pi)/T)\n",
    "    if False:\n",
    "        p.setJointMotorControl2(bodyUniqueId=robot, \n",
    "                                jointIndex=2, \n",
    "                                controlMode=p.POSITION_CONTROL,\n",
    "                                targetPosition = desired_angle*0.9,\n",
    "                                force = maxforce)\n",
    "\n",
    "        p.setJointMotorControl2(bodyUniqueId=robot, \n",
    "                                jointIndex=3, \n",
    "                                controlMode=p.POSITION_CONTROL,\n",
    "                                targetPosition = -2 * desired_angle,\n",
    "                                force = maxforce)\n",
    "\n",
    "    p.stepSimulation()\n",
    "    \n",
    "    if t - last_render_t > (1./fps):\n",
    "        np_img_arr_h = im_renderer_h()\n",
    "        np_img_arr_v = im_renderer_v()\n",
    "        border = np.zeros((np_img_arr_h.shape[0], 10, 4))\n",
    "        np_img_arr = np.concatenate([np_img_arr_v, border, np_img_arr_h], axis=1)\n",
    "        vid_compiler.add_np_img(np_img_arr)\n",
    "        last_render_t = t\n",
    "vid_compiler(out_file='output/hoppertestvideos/bouncing.mp4', fps=20)\n",
    "print('done!')"
   ]
  },
  {
   "cell_type": "code",
   "execution_count": null,
   "metadata": {},
   "outputs": [],
   "source": [
    "T = 2\n",
    "theta = 1\n",
    "fps = 20\n",
    "maxforce = 10\n",
    "\n",
    "vid_compiler.reset()\n",
    "last_render_t = 0\n",
    "for t in np.arange(10/time_step)*time_step:\n",
    "    desired_angle = (theta*4./T) * (np.abs(((t - T/4.)%T)-T/2)-T/4)\n",
    "    p.setJointMotorControl2(bodyUniqueId=robot, \n",
    "                            jointIndex=2, \n",
    "                            controlMode=p.POSITION_CONTROL,\n",
    "                            targetPosition = desired_angle,\n",
    "                            force = maxforce)\n",
    "\n",
    "    p.stepSimulation()\n",
    "    \n",
    "    if t - last_render_t > (1./fps):\n",
    "        np_img_arr = im_renderer_v()\n",
    "        vid_compiler.add_np_img(np_img_arr)\n",
    "        last_render_t = t\n",
    "vid_compiler(out_file='output/hoppertestvideos/swinging.mp4', fps=20)\n",
    "print('done!')"
   ]
  },
  {
   "cell_type": "code",
   "execution_count": null,
   "metadata": {},
   "outputs": [],
   "source": [
    "p.getJointInfo(robot, 1)[2] == p.JOINT_FIXED"
   ]
  },
  {
   "cell_type": "code",
   "execution_count": null,
   "metadata": {},
   "outputs": [],
   "source": [
    "for i in range(p.getNumJoints(robot)):\n",
    "    print(p.getJointInfo(robot, i))"
   ]
  },
  {
   "cell_type": "code",
   "execution_count": null,
   "metadata": {},
   "outputs": [],
   "source": [
    "np.array([list(x)[:2] for x in p.getJointStates(robot, [0,1])]).reshape(-1).tolist()"
   ]
  }
 ],
 "metadata": {
  "kernelspec": {
   "display_name": "Python 3",
   "language": "python",
   "name": "python3"
  },
  "language_info": {
   "codemirror_mode": {
    "name": "ipython",
    "version": 3
   },
   "file_extension": ".py",
   "mimetype": "text/x-python",
   "name": "python",
   "nbconvert_exporter": "python",
   "pygments_lexer": "ipython3",
   "version": "3.6.5"
  }
 },
 "nbformat": 4,
 "nbformat_minor": 2
}
