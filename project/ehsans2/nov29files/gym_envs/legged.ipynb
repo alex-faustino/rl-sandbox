{
 "cells": [
  {
   "cell_type": "code",
   "execution_count": 2,
   "metadata": {},
   "outputs": [
    {
     "name": "stdout",
     "output_type": "stream",
     "text": [
      "Joints Information Table: \n",
      "   Index            Name      Type  Damping  Friction  Lower Limit  \\\n",
      "0      0  b'base_to_leg'  Revolute      0.0       0.0          0.0   \n",
      "\n",
      "   Upper Limit  Max Force  Max Velocity Link Name             Axis  \n",
      "0         -1.0      200.0           5.0    b'leg'  (1.0, 0.0, 0.0)  \n",
      "--------------------------------------------\n",
      "\n",
      "\n",
      "Links Information Table: \n",
      "  Link name Link Index  Lateral friction  Rolling friction  Spinning friction  \\\n",
      "0    b'leg'          0               0.5               0.0                0.0   \n",
      "1      Base         -1               0.5               0.0                0.0   \n",
      "\n",
      "   Contact damping  Contact stiffness  Restitution  \n",
      "0             -1.0               -1.0          0.0  \n",
      "1             -1.0               -1.0          0.0  \n",
      "\n",
      "Joints ['base_to_leg'] will be controlled during the simulation.\n"
     ]
    }
   ],
   "source": [
    "from importlib import reload\n",
    "import legged\n",
    "from legged import robotBulletEnv\n",
    "urdfs_path = '/home/cslcollab-ghaffri/Sadaf/Software/twoBitToFasta/projs/1/Project/pybulletfiles/organizedfiles/urdf'\n",
    "env = robotBulletEnv(gui=False, time_step = 1./240, controllable_joints=[0],\n",
    "                     robot_urdf = urdfs_path +'/pendulum.urdf')\n",
    "env.reset()\n",
    "env.print_joints_info()"
   ]
  },
  {
   "cell_type": "code",
   "execution_count": 5,
   "metadata": {},
   "outputs": [
    {
     "data": {
      "text/plain": [
       "(0.0,\n",
       " 1.0,\n",
       " (0.0, 0.0, 0.0),\n",
       " (0.0, 0.0, 0.0),\n",
       " (0.0, 0.0, 0.0, 1.0),\n",
       " 0.0,\n",
       " 0.0,\n",
       " 0.0,\n",
       " -1.0,\n",
       " -1.0)"
      ]
     },
     "execution_count": 5,
     "metadata": {},
     "output_type": "execute_result"
    }
   ],
   "source": [
    "import pybullet as p\n",
    "p.getDynamicsInfo(env.plane, linkIndex=-1, physicsClientId = env.physicsClientId)"
   ]
  },
  {
   "cell_type": "code",
   "execution_count": 3,
   "metadata": {},
   "outputs": [
    {
     "name": "stdout",
     "output_type": "stream",
     "text": [
      "[0.00250036 0.03810689 0.         0.        ]\n",
      "0 500 1000 1500 2000 2500 3000 3500 4000 4500 5000 5500 6000 6500 7000 7500 8000 8500 9000 9500 10000 10500 11000 11500 12000 12500 13000 13500 14000 14500 15000 15500 16000 16500 17000 17500 18000 18500 19000 19500 20000 20500 21000 21500 22000 22500 23000 23500 24000 24500 25000 25500 26000 26500 27000 27500 28000 28500 29000 29500 30000 30500 31000 31500 32000 32500 33000 33500 34000 34500 35000 35500 36000 36500 37000 37500 38000 38500 39000 39500 40000 40500 41000 41500 42000 42500 43000 43500 44000 44500 45000 45500 46000 46500 47000 47500 48000 48500 49000 49500 50000 50500 51000 51500 52000 52500 53000 53500 54000 54500 55000 55500 56000 56500 57000 57500 58000 58500 59000 59500 60000 60500 61000 61500 62000 62500 63000 63500 64000 64500 65000 65500 66000 66500 67000 67500 68000 68500 69000 69500 70000 70500 71000 71500 72000 72500 73000 73500 74000 74500 75000 75500 76000 76500 77000 77500 78000 78500 79000 79500 80000 80500 81000 81500 82000 82500 83000 83500 84000 84500 85000 85500 86000 86500 87000 87500 88000 88500 89000 89500 90000 90500 91000 91500 92000 92500 93000 93500 94000 94500 95000 95500 96000 96500 97000 97500 98000 98500 99000 99500 "
     ]
    }
   ],
   "source": [
    "print(env.reset())\n",
    "for i in range(100000):\n",
    "    if i%500 == 0:\n",
    "        print(i, end=' ', flush=True)\n",
    "        env.render()\n",
    "    env.step([1,2])"
   ]
  },
  {
   "cell_type": "code",
   "execution_count": 4,
   "metadata": {},
   "outputs": [
    {
     "data": {
      "image/png": "[encoded data removed]",
      "text/plain": [
       "<PIL.Image.Image image mode=RGBA size=266x96 at 0x7FF737E2C400>"
      ]
     },
     "metadata": {},
     "output_type": "display_data"
    }
   ],
   "source": [
    "import IPython.display\n",
    "import PIL.Image\n",
    "disp_np_im = lambda np_im: IPython.display.display(PIL.Image.fromarray(np_im.astype(np.uint8)))\n",
    "disp_np_im(env.render().astype(np.int32))"
   ]
  },
  {
   "cell_type": "code",
   "execution_count": null,
   "metadata": {},
   "outputs": [],
   "source": [
    "done = False\n",
    "while not done:\n",
    "    try:\n",
    "        env.compile_video(out_file='test.mp4', fps = 20)\n",
    "        done = True\n",
    "    except OSError:\n",
    "        import time\n",
    "        time.sleep(0.3)\n",
    "        pass"
   ]
  }
 ],
 "metadata": {
  "kernelspec": {
   "display_name": "Python 3.6",
   "language": "python",
   "name": "python3.6"
  },
  "language_info": {
   "codemirror_mode": {
    "name": "ipython",
    "version": 3
   },
   "file_extension": ".py",
   "mimetype": "text/x-python",
   "name": "python",
   "nbconvert_exporter": "python",
   "pygments_lexer": "ipython3",
   "version": "3.6.5"
  }
 },
 "nbformat": 4,
 "nbformat_minor": 2
}
