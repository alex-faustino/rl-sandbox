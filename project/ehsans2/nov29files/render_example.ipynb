{
 "cells": [
  {
   "cell_type": "code",
   "execution_count": null,
   "metadata": {},
   "outputs": [],
   "source": [
    "import numpy as np\n",
    "import pybullet as p\n",
    "import pybullet_data\n",
    "\n",
    "from utilities.render_utils import compiler_video, image_renderer"
   ]
  },
  {
   "cell_type": "code",
   "execution_count": null,
   "metadata": {},
   "outputs": [],
   "source": [
    "p.connect(p.DIRECT)\n",
    "p.setAdditionalSearchPath(pybullet_data.getDataPath())\n",
    "p.resetSimulation()\n",
    "p.loadURDF(\"plane.urdf\",[0,0,-1])\n",
    "p.loadURDF(\"r2d2.urdf\", useFixedBase=True)\n",
    "p.setGravity(0,0,-10)"
   ]
  },
  {
   "cell_type": "code",
   "execution_count": null,
   "metadata": {},
   "outputs": [],
   "source": [
    "vid_compiler = compiler_video()\n",
    "im_renderer = image_renderer(pixelWidth=640, pixelHeight=480)\n",
    "im_renderer.set_view(yaw = 0, #yaw angle in degrees left/right around up-axis\n",
    "                     pitch = -20, #pitch in degrees up/down\n",
    "                     roll = 0) #roll in degrees around forward vector"
   ]
  },
  {
   "cell_type": "code",
   "execution_count": null,
   "metadata": {},
   "outputs": [],
   "source": [
    "vid_compiler.reset()\n",
    "for u in range(2):\n",
    "    for yaw in range (0,360,20):\n",
    "        p.stepSimulation()\n",
    "        im_renderer.set_view(yaw = yaw)        \n",
    "        np_img_arr = im_renderer()\n",
    "        vid_compiler.add_np_img(np_img_arr)\n",
    "vid_compiler(out_file='output/testvideos/rotatingyaw.mp4', fps=20)\n",
    "print('done!')"
   ]
  },
  {
   "cell_type": "code",
   "execution_count": null,
   "metadata": {},
   "outputs": [],
   "source": [
    "vid_compiler.reset()\n",
    "for u in range(2):\n",
    "    for pitch in range (0,360,20):\n",
    "        p.stepSimulation()\n",
    "        im_renderer.set_view(pitch = pitch)        \n",
    "        np_img_arr = im_renderer()\n",
    "        vid_compiler.add_np_img(np_img_arr)\n",
    "vid_compiler(out_file='output/testvideos/rotatingpitch.mp4', fps=20)\n",
    "print('done!')"
   ]
  },
  {
   "cell_type": "code",
   "execution_count": null,
   "metadata": {},
   "outputs": [],
   "source": [
    "vid_compiler.reset()\n",
    "for u in range(2):\n",
    "    for roll in range (0,360,20):\n",
    "        p.stepSimulation()\n",
    "        im_renderer.set_view(roll = roll)        \n",
    "        im_renderer.set_projection()\n",
    "        np_img_arr = im_renderer()\n",
    "        vid_compiler.add_np_img(np_img_arr)\n",
    "vid_compiler(out_file='output/testvideos/rotatingroll.mp4', fps=20)\n",
    "print('done!')"
   ]
  }
 ],
 "metadata": {
  "kernelspec": {
   "display_name": "Python 3.6.7",
   "language": "python",
   "name": "python3.6.7"
  },
  "language_info": {
   "codemirror_mode": {
    "name": "ipython",
    "version": 3
   },
   "file_extension": ".py",
   "mimetype": "text/x-python",
   "name": "python",
   "nbconvert_exporter": "python",
   "pygments_lexer": "ipython3",
   "version": "3.6.7"
  }
 },
 "nbformat": 4,
 "nbformat_minor": 2
}
