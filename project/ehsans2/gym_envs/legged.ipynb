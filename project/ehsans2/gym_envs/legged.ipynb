{
 "cells": [
  {
   "cell_type": "code",
   "execution_count": 3,
   "metadata": {},
   "outputs": [
    {
     "name": "stdout",
     "output_type": "stream",
     "text": [
      "Joints Information Table: \n",
      "   Index                     Name       Type  Damping  Friction  Lower Limit  \\\n",
      "0      0        b'slider_to_base'  Prismatic      0.0      0.01        -15.0   \n",
      "1      1      b'base_to_upperleg'   Revolute      0.0      0.01         -1.6   \n",
      "2      2  b'upperleg_to_lowerleg'   Revolute      0.0      0.01         -3.1   \n",
      "\n",
      "   Upper Limit  Max Force  Max Velocity    Link Name             Axis  \n",
      "0         15.0      200.0           5.0      b'base'  (0.0, 0.0, 1.0)  \n",
      "1          1.6      200.0           1.0  b'upperleg'  (0.0, 1.0, 0.0)  \n",
      "2          3.1      200.0           1.0  b'lowerleg'  (0.0, 1.0, 0.0)  \n",
      "--------------------------------------------\n",
      "\n",
      "\n",
      "Links Information Table: \n",
      "     Link name Link Index  Lateral friction  Rolling friction  \\\n",
      "0      b'base'          0               1.0               0.0   \n",
      "1  b'upperleg'          1               1.0               0.0   \n",
      "2  b'lowerleg'          2               1.0               0.0   \n",
      "3         Base         -1               0.5               0.0   \n",
      "\n",
      "   Spinning friction  Contact damping  Contact stiffness  Restitution  \n",
      "0                0.3           1000.0            30000.0          0.0  \n",
      "1                0.3           1000.0            30000.0          0.0  \n",
      "2                0.3           1000.0            30000.0          0.0  \n",
      "3                0.0             -1.0               -1.0          0.0  \n",
      "\n",
      "Joints ['base_to_upperleg', 'upperleg_to_lowerleg'] will be controlled during the simulation.\n"
     ]
    }
   ],
   "source": [
    "import legged, os\n",
    "from legged import robotBulletEnv\n",
    "from pathlib import Path\n",
    "\n",
    "urdfs_path = str(Path(os.getcwd()).parent) + '/urdf'\n",
    "env = robotBulletEnv(gui=False, time_step = 1./240, controllable_joints=[1,2],\n",
    "                     robot_urdf = urdfs_path +'/mono_crude_friction.urdf')\n",
    "env.reset()\n",
    "env.print_joints_info()"
   ]
  },
  {
   "cell_type": "code",
   "execution_count": null,
   "metadata": {},
   "outputs": [],
   "source": []
  }
 ],
 "metadata": {
  "kernelspec": {
   "display_name": "Python 3.6.7(tf)",
   "language": "python",
   "name": "tensorflow_gpuenv"
  },
  "language_info": {
   "codemirror_mode": {
    "name": "ipython",
    "version": 3
   },
   "file_extension": ".py",
   "mimetype": "text/x-python",
   "name": "python",
   "nbconvert_exporter": "python",
   "pygments_lexer": "ipython3",
   "version": "3.6.7"
  }
 },
 "nbformat": 4,
 "nbformat_minor": 2
}
