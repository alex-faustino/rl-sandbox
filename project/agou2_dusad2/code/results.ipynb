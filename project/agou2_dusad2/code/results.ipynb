{
 "cells": [
  {
   "cell_type": "markdown",
   "metadata": {},
   "source": [
    "Links:\n",
    "- https://github.com/hardmaru/WorldModelsExperiments\n",
    "- http://blog.otoro.net//2018/06/09/world-models-experiments/\n"
   ]
  },
  {
   "cell_type": "code",
   "execution_count": 1,
   "metadata": {
    "collapsed": true
   },
   "outputs": [],
   "source": [
    "%matplotlib inline\n",
    "import numpy as np\n",
    "import importlib\n",
    "from tqdm import tqdm_notebook\n",
    "import matplotlib.pyplot as plt\n",
    "import gym\n",
    "import torch\n",
    "import torch.nn as nn\n",
    "from PIL import Image\n",
    "import PIL\n",
    "from torchsummary import summary"
   ]
  },
  {
   "cell_type": "code",
   "execution_count": 2,
   "metadata": {},
   "outputs": [
    {
     "name": "stdout",
     "output_type": "stream",
     "text": [
      "\u001b[33mWARN: gym.spaces.Box autodetected dtype as <class 'numpy.float32'>. Please provide explicit dtype.\u001b[0m\n"
     ]
    }
   ],
   "source": [
    "env = gym.make('MountainCar-v0')"
   ]
  },
  {
   "cell_type": "markdown",
   "metadata": {},
   "source": [
    "Mountain Car Environment"
   ]
  },
  {
   "cell_type": "code",
   "execution_count": 3,
   "metadata": {},
   "outputs": [],
   "source": [
    "state = env.reset()\n",
    "ims = []\n",
    "for i in range(1000):\n",
    "    action = env.action_space.sample()\n",
    "    state, r, done, _ = env.step(action)\n",
    "    im = env.render(mode='rgb_array')\n",
    "    ims.append(im)\n",
    "env.close()"
   ]
  },
  {
   "cell_type": "code",
   "execution_count": 4,
   "metadata": {},
   "outputs": [],
   "source": [
    "resized_ims = [Image.fromarray(i).resize((64, 64), Image.BILINEAR) for i in ims]"
   ]
  },
  {
   "cell_type": "code",
   "execution_count": 5,
   "metadata": {},
   "outputs": [],
   "source": [
    "resized_ims = [np.array(i) for i in resized_ims]"
   ]
  },
  {
   "cell_type": "code",
   "execution_count": 6,
   "metadata": {
    "collapsed": true
   },
   "outputs": [],
   "source": [
    "resized_ims = np.array(resized_ims)"
   ]
  },
  {
   "cell_type": "code",
   "execution_count": 156,
   "metadata": {},
   "outputs": [
    {
     "ename": "SyntaxError",
     "evalue": "invalid syntax (<ipython-input-156-064b795f1e6a>, line 64)",
     "output_type": "error",
     "traceback": [
      "\u001b[0;36m  File \u001b[0;32m\"<ipython-input-156-064b795f1e6a>\"\u001b[0;36m, line \u001b[0;32m64\u001b[0m\n\u001b[0;31m    def loss(self, )\u001b[0m\n\u001b[0m                    ^\u001b[0m\n\u001b[0;31mSyntaxError\u001b[0m\u001b[0;31m:\u001b[0m invalid syntax\n"
     ]
    }
   ],
   "source": [
    "# tf.layers.conv2d_transpose(h, 128, 5, strides=2, activation=tf.nn.relu, name=\"dec_deconv1\")\n",
    "#       h = tf.layers.conv2d_transpose(h, 64, 5, strides=2, activation=tf.nn.relu, name=\"dec_deconv2\")\n",
    "#       h = tf.layers.conv2d_transpose(h, 32, 6, strides=2, activation=tf.nn.relu, name=\"dec_deconv3\")\n",
    "\n",
    "class Reshape(nn.Module):\n",
    "    def __init__(self):\n",
    "        super(Reshape, self).__init__()\n",
    "    def forward(self, x):\n",
    "        x = x.view(-1,  4*256, 1, 1)\n",
    "        return x\n",
    "\n",
    "    \n",
    "\n",
    "class VAE(nn.Module):\n",
    "    def __init__(self, z_size=32, batch_size=1, learning_rate=0.0001, kl_tolerance=0.5, gpu=False):\n",
    "        self.z_size=z_size\n",
    "        self.batch_size=batch_size\n",
    "        self.learning_rate=learning_rate\n",
    "        self.kl_tolerance=kl_tolerance\n",
    "        self.gpu = gpu\n",
    "        \n",
    "        super(VAE, self).__init__()\n",
    "        self.encoder = nn.Sequential(\n",
    "            nn.Conv2d(3, 32, kernel_size=4, stride=2),\n",
    "            nn.ReLU(),\n",
    "            nn.Conv2d(32, 64, kernel_size=4, stride=2),\n",
    "            nn.ReLU(),\n",
    "            nn.Conv2d(64, 128, kernel_size=4, stride=2),\n",
    "            nn.ReLU(),\n",
    "            nn.Conv2d(128, 256, kernel_size=4, stride=2),\n",
    "            nn.ReLU(),\n",
    "        )\n",
    "        \n",
    "        self.mu = nn.Linear(256*2*2, 32)\n",
    "        self.logvar = nn.Linear(256*2*2, 32)\n",
    "        \n",
    "        self.decoder = nn.Sequential(\n",
    "            nn.Linear(self.z_size,4*256),\n",
    "            Reshape(),\n",
    "            nn.ConvTranspose2d(4*256, 128, kernel_size=5, stride=2),\n",
    "            nn.ReLU(),\n",
    "            nn.ConvTranspose2d(128, 64, kernel_size=5, stride=2),\n",
    "            nn.ReLU(),\n",
    "            nn.ConvTranspose2d(64, 32, kernel_size=6, stride=2),\n",
    "            nn.ReLU(),\n",
    "            nn.ConvTranspose2d(32, 3, kernel_size=6, stride=2),\n",
    "            nn.Sigmoid()\n",
    "        )\n",
    "        \n",
    "        \n",
    "    def forward(self, x):\n",
    "        encoded = self.encoder(x)\n",
    "        encoded = encoded.view(-1, 256*2*2)\n",
    "        \n",
    "        mu = self.mu(encoded)\n",
    "        sigma = torch.exp(self.logvar(encoded)/2.0)\n",
    "        eps = torch.randn(self.batch_size, self.z_size)\n",
    "        z = mu + sigma * eps\n",
    "        \n",
    "        decoded = self.decoder(z)\n",
    "        \n",
    "        return decoded, encoded, z, mu, sigma\n",
    "    \n",
    "    def loss(self, ):\n",
    "        "
   ]
  },
  {
   "cell_type": "code",
   "execution_count": 139,
   "metadata": {},
   "outputs": [],
   "source": [
    "device = torch.device(\"cuda\" if torch.cuda.is_available() else \"cpu\") # PyTorch v0.4.0\n",
    "model = VAE().to(device)"
   ]
  },
  {
   "cell_type": "code",
   "execution_count": 140,
   "metadata": {},
   "outputs": [
    {
     "name": "stdout",
     "output_type": "stream",
     "text": [
      "----------------------------------------------------------------\n",
      "        Layer (type)               Output Shape         Param #\n",
      "================================================================\n",
      "            Conv2d-1           [-1, 32, 31, 31]           1,568\n",
      "              ReLU-2           [-1, 32, 31, 31]               0\n",
      "            Conv2d-3           [-1, 64, 14, 14]          32,832\n",
      "              ReLU-4           [-1, 64, 14, 14]               0\n",
      "            Conv2d-5            [-1, 128, 6, 6]         131,200\n",
      "              ReLU-6            [-1, 128, 6, 6]               0\n",
      "            Conv2d-7            [-1, 256, 2, 2]         524,544\n",
      "              ReLU-8            [-1, 256, 2, 2]               0\n",
      "            Linear-9                   [-1, 32]          32,800\n",
      "           Linear-10                   [-1, 32]          32,800\n",
      "           Linear-11                 [-1, 1024]          33,792\n",
      "          Reshape-12           [-1, 1024, 1, 1]               0\n",
      "  ConvTranspose2d-13            [-1, 128, 5, 5]       3,276,928\n",
      "             ReLU-14            [-1, 128, 5, 5]               0\n",
      "  ConvTranspose2d-15           [-1, 64, 13, 13]         204,864\n",
      "             ReLU-16           [-1, 64, 13, 13]               0\n",
      "  ConvTranspose2d-17           [-1, 32, 30, 30]          73,760\n",
      "             ReLU-18           [-1, 32, 30, 30]               0\n",
      "  ConvTranspose2d-19            [-1, 3, 64, 64]           3,459\n",
      "          Sigmoid-20            [-1, 3, 64, 64]               0\n",
      "================================================================\n",
      "Total params: 4,348,547\n",
      "Trainable params: 4,348,547\n",
      "Non-trainable params: 0\n",
      "----------------------------------------------------------------\n",
      "Input size (MB): 0.05\n",
      "Forward/backward pass size (MB): 1.60\n",
      "Params size (MB): 16.59\n",
      "Estimated Total Size (MB): 18.24\n",
      "----------------------------------------------------------------\n"
     ]
    }
   ],
   "source": [
    "summary(model, (3, 64, 64))"
   ]
  },
  {
   "cell_type": "code",
   "execution_count": 141,
   "metadata": {
    "collapsed": true
   },
   "outputs": [],
   "source": [
    "var = torch.from_numpy(resized_ims)\n",
    "var = var.reshape((1000, 3, 64, 64)).float()\n",
    "\n",
    "x = model.forward(var)"
   ]
  },
  {
   "cell_type": "code",
   "execution_count": 155,
   "metadata": {},
   "outputs": [
    {
     "data": {
      "text/plain": [
       "<matplotlib.image.AxesImage at 0x16637bf28>"
      ]
     },
     "execution_count": 155,
     "metadata": {},
     "output_type": "execute_result"
    },
    {
     "data": {
      "image/png": "[encoded data removed]",
      "text/plain": [
       "<matplotlib.figure.Figure at 0x163cedcf8>"
      ]
     },
     "metadata": {},
     "output_type": "display_data"
    }
   ],
   "source": [
    "plt.imshow(resized_ims[0])"
   ]
  },
  {
   "cell_type": "code",
   "execution_count": 154,
   "metadata": {},
   "outputs": [
    {
     "data": {
      "text/plain": [
       "<matplotlib.image.AxesImage at 0x164087d68>"
      ]
     },
     "execution_count": 154,
     "metadata": {},
     "output_type": "execute_result"
    },
    {
     "data": {
      "image/png": "[encoded data removed]",
      "text/plain": [
       "<matplotlib.figure.Figure at 0x163d9f160>"
      ]
     },
     "metadata": {},
     "output_type": "display_data"
    }
   ],
   "source": [
    "plt.imshow(x[0].detach().numpy().reshape((64,64,3)))"
   ]
  },
  {
   "cell_type": "code",
   "execution_count": null,
   "metadata": {
    "collapsed": true
   },
   "outputs": [],
   "source": []
  }
 ],
 "metadata": {
  "kernelspec": {
   "display_name": "Python 3",
   "language": "python",
   "name": "python3"
  },
  "language_info": {
   "codemirror_mode": {
    "name": "ipython",
    "version": 3
   },
   "file_extension": ".py",
   "mimetype": "text/x-python",
   "name": "python",
   "nbconvert_exporter": "python",
   "pygments_lexer": "ipython3",
   "version": "3.6.3"
  },
  "latex_envs": {
   "LaTeX_envs_menu_present": true,
   "autocomplete": true,
   "bibliofile": "biblio.bib",
   "cite_by": "apalike",
   "current_citInitial": 1,
   "eqLabelWithNumbers": true,
   "eqNumInitial": 1,
   "hotkeys": {
    "equation": "Ctrl-E",
    "itemize": "Ctrl-I"
   },
   "labels_anchors": false,
   "latex_user_defs": false,
   "report_style_numbering": false,
   "user_envs_cfg": false
  }
 },
 "nbformat": 4,
 "nbformat_minor": 2
}
