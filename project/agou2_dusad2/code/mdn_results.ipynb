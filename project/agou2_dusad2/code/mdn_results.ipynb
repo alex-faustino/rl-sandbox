{
 "cells": [
  {
   "cell_type": "code",
   "execution_count": 1,
   "metadata": {},
   "outputs": [],
   "source": [
    "import os\n",
    "\n",
    "import torch \n",
    "import torch.nn as nn\n",
    "from torchvision.transforms import ToTensor, Compose\n",
    "\n",
    "import numpy as np \n",
    "import gym\n",
    "import importlib\n",
    "import model.mdrnn  as mdrnn\n",
    "MDRNN = importlib.reload(mdrnn).MDRNN\n",
    "\n",
    "import dataset\n",
    "dataset = importlib.reload(dataset)\n",
    "RNNDataset = dataset.RNNDataset\n",
    "MultiToTensor = dataset.MultiToTensor\n",
    "from model.vaelin import VAELin\n",
    "from constants import *\n",
    "\n",
    "from torch.utils.data import DataLoader"
   ]
  },
  {
   "cell_type": "code",
   "execution_count": 2,
   "metadata": {
    "collapsed": true
   },
   "outputs": [],
   "source": [
    "from torchsummary import summary"
   ]
  },
  {
   "cell_type": "code",
   "execution_count": 14,
   "metadata": {},
   "outputs": [],
   "source": [
    "batch_size=1\n",
    "sequence_length=10\n",
    "hidden_space_dim = 3 \n",
    "action_space_dim=1\n",
    "latent_space_dim=8 \n",
    "num_mixtures=2\n",
    "rnn_type=\"lstm\"\n",
    "n_layers=1\n",
    "device=None\n",
    "\n",
    "\n",
    "latents = torch.randn(batch_size, sequence_length , latent_space_dim)\n",
    "next_latents = torch.randn(batch_size, sequence_length , latent_space_dim)\n",
    "actions = torch.randn(batch_size ,sequence_length, action_space_dim)"
   ]
  },
  {
   "cell_type": "code",
   "execution_count": 15,
   "metadata": {},
   "outputs": [],
   "source": [
    "model = MDRNN(batch_size, sequence_length, hidden_space_dim, action_space_dim, latent_space_dim, num_mixtures, rnn_type, n_layers, device)"
   ]
  },
  {
   "cell_type": "code",
   "execution_count": 16,
   "metadata": {},
   "outputs": [],
   "source": [
    "device = torch.device(\"cuda:0\" if torch.cuda.is_available() else \"cpu\") # PyTorch v0.4.0\n",
    "vae = VAELin(z_size=16, device=device).to(device)\n",
    "loaded = torch.load(VAE_PATH)\n",
    "vae.load_state_dict(loaded['model_state_dict'])\n",
    "#%%\n",
    "dataset = RNNDataset(transform=MultiToTensor())\n",
    "batch_size = 10\n",
    "loader = DataLoader(dataset, batch_size=batch_size)\n",
    "\n",
    "#%%\n",
    "def to_latent(batch_frames, vae):\n",
    "    frames = batch_frames.reshape((batch_size, RNN_SAMPLE_SIZE, 3, HEIGHT, WIDTH))\n",
    "    latent_seq = vae(frames)[3]\n",
    "    latent_seqs = latent_seq.reshape((batch_size, RNN_SAMPLE_SIZE, 16))\n",
    "    return latent_seqs\n",
    "\n",
    "#%%\n",
    "for batch in loader:\n",
    "    frame_seqs = batch['frame_seq'] # (BATCHSIZE, SEQ_LEN, 3, 64, 64)\n",
    "    action_seqs = batch['action_seq'] # (BATCHSIZE, SEQ_LEN)\n",
    "    latent_seqs = to_latent(frame_seqs, vae) # (BATCHSIZE, SEQ_LEN, LATENT_SIZE)"
   ]
  },
  {
   "cell_type": "code",
   "execution_count": 17,
   "metadata": {},
   "outputs": [
    {
     "data": {
      "text/plain": [
       "torch.Size([10, 100])"
      ]
     },
     "execution_count": 17,
     "metadata": {},
     "output_type": "execute_result"
    }
   ],
   "source": [
    "action_seqs"
   ]
  },
  {
   "cell_type": "code",
   "execution_count": null,
   "metadata": {
    "collapsed": true
   },
   "outputs": [],
   "source": [
    "t1 t2 t3\n",
    "(l, a) --> (n_l)"
   ]
  }
 ],
 "metadata": {
  "kernelspec": {
   "display_name": "Python 3",
   "language": "python",
   "name": "python3"
  },
  "language_info": {
   "codemirror_mode": {
    "name": "ipython",
    "version": 3
   },
   "file_extension": ".py",
   "mimetype": "text/x-python",
   "name": "python",
   "nbconvert_exporter": "python",
   "pygments_lexer": "ipython3",
   "version": "3.6.3"
  },
  "latex_envs": {
   "LaTeX_envs_menu_present": true,
   "autocomplete": true,
   "bibliofile": "biblio.bib",
   "cite_by": "apalike",
   "current_citInitial": 1,
   "eqLabelWithNumbers": true,
   "eqNumInitial": 1,
   "hotkeys": {
    "equation": "Ctrl-E",
    "itemize": "Ctrl-I"
   },
   "labels_anchors": false,
   "latex_user_defs": false,
   "report_style_numbering": false,
   "user_envs_cfg": false
  }
 },
 "nbformat": 4,
 "nbformat_minor": 2
}
