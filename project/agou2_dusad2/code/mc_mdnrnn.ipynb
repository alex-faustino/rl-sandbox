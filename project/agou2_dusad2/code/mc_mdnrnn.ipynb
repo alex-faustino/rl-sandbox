{
 "cells": [
  {
   "cell_type": "code",
   "execution_count": 42,
   "metadata": {},
   "outputs": [],
   "source": [
    "%matplotlib inline\n",
    "# # notebook stuff\n",
    "from tqdm import tqdm_notebook\n",
    "import matplotlib.pyplot as plt\n",
    "from matplotlib import animation\n",
    "from IPython.display import HTML\n",
    "plt.rcParams['animation.ffmpeg_path'] = '/usr/bin/ffmpeg'\n",
    "\n",
    "# # numpy\n",
    "import numpy as np\n",
    "from PIL import Image\n",
    "\n",
    "# # torch stuff\n",
    "import torch\n",
    "import torch.nn as nn\n",
    "from torchvision.transforms import Compose, ToTensor, ToPILImage\n",
    "from torch.utils.data import DataLoader, WeightedRandomSampler, random_split\n",
    "from torchsummary import summary\n",
    "import torch.nn.functional as F\n",
    "\n",
    "# our stuff\n",
    "import importlib\n",
    "import model.mdnrnn\n",
    "MDNRNN = importlib.reload(model.mdnrnn).MDNRNN\n",
    "\n",
    "import dataset\n",
    "dataset = importlib.reload(dataset)\n",
    "RNNDataset = dataset.RNNDataset\n",
    "MultiToTensor = dataset.MultiToTensor\n",
    "from model.vaelin import VAELin\n",
    "from constants import *\n"
   ]
  },
  {
   "cell_type": "code",
   "execution_count": 43,
   "metadata": {},
   "outputs": [],
   "source": [
    "device = torch.device(\"cuda:0\" if torch.cuda.is_available() else \"cpu\") # PyTorch v0.4.0"
   ]
  },
  {
   "cell_type": "code",
   "execution_count": 44,
   "metadata": {},
   "outputs": [],
   "source": [
    "dataset = RNNDataset(transform=MultiToTensor())\n",
    "loader = DataLoader(dataset, batch_size=RNN_BATCH_SIZE, drop_last=True)\n",
    "vae = VAELin(z_size=LATENT_SIZE, device=device).to(device)\n",
    "loaded = torch.load(VAE_PATH, map_location=device)\n",
    "vae.load_state_dict(loaded['model_state_dict'])\n",
    "\n",
    "rnn = MDNRNN(model_reward=True)\n",
    "rnn.load_state_dict(torch.load(RNN_PATH, map_location=device)['model_state_dict'])"
   ]
  },
  {
   "cell_type": "code",
   "execution_count": 45,
   "metadata": {},
   "outputs": [],
   "source": [
    "batch_size = RNN_BATCH_SIZE\n",
    "def to_latent(batch_frames, vae):\n",
    "    frames = batch_frames.reshape((RNN_BATCH_SIZE, RNN_SEQ_LEN, 3, HEIGHT, WIDTH))\n",
    "    latent_seq = vae(frames)[3]\n",
    "    latent_seqs = latent_seq.reshape((RNN_BATCH_SIZE, RNN_SEQ_LEN, LATENT_SIZE))\n",
    "    return latent_seqs"
   ]
  },
  {
   "cell_type": "code",
   "execution_count": 5,
   "metadata": {},
   "outputs": [],
   "source": [
    "model = MDNRNN().to(device)"
   ]
  },
  {
   "cell_type": "code",
   "execution_count": 6,
   "metadata": {},
   "outputs": [],
   "source": [
    "losses = []\n",
    "optimizer = torch.optim.Adam(model.parameters(), lr=0.001)"
   ]
  },
  {
   "cell_type": "code",
   "execution_count": 7,
   "metadata": {},
   "outputs": [],
   "source": [
    "epochs = 100"
   ]
  },
  {
   "cell_type": "code",
   "execution_count": 8,
   "metadata": {
    "scrolled": true
   },
   "outputs": [
    {
     "data": {
      "application/vnd.jupyter.widget-view+json": {
       "model_id": "ee75f2c08ef24af3bace3719d0ea8fe0",
       "version_major": 2,
       "version_minor": 0
      },
      "text/plain": [
       "HBox(children=(IntProgress(value=0, max=14), HTML(value='')))"
      ]
     },
     "metadata": {},
     "output_type": "display_data"
    },
    {
     "name": "stdout",
     "output_type": "stream",
     "text": [
      "\n"
     ]
    },
    {
     "data": {
      "application/vnd.jupyter.widget-view+json": {
       "model_id": "88d05b4f331b40229ab4e5c9b150e5ca",
       "version_major": 2,
       "version_minor": 0
      },
      "text/plain": [
       "HBox(children=(IntProgress(value=0, max=14), HTML(value='')))"
      ]
     },
     "metadata": {},
     "output_type": "display_data"
    },
    {
     "name": "stdout",
     "output_type": "stream",
     "text": [
      "\n"
     ]
    },
    {
     "data": {
      "application/vnd.jupyter.widget-view+json": {
       "model_id": "7050cbe66a504614bd5616aa5a5dfa05",
       "version_major": 2,
       "version_minor": 0
      },
      "text/plain": [
       "HBox(children=(IntProgress(value=0, max=14), HTML(value='')))"
      ]
     },
     "metadata": {},
     "output_type": "display_data"
    },
    {
     "name": "stdout",
     "output_type": "stream",
     "text": [
      "\n"
     ]
    },
    {
     "data": {
      "application/vnd.jupyter.widget-view+json": {
       "model_id": "a37205813193477e93f5c1710e604a2f",
       "version_major": 2,
       "version_minor": 0
      },
      "text/plain": [
       "HBox(children=(IntProgress(value=0, max=14), HTML(value='')))"
      ]
     },
     "metadata": {},
     "output_type": "display_data"
    },
    {
     "name": "stdout",
     "output_type": "stream",
     "text": [
      "\n"
     ]
    },
    {
     "data": {
      "application/vnd.jupyter.widget-view+json": {
       "model_id": "18bb7c48fe7c402296698dad3a274b33",
       "version_major": 2,
       "version_minor": 0
      },
      "text/plain": [
       "HBox(children=(IntProgress(value=0, max=14), HTML(value='')))"
      ]
     },
     "metadata": {},
     "output_type": "display_data"
    },
    {
     "name": "stdout",
     "output_type": "stream",
     "text": [
      "\n"
     ]
    },
    {
     "data": {
      "application/vnd.jupyter.widget-view+json": {
       "model_id": "5c7df59af934453f81cd12b628f794f7",
       "version_major": 2,
       "version_minor": 0
      },
      "text/plain": [
       "HBox(children=(IntProgress(value=0, max=14), HTML(value='')))"
      ]
     },
     "metadata": {},
     "output_type": "display_data"
    },
    {
     "name": "stdout",
     "output_type": "stream",
     "text": [
      "\n"
     ]
    },
    {
     "data": {
      "application/vnd.jupyter.widget-view+json": {
       "model_id": "2551232e054c4c33a050b0b425ef71bf",
       "version_major": 2,
       "version_minor": 0
      },
      "text/plain": [
       "HBox(children=(IntProgress(value=0, max=14), HTML(value='')))"
      ]
     },
     "metadata": {},
     "output_type": "display_data"
    },
    {
     "name": "stdout",
     "output_type": "stream",
     "text": [
      "\n"
     ]
    },
    {
     "data": {
      "application/vnd.jupyter.widget-view+json": {
       "model_id": "f27328b3b7884f989305c5373340bb66",
       "version_major": 2,
       "version_minor": 0
      },
      "text/plain": [
       "HBox(children=(IntProgress(value=0, max=14), HTML(value='')))"
      ]
     },
     "metadata": {},
     "output_type": "display_data"
    },
    {
     "name": "stdout",
     "output_type": "stream",
     "text": [
      "\n"
     ]
    },
    {
     "data": {
      "application/vnd.jupyter.widget-view+json": {
       "model_id": "d060f10e1a5f4bf48a954027977c498f",
       "version_major": 2,
       "version_minor": 0
      },
      "text/plain": [
       "HBox(children=(IntProgress(value=0, max=14), HTML(value='')))"
      ]
     },
     "metadata": {},
     "output_type": "display_data"
    },
    {
     "name": "stdout",
     "output_type": "stream",
     "text": [
      "\n"
     ]
    },
    {
     "data": {
      "application/vnd.jupyter.widget-view+json": {
       "model_id": "c01a317db2a1409f850061f895d895d7",
       "version_major": 2,
       "version_minor": 0
      },
      "text/plain": [
       "HBox(children=(IntProgress(value=0, max=14), HTML(value='')))"
      ]
     },
     "metadata": {},
     "output_type": "display_data"
    },
    {
     "name": "stdout",
     "output_type": "stream",
     "text": [
      "\n"
     ]
    },
    {
     "data": {
      "application/vnd.jupyter.widget-view+json": {
       "model_id": "9e36bdaeb4d848b08ba6069c172b5d90",
       "version_major": 2,
       "version_minor": 0
      },
      "text/plain": [
       "HBox(children=(IntProgress(value=0, max=14), HTML(value='')))"
      ]
     },
     "metadata": {},
     "output_type": "display_data"
    },
    {
     "name": "stdout",
     "output_type": "stream",
     "text": [
      "\n"
     ]
    },
    {
     "data": {
      "application/vnd.jupyter.widget-view+json": {
       "model_id": "eb1faa67571a4d3e80ade8c20ff1f84c",
       "version_major": 2,
       "version_minor": 0
      },
      "text/plain": [
       "HBox(children=(IntProgress(value=0, max=14), HTML(value='')))"
      ]
     },
     "metadata": {},
     "output_type": "display_data"
    },
    {
     "name": "stdout",
     "output_type": "stream",
     "text": [
      "\n"
     ]
    },
    {
     "data": {
      "application/vnd.jupyter.widget-view+json": {
       "model_id": "7838b53f4c234b3f83202f1740fe08fd",
       "version_major": 2,
       "version_minor": 0
      },
      "text/plain": [
       "HBox(children=(IntProgress(value=0, max=14), HTML(value='')))"
      ]
     },
     "metadata": {},
     "output_type": "display_data"
    },
    {
     "name": "stdout",
     "output_type": "stream",
     "text": [
      "\n"
     ]
    },
    {
     "data": {
      "application/vnd.jupyter.widget-view+json": {
       "model_id": "71ebbe0984c3470cb5bc6dde5a72cd6c",
       "version_major": 2,
       "version_minor": 0
      },
      "text/plain": [
       "HBox(children=(IntProgress(value=0, max=14), HTML(value='')))"
      ]
     },
     "metadata": {},
     "output_type": "display_data"
    },
    {
     "name": "stdout",
     "output_type": "stream",
     "text": [
      "\n"
     ]
    },
    {
     "data": {
      "application/vnd.jupyter.widget-view+json": {
       "model_id": "412940d2bbc446c7abd2fdd4036b0207",
       "version_major": 2,
       "version_minor": 0
      },
      "text/plain": [
       "HBox(children=(IntProgress(value=0, max=14), HTML(value='')))"
      ]
     },
     "metadata": {},
     "output_type": "display_data"
    },
    {
     "name": "stdout",
     "output_type": "stream",
     "text": [
      "\n"
     ]
    },
    {
     "data": {
      "application/vnd.jupyter.widget-view+json": {
       "model_id": "6a393add37e646e48346485ce321a13c",
       "version_major": 2,
       "version_minor": 0
      },
      "text/plain": [
       "HBox(children=(IntProgress(value=0, max=14), HTML(value='')))"
      ]
     },
     "metadata": {},
     "output_type": "display_data"
    },
    {
     "name": "stdout",
     "output_type": "stream",
     "text": [
      "\n"
     ]
    },
    {
     "data": {
      "application/vnd.jupyter.widget-view+json": {
       "model_id": "681d1100d5194db89aca0bd07fbb198e",
       "version_major": 2,
       "version_minor": 0
      },
      "text/plain": [
       "HBox(children=(IntProgress(value=0, max=14), HTML(value='')))"
      ]
     },
     "metadata": {},
     "output_type": "display_data"
    },
    {
     "name": "stdout",
     "output_type": "stream",
     "text": [
      "\n"
     ]
    },
    {
     "data": {
      "application/vnd.jupyter.widget-view+json": {
       "model_id": "050a24c0f0b34d718c5dab4077b5c1fd",
       "version_major": 2,
       "version_minor": 0
      },
      "text/plain": [
       "HBox(children=(IntProgress(value=0, max=14), HTML(value='')))"
      ]
     },
     "metadata": {},
     "output_type": "display_data"
    },
    {
     "name": "stdout",
     "output_type": "stream",
     "text": [
      "\n"
     ]
    },
    {
     "data": {
      "application/vnd.jupyter.widget-view+json": {
       "model_id": "7be2664f48014689b2880de8353dec40",
       "version_major": 2,
       "version_minor": 0
      },
      "text/plain": [
       "HBox(children=(IntProgress(value=0, max=14), HTML(value='')))"
      ]
     },
     "metadata": {},
     "output_type": "display_data"
    },
    {
     "name": "stdout",
     "output_type": "stream",
     "text": [
      "\n"
     ]
    },
    {
     "data": {
      "application/vnd.jupyter.widget-view+json": {
       "model_id": "83fdeebc5a8143e98fb249e79d318a6e",
       "version_major": 2,
       "version_minor": 0
      },
      "text/plain": [
       "HBox(children=(IntProgress(value=0, max=14), HTML(value='')))"
      ]
     },
     "metadata": {},
     "output_type": "display_data"
    },
    {
     "name": "stdout",
     "output_type": "stream",
     "text": [
      "\n"
     ]
    },
    {
     "data": {
      "application/vnd.jupyter.widget-view+json": {
       "model_id": "6c3e7212e4ad41e38d725a700c99addc",
       "version_major": 2,
       "version_minor": 0
      },
      "text/plain": [
       "HBox(children=(IntProgress(value=0, max=14), HTML(value='')))"
      ]
     },
     "metadata": {},
     "output_type": "display_data"
    },
    {
     "name": "stdout",
     "output_type": "stream",
     "text": [
      "\n"
     ]
    },
    {
     "data": {
      "application/vnd.jupyter.widget-view+json": {
       "model_id": "bc83c50aec5b4aa8a89bf6e77d387f8a",
       "version_major": 2,
       "version_minor": 0
      },
      "text/plain": [
       "HBox(children=(IntProgress(value=0, max=14), HTML(value='')))"
      ]
     },
     "metadata": {},
     "output_type": "display_data"
    },
    {
     "name": "stdout",
     "output_type": "stream",
     "text": [
      "\n"
     ]
    },
    {
     "data": {
      "application/vnd.jupyter.widget-view+json": {
       "model_id": "87e933bbe42045c2aeb03926530cdec7",
       "version_major": 2,
       "version_minor": 0
      },
      "text/plain": [
       "HBox(children=(IntProgress(value=0, max=14), HTML(value='')))"
      ]
     },
     "metadata": {},
     "output_type": "display_data"
    },
    {
     "name": "stdout",
     "output_type": "stream",
     "text": [
      "\n"
     ]
    },
    {
     "data": {
      "application/vnd.jupyter.widget-view+json": {
       "model_id": "22f2a8c742c94ba9925b9cafd4a1eb13",
       "version_major": 2,
       "version_minor": 0
      },
      "text/plain": [
       "HBox(children=(IntProgress(value=0, max=14), HTML(value='')))"
      ]
     },
     "metadata": {},
     "output_type": "display_data"
    },
    {
     "name": "stdout",
     "output_type": "stream",
     "text": [
      "\n"
     ]
    },
    {
     "data": {
      "application/vnd.jupyter.widget-view+json": {
       "model_id": "4240210790444de28819a66eff8c2ca6",
       "version_major": 2,
       "version_minor": 0
      },
      "text/plain": [
       "HBox(children=(IntProgress(value=0, max=14), HTML(value='')))"
      ]
     },
     "metadata": {},
     "output_type": "display_data"
    },
    {
     "name": "stdout",
     "output_type": "stream",
     "text": [
      "\n"
     ]
    },
    {
     "data": {
      "application/vnd.jupyter.widget-view+json": {
       "model_id": "80dcb27209c6499c9309f4ae077a62b6",
       "version_major": 2,
       "version_minor": 0
      },
      "text/plain": [
       "HBox(children=(IntProgress(value=0, max=14), HTML(value='')))"
      ]
     },
     "metadata": {},
     "output_type": "display_data"
    },
    {
     "name": "stdout",
     "output_type": "stream",
     "text": [
      "\n"
     ]
    },
    {
     "data": {
      "application/vnd.jupyter.widget-view+json": {
       "model_id": "6ef9a8b5a3104982bb04f330b15774bd",
       "version_major": 2,
       "version_minor": 0
      },
      "text/plain": [
       "HBox(children=(IntProgress(value=0, max=14), HTML(value='')))"
      ]
     },
     "metadata": {},
     "output_type": "display_data"
    },
    {
     "name": "stdout",
     "output_type": "stream",
     "text": [
      "\n"
     ]
    },
    {
     "data": {
      "application/vnd.jupyter.widget-view+json": {
       "model_id": "20bb00fa7bd8477b88cacd4bac8ef55c",
       "version_major": 2,
       "version_minor": 0
      },
      "text/plain": [
       "HBox(children=(IntProgress(value=0, max=14), HTML(value='')))"
      ]
     },
     "metadata": {},
     "output_type": "display_data"
    },
    {
     "name": "stdout",
     "output_type": "stream",
     "text": [
      "\n"
     ]
    },
    {
     "data": {
      "application/vnd.jupyter.widget-view+json": {
       "model_id": "f2b64dc302974c82821e16910170a4ee",
       "version_major": 2,
       "version_minor": 0
      },
      "text/plain": [
       "HBox(children=(IntProgress(value=0, max=14), HTML(value='')))"
      ]
     },
     "metadata": {},
     "output_type": "display_data"
    },
    {
     "name": "stdout",
     "output_type": "stream",
     "text": [
      "\n"
     ]
    },
    {
     "data": {
      "application/vnd.jupyter.widget-view+json": {
       "model_id": "5ee7e130b1e740cc82ae01e2d08ce8ef",
       "version_major": 2,
       "version_minor": 0
      },
      "text/plain": [
       "HBox(children=(IntProgress(value=0, max=14), HTML(value='')))"
      ]
     },
     "metadata": {},
     "output_type": "display_data"
    },
    {
     "name": "stdout",
     "output_type": "stream",
     "text": [
      "\n"
     ]
    },
    {
     "data": {
      "application/vnd.jupyter.widget-view+json": {
       "model_id": "eeac70a179d048978aff0bea7bd65498",
       "version_major": 2,
       "version_minor": 0
      },
      "text/plain": [
       "HBox(children=(IntProgress(value=0, max=14), HTML(value='')))"
      ]
     },
     "metadata": {},
     "output_type": "display_data"
    },
    {
     "name": "stdout",
     "output_type": "stream",
     "text": [
      "\n"
     ]
    },
    {
     "data": {
      "application/vnd.jupyter.widget-view+json": {
       "model_id": "fbc0662bafdf48279bc85fdf2d917075",
       "version_major": 2,
       "version_minor": 0
      },
      "text/plain": [
       "HBox(children=(IntProgress(value=0, max=14), HTML(value='')))"
      ]
     },
     "metadata": {},
     "output_type": "display_data"
    },
    {
     "name": "stdout",
     "output_type": "stream",
     "text": [
      "\n"
     ]
    },
    {
     "data": {
      "application/vnd.jupyter.widget-view+json": {
       "model_id": "f187d4c52cd3442a9c11687b681ea0e8",
       "version_major": 2,
       "version_minor": 0
      },
      "text/plain": [
       "HBox(children=(IntProgress(value=0, max=14), HTML(value='')))"
      ]
     },
     "metadata": {},
     "output_type": "display_data"
    },
    {
     "name": "stdout",
     "output_type": "stream",
     "text": [
      "\n"
     ]
    },
    {
     "data": {
      "application/vnd.jupyter.widget-view+json": {
       "model_id": "56b8f90eca644e278c762a5f37d084ee",
       "version_major": 2,
       "version_minor": 0
      },
      "text/plain": [
       "HBox(children=(IntProgress(value=0, max=14), HTML(value='')))"
      ]
     },
     "metadata": {},
     "output_type": "display_data"
    },
    {
     "name": "stdout",
     "output_type": "stream",
     "text": [
      "\n"
     ]
    },
    {
     "data": {
      "application/vnd.jupyter.widget-view+json": {
       "model_id": "db7e33e755d544c3a2b3f9f585da3665",
       "version_major": 2,
       "version_minor": 0
      },
      "text/plain": [
       "HBox(children=(IntProgress(value=0, max=14), HTML(value='')))"
      ]
     },
     "metadata": {},
     "output_type": "display_data"
    },
    {
     "name": "stdout",
     "output_type": "stream",
     "text": [
      "\n"
     ]
    },
    {
     "data": {
      "application/vnd.jupyter.widget-view+json": {
       "model_id": "4d4a44f976e44c059d5d9977a4862dd6",
       "version_major": 2,
       "version_minor": 0
      },
      "text/plain": [
       "HBox(children=(IntProgress(value=0, max=14), HTML(value='')))"
      ]
     },
     "metadata": {},
     "output_type": "display_data"
    },
    {
     "name": "stdout",
     "output_type": "stream",
     "text": [
      "\n"
     ]
    },
    {
     "data": {
      "application/vnd.jupyter.widget-view+json": {
       "model_id": "b05a22ba8e974b6b990990dbf3614adb",
       "version_major": 2,
       "version_minor": 0
      },
      "text/plain": [
       "HBox(children=(IntProgress(value=0, max=14), HTML(value='')))"
      ]
     },
     "metadata": {},
     "output_type": "display_data"
    },
    {
     "name": "stdout",
     "output_type": "stream",
     "text": [
      "\n"
     ]
    },
    {
     "data": {
      "application/vnd.jupyter.widget-view+json": {
       "model_id": "522a04bcfe2148669294d33968a0a0ad",
       "version_major": 2,
       "version_minor": 0
      },
      "text/plain": [
       "HBox(children=(IntProgress(value=0, max=14), HTML(value='')))"
      ]
     },
     "metadata": {},
     "output_type": "display_data"
    },
    {
     "name": "stdout",
     "output_type": "stream",
     "text": [
      "\n"
     ]
    },
    {
     "data": {
      "application/vnd.jupyter.widget-view+json": {
       "model_id": "226b95527ad346279a8bcac7ecd0b8fb",
       "version_major": 2,
       "version_minor": 0
      },
      "text/plain": [
       "HBox(children=(IntProgress(value=0, max=14), HTML(value='')))"
      ]
     },
     "metadata": {},
     "output_type": "display_data"
    },
    {
     "name": "stdout",
     "output_type": "stream",
     "text": [
      "\n"
     ]
    },
    {
     "data": {
      "application/vnd.jupyter.widget-view+json": {
       "model_id": "2333503b62f64c72a340e12d1463b633",
       "version_major": 2,
       "version_minor": 0
      },
      "text/plain": [
       "HBox(children=(IntProgress(value=0, max=14), HTML(value='')))"
      ]
     },
     "metadata": {},
     "output_type": "display_data"
    },
    {
     "name": "stdout",
     "output_type": "stream",
     "text": [
      "\n"
     ]
    },
    {
     "data": {
      "application/vnd.jupyter.widget-view+json": {
       "model_id": "9dc001c464ca498b8b2e72b92a271f26",
       "version_major": 2,
       "version_minor": 0
      },
      "text/plain": [
       "HBox(children=(IntProgress(value=0, max=14), HTML(value='')))"
      ]
     },
     "metadata": {},
     "output_type": "display_data"
    },
    {
     "name": "stdout",
     "output_type": "stream",
     "text": [
      "\n"
     ]
    },
    {
     "data": {
      "application/vnd.jupyter.widget-view+json": {
       "model_id": "717861c8ade54263850c70d776bb4a90",
       "version_major": 2,
       "version_minor": 0
      },
      "text/plain": [
       "HBox(children=(IntProgress(value=0, max=14), HTML(value='')))"
      ]
     },
     "metadata": {},
     "output_type": "display_data"
    },
    {
     "name": "stdout",
     "output_type": "stream",
     "text": [
      "\n"
     ]
    },
    {
     "data": {
      "application/vnd.jupyter.widget-view+json": {
       "model_id": "fda08f4d3de140f9b29f5e60eca78574",
       "version_major": 2,
       "version_minor": 0
      },
      "text/plain": [
       "HBox(children=(IntProgress(value=0, max=14), HTML(value='')))"
      ]
     },
     "metadata": {},
     "output_type": "display_data"
    },
    {
     "name": "stdout",
     "output_type": "stream",
     "text": [
      "\n"
     ]
    },
    {
     "data": {
      "application/vnd.jupyter.widget-view+json": {
       "model_id": "2e50abab47ac4ebb94adda19df616e56",
       "version_major": 2,
       "version_minor": 0
      },
      "text/plain": [
       "HBox(children=(IntProgress(value=0, max=14), HTML(value='')))"
      ]
     },
     "metadata": {},
     "output_type": "display_data"
    },
    {
     "name": "stdout",
     "output_type": "stream",
     "text": [
      "\n"
     ]
    },
    {
     "data": {
      "application/vnd.jupyter.widget-view+json": {
       "model_id": "375d22516b0244378409575615d91121",
       "version_major": 2,
       "version_minor": 0
      },
      "text/plain": [
       "HBox(children=(IntProgress(value=0, max=14), HTML(value='')))"
      ]
     },
     "metadata": {},
     "output_type": "display_data"
    },
    {
     "name": "stdout",
     "output_type": "stream",
     "text": [
      "\n"
     ]
    },
    {
     "data": {
      "application/vnd.jupyter.widget-view+json": {
       "model_id": "1c8084690f0641a88fdc6ae84b92df7f",
       "version_major": 2,
       "version_minor": 0
      },
      "text/plain": [
       "HBox(children=(IntProgress(value=0, max=14), HTML(value='')))"
      ]
     },
     "metadata": {},
     "output_type": "display_data"
    },
    {
     "name": "stdout",
     "output_type": "stream",
     "text": [
      "\n"
     ]
    },
    {
     "data": {
      "application/vnd.jupyter.widget-view+json": {
       "model_id": "ba5ce61a3b3f44faa364ac60bdde35cb",
       "version_major": 2,
       "version_minor": 0
      },
      "text/plain": [
       "HBox(children=(IntProgress(value=0, max=14), HTML(value='')))"
      ]
     },
     "metadata": {},
     "output_type": "display_data"
    },
    {
     "name": "stdout",
     "output_type": "stream",
     "text": [
      "\n"
     ]
    },
    {
     "data": {
      "application/vnd.jupyter.widget-view+json": {
       "model_id": "b13ec2ec1968409da2d4dc1006e2213c",
       "version_major": 2,
       "version_minor": 0
      },
      "text/plain": [
       "HBox(children=(IntProgress(value=0, max=14), HTML(value='')))"
      ]
     },
     "metadata": {},
     "output_type": "display_data"
    },
    {
     "name": "stdout",
     "output_type": "stream",
     "text": [
      "\n"
     ]
    },
    {
     "data": {
      "application/vnd.jupyter.widget-view+json": {
       "model_id": "ff4dca70a2e147b7bd432599aadb6766",
       "version_major": 2,
       "version_minor": 0
      },
      "text/plain": [
       "HBox(children=(IntProgress(value=0, max=14), HTML(value='')))"
      ]
     },
     "metadata": {},
     "output_type": "display_data"
    },
    {
     "name": "stdout",
     "output_type": "stream",
     "text": [
      "\n"
     ]
    },
    {
     "data": {
      "application/vnd.jupyter.widget-view+json": {
       "model_id": "c08fabe2a71b47268d6aac0ffc88efd6",
       "version_major": 2,
       "version_minor": 0
      },
      "text/plain": [
       "HBox(children=(IntProgress(value=0, max=14), HTML(value='')))"
      ]
     },
     "metadata": {},
     "output_type": "display_data"
    },
    {
     "name": "stdout",
     "output_type": "stream",
     "text": [
      "\n"
     ]
    },
    {
     "data": {
      "application/vnd.jupyter.widget-view+json": {
       "model_id": "84329ebfe8744ec584fc5661fef9f0ac",
       "version_major": 2,
       "version_minor": 0
      },
      "text/plain": [
       "HBox(children=(IntProgress(value=0, max=14), HTML(value='')))"
      ]
     },
     "metadata": {},
     "output_type": "display_data"
    },
    {
     "name": "stdout",
     "output_type": "stream",
     "text": [
      "\n"
     ]
    },
    {
     "data": {
      "application/vnd.jupyter.widget-view+json": {
       "model_id": "3c53e0cd18c947a0b30647501a937d3b",
       "version_major": 2,
       "version_minor": 0
      },
      "text/plain": [
       "HBox(children=(IntProgress(value=0, max=14), HTML(value='')))"
      ]
     },
     "metadata": {},
     "output_type": "display_data"
    },
    {
     "name": "stdout",
     "output_type": "stream",
     "text": [
      "\n"
     ]
    },
    {
     "data": {
      "application/vnd.jupyter.widget-view+json": {
       "model_id": "8fe660436aaf422fb2b98410cddbb525",
       "version_major": 2,
       "version_minor": 0
      },
      "text/plain": [
       "HBox(children=(IntProgress(value=0, max=14), HTML(value='')))"
      ]
     },
     "metadata": {},
     "output_type": "display_data"
    },
    {
     "name": "stdout",
     "output_type": "stream",
     "text": [
      "\n"
     ]
    },
    {
     "data": {
      "application/vnd.jupyter.widget-view+json": {
       "model_id": "5959974f938e408daa28b1e32e17cfb3",
       "version_major": 2,
       "version_minor": 0
      },
      "text/plain": [
       "HBox(children=(IntProgress(value=0, max=14), HTML(value='')))"
      ]
     },
     "metadata": {},
     "output_type": "display_data"
    },
    {
     "name": "stdout",
     "output_type": "stream",
     "text": [
      "\n"
     ]
    },
    {
     "data": {
      "application/vnd.jupyter.widget-view+json": {
       "model_id": "eb9dc19bcd3b46c295cab2e9a06373b8",
       "version_major": 2,
       "version_minor": 0
      },
      "text/plain": [
       "HBox(children=(IntProgress(value=0, max=14), HTML(value='')))"
      ]
     },
     "metadata": {},
     "output_type": "display_data"
    },
    {
     "name": "stdout",
     "output_type": "stream",
     "text": [
      "\n"
     ]
    },
    {
     "data": {
      "application/vnd.jupyter.widget-view+json": {
       "model_id": "a884e8bb84fb4485aa9e532dbf897243",
       "version_major": 2,
       "version_minor": 0
      },
      "text/plain": [
       "HBox(children=(IntProgress(value=0, max=14), HTML(value='')))"
      ]
     },
     "metadata": {},
     "output_type": "display_data"
    },
    {
     "name": "stdout",
     "output_type": "stream",
     "text": [
      "\n"
     ]
    },
    {
     "data": {
      "application/vnd.jupyter.widget-view+json": {
       "model_id": "b6e818789f954cd394cc1e77af10bad9",
       "version_major": 2,
       "version_minor": 0
      },
      "text/plain": [
       "HBox(children=(IntProgress(value=0, max=14), HTML(value='')))"
      ]
     },
     "metadata": {},
     "output_type": "display_data"
    },
    {
     "name": "stdout",
     "output_type": "stream",
     "text": [
      "\n"
     ]
    },
    {
     "data": {
      "application/vnd.jupyter.widget-view+json": {
       "model_id": "a696ba2318184e579459b29d93165fec",
       "version_major": 2,
       "version_minor": 0
      },
      "text/plain": [
       "HBox(children=(IntProgress(value=0, max=14), HTML(value='')))"
      ]
     },
     "metadata": {},
     "output_type": "display_data"
    },
    {
     "name": "stdout",
     "output_type": "stream",
     "text": [
      "\n"
     ]
    },
    {
     "data": {
      "application/vnd.jupyter.widget-view+json": {
       "model_id": "614b77e912d047288b22d90e72a4186a",
       "version_major": 2,
       "version_minor": 0
      },
      "text/plain": [
       "HBox(children=(IntProgress(value=0, max=14), HTML(value='')))"
      ]
     },
     "metadata": {},
     "output_type": "display_data"
    },
    {
     "name": "stdout",
     "output_type": "stream",
     "text": [
      "\n"
     ]
    },
    {
     "data": {
      "application/vnd.jupyter.widget-view+json": {
       "model_id": "ee7eefe1ad2f4fc5bc02eba0a4bc1442",
       "version_major": 2,
       "version_minor": 0
      },
      "text/plain": [
       "HBox(children=(IntProgress(value=0, max=14), HTML(value='')))"
      ]
     },
     "metadata": {},
     "output_type": "display_data"
    },
    {
     "name": "stdout",
     "output_type": "stream",
     "text": [
      "\n"
     ]
    },
    {
     "data": {
      "application/vnd.jupyter.widget-view+json": {
       "model_id": "0b412b28f9034f9ca13116ee4f1a8cd9",
       "version_major": 2,
       "version_minor": 0
      },
      "text/plain": [
       "HBox(children=(IntProgress(value=0, max=14), HTML(value='')))"
      ]
     },
     "metadata": {},
     "output_type": "display_data"
    },
    {
     "name": "stdout",
     "output_type": "stream",
     "text": [
      "\n"
     ]
    },
    {
     "data": {
      "application/vnd.jupyter.widget-view+json": {
       "model_id": "4a2d4b70eecd4faa831fde45b71710ef",
       "version_major": 2,
       "version_minor": 0
      },
      "text/plain": [
       "HBox(children=(IntProgress(value=0, max=14), HTML(value='')))"
      ]
     },
     "metadata": {},
     "output_type": "display_data"
    },
    {
     "name": "stdout",
     "output_type": "stream",
     "text": [
      "\n"
     ]
    },
    {
     "data": {
      "application/vnd.jupyter.widget-view+json": {
       "model_id": "7e4931b4237547d986a4c2df1fda73fd",
       "version_major": 2,
       "version_minor": 0
      },
      "text/plain": [
       "HBox(children=(IntProgress(value=0, max=14), HTML(value='')))"
      ]
     },
     "metadata": {},
     "output_type": "display_data"
    },
    {
     "name": "stdout",
     "output_type": "stream",
     "text": [
      "\n"
     ]
    },
    {
     "data": {
      "application/vnd.jupyter.widget-view+json": {
       "model_id": "ce00fedb002b4437a4a29a131ce7a4d7",
       "version_major": 2,
       "version_minor": 0
      },
      "text/plain": [
       "HBox(children=(IntProgress(value=0, max=14), HTML(value='')))"
      ]
     },
     "metadata": {},
     "output_type": "display_data"
    },
    {
     "name": "stdout",
     "output_type": "stream",
     "text": [
      "\n"
     ]
    },
    {
     "data": {
      "application/vnd.jupyter.widget-view+json": {
       "model_id": "6285084b3d024db183ef053bf67208ab",
       "version_major": 2,
       "version_minor": 0
      },
      "text/plain": [
       "HBox(children=(IntProgress(value=0, max=14), HTML(value='')))"
      ]
     },
     "metadata": {},
     "output_type": "display_data"
    },
    {
     "name": "stdout",
     "output_type": "stream",
     "text": [
      "\n"
     ]
    },
    {
     "data": {
      "application/vnd.jupyter.widget-view+json": {
       "model_id": "f54708e91bc04340a2ef9c66babd126d",
       "version_major": 2,
       "version_minor": 0
      },
      "text/plain": [
       "HBox(children=(IntProgress(value=0, max=14), HTML(value='')))"
      ]
     },
     "metadata": {},
     "output_type": "display_data"
    },
    {
     "name": "stdout",
     "output_type": "stream",
     "text": [
      "\n"
     ]
    },
    {
     "data": {
      "application/vnd.jupyter.widget-view+json": {
       "model_id": "34208a356b8f49ada35d51850836ca87",
       "version_major": 2,
       "version_minor": 0
      },
      "text/plain": [
       "HBox(children=(IntProgress(value=0, max=14), HTML(value='')))"
      ]
     },
     "metadata": {},
     "output_type": "display_data"
    },
    {
     "name": "stdout",
     "output_type": "stream",
     "text": [
      "\n"
     ]
    },
    {
     "data": {
      "application/vnd.jupyter.widget-view+json": {
       "model_id": "480d7b770ff84e828bedbffb8971e8fa",
       "version_major": 2,
       "version_minor": 0
      },
      "text/plain": [
       "HBox(children=(IntProgress(value=0, max=14), HTML(value='')))"
      ]
     },
     "metadata": {},
     "output_type": "display_data"
    },
    {
     "name": "stdout",
     "output_type": "stream",
     "text": [
      "\n"
     ]
    },
    {
     "data": {
      "application/vnd.jupyter.widget-view+json": {
       "model_id": "75cc9ffd82a44f42b93b892ec550de64",
       "version_major": 2,
       "version_minor": 0
      },
      "text/plain": [
       "HBox(children=(IntProgress(value=0, max=14), HTML(value='')))"
      ]
     },
     "metadata": {},
     "output_type": "display_data"
    },
    {
     "name": "stdout",
     "output_type": "stream",
     "text": [
      "\n"
     ]
    },
    {
     "data": {
      "application/vnd.jupyter.widget-view+json": {
       "model_id": "d4c9f79e92114349a5d5fa83c87e14b3",
       "version_major": 2,
       "version_minor": 0
      },
      "text/plain": [
       "HBox(children=(IntProgress(value=0, max=14), HTML(value='')))"
      ]
     },
     "metadata": {},
     "output_type": "display_data"
    },
    {
     "name": "stdout",
     "output_type": "stream",
     "text": [
      "\n"
     ]
    },
    {
     "data": {
      "application/vnd.jupyter.widget-view+json": {
       "model_id": "a5630834fac74470870d5b64fac4457b",
       "version_major": 2,
       "version_minor": 0
      },
      "text/plain": [
       "HBox(children=(IntProgress(value=0, max=14), HTML(value='')))"
      ]
     },
     "metadata": {},
     "output_type": "display_data"
    },
    {
     "name": "stdout",
     "output_type": "stream",
     "text": [
      "\n"
     ]
    },
    {
     "data": {
      "application/vnd.jupyter.widget-view+json": {
       "model_id": "e5c4de36661b4990b99fe6debc4c7fcc",
       "version_major": 2,
       "version_minor": 0
      },
      "text/plain": [
       "HBox(children=(IntProgress(value=0, max=14), HTML(value='')))"
      ]
     },
     "metadata": {},
     "output_type": "display_data"
    },
    {
     "name": "stdout",
     "output_type": "stream",
     "text": [
      "\n"
     ]
    },
    {
     "data": {
      "application/vnd.jupyter.widget-view+json": {
       "model_id": "a4798d9a89064c2ca3b16ff87bdd120a",
       "version_major": 2,
       "version_minor": 0
      },
      "text/plain": [
       "HBox(children=(IntProgress(value=0, max=14), HTML(value='')))"
      ]
     },
     "metadata": {},
     "output_type": "display_data"
    },
    {
     "name": "stdout",
     "output_type": "stream",
     "text": [
      "\n"
     ]
    },
    {
     "data": {
      "application/vnd.jupyter.widget-view+json": {
       "model_id": "c3d22b5744df4328a640babdbab5819a",
       "version_major": 2,
       "version_minor": 0
      },
      "text/plain": [
       "HBox(children=(IntProgress(value=0, max=14), HTML(value='')))"
      ]
     },
     "metadata": {},
     "output_type": "display_data"
    },
    {
     "name": "stdout",
     "output_type": "stream",
     "text": [
      "\n"
     ]
    },
    {
     "data": {
      "application/vnd.jupyter.widget-view+json": {
       "model_id": "97d981e8a1164636b9bf84777a23426d",
       "version_major": 2,
       "version_minor": 0
      },
      "text/plain": [
       "HBox(children=(IntProgress(value=0, max=14), HTML(value='')))"
      ]
     },
     "metadata": {},
     "output_type": "display_data"
    },
    {
     "name": "stdout",
     "output_type": "stream",
     "text": [
      "\n"
     ]
    },
    {
     "data": {
      "application/vnd.jupyter.widget-view+json": {
       "model_id": "1e414644a18c4b1f943afca0d5468f79",
       "version_major": 2,
       "version_minor": 0
      },
      "text/plain": [
       "HBox(children=(IntProgress(value=0, max=14), HTML(value='')))"
      ]
     },
     "metadata": {},
     "output_type": "display_data"
    },
    {
     "name": "stdout",
     "output_type": "stream",
     "text": [
      "\n"
     ]
    },
    {
     "data": {
      "application/vnd.jupyter.widget-view+json": {
       "model_id": "5e3f5db127ba4f34bfc1e2241b136cf7",
       "version_major": 2,
       "version_minor": 0
      },
      "text/plain": [
       "HBox(children=(IntProgress(value=0, max=14), HTML(value='')))"
      ]
     },
     "metadata": {},
     "output_type": "display_data"
    },
    {
     "name": "stdout",
     "output_type": "stream",
     "text": [
      "\n"
     ]
    },
    {
     "data": {
      "application/vnd.jupyter.widget-view+json": {
       "model_id": "ec3a193d8af24da29dffede77d5937f5",
       "version_major": 2,
       "version_minor": 0
      },
      "text/plain": [
       "HBox(children=(IntProgress(value=0, max=14), HTML(value='')))"
      ]
     },
     "metadata": {},
     "output_type": "display_data"
    },
    {
     "name": "stdout",
     "output_type": "stream",
     "text": [
      "\n"
     ]
    },
    {
     "data": {
      "application/vnd.jupyter.widget-view+json": {
       "model_id": "56d4baab089f4a3baba62d52105e57d1",
       "version_major": 2,
       "version_minor": 0
      },
      "text/plain": [
       "HBox(children=(IntProgress(value=0, max=14), HTML(value='')))"
      ]
     },
     "metadata": {},
     "output_type": "display_data"
    },
    {
     "name": "stdout",
     "output_type": "stream",
     "text": [
      "\n"
     ]
    },
    {
     "data": {
      "application/vnd.jupyter.widget-view+json": {
       "model_id": "3a5b5bb9ca3045038d6f6b6bacd2d979",
       "version_major": 2,
       "version_minor": 0
      },
      "text/plain": [
       "HBox(children=(IntProgress(value=0, max=14), HTML(value='')))"
      ]
     },
     "metadata": {},
     "output_type": "display_data"
    },
    {
     "name": "stdout",
     "output_type": "stream",
     "text": [
      "\n"
     ]
    },
    {
     "data": {
      "application/vnd.jupyter.widget-view+json": {
       "model_id": "89ab6983298f448f8ca28a48686b8efc",
       "version_major": 2,
       "version_minor": 0
      },
      "text/plain": [
       "HBox(children=(IntProgress(value=0, max=14), HTML(value='')))"
      ]
     },
     "metadata": {},
     "output_type": "display_data"
    },
    {
     "name": "stdout",
     "output_type": "stream",
     "text": [
      "\n"
     ]
    },
    {
     "data": {
      "application/vnd.jupyter.widget-view+json": {
       "model_id": "86ed8f0efc554a5ebff1e03f94a25b2e",
       "version_major": 2,
       "version_minor": 0
      },
      "text/plain": [
       "HBox(children=(IntProgress(value=0, max=14), HTML(value='')))"
      ]
     },
     "metadata": {},
     "output_type": "display_data"
    },
    {
     "name": "stdout",
     "output_type": "stream",
     "text": [
      "\n"
     ]
    },
    {
     "data": {
      "application/vnd.jupyter.widget-view+json": {
       "model_id": "72e758427f7b4dbf963c715af0fa8439",
       "version_major": 2,
       "version_minor": 0
      },
      "text/plain": [
       "HBox(children=(IntProgress(value=0, max=14), HTML(value='')))"
      ]
     },
     "metadata": {},
     "output_type": "display_data"
    },
    {
     "name": "stdout",
     "output_type": "stream",
     "text": [
      "\n"
     ]
    },
    {
     "data": {
      "application/vnd.jupyter.widget-view+json": {
       "model_id": "726dde2458e44e33a57ce0c81f797565",
       "version_major": 2,
       "version_minor": 0
      },
      "text/plain": [
       "HBox(children=(IntProgress(value=0, max=14), HTML(value='')))"
      ]
     },
     "metadata": {},
     "output_type": "display_data"
    },
    {
     "name": "stdout",
     "output_type": "stream",
     "text": [
      "\n"
     ]
    },
    {
     "data": {
      "application/vnd.jupyter.widget-view+json": {
       "model_id": "d42d412c3b4b4739be569d5ac3c9eeb7",
       "version_major": 2,
       "version_minor": 0
      },
      "text/plain": [
       "HBox(children=(IntProgress(value=0, max=14), HTML(value='')))"
      ]
     },
     "metadata": {},
     "output_type": "display_data"
    },
    {
     "name": "stdout",
     "output_type": "stream",
     "text": [
      "\n"
     ]
    },
    {
     "data": {
      "application/vnd.jupyter.widget-view+json": {
       "model_id": "a939fd9a8b314f44a028421395c0eefc",
       "version_major": 2,
       "version_minor": 0
      },
      "text/plain": [
       "HBox(children=(IntProgress(value=0, max=14), HTML(value='')))"
      ]
     },
     "metadata": {},
     "output_type": "display_data"
    },
    {
     "name": "stdout",
     "output_type": "stream",
     "text": [
      "\n"
     ]
    },
    {
     "data": {
      "application/vnd.jupyter.widget-view+json": {
       "model_id": "c5b6218e6c254b8e964ab348a29ce7f8",
       "version_major": 2,
       "version_minor": 0
      },
      "text/plain": [
       "HBox(children=(IntProgress(value=0, max=14), HTML(value='')))"
      ]
     },
     "metadata": {},
     "output_type": "display_data"
    },
    {
     "name": "stdout",
     "output_type": "stream",
     "text": [
      "\n"
     ]
    },
    {
     "data": {
      "application/vnd.jupyter.widget-view+json": {
       "model_id": "8e822eb4887a4fb3b5b1dfeae3f20bd2",
       "version_major": 2,
       "version_minor": 0
      },
      "text/plain": [
       "HBox(children=(IntProgress(value=0, max=14), HTML(value='')))"
      ]
     },
     "metadata": {},
     "output_type": "display_data"
    },
    {
     "name": "stdout",
     "output_type": "stream",
     "text": [
      "\n"
     ]
    },
    {
     "data": {
      "application/vnd.jupyter.widget-view+json": {
       "model_id": "0fcf32e0b75043cdbbb2046ed46eab7c",
       "version_major": 2,
       "version_minor": 0
      },
      "text/plain": [
       "HBox(children=(IntProgress(value=0, max=14), HTML(value='')))"
      ]
     },
     "metadata": {},
     "output_type": "display_data"
    },
    {
     "name": "stdout",
     "output_type": "stream",
     "text": [
      "\n"
     ]
    },
    {
     "data": {
      "application/vnd.jupyter.widget-view+json": {
       "model_id": "457a537f58e44066acbd7f6ead3bf9fc",
       "version_major": 2,
       "version_minor": 0
      },
      "text/plain": [
       "HBox(children=(IntProgress(value=0, max=14), HTML(value='')))"
      ]
     },
     "metadata": {},
     "output_type": "display_data"
    },
    {
     "name": "stdout",
     "output_type": "stream",
     "text": [
      "\n"
     ]
    },
    {
     "data": {
      "application/vnd.jupyter.widget-view+json": {
       "model_id": "3ca60acc74fd4f248c59a8a26931036e",
       "version_major": 2,
       "version_minor": 0
      },
      "text/plain": [
       "HBox(children=(IntProgress(value=0, max=14), HTML(value='')))"
      ]
     },
     "metadata": {},
     "output_type": "display_data"
    },
    {
     "name": "stdout",
     "output_type": "stream",
     "text": [
      "\n"
     ]
    },
    {
     "data": {
      "application/vnd.jupyter.widget-view+json": {
       "model_id": "b048d554d85545789dd8bd217716dc32",
       "version_major": 2,
       "version_minor": 0
      },
      "text/plain": [
       "HBox(children=(IntProgress(value=0, max=14), HTML(value='')))"
      ]
     },
     "metadata": {},
     "output_type": "display_data"
    },
    {
     "name": "stdout",
     "output_type": "stream",
     "text": [
      "\n"
     ]
    },
    {
     "data": {
      "application/vnd.jupyter.widget-view+json": {
       "model_id": "2c8f30bd930140fd94b81125d607df1b",
       "version_major": 2,
       "version_minor": 0
      },
      "text/plain": [
       "HBox(children=(IntProgress(value=0, max=14), HTML(value='')))"
      ]
     },
     "metadata": {},
     "output_type": "display_data"
    },
    {
     "name": "stdout",
     "output_type": "stream",
     "text": [
      "\n"
     ]
    },
    {
     "data": {
      "application/vnd.jupyter.widget-view+json": {
       "model_id": "c94d83028f4742528fd4bce56e1d6359",
       "version_major": 2,
       "version_minor": 0
      },
      "text/plain": [
       "HBox(children=(IntProgress(value=0, max=14), HTML(value='')))"
      ]
     },
     "metadata": {},
     "output_type": "display_data"
    },
    {
     "name": "stdout",
     "output_type": "stream",
     "text": [
      "\n"
     ]
    },
    {
     "data": {
      "application/vnd.jupyter.widget-view+json": {
       "model_id": "e7ecea89ff314937bc7477baec5493d5",
       "version_major": 2,
       "version_minor": 0
      },
      "text/plain": [
       "HBox(children=(IntProgress(value=0, max=14), HTML(value='')))"
      ]
     },
     "metadata": {},
     "output_type": "display_data"
    },
    {
     "name": "stdout",
     "output_type": "stream",
     "text": [
      "\n"
     ]
    },
    {
     "data": {
      "application/vnd.jupyter.widget-view+json": {
       "model_id": "221924ad8df94a78a7b0a41a76b94425",
       "version_major": 2,
       "version_minor": 0
      },
      "text/plain": [
       "HBox(children=(IntProgress(value=0, max=14), HTML(value='')))"
      ]
     },
     "metadata": {},
     "output_type": "display_data"
    },
    {
     "name": "stdout",
     "output_type": "stream",
     "text": [
      "\n"
     ]
    },
    {
     "data": {
      "application/vnd.jupyter.widget-view+json": {
       "model_id": "711dfade19944ba5b7363f7008e4d27e",
       "version_major": 2,
       "version_minor": 0
      },
      "text/plain": [
       "HBox(children=(IntProgress(value=0, max=14), HTML(value='')))"
      ]
     },
     "metadata": {},
     "output_type": "display_data"
    },
    {
     "name": "stdout",
     "output_type": "stream",
     "text": [
      "\n"
     ]
    },
    {
     "data": {
      "application/vnd.jupyter.widget-view+json": {
       "model_id": "7817b7d5c8c2421bb5e5fc5363212353",
       "version_major": 2,
       "version_minor": 0
      },
      "text/plain": [
       "HBox(children=(IntProgress(value=0, max=14), HTML(value='')))"
      ]
     },
     "metadata": {},
     "output_type": "display_data"
    },
    {
     "name": "stdout",
     "output_type": "stream",
     "text": [
      "\n"
     ]
    },
    {
     "data": {
      "application/vnd.jupyter.widget-view+json": {
       "model_id": "c9a08038a88e45b9adf4ffac506b5123",
       "version_major": 2,
       "version_minor": 0
      },
      "text/plain": [
       "HBox(children=(IntProgress(value=0, max=14), HTML(value='')))"
      ]
     },
     "metadata": {},
     "output_type": "display_data"
    },
    {
     "name": "stdout",
     "output_type": "stream",
     "text": [
      "\n"
     ]
    },
    {
     "data": {
      "application/vnd.jupyter.widget-view+json": {
       "model_id": "cb58a9fe61a9430286b6f73c751c3bcc",
       "version_major": 2,
       "version_minor": 0
      },
      "text/plain": [
       "HBox(children=(IntProgress(value=0, max=14), HTML(value='')))"
      ]
     },
     "metadata": {},
     "output_type": "display_data"
    },
    {
     "name": "stdout",
     "output_type": "stream",
     "text": [
      "\n"
     ]
    }
   ],
   "source": [
    "#%%\n",
    "for ep in range(epochs):\n",
    "    with tqdm_notebook(total=len(loader)) as bar:\n",
    "        for batch_idx, batch in enumerate(loader):\n",
    "            optimizer.zero_grad()\n",
    "            frame_seqs = batch['frame_seq'].to(device).float() # (BATCHSIZE, SEQ_LEN, 3, 64, 64)\n",
    "            action_seqs = batch['action_seq'].to(device).float().unsqueeze(2) # (BATCHSIZE, SEQ_LEN)\n",
    "            latent_seqs = to_latent(frame_seqs, vae) # (BATCHSIZE, SEQ_LEN, LATENT_SIZE)\n",
    "\n",
    "            curr_latent = latent_seqs[:,:-1]\n",
    "            curr_actions = action_seqs[:,:-1]\n",
    "            next_latent = latent_seqs[:,1:]\n",
    "            mus, logsigmas, logpis, rnn_out, _ = model(curr_latent, curr_actions, prev_rnn_hidden=None)\n",
    "\n",
    "            loss = model.loss(next_latent, mus, logsigmas, logpis)\n",
    "            loss.backward()\n",
    "            losses.append(loss.detach().cpu().numpy())\n",
    "            optimizer.step()\n",
    "            \n",
    "            bar.update(1)\n",
    "            bar.set_postfix(ep=ep, avg_loss=sum(losses[-(batch_idx+1):])/(batch_idx+1))"
   ]
  },
  {
   "cell_type": "markdown",
   "metadata": {},
   "source": [
    "### Training Loss"
   ]
  },
  {
   "cell_type": "code",
   "execution_count": 9,
   "metadata": {},
   "outputs": [
    {
     "data": {
      "text/plain": [
       "[<matplotlib.lines.Line2D at 0x7f21b8d62860>]"
      ]
     },
     "execution_count": 9,
     "metadata": {},
     "output_type": "execute_result"
    },
    {
     "data": {
      "image/png": "[encoded data removed]",
      "text/plain": [
       "<Figure size 432x288 with 1 Axes>"
      ]
     },
     "metadata": {},
     "output_type": "display_data"
    }
   ],
   "source": [
    "np_losses = np.array(losses)\n",
    "plt.plot(np_losses)"
   ]
  },
  {
   "cell_type": "code",
   "execution_count": 10,
   "metadata": {},
   "outputs": [],
   "source": [
    "def sample_gmm(mu, logsigma, logpi):\n",
    "    choice = torch.distributions.categorical.Categorical(F.softmax(logpi, dim=0)).sample()\n",
    "    dist = torch.distributions.normal.Normal(mu[choice], logsigma[choice].exp())\n",
    "    return dist.sample()"
   ]
  },
  {
   "cell_type": "markdown",
   "metadata": {},
   "source": [
    "### Difference from truth"
   ]
  },
  {
   "cell_type": "markdown",
   "metadata": {},
   "source": [
    "Given a rollout, see the difference between the actual frame (encoded then decoded) and the predicted state (decoded from predicted latent)"
   ]
  },
  {
   "cell_type": "code",
   "execution_count": 47,
   "metadata": {},
   "outputs": [],
   "source": [
    "model = rnn"
   ]
  },
  {
   "cell_type": "code",
   "execution_count": 50,
   "metadata": {},
   "outputs": [
    {
     "data": {
      "text/plain": [
       "MDNRNN(\n",
       "  (rnn): LSTM(33, 256, num_layers=2)\n",
       "  (gmm): GMM(\n",
       "    (net): Linear(in_features=256, out_features=326, bias=True)\n",
       "  )\n",
       ")"
      ]
     },
     "execution_count": 50,
     "metadata": {},
     "output_type": "execute_result"
    }
   ],
   "source": [
    "rnn"
   ]
  },
  {
   "cell_type": "code",
   "execution_count": 49,
   "metadata": {},
   "outputs": [
    {
     "name": "stderr",
     "output_type": "stream",
     "text": [
      "/home/ubuntu/598rl/project/agou2_dusad2/code/model/mdnrnn.py:88: UserWarning: RNN module weights are not part of single contiguous chunk of memory. This means they need to be compacted at every call, possibly greatly increasing memory usage. To compact weights again call flatten_parameters().\n",
      "  rnn_out, rnn_hidden = self.rnn(inputs, prev_rnn_hidden) # hidden_state is zero\n"
     ]
    },
    {
     "ename": "RuntimeError",
     "evalue": "param_from.type() == param_to.type() ASSERT FAILED at /opt/conda/conda-bld/pytorch_1533672544752/work/aten/src/ATen/native/cudnn/RNN.cpp:491, please report a bug to PyTorch. parameter types mismatch",
     "output_type": "error",
     "traceback": [
      "\u001b[0;31m---------------------------------------------------------------------------\u001b[0m",
      "\u001b[0;31mRuntimeError\u001b[0m                              Traceback (most recent call last)",
      "\u001b[0;32m<ipython-input-49-ef147062ff79>\u001b[0m in \u001b[0;36m<module>\u001b[0;34m()\u001b[0m\n\u001b[1;32m     14\u001b[0m \u001b[0;34m\u001b[0m\u001b[0m\n\u001b[1;32m     15\u001b[0m \u001b[0mlatent_seq\u001b[0m \u001b[0;34m=\u001b[0m \u001b[0mall_latent_seq\u001b[0m\u001b[0;34m[\u001b[0m\u001b[0;34m:\u001b[0m\u001b[0;34m,\u001b[0m\u001b[0;34m:\u001b[0m\u001b[0;34m-\u001b[0m\u001b[0;36m1\u001b[0m\u001b[0;34m]\u001b[0m\u001b[0;34m\u001b[0m\u001b[0;34m\u001b[0m\u001b[0m\n\u001b[0;32m---> 16\u001b[0;31m \u001b[0mmus\u001b[0m\u001b[0;34m,\u001b[0m \u001b[0mlogsigmas\u001b[0m\u001b[0;34m,\u001b[0m \u001b[0mlogpis\u001b[0m\u001b[0;34m,\u001b[0m \u001b[0mrnn_out\u001b[0m\u001b[0;34m,\u001b[0m \u001b[0m_\u001b[0m\u001b[0;34m,\u001b[0m \u001b[0mpredicted_rewards\u001b[0m \u001b[0;34m=\u001b[0m \u001b[0mmodel\u001b[0m\u001b[0;34m(\u001b[0m\u001b[0mlatent_seq\u001b[0m\u001b[0;34m,\u001b[0m \u001b[0maction_seq\u001b[0m\u001b[0;34m,\u001b[0m \u001b[0mprev_rnn_hidden\u001b[0m\u001b[0;34m=\u001b[0m\u001b[0;32mNone\u001b[0m\u001b[0;34m)\u001b[0m\u001b[0;34m\u001b[0m\u001b[0;34m\u001b[0m\u001b[0m\n\u001b[0m\u001b[1;32m     17\u001b[0m \u001b[0mmus\u001b[0m\u001b[0;34m,\u001b[0m \u001b[0mlogsigmas\u001b[0m\u001b[0;34m,\u001b[0m \u001b[0mlogpis\u001b[0m \u001b[0;34m=\u001b[0m \u001b[0mmus\u001b[0m\u001b[0;34m.\u001b[0m\u001b[0msqueeze\u001b[0m\u001b[0;34m(\u001b[0m\u001b[0;34m)\u001b[0m\u001b[0;34m,\u001b[0m \u001b[0mlogsigmas\u001b[0m\u001b[0;34m.\u001b[0m\u001b[0msqueeze\u001b[0m\u001b[0;34m(\u001b[0m\u001b[0;34m)\u001b[0m\u001b[0;34m,\u001b[0m \u001b[0mlogpis\u001b[0m\u001b[0;34m.\u001b[0m\u001b[0msqueeze\u001b[0m\u001b[0;34m(\u001b[0m\u001b[0;34m)\u001b[0m\u001b[0;34m\u001b[0m\u001b[0;34m\u001b[0m\u001b[0m\n\u001b[1;32m     18\u001b[0m \u001b[0mpred_next_latent_seq\u001b[0m \u001b[0;34m=\u001b[0m \u001b[0mtorch\u001b[0m\u001b[0;34m.\u001b[0m\u001b[0mstack\u001b[0m\u001b[0;34m(\u001b[0m\u001b[0;34m[\u001b[0m\u001b[0msample_gmm\u001b[0m\u001b[0;34m(\u001b[0m\u001b[0mmus\u001b[0m\u001b[0;34m[\u001b[0m\u001b[0mi\u001b[0m\u001b[0;34m]\u001b[0m\u001b[0;34m,\u001b[0m \u001b[0mlogsigmas\u001b[0m\u001b[0;34m[\u001b[0m\u001b[0mi\u001b[0m\u001b[0;34m]\u001b[0m\u001b[0;34m,\u001b[0m \u001b[0mlogpis\u001b[0m\u001b[0;34m[\u001b[0m\u001b[0mi\u001b[0m\u001b[0;34m]\u001b[0m\u001b[0;34m)\u001b[0m \u001b[0;32mfor\u001b[0m \u001b[0mi\u001b[0m \u001b[0;32min\u001b[0m \u001b[0mrange\u001b[0m\u001b[0;34m(\u001b[0m\u001b[0mlen\u001b[0m\u001b[0;34m(\u001b[0m\u001b[0mlogsigmas\u001b[0m\u001b[0;34m)\u001b[0m\u001b[0;34m)\u001b[0m\u001b[0;34m]\u001b[0m\u001b[0;34m)\u001b[0m\u001b[0;34m\u001b[0m\u001b[0;34m\u001b[0m\u001b[0m\n",
      "\u001b[0;32m~/anaconda3/envs/pytorch_p36/lib/python3.6/site-packages/torch/nn/modules/module.py\u001b[0m in \u001b[0;36m__call__\u001b[0;34m(self, *input, **kwargs)\u001b[0m\n\u001b[1;32m    475\u001b[0m             \u001b[0mresult\u001b[0m \u001b[0;34m=\u001b[0m \u001b[0mself\u001b[0m\u001b[0;34m.\u001b[0m\u001b[0m_slow_forward\u001b[0m\u001b[0;34m(\u001b[0m\u001b[0;34m*\u001b[0m\u001b[0minput\u001b[0m\u001b[0;34m,\u001b[0m \u001b[0;34m**\u001b[0m\u001b[0mkwargs\u001b[0m\u001b[0;34m)\u001b[0m\u001b[0;34m\u001b[0m\u001b[0;34m\u001b[0m\u001b[0m\n\u001b[1;32m    476\u001b[0m         \u001b[0;32melse\u001b[0m\u001b[0;34m:\u001b[0m\u001b[0;34m\u001b[0m\u001b[0;34m\u001b[0m\u001b[0m\n\u001b[0;32m--> 477\u001b[0;31m             \u001b[0mresult\u001b[0m \u001b[0;34m=\u001b[0m \u001b[0mself\u001b[0m\u001b[0;34m.\u001b[0m\u001b[0mforward\u001b[0m\u001b[0;34m(\u001b[0m\u001b[0;34m*\u001b[0m\u001b[0minput\u001b[0m\u001b[0;34m,\u001b[0m \u001b[0;34m**\u001b[0m\u001b[0mkwargs\u001b[0m\u001b[0;34m)\u001b[0m\u001b[0;34m\u001b[0m\u001b[0;34m\u001b[0m\u001b[0m\n\u001b[0m\u001b[1;32m    478\u001b[0m         \u001b[0;32mfor\u001b[0m \u001b[0mhook\u001b[0m \u001b[0;32min\u001b[0m \u001b[0mself\u001b[0m\u001b[0;34m.\u001b[0m\u001b[0m_forward_hooks\u001b[0m\u001b[0;34m.\u001b[0m\u001b[0mvalues\u001b[0m\u001b[0;34m(\u001b[0m\u001b[0;34m)\u001b[0m\u001b[0;34m:\u001b[0m\u001b[0;34m\u001b[0m\u001b[0;34m\u001b[0m\u001b[0m\n\u001b[1;32m    479\u001b[0m             \u001b[0mhook_result\u001b[0m \u001b[0;34m=\u001b[0m \u001b[0mhook\u001b[0m\u001b[0;34m(\u001b[0m\u001b[0mself\u001b[0m\u001b[0;34m,\u001b[0m \u001b[0minput\u001b[0m\u001b[0;34m,\u001b[0m \u001b[0mresult\u001b[0m\u001b[0;34m)\u001b[0m\u001b[0;34m\u001b[0m\u001b[0;34m\u001b[0m\u001b[0m\n",
      "\u001b[0;32m~/598rl/project/agou2_dusad2/code/model/mdnrnn.py\u001b[0m in \u001b[0;36mforward\u001b[0;34m(self, latents, actions, prev_rnn_hidden)\u001b[0m\n\u001b[1;32m     86\u001b[0m     \u001b[0;32mdef\u001b[0m \u001b[0mforward\u001b[0m\u001b[0;34m(\u001b[0m\u001b[0mself\u001b[0m\u001b[0;34m,\u001b[0m \u001b[0mlatents\u001b[0m\u001b[0;34m,\u001b[0m \u001b[0mactions\u001b[0m\u001b[0;34m,\u001b[0m \u001b[0mprev_rnn_hidden\u001b[0m\u001b[0;34m=\u001b[0m\u001b[0;32mNone\u001b[0m\u001b[0;34m)\u001b[0m\u001b[0;34m:\u001b[0m\u001b[0;34m\u001b[0m\u001b[0;34m\u001b[0m\u001b[0m\n\u001b[1;32m     87\u001b[0m         \u001b[0minputs\u001b[0m \u001b[0;34m=\u001b[0m \u001b[0mtorch\u001b[0m\u001b[0;34m.\u001b[0m\u001b[0mcat\u001b[0m\u001b[0;34m(\u001b[0m\u001b[0;34m[\u001b[0m\u001b[0mactions\u001b[0m\u001b[0;34m,\u001b[0m \u001b[0mlatents\u001b[0m\u001b[0;34m]\u001b[0m\u001b[0;34m,\u001b[0m \u001b[0;34m-\u001b[0m\u001b[0;36m1\u001b[0m\u001b[0;34m)\u001b[0m\u001b[0;34m\u001b[0m\u001b[0;34m\u001b[0m\u001b[0m\n\u001b[0;32m---> 88\u001b[0;31m         \u001b[0mrnn_out\u001b[0m\u001b[0;34m,\u001b[0m \u001b[0mrnn_hidden\u001b[0m \u001b[0;34m=\u001b[0m \u001b[0mself\u001b[0m\u001b[0;34m.\u001b[0m\u001b[0mrnn\u001b[0m\u001b[0;34m(\u001b[0m\u001b[0minputs\u001b[0m\u001b[0;34m,\u001b[0m \u001b[0mprev_rnn_hidden\u001b[0m\u001b[0;34m)\u001b[0m \u001b[0;31m# hidden_state is zero\u001b[0m\u001b[0;34m\u001b[0m\u001b[0;34m\u001b[0m\u001b[0m\n\u001b[0m\u001b[1;32m     89\u001b[0m         \u001b[0mmus\u001b[0m\u001b[0;34m,\u001b[0m \u001b[0mlogsigmas\u001b[0m\u001b[0;34m,\u001b[0m \u001b[0mlogpis\u001b[0m\u001b[0;34m,\u001b[0m \u001b[0mpredicted_rewards\u001b[0m \u001b[0;34m=\u001b[0m \u001b[0mself\u001b[0m\u001b[0;34m.\u001b[0m\u001b[0mgmm\u001b[0m\u001b[0;34m(\u001b[0m\u001b[0mrnn_out\u001b[0m\u001b[0;34m)\u001b[0m\u001b[0;34m\u001b[0m\u001b[0;34m\u001b[0m\u001b[0m\n\u001b[1;32m     90\u001b[0m         \u001b[0;32mreturn\u001b[0m \u001b[0mmus\u001b[0m\u001b[0;34m,\u001b[0m \u001b[0mlogsigmas\u001b[0m\u001b[0;34m,\u001b[0m \u001b[0mlogpis\u001b[0m\u001b[0;34m,\u001b[0m \u001b[0mrnn_out\u001b[0m\u001b[0;34m,\u001b[0m \u001b[0mrnn_hidden\u001b[0m\u001b[0;34m,\u001b[0m \u001b[0mpredicted_rewards\u001b[0m\u001b[0;34m\u001b[0m\u001b[0;34m\u001b[0m\u001b[0m\n",
      "\u001b[0;32m~/anaconda3/envs/pytorch_p36/lib/python3.6/site-packages/torch/nn/modules/module.py\u001b[0m in \u001b[0;36m__call__\u001b[0;34m(self, *input, **kwargs)\u001b[0m\n\u001b[1;32m    475\u001b[0m             \u001b[0mresult\u001b[0m \u001b[0;34m=\u001b[0m \u001b[0mself\u001b[0m\u001b[0;34m.\u001b[0m\u001b[0m_slow_forward\u001b[0m\u001b[0;34m(\u001b[0m\u001b[0;34m*\u001b[0m\u001b[0minput\u001b[0m\u001b[0;34m,\u001b[0m \u001b[0;34m**\u001b[0m\u001b[0mkwargs\u001b[0m\u001b[0;34m)\u001b[0m\u001b[0;34m\u001b[0m\u001b[0;34m\u001b[0m\u001b[0m\n\u001b[1;32m    476\u001b[0m         \u001b[0;32melse\u001b[0m\u001b[0;34m:\u001b[0m\u001b[0;34m\u001b[0m\u001b[0;34m\u001b[0m\u001b[0m\n\u001b[0;32m--> 477\u001b[0;31m             \u001b[0mresult\u001b[0m \u001b[0;34m=\u001b[0m \u001b[0mself\u001b[0m\u001b[0;34m.\u001b[0m\u001b[0mforward\u001b[0m\u001b[0;34m(\u001b[0m\u001b[0;34m*\u001b[0m\u001b[0minput\u001b[0m\u001b[0;34m,\u001b[0m \u001b[0;34m**\u001b[0m\u001b[0mkwargs\u001b[0m\u001b[0;34m)\u001b[0m\u001b[0;34m\u001b[0m\u001b[0;34m\u001b[0m\u001b[0m\n\u001b[0m\u001b[1;32m    478\u001b[0m         \u001b[0;32mfor\u001b[0m \u001b[0mhook\u001b[0m \u001b[0;32min\u001b[0m \u001b[0mself\u001b[0m\u001b[0;34m.\u001b[0m\u001b[0m_forward_hooks\u001b[0m\u001b[0;34m.\u001b[0m\u001b[0mvalues\u001b[0m\u001b[0;34m(\u001b[0m\u001b[0;34m)\u001b[0m\u001b[0;34m:\u001b[0m\u001b[0;34m\u001b[0m\u001b[0;34m\u001b[0m\u001b[0m\n\u001b[1;32m    479\u001b[0m             \u001b[0mhook_result\u001b[0m \u001b[0;34m=\u001b[0m \u001b[0mhook\u001b[0m\u001b[0;34m(\u001b[0m\u001b[0mself\u001b[0m\u001b[0;34m,\u001b[0m \u001b[0minput\u001b[0m\u001b[0;34m,\u001b[0m \u001b[0mresult\u001b[0m\u001b[0;34m)\u001b[0m\u001b[0;34m\u001b[0m\u001b[0;34m\u001b[0m\u001b[0m\n",
      "\u001b[0;32m~/anaconda3/envs/pytorch_p36/lib/python3.6/site-packages/torch/nn/modules/rnn.py\u001b[0m in \u001b[0;36mforward\u001b[0;34m(self, input, hx)\u001b[0m\n\u001b[1;32m    190\u001b[0m             \u001b[0mflat_weight\u001b[0m\u001b[0;34m=\u001b[0m\u001b[0mflat_weight\u001b[0m\u001b[0;34m\u001b[0m\u001b[0;34m\u001b[0m\u001b[0m\n\u001b[1;32m    191\u001b[0m         )\n\u001b[0;32m--> 192\u001b[0;31m         \u001b[0moutput\u001b[0m\u001b[0;34m,\u001b[0m \u001b[0mhidden\u001b[0m \u001b[0;34m=\u001b[0m \u001b[0mfunc\u001b[0m\u001b[0;34m(\u001b[0m\u001b[0minput\u001b[0m\u001b[0;34m,\u001b[0m \u001b[0mself\u001b[0m\u001b[0;34m.\u001b[0m\u001b[0mall_weights\u001b[0m\u001b[0;34m,\u001b[0m \u001b[0mhx\u001b[0m\u001b[0;34m,\u001b[0m \u001b[0mbatch_sizes\u001b[0m\u001b[0;34m)\u001b[0m\u001b[0;34m\u001b[0m\u001b[0;34m\u001b[0m\u001b[0m\n\u001b[0m\u001b[1;32m    193\u001b[0m         \u001b[0;32mif\u001b[0m \u001b[0mis_packed\u001b[0m\u001b[0;34m:\u001b[0m\u001b[0;34m\u001b[0m\u001b[0;34m\u001b[0m\u001b[0m\n\u001b[1;32m    194\u001b[0m             \u001b[0moutput\u001b[0m \u001b[0;34m=\u001b[0m \u001b[0mPackedSequence\u001b[0m\u001b[0;34m(\u001b[0m\u001b[0moutput\u001b[0m\u001b[0;34m,\u001b[0m \u001b[0mbatch_sizes\u001b[0m\u001b[0;34m)\u001b[0m\u001b[0;34m\u001b[0m\u001b[0;34m\u001b[0m\u001b[0m\n",
      "\u001b[0;32m~/anaconda3/envs/pytorch_p36/lib/python3.6/site-packages/torch/nn/_functions/rnn.py\u001b[0m in \u001b[0;36mforward\u001b[0;34m(input, *fargs, **fkwargs)\u001b[0m\n\u001b[1;32m    322\u001b[0m             \u001b[0mfunc\u001b[0m \u001b[0;34m=\u001b[0m \u001b[0mdecorator\u001b[0m\u001b[0;34m(\u001b[0m\u001b[0mfunc\u001b[0m\u001b[0;34m)\u001b[0m\u001b[0;34m\u001b[0m\u001b[0;34m\u001b[0m\u001b[0m\n\u001b[1;32m    323\u001b[0m \u001b[0;34m\u001b[0m\u001b[0m\n\u001b[0;32m--> 324\u001b[0;31m         \u001b[0;32mreturn\u001b[0m \u001b[0mfunc\u001b[0m\u001b[0;34m(\u001b[0m\u001b[0minput\u001b[0m\u001b[0;34m,\u001b[0m \u001b[0;34m*\u001b[0m\u001b[0mfargs\u001b[0m\u001b[0;34m,\u001b[0m \u001b[0;34m**\u001b[0m\u001b[0mfkwargs\u001b[0m\u001b[0;34m)\u001b[0m\u001b[0;34m\u001b[0m\u001b[0;34m\u001b[0m\u001b[0m\n\u001b[0m\u001b[1;32m    325\u001b[0m \u001b[0;34m\u001b[0m\u001b[0m\n\u001b[1;32m    326\u001b[0m     \u001b[0;32mreturn\u001b[0m \u001b[0mforward\u001b[0m\u001b[0;34m\u001b[0m\u001b[0;34m\u001b[0m\u001b[0m\n",
      "\u001b[0;32m~/anaconda3/envs/pytorch_p36/lib/python3.6/site-packages/torch/nn/_functions/rnn.py\u001b[0m in \u001b[0;36mforward\u001b[0;34m(input, weight, hx, batch_sizes)\u001b[0m\n\u001b[1;32m    286\u001b[0m             \u001b[0mbatch_first\u001b[0m\u001b[0;34m,\u001b[0m \u001b[0mdropout\u001b[0m\u001b[0;34m,\u001b[0m \u001b[0mtrain\u001b[0m\u001b[0;34m,\u001b[0m \u001b[0mbool\u001b[0m\u001b[0;34m(\u001b[0m\u001b[0mbidirectional\u001b[0m\u001b[0;34m)\u001b[0m\u001b[0;34m,\u001b[0m\u001b[0;34m\u001b[0m\u001b[0;34m\u001b[0m\u001b[0m\n\u001b[1;32m    287\u001b[0m             \u001b[0mlist\u001b[0m\u001b[0;34m(\u001b[0m\u001b[0mbatch_sizes\u001b[0m\u001b[0;34m.\u001b[0m\u001b[0mdata\u001b[0m\u001b[0;34m)\u001b[0m \u001b[0;32mif\u001b[0m \u001b[0mvariable_length\u001b[0m \u001b[0;32melse\u001b[0m \u001b[0;34m(\u001b[0m\u001b[0;34m)\u001b[0m\u001b[0;34m,\u001b[0m\u001b[0;34m\u001b[0m\u001b[0;34m\u001b[0m\u001b[0m\n\u001b[0;32m--> 288\u001b[0;31m             dropout_ts)\n\u001b[0m\u001b[1;32m    289\u001b[0m \u001b[0;34m\u001b[0m\u001b[0m\n\u001b[1;32m    290\u001b[0m         \u001b[0;32mif\u001b[0m \u001b[0mcx\u001b[0m \u001b[0;32mis\u001b[0m \u001b[0;32mnot\u001b[0m \u001b[0;32mNone\u001b[0m\u001b[0;34m:\u001b[0m\u001b[0;34m\u001b[0m\u001b[0;34m\u001b[0m\u001b[0m\n",
      "\u001b[0;31mRuntimeError\u001b[0m: param_from.type() == param_to.type() ASSERT FAILED at /opt/conda/conda-bld/pytorch_1533672544752/work/aten/src/ATen/native/cudnn/RNN.cpp:491, please report a bug to PyTorch. parameter types mismatch"
     ]
    }
   ],
   "source": [
    "for batch_idx, batch in enumerate(loader):\n",
    "    break\n",
    "    \n",
    "frame_seqs = batch['frame_seq'].to(device).float() # (BATCHSIZE, SEQ_LEN, 3, 64, 64)\n",
    "action_seqs = batch['action_seq'].to(device).float() # (BATCHSIZE, SEQ_LEN, 3, 64, 64)\n",
    "reward_seqs = batch['reward_seq'].to(device).float()[:, :-1]\n",
    "action_seq = action_seqs[0,:-1].unsqueeze(1).unsqueeze(0)\n",
    "\n",
    "fwd = vae(frame_seqs[0])\n",
    "all_latent_seq = fwd[3].unsqueeze(0)\n",
    "\n",
    "next_latent_seq = all_latent_seq[:,1:]\n",
    "next_decoded_seq = vae.decoder(next_latent_seq.unsqueeze(0))\n",
    "\n",
    "latent_seq = all_latent_seq[:,:-1]\n",
    "mus, logsigmas, logpis, rnn_out, _, predicted_rewards = model(latent_seq, action_seq, prev_rnn_hidden=None)\n",
    "mus, logsigmas, logpis = mus.squeeze(), logsigmas.squeeze(), logpis.squeeze()\n",
    "pred_next_latent_seq = torch.stack([sample_gmm(mus[i], logsigmas[i], logpis[i]) for i in range(len(logsigmas))])\n",
    "pred_next_decoded_seq = vae.decoder(pred_next_latent_seq.unsqueeze(0))\n"
   ]
  },
  {
   "cell_type": "code",
   "execution_count": 31,
   "metadata": {},
   "outputs": [
    {
     "data": {
      "image/png": "[encoded data removed]",
      "text/plain": [
       "<Figure size 864x360 with 4 Axes>"
      ]
     },
     "metadata": {},
     "output_type": "display_data"
    }
   ],
   "source": [
    "fig = plt.figure(figsize=(12,5))\n",
    "ims = []\n",
    "ax1 = plt.subplot(1,4,1)\n",
    "ax2 = plt.subplot(1,4,2)\n",
    "ax3 = plt.subplot(1,4,3)\n",
    "ax4 = plt.subplot(1,4,4)\n",
    "for i in range(RNN_SEQ_LEN-1):\n",
    "    frame = frame_seqs[0,i].detach().cpu().numpy().transpose((1,2,0))\n",
    "    next_decoded = next_decoded_seq[i].detach().cpu().numpy().transpose((1,2,0))\n",
    "    pred_next_decoded = pred_next_decoded_seq[i].detach().cpu().numpy().transpose((1,2,0))\n",
    "    im1 = ax1.imshow(np.abs(frame), animated=True)\n",
    "    im2 = ax2.imshow(np.abs(next_decoded), animated=True)\n",
    "    im3 = ax3.imshow(np.abs(pred_next_decoded-next_decoded), animated=True)\n",
    "    im4 = ax4.imshow(np.abs(pred_next_decoded), animated=True)\n",
    "    ims.append([im1, im2, im3, im4])\n",
    "anim = animation.ArtistAnimation(fig, ims, interval=20, blit=True)"
   ]
  },
  {
   "cell_type": "code",
   "execution_count": 37,
   "metadata": {},
   "outputs": [],
   "source": [
    "vid = anim.to_html5_video()"
   ]
  },
  {
   "cell_type": "code",
   "execution_count": 38,
   "metadata": {
    "scrolled": false
   },
   "outputs": [
    {
     "data": {
      "text/html": [
       "<video width=\"864\" height=\"360\" controls autoplay loop>\n",
       "  <source type=\"video/mp4\" src=\"data:video/mp4;base64,AAAAHGZ0eXBNNFYgAAACAGlzb21pc28yYXZjMQAAAAhmcmVlAAG3wW1kYXQAAAKuBgX//6rcRem9\n",
       "5tlIt5Ys2CDZI+7veDI2NCAtIGNvcmUgMTQ4IHIyNjQzIDVjNjU3MDQgLSBILjI2NC9NUEVHLTQg\n",
       "QVZDIGNvZGVjIC0gQ29weWxlZnQgMjAwMy0yMDE1IC0gaHR0cDovL3d3dy52aWRlb2xhbi5vcmcv\n",
       "eDI2NC5odG1sIC0gb3B0aW9uczogY2FiYWM9MSByZWY9MyBkZWJsb2NrPTE6MDowIGFuYWx5c2U9\n",
       "MHgzOjB4MTEzIG1lPWhleCBzdWJtZT03IHBzeT0xIHBzeV9yZD0xLjAwOjAuMDAgbWl4ZWRfcmVm\n",
       "PTEgbWVfcmFuZ2U9MTYgY2hyb21hX21lPTEgdHJlbGxpcz0xIDh4OGRjdD0xIGNxbT0wIGRlYWR6\n",
       "b25lPTIxLDExIGZhc3RfcHNraXA9MSBjaHJvbWFfcXBfb2Zmc2V0PS0yIHRocmVhZHM9NiBsb29r\n",
       "YWhlYWRfdGhyZWFkcz0xIHNsaWNlZF90aHJlYWRzPTAgbnI9MCBkZWNpbWF0ZT0xIGludGVybGFj\n",
       "ZWQ9MCBibHVyYXlfY29tcGF0PTAgY29uc3RyYWluZWRfaW50cmE9MCBiZnJhbWVzPTMgYl9weXJh\n",
       "bWlkPTIgYl9hZGFwdD0xIGJfYmlhcz0wIGRpcmVjdD0xIHdlaWdodGI9MSBvcGVuX2dvcD0wIHdl\n",
       "aWdodHA9MiBrZXlpbnQ9MjUwIGtleWludF9taW49MjUgc2NlbmVjdXQ9NDAgaW50cmFfcmVmcmVz\n",
       "aD0wIHJjX2xvb2thaGVhZD00MCByYz1jcmYgbWJ0cmVlPTEgY3JmPTIzLjAgcWNvbXA9MC42MCBx\n",
       "cG1pbj0wIHFwbWF4PTY5IHFwc3RlcD00IGlwX3JhdGlvPTEuNDAgYXE9MToxLjAwAIAAABxXZYiE\n",
       "ADP//vbsvgU1/Z/QlxEsxdpKcD4qpICAdzTAAAADAAADAAADAAChIqB7aCCkyPQAAAMAAToAMoAg\n",
       "wBmAI7evgrI/zBLq6SSJ3/QLiRbe8Sd9eyGByTAV9WAZwOrZLTqgj6PLf8VRTHyHZqGtWZEdVohE\n",
       "81KwP9IFzLAtLUmdZ/OeJwY12uGl29cOtcKR41lQG4xd5vYSNDbYLPgKszC97zPo554nxm8qQLen\n",
       "9HS1dsoeKmGph2F7yzGd8lyAvrhtZJvhMotKlmUhWE2Wd1D5El9q+7d5N1dVW8uMKeH3iGKY2FNA\n",
       "SN35f3MbcapPa79DpZzNS/izvut9z8V2HQ+JqT0eTRlOqyJ4092552yNH9bvN6/nDOBtmwKsnVXx\n",
       "V4XHNLxC0jDYKE57No2zkIBG8xM/E0pH9bKpqtFwV5aqjoZ8N0CfJRF4suAaUa776cD1xFN5OtUr\n",
       "gxs9fVsBgMgw6Rzhe8rhNlQ3DvFjEcZwV6Z8FebaM7PEUd03wK8ZE9H7bBaYoAlsVEZJp1GUoMv4\n",
       "xnfM3Ii1CC9c8/2k5OrmaOBtbVgcwdwZLWUgmGfJkVH+eLVvAup+K+ZFFLtMmMRHJSwS/kJkfPSn\n",
       "5tyfvgZZTQcoxJUd3zqowI9B1nWmv23+udJ95n5/8sX00EIAptxPaOYmJDeQhep4zMcrDBnH4G+V\n",
       "mlKWvA9jk/2sMZcfsi3dSSePAuM0wp9mIz7QIRPFIU6DOBPf+A6L2DeYe+6W4MZrpNCGFUwz/zkN\n",
       "O0TIHXhxqEaQ4I2aqA/sZan6ubZrOTnDFayzbMTTPc6f3hFdLRLiz2qEhkNmk25/VPDZLHgac4Jh\n",
       "YFLE8uXGGGnnzMXMDXDRbr+2Qw+/PgSxMK5Ad1yk1RNX4KJbGvHoexjW23dzd0iBmz/Pgn34/tOV\n",
       "h4k5qmaSTjQftVrcRu281iXwE5B4Yy5HT14BzjAAXAZn4px5D0qdj1JAhokubg/o3eA91NNUFt00\n",
       "KSXARbSXC0huhaUYZHDDKdGcHIwKKLAc3w8nl2tL4P2o9LdSMkIg+9WMgHC5FDU5hBMH6Gh6zTCt\n",
       "BNs8u776rf9CKH8JHfnhLsw330d/ckio6Rmcbs3ERJJPxea+enztnKJAreL2B05xIauEBwjvkzxW\n",
       "J+CS7dBuRM9/fa/8KQC4fpUySN7uEvP2oWd8Cx0dOD+xVGjSnf0cJoIESFjnYe14zLMvMeWDtMmE\n",
       "6c3JwGd7TzF/LSaqid64KHcXdEXUKi1OWAk/IQMSGqN7sTG6QqQZ/NfKwKgKIzG7iY658lXIHwt1\n",
       "uqjXABiF0XAc5NtpI2TWSSevPoUY1BpupiGq2HimQilz/qRbZIbh7QcdXJ8FsmyWRpiRl9YsFchl\n",
       "vG2nnGhJVajTfY821hbZHedmQ7i+GVHqMskkZLrnBlVWQeSzyhkbMhsXk7jitQ+qz9Nt+Px4vZ23\n",
       "y2sBYvVnYBUwp79EcPLZDN+07TBjUm9aXWvo++AKO/ewIT6WQm1LI7lDoXJoC61ZrFq5E4FXCeLM\n",
       "inJBQmURebWm7tyY6KbfxhL401UlJqge3Ar8BfbsOvEdpgIqkCztR4RULubjd2+2AbHKhS2S4b4s\n",
       "L3h3KVpIYgr3KcMC8hY2xHXVFfEyiddoNQMPge+dpWxe1f3YvK7Cnr3+bwzA8bnn15SARjsj9GF2\n",
       "8zcg2GINb+IOl7DzNxWa/uS0LcQOWapdo2qIckpmPJS1socUpLuSJ+VR36ic6MHFkqVsqTiKrc1N\n",
       "Omi9GtJ4+OLebRP6N9xAdbDO6nAGc773ACgD8bO8by62nV8mJpz9lILgZ/QbG0g7pWjfJAxLyuBI\n",
       "P/0rkvtEYaKpcjfHWqnOEbSun2O6y887LU3stRZ1Dg3KPk07LPW9DAb5VYqlkEef/bTiS9muzkH5\n",
       "WtoJnOdLmjzwKCQvpzCtO6aoyQNkMcBQhV2JtMnDRF01jresD+ll+cXhKY0eO5e5qfVjLdeMFD8m\n",
       "Ovqam3+5XRN7soOBnYZAQEt7M3oo9uo14XuTrNAi/Iq2OxRASypoR20ixbkV2cH5jOGfLDjqH/+K\n",
       "MENGVmcXa9pDyrPklhfxFNZLMAM0sHtfrTpV8+di09t1oDODRLSmYct/jPR/jEu45IMWB/lIOik3\n",
       "TjdtTjSdQbk2HfVBInm1IE4Z07EUHFyDyqf3A2K0URSMNUiYxR0PrnRNWzK/mkxlgkSB3rrS/jMX\n",
       "VqTOf1bgi/71BOtl9onUCYYqWj9byB5lB3q64Xuq2XGtlB3tDasDAbuMEKpqWOiHFpVYtcM2/NdB\n",
       "2w5Ldr3QX6vJXzpSpWFMVorz4nOfWQ+NLW91KlJaQDHrC+9fS4RQOUzQgM5v9bLICDFa7Qf6OMfk\n",
       "Nn+TwfytonjjMreQXRzv2hKZtS2S14wtHlwp5TtKiSQuzTo/wB/3IrynQ2si9nVYP7kAbFdgnuAB\n",
       "hG59L2VoUsT0NkjYABQOi6RePNlcnsFOGRdAjzx5q518lq4MrXaYScd/4UaxxUQhFzdk5NbftbWR\n",
       "m+FDh3OcF+kMrS/xvlmVadE3/q64tS8sKme5ETBNXoXinPl/yrlS307/8+Aomw3pvcfoSzvvDAMC\n",
       "aeV+fyABTw9XVIbYRj/oPYsUppTLeUn7exAnDN2hFbomZ562CdCbawFacx/xT1M3NqaCmCDl93fr\n",
       "X4HQK6q0ApJgqz+lbCJfAvB7LPQqho+PirZbOiDnkNyYcyFOsJhpYb0dM2aHhp+pX3003+PIeT0X\n",
       "8DW0hRkLDobTo+qT2wqx5TiHKbiLJ5Kp/pnzSPN6zH83UNAGfeDNFKt6vzB16N7LW/nG8q/S+RKX\n",
       "nWpNPqWPcnDHfwma3UobywqP3WufVc/jcEpqJFp46s9MScHIBIM7szqbsAZB8ID9+wrAj506gRgp\n",
       "tQisVWAVEm+2ZNQOEkFG91BnjuD87dLrx41jRulpuy0Jw8Ad5aUwNAlECIzvuuUP854c1OQKl2uZ\n",
       "xCpdMVuo3gD5SPT6H9uLkN8Cit1x54wzJ5TKgyddbv2BccGLXLD39Ey8GSG6/t03+3WNjnqXW4nt\n",
       "ESn5+/FXj4n7Ai5Pby1k4+W5VJ2KxtF/zDpRkLO7BDkYPPRgN/wDr6tGNxbMQ97+yk2EUovwCfYE\n",
       "vjPXXDzRgo2HwBuIvhBw8uuKUoHNMPAUai27dSiOiwyla/MKKj1wThLMZahTOq5WSjaMDOqbzo4R\n",
       "qEOv/DtkeHKH8fktuIfBM5FMtQoPmQPJBS5xLnGFxzhAa+iANYAxsWP3wUtcErA8jBdcbhBDHB8h\n",
       "Bpv/ingI6ArCXySzprlCoKOaLYnwdg3Muwe3pgQASijh9hQAqX53cLn4U1XmfEw041sU+KOcBVya\n",
       "INbf0Z5w1+iXX3uas/mLUniPG7t1+dwYt+dokrpcigsMt5hbHQMIX0L98Vcg56070k4iT/s9dwWM\n",
       "W6masSAXOA0yDN+DZM7OdN6wCvy1EY74KK7wNj8D35hcFS18veTl0HwNmUF+rwxlNaNLmTAqmXtZ\n",
       "FT/41fy6dgtndEJTLLYPSw5GZnonfEPpmGFoUsVFTNCLfW8gAXbL4WZhLFNBgq5wJiOUcGdta/NF\n",
       "rW6HbN+J+P9aaWuBCPfHNU17AtiLFiPDPzoAHNgdRRAWI++CPyFm9vuT3Ghb+vfx06kEdNtQwRKt\n",
       "jUDSzttHrk/PTC/Y7vhjlSvezPO6oZwrExN4M06K4U8dk/XqmFtMWof5B9/DM4UErMXKXQen4C1Q\n",
       "7L1fzOM/k4bMWVeZiBmEj4gvhSNoVTPdcFJo7arNU04Ege0BdcleJt8eLGVyEtcf7edfYO0qR7vQ\n",
       "IiBNY0NX4vyKczfvzIEcnsZhKWXC7K/xfzwpivtzm2QMBNieWdy92woAIiU8QtyWO3ZoUR8z3uck\n",
       "EkqBpdbTmTIMA12jw0BMK9W+1kc+hlbfYb3aTmR+14b2ABjszUOqCaYi270FXwVzga7BGER7bL/J\n",
       "Zbr+m9sJa7ETXIWTjeU5bBnHbj5xVEohv+YgG1gGO3ljFIIP8ZvQYFSU1vNeYWBypi9I3BAKmm6k\n",
       "TABRP8hPII4YaMb6Kr3DjHR+rxNUbqxRQnE+gEInSL7NrIJMwF5nANlVYz1Jl9/lv4KlwvhUtwg9\n",
       "ozlJawBNiBKaM+9k6oDkCVDjoSq0FnbFKX0hAV67lob3yyfvrfV6Ahbj9gM+E+zQLhPyL+77uuZU\n",
       "fRn2fd9YzcpGg4e5zd373FDlZBvc+4oZRyzdRiWuzdSSfv87oGmyAzYS/RrU7el6ECDFYi0gGfD1\n",
       "H7uaFynYmMC/ipvWO9wDJzjmKIv50ANBtACcH6dkhdI8acGTuh7RrsxetuuNf9we2G/JQ8tJnrEU\n",
       "qtI0XMb+RYn9RAqzJ2c+bNYiVVU7JAt9LcvrhhGId6CV2y83KZ0W44Set79UADoJsDyx1xKBelwM\n",
       "xfNJYgbIeO27q9C67HjfOlkKH2mM6a7GIcdLNUIecwkX+3Hv5WpOO1JK8WpHb01OmHJOJSEWHncj\n",
       "rn9SFmkEJWS6iTIhyNfKtsRHKDFGVN8XJKf4gLFofz6B1QZubsMwRla5ZiXO+ZqX/et1hB4J5I/K\n",
       "E96cvwebVIbyCW+D6bMZxOvBr3roEaUSrU/47gGft0L5ayQObPRYTf6C2sJmOIZdK7SQfwqTsfPd\n",
       "pvxrkpk2YMmNIHobEx9PBnGP3kJ+p2822AYwQPr0rrgEiC2PG/xLTTOC2gqXM3oop2SrP5q2neM/\n",
       "5/hBqcUuQ9KARqRIYHgRdYhhKuVuXc86AU1Ex+kZcOl1rDjP+ndi1uUPBKv98+rrV+Awy2+4oawP\n",
       "GqUizI97MAfEwPqbrZQduBCEkx7H7JMY+xRT7dCfTw6koS23S/a5IAqIdU5KxuwKzp4OnkB1KkGT\n",
       "pfFqgCOesM4ftSnrAduefqdSpF6WtPrfpkOzX1vSM4GWJhRwm9fnS+Hg4Fm0lUwv9F9sRVPudKxQ\n",
       "xryZvgb2yY4AWj5nAxbtV7slrJjv4XkSvO1qTtIU/CjSiQar/VtNJR7N2u4k1RIPxYGfe3o2R2mE\n",
       "m+toqpOiY0sCdjU1FG2LNAZAdUNb1wNEJbd89f+K6lOXanH0rUGD2iFGI3+xCa/JhBdRPecFe2cE\n",
       "DDzZC0Ohay5qyVCmDt4NvUbaT45WU8g8oeG4MyK5wF5KcRSUISD2oVF7cxH6GXoOOJyhbFPc9eRb\n",
       "/vHpNpi8yYKs+upScnQayoBDz7EqUvw58upbwXYdMsf7mT6hO5YM02T0W/4Q2bq7F15hRIcW97ow\n",
       "tf5lPzrF57DAiJCK2JY+dEnGJQKB9G5RQ/NM5s4YGFmaG9WkMAVumt8UfzFWk9XR3tN2v9Y4PSmU\n",
       "rz9LbNdCH5gs/9Xrr/eVMLUcOk7L9F4K2SkdIq9RpCThlmW3U/+q8Nt0WaTiB3+iSq5qcrgGYNw+\n",
       "YTeEyc5vAbfBz0r8+Pw+mnXGUWdZHfOMy5ohShX0grQpbSv8Rzcg/QLSZwF0LU/tEz7pyvBcMAge\n",
       "F6WjW7nVVi4G3RuT1R/r7Jhtp/ePa0TknL3Vyv8XYy+8D8BNJEzMh8cQ1vzWIVuJnSHDLq+Qfe9h\n",
       "ZdNs5awcjMEpMoyuqB55Kv4kR/af7Gmqga1x41dP7zquZZSQKByF547H9oO65h0e7DzGJyhQaijj\n",
       "++WdxakiJzTVuEcvwpLeH3jLFFAJ8+wO8Cxv2SmviaEW1Ox1ZkbVuCjiNRMjfcdkwzWl7lK+NORq\n",
       "ALaX+TDCTfeZkPhdBwyb8F7vURu6nRyz4cyZENlVPBoNaAEgCgP8dRJX/00I0PjV3B8EC25WHVVU\n",
       "qbn9YHyIQEFpl+cygZMHYuMUn/iaJZ0iVb/PgfZA3RlK7pRjhxexEk8lEWAQS7g8OojDHzr2cj7J\n",
       "43tg3trM7xvwb5BPo2sihaKnj95rMhNAXlEoUAm3m8i7ncM8ilaSkq3hZeUK0CblVcwC51f8nRqT\n",
       "9nkxaGBYf22lIHLQc53Xkw4C60gtBJgCbWfHWb+jKXvqksNwcw6LJPoYlG6VGBx9/hbBKOrPMALe\n",
       "3cy65n52V9TYXqTyHXi+kmFCx6qQDtv2W1EEd8+BQV9haHXgDtaJnuv6Arca8OmnBuVoxYJS7v7J\n",
       "8JMsppizYdTTbv6UdyMIeaTunFr5Vcbzss31eu0+hc2ngsHgyRqhHnGKGxDDFArhDHNPSk+nYJkY\n",
       "BaZpp9HkHG1l1WqmSUBXen9B/GGwqWVJtE7VMzMtsE9hiJBk0pnwdNYS1Nj+NgMir8XpwdsYwN9H\n",
       "rGDUtatA0qKW/QeDwepLdnYa1EVHUoZ8k1Z43hjXNG0vQrRUIdUIK5pWwir3NJqmB/EU5hGTFWEK\n",
       "nXlY18YXHL6WSqNgP9BlEiPoFTIF5kdCkKBDvhW0XID+Vw0lDypIz2gl9WaILyZrn3U8cLM3uJUd\n",
       "UH7zgOuwmaPlN7cJeR23TJ20yKxYl1yMEPm+aRl9rPYi3wmfpnmKv1wKwA9wJ6bYgGfxQLVB6uAw\n",
       "c40V4tz602BqYTf6YE1q4MsZrBI4gzB7nwLzoZSLZs4tIdxlgJuHt8+GYxfEjCBFS2/T59F793i9\n",
       "bN/V+jqZtuNIDoRi5q9zrL6V1HYqkgDnR/+ttedNSGEa7ShvcvGvUUgoc+XZod5xy/03Z0RZRGuD\n",
       "ZEfyH6Xk4g9FpnlDlnRbSc+bJUoFOzlwjqEz09a1wbLDaStsFNT3xpb3LUVmkGrwhWVbul7r5U4+\n",
       "54IUg2phTab77nAt5R6z0HM6Y3nzBEBAnGz5PTRm3xv2i24cETc1bhZP4cZ2w6TYPRn9qH2NUDlP\n",
       "9vPOMiuzRrXkmxVcnRDH/8TDOPz5xTWt8qR5AKpgu2lrWR1jFrQsHlIn07bagM5zJYMqMWtAK3li\n",
       "8jE2u2ZIc/FjaVF4Agt7ymLVawD3+kYSB/dtIkkqpLEAQUBBkxTfiTia6Hf+EEYv62mhk2BOWrTT\n",
       "WcN34pTDPmxd2OP4+aAriUXGzQFXpisOd6zxsb0ahLpukODUHj9wHCddhGZlsUCxCW8vBWgE6E+5\n",
       "p124cfaxoUpZZl/KDoH+0Bu+/URmp5SBK5eUx+mrom7m/xUmFk18bwMgJgZiZqkVJweqlZcJ1Sow\n",
       "/Jf90eccMy+IczOU8d1P9cvaVku3n4YoChfn08SRx2O/AOB0zyQAABe1ec/v334w6Ra/XioAUKGR\n",
       "sAXJolw3PDvAmHs/Fo9a6aD9L4xoeo7X/b5I9bDE01A1K4+LR6B1r1qWHGhckBkykLxnF7cOtBvu\n",
       "8taUQ9Vq8dLRYfxTDEDw7H7WMCww+u9tSK+GbTIktcct9bU0lrdsp/in0LNFp5L0Ti4S8kG3+Pyx\n",
       "vxWmy9mushxzCg9k4QMkOoFfAGT8IYhWqusn/bIw6PsPW50Zosa4EMzeexLSVZxXKuw3ZqgQFyy5\n",
       "gmqBlGWrqMM9xS8ApYJkKVKDEUZ0vBT9v77/H95EAtQ3oFjw9vI4eTFyvHYO4QokfMWS67e0XbrU\n",
       "WihrB2ySszwTYjCE8r21BT8qZmGZc/cfdEn1QmSUvA8etx872iPzEjdmbFMOQPqbAPU8TP7DD7xh\n",
       "A5I5TiIWgtiqwbVwRpcYOyQThFI7kV506PNZAROK5f9qqrHYTbFbWC4fFf/8/IyCXvtTXw26GnyE\n",
       "WzYAvFigs4eEQSBct67uT7V7QcS9lj1treqhvM+wPyWnOhuCXttNhbeOzNU5mvorhSNQPk+sv3qh\n",
       "slPTUyCU410YOrv6s81HXyLou6kKqe3yHQHDp/JMJOxx0+RIbvMOexPzBl/+Stjw4paiWQj8gODV\n",
       "PJ2Unift0JymU0yYuupn6mKdhEUzLRxKT5/K6IwdvhMKUjKW8z9M/Xxp3+mVC8gDndzX8YE8rFuT\n",
       "eENILvpLWiwtTkRT8KFtvu/i3XJ1etYGYxm2+adxKY22kFeSv/AJ8aSLDDoqqsvh4KLFEBw4IzwA\n",
       "9+ChNmubsjmSPkTlIzNIh42hyeAnPVYhVS9oqsMLU46guek+r0/zcSxmJhtmBgev/udu7zdWuykZ\n",
       "lByZCiwXfSrEaI8SZqvSYPSuACeYMgKl7EeBFm2odRG4sNcM/SnVMLjMHYc1U/o1QUn8e/9AaiCJ\n",
       "8rILALk/GUCOejEveF0sPr7vJdmd5b4IpllRDh416GLGijpB8o4QMNucKLb7M9Fz6aksEWLUDCiE\n",
       "dPzQfE7nMCWLrdStlI2XHipaB3PqDie6Gcugyb9wbjEmSl2hwqOJHyq0v5H8vKTwOoF92A7A2XPE\n",
       "DQR/7x/nPyvH5YPdT0xuHiWg6CdoKdDsUzmyErQFmNh1+rjFQZvbfYgJkFI8au9uPatY3fa5kd04\n",
       "jDng4OJazY4EkWgkkkqcbKxuRBzTTlM9Aag3Oa8tHP+p9c36l5SwmfgYTQPr/e/pqHoKYxPl8Vh2\n",
       "GPdtx0StJOFuWSqwbs1h0ljEn6czyCDjANcCMKrQK4rfcTM0BRc+sIakxrDcGZitiZiLXKeuHRhZ\n",
       "J9n6RmMY618pUmBApQhlm1GWaG6wuh0EiKkV0JDrB2079Nc11jFRkP2UxRJ7pXQi61tDEJQFusFr\n",
       "RHdKyKzsOIwMw4up+CNMM2BxNp9D3lcSS08XYW4j6DijCJBVPsOfVbRBxKQN1OOOz8LKSNG17//u\n",
       "s4CL23vKNrUCHee0CGYTSeLJ0MgA6j3znmO1un/VQ1zthB5E8ZYnZsAzHWBi96EyjlYEvnMoQpa5\n",
       "tS/w8aBh47YRCN8n8ww3DU0rXAHtONyUiVYvaJXhTFgUSgEsr5ap0yyOTQ4+3Ng+woV6hJk0GOo3\n",
       "GyrJ89S8guzJm2FYQyC0lzAeEFLH1GdsBNvuqIeyqNnR8miT4+Lt7R34sYg4DsX5y7q1UWlU+Ivt\n",
       "mIxR9PGnXpMfi0PRM17y3JZXCFemuvMukKWmMSekNFZP598cZhZeggm8sSTEKqHZcEFSgFsJBPCA\n",
       "j6OEu/vuPVvj/MGFon434iEwwGEw0AsQzlHA84vQkaVFDYQx5ir9/1Kmt8SwADh36hn4kPMf1L9n\n",
       "adiQWEL1F7/1XZLdKV+kba34x2PdPj/IxRylBAu4d6IfuWZXx3FaoEPRoD8tU7eqLkS4xdivnMhw\n",
       "4XIqR4XbzJYKvAQyIkdSAG+8h0WJaU+8EncQLPZYWh0k3LACbr8lFvht84hNWAP2Sg9rX8Hp/H7R\n",
       "qQFe/GF6xmsNisbpEGvp8ysKdlJzOEgJ8d5xS8XGiNrIfDxkbSw2Xg98Vlr6x295kL7kSaXPjO2e\n",
       "b05D3duAQx9b5hD0DrvE98YIo53KRg7U/WWJcvT2hjBEhgjYTBgzyY1m8dWFZkh/hQlsA6enVbHS\n",
       "bQ7sBwtqt5NPZr2le1O7RFh2ZqDad2TkVth1YOXJ/Bi+m5Xun/G6oZ1wM0JoOFjsnLCnscmx9A56\n",
       "z8aKxntWzns5LejiV2wEL8XkEJdCqxonmkwgSht777pPOdprfjEJ07uGwnZXOk1nEEPvR5t65dZh\n",
       "vdmVoKxbK1fr6iE97Eoa2GZpQSxA9E6Kaq4+zZnpq0zPdpcR1m2+wfXakimHQA+p+aJrEqDYpsrP\n",
       "Ay0LgC1WKxUrAVwLaSRWsWYVT4ft1ZbaXhG5u88bmzxrAqUBB5VAZerNV280TjvrLlLw+UGwRemP\n",
       "YBRz7HpB4aPDMJpWdsI4EFbcHgLBqPOWEp/rAV7fXZw/ulKUW0SKQUDtdpE88wB7QIAAAAMAAAMA\n",
       "AAMAAAMAAAMAAAMCKwAAA3NBmiRsQz/+nhAAAZGq0AByavfB9z7dv/xRfwRV55mjZawELH9nOEJ6\n",
       "4DXdX17RDROWFKoLcGtlcFoB5elYoY3Jr+F6XUI8Pu+/mK9WbtfTDmkCX+/o4TA6Hf0zlNkQq39o\n",
       "clyZs7qJCqZhPQJcq5phRmn7hFuFZJ+wztmbYwLjlpd/d1Oog8TmdYDwtpEcmAO1EYkUCcpfrQHy\n",
       "H1/xmWEtq12pbSHb/+CmqhUSBtXAZqXVBYI4CEqTMNHwUUMsm9HO+E3i9Ya/xhh9IlU4vnz4Dx9V\n",
       "iuXx4pyjzjA9TKLuShRD25YbFSFB6V99uWTIx/y+NgX4DaaQsUtMW1Ky6NoJK9VpRxYSx2SHWtZ8\n",
       "1/wKnHlsMXdIs31/JfeU/J+XR326OkctjrD7Qv5it0OHG1gokFbCfKXZHCxxHug6pyFeDvEcKy4g\n",
       "J5PCsPoJnZ0y0p6JtSxbNICyMUHfNEwb//NwBHIrI1k1kzcYamO5ZgZ9a8TQzMAVGJCr72sEEBqi\n",
       "wrpbx5Oru70k4vIfaUFUIR8MtmofnhEtZyP1ZpqdzjR0IAntOtB2Rz5njwSJ9WcTPVrpirv2y3Vz\n",
       "uxbxjMmQlz6+42+33U+SqaD7fzzadnZ9iCASM/xDi+WipvKd+3rUMGiNnX4zrP2CD1wCrRacRMwW\n",
       "fe4uzdeJ1Y1CBMoIjufo88sA0SJGGbb6MhSzHkZwBKyxOVVwn6GBw3mEy8/BEIA7N/tuF+jSsqla\n",
       "zUBas7u2UOXWfwhG7Q6MmfO2+d39C1fzMPCslnT7GPPKMn8+/IdfWYjS/JUAnhNr51Tq9Xexm1Ju\n",
       "1aM6nb1eW3SvmECX3kCX93390B+Nisli8lq+gmOR8CH/JoC5Ia3eKw/z025oWWG5xzzhYVxm4K8Y\n",
       "DKWuKDoUowbWeBsL/MceVlqtBIkxgbB5Zzd9v6RyTYUhF9wvTLw5GTZk1B0d3HWuYFR0KF9QaPN7\n",
       "7FiRc+OqeeDJ3sxF2dxE0Er5HVoLMaVsaws0YXyt4/aY/wq/lOsPJdONCwtGRBqX54YD/Nnf0RBb\n",
       "iPPuYebNjmdoX2lLZ9BSzlaV6mzquO7KKMIMV648yxIcagE3BDO81iXHVhJqs879n2Af6nvoDVit\n",
       "C4SBO01pLcNqG4WpnueHswn1tZ/cAd0KcD7EMLDtS2GwbJE0lPQSqJgAAHTAAAAAsEGeQniEfwAA\n",
       "fwBpYwzMRV4Fx58nk0ZOE3HNV7XsjM3b7GNHveA1CFc9ktZ6/45V71n7zNqfgbIAxNfbRhj5Cxn6\n",
       "jWECVtx0MZ37Yn2V9bO9l9nBW+O02lksGKXbcxjfcyTDaShUnT8VgviC5BS+aJyCeKdWuos3T3vJ\n",
       "Hq6GMOggFBtTYf4UepsyK6blJDf4BC1dhWjxF5yrfg+79bz+lqzd7lHNVUE2/GyoSAVSAA+ZAAAA\n",
       "3QGeYXRH/wAAzeExN1U3ZIQVBD3DBh3FNyvw2xuQAG7C9g+UlphM4RjVY7zebHK8SEHfKLnEce+S\n",
       "Fm5XAJC+L/IIvUEN+eiLwVhztJXGUKMRTv+K6lpDH7E/wj8MHYXv91b3Eoq8e0QB+zXOn7/Bib59\n",
       "8jggneoqr+HnQ0W629/3H0xgKjZ96r80MFQDuDC78VY9F6e2oP7TEHXHbAS2PCCjS6CNNqxL3lRX\n",
       "dgPth+4fdv8YAsFSF/nGrhXSrLbks4j62UwS4X7bOCDP+M8CMchl+uUvJgdYv9gAAAS8AAAAngGe\n",
       "Y2pH/wAAG6kqQTTcz6J0vMBZljFZc1/6gkdMl9eds5STWzjQ0alzdScB4OtDGQvmit3ZtE5rbtM0\n",
       "wwSwBH64+hIqwZ08noy0sQVor82pcE57VpJhUYlq7y2UNLC9+hZO+Qb0e8hjmdLvsUCrGPnK4MkO\n",
       "04Cm6LfLgMxJQBBJf+qz44fg3Sl8x8gmUIXSLNAjMBkeMN5+Qz+gAAS9AAABDEGaaEmoQWiZTAhn\n",
       "//6eEAAANfSepQdyDdQ4rvGAFxMCaJHTQ/WvvWKatsDluzQm8Furiuf8Yi44d1MXRv1YU/IRSTDk\n",
       "w83h9RqGoFiWXdKK+2lzdkJjABGfpzkSV7tQtTVjAmpCq+yqHtHT2N+Al1V5JgjmUwUPAxzqSasr\n",
       "BJtAVupOAnkzw2l04pf/nxRKIDEIGlrRpEmu7drLqQjxkXYNbNZNAoRkuyWzpIUicNYgo5rs6+lA\n",
       "0xUFimqHntlWYe/GsBfVRIFy6NGVzpKhPUr0hfbu5QgPuzfRZFigvW8oRJX2SpFBm8Gr7M3luK6K\n",
       "D9m9CO5nxGLxaP+9gU/Xnn3EupID+udWIAcAATcAAAB3QZ6GRREsI/8AABFX9Xfk37nZS8FyeFTs\n",
       "Fjto9k+qoTtNFMKP+ha4U0W8GV2J94K/aqC0vb0eMHlxKgJtK+8yLhu38jyR6JDJ+esSt48gQ7tM\n",
       "6tyNovZbd5mparAk73UHJfsh6VGyumPaO1TgutxG287K/YHwDZkAAABVAZ6ldEf/AAAbnAFhTMz1\n",
       "OWsvf0bJC9C/0Vd6MvFJYc9fRpH8nWKwKfii67TpUACbsNG3ust6WSuWF5UNSOYkQ/iPoczFlIAa\n",
       "DoQNnAV7nY5iowAWUQAAAEABnqdqR/8AAAMAcTNHuEFj1KQgliBJTLeVZUibXSeR+5G3ust0aTfz\n",
       "hekkqdHGMDg/qKxYL3ETSSijAysAADPgAAAAmEGarEmoQWyZTAhn//6eEAAAAwJKkDQhQvXOnFhv\n",
       "1AA1M3obwHllCz+HP1Il5LPiT8n8Q5pOsktGeuoBKFnDrqIuPfOWz2Q75DpIONI97Sw1nynV2AO/\n",
       "rabbcKZHDpzW6x89+sIDlrd+iYk5kDHqF4jYN6xJ9M/PDejdLreIMHyBFfqamyx1h0+hQwx4H52s\n",
       "HfWvyuggAAnYAAAAXkGeykUVLCP/AAALo/jyDenvK30FbzjpnO7eeKMAfMjI7M7J267U3yx+eO25\n",
       "KUyDagKAVCNZkdwzoAHYKzbheQsDvgmRtFBdLgmnnND29c2IoGhhAfpJWyalh0oAHHEAAABHAZ7p\n",
       "dEf/AAAE10eyW9waW/ylboysAOuUPuZCbmHB+xuT6cBoID5O2wCF0Ng8PXzeG/hZd8fp56ZiR8qa\n",
       "9q5QhQ/92bAACPgAAABMAZ7rakf/AAADAS343jy3aZxKCkAN5P1fcl4I1IhkcTN01VcoxRZ9rgYg\n",
       "69s0NltYhczrnNzMWqu5Qn7lyfT1K43GEONW1+gteAAGjAAAATNBmvBJqEFsmUwIZ//+nhAAAAqP\n",
       "u/drjYWPQAa+LMJXXw+kUaJGlnZuxTSdMLLPxC5T7Jx2JQLbiVzV6lvzRCx569n2rFdb0Cj7KCSV\n",
       "l+f7CcFwOE3Z4YIFej7dbdQ1087TDArINzW/yOiTN343YgNZHAm3mC063rC5mGNvuoMIe//BxGgi\n",
       "LOt3UsAC5pi0z4sdeUXiwz5kZVDmpkkiEzscTXazMMaqxAlGpmnTdqFAGPlT7WqS05vqpyYYz4Wh\n",
       "lbpzOl3xFyeLk4m6saym7i6N/KreddteS7mUh7MVBn7ETdMI9RAys+6p6XlE4T3o1+GKURATUOXi\n",
       "fGvdcVbg25oVvChrk7LgQ2369UC1qEY/UV1ULjOphVvU6wJJ7YrsVimwysY2qeVZN6294Z5Hkd4R\n",
       "gAOPAAAAnEGfDkUVLCP/AAANYA5e/f+8MfRsteQY0eYi74Jf+aeEVo4AYG2xgAxB855fJw+aPoBg\n",
       "a2OHf8sCiap4RUGBeb1Y47Sob88DPXOmaO6/GxXUo0a4+AqDrnZyi2GaSIpt+xzk+R6J16cXtOwk\n",
       "i4XTOHIqKEKA7VOvNaOhLpKpdzDn5rWpmrKt0/GOLb020SAAGT1V826o6cQELADFgQAAAC4Bny10\n",
       "R/8AABWfYBtGhfhzlSwepE2JTReUHBms8KDflTzuM+B0qwrwbzqAACphAAAAQAGfL2pH/wAAFMjj\n",
       "4+sjeT7pn9X5O0VlXAhACVfXOhJ4HlPpqn7ZmJ+VoYI8CE0qgbU02ZX8DvxcM5qj40AAOOAAAAFy\n",
       "QZs0SahBbJlMCGf//p4QAAADACSkuOoBS8Z0a1oI0GvhMGxrhdvinPKWlRVQnkTE6VLgbqkjxTMl\n",
       "SciSnDhc0xtBbsYFvhAKriRYizknUKpuau3UlRUZPpYVLoO9I9B4T0F9VAym1zWcw1BIugm9Hyxe\n",
       "3J+fGM1s27w5pFkFjTfYX8Gm90ppwlsWMTHfu6Tc9loFOCtUsOgAPVVtlP1kFQtloE35i8BH+94w\n",
       "Vpdgzhge8HNIgm5w2J4y+flRcuSYf36lDolDJ8TRZ4zESrS2Uz6xVs+PweEAU2a3vU8WnBUBDab9\n",
       "GZehqi7p9OiB2hE3k7ARDur5s1xT6jNQ34S45ircaXvSxFuYA87rkeSKLZjF/Sfrua+xZ4Dqbyda\n",
       "1OpiKxL852WfXgE1rSzh7Y7kJokf5RU8b70ssSkCL1mbc+vxIb6ybGvGK1Qv/HHczO8AA6FLjyKo\n",
       "QnJs1CfA/hohP+leP7U2PEYsMRVzOWC3sQABOwAAALRBn1JFFSwj/wAAAwAB1gXPToWAGzb7TX0U\n",
       "O5SZEkkyuouU55cWJ0041YcdJv66vDwjqh99e64qTjsMXNe0hXFHH1Vu4VGa4oWmUFHIo19oGfJm\n",
       "zpetDIoqmsKyy73nRYENzwU5NF8J/G5u5XykZuDhBhF9sllHIwZmGrfHwXrGqAE0+cBViYYXyl5r\n",
       "p3zTY+u8mYWop/I9u5atHXXivLFKAnWwggaFUi22pxJ5AA7S50bYBH0AAABFAZ9xdEf/AAADAAGm\n",
       "yqIARgRRCmhAa8xJtXWT+W2SWBSJvfqcXlRLpnua1Ks6mpctXyL4MCUm7SgbshOiBDekYLrgAJOA\n",
       "AAAAKwGfc2pH/wAAAwBOog5iyIRtbR1vh50zNsm4fz4YLvuKKynaBuRZDD7wARcAAAFvQZt4SahB\n",
       "bJlMCGf//p4QAAA7T8YNe7QVgOCZ1FgqsfdtETYGPXnw2piXQ5xPirRKHFC4PHmMA6zsbt73p2jY\n",
       "kzWjwhwPYuh17SlZaEu4I1hVwndN4Md9B0ZjNQ9+PwjsmFPmImd18SAZAjalgAdonOXEQmQ+W3S+\n",
       "NksIi8ldzbnCiW/9JPpQXHxYAe8Qyw5iqg8tzWF5n0zm8pym8OoQXL+cnHt2de7KmhobhWPxplxT\n",
       "Z1Z/C8jp6WkBF0jU6cTu340LeiScRxBu9XxuByq5+/jw02qXM5az/PfEkjhAOD6Fyjz5SEUVHtg4\n",
       "rE+ndvArp/VmwcXM2mLBa35+/xkt4Dh9ubRcWKOEXVHRn5J76Zvwh4tclXMy8IDH8mwnIIfHHGEA\n",
       "H8cXOgjUwxRZO1/Oc8gHBfmhx/nzjZ+VhkH7XfgTbA4ppIdw14ff+ziyFnUc2XJjnq8qPtulFv48\n",
       "hcRSqMn6k7qCHmigqx8zkeAGzQAAALJBn5ZFFSwj/wAABWVKz2jYapjUpxSjYBJ3E75B3oWW/1jB\n",
       "RhxAPEIkfgP8ujnCZ48+D25qNkJaCM1fzgeHc4xTfZ1nZC3+xgBu23zg/xkFauiuZ60eUFhoilV3\n",
       "eiMZvnNLSDrcrPIGa5R8XIT7E8IXQITSrwf5tpNNbXqgRs1shWbdbIxACG8Bfwd00TVAMRhtT6vb\n",
       "5rLwA37I9xo9Us3+5k2jZ1EvU1AnhGQeS/0LuA44AAAATQGftXRH/wAAAwJav4e4DxyvjfR6atGl\n",
       "11mZPRETHJcMAChZnjkRaGN9xWUYuYAb1YvlYtuqcrk+Lt1TvZSyCjXKQREsqI7Z4BIEMANTAAAA\n",
       "QgGft2pH/wAAAwJL8aLFNsyfJrZJLTXOb/IPeIFDvHO1I36yYEtW9BP+GcAJwz5xzg0Uu9i+l/Uk\n",
       "AOIvmCoeAABZQQAAAYpBm7xJqEFsmUwIZ//+nhAAAElb2QcFcAX/gmdX9kvDNBraKK37kvNbQQgF\n",
       "l6AORcfuigImz+DAIN/WICV5HONoTymK6PiY4irmmok+wCUyfW9pBIRxJpP9xeotN9NerQvowdBp\n",
       "9+eOqyB242h7tVyw1hW57i/FG84M/WAoJUNZGRIEv774SxFIJzYm286qf5weHeRGV0Qmma+oO3cs\n",
       "Ke0+UcrLHYKa4SNHp78S2jehwFny0npGxk1FmU1kQ4H/NyCcdEPQSgxwTrubD/GxhN8+AEKU0VRh\n",
       "tQajp7yvN25F3OlSaR10Cu+pVx3hQF7Y7xHOPrRCtOmSG/pi2HtfBVskyk59vhvq4qzlc5RFilhf\n",
       "6SI9rvfQfMkDaL2ZyrALs3TtfmdHnUWdq6EpSzpAbxrVMKk85UQFmrCIKcrDr6tVsikvBguW7ObG\n",
       "7HDRP6SH0DXiZuN2dBYiRU+7tyeMC6dMmnv+bvO5ome3n9HJhI1pwvH9CIqfUjMPLt7AcG1EotLM\n",
       "wrkmYcjvCAGLAAAAy0Gf2kUVLCP/AAAX4mrFFGrQ9haXK7FXV72kWbHvYc3ztL/PCTNl2t/xh8fc\n",
       "WL2k91lJ6PIAHwhh2XBz+RCOjoMtF4cG78d9z2JjyhgAB7cpgyDpdRvVq2i1nypjczd08a5lOQt7\n",
       "H7KZXx4bJNfOZz7o1zi/hxGxqbYQkgVlp7vDBo0/MAgveYMYRatDDK0JsKOk43fYW3dh4npkSz5n\n",
       "yguhY/Cknfp2r+WREJPlqo5X9c8q3wImATCKH/+HT9L46ZHQYXCRIOnqAE3BAAAAZAGf+XRH/wAA\n",
       "Jav3+Aks6lSqaXKu8m6NdWEvThPyURC9jjDgfufKXdyNXU5YqVwAUGjaSUZ2IS7/n/uZ4fRYVs9J\n",
       "42n8PNcMA520zhuc5mTIKJbbe1/q0v6VzdvxjrAe8ygA7oAAAAA5AZ/7akf/AAADAAL9KG5Nw3wA\n",
       "HG8LI8Pwrn/ajWMHsCeFnIDeaPWPXqhhyucpx2HE6niM+idQgAVtAAABcEGb4EmoQWyZTAhn//6e\n",
       "EAAAAwCOlv2QAyLwRpfSkBi/FVznQJNte7zxo552Rch/GUo+aLPrAVx6SvYJ7aBD1NKkW7YiZlSS\n",
       "0gbFF++c67qO8+tMhAHJV3OsuDJjusgRV1S/DwWi7x6sSGUlrDGQAW6ZOkzZjplnBByggdZHRvKy\n",
       "nU8Be2kfUQUZWE07/UdOlJsnltrNen7mWOKNXGfcauUQi5fEjD0o42vhiOlg0CvNkqM1RF+bw/Ze\n",
       "vI0YszE2WBXY8i7/MRgUfQJKj2cwQtaGKclEKkSy9sZJQSPsX+yuLsIJ/8EfIuj7uWIO308YPKwY\n",
       "YlVfN9f+D7ar5/ZrshzCoqgWfwb9yW47KvYXy8BhOlekkfbuc1Ua87iq/DHDqN1OA/e+t7Urhf57\n",
       "y2eJUhENG2VyxbR/DJWmXi8F6JOsAkAOWEhLHHmBrlv7Jst8lxDWCRnTTYpP4heMGqLrHMw6NVZx\n",
       "0X1k3vdcbi0oABBxAAAAkEGeHkUVLCP/AAADAAHb3JrvQ+5pc8uQALgvd1NU+MGvxMSso6sJ5mcf\n",
       "XWJ09uLjOeFMq9qe6iL+kbCR/f36yRc1Dt9ANjiKVpXumIMsFBLyrjhMT92eHoOmn9SD3swE2JSA\n",
       "Cy7t6bUw7Mygl+1aioQGV2SNZgNVx3gMxFKCrhx24antRjW/3QGPM/doNFABlQAAADcBnj10R/8A\n",
       "AAMAFRGuc5Tvq5zKUt/ABfcxn+w48GhPYZEKz/tYTxL12Y0XpHiEA5QHutacAHTAAAAAVQGeP2pH\n",
       "/wAAAwAC865/MsgbtCg6MAEP84KWcwDDsvLULhNXVlTZvs64FxiT9VtW5AcTm7L1/ZvV/TjT06sG\n",
       "zCQLKiDfSZDiXXIaJ1rx4HKLdSsACqkAAAF8QZokSahBbJlMCGf//p4QAAADAJK34y+tdOp4I9BA\n",
       "JVs459tJ6boXGozB7lVH0EIiyX5LLNeBgHoiOeKGQ75H3ugzSvyz386bJ1F/w15dhC0yWbWTn7a5\n",
       "QUV9Vgu5gQbg2d1Pq8uOO6NXLzQx4QiTedjVGFL4OqEAVarUeU46yv0RVDIjuCVIySNXg2sitzMp\n",
       "vNW7X737vN3ojswj7Yx9nb+eBPOQCVmTIYurDIug8ffb5JFr2RfNpSiFVXMs+nMp25WKOuB09/Tl\n",
       "+UkG1AkmCWBMlikcZfDeTa4O7nPO7v0gGs6e5o5K1xUyH/3MSbI33pX12Ncs2NZWvPUepZX8Zz0t\n",
       "Of8bo693LuKuwsy+QTjewk0Yr80FD94HEZoyqTVfu6piWO/if/TLqhQvn5IfxqP746X4fxKMYiqo\n",
       "eLqlPBoeACbGiQo5kZJLrsoDwBsTvyEQhkjwE4ueaXyA/1penWy7lxphO7oYkUlEQ83+MscC8wMa\n",
       "RAGq9pmATsAAAACcQZ5CRRUsI/8AAAMAL8UuajOhZU4bg5UCGvWkjJuEDq9pjMAD8Ih2OAnQM6H9\n",
       "8fpkmBJ3ytvPKYxSS6ufxJFfSWpMmtpnxtNLosbDnecvfwaWWlx6INvPhoOK5dsT4lL44RxLr8tr\n",
       "i0A6fWH0NbFHhQO3XtqK1XCI7QJx9r+21hADl1bAGUXpBQiHcb8ZQJkxRK6mjVmhS4VLQH+BAAAA\n",
       "OwGeYXRH/wAAAwAZy9Vz28G0rx/pzgBN+uYCzXt0KYgcAvbd2A6hnTPx7TcBK8G07pjonObf8WiF\n",
       "0AEnAAAAPQGeY2pH/wAAAwAC/0QIA27a5eoccmA8C0zof+VhRwmJ3dRJ1xbwNeiVjhJAB/4qeHSH\n",
       "gj4MaHvkppoAJOEAAAFLQZpoSahBbJlMCGf//p4QAAAPK/FIs7bLnnWowEgeoAO4zWlNVW4gH0X6\n",
       "i06YecHpgRDOdxHyVWi8SopTaHgR5BCcbyP/MLj19DFiIVc15hT43tTDhq53JaQYgH56eWYClf5z\n",
       "My/NyRXKdQpXNXwkEBfPDI6yeNxvWUFbBj8ntGAzsV3IqYlJFZOcAqy5Vb2t/WOdlpAY/IiUD2rm\n",
       "KybWNCk+2QMxhbBkOd14V+5sAIoPln0TphbYjhrRRsJon5uYx/VHyecm1ebSkCwIZvoU/8FuDhTZ\n",
       "zcvTkK2aT5L+EPaoLGSlOgVp0kFrrsQwuvd6tQB6qCXyGFvgD3niMwet6211US9il0BzMjJVW7Ex\n",
       "U5CU9y7kFp9hkDiVkZHzYabTtvraQ1yMQND8pl3MCjciJ3xdOXrtEQXeSl+tom/3eUUJiwMumwpU\n",
       "goAFxQAAAKhBnoZFFSwj/wAAAwAB2ITSSUg4ADinyxZBgQBCSG7eQt3u+7Gn9BoNOmschhkY5qwi\n",
       "K4o8HtfJ+7gO+X/xKOnTh5eeQR/OJR1m/SstdhmOZBnpnj/JfdkzdCk1ykWusE5YO9CfPCsCMqsh\n",
       "ohVfyJCveLLhoFrl1/ghKMiyd3Z0PHDa8LtwPA3xKBX79rJlwjzOQBGN35dAVY4yvwn4ibH4yQeI\n",
       "1/qgBQUAAAAnAZ6ldEf/AAADAALoLccaVdEQECEs4Q7Nm2sh+q1bVY2oNkzAAI+BAAAAMwGep2pH\n",
       "/wAAAwACXHysIp4AWtp17xkINISn0HyzatoVzhfxTw7StREkYdV99yHyQABvQAAAAUBBmqxJqEFs\n",
       "mUwIZ//+nhAAAAMABfXwMACMj8Nnj2z18fSjcG7zHUztkEhGNNsUJXBBdYs1Y2EPH526d11urhrE\n",
       "tUH7PXryy4pl3iYcpENTN1n5RNrl+iCihObkThVHUvAI+WJZjpmi99UvzqUDdLJgknJPWECBKQeq\n",
       "QKs3LV+fZnBKNhji4ASKHPeGr42DGWG9llSe24x0z16nGbSJAwEToJRPiJNiHltJzZTuokT5eNoH\n",
       "+400VlxRjFzn52WCYZlVmQoKV78ajVcaNJTedVW1AGLE4Q3SuZATeqf9d+XuLcR55eP1+whJIlmT\n",
       "wnonCbVpabtkbfgI8BqxRpbg6vXO9EFRgDyi+d32I5Jydg2nu/KNfxUAyeCH9knDR26eHCrNwYS4\n",
       "LxO/Q+/xYL89d6gy31lTvw/xKiorFkjgkwAFbAAAAJlBnspFFSwj/wAAAwAEV5Renf4ARMDdQG/c\n",
       "zxnwD2fSODIiyvXp3X/QBHgBPO1zOrtZE9a7DIbiMenciKRMxhLmIMH70xh1CTCIKd9kjfmsCBzG\n",
       "HUVg81Xe3nWFZdX9lmPGjjxw8m7+8YYZ9wshcId7Q5ofW/FgDs6NGYQIqqBOKEwIBbY0SI1hgFYI\n",
       "RYoTSvnmbdYe3SCAZUEAAAAxAZ7pdEf/AAADAAJUwNPluM73GwJt8/APk9lO/e50BvrlhiIvms4B\n",
       "JC076G0BYAAl4AAAAEIBnutqR/8AAAMABupQAYh1PlJ/6Cz8iImIFTfPjeNku/0YxlqRq3MkUGBo\n",
       "U50An3UGUkBQPZUNStsPJAl6VGAAHdAAAAEAQZrwSahBbJlMCGf//p4QAAADAAX18DAAcb1W0mUs\n",
       "/TIgYPDNJl4W+o6DbBMBw2z8aCflrytY0Cz+JyO32oBf0iVn5biM1UVw6/FU15jAXHI/LuJhxC3a\n",
       "89MGEoeGzqO7FYG8RkUYf9M7YUb1LhMYiAsQ7Jtzf9NTFqu94/XRv5Ru5wGt05JJiSAfm3/Ajqcm\n",
       "lAQdityguvst48tEFP9yqj7sdMdplc2yaeIo1ng86bPUhcpOzO19CrYbRYNwAsz/nm5cJ+SKrH+8\n",
       "6PN/4OlrDplx8UpeZRMi5L8IP6L6G9ZmV9acBsIiKmZJRzihfZ03OGSxYEz7H/0Y2mpjIDABnwAA\n",
       "AENBnw5FFSwj/wAAAwAB0NzOKZVt9LKo/wA03Thziiv2aqLh0f3lNgmcylq5NfXlkTCTB1PjCiIc\n",
       "YnCPq45f0LyEwBoRAAAAOgGfLXRH/wAAAwAG11zCx0IHRLRPhtUPEAzX1Svfvz7V1nswyGaYZ3l/\n",
       "h6VRKX8lgkmwLmp0cXgAFVEAAAA9AZ8vakf/AAADAAbXXMlEJ3WcaP40YAJ9huiEuFTQqMwQJ+Hn\n",
       "/iZh5vdSW6uLmUjq6v+VWnS17/y7dgADQgAAAJVBmzRJqEFsmUwIZ//+nhAAAAMABHUoOoAQpjhX\n",
       "QnuhTMoHsRSR5EeDU2qLqL+quivW5MSPuZSUF0Rxc3mmCp1B6fSFDSMQgTBLW011iSBwidn8YbCO\n",
       "RF0MbRWUhasVeCtjl8noC3a7ZUBf6fn99tvS/IlONs7wVRYDpNZy/ytB9wOM4wkyiLxWV8X9OMN4\n",
       "5mU5s4BHwAAAAERBn1JFFSwj/wAAAwAESUVHjN2R+SiEVhsKxjhijcgBK5LiMgXchn+gZVFGpfEK\n",
       "hEFQ5icFF2irfkcMeJmlDlawNEA1IQAAAEIBn3F0R/8AAAMABucKhd6TCkABnz0DVdB8m64jVaf5\n",
       "oXI8/Jnm82Lv+TDj6MmFz86iwt2McaCoX/zrFe7AOWTAC7gAAAAwAZ9zakf/AAADAAbqT3vjb8sA\n",
       "KALt0IZOqhtmFBXRseUSDUuZgwErDT1r9bwZqAJeAAABCkGbeEmoQWyZTAhn//6eEAAAAwAF9qO1\n",
       "AFb9VtRWvY9S1rdzfZY6jjk9S1vhxQHxQjTknP/5fhCsFw9WUgwfVsHKxvL+ky27GolRo92GIe/D\n",
       "Ap2Yh/6sftaVAgu3FHIV10nW+GJhJJh7TrdXetZXwrWuXy3Dz4vmSEduhgLruMAihkYVNuTenP7n\n",
       "M2LFTjQXFOFmAYoMylD/yK6nB65OchlrNxdiaZa9VfvW816K5H9ny2zt+4GtHUyneSjNLKqk8qEz\n",
       "9VX5kTpSFsR/mQKBOsoYirbdIdmzAkGpe4LoJeOtbJ8/tHKucDLnEeqTAp2lDaXQdi7KEBzw/ZEX\n",
       "eXxap8u0gJwl0MiAAJuBAAAAikGflkUVLCP/AAADAARYqCpQuADbOouabeWxhLYTLtcTQxI7yzxY\n",
       "k3vKyqGpsrH3slM+WUKU4htqqxncFzRfBkNkjY8LTks/d41k1SvfZXgNQP4S5EPD//IIfLEMIqol\n",
       "hip1pRLy0awzpZ+9jzldxrSDwLv5YGV5Awi5VKbqeONcEBoh9F+F0kwGzAAAAD4Bn7V0R/8AAAMA\n",
       "BucKhd5e22aAToLtJzQRUr0PaLIRyHJl1GquTqQ+tn3P/AM/zmVJ3Z4Bxo1B1Q5g1uADPwAAAB8B\n",
       "n7dqR/8AAAMAAa/9izQOjPVtwhFtCUQOs1uFAAzJAAABQUGbvEmoQWyZTAhn//6eEAAAAwAF9deg\n",
       "AoPE1fRIFhyhSxUUM6gJP5r2qVgmLJ+gESypm+Gfoc4U+OaUSb8MWVFUkSAORN7Yvdq+2kyovumr\n",
       "2EbqQh1qa+2oDXGub9cCdlq3+ecscD3AHqG3jMeq8NKBIqDe7ixYw7UP5GSpVYAAa9K/xf1DMGSM\n",
       "zYb7WTuEGAko9FVEU/L3iw/0i3CUqs0OEsYviZyOmBb61uh5S4TSo7QTqt6nivU4HZLNApr6N5N5\n",
       "gAKnFxF7yTIPXrRXfynzbH0vSPEvR+ASMl5RTALHCB7K6ROhgff9Ygkic0AdKwA+xE5DNM/Vd7Dt\n",
       "CxuxQJyR3GmTjSZvjODi/cD+K5eZhZuYmsc3Nmp5wh2LUleVPjNz6Xh88fTQq1S5LzqmHDK27CVk\n",
       "gez2Pl9XUUvBlQAC0gAAALRBn9pFFSwj/wAAAwAEWKgpkFb0rCAFjRtkStYBcTIGu9tyIzpGzc99\n",
       "V59fG8Hxk60t/kdnsCPRRaTLfHJ1cqRDXTq7MlnuWEnRM9qqQAKrFPubI1bW6k5XdTkj0fOmyG/J\n",
       "LmjI0qjciH7feti/4ViENLfUNmaTmss5Cpvj2NsiLe3dkO7aNijAyYKg3elRF0JHLPr5ehmSck8N\n",
       "cogB8GCFtWkiKVGviXCWB2+FmedLYW8kCHkAAAAsAZ/5dEf/AAADAAG558knOnEEvfYFdU2S2AIG\n",
       "0hsEx6E/ZnQ6ISa06SGAHTAAAAA7AZ/7akf/AAADAAbqTYrKRtAwAX3sNIFHUtUs3BlUMIjuwaxP\n",
       "MZHO3V/e+5/arCxnURVQK0885CGAAxsAAAEFQZvgSahBbJlMCGf//p4QAAADAAXX3fyr+ROX3k+G\n",
       "UTZpJjIA6MhpPfO+xmIU67Vym7mLar9GsbwRSq6rdPw7LsRykhlZiye0oKHUAkXGr1dFFJ+NUU8q\n",
       "3YPwRBtMpycn1ktA67cCytWMtIZnJV1pdFulr+oAHm1Y8/2UVhd2jSsHvIN09BqUYl9ZkftI9seZ\n",
       "2KyoQx+IUHADG1CizSr2aUMyQAlU3CO2ibpnrTj3b/pQFbqKIiGljfeHm6QxEz2GWLN7MrkXM+Le\n",
       "2szzrU3ErKYb2Vbl9AyCiuOv1RsMNZYBtgEXUn0N+ZTJi/ggHPtPSGX5fsvIeawkGTvdTD/NCJ13\n",
       "gAV9AAAAqEGeHkUVLCP/AAADAAHVB6DojzCEiAKSXWuDGCQm8sO/BUBHjKrGN4H2u5rSuG0lzYrB\n",
       "Vvyy/ZcM7RmtrYJQ85gN/XX8C+tKG+VLdK3IgfZZsv0LxzugBJOdL7lVF1a33H4sVz9HafyEJd1F\n",
       "YpnZ7wclWelsWFJkUGUnJFRja/El1tgpf49PAGS3rk8+hSQ2nzwMDUFx6FpIwAqqlQdb0pCCmowP\n",
       "Hm4D0gAAAFkBnj10R/8AAAMAAv9ECADitRTBDsZv+OyS98Zh8nlo/61GoQ4r1bpeFztZgJMa0rI+\n",
       "elq5OUj7zqu7pXw/3DKlhOFWdgQ9dY2NBqE7SqpVbGaU+FQWLoAD5gAAAGIBnj9qR/8AAAMAAvID\n",
       "ad3czOJ2WAAhrSYZYapdZaihhx3xzVzexFnCE/k3JvYlNukNabINVNuD64heZhoWnq/r7jOR5Ywz\n",
       "WLyU3AsGgPoDJ4ypOCiUs2h9sjG9ZNChACADZwAAAUpBmiRJqEFsmUwIZ//+nhAAAAMAEeNzL5QC\n",
       "ucGhCHn9NuidFgtHnfi951Qr9Iqko0oB4aMD7L3nX7gENW37XWIkot5vLHZqtSSouLG/cTiO6gDS\n",
       "4aOaPak2jLiqMnK5cxYnc+o+5BOGc9iMgApBkku740gTvqUFi/a+VWp3N9zLSvPPF0nxaRswE1jx\n",
       "wvoO9OIvqoOzuqRIo7uAbwSaOEWdIy1yE1intnWR0qESz20GXKUG7v/Djna3APEQiudpMeKYAxfs\n",
       "V5uNBqsZ3YACmNMrD4NmVxqJ4DVDKRGHzehicrAPd6MeKFYwo4OrrkJxC7YDhKWpEqET0bR+8NzU\n",
       "VqH1dBQw4Er69a3ec/kREDF1mRQJuIgLoBCiVnJlJVbmSOL7KWJjzSV1a5LSrxLbaO0JwXNKOAzw\n",
       "GeWf0tBWinrYYMrY5Zgau8AAQ8AAAACUQZ5CRRUsI/8AAAMAAdYFsSSMgwXK9D5KxM/1IAPupyuw\n",
       "sv4fFikhZUvHOG6dpcBW6RZYRWms6P6CmkQjq/o+Tb8vIv9+sMm/zorjo1wipv2HRSu4DZvySTN+\n",
       "FFxV3j8wQCIls+2/eeOoXF57Ry3WZh0k/u2DSEZulaclEsMZsA9vkxpuQugcLPOmZM6CVl7JzGAC\n",
       "JwAAAGcBnmF0R/8AAAMAAvOuZHHUDp6/M9V4oAQHX4BWBgvbh3WEpfuSppC8xv2ZGchPNP2rtDGm\n",
       "TP92DuPOOWhYchkOuSxKN9pQ3lzeb1hviAMGcpYag4XNg0YKBdUReNlUSK58krPiAAtoAAAAZgGe\n",
       "Y2pH/wAAAwAC865lPQH3taFbJKNyoAATOb0uGZ0LYdKSbeKjY2T6A0hnqUftOa+hNTt/ZI7pbHMm\n",
       "VFBiO0Fi+WKFwtNuHHuAlb71L7jyvvbSQhZTCHrlBLyC4T4eSY+q2AA3oQAAAYdBmmhJqEFsmUwI\n",
       "Z//+nhAAAA8ot3gBYkxia4K+ygC423fvQqfZ7l0r7sckzdoDvSshP2hRy3O+8qS/wDAgzjfMfLSB\n",
       "JdEIbNtrzSn6zYGp3omaWkzqFN3XpRCTjlScsHqMn72gFF1guoQaPDbCmAxDj33lrXk9Gop4CFuN\n",
       "8VSphZ2TmDgfw3zq3T8Wf/q0/TNwJQGDO7loBxkGmIPdHFngbcOCyPs+SGR2cPOjDjiQFVkvkHMB\n",
       "U1fKEH+hVsUU+9r015OyicEg39yUl/MsmXsyjr0D8fpz7696Duo4rdydYQLOs6KDI+6x3V1+IGiA\n",
       "upqjX8wBzTRG2d1StIY+BBr+Vu91d5VV3YklYVVCM5P596LDecz/FKgtnjVGyzkGiHHn4myMMV+D\n",
       "al1I0oXwp1Lsui9rtq6zfd5AK0zudvCdBjZfgykYR7b/LQHGYRRQo0BnEPKGqOtYHkkmjm6SX2T1\n",
       "n5/6BDRdsskdj0VjDF9iHLR2dKW5uXUSEWAUSQ/fTUsozkwwAAK3AAAAnEGehkUVLCP/AAADAAHW\n",
       "BbIj3fSkyaX86lkQHqBooAGZRd/dIAJ1Bmm1uJqxWZ0ZuIYOoCl9yBRaCxwwvabKADQ70fXtNm/z\n",
       "hrW1eIvU0wbPpk6lvDTfJofj4S/pLBebQ2yyHT+6XdgrEALBnc8jMmNrofXQTumCsXHfemYekI7g\n",
       "svLwdMpRNzJcQ2lTRcRUBCsI2YIb+v6oFowBHwAAAGEBnqV0R/8AAAMAkw4j2FAVqEbPO283KVxQ\n",
       "AG67L/WmhX257vejdVgjze9tb66rZTTBCihmC+I3VStZBogt6vQQK1rWmix9G+P1ygRVxT3rOmSe\n",
       "SQYnDwUcIfrWQVDJAAe1AAAAbQGep2pH/wAAAwAC/SVNzdBblvACy50gl6jYnFXC268LE7nC+dkX\n",
       "OINC4VaUDXV2lwrvTa7UKViKUHtlQlCFJZI7JcIE3AWELDuXtpgtYsjaUIc0RfAcsolx8sXXsylF\n",
       "REfmcth8LycYNclAAr4AAAFuQZqsSahBbJlMCGf//p4QAAAhrltkADh8GQPjzi+oSQc3mWhBE8Zn\n",
       "MJTFgHos1M+/AqBGTjbBtmFsad7WgbUxgtPzQSzUF9kZMMUFuGEZwo1o733BIBsrgb4rSRFcL6I2\n",
       "QozVloSzxyLpFWk/lQkoAUKdVhponRx/k6XMxNKV13rQ9LhsfyBdNTqq22meiMv2XS5SDg3v3Xsu\n",
       "KdVUhsYifC08OmL182pcUF5nof39CvhUZRsGibzjzma+xP4DwPK2VYmhWiuhcTttZirybc6+jb1G\n",
       "SNvHlTKmOJI7f4WIqB8XWOQr1xjtRuKr+2Zpe+UXDR/1YEC2ptEcV5tr3dlOyXBF9vjlSSQxSTgg\n",
       "exB8SkoCq0Z50xXtUxWpNokm6KX9I800wJ8+KGnVfrsaAvZll0snXdC6ln8yfDU5dhIClrndiiWH\n",
       "sPhtT3/ffP2L/hm4tN3giiqYdea3++D2qZwOd58mceM/YkTjSR66AAd0AAABN0GeykUVLCP/AAAX\n",
       "CDRx0UxBM3Fv+vEcpM7RMbP/BgfskY8PuMrPyRERpEt1MROhy3syeXPuuwqDx+OE6jnsKbjCYQUB\n",
       "cb56AOKv7jxNJCx8XvZ3Rp8aScUrulaFSlJkAoKqPwSGSBptw4Zj40bngTMLQJQdRY/jqIonwIev\n",
       "Y31celR8IPfeSPtSiX5XC2JJzmRHpOkPHb0SiVAtqeg6JYOjU9nCS8aKwXVHzRvn3ycZcalK/NHs\n",
       "Pvg3+ctpbOzK7Pz7TjRC52tu8iEU+l69lkE6NF1mKKuhf3pIrLu+UUICkQw12OFo0MaaovqN/jET\n",
       "F5TK+jyrff3fP4Mwsn4bpBC5Gvqb78osE5JirogScbJy1QgWisZt0p1N+vulNmGSh4BIf0p/J4OV\n",
       "J4vBvG0Af06WJGH5wDmhAAAAlgGe6XRH/wAAJakh0t8kaRdPjF4ZyqU7bef1u0yJT5Bzo0VtwNwC\n",
       "EGMdpPN+CJtKAOkTFXneWXxaEAvEJefwZcfLE2Tyua+7m14SHtlDg72p4P0ZjjXXFf5pGgaNIlsL\n",
       "0Zl9nnw2KipUTXrRBDrh36du+PvgCq9hmiQPltS5KeYgY5F2mUWn5fj+yn9Xe2DAXm7eAACZgAAA\n",
       "AKIBnutqR/8AACXCE9L7vhoqU8xZEjB1AjtcGsb/lYpanD7fu6iOCfJgdsDNRize2yJk00DT4IyG\n",
       "2tSAFt1fMUUjIVrguXxSu23wWqwhWbkgQXKg9h9Jth1+knQ7ObgmhODWlE7vhXyT8oa7BDgwYPq9\n",
       "bJv5/Wizd4aHZyPKgbXGmcJEJnJP+Gq69OKi9Ogd8bS+P4ld38Qj6QKMrc4EVbwACpgAAAGjQZrw\n",
       "SahBbJlMCGf//p4QAAADAR74sePopCtpuwHMkNNSuh3pQl/kt9zMjJ1rLSNmhIe+ay4Eo/ll8+sW\n",
       "uaDvjpcoFplPCUVOUsVmdvJPhpNO7BDy5bGCEJym8XqYswFhmDuHvMNrnRxZffYA3atJcd4pJSjD\n",
       "2zILnvJbYcbMPDLVySfw/whG7FnJGWq7UD2y4w8tXaKYCCAGx3XthtKypHL7MmsxiYJzOtj/gRvj\n",
       "/KyJQXEOGEhwjfmWw1mdZZrhy1Z1IfDb2O5FONThhpPhjBPOzLsIUZzuoHI+23dylwpnoAiGkLGU\n",
       "CyI1JzsFZ1FpVHS81nfz2BMR82AZiHFHC1kURer6vjJGKveNJ+gej+oFfBUVr0MDApyL/GfDQQEs\n",
       "K9Lik63CDZjETimXI3pgiB6bSZFNMay4JCiaW4FFXE4Dym/1Hi95PksUotf8rAiBWAxxzOJmcheP\n",
       "6Ya/WBKnEqp0jVbNfUwTvOHeWmJ+ILy3rxwO8GJXVydoA0O775rZnVDZnBSf+XKDorPQrapXPT7g\n",
       "RoikFRHrfx2eTBWxKgAADZkAAADaQZ8ORRUsI/8AAAMAXRYo4wjeK5p4+t/mhym55zLi99TwARVa\n",
       "3sgs/idLCNmXCGKlSEkmT/++RakadMgKrL8W58TycBk86d06yb5dI5D3KHnjoo6Q651+rqQpTVBH\n",
       "9bgoa9lpkCtyHP7kWI3T5zdRe30T/vKobMBiz+5RYiBgbGT8N7lMO4Ca8SLE6gu8tRSngOvY91jv\n",
       "t1hxZc2PbbFSGuAIP16eP5oJP4l4gWv9kIl5rKJOfoY4yJoFY1JIBFrOqK9SMWZU3XsiyOi4CS6f\n",
       "tEMnsGXbeR6gA/0AAAB+AZ8tdEf/AAADAJKw35SsOAC6fC91BkVHohWZWHN6RfZtMAk0tWh6Mdov\n",
       "O+nKfj6qvAmbCjt9VkNlAnM8CsSGb9Gx8iZZD3fkIjegvk8YryOm22Cg0GFRy147Vnx61RiSn2FZ\n",
       "5oKiK79wgfRxyEC+wphV4sIHHmQQ7aMqAAf5AAAAkwGfL2pH/wAAAwBkvJhnoPPKme5GUtQI2zcp\n",
       "RBGaIATB8+Eax8RY6+xDpj2TG+a3pujG7+XFMFG2RLQjZjglL7h+nE6rfStgaRf3OWeUsQ107yem\n",
       "WLKbgHMK9ioIY/fkVhoLVf39mlmbdOPWE7XnNWB6BHNw7Q8v7ABFeN+t2CPdMfgbB4pw8IxLBumL\n",
       "0RgxcQAMCAAAAXJBmzRJqEFsmUwIZ//+nhAAAAMAw9vPbJs7F9GmqMi/uDAMJHXsjV8BwfaUA/Ss\n",
       "bV2X9HveeIDvFO3myhhg6d0657sfYiVNhUHZ+9drqwFvO6S8aJKiymDsuuYHjp8TW9rKzKcSiZCR\n",
       "1ECvDc7Jbl2SQwILKXjeUPN0QBW8sg/8SOMaOyrEkmUYs1vC7S4sMlGYy4GY92iB5T0tyUpMPwN4\n",
       "QYOnhslhENd1vM9FBBGxYn9XJgVNXmFl3PUU8HQVzu5sp1eiK4J5odJW7D//OAAROFCCNFH5mhBa\n",
       "aL54rxuugc1Dzub3CYu3ONqMJhzBXC40evRSBii8XVp1LHhlgP+v9/rMHGpqAkzogMYRaAzGK/yz\n",
       "Tzf4rboaK7Ut8Yo+BNsE1+jei1jHGmMRjbk9MSd9r2YKDDeo8KYm90eNWOCzZX/wgwHbtXMelQ3l\n",
       "F4Jy1rlEY3ZgK3+d77hVoTMGEryRg8Nvcb1ZNXepKCUjj85jAAakAAAA0EGfUkUVLCP/AAADAD4y\n",
       "PYADNybiqYTlcxSjwsDYmyUm9DWcLzc19vzA1DCkhiSdnBmcJKY/zzIBy/rUhEUEu3SLeHFTB98B\n",
       "dhX4ov0Mw+DYeG1OnGgFQZ+1C/1/j1hZ0D9YHvI/5abOSoZNtnT/x6Ag8O7UKBVrp//SNBM9acH0\n",
       "gLoRE966bGlWwz2UZHqKOoxHVIkvJDw+NDGeZjNt2qfQCgo8rgBEO9sa8HGC4ORy2EWecbeBxASK\n",
       "vwuhqCi05K/uJzOHmH9E8mi+rJAAGDEAAAB8AZ9xdEf/AAADAGcu+DJ+H1JCLaZOrAAOUBd9G73i\n",
       "UP82a/+NL1ZZKjOh+lr+t98pIzK26mquxp1VESNLXMOGUinmTCKKnQgq++10pGk75PwJVqe241JO\n",
       "4CLWHVA5BMCnPkEIgGuPlQrqWVjwSPx7Fo/QPl+IE6h9nQAOmAAAAHMBn3NqR/8AAAMAZv5DDIg7\n",
       "FCXP2SA772gAW4OPgZRO0j/Vt4avPMjcIQyhlKDui6vXu+XdFYYsbQR5uTM4X3X4OfH9K+hVbSxf\n",
       "1HuMHuiGD1pZRoEPdiL+PvLLrqQqecxcxcJLwx0IX2pLoZWKjwEvcAGLAAABPEGbeEmoQWyZTAhn\n",
       "//6eEAAAAwAyLr0AMbwVHfTUgJXguiUmXT991LaogcbgkVGFyWFF/LuHlvgE4I0iHBqebuJPB58J\n",
       "N6sk2irUqJJWIWBahjUzAqig2VqKk1RdEfRlYafpoGVtvd13k5s6aO+tLHBwf/u3qjHbMdukVUkW\n",
       "WeNULEuEXFx/gD2EJfrr0tiHTcYL+FcUL2/qYkk4bycMIzFIz7Nbq346xwT8C376DCJzfaF5FfvJ\n",
       "tN5xs64dVoF78omRCsurqnIrr45QNNFDTEPsRexMKUrzTjX9bjpgfCBBvvT8N6IuR6LuKYnEnr9Q\n",
       "Vd9AeygFLq7OUmkwsXnjyVvSrfqf02pG7M2rlIZJBoScuDv/fMbOl+bloMEFRc36Ya/WMVbpajHE\n",
       "5xhJJY7MtzC7iuCdmhLvNXQAEXEAAACUQZ+WRRUsI/8AAAMAPjbZXLuPcGJAPh2NOyzfAZ9aSAIf\n",
       "/mCdir1yvgHgFWY4Y6AyOG6eMGYyku5VfMt7Wp1zao3j2Xv/lI1Ld8eEMwEBAkLJTo30bWPiW3BN\n",
       "IrcrGmmp/ht91oa82zSEKsLrTZ7AnSR6I7/+MmdvR/UERdkkNSC2msMF2OoHmKi6YwDi/WeuM1gD\n",
       "0gAAADcBn7V0R/8AAAMACxenJB0tFoAKN0tNmf24P2ch2GN4lFWMhkgPO3gOao6AnjJH79neQDB0\n",
       "AGpBAAAAYQGft2pH/wAAAwGJ+l6ArYWgcc0Lmv+s3ZpeBxlVmJzkVWrQvN6zcvTPlFusMfr6xFjl\n",
       "I+VdNRWqqFibR15xX2uZeuEuJXSK97PqrasEj1okpGkl9puZol2nz7lD5kAAsoEAAABeQZu8SahB\n",
       "bJlMCGf//p4QAAADADD3Dx1APUo3yjW8zt6J9V5GlAIO8WKtw5+kGarCL/GPsSt+WUuw8J1lImem\n",
       "3TJtzcBZNnceO9VNgnU5WYrhIIWDvENeR++8swA5YAAAAGdBn9pFFSwj/wAAAwAPjJnRAPzRlk+a\n",
       "lzRapIgTRtQh2PIo94p4NFiAXAv0NlEcfamVjCZTpiS6eXzFhcVxT7QNxo8eD4SW4k0mOVScGHO4\n",
       "rFbbJEOi+ytiKnqf+KWcQRLo2kqdgMuBAAAAhwGf+XRH/wAAAwAZyXX3ARgCt8R1qd7I9Yf7NvkD\n",
       "UfK5BXdXVm2dcmNeDZXdV0EFFwfRb3HyhGelZx0WnlrA0y+Mbg7HTeThMlTgOY6/7+X5spV2anwQ\n",
       "JFQo6PxOnvJJMfESfNAcYcxuupuiOpB94hMjoZkhsEVdnRZffRo31pZsEY9UCAAUEAAAAIQBn/tq\n",
       "R/8AAAMAcSYi3u8ygIY7vGW+SAMJlWGgQCdjlF7aK5xW7bDl+Ddc3RVUWc95rvPMeeifLlT95Sw1\n",
       "bs7v+kcwUxuI3XzabL4paaa9Joi87w+mMWsLVwVBTBCR/koNEGIHI0iRnycDdN084YVoulII/kdw\n",
       "u0uxqyfMz25jNhZwBZUAAAFZQZvgSahBbJlMCGf//p4QAAADADJ+xqbuUNEWHjiaGQC8dfAB2xNu\n",
       "QfeztwADrIlztY7cpyVkyp7jjEVXhBiZ1K34LY7ZOLW9ZSSJyHqQ82MfRnPc0KndFQLj9iBObhJ1\n",
       "VZmAYSDJxEzwaj947QHuNkFu0TkgJSco2cfOgj30XO+XD5yvmShF6K7sRd4TDs8hME+gbCXwozKg\n",
       "pEXD08KeS//hxtAHbQe2ldlrNF7IQZmEqBlcYfLNoCM0aRD4moaWzavSwH7z6uHEs1eqoUX0Ku2+\n",
       "XS7N7Xuve2AC4KyiQDIWZzCEldIVFwzMCufqfY0rvV/LXBayKtTNxWIkEbXbm/4jsiZGk/tfsYrl\n",
       "GA7KuGlqWfeIP9Ku0XmlMt3lgeBx+kW8p5quGtuQRy/WrdJdwHRTLEmba7QSm88gX2TdrOu/loNF\n",
       "hlMUgxKh+j5gAvN8QsBxvhlB4APnAAAAqkGeHkUVLCP/AAADAA/gAQSCL/zgBMsGmWZN7gZbhd6Y\n",
       "VcYInbGwflh7ixZ1YeaUElA11dUwJpdgpn6/9BJbpJ9cj4yX7pObSCrMay7GhE0VezJF4j7drf33\n",
       "nMlxBYElaVfBmzAiubi3HWWtPpbtjLULq+uhYmUP+CQx2hA+ar+p72Za8cho8u9KAIh8p3dpelDX\n",
       "KPopy15Xumqtn9xAHfZPS1cxb1/oQDUgAAAAagGePXRH/wAAAwGJ+l6ArYWUjYcw+ex332oEbbxC\n",
       "+ur9FbQGlpKyobTBvRr/q7pJZpWg50/puucTSG3gwhYbPsx5fA4BxMbH2zVZrVNj3J94SQpUoj36\n",
       "AShx9rUbxD6vnaTHQSmvxMcACDgAAAB0AZ4/akf/AAADABkrHRiQAGOfNmlmHpT5GfeRtHuoOTjN\n",
       "dMgQopnwUn2xIn49vr8BrPcXvaBrRCXmfHH1z/lL8pNtsmwSdeFjrtK52oI+Or/+EMcqp9tunY/c\n",
       "wfmxFhHIFwkLgeEDcNnwQMc2eLIeNlmACgkAAAEfQZokSahBbJlMCGf//p4QAAADABYgAEmOWODi\n",
       "kBhefwVQPnsbLTGR4nQ0jAFaZcI8f4x5LjeioOUMzPsaYGT+3eex+6XAZxlsTW0kTJaqd+pmAgWr\n",
       "3hxPCa7MAqS15Z0aIlbDLDwSlEd/eH1uWbEKdvDsy4a7j23wH/s+Hmm4fHiO+u+P+t+M4Gcqn6F+\n",
       "vDYcgQA2STcG/jNBXvTU9TFzXqcgug9LFTyYZQK7ZqZ+5uczFAnWVIFVfOiRk4fj0rLq1sjbVjxl\n",
       "8mT36YJiqLmPO6SxImQKJ2Sb0ffFUnmnIr/LoKvFw9idqwGX902+KnF2aAKlLUKSIsrmt2LX0nyd\n",
       "cfeSQ17a/Yw73E++x/ZdvAWVNPU/8B5Iek8ErZVoAekAAADeQZ5CRRUsI/8AAAMABxRbMBU9UPfR\n",
       "Ot7NhVdc6VRnIHAv2ax69L3QUGCroL1mdvo98TRRu1SyM8OgK5jEaoU7ZPOvaXe6HqykmWvhgHk4\n",
       "JehVATn+g6yitBLkUKtvgpCNqsdf1TXNhq1ZPlb59E+g+h/eb2SukOiZf/mwld5VDT6ZYr/DPojR\n",
       "PurhOlEJ7WBgUe+5AsV6fx8YHAw/btoeYJ9lsT4YwudsVSJCoqPDjysuCt9/xbDcsCmHAjX1+QbC\n",
       "tyeYc4b7ZLivPClLWFDEplz1/t0/D3TC4mESEA1ZAAAAigGeYXRH/wAAAwALUn7EYAiMgZFILwmp\n",
       "PXJjeHg9ff3SHVfDPEGMSfg+jDX2lp/xr+GjOmo00Am00O3yqyyHxX2mbGcON0sl6G8i3OBOcwXr\n",
       "KBcSAV+X9bpVrPvD4BL4ZVTu23IGJa0KMYHawAsG11XjZz4LP7evEvjY6LlEE8oNNSRNyE4z9jgB\n",
       "WwAAAIkBnmNqR/8AAAMAC1p99BY/Ae8EKp8qLqdBUqR5wX+SzHC4zdbnK08KJeEOWC6mkTvttAlL\n",
       "61HqgeIxatXRgwuxjrui+l+z4EW6W/iPEO5AVZv4cOZh5fyXRBZpJASDX+T356fcyU8aMRrpRxrv\n",
       "Hon5sp++gG/aU+fjRsijkKAQ3/gALPdX+GADUwAAAUlBmmhJqEFsmUwIX//+jLAAAAMBIfoVYBGs\n",
       "l2dRO/Ktbk4AJ2yO8CMy0GjjtEe1q/85MJnOtKyiBnPk79LlV+0qosqbv5XzMQqpsBB2cqINmpyA\n",
       "mrPLTHqqidqeVeItK1ZmXTm+1amM4UOKGSsIM6oar9/mwLrbcWGa1BEFINMMAhuTIt9BWSblnNLA\n",
       "GK80epw//nRJukWhf+TwKq2qKmKjZEh6s6/bUI0J1dGg/haMMGvadQk28AqCB1QBXrjgtPRWlxKe\n",
       "lWAd1UWTtwe9WHhRFNHgHFg6Jx5yJckaaa7ln2EN+SZa7c9okN6yxVTRZ5c9IFuEYOJy63E4NKaQ\n",
       "4wTvv6bYy96eg9yVTSN8GnVJccE6mdmCcfQ0UA9b73OtQSaikrM2drZGB7Dvg7iwf0+thjLc4+aV\n",
       "BpAEAHVFBPQvJwra/M/I1oAK2QAAAQBBnoZFFSwj/wAAFwg0cdEW2oYPWvoBV8PvuuKoGHNzm79Y\n",
       "TQH2cMylZOcgaCn6+ODIQ18/sFkV63XoaXw11uakWlPf9DpEGNaBPk4EpswMavOV3a+FGnbECOBG\n",
       "kD8fgVZlwP2fXWCw/iTwy1TlwGSM/lMIuFg+TOQ1LTfW8rBlFNQr4t9z3/pKO2lqttEZdBYAxC3d\n",
       "7Kis66pNYY/08wXC8VN8/ItBe2jz0TQ8zNfoLNwIHsBrr62NzKr5+/RIAruZx7VNUD//YYpziBEN\n",
       "708vMgK5/zAawnp6kPjXZdK0D/COT5Uh9Wsi1ZDc7HrqIW4PKSgCKRrVZIVoFfPwAFbBAAAAjAGe\n",
       "pXRH/wAAJbBssodiNIt0MfvSqxATZe1fg2f5Kk4KrbPHTVIZMXZUMAJarmcnUrj3Y8zC2NO1Ecl6\n",
       "/vKyI289kcBvU4dPTn4C0E52d04n4MQjVemqjCpe+xubODlbYlrOTs9vveXbs36tdIxCFkPMhKke\n",
       "ycj01MX8jC+WE7ldeRu/ujOmAVHNACJhAAAArAGep2pH/wAAJb0TT1d8NFQdGiDYBrvSLL59ONYv\n",
       "zz1YLXnmjcHtmlI4k4vsOKjuv9wAsRRIYkxv1PrJ/kYVTB191yaW7TIompKEme/6Fi8Qa2JFXSUk\n",
       "VItbDIWXW2Pq7x2dhZz0srGw2VQ2ZvG4qmABTGUEKwOijl6M/iMfze86fA3HO3eX0jdUOEv7RGjO\n",
       "1rzrCAaffHAC/YZll2N1clTiDGKhWjACrNIAUEAAAAFFQZqsSahBbJlMCF///oywAAADASH4nOBc\n",
       "Yp0gKr1O7FYCU2hUhumw+QsdAfmWzeClLz7Hm9YWzi7Yq3P2/hgKfwEGAVltSPNp9KH67/ovOG/E\n",
       "HS8asQnLMx6gwSuSf1PIG3MnGbI7nlrL6AaroEQudSng3Nqtyor+QcDXgmcRrTLJqsLGp7G6WZ5l\n",
       "IOr6NRHAf6uVqX8xNadQ6fdnB9V97V28bYIfoADfGtCyiNlW3P5zXVuK6sIDeOP8f94yBMwYZloj\n",
       "bY/AQsiLhF71ChJIHMo9RDT006rjjMReRWzQtF8Imj7g9yU+0DMQjxwCzosU5yBA++CjAyFlesj6\n",
       "zsU4ch/d4QqDqMpmOn9wYl2oQLTVkBAALZ3KUbWVmGH6Lm6IYQ+B6F1MHcyGK4clYGXIgCp4ABsI\n",
       "Hdnih1T4rVw8qz07XAABxwAAAMRBnspFFSwj/wAAAwBdFVu+XUHdFFZjL45i0xmxuzHzohtOcxGW\n",
       "l+UCADuLlEUrivl29rmMo39iEwzaASsCQ4OGjoHutOO2ZxK3TQ/nfh7/TsZGyPN38w8AM1Vnouif\n",
       "Fm1lq9IfiZOyjpEaNSJPYFE6Xlfmc8ce7iHfPYpZOOjW63xzojwxGW1hS7gS6RQrLGal76Hjwnd8\n",
       "4V14iTKCnkIXPA4+NRmw4qikzRqRUm1SyR5MkjZgCBF1UIG4cqAEvFk9YBDxAAAAZQGe6XRH/wAA\n",
       "AwCSsN+b6swoAOXf1hi16VJqD8pBHFg6LBEgnmoLtYs/bsssIYu8s24NAmL/1VWs9vy9bqfgbrAE\n",
       "oQ2erIywFYqw6Rm2MTqV9wjDSLi/24XvC85MDk0ZkfA4ABQwAAAAcQGe62pH/wAAAwAC/ShurpRc\n",
       "wsJBTJ2x1gAIfc3gqE8Pvh3875uuz3GLBrH46mZyKiWWtKeLGds8sCkzx/imwagQ9zudutolQiiT\n",
       "ysT4FojVUrU/33oXBzrqhODE/dy1HQi+5ftu8/4t/YfMNQLogAPmAAABfEGa8EmoQWyZTAhf//6M\n",
       "sAAAAwAlFxBmICPPBn47fZj82Q5QaB+r40YCzMM43FzhjJ5kgTOEWMha+recAVdJaNNMO01jL7Z1\n",
       "Yu+JIL9a9o/SRIOFhiAXsQtMYrcpQutc6uLXCr6antgjOk6rp7R3bj/OoUEEDsOMLBje+m1dIsPh\n",
       "iHHcIh0/utJWVVNEtbZ398QS5kzYY0rAX/lu+QxFqiJO0ct30W5rG8RU0FA/tKbd2LLYTsfCUNmV\n",
       "SA3vQVymjOUZnfA4F2guttE+rjcDEa97IZQXPj0dDyTsb0Y4fEu6fBH/qf8w7J4Xa3rjsOEvqK95\n",
       "WSqT0EvMvdEibZ3zFvdTguUUgCOGUsEcOjtPzwcdVUjY9mDDbGFY/YuaGT5aEsTpbwxK4uYWcTPM\n",
       "eV2xw5a12Gzi3m36Dg9rPUOTXeMEknOO5ABWe1BtO7cH5/ZZfwh0Gj3M6E9CrShZgERv4j0c9QLz\n",
       "J3wG9+hbMmblpvRLlVLt8p13HedAAPmBAAAAmUGfDkUVLCP/AAADAAHb2uTx0PrFReg+FKl7A0hh\n",
       "74EAH8c+z/llMqIpv8d3svVMXtWfZooYuzg4RgrcV13YfVHy1YFSAEr0WMstsJ6wn6HahrDH7koO\n",
       "Vhbzijsb+N7J3r5qZ+Gjo7aSeun95nEzt0jEJconWeHc01eX7GvuiKH1v052pOnnPFeeBS059dKN\n",
       "AWezOPlnlWAaEQAAAGUBny10R/8AAAMABnL4a4zlzY0Mt8gALeBZHFKYb68FIhgPsWvWQsbimdj4\n",
       "UspoRPcC25tpweYLG9j/rv786KaX/ickmop9XqnkXorsuh9mzsFNpaj9G8fDP0k0zzJngVsJ9mAC\n",
       "twAAAGUBny9qR/8AAAMABkvInu3VnaUjLw5BPeBB3wATFpLg1m14cryXIuW5bTGnpbFvpypOEV8G\n",
       "SsjUP167Ef7qXxFllSvZZePbgh2aF9IhYhQm/ce5GNjdY3LNUsHcj5YddDXX4cAD5gAAAQxBmzFJ\n",
       "qEFsmUwIZ//+nhAAAAMAMO9ZcgJX6tAAeDNE/VYBNPbrujXrl6AMweh24vyuwdG+oAubC+WcLCc7\n",
       "+B4ABXFyV2x8bHtTuYq++6wHNeS3up6TS8hiIrkGNefpGVzCaEy6DiQih4g5FS66K9cXSMHt8ccc\n",
       "HdAmcUrmK3EU/jsSY+la14eXwU8BCpqV9h11J/pGnMuZ+bNFz17mtRLFKTrzhSg9klN+Z53pWIkr\n",
       "0zwQyu1NwhtuhSFTEYfDDQj1sEQwx6BzMb3T982pz8WUUnzQon8b5prUbSvdmut/20HzgXIq1TOv\n",
       "gb47W9d5kx4K7No5yOhTxCt0FSJ8m5joSLawTXW2vVq3ABHwAAABb0GbVUnhClJlMCGf/p4QAAAD\n",
       "ADD1DnIGTmoepPKIZlzKjRFdjNM9YlQTR3c+YPKMVtMVGcCQCQuKj49db+IAWTGx/MmnrqafmymD\n",
       "lXtRA2bn2YYhhYbEXea82mDp+XpqzYk3Z7mfLv9M628eR0Q1Pz6ZQCEiwUqMi3gLxJbCgPwCpYxj\n",
       "3RlGfl4L9+f24wNadnlYCnih0bqiSLHaU7/igrgQvMFVlZqpbVNjMe+QSzehmO3ByBm+2+Cycm76\n",
       "T4zuhet+jirj0fI3aA+K4c1ajEfmTCH/Agt8oypSCJynEl0YI0VIoTxrsvhs5O6fyBO2IsXt/hwh\n",
       "uP7MiXyRIWwzK/3M4iLqNge7AEqUw1Q6NDxnGlLf2W0Hd59bBvbpRQu3cCgoR1XzRESDfEP8A7f5\n",
       "+wMFVCgTRVixlk7ZutrvFpyUGnXgKYaxWjaCtWjstpGQtC0+qJiz5iWvp/r56w5gfoEGCtRXyDFe\n",
       "eMBLzToAAUkAAADQQZ9zRTRMI/8AAAMAD+bf/s46ImWGPejACVuUQwG2n84ww5LmlBGd4noagzda\n",
       "A7PxQzt6kkgwOaK5+nRC34PrdDXPl8+ahAUUuvrlOgItCh7L5ZSmy9prl1Xe9rzHSFJMwFBtBUC7\n",
       "3CigIjG6Kk/vjloDy4pD63w88LnWNgpb1qlrezAyE6fYfuEcR6+FVtVXwROUZLpglHOmcuxd2Y76\n",
       "E5+s0tF4g6iQ/eb+FMjckYfNxV3wv5hHzyZfseTdig8GZD5eNPGbNt0AzVVTP74DZgAAAH4Bn5J0\n",
       "R/8AAAMAGbwM8I79VUtAIN5gAca3WJQcid0xkvOlZm6gO1GHcNWI3Tkb29917HGqRaUWI1bz9KMc\n",
       "WF0wf5UJ9l4Tan2XGbpJbWTSdPjGBS/8ZgXGvMrQJvowDLb+dcuauxL4e83j2sS45pjwf7CKmV2j\n",
       "Sf2LIuHAAgYAAACNAZ+Uakf/AAADABnJOsIuS4BkAAJjzgClrLht2aiTY9NzjYLpnXDzdr2Yx9c0\n",
       "Y7QRrSYc5+M1ge/dJJCCKLme5rOvMScwT9kfof5LjghplOSLof7CWSapICmyAFxM6ki0x46yo6sq\n",
       "qd1KNlYdJlI4LxjnAW1lZaayQ36FbSi+FGgMBZhVgsETcvlBqAJHAAABsUGbmUmoQWiZTAhn//6e\n",
       "EAAAAwA3LsXoAgqRAgt0J1ncaowZUX5cATTkMPQ2l/omDGOLqFAiaqT0gHYM86kXRNE904r0wbv0\n",
       "+G++QmNlrw3KGKzmM6Gpf0xhx85dKppsA3lWWo21ps+vAtyoGiC2zaUZuxExr1mRXaOlmS/HJn5F\n",
       "Wm0k/NvJh/TQ3mJSC38UMe53h7rTIEp7Lwl5JcMI4mE3JrtX5YOsf5S/0+GXfVxqreAbnhIl1vWE\n",
       "KQsVmMQMMJLSSoYJgJrNwZs6Zx4pvAHnbCMo/hY2hgYxLu6KziMY6VX4NunxXwZ76vzS14Reeva8\n",
       "p9ThdU3WK88FDTCXp6RzaKvB0tKV+CMrj9ZrpYcMSADwd8XT20dn0QVGRk78Hfi//e1fkcl4Tcu/\n",
       "XOEA541o8lzCubeHlHSuq8PGgq0BOTn4HNrV3QWEPwh8uLXMqO7LDFKJU26k8mWcdaaXzjbUROQ8\n",
       "VxnBjqHnMA9qxG6SZEXuKOEs0I2q3QumpowmDFu6Lue/zdUDMX2X41uPjT2v4N0jwb90VsZOn1KJ\n",
       "Aolg55T8oOlhy6lv7oZsbfIAW0AAAAD/QZ+3RREsI/8AAAMAEanMk8lgAjwarhqD/fIATQXydxF7\n",
       "FjYrBlBrxoU1s41CQrbfz7L9/D9WkFTknjuq6RwQHKZtuVcby2NalDKMZeyMdQJYGMwdK3QDVX5Y\n",
       "uNi/6E065Z3rAtvf5ff02XMRIDqc7tZrxaLOKSP6NrHFGVWEGLOkYcwG2car3wZeO4dcw6PnN5M9\n",
       "J1BIGDQn8GaNqufwYi+XGgZRZHzXGuU/J2883sGIYgvWV40/yNNUdu+TI7oKIb6R7aXKdUPc9oyr\n",
       "yzrtxWsFEBUtDRtZqKe/23kQb9TJzLf54ejZkp/QmV18tU/IY4CCIrgARqbyX14TyARdAAAAnwGf\n",
       "1nRH/wAAAwAw+GLccY+4ASISssINPDHnMjCgUZWxD1LqnZxAhtYf3kn5sNknazwkYW66bxSGo0tT\n",
       "jf+KglhUdBCrrgMcUWPl0MHOCR0glQY65LDnN4f0eJrDAtgORftwtJbuOWl9QhJl9nhogd5QpBLi\n",
       "owv1RBrU70OZ6P8UbOwmpoq9lNWQ5VSTu+3s0IVCVZN18VNCsELgGsEBJwAAAI0Bn9hqR/8AAAMA\n",
       "MRKIpZbPABpPDWMgN0ie6Je44DhidPAafg4sDnLRhOJqhBDGCMjnVzQytLhk54hIjNE3dkSp0K1D\n",
       "S862Qjrwl5fZFnjZO/6N8/k0god+dPMrYq+LfadZ2byb+NIIgc73rV2X4jbd/SFpOD23UB3G1Vta\n",
       "50m+N3UN1o0y4ztOGAAA0YAAAAE3QZvdSahBbJlMCGf//p4QAAADADckghhJyA5/ahNR4fx6a1t/\n",
       "/LDw+oDe1wksa4AqwQdo7RwSbHC+95rJvmCo3Y9xAnTVKRxwECGB4jJE4GqSxIuHmkRMc4rUzEiB\n",
       "Yb+9tQ6k99FIq6MfvM82YOkZvvhsdgvnd0c+jvzneYolxNNgf9rT0ThV3hsmALd3JrUH5Ngg4Ijo\n",
       "/V0iwWGrNSJrJDiUlvoKpZZ2hCQcFM4dvIJzmdR1JkG5y8AhOdqQUP3rIRFOpmf6en5l3phcNakf\n",
       "Ly18BEV4r/OUUkJ0dLKU4L10upDahFsTuZ9Ai4ligrkJAQ2qpEREJkNTwOzm8WSBTBipeEIml+Dj\n",
       "oH1p2528O6uOkhqXTuyV3gpYKWZuzqCx9fe+tKUtNDmI71o2QckVdwzpkAAAhYEAAACsQZ/7RRUs\n",
       "I/8AAAMAHm3JUzoHsNFf3OAUIALqLk+SG2PVo02V94AlBXblyUypL9VSQtERr2MiA1/wZKz6w1ew\n",
       "Gx1McV7XuulF21U56ZKvPu7CuB6yOwZ1fXvKkgfUgqU8c/g1rAgwkNN05J3/KCBJUc7TldfyB6U+\n",
       "L+T/aCtqyGNkxRO3N/Y8WNODaKcCDkSWw+LsLtppG/XIeQBWYKY+Jpph41spzZxPMQBvQAAAAHEB\n",
       "nhp0R/8AAAMAMPhjb+ZLXRUp2IQAS1Yql50WHlrAHl9gX2RFbhhWkX1Vb26T/bOTF4ElamrWJ00Q\n",
       "11+FwMXrTME/R8rSOJuSd7lXDbHwPwSd1cliW3sfa7cDjl2MRVEBKS6xIJ+op2gqEOktcYADCwAA\n",
       "AFYBnhxqR/8AAAMAMRKFdml1oACbwqMXQdo0VMQT5asdN3inYdO+kf957ZvueqD7ngm2SqJNRku2\n",
       "4gbD4h3i3MGPzuns3B1ZaG6K1E2QMYKqMi44tYAFtQAAAORBmgFJqEFsmUwIZ//+nhAAAAMANzDS\n",
       "rkBND3Su7VUtXkUx7ngs6lh23Y5x6c7rJeuMD4PM4WBf65Dc/j8qQMOEnax5nXyk/bM/cxOO/AXJ\n",
       "P8cc0gWgNg/yxAtnMGyOrEtoQLU01x19gyxGCQjQ2lEIOfoV0G9YNwvyzL6qx0r4lTPUy99RX7Tf\n",
       "U+4KfAynmRxfpDpXB2x1WfGozYvocT/8WM/T3+qA+dh1NfKQkowHdkkAIqLL7WKzOQyWHtcfkjIF\n",
       "Yv96ctZU4/evthmHwrQS5ZQ30/fKhDoLfuOUWM2J6e+AFBAAAACHQZ4/RRUsI/8AAAMAEWs4gUAK\n",
       "msZxpu+Ti9S+Oyg2wplAgED9xbyOQcFiEd3suj6Sw4F9yWiUer9LlvuR+TkOXm+P8XT9He+XzUK3\n",
       "P18xURksnVMHOpOJrwb+po8uDdMvu9ECGkI7HkKx9OmtvG2hQye3itAAouGlhB0df3p6hdd0545+\n",
       "gA3oAAAANwGeXnRH/wAAAwAZvC2ZcaHqNlg20oA5Q4z9xTGeyhyUDxC+unj1y4vOZGybkOMjaXrD\n",
       "1VyeA0MAAABBAZ5Aakf/AAADABv/cEB3NRT6HaRmBR8aTrmz6BQB0CLnKKK/+jZwmy8d0CPGqhSt\n",
       "hb6iaJ7zx5d0w0gob+AAJeAAAABzQZpFSahBbJlMCGf//p4QAAAIq3siXZ3mYkBVNPvO+ok6QqSy\n",
       "p0hgAx4vnoqac/tHRvhMvhQTrfxB7tL8I5OuNOu+Ckkk4IMQrc+0ojzQdK/XU0yqjjn8C9oZVcKT\n",
       "dXs0kM+2NkhNYNSVAL3tSY5YW/AFtQAAAGxBnmNFFSwj/wAAAwAeEFwKaw4gDkgvoECl0VRNT1WN\n",
       "Y4FrKvHedbliejriDsGmzB0PttzlLEc+soYFMelyvDfx9DmI1Oj50Hsah0hFgQfnd0YcTD5CaPK+\n",
       "h4lz81mN9OASfvtVjyU/ZHcABQQAAAA7AZ6CdEf/AAADADD4XwhyWc4ENaRefoC5ACVEspyy/qbl\n",
       "MJHIQ0Z3/kIjHzoWnHvQdub18nKPJiYgAVsAAAA/AZ6Eakf/AAADADESl6iTAmRUKEVd7Vwwa8gj\n",
       "YDgJ26AD++U4qIwIZN+hxj8Acdn1XNlIluGYnPjbZ+JYAAMDAAABIkGaiUmoQWyZTAhn//6eEAAA\n",
       "AwBf+E6Tt0udr/IHlzkowBCRgxyv0EJm0jzlRp2IJHdRYQ8vB2AuBiHhOuDe/Zqz99P8zrImGqFm\n",
       "EZjvTCoFNAzzMP9Y0PNg5dcLf6HWQxjWyT9KmfeBnbieYL8u65b58M3ph9IYvja7FArc8Xx6Ro5R\n",
       "9427uRrvcTIS6a4hEUTKYMGMglqB0l01i6oWAE7/gAKOt2r/zlWx2RgXGz+Yb+HbH3iNIQEfyn+w\n",
       "HFyOpgXJ62jV2cY6sVzdnhLDfbZidoAa8UfBShJUGBZT6QRMl65pucSoheQqB5V+STLlfZZXPweW\n",
       "X3c4xH7R8j9OCniTo/Abqn80Y20HlDJe8bc4HpHO91raojrixoLTfAkrAC2hAAAAnkGep0UVLCP/\n",
       "AAADAB5gOtfFpOYhXVQodeOc2lQsAHmpUVEsItLxfJ0P/M2Uk0ko+0I6U7BgU9A05R2jBFouPr+H\n",
       "P27UlwbDKuyK22ypM1n+AppltrcBX21n4QiaW/f7QwU10uoacBsTQ9XqQ/YjX6/IEISz69U3tNXL\n",
       "kRB3QPNS8qIQB47iRv0rsLYyyYEyCOFlIOsyr4t+EvH3YAYtAAAATgGexnRH/wAAAwAw+HV1Mr+4\n",
       "53JtZpuraAaOPOMkMIOoN6m3jgFht/x1TG7iLy94UeUMQB7yUr44wpHwbddWh65ogitUIqLxsbjG\n",
       "gAAj4AAAAGkBnshqR/8AAAMAHE4UQArVvRXxCi6sfXjPSgBWzgjIgFbEUgAEzRVtgH1xXOVnuW5v\n",
       "DLDrKpw7yDPYqbQgBL7nCvmjrY41ZXI64RXlAiGwfkrGf0OpbmyittM2HUj2xXiuaX2x0wAAPSAA\n",
       "AAGFQZrNSahBbJlMCGf//p4QAAADAEdSB4LsdUKWGsu/zUIavb3SlttcAPgr7cVRMUt2JXeSXiCn\n",
       "mh83+M3OIhFlZpeqbUaiSNZVT02fj/bHmfmJYDc6zm9+iZDvmhgqNQppZf9LTYg4Pq4irDXLvfTp\n",
       "yxgjwHTfXGWB5Cc3KTLKiMN9vNXEhakpX+RuoxUh0568Li2IYjGa9XzeXjhC4jVtip7yyUPSfz3G\n",
       "dr7RsTTm+Gyk3aZuxzEtjaKE7jc/t2fP5g/OgaujTbDjlr2mL21qLrJcFIczPHXKBTRnU0FboX9c\n",
       "X0W9FbcS6dlsiInTIOTCupFgYrfW8Spg75LkAWGibdOVGmpk5JeQ0AKXLAktCDz2smTviAMgTSo7\n",
       "3Dc9N1IHAF+P08tpYfBs1Hy01eA39pd5QlIrmMOO95guecubn6GU0gG7xmDmHsF+3fTcydoSci83\n",
       "C5zqAan2uVcwAP4nZkl5wc34rHU1+kLdCdD0tBVF6KU6iXcIdhl0Oz/rIJaK0IAAJuEAAADSQZ7r\n",
       "RRUsI/8AAAMAF0V1pIt5Ab2qxYCPLqDxL4IkrKfA0KRz5L6C6Ib8qIeaGliNmiGswoANeI9Q0rkG\n",
       "o79mC70afmow/VTgZXRNyYhNt7n4aqHW2Wqghbwr/nrSUC6dxfqEQrpz9bW+Y5PKB2jxnfUa/4yJ\n",
       "/cjUKmp4G5tEvmlfdcg5jNDzcjrO38czAi7S9NWEAGSXssdGZrh+FogHAUrwctYC011LzzBHS4EB\n",
       "8cLsul1FoR969C70ky1CGgIKvqYf/y+/LPs7zBUYbqlzQE7AAAAAtAGfCnRH/wAAAwBxbFft0RHA\n",
       "XdOuzWj4BghC+he9fn/466hUnqTSOFviJbrLaZIFG2Pxu9DxZz695jnlwlU2ver4XFh9ObeLskYc\n",
       "l8ook7YCYXsduAdEvIdRMOcG49m9rV+ZvOXug9F21by/gLBqXcUF7cQv3f0MWTKKEx47d6fZw6d4\n",
       "RYHuCeT1BDLtbr5K+Rp4Zsj2mxd8opJEzsxe2/YpWuCmYz8GYsYqlcBJOQXGDggCggAAAI0Bnwxq\n",
       "R/8AAAMAHE0apLQYeiLh+85343E9OBbQAftzqCq870T/ClwkOJaHy5fhjA3i8r0VZ2AUQMJAZoPg\n",
       "RJwmtkElj6ZbaCFC5Stgqg3dgdmYijFQAyBez/BTy53qqb5dSVgQ0Nf3uxd8QRo8tjaoD+PpQ0Iu\n",
       "YYcFinTf4iCk9ncvQuiT5OdlVb4ALKEAAAFNQZsRSahBbJlMCGf//p4QAAADACn4xegD+NldCZJ2\n",
       "tbwSRspYqKVu0XYXFTNsdXeqsIjOyL7J/Z0StWV3iKVXX7qEaMaFa6CbmS6XH98y4whHgkcD064Z\n",
       "7EkpgrgtPdqGq7sIi/iRf8stE0bbwBtzzkiP+heZNNi9bPiI/yx+Jt8NGsmXlZnqddhdtMspIer4\n",
       "yyXGBVn0vHINHDUApdo7MaNYkz7UqM12EWg2ufjaDeOkQW0sIzByKqFaslMqIoSzIkysYI4OWEHq\n",
       "sN/s+mDyCsHndLeepNdoOWnW+B7UnnReqvKEUV+P7LafGt/I/bgpqzyUv1fGifdKWUcmVkmEmg5T\n",
       "YDswLva1a61QHg08DL3JrNSBT4vknYU95TIvYGNuuXNHuIPQoDFSRd4j/CHpDDQGZWqsdVWnO74h\n",
       "P9QM1vxLt+ChNj4RvwoAAIOBAAAAxEGfL0UVLCP/AAADAA/m5Am+l6f7zegAce294aLtRdJJuv1R\n",
       "vqS4V5rAfdcMeSp5Krm2jfDePpbuohrC5bQzPJ+f8yRev8sEca693EHF/JAMl/XsIYD9eneSjJhr\n",
       "LwJ9MXIWfR+RAQWCn9XevxK+hEqHa5tZnFq+CR3tMzWsJP29tIt1B2xZMU1zprZDTcDRV/lMiPQe\n",
       "mWmx9iqM0ztOIpZ4YV3AsWt6YqmnmihBaNbMCTpRk6UQMZ4GqPxei3qnyYFgCbkAAACQAZ9OdEf/\n",
       "AAADABm8JfRU+AAt4v3r6FxOOsAipdb9h1zNR+w/dO3+fwUtPqbrvcDCb93/UnPMR4QRgSEfSL+r\n",
       "skdZtggB8Fub/0zZmSxJy+HdijMEeLiQbV9tVi47EQskSGNyfOI6Ta9W3YnadoXsqsYVHZWrfNZy\n",
       "hiwtY6E3bzH5q1pT+YV+MegLnWnaACBgAAAAjgGfUGpH/wAAAwAZyT4vlMFi6x/VZqIDXzziQAJ0\n",
       "KEnNCkPJnrPfGsoqwc3cE/UPTpX02EpIake4E77a5kUMKrf3FmDLoPFlw/mEz6PJIUTbVCltu06h\n",
       "9PDjx1N/eVl6KPtJ6rxSnazFvryRmR7SpcwfVavx+IDIslJpM+36uJB/yD7gjSDnYb5OsTRABLwA\n",
       "AAEhQZtVSahBbJlMCGf//p4QAAADABHjZKPdxRgBNf/X5uKh4oZC8Xevsae16mSxxA5j62N9YdPf\n",
       "wrgqP62R7LJH6rrZmOANWOGewPMof8kLPYMR0dDZou7hS7eLv5zjHGgVsu3d/NYITS40x1p8q9HD\n",
       "7CrLUyODAS5BJSEPmqt2os1PLjbKqXzEb2kecrCH8GaOTRsgqcqrGvHtZQuajEfhTQtDb8UULd0w\n",
       "8LJHQZP0i8qMp1fS4kbo3AuiWUmi8DWHylqNeidt63+NZtYEcE5QLSOfJ4rLqqBHha8gF7nareDh\n",
       "dEBtC9TWlGYbaAc1CTbR5XNnlcL+/lL2wQb26+RPB+51Okeq07Fz6C1EZSXT40eJmZPu9RTP0zp7\n",
       "DWXLL3ACrwAAALxBn3NFFSwj/wAAAwAP5uRyCRLOiMACSWTf2uiYNlEqYRPwkvj8OFsMQrYAJVpH\n",
       "EqznQork1KWz+SfisZ/ll8CeUkzi6/7Kj/0klJUbkn78yfpWVcc5RPvtl9GEvLY2U+kDwK5qL6x8\n",
       "Qp2fNwR7PZ1HNRkmuQdMn6X+XrBXv/PNVoBnh91Lq2jScd4PLmnCZosrh6DCbOxFQEPAmFEWJFk/\n",
       "neEs0sRv/Tt5HreOOkr8Vn6va3hjdDOpOgAG9AAAAHYBn5J0R/8AAAMAGbwtuqldfdoITwAhHO1w\n",
       "5FJI6AtpscwLLzwdfgxiSGQMO8XVuuHAZk6lPdj8/bFmw2GC1REJEkwtPh1xgChM/VSSfRv01FE3\n",
       "30qJdEbht3mdhKtCgRqo7126iC5zWpGI/gdBu9Yagu6MgAUEAAAAawGflGpH/wAAAwAZyT4vlMEv\n",
       "CWOJ4vFq+LpE6HuFEgAamHFi3sy3uBHM0Dax+7MIvi6h74NZRnebS+FK2Q490VA7Tq2ly1g40y6s\n",
       "a0SzoWt3pLhIGzGk2r41rXjk1okV8YZ+TSEcMFKUwAb1AAABlkGbmUmoQWyZTAhn//6eEAAACKlA\n",
       "nADL4+HUIGbdN6URQ9N2Z+Z4dx3HnOBdXDkSJut1c7zJW/ZT+YeXxThCl39ETlmJjyq7Mrz18Ssz\n",
       "/U2DzrozBT2r5fJ0pcf/mlZrF7u6ev8T6TzPwL1CkI6eSoerOEC5NPjvAdM7SQZc0o+pMInbOk5k\n",
       "9jekkNAOFEs5WPH+6p5sgHWTTfM6LStr71Nybtw25l6WiGitgahu965MCOCvtCReqF0SztUpKDpH\n",
       "G6MCpO92nIX+n3nvdKQlq5CWdvVvwIX62kL9vYXkni60hRC6k4CVjE2atTYcJgNuAiuBGBS8RB5h\n",
       "gvNALkQtEa1Pijbf8R6tP0yh/qdgxo0COme3o2n9Yomdnc/5jDrAozqg16d1iVbveG27ZjB3SAgP\n",
       "f+p3NUOsxB70siWshLFP3eduGukK/v1UObSXbG2h0kk9/Zjs6assfrKmnKAhKGsHddDycf2WlcDu\n",
       "RGToU96vGlzwAEXt7CfgtOr+F+zoX6dWAlI+FEX6gX27c4ysvPlBlIAAG9AAAACmQZ+3RRUsI/8A\n",
       "AAMAXTGB+p0gCu4zGPyLAuYDmNqJAJkg20RHhJAALZ44byRZsfWgC6dK5CQZtdXirMUCrfhxeqZQ\n",
       "lYxrip4588U5BATOtb6kQjRD/YEkmRjBZo7BH0CtIUp+2cqQDq1L/UAL1GzZjsdO0tmd7Wp5WE8L\n",
       "vtFIUZBhJqxdUcFJJgTDKkkFSfx7sYb4+M7br+03UfpXybNSMlOHvgDFgQAAAG8Bn9Z0R/8AAAMA\n",
       "Gbwngi3Acv3BqBhx4dyaKCjI1dgAnDrGGCBnJQIxPllngaXfnHuFoJmg5/DfJ/SWGdBsCULkv8d6\n",
       "sw2BnpC4H6BhlGnQk1sTCwVKYJnBrF/cUf3fI6z7s/m5pMhCuLV6j5VoAl8AAABpAZ/Yakf/AAAD\n",
       "AJL84AWgvXPtOTTg+RRyxh6Vxy/iVV+HIHCosAITiEVSlCoRlzaYf8T4ZRr5Yw0LvmikUSiNPP4b\n",
       "ZrP5jbVtcCF0N7M+/iNCKR3pPESs7yn63Lh0LSSII8WWUhe4AA64AAABXEGb3UmoQWyZTAhn//6e\n",
       "EAAAAwEdSBndaSUbACdC7v3GCy4SO/xwZHl1BGsbV+rLciNIAGue/lW6jaZDZoPW8aFPAsQmymsG\n",
       "bC3bLcd0bdbj/2Dvlm+lK7LolpMuOqLgCXpHAtTJr3yqPS9xeVhHaTcTDcJi9j/7BM6usB8xQ8uw\n",
       "G1csF9UpYN53yLf2DNeF5r3IQgkVtvrq+C+TKbJ71U4iAKGULrqA2mRrF4su8YkZ5IeR22SPqjDB\n",
       "B+DFsVqFwW4LrJ3RU6AV3w3zrw5qZDfJhdIbs5FCgxiy18X6ZFNhimspOsLjzQ3Lfjvg4ccH0pMq\n",
       "/9/5Jsy8pa1xo5Rjg3DnSwu8BosHdiVfwHyhQtk15unjtod9yuEhQTNzf5l6KaOZoYsi5DzYnJEH\n",
       "DZZkSTBSfmj6u0jlAFXbplBjUOrUkDJAptqSUmQ74HfCJESUU6cOMzBvXnFQoQBdwQAAASJBn/tF\n",
       "FSwj/wAAFeg0CQxutHiK1B/IyTr0qDq3q46riwYBBrOU/odDmLNNDS1XfLHxcCO0FGBvLzr34mWk\n",
       "PYYhMFw7dK/cQ3g0W1bhGk2Gu8RrcNPng3mZolYAXLTvgvwzfjcw9qHhcKeK3fCt9O4pVIGKjTLL\n",
       "DbHSLJqxQcXKiLyj3aGmcxuf9e/eIw95t+gTpV+WKWcqqqnSA7eOMe3Hfyfmz+Wc8HzbvQ/hHulY\n",
       "Vx+wyFxO1Vm3j10HMZALVBXkJVIYlQuQw78W3F+YsCBG64GHluM0thHKaT6OwSRCAeQeSedRlTIz\n",
       "Mh4FWH6w0NCYsGq4qr7LmwXXSELuULQYUb0XPp2XmuFCq1oVOJC4AySbraFtdA4sgxKAzApbngBl\n",
       "QAAAALQBnhp0R/8AACRN5NAsjeUB1aNTvqdYYSEAtizTdJZ1miO+UKhuhtTzTchGVwc2zWperv11\n",
       "D/5D5bqG9s78+YADZew+d7evKGw4LM5euR/CNLJ+9G8ZutG5R88TBHRDTEBR7Qw/JWWXOD5beg8F\n",
       "EYAZtWOBmBiEu447b1fHHKXPHq0d5Q7Af1JNJ6Lw/5AnKQ73IGudH1/krg7i31iNGKEbqAIJl1dz\n",
       "95tJhJZxEM9oLEsYAg8AAACbAZ4cakf/AAAVlL+FFJX0S8JpLk5HY/Fw0De/+QFEJ2vJhHDVoGdX\n",
       "CgBMzTpTBREzkFQ30W8E9W2xIy/sVxu1C1+A3UHpGqEeblalo1guWZ2Pfavw4zUM7gcozkUrMG36\n",
       "pdDYIxZfjfwXGpS/XLA25bj5fM3vbUMHH9xkxB+kc9wAJbJ59za2HQBEDdg5FpeaaCQ7VpV2wxn0\n",
       "AYEAAAGtQZoBSahBbJlMCGf//p4QAAADAv+/50ULAGdn+yja5ECyLeIcyezyP05IX/TD063p0mn0\n",
       "oadRsmtFN3C40zgXxSK40k1sLBFt6Owmsh+qGk7GzOiw81pOWSeOX8FHUW90gxfyJoGvjW3U6TMt\n",
       "g/50Z22+ArjaJ5Wmey7UgaCa9mi3r+WscPTqDC/5K8FqnRjBBJh2i1GnxVox4t9LHUgunFXeAWFR\n",
       "hSEtHB//aSF0/N6Zr1e9dpf9NOYwDiGEbJoHtP1UYcBg6DQdtAb2z8Tip9ePjnDGhwawwcKlA8XX\n",
       "/lZ+RM+9XFTRRLGEIyAlafeAvcoDTTUbXKoTtd3Ux1jEB5U5E0yabjUSOR77WYI5ZF7On0CJAhOQ\n",
       "2LK+2hhmRSrPWEb9Mf7nUnFmPTYcW950+qG3/kV2QrCe4Eas0cquG4V04Yo8i9yIKh07H8e0Wjj2\n",
       "681pMS0vDkcpRRv3D5Rt5EcJWl0ciKQ9sFikqQh9IP54Csrrf6vHy/ZhUz0ZlUgYBIOfhf/5+QpO\n",
       "u4GWFigFenS76V0Wh/WPBobrQC9LMqzhECkbBAnaEPSUAAKSAAAA9UGeP0UVLCP/AAADAPjEdmFv\n",
       "3XlwqT4a1b3SCrF3K9tuCu8Uqdnqyfc8AWg8SticZH9QxAfgWGCVwiNZDyZy/dDeVTHcrYsVkRKV\n",
       "hKWo0yjeQAwB2Fqt6P3Itu83Yq84hm1DEj2iMR2DH4Mfda4VLt0ZAPX8bPu6P0Rivv/zaSwtcZhg\n",
       "mE54oJrb10L+JgbXz30+hcQDbypoiYAtPylFjdOW+qTgppaX3uCTv1Of/tLLFVF9nvCYiD5hohBj\n",
       "VtbB/FgWJ6vwlnJ0MRB60Obu/2K5H5tVUMsjNXEilOn5H/2lEqmAkMePz06o3QC4dfUAQlbGWApI\n",
       "AAAAoQGeXnRH/wAAAwCGsd6j5MFxs6pi6joI2JPXp+xOrgjLw4gQFzrQTB2Cvz0rZB8NjGESWvDG\n",
       "ahgYc9zsh/6hVBcjh7ONmzRe5nMezc5MSpUPaGB6c7l88UhUZjuxrbzvHxh6y5lDkuG0oY740sK/\n",
       "PtHsyKX+f8g3zvWdHhCoMQfxacAPOkP1fjO1MDX6kOdF2VClLrBZPK/g6uj4wMEFaAEXAAAAnAGe\n",
       "QGpH/wAAAwGSk6UHaDkaxygN7/Ev/5bcOc19Q1mIcMRhM0HbIW9tU5i2qzewdnvRNvwnKoznKN5L\n",
       "72igy2W3qjzIUUGGox9zDMSUpDyzAxp1RZPXP0RiRWMi0DcWc5IOJ+ToEgsW9CoRX9oq8QguNtkY\n",
       "TMfu6Vtatsm+r0QRqR5/CA0pgJ91+n+Pm/rHSs1GEsgZDhwIBABLwAAAAXlBmkVJqEFsmUwIZ//+\n",
       "nhAAAAjrfiLa+79OivPDIQwBuuMuTDEFGtOhz/HE02Oz6WWgAeSgIirq1y9DqttrYX+mSIq13jPV\n",
       "rMRKHleORu/dVRi3BTVbPFSzw9QX+qTqE85K9oFjacd/qM7LgeEc2jHNQqDadInR6gsjVutfu3b4\n",
       "0sge1zY1UPJfotphH5qhUhaa37I/72RT5UpeHqBmJBPLTaWFxHnE3ZshOzS2gX4OIgO5JAg9QOiB\n",
       "yg67qwkogSWUNoIKmvuJ8NNUAiujYzWRkaEJ959mWoFzh8hXva8Ft11+CtFc1iaZKhPTBQIBPO7i\n",
       "Aj8zwpVeV7h0IsWTtwfuyHK+9r9jMRsz328psscdr1Z8tg1vpHbMUQf5g+1gI/pMTn38N1p7GbGh\n",
       "JH0ev+TaqyMWux5dVsjTrs35qMJNc0c2t7X0gDV13BsJRXfmxFBf6AUft6aQ3zZaBY6pgJLwiASJ\n",
       "i++2Jf+3zEuWCq1V37chmrIbhAAUEQAAAMNBnmNFFSwj/wAAAwLoq7PrgbLIMYw3SBW8p6M1DlXI\n",
       "iZY4AWRIdZHgJ8YfJvgI85zHSNvSeg9Fpqw66ZsrgAVFCC9XkUExA8+fDWbWVU+yboNW8qYMHamc\n",
       "tCG+wqCqnwy5njPfaVK61FNGBw20DhMo+OKjmC5taAZfHP2OihKKqSjv8lVFQkX9dH4CAF7nJiWK\n",
       "RscrBTlOvu0KqRuonNc9Z7qfJrj3FkP7ez1owrHbhCM6VvuXK4jYkfMIsPbfykzIAu4AAACWAZ6C\n",
       "dEf/AAADAZHCN16MqeOc/q3ekoigAfcl7zi4UWsX5Gpua/KSb6v3WxJ4CKbHfCnd+U54yldQZ312\n",
       "/tthgsAdTDDgpDyxU5Xilu7ghihQT712s/fwVBz3iFfBvV2fGE+X5jTkl4apPQL59eocM4XXPqmd\n",
       "BfNVbeH72d8h+uLHd9gJ9kDmnodVeySIX0ioPlJCgDZhAAAAawGehGpH/wAAAwGIF+gBGnWj+GKi\n",
       "g9YDPRfuqH1VZdmz2KuNSNdhYw0iFr6tYiaPhdc4zukgdc9gtIY7n2hEa27E+HXQdd4ze7ANmrv5\n",
       "PEq2FS3ljneQrSIdpjNBaOPkzU/yX94IbNyWVAEXAAABgEGaiUmoQWyZTAhn//6eEAAAAwMT7GfV\n",
       "By6Gw2ob7c1bilSAkBjeTOSfF3mQfK04SMuy5gdWtw9ES8AGPaCC32Y3fKmB6jjLT+j2KOrhcIHk\n",
       "U6Spd2KeQ54FQkWEBexn4EpzJaK8Kmi80C+qDUH7PQLkijY3A55Z2ZX8qRW0AFDLw6dOXjlNNcr4\n",
       "vAnLrlUSoXi89V4kqE2eDa8pKr6sY5EWBLZHY9WdaXiE80oo84pXJ0rG3Ge15rmEF3JnJAYysrNt\n",
       "vOsgAFWin2XphB/aP8kbzrWTnQ7wbfLQs94d6N3Z3zla1bN+aLfZxqX+l1JhDmcEmAsicOFLduzf\n",
       "xfy4knGICfb+IShOHgMj4y5nWX20JBGGG6NR1cBcazXwa0+b7cFEHPUhwlUCNQq+VZWAyFsw7BIU\n",
       "GL3j/mDvGNHFG1t6p5L2PDyWALhccvxm9NQezkVuZru7pIFWwpsPD9gVShTVRrTVeRcXhCQgPMN+\n",
       "7BiYKPERA1cynYuKl0CuUzABHwAAAF5BnqdFFSwj/wAAAwD4gM83V9BcoWZcWcWsEgAJvhFHJeDf\n",
       "TCBf2MTgd2mqrmlWQcUvAe7BgLHnJOlhHV+Tm92uMLbXFZMBpk+7sgMLonlC/6yKAIsGiTy/jGjE\n",
       "IA+ZAAAASQGexnRH/wAAAwGRwBqMqsMfVQBt94jiRxzvbO2Yb9RfZcnnUoTUcHbbFYm0s2RurBRw\n",
       "wWqdX4gE/EzInX9KEbU+xrJutbwAVMAAAABXAZ7Iakf/AAADABuvKf/FBbwMTvzSgN56O3QxyH41\n",
       "IJVJNuXOop4uUEPjPcxWvOAHb5xluYCemPuQqBj35JI72T6+GG+xD9QmFhSd7+Y8TmMIfCFooAI+\n",
       "AAAAxUGazUmoQWyZTAhn//6eEAAAAwBBum88WVAJlmrzT3q4JIAf0Z9M7KCYZrRVXkcWh4uGgWU7\n",
       "GFvcRCd5wCnoKgKBH+g4McEP0fp1NU+V3nQNhhGr6pKCDcVZeQkfTiPpimJtXOnZXtiE1jyJh6vA\n",
       "4qWYoxfve3EHIn+7TV+KkQgptoVLaoP1W6Vc+RFjBm99b7KIjLWIPvFBfkjXqsczUSG0vHnbNuP3\n",
       "hDVy8RLImUviPA2kUYM5zBdEnlv2Ssi8SYQCoAETAAAAd0Ge60UVLCP/AAADABFYKUPjvnbPP+gA\n",
       "0bmpnII25TECBS2vWEtNy3zO1jIILpwTPOsXScY90p89xR2QcwAvbJPdc299ETGESxQWsdvmL5sJ\n",
       "PpI95fFs495c/3bx0PeG7SxK6+Cg7kExADd2KQInCs5VK7oQoA44AAAATwGfCnRH/wAAAwAcUlFm\n",
       "65xfYJ0O33xb1myNVMCVWKI4CkYklRQWq9PYeCxfWtUnzt3/jHbl21IVuhsjCpyqVGaZbwXs/vvq\n",
       "hXc0EMngAuIAAABQAZ8Makf/AAADACGycBYcAbfMQZ9nA+9g6/F/usSFlcmOVQX7dKwTmuVY1p3x\n",
       "2lNJdv26YRkX/COuZ04zgMP/YzLzH65uwuT8MmoNA/AADKkAAAF5QZsRSahBbJlMCGf//p4QAAAD\n",
       "AMO8jiAGYpQiB3MEBrlbVWsb3SfJ09RSHDlFMs+Vxad98IQmDkFsOQVqU2/YS1R2Ox4MMYcSOS5F\n",
       "XdZNTwcDTKoTH/rjG2jsk/G1Xh/pi/ne2zWxplAz84YqvYfSFqarfXp+6R5eSfRrMxyKJSwHky50\n",
       "k4OE9ZjZENhn7mHz9DoO8fVapyMnNxkwHmQeVj9V5rOGekaEyyZmB9fYaHUANis0mCpSjm8rlyWo\n",
       "J5nTfrlTtZyOrQmx+ZLsbmWH1zh5JRYrTAMpA05bRXJMPOzaDqzzJdDZcpPJ6lr/VsD/+JnMVhnU\n",
       "2serahoLgUBvy6rQj2py/dR0x66mlH0L9jbwknB3AaTh7WNXFnxkUxzamE65lqrsatNl+fCbdenG\n",
       "bNC0TA6kD2+N3E4DLZ6jp7HE1XmikhIlAAh8cLC7ZH+iy1QQ0x2tJ5Mvm8wzXSJJ5EMlaKq6R0Ra\n",
       "UPC6Z84A0qVsbb95KOYABVUAAADnQZ8vRRUsI/8AAAMAP5D6TwCMLVUqPGEe0lrYDAqrKf8pVk48\n",
       "9N7KrfPdGm0sPQzN20Gl0aS7iXbLGVJSCeFcpJ5ezXaAZCtlTkdxt4Rh+5y8M00GA3PSDpWFUDuU\n",
       "3fKDO2wQLEz+bcwa24zRFcxSuUPHRJDNAnHZYJfv0EWFL0vzEUDnzKi4eoeZ2M4MNPJDahbHwA2e\n",
       "nIib5bkiDS4g3x6vQ5ZxniwVlPftgAjqulpL9pS3Gt6zLfE5aKVpni21BHof7GH1mdg9DAedyxVN\n",
       "34i4ErtPWv/g+EDTHZzCsZ7jzyfBAAwJAAAAXgGfTnRH/wAAAwAhw2RW6+BJmfPhKTigrrcr9Qwg\n",
       "DKSpZlhHZPbMqRnbxsJX3/MqHEtbZw6axz5/IJZ/q843gO/pQS/5sOZdIvwT+j09rqD2RGXcyjRi\n",
       "AdCihjgAkYAAAACHAZ9Qakf/AAADAGckvzN+l1zIUk1lhkf/HNfcAJlc0IZAVFpzHMIV9dO3/Jwc\n",
       "hUc3WELNiOV9vihW26XErSk1ATKpHdN6lAUsqve+4gk7GLYbYkspCMoHiDCupEUlOY4MGl//9/Wi\n",
       "lihCXnQPkb/RbK6tq55hyjBlJBkQSrGU+VFnzGJQAOuAAAABiEGbVUmoQWyZTAhn//6eEAAAKj8X\n",
       "+nKVXtU8ftNxL+BOlCvBynuggGZ/cmYyc8XRuhdEHnctBKBErAuIoBnHh80CEroeiRda0gyLoO08\n",
       "qELux5GVUaIQAMLgK61zvrVltAd0R3HX+lXHL0jaZ9iQApasygWCEm6dSjCkj2mgqvWUJBK43kcL\n",
       "ePmH0tTvD2J9VIeuomejbADE7LvL+faaCS3HqxXxLHSel58l3Ck6a43/S3zD4BN+ZUzh01JpbpH6\n",
       "/u6nvj+lbDTYHmawFqA5xLb/sZJlNHTXM9MrOZBHwTpb16BloknI60bvG8EmFaw8ZeuodtA+05kN\n",
       "FjZ2thaxsgCjdicqrtcdyjNTkJHGWI4ZMiOcl3WBhaM3/aCXypPs57XKdiLHBkiE1VAK8KUlA2a/\n",
       "3mS8IWeSe2Tqtt9j3FjD6BcjSkuhefbvGXTl4fJP6iziFN9Cj9T/Xq72mIspbcwYH4qFddnmqF2Q\n",
       "0Yfx+a45O9qT5E0e7cGyk3kQ6hikDkqCoVTg+APnAAAA7kGfc0UVLCP/AAANhMHgTGeumdi1jQm3\n",
       "DEvamImsV62FfZn0H56wAOgBdhlN8cSGwAtDUjzJkdiXYkm2Hu8kvpirA/doHKzu5IOCYl39dhlH\n",
       "c16sRHmZX5E03X4Ut9Z2Lj2BThs0K1Y8f4JFxg+N71PBizhNCgdHDpgF2KPlZJQUaw62Z/ilmYT2\n",
       "lgz61gi/Yv1x2npMyVmeR9fYpqW9MHLaf1f/AmtPvl+hkz+zrvaWd37Zbw8Mp1dhA7tfo9SJTmWj\n",
       "dhoLrfsBWG/xO+8LJxUTqSYnzgTlHYaVW3R87UUXm3OelzzOz9RqRvyAO6AAAACpAZ+SdEf/AAAD\n",
       "AGbwBzsQJHa0GbUwAbkT9cix43nt3tKkX2LUQ6bFoxAWwcGv6J2Th3XC9HsXf38pZ4n9IqxMe/Sr\n",
       "XMc64WMC0BjZod+TxhCtW3awERaJyJA/Pc9WgmLu5x1q6mIzrQVv0TxN04cjRercndjx8yS3ISLl\n",
       "dIvFxlbpvdiwNVVgrLljwv6Wni1mc/enuIWulrGhQPdxJcVr9cpoYgjs1wBLwAAAAKUBn5RqR/8A\n",
       "ABWcwkE03M9c7OE0ZJ6MZGINf8NCkpzvkTQl2AUb59CSOr1pRxg5m3J9TbsNTB1M5c4tghfLmBu6\n",
       "ttgRjwPV+PtZJ/fDaHHFgQhFxxrI59BQb2KOwpADMZC1fwI88A8d6wJeskFGusb9N1lVA4zLY8WM\n",
       "E50JtASHDHFPelMXAA7SyBxTAgmDG9FZZiQmdp1pYJdBMhSz/YnxTF0YCbkAAAFNQZuZSahBbJlM\n",
       "CGf//p4QAAAJKkDQ1QwG91hjYEAzRDFESRb2rww0Zy5pxhLXO4AxwSJuNxbyYztNgyI7LVhfgIoF\n",
       "H3uKUt/uPJXxrQO14h2Xv5nsirjYGFYebyfQC7oFBOCUBRHZCNDq062qIOY5+CAgygm5V+i7EDx2\n",
       "YNiMuXl5IWibttwnh/wu71eFx8cV4Tj+QCNf9KQSNf4o9EkG3oVoQNVMYCynQkRH0BBrsOQqEhDv\n",
       "fA03Y+ChOuHZd/JdukdIYudsJEE0MAAZx3byGuHsS7BsOyRkxOe1/CChdEpv1Ry+dJrmVNb9uky1\n",
       "4AQWV2O4uG9zdrcKUtHWk5MMUxVDfy3v20OoZzEH1Ll6MZF4PXiPuBAQcS6b4qj5eQH3jWhpR/94\n",
       "VVssodP4kX25itnrbFkHuAzL33qFtFLCjPabUHS+4sjKSDU+MAF3AAABEEGft0UVLCP/AAAXCDRx\n",
       "0UxBLj1yd01spdES3TQPFSWXEkaYcKV144CHjg7tCP3H0tSKowTCILyB7tQAvgs4fmGMUXDy41Zx\n",
       "D+W69nXxcHHaL+FhgwFUmmmjZw9fgKzAbxTtrvrfnItXR1mG91ga/lfKHddNBSyojKRFUjQJ8ezz\n",
       "ZiXZc0BFwFRKCtOtRepcowWNp7HbYMFwYAL+MUFkUcRQzbsMvijeNInq0JT+jH29Ub7Q+stfKVti\n",
       "1CdhBMGUFO8sp/a+/+lCqC4yMix9OjKIv+dquZVhSy47Prg2Ao4RUhLTIwOM2lyPcBwkX3geUXSZ\n",
       "mGpfpnhucdBHAqIN3Y3FHtXPiVCBpl0B2cT7CgIXAAAAqQGf1nRH/wAAJajZsrYf5I0i6fGtJ1OV\n",
       "Acqa4kUpPKz/RDOcGfDIgbVkd61KCAvWbRjokM5rEzTqqoO37PQkitW3RQ3vRTgBdRMgP8iSalIH\n",
       "GGwxxRT7Dn+6P3lULpEOa9gktuAoHdAjh9UyHqu3rDPlNqvmOJ3hptPMzpJqQzEmMiORRC527/Jc\n",
       "aDwRAKviSq6v9CmBbr+IL7nR7s2O+ADYDzwi3+dwA+cAAACvAZ/Yakf/AAAlvRNPV3w0VKeYr10Z\n",
       "GVJFJbwogSnNeM/YNjPHxz3qMz8qvUdoSdvv9U9QmFczH3sN0aVkmAFzZsW+/G18eF3HfWKIQ5Zz\n",
       "JHrfs7M8PAy5APUoamLR8cckvOewQ+mXFcJpY8K1fD5YVDhREliHcKJ1VaengRDL4J5KyveAPz5A\n",
       "ZYhvLnfbVLDOChnpMaS3yG4Mt/4slSxEny6Okj8iDZqHfsrSdEALuAAAAYdBm91JqEFsmUwIZ//+\n",
       "nhAAACo+79YNDkRStdVRtzSBRPH1qVEzAM7HC4gXMd2nIHR9j8sGdVThYjLODIfVtomVT2o8E5mL\n",
       "f9bN6hQRXUgBLoBAuWH3JesY000aOsrNxTmjQ3wJ2F/7EXoWx/MI16jzgb/MPyixLDR+1TvEt+lA\n",
       "yLtverJsRfgIA4WjUthYBRI3O6undJ0QjtWhKCimjZsxODo33W0wBMKuMDervYkvSzbyPPAuXr57\n",
       "kPiFBSJlV4FQ6OrHWCowi8C93Dyx7QBLUynjMp7AoI4CV06enoZCeF5FGvKQ2jjvaWwo+UxOsCog\n",
       "BLdmzTrrb/cmmfIW3V24kf+x0xywKwrffvxA1rmgEUurdLol54qRuPFCv+xpSuBupAwWruywNPC0\n",
       "sVITJ15quqKrnvvUjU/S7lVSwCZSEuAX/usf8ooWfJnZXd/lI82+IO0waRpMIyrf/nXFNttQYqQi\n",
       "jhTqIVPngwBur2v5pl71p2Z5w3hMXMSmpJB4fm663cVsgAz5AAAA1EGf+0UVLCP/AAANgTViijWP\n",
       "avPCQbgUulqUFCmYOrQDjsdqJQtC1uUVugqshs7L9FAyqfZpzGXgbjKB0VGxsE6SNB0551mbbuYC\n",
       "UTYUjolP0/dq/wbfRUilyEYamLB2k0W8Dc1zLbUmIUGWQw3x/3Ovd6jMxcaK4yMhe1q0IFjyBwsY\n",
       "rKVdddQbcG5qsXimEG5K3cQs4CiuhHoXUnOCsaKAZ0Oi+OgioDBYZNSmzgGq/Ze8M28iFFXELXLa\n",
       "GSrRljx2OwSkMHPn8WSRzMM7BQ7fEAUEAAAAiQGeGnRH/wAAFZGXtZQAM3NYyoXPgm3doI109dDI\n",
       "jllJjpmewoAM3olwkwcRmR7CIhBnS1Saud9ui0hu+PHgK37JePZVku8Or6rB5ll3vDaKCp6ZXPFD\n",
       "64tOkOI89AWBNDP3XWj12cv8YDZfTL32XvT6RexVE/LrzhGpRxJH22SnNSdxFpSrQAF3AAAAdAGe\n",
       "HGpH/wAAAwBnJOgMbeDP4Q826L+GACHwjY4HMG1yGZOycB0AROmG2gfSlDez33IL8QW26H8Vj11l\n",
       "f5IBRRf8IvC+Em3hTnjerBeKEZl3ZLVNpIXX0lQ6vF8GoUvO7Kj6LQ0egGY2188G+ANegiZAANSB\n",
       "AAABg0GaAUmoQWyZTAhn//6eEAAAAwI6kDOv/9jvoudbuFCgAEDG8i/nFIEbKqXllpvtVn6Xf4Vh\n",
       "XDqnHSjVLi+Lqikar3pNJOOXO9sDeg+gOncpEQrUSH3NLoDWprAmazSkRyKIeHfHPmz4wtPLeO1y\n",
       "EzZ6ByTq+M3xR0KPpHkne0yQvpRTSsGTx6Cc8EwTlpce9ZpzKQqY9pVrBU9Mxu2lGSEfzCBn3eGV\n",
       "pOJPSQny9itqCgZTnXVDgmHfYCZQDh1d/ewVaK98LX1KXEysuUE+Njwmc4TppFtUDVzt79P9sFgJ\n",
       "HfmS0BKacSuMraqijjAXLkBX1g0iJ7Caz7BSwgwCwhGUb29V8R4aibVZP2ZBCGA91VMw0MOpXpy/\n",
       "BR3s7fwCBDXb3L3CuShPT8qK277Xe5opSdYYo9SVoDWfHV+fJMewNRRXp4HvTzvNtuRx+uWOlj6R\n",
       "t00FkLQn5HrS57xBdl2OI5of7/5hJmmm0HJqVzZJe9nr42C//qlExozTswdJCQATMAAAAL5Bnj9F\n",
       "FSwj/wAAAwA/m42dEtTtSqy2QbcJMlxSuWmcnGDHsxQ0eM6AHD9NUFe83eDWh4+hvzAeHwxmU6TZ\n",
       "OWV8u4nx3fse7ai+GR47ggcYgn49YwQQA7TUTqfVugrNFkKm5BJ54wfE4fPgIHKSb0rrOkRdtv3g\n",
       "b5HS7sdy4tEbZHIQuWgiYFFdzRo0BOoOmnyUHOYDmIEv30wju2eXfB4lV3Bk7J/I8omA2rX7ENBn\n",
       "+fbr3Er5HJp8N/3iACXgAAAAYgGeXnRH/wAAAwBm8JRgvEdStZAeyY9/QXJAAldlIeRpuv7yNQmB\n",
       "PaXZe6Ihw31+RrN3NGz67r9iPpTohAGRhmcV7D8y5USwQVoys0ZvDUvNUdQYSRtLdsuxqXtikZVQ\n",
       "ALiBAAAAeAGeQGpH/wAAAwBnJOgR7dHWMRnAwFJQL0yhebENMNj3429FpdQxVJNQ4XwVNcDm+b2y\n",
       "/qX6bnCg4sYnAtFTF/XO9/Jsy4hiZ6KInCIA4eS+ua5uIhNFCZ0MP1EqoLrb0nX8EiUK5jwW7s1k\n",
       "bghT95vY0Jd2MAC7gAAAAWxBmkVJqEFsmUwIZ//+nhAAAAMAv/weAqpRtMxQywyAiZB1+iwhzl1y\n",
       "jJTtIawjGeS6TUHMqCOMHHYebxWISBcmv3BKEPCEEMLmE6wtFfBzfi1redoEPm5F8mXPtkefl7tL\n",
       "iVQLO2B7oYd6TqTczJycYTdRyxmRt8QGxyPNHLNz/v0ymbLfrRDVIU5ZOr5Wa4SLb7ZW8NAdaFha\n",
       "wMTbBkK3/xgP1pN+vAZkHbseIP3cehEbz1qJOsRiIfz/gm6trE4t8V6m5UHwjx4MVgUOAl0sCqkX\n",
       "8zqYXSu2f598cYoAc9Jb3L3Oi62RiXrBE8/Dx1ARZyRj3nTkmAk7MZ+mj9MV9NlxAxHLeZ+29ARm\n",
       "VwndjhB8k13xdVkIT2tYFSTVHyaY61jUJIHDQbI/usaLdFc0o8m176deR8Yl/VLWNff8ZbFFvxd8\n",
       "5fbhb/hk0NmVaCTcWvy4/y7u8LMUBJed42Po+FayLijupztMABqRAAAAykGeY0UVLCP/AAADAD+b\n",
       "jcQXVZZxvrKbAgA4qf69f4BisT5RDed3o3M55quqIalU2gneCUZ179w3OoKmqrcbl/JaWZu9nzJD\n",
       "CCfR8GkpUa87/Nq1MKftTtLSRXFM0aaOeJYGyVxkZQ5iFCqFIcoTNi6MzHH8gj5lbxuCHk3pUziI\n",
       "VwK6ue6+8EzUA8OPbaJypEae4H2hKJdaipvznwNAZFneKB5AYKzMjTdkxiyv90mNlgCbqtvfNB/P\n",
       "8k2UUiGwuxzSx+xqRFhwDKgAAACBAZ6CdEf/AAADAGbwlGbmA3miQ74lr4ACRDZw8e0IA56VGGYe\n",
       "fn0TVmmESsdmzwn83mK8kjOT878MBMgJ9vvrtwxa4cBRGbWSmSlsEjtMD1Aztbfb9MesrA4OpRj7\n",
       "Twzdo182ffhWkYkL90tTj5zBmOxavzkaGp1GOMuF7KsnAAddAAAAfAGehGpH/wAAAwBnJXPHoCCo\n",
       "+U7ZABLOdkRcKQI9HE+2zmO7rMcUJND8QbtHdvh6G3tbG62AQIp4QdURdzzkRhIbgPM5Ai+oAFTY\n",
       "hUvFf+Sr2NCLO60xlHuk2OXtb2msmVxJ01rA8oy0/4jwLJ9qhs68Q65En+PmSXiwAkcAAAGjQZqJ\n",
       "SahBbJlMCGf//p4QAAADAElb8r+mrKLgBq9lwXWFeNM0Zde975c9uNMh2rigY1SSlyUbhtMoeQKX\n",
       "GZY2ukRgDJVjI0d13+RsZd9vPTefq9aWCs8/DCCRvnHnJUDW5nOELHPne/MpMFmS1+4BjhhFn0q7\n",
       "Drg9sYFKsFP2z9t5wp79A5fQYcr8gJCqZkalyGaXb76Pv4gksEQTzDn6xh7M1+ORIVxHOsBUMUT9\n",
       "Q8Kjuy89WStwL2LrCeaYP09oBP2QM0mv0f+pvY2JF8oRxpUcEWUg2rIC2a9Au5GyHMWoe4gsFjU2\n",
       "rrDJchoGI/2SQbjhy0a+dkJmLZB4+7mgAU1FUsv9hhEesB0F8zq7bI/SbBlEjsn8Qibci1HvDxnl\n",
       "PrDo7d89PZCOvgsecP1C28hrdcGxKrQVY/a36W6jf5hW/nLUGi4KAWRUNZbWM9crWaHXd7UKUFu+\n",
       "Jx6jZXEGE+zl0KvH8+kTmo3bqnOoSgcEiyK9a3DW1SX4SRu0t9f7mnBjumz4xXiC1J+M16kusQ1s\n",
       "YTj99xp4oXnDITKVfwgAekEAAADnQZ6nRRUsI/8AAAMAP5uO/6FegSXWZHH1V2fsUYzHiynAr7d/\n",
       "T4EoHd2ikCEH9A43TekxJ4KLZAcVsOC71XZuCS4EOSU2oiraLhQjv8CfhsGEbX4oG0QngT7a4n+y\n",
       "VYTW2umysHVAAHQBJ2jny9GvRCu2Otn4BFpVhbWOVWECuVQQWZudhIr4oq8vVvNI7OzmEClezggK\n",
       "kdQtdImPWDlrjQz5aZ4QhZJ5P+PxDNZRYzcQCrpgn6RRc1TWmPJTXBPP5efC+MKEf2PKLy6GBCMZ\n",
       "Tt2aa2Kk3BsWybLNQY9GJ2zWg5gCcASNAAAAhgGexnRH/wAAAwBm8JFASH6uau9vQ2I4ALeLlucc\n",
       "np5auZNtKBJaxnKvFua0nLLiv3zG1Z2i0EGuKxVMcuNtEx4n43zefFe8MS0+0ixsMh2LzWTawWdl\n",
       "zttXvbxUCJz1d+dJWQy2jGyWzk9ll2zsy+SNINKQkYLRP3LJxmq4xybPJ/pJQAEnAAAAuQGeyGpH\n",
       "/wAAAwBxpd0AnUyEse4FYet6WcZO+MxQ25UjdIrGRL5tGHwtDE1d2/QOSIcop2aoO1vfFihML1CD\n",
       "AYO2x4+PFamZ3+YkYKUxkqPcuSD+lVkxHDu+noHcyaNRgFkuqz3YOkd9fm+itULl7yApX71OxzcQ\n",
       "Uo9xbBIHyW3nCLGXCgHZJjK3mgnp461OdDGJfMhCmq1Bev7RL775xeStbD++C/dN/6enU6L+OcPe\n",
       "rTSD4f7kAIuAAAABaUGazUmoQWyZTAhn//6eEAAAAwA3MiErwAJx7n+G7DvW93cjVp6h2wJfby/8\n",
       "bSGo09JLoB+Qe44W4BsfmdEhq3IQh4Kn9VtH10ZR6OvcCrpnlWmCXahHKIo8rTqIE5iQPvojHxnt\n",
       "l9KRPpT59a/8IVUsgC176nG766CeVslm1MlWv9JbsjXmBR6zKvBMLoj8BwElPz7CTYpS/rfXwgqK\n",
       "phK3Wcfe3utcqwaemTvq7RBg3xofL2Q23GnDGbsicnoss/5K95Ty8MC2zyGQ8WzF7x1WyKlLJv+2\n",
       "k9BCfpvs+QG7ecF5KJlU2Ksj1XAoYH9Mst2IW3uSStqHbXuKqf5fik/3mbcOxfKwVH/fYqBThtkt\n",
       "p1O7ZP3s4d+vr/SvaWAmZ8dT31ZlGcOpnOiWcCVhNKBYq3we55a5CtTAdzK5XIzSgNnIUJ7bnTsr\n",
       "incX+zhpNeE6VCG5o2t/4wwYf+03H1o66CW27cHABM0AAADQQZ7rRRUsI/8AAAMAP5uO/PRhycAA\n",
       "V0lRlqkfylEs/60+mO2Y069vBAIyijHKYq6uzQXIuhfNjLpWWnmMtOkcs/sJ3z7ekHAt0Qmxi4v1\n",
       "VxL0+CyFR9Ug1NA7HQ9a8bD/BG8Ekr7YsF1rs1XSLf5QJswAJdcT6ZrmwWkDxIlFlS3UJnYYT5M2\n",
       "IuifvEnr0sdDb3UHlYieycwx0PtmPPFO7ezV56M7A31v7E7jbPlKmI62v2Cnpd8irLq2GWi9Ozvj\n",
       "nv5DKAEU8StCYojVIzgCygAAAH8Bnwp0R/8AAAMAZvCgJV0QBQstTQN+pL2tyWM9ZnvVXeOjzZry\n",
       "zy+AG9rxQwnp8cSqN7hrMKnsYxNWnvvRJhPey8m+Ywh42K6D85CaWznhx7ZXwixfvYVRcPNOTo4h\n",
       "QmjDTB/Q8FQJloRoqXiMZHIohGOAInPqwPwlGNtU4AW0AAAAeQGfDGpH/wAAAwBnJPGiYwTKAmXU\n",
       "FWb6zIOKP6Vgrti8ZD7beBLXBCWKTQWgQYANFLxEoV10dPNpMtSTh7AqCKr2G2i+U9dluxCL0K5I\n",
       "Jw8YgQbUwVq/aiFfUECtJ6RDdU0gDhnCJYVpSHjk5En4SFBEX8ci3dnABO0AAAEBQZsRSahBbJlM\n",
       "CGf//p4QAAADADcyFW42WNm2Am76ATSVdIfv9V7eTCcpXbVIos7+0eEvbc0XEDHNKyWNZIZ2kwjV\n",
       "VsPqrSVGrbZshRLzLLr4NoHN/XfkL1HtNC2BxDcHGbl8VLQNrOm5NKJR4I29RizGpiBS1nlxbh+r\n",
       "M/WXlqONLyiEeYQhSpIDnDVb1iuY1DgHtSAUnFYU1RvqGqv5jjs/m0qfAk8otAoqF2omBJEYfo0O\n",
       "0WLMwDDtQ3IdnbHxW8e+1/IYR+EG7N4G9b+UXnwU1YGdennGcCq5IjZU5rXcDalyD/yVRtcU3ngT\n",
       "hOfgGd8a8Xjz/7Nkx350c1YAcEEAAACKQZ8vRRUsI/8AAAMAP5uO/+jfvAAZ0km2k6EL9pLX2Wbd\n",
       "Iz0RYUI91qmvGYuBKgevOPvOb4/qHqQngPRl7A1DUhL4Udu2cWCDGj+za/OWb2g1VJqcM3XHgdqU\n",
       "3skHir+MYoraxoj6tnORQEjwGBKgsQMBQVYhA5Q7IEdpxpQ3yim9GAZPCp1jQDZhAAAAPAGfTnRH\n",
       "/wAAAwBm8KAX/SALL5v3PzgANksleOdzN4bEHyRWOAL6KHL/o1rBRyBnJ/j9NZeZ+bEKekACygAA\n",
       "AFkBn1BqR/8AAAMAZyTw/S0l7jKek0Ilg42QK4XAXFMp/iTD3/y6Klt5cziUHsp73L/4YpgDfAOo\n",
       "1SBDcDTq93VPLkO4m06bY6S/YX2NPF4QQtaeP+Y1CAB7QAAAAONBm1VJqEFsmUwIZ//+nhAAAAMA\n",
       "N37HjbsxkgFcLfWTHjGpmZnW+81nJ81Vy7kYHzOiBe/q9g/Zu5sOBvwJxJqO/hlEIuo9/Nzya1oH\n",
       "gURBpAsJR6zP27FCRkQzXwoWcTg1EUIqUXghWFjVYD/+A7r40rz52U/9HujKYewXqcQ2LwT/8brY\n",
       "aisI0mgL3zzEoRguDolN+nCMLZmsbAzwW7leYaqw9M5a+RQ9Q0kiHRuHX2HJIL3ZJcLLQqbxoyzz\n",
       "GE0JQ+0ku5w4wvnNAWuVZq4QSu/iNydtgZGranYHi3fy6YAGZQAAAFdBn3NFFSwj/wAAAwA/m47/\n",
       "lSEFIXGjnUeas7Dp8PWOmiJWDEYbX0j7rl2W39ZY7Ibg+rSE9Xd/oDVPyNyJnF5TUxEa+qtUI286\n",
       "6krpUt9/6TVQu8nwAl4AAABoAZ+SdEf/AAADAGbwnznUgMiM0Tq55jFGcnhUrSB9u2x/BE7yCQmq\n",
       "+2OGtvm2NEgYNt2Z7EV+LstmJnatdyta6TY1oU2Gqde1QiFkvRD5tofuZxZob2OzUcfnaxurSlox\n",
       "FJuA0/cAB6QAAABFAZ+Uakf/AAADAGck8aiEhdzThyYxb3H+uAEOqhZ7ZaWqiSQW+2emonl62fzi\n",
       "0RqRXlEkym/LI8MW4oZ2iQmIcVOsADehAAABSEGbmUmoQWyZTAhn//6eEAAAAwAw64kuwhVpyAVO\n",
       "9S8pcACGd9DWIbZouv5Nfr+2opQKqiF12aFx1l0jiOMmGf0oyrTSu4xVvuJGDirymlFKBUk7HKUi\n",
       "33vJ+EXyyfZwI7ZGbFcmF4p/UFjRlQLRJEIhzKtTeJgbaMNrVQq+uh+YT3w3z2qP3QHu2Pcenuws\n",
       "5K7k5Lct3FVAS2DkzXPtrSghejlR5WR11PCZ/+42DvHQoJpze0D40nRlxU8ZU84/dkelXsSe86pW\n",
       "Uh6OK6SQAJ/hDhLPmcwsOVAXgXVcT5N9bacIbGeM0kkUbJGddfq/wm8VbqXI0kPwc1Al+80Qs9pr\n",
       "GGd0Tk5Lv3NPzNO9qe0dD5aRQULGnPTFEflT1E4woJr8dwP/FlK8mvNDWZQPrpApH4xHTsbV3Wp+\n",
       "04aVrmuz/SQDEbYAccAAAADGQZ+3RRUsI/8AAAMAP5uOCGlgiQzCAFvFyfIzjVjxmBAbOaUV2e+0\n",
       "UxPsBAUfe1DOSgUmSqW8sVZvGP2ntv7oVLQCBcThizj/tnaxS5a8CwlT4S1SXLL2BKv0Z2phFGMk\n",
       "afr+5bzYTnfdxiwMwtlDa4dzUT1GR8vFP6qPfXLB/90G8jqdLEp150T48QpB/DDq9WG2N+4VaqAu\n",
       "MzaycTJ9P+kvd1J8xBzc/AqE0bviCmxPRjg/Mz47QjC6WyA1leglmZrgAB6RAAAAVwGf1nRH/wAA\n",
       "AwBm8KA3mUBzi4e7JQYGB59hwdOQZvAdz7H21yIs08qx0K4Gcjc5v2R//IXjr5uxOs+o9HQN//W8\n",
       "B5C8Cuo/msLbYqzSCKby0ujBKgAsoQAAAJEBn9hqR/8AAAMAZyTxvJ4AErNaTZwUvCeU9lyTqPO6\n",
       "LeFlNFfNbbzpyplGTLLH/1m0QytSWhs3lagn9TUL5tK8gWZyOyOeU+/D6RJ3CO9saZ5dZ9RB3mnP\n",
       "5gKfgtdWmY/E0Q0cGa2ZdXRHWLK96zjQdKMPEXtktTgw/UmbdmeBbUSZQCrmHKQSYXt1Ggj5gBjw\n",
       "AAABQkGb3UmoQWyZTAhn//6eEAAAAwAX46qrqGwBmvPT86B68VPboPZn//X2HN8yO6SJe5r5PFts\n",
       "npJk16FoJkqMHyu8Op7Nanjxm85cgsncfWyDo8LsqdrW+xliXfJqWJKa8UETXPAQlnYXeKuYGtwE\n",
       "emgaHyblx1PVGqGo49aJLKFQY7qW0tNVFNyMkMD0B2vnIMS1qU2ucWP4gsd3eeMfT7BgRmsEn0zJ\n",
       "cgsGcf+ttrKaR2I5x4IrSXdujNenUUDwCqcMHJRKBcw37zVBr0u/FaCngb5K+Bybnmjfh/Iv+8R1\n",
       "+DNlWTm/IoysItFwU+1yF8SEE2uAP9SQRfTdo4rQIROGJb7p/zGNOLgTBaSsaF+TvYxHPpAW1+cT\n",
       "PbfB+xQ2GUDi+Zct4NzwsMpkfOpYL/C4DgtSV8/0Zx1OBO7waFCAA48AAADOQZ/7RRUsI/8AAAMA\n",
       "P5uOCiw/BXSO3ckg2BCWaNQAfdUBZ3aaNorv5wYFfOnqdXKFxbdJtNJG9DtQO7EaITclvaaZfnjL\n",
       "jBXyVBD9gUgHruw/s2IoxAVYWicNoqg5OBahDyCJFH4317NrarpovQzwh8aZ0wDteK/pVQojDKHV\n",
       "nV+ftMrHhq6xYwCPe9EQXcIpkybvWJ71aU1HgYUj3ip8fcXI1sKMSLz2AL5EXSnXWPcNTctZsU+A\n",
       "8vONiAGGSmbaFGfRT+AZe0ahi4NAbMAAAAByAZ4adEf/AAADAGbwoD6pABunx4nvl5Zh5PKOKVDR\n",
       "nZFzHI2iGPLwmU5WRKVUb1G/T6nsgaqfOffLclfXFSHY21CyiIlyU5smOhCl9cDtDmr2Fldclv9+\n",
       "EXeBDXqLZl6cRe1MYgHD6dafvsyRMhR6oAEHAAAAjQGeHGpH/wAAAwBnJOrxFFs1bCbmAAB94Z/5\n",
       "s0zVEb3Akjq+QdWU2iSxWXRkWfmm85YQRMtOs7HvOMsfYo0HqqP8vtmW3Zl+6enT33+z+2+U7/vf\n",
       "c/SR7XJl79s+/jGv6yZbPqjzQoXvzZxlXBsoRC3+XUbQgIwV0bgjow4BTN40D+rK1j2PFrOsZ4AS\n",
       "8QAAAWNBmgFJqEFsmUwIZ//+nhAAAAMADDwzoyARy1ZZez2e770GTxW8x0zaDrKn0PTuzEXKIN4v\n",
       "AIBJ3RDPDo4uarRzHOxiU8NpPhnhN+sD+YZ/hTyHOa+sXwFyAaTMjtOQSYg5ZwSFup4IP2JniEVe\n",
       "5EYmUhSBiFcK/OxCSGfYT4VySx1WsLIgIpmBVnh50EdTHWgiXoW/hI6q/aAWqBd+1cK3+I5DyuSd\n",
       "WW+2AeUDGQrjBMJBmHCtmVXrVyPl7hyzHqK4HaSOyu+Xdxd/bFrPmUXhFwKkmDbBj5uL8Hc9LhwR\n",
       "aUo7/qTOzxbzFJjhcv81P7ffb5cP9H+bTpDaMDMQC8POzZLaGeCilPg3eEOntjUs1+Xt7mI3PqTt\n",
       "ukmvXNfOp9VqVYVFIbjI/8l8mp+/RXZbzIAAWOsPh5s4RUIItgMazOvf59hQXcWAdLhwbGJSHkHo\n",
       "B0Zmvr3GAavdzBgFpmNmAAj4AAAAskGeP0UVLCP/AAADAD+bjZ4LT3K/OFfABbURgorR0ztx6J9m\n",
       "k13o4l/AsHcMlRAwybIHo9so7+eRMe+ZPDYVCCVsuxX5kiTMSWNRLZa/KbQvxv6one6j6MKBmqeC\n",
       "5/o5WHg1kpzPiSCfrCWGAEWD0XOP43xpzPo0mpJX7WAJjc/smgMl9aiWw6esQD+4Cke0LbGIcLVh\n",
       "BmwfkRkzZDwcY6e/MvggrgYuWeoXaJnUVuUUBnwAAACXAZ5edEf/AAADAGbwlaI9gwB4ALZoFeYI\n",
       "eDfQfDNSAxJBRSO+SRH+PfX/FdgUyePzNsuXka/dprDI3KW/+HKTZbPqHGuFfEasn5acslaKmZ+w\n",
       "yDYECuqjv9Q84go3hOyWAukvS2GRPVupCRqOTAbvZ+7U9Il2VUsqGAZ+fPveMCPGQrum+DqoXPtx\n",
       "+4RrwIpJNNc34BAHHQAAAH4BnkBqR/8AAAMAZyTpIFYTTz5gAWsdixtHKCj5e4is/OceovMsrOvl\n",
       "s/Dkj9auFoHHq/BiEpTVpdTtOo6M97htZzWFsfCjS32iDNEX3n+k8QVFTK2PPvIMK9Xv8I34yxLf\n",
       "IkvId5YvOXjWaWEU60H9hbhpMGTAW/l+b3wABQQAAAEgQZpFSahBbJlMCGf//p4QAAADABHjcy+U\n",
       "Aqew+TWf0lztXQY2wB9GU2m/UWowfsg+Nd9UE7+B95kvpMt0L5gWBHXqMoWSiAkr1mUcY+SIVUIl\n",
       "xj6MEoZeyxXP2golvKhhepDVD0Z2WgjOsjTeqTuDrh1hOvg/CboBexQ0i1W+K6pV33ImGVUmGPjg\n",
       "38x9jCjgLAl07thcdCCy57OdfA3jmBWmsmI48JqibEHrY4MIjNRgxz3GdV7F+3Q1lwzRS0V4/HME\n",
       "fmomUvzCzXHWdQLEKu62B28InebLpJvw9lY+L/9+8oQr32zSxORn/s7nMH78eHbkUkPd5+OKc/ze\n",
       "TTjwcE8ONCH0+vxEU3tI61Tz1rYamfoBwzmNCwRdsXtd4AF3AAAAu0GeY0UVLCP/AAADAD+bjZyk\n",
       "kJkcw0cixWe2Zw87Owe6AEy1G+DeWIH5XmSw6Lsfgp/L7TBOE3fIYpZlgXGYSUtmivQCNs7GAw0l\n",
       "rjrs5TTGMLKF2Kg3ANuDsXSCx5nAwr4MEb4cs5rgTbQGYzcyD67eqAb63Emand4fzD+HtvnlMe8u\n",
       "6YP9tz6p8FImGhwlNJ471h43lKPSXhIuCOS8nf0PUqD3zptLXJLJ3tWtrG06RJy7F+/C1g+wAsoA\n",
       "AACGAZ6CdEf/AAADAGbwlaF3lCCve/PIA3DUk7MwAQyFT+QCQsjqAiRv8s/UsytMD7ZNsfrozjvc\n",
       "ygtQHiowo46vGE90A3By4z0FBFlzXLBalwNZ8Bz65TTOwNUWSPOtxsvjhB45SwkIEcjOk4cwDkMv\n",
       "GS3bkhB/vwPNMGKepeaHm+WyKZkAJGEAAAB3AZ6Eakf/AAADAGck6WP9/ADUw/ZTTuP06Xt5av0L\n",
       "XNjN9K+CpGKBVAlc3MLphAcpqBzsoDxe15Qj1t2Y3GI4FbNFEbygBgQCAWMKdFfh31XnzLrc/ZZ/\n",
       "2rgVTavgDXGvuAM+lg35A309aQPg7ZXcSQmxBi3ABN0AAAGWQZqJSahBbJlMCGf//p4QAABHvssA\n",
       "pOr3RsBOmRnYeRLju6JW5wFik937b764Zxmh44kYk5cUpEWL04nunVCNsH42WPjhizuhQN42/vfI\n",
       "9mhh7MM7C0jt/80kQnU9li7BrVipJQuwyBYSRJSyg8rjD4d5ZHtbkABqOwcfpy3x1n2O3TmzDFpu\n",
       "CS9X/sbdBiUmk5WqQz7kGd1280xYcPsz5IwCLA+wPp1CYWCf6868hnSZjOT7W+mfw3Ey6MuThLTd\n",
       "EcUB1QqcqJXe4zIudLAh0dHOo7a/Veh9/OVpA6UiuDLE4f11mCBiT1GXhCrVN3PntTj98x1F9uJ9\n",
       "Dr+N7KGVLRisSwP1XtjNe71InQMBmaIgEe45OuAiCwwf/njVEr6HbkRfq5pcj2ncyMrEfGBtAV3o\n",
       "pvwIfRM9TnA8pZo10UNxN2a4U6RxUUHoXyS9Lrjs7uIcAgLXeC+rEZ6evPMKYvbn/GmAiwzZpK8s\n",
       "LTLeYoDhZxspYIMUDxIfqTOKjQ3QfFjKt4kIGI5Wz1gaujFgNzxlIABWwQAAAL9BnqdFFSwj/wAA\n",
       "F0xNjQ3ruCiDfvRUzBYC7OrjlXnm1tMM6uULHvnwg2vTEEuqsQAJ0Atl2xiauIs2Efk4F5AEfkGO\n",
       "UY/GCweH1gboC3etQt8ycI1+fFirSOWMRPU8zgR0rYbQvoQjXoqChEnK5KwiSJrLNKGwoyKALo9m\n",
       "SxD0mAA2lFD4TV+3vKkgy35v/ncVNj3HaKg+v7xh5K+xtZuPx+RDfKdC+62mBx+ztr4uOIUI8+o8\n",
       "jpjBpkjJCYBlQQAAAGQBnsZ0R/8AAAMAZvCUaDqmu1hp35ABLUodvh5zPEILQRUYNCtoqzbwG8yS\n",
       "LijcKV+9j91CPEa2xk7MaJIyOne0wlI1/y8cUAW+d/nNZM62opYIkpg/YPWXvnMmTHJISGbHQAQc\n",
       "AAAAcQGeyGpH/wAAAwBnJOgMbeDM1hTGJj/3hCn2gCfjit0BaTMA4U/QhQyuDCzEJlaVTCQxRB05\n",
       "xpfhS7Q6bf+iIk8EM24Foa7xaJuEeB4u3EtT7fSylE6rzAhzi1japJNOogkNuxD5eZrxdTxWLzux\n",
       "gAqoAAABZUGazUmoQWyZTAhn//6eEAAAR1IGdUdpJOrDFfGQlAA/FBxC8pn5XcnrWY2gzMBhwX20\n",
       "xhsacZdEMAInR9c35ZsALme/F97fgAZBEP+jrzGZ2ZlRzqJVIFECV0ZM3ZcF5SfJYKg3uv50TUL0\n",
       "iOL1T6kRnY8SOAEAIkux0XfmrfjncYUrFbtEU87e7omTAzfFHlChMxI7g17fH5t/mketBBx1bMmm\n",
       "bs2ll/STqfyTXq7Nm7CnT32reu/Zk7kfjoCzgAfEkEtJ8Qi/efTpJwCtgD1sXLko7MmjhhkoFJrm\n",
       "HQdK9u/J5ldnUmatfLSwIk2WzblA/3zG9jLbE0+55EKYI6hvNdu/WQA3/maZsMBu1TppDXCpJ9wx\n",
       "Mfe8j5hTVUg9p/IE5G5jPVJ98aTV2hw++w/BPhFRmgsfa7YK5k9XzTZo9Rans7cTOBVdlSaFeb/g\n",
       "RTcm0zIDRk24YaPIH/Y54KnOngALuQAAARNBnutFFSwj/wAAF+iRlsqlwmE4IRtilQNOkexms1fM\n",
       "dgTYeEUH4TWvBO0x1tiuDI9PaeH419y/avqwOUnHnFYTbs428ziHm33x1kh00lG9sm2eKOq50oAp\n",
       "grmXv1webvFRBx0bzvvOgGvuj7SbjACPyddpSrvs8MpSY91pK8IutSHcXIoOqTsX4RltXpGmG0Tb\n",
       "UWq0Vtdkne0MiKmypSM7cpx9vC2C9dq6lGUBOLsBpRVFVrnoq3Bikwy0YsaJILFk4BHRcaqEfrIq\n",
       "OtO6OMDQedI7YPlqVuFV11alYK1m6WXmr3u3KGVVvPmmiHY/U9M5gYjIAGWz0iK/LV0Qt9J69Vtt\n",
       "7+WmON8craeKoM9rkm2B6QAAAK4Bnwp0R/8AACFMB8fEElLFhQjBonFQdaH3lCOdJoe2XP9hKFJx\n",
       "VoAiXQrfP9PXDoeRMWdG8nVEPSrVdL7AAusVjsL78Q8+U/8m1SNyKhsYVc6EUQEVnnTkMexJvLyW\n",
       "rQJJG+faHdb8+bFi2UPmybbhbHFpaprQrNWNu+L/lpcLxbBBb8rK748vlo625P/6aOIjsSONPQS6\n",
       "y59kOgvdLGHjubJog3JdJCvK3uAAOOAAAAB5AZ8Makf/AAAhTAzt7RQbx7iDXxAro66CB0QPBwRl\n",
       "o5Ry8gEfT/IyJuoAPcVerCTUXyt5fzSu7b9FKyk1RV1Sj7x1+HWCkTE8qzknHRErZpDKQ/BmCWzD\n",
       "CH1h8iUGugOI8pcOSjGA98DgBN3qbJa5KT9AxgShiAANSQAAAZFBmxFJqEFsmUwIZ//+nhAAAAMB\n",
       "Hvix4+ioY36MYhAAM4liJpiXrAyClBPzh6VCu/d5IY9mb3gm+sv4QszedjE0UXKzj+wbk1bgXXlp\n",
       "Hkstj20rraucZ/YmDMQsr0tiSHS1phKYMFMZiCm8KRBm2DvS0uh1ScHjGcOedPRGPMEMK23RJLVq\n",
       "dzUzpByKailE3u2Kht+WdFIIb5TrVFgFtcSMt8P7t8FsBIEPHLbkijI9OSTx/bHwm/R82uVQnRBV\n",
       "BJaBlN1HlOzIuFynDdAp/zN9f9Ik3Pf9nL+8+oEfJo2wN4IpbBHFi+U49depciyaAvJICEx1uM6j\n",
       "IwoJdeNi4qVHSlcNTP7MngC95mfsyq/bMAt+tCmyDLGQJ/dFF1gTp7o+f/BdtVccbHylO6ubB/5V\n",
       "4BCa/PIbGmuYYJJlBCP2VB7nfte6r2pjVCwo4BUESE/DzxAeqFH7YFQiQ0HL7whgwgM/HEOgBDbb\n",
       "xabBdJ9egDBgj0wjpwVxt+qnQHgyKb6xTtY0OHN+qJjSruY7wAAK2QAAANlBny9FFSwj/wAAAwBd\n",
       "FijvaP1wBduRKnwFwM2dzCSoHMldhvAFIAQRWNNGDoFjz4MxP7MrsMiwjZ6TojQ85f0bpOdT7nxu\n",
       "VqbtaMcYc3Xu4z6USexOVcrpHhp6wqNNU55ZL6YspaB4g+HI5L5z3g5pfU4Kln5XRMdj4CZ4cle3\n",
       "JSxpIPDsCMWcOVE2VPm5a4GKulXdjZqSwqQYO11QeqnAUP7Elk8UL+p45BYBRXud4NhNqCCKIGgY\n",
       "54LBLwu+zGikSz8rGdo0fVNHEdif57Reoa2m/2t5IAu5AAAAjwGfTnRH/wAAAwCSsd6ujV35jonA\n",
       "80TWDfzrAA43JK4aVG15l78LPF1mQ0ch2H/K3I43CtcKmNbHjhz4HjcTli6QKQku5wtbiFepYo0f\n",
       "ahyLpwVaI6DZCWUkGqPFVrd+4ycGW2LETbU9JDd36/ArESqUfY/AoI80YpqXUYsiZiNnO8CJJIvd\n",
       "3q15xPwAAEXAAAAAeQGfUGpH/wAAAwBnJKm0GubZylp2C2hx2lCvDkN8QcIwAbA1I1Gf/6CK2dTM\n",
       "/yMT4Phz6xojyqXgIw8phYMZkDXtjtzAi5OUcUCuEjbBK9jYp/c4TsRb8A6RS/wy/8TG6P4A7A5G\n",
       "Yp7w3doC4k9oGl2+T2DqjvQABcQAAAE8QZtVSahBbJlMCGf//p4QAAADAMPStbvFZrW10cg4okUY\n",
       "AenKqDboATVvymtj+UO808RlJLG5euMt1QzPwPWg2I6CW4VS56F5IsKR0SKNOmxA7rg7M4AwzNXK\n",
       "w+8gn66lWJLLPtwkh0+Gktpphw3z5MkebLfrLxq78ZaX/rMd54UYEQIwPQtN5Mtf1vw2VUj1evxv\n",
       "RvBKJpy7iaEDiT/lXCybHTU5P5Cz9RsVuYo3P8VuhkBQPUrcf6Dp6TjLz39FhyzeWHABczapIIbo\n",
       "gq13PkZctKsilCUdUYF3G1kF/+XsrxM42UtvjRo0urFogut+LErA+2yi+vsnb9lrxBdahZ1ZUDgu\n",
       "ST/Ts+UphF6uTSATd2PbfvU+l+V7puIHSk8K33nH1B7+VK5Hnn9G7IhiBgg1RTU0INgHnAANCQAA\n",
       "AK5Bn3NFFSwj/wAAAwA/m4ANE1lg1HIFA3REYiqVTmAKOA0OHe7xN8ZltfSkB+owQ9VY1CuWZZBG\n",
       "X2lC1hHiWRq1oVQZGWOyELbtq3sqms1Jxwv0scwQrpvJN7RHFXu6+1Nd4H5DgLUOYoe+54QUUX8l\n",
       "dlvBqaNABDvFvSky9WyKq9d2oac9cH9wmLYUvHPPOeT/PTprq3tbp1ZG+78Tm//HpeVj6Ov+jStu\n",
       "puVgApIAAAByAZ+SdEf/AAADAGbwUd1tOirYg0AS+BN5Wb7wLKXW86d9noRpRQGiMhsDLjcFXydk\n",
       "gT23qVdBDcwyyQL+GjvEWGrGH/Z8UaL74a7FZcXSINbTYBza4rmBidT3Hv2K5TXSiV9JoeBGtvvK\n",
       "M9fVwjI3oAFxAAAAZgGflGpH/wAAAwBnJO8vkUgBIocCM0N9LbSuqK07xapQrKWyxUea72XFO0o5\n",
       "7hcwSgenVqNTwqyO+tDeIh1PjtnSiR/B0wruIQCJa4w6lIab5xqOPaQwwTApd6vEDf2kKUnnWACD\n",
       "gQAAAMhBm5lJqEFsmUwIZ//+nhAAAAMAJaRLzoZCauMmUqEBKfTJXZGsvyjz3P9dRdKOUs1vB+bn\n",
       "B93Hsr7Aso3aWr6Avq8TE5YntuOQY6IP7kN/Ze55pFTSKsm1EA5XA0MyUyCO0UVIT5s3G4hCOULd\n",
       "OG2RXzshu5TXV4kvxTgdFvoOrXT2mh8DSqrX8XEqg/SlR338n5HycmzGN9WUZ/bLudMC/1hj+Z4n\n",
       "yyvhLIywi+ayY6Yddd8H1xgrdD6i/9Id6yeV/s7JI5ABiwAAAGVBn7dFFSwj/wAAAwA/m46imA53\n",
       "tAoFeuY5jHJTjIaW6AY+WLL+LFjOT0ttnxAEz2GOv9cL1Ue8aIWnJ+0rRW2p4VxdXrNRdn2jV3MG\n",
       "SuhOb1IDh6jyqzEx1t8UgTA1u4zcrHQBqQAAAFMBn9Z0R/8AAAMAZvCnXrBt8mktpiAgjg5VDDZb\n",
       "WuyBq1nWl/g4g8dq+UlD2wTQUYr4buUbxA+1bh9KsN0qq1DXNbjhPwhgwVZcdxevwdI0VoAGfQAA\n",
       "AEEBn9hqR/8AAAMAZyT2rOZuteHHtMT02gBW9MQDq+rM++lEvZJknjuB09nesWn8fYEvll7N9W78\n",
       "pfvgzuNr0AAg4AAAIAFliIIADv/+906/AptFl2oDklcK9sqkJlm5UmsB8qYAAAMAAAMAAAMAABH5\n",
       "cLAuyiEuZJAAAAMAEzAC3gGqAVYBhT98EZH/AJDd2jPsSWqDVbzkz0Ub7RSBjwoTxV9XcBqGsJZm\n",
       "yj+W3Te3BdeiACpCQTSvudYoCobXvp1u3uFGUiLU7OpL9CtxX5mlhP8f7YYZSJcGLzzQ+61hOd63\n",
       "Uz9/uJgQNgw53smTIqjo9VNwHgPD9cTHdY74ULsQYK5n5b8B3/TvhiC0AmVzEGqwm5F7idF8YRI/\n",
       "JsOqlowY733QpuLWzTjUtcio9alihTHEH79qYpNW0JnwvvzyqcvDQAq8O7DG4QiABKTKTKQvBfoM\n",
       "a4fv9fztT+d6JnOMQyDpIUms1VLfIneoMT8ZSABXKC1bqHs6lujuqF3UFLnxc7oKCjuFYePZBGr5\n",
       "fZsROM4U5pX3H5L7M+iqKeGmcOc06o0th8UygpeWCF0htjU0kuOZW0h6BwWSJZCBQzs51MpaqD+Q\n",
       "HhDpZJlMAd0efvrgCkU2A3s7bzND5qL21qfcaNGHUTdojzuN6TWsd1PWkwaiUgnzg9gxikysV3Se\n",
       "TPMJCJJ7jg60O99xH69t/ISJPzKv8tk/Ftfujql1ROYBLGnPNBlS3s4NziovMG5YO0YNtyZB2h4q\n",
       "bYs2iXnJDCLp2J1lK57fUJsmsm13jangmpyc8Zsr5iXRxEvn5sAIcNNCfYyMtgpqfJj54bujQ+9D\n",
       "MM5k7p/UXS5V+zBW4wXRfGPHcqH4XEQglTLdTP8d2/895i6AhA1dFB1FuSD0G4jBu/yiGvg86U96\n",
       "W2/3j1e5x5YtB2uL9zKLuFJp0FXxFcseGk3ravHDu53fDKKEnAMCP6DFLnbPBNzcPOKv74AWiPti\n",
       "A2lFRr/DfJqC0Ju6ejEjnkamZF9cQu+LDjM9hkKm73FzJlK7Ke6GYt6/NQpD75lP4/dOzfqXI/6r\n",
       "afY1nI4XMlmwuxqcpHJwxYCdXaAUc/eDn1oWKsVTxlkmR/DlA3+3OIsbvBgYhD+bS+A6yd4v1FzO\n",
       "V1VLy+beJhT07WP0Jp1p5qAM7+68fYbIX+qd2k3nvpXBcRbU1VmCCSyPmkiOaridvgQhLZxi/0c5\n",
       "CCvWlBwyqJDEabczkm2JA+OZfCygDeG/Q8XtoFZE8O0SpULwV9cqG9mkMp37LBU+rrwSaTHB9gBc\n",
       "Kcpv8ZqyHp0AyLAR1LYFcQ62WHtp9AJpub4ehp7L914RAF5H7YJ/zYzCf5ELFKm4+d4SmjhLQ5As\n",
       "Gw0hwclpPRLVv4QeIAY0XMZBzRZDp6ATN186nQnAVFM34Q46KkXGdPxUvue5KWeow9rQOQY4NmfR\n",
       "iTN6QLTDCi57PTfCjiUN28Wgl2xWaKyv6/gzcqRm8gcBruWCdWfSMNEXEqCm5bvNoM5YNJWYMyzT\n",
       "kY94w2yTODZqqqx5xYdtmRarSU61+aPB1/kiM6CIGbiP+yON1PmQROV6n9a+2a+XKLHT36AkNbI0\n",
       "d/4LqYLzn1Tr+tLoMgFT783ojdvxzGp/p+3DMkDNVhzuS80ZjWJs9e1Xc9y/X+RyTBaz+UCvLPfX\n",
       "BwVj4APNbh543CVH3uxPPnA12O0nDjvpML8FK4NAZFAQEdXo11aJRKHsrUouXUfRXpvhtmtvWA5o\n",
       "nN0cNE7fFmKZGGXhQXEbyuYAC1BtYWw5hAMZapzrgayIhyFF6OQqD0YK1DyQJqioJ18r8aVqDshJ\n",
       "TXLv5RlbcqWA7yR9Q+h4vXbx00OPGroe0TmgM/N4LHx05dOMV5FOyMOCAHaDkKTvueRyqEVwFaZK\n",
       "8skZ9oPrRZBJS4irhWXOJCLvDRKvM7zXIKr42WDR8fKe1Zy5kvLt/wQF3qWfjcBOu+EmUW9feOhJ\n",
       "xrx+D2m7w3Mpm0Ixbwb0C0JOaaGqWkNEqAHPHOiB0rQw9Ha25XTo/R8MXTeRNKixaH8sZr8CNt4M\n",
       "iTqhzh9rieDyOPjX0s71SRaO8UZvPWfh/UyWCO1VdzSOsXbm2w617BkN19C+dM95US8oZWSq5wgT\n",
       "6BllLIswC8k5CiQwQAp4Y+ntiA6tra/eLSvzz5S3Lbutg5gs+SwFF/yg3QyjmOVWQuq++fggQT8K\n",
       "BYqHm1DVxkA2DftB9WGnpUcbUlEraRJUdHZLmAf/XvXQOZ+LkYpAC06UTA8djGeQ61G8avtwhpvc\n",
       "bDdZH4Gs7id7d/4YoXlUf7nDYJ48+h+2E/NLkz8r8s20ljtRtKI1kQYmuyFTg48Osor750akW3G0\n",
       "mKjMk+qUjbfWUD9M6SdVNR9zUsWNNPgwKA1k7UYmT5tUF2TPVW6nN51MYnhYXSlZAdIKIFvCguPE\n",
       "pXCHzhsgRdl10Jt66RQapWfAg3eQPZzSPY0JelaUDDrH62iY4iNRhj3gIPsh2eCZHhsxkW0ZLwM+\n",
       "siaFg5zKAsuf3en+0gERCxPVx5qS2/LKceuksyk5vp38Jmihtp4ENLJg1HPLl2Y5AOGEKePKkuGT\n",
       "7YgIbskLTGh9tNG77Wmjpm2BcDWUEo7jEvGfqlgb3rcb5mK2fJuDQJUhS3PG3jgHKlgoSFVy6C1l\n",
       "V3Av8S6+46H1sjdkXHPL4Ruuq7I2COjz6cDERr+kiQHllqeH6Ba0tKEJUu5sgzE9NXTZ3zT1jvvN\n",
       "TSw5kanBW6TDg9AdJRxglaxyUl4YIDEHJ1jYGI/znDYOoj8UzRmtXQVJgISqGbTcfkuU2hrUqMNZ\n",
       "VQ2WQ/1OXA3Bf896elyunjjleAm+bjJEcaA63crsrY88qi7ysY9JvGv2h4mIYWTWxlymQj7Pojml\n",
       "LqSWK4vDghCgLfhOou76KZESj2ZFFB9zEsewfpYUXDEikvE89q7QnoNPLQb5ZFs0+QhDgbjTh8NI\n",
       "KSuxOukPwG0I3Ia+9+sdP2K/JtNpm74mozG/c7c8SWzc2GnZe0AjCnqPxjWCLoZg0rTLEGNHVojK\n",
       "agyF/wayGLUiEDwZ/wPbiFhe2FDGocyWSA8XF26Yo6gLIzo31u1AF4DveYm/8FKcU8MQtoulFdQL\n",
       "G2NtiCayZu/JWAQNcVkVZ/iMHgvqPdTP3Ic0KnavaNWK1L32rHCeQs6yxOeX/dXcRssGF64uKSZz\n",
       "5p8S/VBBHHvh1/CSX7PXg9e26ObJuZJ0VvuzbyEPvw5ahKg8m4FOn/yNZD5H+f3zS9pudhlQacpp\n",
       "2nUL44T+vEzWrluejZHmEsGeIyXXky6r0p18Z2shSEQfrOIa6QN8wFbJZOvurPN+U2ufeYNcLrHQ\n",
       "qHSms9fO3s5jVkDXkHoY1DHFS1t9avwEIWUzOmblbCHgjfgFR+zbdgh8Um+0f8TdYzZ8s5i81rJK\n",
       "EAf9tjpSrhvcLkT1eyuH4DpRVfQyaL5fRu4n50ZEQqnM9mSYZaam8JzWDR3vw+kXKzmr9fvNxJFm\n",
       "UKaUCRNsx/2yNshErvZViR242kK0lTUomlV/E3rfHX5AZHhcbak7VTxPQqt56X36ONwhPrP+gBRu\n",
       "j6L0F4WlzqiW+ODeILinOV0Kr9OrVTPmoAzGUmlpN0U2tKV4+Y/FSFjNC2kZ/UToHSg+JoNti7wp\n",
       "Xvezp7/sbW76cCbUCJv570kNan+loq2F52jsMBz1NxJCRIBfzamsd174+tWDSrFT+7mz8GSq6Kni\n",
       "6lBkjNEMZYYvtbe3G9X1xf8jAjRjH3cp/mF9GuOl4Qis3+yW7KJJwaJvAChUdny5OhgffSOvaAxJ\n",
       "edfHjprq86EChy/t7N95cRWAegC0Ixchexu0odvGGFVImCPg/DydponpNxPXutachO3dgHVJEHor\n",
       "z5jC4t723Zh8unqlwpvIizwrULeG19UkVdNhzN61/B7fWekC1cijLRj8120GCEF21AQ5QTpwbNzM\n",
       "6fBoikwZE+7ABfteWaY1yblmI+KqedJBy/NcrDTEXgTQU50sEWPIehglimqhB6hIeSTztfBs4owS\n",
       "UJnmtQDdnS5mYSKr0cMIkmpX3P+7aoMiqzy+8EyK4OYCqcKbIScRnUMVqo+cl9FBPO/VFzkKihX7\n",
       "24TpnkcBCDWQxgvKy6cc/ui0wt50OFr5dpXUAhoNwQ053btKVHRvzjvdqk+ZrTnqXMcj48BKDgjQ\n",
       "vNENhO9bwGlc5tj01OpFm3hjc5lhkZsOPBBsm3IWz0BnYFV6RG/GsD8L/paAw0hqvqgUphKfyT8w\n",
       "U9TEnrjKU0Xf1lli0EraQa62lYKm+dYPHq/dZnq51mNFPQgdcJjE+avaSUR2LH1AHBTAQ5Rp0dzP\n",
       "2tWfHEUsKGB2/3DPUdSN8ekJjK46Xl9UDZpAid1zqhJCDy52REuq6a9uRdV+vWB3MRn53+IRByT/\n",
       "Qtu9wT+UyzBa7tSEIREEpnfXoQk9KMQn02hNM8UvKkkNer/Z1UKI4qzGy+Pd4v1sZwmONMZb10AU\n",
       "yvepmvRM8GMREUnZ62P5PrtpYwlKk594z2E2Jzpy/76kCuDthaD1svs5mKnNX9Dk2XiXQjfGkmqo\n",
       "xATWAeXIS1FlMPTiYkDSf/ytOVWhr/uvqSeGOfjS4Enbd2/9sKrpHTFzsslzRfWdgmiw1J23gAnM\n",
       "HsUTaXnaYCOudcV+OI9fEK8aIFqNL01obQZ20W1MD5CZpLyEPaVvJ0hvUA5J8a85uEiMs9w/AcjJ\n",
       "JEfJ3xGobI91mZ21L1arGKDdEtmzzpIEj89FexEbf1jcXsILgV89BoJL5ElmTa8r0iapWLPcZWGc\n",
       "gwaDANIlyqq9OzZfyomJXKBVv22Gwhfq5jkT3pUikc1bDna/okuFFOkaqz/zOk0Cj10xYmuJLjGu\n",
       "jsU3bVDtfwTvvYOeK9f9nVQmedSdM7WURCGjNtKSi6b5oNbfdwlneX9CxAocXzyQuVA/FHFCoD7g\n",
       "TXOIkrQ9FOGXKS5z3RGNPBHZBYdztcrtUTTHG7V+UDAanSar+0MPhAVfcE6dDbS3ycm2mMNGnVYJ\n",
       "QiVgD7JUNndbvdKVDO9MW+ztS9NY3Xd7wfkza5aO6w7Mm6kfst8+K1SX8k8pxOAMQ2t1LppMBx5p\n",
       "pWOX+uKQWwsnOfXCwlJ433QnrNwyBAnWV5R37q2oYH0j+CbHtaVxHvOXFtn2SFzkS5FllpkoeoZg\n",
       "4ibzUqdifimt/cxsCbGZSmtltjHer+ZPcfr24ZRUdZqTB7RfGlT1pShiDoaQHOR37yrXbz0k4i6z\n",
       "+icBV3kRn+0PdF4j8JDSCzf4/5H4Gq5Aualu3cIfWS0hPwW8dASvkzB5JMhQB7NLz8OqIoNwAspZ\n",
       "JHre7z8+7222k2GAkuTCR27xdGIlBDHhls5Hik+g4Z0zGuMCJc+fbpvzdG/Z/L/hsqptFYtGZCR2\n",
       "8OOZbiFOkSVVymhZQ58/xByusWcYKXmx35SnbyLOpsRZQtkR2UQdPkNKmxd68SBbbWqBTFntBxe6\n",
       "LXL8Tm5ZIQkaCo+LrXPbLoCWenHJVFTBLeNWm6hGa8kt5CmFv1PpuEc26RoBQ8uWLDj4vxiOkbJn\n",
       "lUrhH6iE8DS1iAl5vcXjMp1tgqDZDXUQ37Y1lHfDl1yjuvphutBNHzdHZRcwh++GjLZEm9x/jIFd\n",
       "7jXv5W8oelKcdCXDdYMIjOnOYvv3oyrWFiiH4C8unA0+1HwGHgwt/Rf3TmfJ7Z3eHRBKXEvjmBx9\n",
       "ViEO3KM5K1Bu0tusQV6lpSlrox9HzbUKG4KW9cAihhxz3UwuaG1lCk60pcSzCXe7dACWfdJ4m7As\n",
       "8FkLr7gy1zD1aPKyEHk3RyMhhl+B+KhXCIJFtJB+4rsW50Tbou4noJEsQQRKj/ycVxfCsaEZiNV4\n",
       "o/O9HWv2x+Zk8+Cmo41MI1SW9chVrlOzWFDkfJGlsI59Gi/gbwKfqFAD1LsrC6fIov8gb+Nl2qCc\n",
       "1bHpjz3tomUnEwNleSOSdYoHVe/wBjLC+JHOG+dZNI58bfkbEnQGVreGmKooVBELCP+K1wQq3yVN\n",
       "T9NAdUE9u8uhVzFnm9KgobvuuNy71CHgXlzFJ4AI8CT6mT8TtEEuefShMBzjWtHi/Pu3EtwoW5Eo\n",
       "kuYVWCXVCGskp447XuodUndkzekdKmC15OSFbAFl/EsVGHTFcDV37QxrrxrdBPADUDkfv4eCLmKP\n",
       "6mVypq64KsQMVDkgQ30Fb38hepfL/beDS3YcT25drN3MIVky9kJ1CUIaGRp9yTyhJFxcOpnwsZM+\n",
       "DAFoUWaxUQ1UHhjWvNzYpvipuABXhGeUX6R3AQ3wFsFap4/10YGbPkhO8LtpfYmUqTWjGgJwUipP\n",
       "nSJqdi03zRk9wtwxjBhkpND2wjaCPXmtF0cgCMD76c+qKwom9WJU7Z/K8oGX3uB91CbC8w1cFnzJ\n",
       "deB7fOWZCu05Gn75sRl7mPzP1u2ttDhgxZxpwJang1XRbf2tGFs1oTH8fPRIz2sIvT01s1OD6Wpk\n",
       "Xb3ke0k/a4vAvk8TjZWcY+IZ8RKCMT5rSlSaku3QUyu6/4ZzjelZNlcxoYCqhoC8kYS1iI5VWF4y\n",
       "T069K0gBlhPXpbtPQgz/Re2OubkvfHjcYOW20MkVOrxxqS4hdVsDQ05o8bY+sOmzQejOx8mFjryy\n",
       "HVZiIicCgKpQvOvai+1cH2SWrBZ1C2mVfxoFnaEwFzx9n0igS88lfoKBAPvDZndJYKRsMz2v1DPf\n",
       "K/iFuYJHWKN25SIXaxyKa04g1nUHfgG74Rk2M6uRHB6qB3mS7TjFysBgfnVIDJCr5q+4ZUbPUekQ\n",
       "aKrgAQiFt+KtI/B/HXW1WuKbMqmnt7yOXPe1IzDv5dzZoGB0Me/YDUOMciBHbxTQQE/E87JWXpWT\n",
       "H5/XJu5cEH7itXMv7r67m6+iYIGQSxjB33LyNhQ9Pq8tWFFbe3At69/49MfN8k10K3EaSYaMxE+p\n",
       "HNRAUIafGda6eUZKdOAroIG8ZE4NGQlVkKqWw6/EIKR0eASEToZBkHam/VWN3YIXs9AtCHA7pt/f\n",
       "56meEvFNFdRjf+MSch8AWEpBxRTJsWsnZUdkvy5MFRNdMsDBk7C5K2/AWyskZaPT8qPhZpYdYlCv\n",
       "muBtgUo1kaoD8tLF2bDa5RGA05xrWvO3+aV3k6ZPKMzvbKAAsIQFkn2A9lJ5Xja0ydfBfBVRxOGN\n",
       "FmfN4bxsRF/7CP5iaDBEO5y9rxEeAfKcWHx3hLd8tb3+sVzMAuWhhNVB/r7awNGPUye2JiB/NauH\n",
       "37Ou47xcQqclT6KLfTBZbkyiLaG7KFhARcNIl1/wwD7IZbTkrFHlBRAjuRmEndSgjybeYjjTiiUA\n",
       "/Zk9TWjQXHBL13I+fAu4RLQefCMoIpKQBaUqpsaja3JT+CXWkHpjLhC0h4oYx07H+yB4E9DfbtcO\n",
       "u9h4ZNilOYQ5Qndt7r3hGhk6gQnNGO6paYEAMApF9YTvNKyhWWy3GdSAIWZMjivUmgN+YJtqNNc7\n",
       "3DXqt4dsB/Zs5MG+Y7gU/qESR5Qg+q6LcGQCsOanejqaV47lMrN7hZ04vh99T/rX4zegfudFdVZ2\n",
       "UwdfJqcjiZBVwAe/5I6FkVSu+cFwKx6ZNovi4awxCfuwf1FsDYqlTDJxHJdQ3kHmt6PBi/D0YGO3\n",
       "1lOPIV2GU6DVmKV8NEa2NmFzKeQ1XHAssrljK+J8qXSaB6i5R1MfMyineWPYKJVvhnaIXgZyoHpa\n",
       "uur+trGRKaup8sBYU0E6zwxV1Rv+DvTERWG7EVmiHHJAlAasnGBgBbr+ej8YDo7ln1MnWWwnwA2N\n",
       "X79aWqFLSMuHUzczUduC8e0CbBCSsGwqHzCNfXym4Rcr7XgC/iJ/XAvN825ns81ZHZihJviECq8Z\n",
       "2pw6HpudXPIK0fbDwzCk+WTPJu0H/piL/2WoVFh2PRzehg+iJc5s6hKRzYzH0yCdohnwtPATKuN6\n",
       "NOjMnRiJXtgNzDrgYQzjT37pY2HwB62SmC4GfAEv/B3PFJWFnYfKTQGa9J++ncZZpwTfbxwuIYPi\n",
       "kHiblmTQADqGqEQbCVTylqfQQEBnIb49JhxeyZtpGZABKcooPb5fHSVn5tGKFgE/BXr/TBX2rpTs\n",
       "q2o7IerhPDgOpRfcvP6ZjsxDPRB/vkFIoNhRZbjg+HWa4w7DnECoP84hnWRq5BzhCRXoJKOt/lAE\n",
       "Tq/7bUJd9GTNJu72rzxRBnx+M+0Ykmkb/D5X8ZjcR5gTbhyXpUijDvlfpMLYOlmgTroG1CdeGDg6\n",
       "lnbn0/KWTSHMfNCtd0h6tIumRUm7clyYNZtcenmTwPHRig292REkmzvkcbrp6OeT9la+v+lUyfNd\n",
       "ngcw1V9O3xatiA2Z5uCfInnTnbaLNq0FTrHtYSAYRI+9b9eOOgLjKuRfaCJhg2x7Nu9GGP5vsqBB\n",
       "03spish0oEP/zYpRsMi5pHCGESZCckWF7rgcwTaoFaoP4ZIgwDvILkay/rdJPypiEy9VFLxiLoXl\n",
       "drehQ//CFX9udw2fCysvVYza9ZSvkqwzG1pP85rjk7+b6EtR6C4u6P54nYCzYpcWDMrPfob0NIan\n",
       "s5M+gCNprOpRMk9Dg4rlNibKjBML1+k7TtZi5DHhVHXjBtfmNo+Zq7KRVaw4FTtTrWP3HnlDAWkb\n",
       "S2nmLD2n03Xkqdv9Tscnhy6VAKH46RRx8Eoh18KC/bSBelgejI6D0dM5L0sEGRKUzZsokYlk+VgW\n",
       "iksptvscOH3/+0zBjY49cGA4k1qM9Sbtc0h8cU5LtrzmszDaAqNLoh9oDqpWf3LrtnjoHfP99equ\n",
       "qQLQ+ZJqisgfo8PDg0s+ubvj2aNyA0g0wZzMEkDi/z1XFahoV1n6p2TX7IcCuFUPAcCcJHYPpOhj\n",
       "aKksHHez/M3Bj/qKOav2BtB0CoUdroTsjIvuW/9QtaE+7DqGmtmXGro4KMF7Rt91hZDh+okk67d0\n",
       "lQaZcHQf1AgKxveBRqWhATiAAD2uIkJ7R9N+VNl/Oo0sSTScpQA5BA/L7azVbBb82TdLKRZM3zAF\n",
       "DT/7d9DfRnhoveP0tl907SvOUf/e9BxLJ7ReA3mnOXkyt0rYNNqqzh71YrqIh3XcF4E4GQNPRogz\n",
       "8F5iyZOD+l5Kew0a5+Cy0IrE6tBciqDmb/DdeD5XloFiYOYAU0gQqgRxb43icb7gNXc1XKrM5cK0\n",
       "xeDYr+iQaAcKxEx6ITa500vAVDTeAHo85LLRol5yO2pSJGyg1BGNwrDJyeX76XGeSkXgnqb1uren\n",
       "QReFwIlffIbYpc79bmKz6LoBJ3BjOlmFg5k+mGvMovWNyOSXBQbgXq/VTzxf3MBPMbxDqanfTO9z\n",
       "D2sjnLdJ/5cxdUC69bdyEKk6CHyiF7+99rDp2HlGpo+EkRvtgzPHVecBWyvGvqrdMZMoOV9oXNs9\n",
       "lAnj7KsybMRYnzuZ5X2BGXg6NgscQi4CwPU6taKg7U6qYDrx77rPm/sGYwHMwdJ01IUSsBO45m6B\n",
       "Oeci3RDVdiZWxty6JJws1jVhF9gQKppnklYV7VyP/KKBqmMNIQMprNPGt3GEXbmsS/GUho8grNe+\n",
       "QIXNtHX587dG9jv9fN4CHBqfIrbSA+htzOgy6YCveVv/ETOdkfdRZmtX4m65teCtgQb37Z697zC8\n",
       "SUFWJm29nb+1F+2GItuW3pxPtwYcwRvog+5W14GpJg9WSk7i3DHyrysZyHYLxVVPmQrEp8T41Vvw\n",
       "9RvFmOiUi3kTysaqByq4Dv/um5ilc3eChCVfElFpLOE9T+lSLkSIgihUxLRCixEpVjc8/IzJTTzD\n",
       "ex2Km0JvjDFRP1U/isS9R0XARG18Lg5O+Gi+hd9uNYImhY9Nv1FRF0haJA2fhiSkjbKoi9vsxDd2\n",
       "rYz6K5+A9lewH+61sU6x425mayrb2a1Cc9qk1nxklSpqbGIC/Z+PCPmh3DDELtTA2phoi0+Ht89R\n",
       "HLKYFhompdgNIVPzrw5nnMtWcbGwawsInAti/w2+j18Q1W0wRlOogplWoecLAY61Q98/Na/ddtuu\n",
       "8FcQUCrqSkiKK2JPNCC7VvgsCTdgcNhSwC006ZoMl8piKSYw9xMsN2PcbMKmkWXnrxGRw3jAsmqa\n",
       "z39g3gW9cZs9OQiUh97CCjBpz7c5w/u4NDVEHGflG25y9kyK5JB98BM5deU8xtOBGbNFPDI4OfNq\n",
       "ffRZcSZBRO4SKcvhRA/r2tfs31z7Bwk+QV6EB+1An1Fk1skUX6vK36waLQwWWv+JZK10GGyUYsP/\n",
       "k2cGo/8gyzF08OSvUsIqHndciQU774yIKWg6C26WhPyTvNcFuWadKzpTC4zdvKZ4rd4KVSx87Cst\n",
       "ri45099qEIZvpxoKJL8tPjYdjpcQ5ZWVG6TaradM9Pp5W/fXPRr4YaVDL0F7DkbPMa4n6zjfKqNa\n",
       "epS5tUmPYUy6CB4K1NvXCepbHwAtf4G3OZ/H4vjKsNBcjtOs/yAz5WlJqGJvnIJR++aTLW1p5Kli\n",
       "3d06juISm4wNCUUlcMCX8R3Axi5U61Pa3VB1El2WONRpKPTymPWjmtuJ5jBdWSjDkgfds7KEOuwx\n",
       "mEz0QsNkqbQVMg+hiUdjJWWxuKH/xf9Jpz6qgnde93TFVgMjMTHiLaf91C6792EW+ZG2LvyMsO71\n",
       "RL0rk1dU3Mn+H32i62dC3hE0FCCSB1MUmi1WGJDyh+MMDZYgiblkvl6tPQXeshLN9grgHP79QUBB\n",
       "szwtj4Ifb8SAfaKE2rLDAItbP7QX0y2iMtmJVFLv9YWEW5E86ZNda/iLoUOrEU+IEQvl6aCQMzGv\n",
       "iT55QPn41nOFpIs5JLL2huths7OHpGP87pChouFjP836WzX2u44lLHEn8Amx4PUXejbSThgqMKOl\n",
       "9i+eoAq0c9p9G7emu50cEBw1OoJ/9exwi9yghrsfOyIYl2Fb8lUaMBZv0U+ygpohN9lXtqTrSlTM\n",
       "Nk7U0s+VssGQv2hJJvm9kTT7mSawtAv26HAbFRto8MpMJbIbUX4BJqoBin8kZPKVgTZqtVobdeZy\n",
       "ZKPJrs+9dyxfbyVsPzswKwgwoacQqlF+51KTIMoAGsBGROBrwAAAAwAAAwAAAwAAAwAAAwAASUEA\n",
       "AAMGQZokbEM//p4QAABh970VvfwJjV9VTIa2L3O2j/1UcAXl8ftrWlMna5iZxjNnYOL4z7v46J6F\n",
       "Io5EGmBlf7W4if4mo9sUI5Kfo8v2J7PtSkb+ZLt7FE3w+1GBwADkBuL4VbEJmk8PI6jap9GMlWlu\n",
       "d7MyIcL0C1xMHRs+p6UO7vkrnpmLpTOIS95iW6h1miqBi39XsQcDF1dNCBvxR0ytC7Way+FIBclY\n",
       "8YhNI5tpqnsl9drUklorgK6SzlVmTrp1sTcgqAWcD2FU7LdgiNz7MnUOLYUipMejnVIEUkIQATxL\n",
       "f7A6OgHPXTt61/YHaSMFIxMQ5G/3Xp7WsT26FNthAKDnhmEAq7NuWgr8miMgBfxpnaTMx4oOWXzd\n",
       "izNFYwXsPaXap3lM9VnjpvrXrmPmLK1wpB6WF8uWb6Gtsg5Bx3OsUW9LkQEjUck/+CC6OgmvBT2J\n",
       "Rs/jrhQjr4pHUJXWk3fKKpQpUVU8kwE5s3O4V5O6JUDExcS+a80hdjU94vSH6qs+M+sw1osxWwVq\n",
       "aPIR66wU/pqnEA2q1Q76RYLwxYbFK7CJDtfHWuUM+CayOQeWHaH2bSBKjw9IC0Vwem5id60iA/Jx\n",
       "A34IvRFKg4+m6DFGcFlOZYBKiyBiNofNfcBC+jTGWyy00xBfpjOgsQxxMyW/isjfEmXdmKNyfR/q\n",
       "XxahxbXwIUjxQ119JKhWaK+D+FACLlT4lmda+yaM0joh2946qmsbDi1fc/7SIvSM70S7byrM9PEw\n",
       "kHGmd38OT27ITg9n2cs69a7N5e+aCYxOpFxGgsdVSdMUkmwTr0gBaHphlJw2zTC0LyY3L/tplQ6p\n",
       "HyIFQ0sQCUHn2E0Vrw6WRt0mqJlqWXS/+PEa3Yh8Y4YaeSOi8U+0HXLxbsfhQC89eA8BptLbouPe\n",
       "wehhb4h5GHfPSK6qq7q9mp0wkSGWLJDtyKRiZREOyWnuIGCj1IbaAaowJ8kQUEMX+TuNCcqGiZNy\n",
       "Oq+gQRth40gi4R7Kryb30RvSHuUFuufqyh768NR8C9oAAAUkAAAAs0GeQniP/wAAMj7Yyikqq2Ch\n",
       "eKu4DdFJ7hqiE7K6sbHxkiCMo2Amx8XsLAATi1N6KDFtky4FGQ/2slJZ3WhBotrymHuQ9/kRFk/Z\n",
       "yrh+ErRV+4btReaeSEu+DhmY2Wum1GOoU8WevTujTCLA6e/GuVASf1AMAaom1AIMjMGFjtrhoKIB\n",
       "bhOxcB2+rDTrnYBucLz3pFsuwaaQtjW8ntDRqgOJqXLS8Qn0crdj7sshQIKAAAQ9AAAAagGeYXRH\n",
       "/wAAMjgCwpmZ3H54hb6Ez37GEqIDgXasnMTk/nSQAI9kVON/w4Yo4ef8uO0aocDS5GnM8aLBkI56\n",
       "3EokRzKrgiQTbv6LGGOGeGnLl79ave96JE/MV4GG/BoYNfN04vOcT3AAAakAAAByAZ5jakf/AAAD\n",
       "AGSlL6D5S5cmtTLmFBzpI0AMz5zwqORsag12gsetzVe5QzYCyNqFrW+mi5oGVmi4aGXhkh647MQl\n",
       "MnMRipIWC3e+wmHkhTCVJz+AujJidA8tvoCcj53KrSD1uckMz6RQd29cPcEAAFxAAAABUkGaaEmo\n",
       "QWiZTAhn//6eEAAAAwL/7Hju2GWdt/+xH+Un4I0AXJ/Ir+LlwXBqfPXtSRwXoccvE/b/QMupo5+K\n",
       "hcc+UgSTCsdBBaM2bEDSjxPxeuKfYZ67G8x/oDJswbfzasp3MsRXoKsSJlToK71K+8n5anFsxWGe\n",
       "3nC680SI6GxqHdCdMVKnhi05vLyk8mm8AnyS7WJVCrJ6dNsReFbLQXTijHHyPB543uqsAmG2IhDE\n",
       "ncR3KsiErCkLVdfe9MB8Uehsl3wdh3zjwoynwVgWYMjh2TDm4SIXpKevYkwcLUNO6ePqFKHayGkF\n",
       "IjoxO85aSGUB4m0q/L5SPR/61ITMdodZH1/nnTCBYn4bHC08VhQZ2LQkHBZGNsz1UI2i/EsOisxR\n",
       "LbCu0v+SKaIXT97hegSJ1i6NgR82RiAwxokDGAUmojP98N+xB8HNTkpa7Sv5QAMCAAAA30GehkUR\n",
       "LCP/AAADAPYC1cw5T7TzhQ+Kr4A0aA/QEKrE9jdptbnCQ9JdZVZDiZRGxPmK/kn29Dv3nISNNqUC\n",
       "zxe8IYf+nvjF73hjIDeoaswPAraer3emDy1IvqFNPtOx0UGRjO9rXNhAvO+YmlptI8WoicaNSl8n\n",
       "4BTt2dOpaR/CUSDZVkJIOR/dv4AARMJnpQEOFv7W85ijg/AQdQWGLVtkiJ2whvbN8ONe/2FLl1Jf\n",
       "1x9FUzjaA/Nkos5k3XNOuj1cpD8Nk8pvgvaxqnnWUVoM3roNW83vatro03iAHHEAAACTAZ6ldEf/\n",
       "AAADAZHChI/zE73HfBumM8AEX/RGJ8+lFLvPsNHDwcgKlqBHu1SjI38Lijdt+hhYN08my+QvvrIR\n",
       "t9lFa3CYjjYrq/Y2J46lSx6Cqn2YIpFGvQA2bxB51hNkJEGlSE/axpjpOEG2HUTHvb73CJ5B5ZZr\n",
       "dZzv5geEZFafKYtI7N6h6HQ7InQq67zcYAEzAAAAkgGep2pH/wAAAwGSk6A7CJfeaAG1D2slQRa9\n",
       "OMoynaHqR1U+4MctsVMcpncB4spPEEiXsF25+L5zbEaxtDs1H6BRg40ark5us4rdAppotAyjtvRC\n",
       "OWv5DQVvERL4Mag6s6WoQwMicqO4ZFR+7eX3Jx1bGWxW+d2lhNJXwKySEzdQrNpl4jF/WAzi0+nm\n",
       "enHGAA2pAAABWEGarEmoQWyZTAhn//6eEAAAAwDc0rWqygIA1HynaTDhGmsx6W8GJ7nGKbrE+96o\n",
       "km7BWK74jHx7pZYSIoXXaDT3fSJrD4JOM3TZnE5FFoHyOntm9vNchKDkzIA8pAArzIbuPAn53Pt1\n",
       "nelVumengaW7rG5+EOAboAP65T0H5M9uKpfVIiW99DUMV8bUa4HSeaouJkNkDCV2NcLxewDb2sLo\n",
       "pQOqylAymmGcKnLccIHp9J8TNCZbZXog7aGimwobEbhPdWbo8xkH9slveLD7Zd42kkHGleCRD+Os\n",
       "UakfGvEZeBFHMVso4p/uUQ+gh5yAnLYgnIrKvzB6yejBRp9A5ow3go2yi5ufrA1a/haOWgiCWBXu\n",
       "jjixd501Xf2wHqyeeuRRnkrF7qx1SA/XSEoCGiZAlEWhDWkkB0OSLjrV8Z5MdxR4LKJyKScpx3vE\n",
       "SPkCfbdKEk/5AA1YAAABBUGeykUVLCP/AAAXn7nMh3vcGAXCe9H8h+UQLSLFd47rkw6Qwhbd/1PF\n",
       "N4br6/zJRED1C3mNCKCZWs7Pq1MkFFpAESdFybHAioENxy//SA6WbI8FOhR4g2mYu0dzHJrncxFp\n",
       "GJPMC91zlYGHxqhfPjxbmzEOldEMPPmvHJOCyj8a4wRC5jXyl5bmWtxeqnQIwADmybcCh/VAVYO3\n",
       "HhGsPuAZRr3cGFfyG2LwmShWgUM1aIPoPLttixnmqTgV5Qg9vOan8KKyuP2sKJsHilH7cw1TEWqu\n",
       "VrrBQijUNrG+QLSlWYSmZE4ba9+ignNr5Zn61YVZ6iqx1u8EWSrfp6P8+ZyEN7gBTQAAAJMBnul0\n",
       "R/8AAAkS0LEIR58P7ZT2At+qfV0axUwAlquZyiVJlxme5dVQT1HMI4O+Z7KeRJWF6BHp38m9zIye\n",
       "V05TpShc1/YTPwclUiIcgiUcNUNYZu5H8s4d2FL6HCIVIlww46N3zNCetntruo8eea6qudogcBaQ\n",
       "SALtxr1mZ1lcte9YWbtQHJ8lF62TdPZpBb4AD/EAAACtAZ7rakf/AAAJEtCxCJKXbU4O6U3oVXCI\n",
       "kK54oQDa0TIALmzCggr+fvcDpmAH5iHsOaEmSfKoT1gRoBEg1uqfo0KDw47Dxet415jrtKdiubXq\n",
       "M0/oaLbN7QohoVPBToKZMoz3RYRUgSLwyKmENw9E5hDgR1EIIYVl1Z2lZjxgOnlr2ie5OWSpZOA0\n",
       "Ux1XVutQfk5MFV3Arqb5kDDHwtKk6uz0TUA7q6bt/pgAy4EAAAFBQZrwSahBbJlMCGf//p4QAAAD\n",
       "ACSkuOoBU9hiWJDruSCiXk+/+mb/ht8uMcVnLPAphkU23B8mGFryyvMeGq7Kh2QdUXzHcIOqDVMt\n",
       "/i7Cup6SutH+7oIlpLFp2VMayQe5rLJz4EFYHfrkVVJvXQRn1tg5fx7cEKZG4OwdMoFKYlWV38cD\n",
       "FwB1QOylMVQDPmFCNWl6OAQ3rvkaqVRlf4hr1rBa8IFw14HSsabbW9CfSvizwsO3WCfE8Utvj/KD\n",
       "Z386y2vMsJtqFBHihbUV0KaIQg3zBWKU5NY6a7qqLZh5vPT7bixABnrD46zuMaMnh/BfxrhBAFli\n",
       "9+tFdR2WMdJoLAHbPwlFghaLBQ6CZTODxvn2vCl3fTjXwO3xnFhHhaJAPG37HESJXBPca7kWsMld\n",
       "QDJ/1LFlvVj41mm2yvTKXgFfAAAA00GfDkUVLCP/AAADAPjuPnBPCLH/dZXQoVCEgJJq4ESD25Cz\n",
       "BX9lGK4AJr/3ODxptkySN35f0cxFqDBmf0RWC4q92GfQTG7TtXscU15qmEI12rXoxLc4ltgJZqOQ\n",
       "+hPs6BKr4+XYcYK+UPEp0z/pBFWaHdkLTG0OILeLyO5fKeJbQBMdqTs9OmL4tpuhA1E+zK1aATAI\n",
       "RRGodGBXtZReR8uX7SpSItdipwQ1ViAB1QLU1ktR3QOFD5lC2iuzETtWznJraJwaKs/uqH7M9Kxj\n",
       "Yxc4AUkAAABqAZ8tdEf/AAADAZHCTli/qwBayIREvJWkBm1VxwKM3AS3nrhQZRE4c08SQ1e1m/fs\n",
       "6D78tnMi46yX8LRGKClftwXmpgBho4pxDUIz5As4GvzSkXFchUBOGGDNGt7yaxJJGLbFuU9OkgB/\n",
       "gAAAAHwBny9qR/8AAAMBkpOdce3gz9vv9yruNwJ/FOtgMAEOxGAVLZeGOrBHbZUWhznnKQawoOY9\n",
       "C4VBXBMvpoIPh+Oj0OtHzaH1ACXRvwNsaeQl12KT3ylfqs3BV7sKrPbCv1sO4k5GCvE9InqL7Tp4\n",
       "6SO0M0OqVAz1LNtSABoxAAABW0GbNEmoQWyZTAhn//6eEAAAAwAw71lyAZGjOZNrz4NT9mcKzX2K\n",
       "ytDRVtZkUQoNa3rjNnzSdeg72tzSx1t1pD7AUrh74eUBxTm2wQd44MCn5hTjELjnS2xUyfmvs/L+\n",
       "hq9SjCeTkPOA5XZtQNYikJBzIRnBWaojiEvi010CzOGCMW4pGoXvI+QpGl0EG8TOvkwTAaJkNNqs\n",
       "ZqhRJD+jxNlyV21IskEE74x1ljDhb7OqVpzWVCDoEh2w6HvZs3s2AswE8w8xW6Mron6ihUwHtczb\n",
       "Lz0kHr6tke/IprkXt3c1tHd6EfU1+OdIUJ57mq6X4t2zkDYcbWZKKp41hJyvJTn/D/9+x7yv6Eml\n",
       "u6U9LApIDNLceoDjkumUZzcAB5WC6NwXMspuxvpAjtH70gPFyqQC5shyBgMod9k4/7jiUp7hs9qY\n",
       "E27dzkcqUL2baJj6R5EOVx9CuUfbjYEXAAAAqEGfUkUVLCP/AAADAPjuPnBPfHS8D970Op4isW+B\n",
       "rMo7mdLgATgiyvNsLHq5LvscB1fqcNOGoHJMjFQ9uQM/YdrLyeDIblv131kjrz8rZfqePQkqokUR\n",
       "+rbPiKwgB3iGwD+5073lU6FHQsTzh/+bvDy8Cg0Z0pg0we6KEaugej70Bqo6uanc3niBk555eOKp\n",
       "yzH6viN8ez4MtvyU/9UVPUWuDvBxqKgI+AAAAGgBn3F0R/8AAAMBkcJNhzBzp1MAD77GgQR/kRza\n",
       "NVNCI+gAbQf/V25d14AXRljjxx4TRX75+7sxmdR+70w/YGaHbDf5Hb3RA3qFG1eEdroNpOP9WOwb\n",
       "leGw6UorqMcdFsm4UxIe6AB4wQAAAG4Bn3NqR/8AAAMBkpOlB4ZTOIayexbI/UBwQANTDixb2d0b\n",
       "Nli1g6kjgp2ekh4SksynlYg0z4AZLu8Ib++DijhDi5q/OKU1+/igRCZSHmh90UIgFppxJmSGd42r\n",
       "1jgWxLmI8jd+jIlploa8OkAHLQAAAWhBm3hJqEFsmUwIZ//+nhAAAAMAJakDPU9htABLUo2UlPs2\n",
       "56lKmjvpdD9ftropG7ZiShh6aND/xtrMCKYJ43FrPKrzpzSzIufUSKm7HKRyrIBvRrsFNpNHio3i\n",
       "X2GSe2v8mJUKGAFHKQvvK5DEpFL+G7SucWgYy4feE81KKrI/TKwFRaArq35PkljwyNM8d+mFU2AL\n",
       "myIcLUOHmwTyiPs17Y7w4ulcQetRUYclnyUjKeXm2ZX/jgMlsk65f7iqiNl2B/1Neh0S2yECkLPh\n",
       "e6tHMk5/2zldRqiXPIZxkxPca7Mj5JcMDAzV5SpfIaGB/jhV3inMIw5UyAOPogwO5ag2YE1ZjraD\n",
       "7MJ5F0Cf/HQ3+8WMyOHpZAQ2mq4OemTqlY929XxwjA1+QV71Uin8UA79j+EkDD4R2VWsmTLFvNzr\n",
       "AnBjUBmlpwx+vhUcUQXPK+px4jlG0Ck78R6dTuZ5PItcheyhc26AA1cAAADVQZ+WRRUsI/8AAAMA\n",
       "+O4+cE9d59ly/M9vh3tgA411lUWccHQ+m5BuscAQARoZH2l7uue1kGn5Ij8swM9U6UQE6ArHQ4SZ\n",
       "r53bxQDPxZPyQs7J9KDSAv2JEKtk0mAPRJZHl6H4YMgZAXAo20f4t7roStuWRZ0JB3TTeuhybk9W\n",
       "UlhEch9D51W+YbWKxN4Lf6m0dHvthcmzu9rqLz2OIzfChP5iaaJ3cPcVUngrDUHBiDk9J+9v3DPn\n",
       "kBpVsdA9Ieywzp23S4llB3wImLz4nDRPow/fgDWgAAAAjwGftXRH/wAAAwGRwlSJRpHYxicuI+BT\n",
       "69cAGy3QhM5uvajdD2KbMwv0DudkzNFA15vDhZPLYIFOReW8NXR9Vs7GMEReShMtrJksz35Hgj/o\n",
       "pLKRYmZSbLIl0S0yku6OozI9a6r/9kQrgyBUW4sdcbPTZSvw8sE3nozvOUl65wNo6htFK6OO91Uy\n",
       "BCsAABVQAAAAkwGft2pH/wAAAwGSk52A7GwaI2+EABOPAqKl2i0bCk6eNOJDs+sTOATuiOeQnjIf\n",
       "+WNJawEGyN2GseL58+8G0BULk6A00dIJkCSUXn/5t3wmN/co1bWj0OY+xTO2RWXCPriBBoEdAlNn\n",
       "GYtNrLrkhy56vnnsyc1aha8LInrQbL4UB+Fr1lO7+4YRN7sHVQqGgABKwQAAAW5Bm7xJqEFsmUwI\n",
       "Z//+nhAAAAMAkpFMgB3YLpaC0nUTIejqjoJU/IQWLfKR5F6rCZmVYX8s0F1eZ5pwS5ctz/5W46Ll\n",
       "noAHWWWlVsWIR9zwih+0vBHT3bOSA+EKpOmD8I5R92bTzILMnCDvOFQmW7Z8KgKy7i+fXDFc8NZL\n",
       "+q3WTac8skD1+mFvil7SsCLB9qMhn7PyUttUMiKqDhMUmuCnSZn/Cl3ja2FDOwPERQzorTe/unPj\n",
       "LtulLlIzAp23b2X1gzNXTPcA/ZNWubnZgMJeeTX3RYQRKRrwFSK+9BziQg3G/aJ/ugFFC+8UWeq/\n",
       "HCyt3cJTZ+lfIIr5e23lXFty9/kCCq9pMOZeCT9/wXzdQTRro3VySOyu4ToQBgKBsxKNguUxXFc/\n",
       "Qvnu7wd7sWd1t+fKKRm/Y7fp+H0T631Tg0r+LqwYT560UGXuzqly0w3kD/F911ER7nL7iy5HBgn/\n",
       "MJTmmi5M0yvgBAIAAZcAAADYQZ/aRRUsI/8AAAMA+O4+cE+M+2ZARyNTF5HGlcVnIcoljYfpg/f7\n",
       "lCsFsd/rRZuQ6JwOSvLPqZRQWJT6Oi8lFTeaZRD11b6EarDbahsmJnhNgCjcsALHR2IkiB+euzBV\n",
       "nGG/7ie8fDx9KA0u5qIuUkH6xc02IvGlMqJmp2zcxPlD7svChhb/txvxZSU3OkaclSQ+A7zpY1UV\n",
       "YHMszaIBEnRZhpZH4gyse99O/irUwJIijFBpCZ2mi2SGzfJfaKrxZByPI8AKH3tzpGgkYNunhYWP\n",
       "9GGS/AUEAAAAewGf+XRH/wAAAwGRwlffjxLfrABLVYGHJJ7cJhPPgDVv6+Cfsktr2feLlg1fu5Xi\n",
       "hQHkg2RGj03zDWleL4/JguBJJooYi6G0XeqhUC3fZhj0zFjRiQ4TapHmC+ax4Wt/iJIkhhGbzSTK\n",
       "zZct6JdcA5Iz627suV3cBMAGpQAAAJgBn/tqR/8AAAMBkpPJIr6WngaVPKLq1sAFfwfFZcCLOjDy\n",
       "sYsKojpbpRvfI6W5xDpO4zo7Zao6YO59+x4ECf493/wha3xEXYeoyeOE5GVBcpMze26FJ9oHXB7W\n",
       "CBVBExdCleiwsSeUqjU0hMIl+B/u63HDhaFan/u9EfJ7b5RhMkmrkkH2gjw/JQHssVKflQPtx+P8\n",
       "wABswAAAAVBBm+BJqEFsmUwIZ//+nhAAAAMAR74sa9EjmASP+5ZfwJZp8Zz66FmyUrHZPajcGoKL\n",
       "t0kyZshDryuq6Baaw2MU1lj5d7HCpJjqFO7Ae0alhLG7pKiPBhsHW9sggOcZ++ke1pyZ+61z0cYW\n",
       "PoLGo4u2BtpsqBPlobtCI7mTAfWPaHyftvliwZKcQ3Td2MZIuIaPPuw9/wAmfvTsHNryEbcSpyf/\n",
       "Y6RLhcJh66+szm+Vv5fM+chhr3jbJsfYIL6jdBLsjaPBPmgmwRWlx+XkAtBOL7cyujbFUqbq6kA8\n",
       "2isLobxWImY78eDX7d2/8LjM26AD/yicn2gqERKBwKWOjkV+9458rR/deDnsmhH3LbdlurwcxDwj\n",
       "/hhogP/ZnE12QwAE/Qf0mbSRQxmWbjyTGMSDnMwFYCP0z8ZW5XLBsjT1rbpKPyPZr0kpEvrE2KAA\n",
       "HTEAAACnQZ4eRRUsI/8AAAMA+O4+cE+IdB/xGZK/6PE4wAfzqWUjONUFQQY61OE8CjIva33skigd\n",
       "FEKw1xBYGg3OkgTx8OSYjMcfu3GRI4+Q4sAnCuHwE9BUxC5SxSlaR78JRYgsrzH4DulHEU26qSO3\n",
       "fkZONEJr5QbHi1P3EWsBg90BUd6t+4yD4/cwRUH3ig1JT5WVwbrP/mjPzagKx9/G/JFwEVb47kNy\n",
       "AuMAAACbAZ49dEf/AAADAZHCWCSl+MoBEWMjg0e/JSjB6SBVwXFlG5c/QWjSMDjl4gMP6brmCn4X\n",
       "IvqVJL7jjnBi41aJ3XZp8DeF/RpHbDoKKy8lHHRMaqcIPV7+jHZ8XTj0yNAS2zb+MoQT8lr+ALx0\n",
       "H9wrhX2r2Ig5hBWtCGmK3tDiZlZga8NNNSOT83dOlqfrlnzcR55EsKFsn+QAW0AAAADGAZ4/akf/\n",
       "AAADAZKTqNaDKbhKnTSAFRO7sEZe4oB/9WjPR0r6aBrrJQz9GmBqBtbRgwUicp7dUfQpyevyx07F\n",
       "JmJK3HHMibR7oXAwKppy5U552ky7D5hSiZMjmn+W5vj7mngnnZU9HBAttmXbRzN3pKLtacEgx983\n",
       "qjBz84GYNXkd3/TiJ4UnlfzEi1jw/6VjkUSNZTuLjHwqnOOAJKnafq7it7+ZAt5HKv/GG49Zgs+q\n",
       "0+QWslMhmrqlYg8CGETWoAAAAwN7AAABQkGaJEmoQWyZTAhn//6eEAAAAwBHSW1gUAxJ9z7rAKKW\n",
       "0eMMfTC3203i2He0yThAoBpKq2ociCelKeX/06MtOeMZQ5IzMG3Lh3WrWK50+gpEeFztz2YLKb4h\n",
       "aoRGvf+O8vtGOLDj2M/BpiD2KX/W9gGVIkG3FnuBzCK3MxkC16zd9F3ew9KoOZPrkRYiYXzrnBri\n",
       "FFHyV7WaOLWYuIG2qPVFPnyJw5KaZ36qUFv2swnWT62EtrfhgrtUud3RVcSA2H0R7JdXjbCwqlDX\n",
       "cdufl0c6clDUu+7x2zl1Fqyw8ftNtrZfmG0XE92zNZYtJDIwEPmqjxsCvkDTGN5tHYnnPFYh1JsF\n",
       "kjEYxqisiDkWdj+wg9Y1neO/JswUlNSLpJsmIhJoVYwwnb/eKkl/ZQLJ4yTo1KtE7fGnYatkSYgr\n",
       "bDgAE3AAAAB1QZ5CRRUsI/8AAAMA+O4+cE+MDBNj7jQQJgAnWfTIg2G4W9pgpEGjTlIvVU3/niT3\n",
       "cz+DQeaQFef7w7iHGz6QUPYoWJQFkuBFaS2CUgVXCBN6N3RjPh3L/Bbk0yLlWklPyVl9zwMW0QVb\n",
       "a7Tas002uZoVOAWVAAAAQwGeYXRH/wAAAwGRwlG1oMI3Fb4vUAFBfGDWDFnwNtR2xVi1XVT9yE4R\n",
       "OIydlswH86hB1u4LxDqigFAgWaIt4LMAVsEAAABYAZ5jakf/AAADAZKTrFKvCU4Vb3FVxp8gAQt3\n",
       "aJUszkbF83LJ1ELOb9SpiixLEPV+++HXQTkP4YSNI1fHxGkD1ZUHY1SF2B1IW+5vASuUc+/HkFzA\n",
       "wAB6QAAAAJVBmmhJqEFsmUwIZ//+nhAAAAMAR1UVvzhLjfVjVV8EzhpRVdLQjpXABfWQOVOgm952\n",
       "lZ7OTr052wpBYJV8OyzjyO3AxcbvpP8iNrl9tZar5owUYtfEx2P586VpvXuCqpARQSCACeaeO0S2\n",
       "ZGvmXtauyItM4qMiyStMT9I5WpqYuEoZRVO5BKZNob9ETS5exDXrngAbMAAAAExBnoZFFSwj/wAA\n",
       "AwD47j5wUG5WJk1sIBvKrGs7fi2mlTffHI7djcsbBbZlTtCAlbLSZ5ymDXa8GaQurQZ18Qi+9bgg\n",
       "np1DF2nGsgK/AAAAgAGepXRH/wAAAwGRwl+WgwlqKdrzABffXzJi2Jbll4memhfuNAhEfTel79VU\n",
       "huPTeK6theLDLu+u3Xqh3WVeGGOskP5ZH8W9YV+H+kBDDp5vEVR44f6k1htP5LEPMFSHXRsdGdRn\n",
       "7dNBqlUsv9Dw7DStFqjT0WoAWWdmYzDcBAKmAAAAVAGep2pH/wAAAwGSk6xSrwlOjw4ecuLpY1YI\n",
       "1MGqABxYPOII3/Q/bjgEE+95dLs/Z74H1o07a7ZKsR1NDDnA34ITevVkf2by0NBgAQZomRhK8wAB\n",
       "/wAAARVBmqxJqEFsmUwIZ//+nhAAAAMAR7phypjxhlKrnqA63yaDgN1Gako4lT5GsyGHHNUI1dEG\n",
       "7KkLMxD1nrW37T397fXz+WCQtBplUEJbEfrqnceYSxgg23J6VnTGuOYLAqHhiDAY9FAc8Xu0oWsh\n",
       "5Zg4P/fkMD52harRXPOr0AF0E2/HuQIQLAm9Xm3ESjWwFwhoZA/YdbjwTMRU96FdOtIdFKtkw11F\n",
       "t/G8hB6b/9YAoo0RHlNuiATJAcyxwae9vWOCD3EfO0FaeV53RcFtDzQtdmR4U74Z7bzgheULSMsB\n",
       "vF60FLtJ0rsSDipdhsK2zw9edLW0c3p+11GpmAhzzyvrVerH1stkvGem/VNdTKd5oZS0AI+AAAAA\n",
       "ikGeykUVLCP/AAADAPjuPnBQblYuiCua+8s91HbgBO3i2GyZ42qM5weXpU2FxjKGdpApOZT0LyPB\n",
       "DaDVdfEfrPhGmvOX9ITwnOqMuk66Fej7r2Mfad8XHt0FKd4Nvtewfgle6JTrX7c+Bkd9njPtJJYU\n",
       "0P+yZJ7HWVIsk2ZIw8wstOer43VQ2FAD5wAAAGMBnul0R/8AAAMBkcJfxDhmTvtzis+iJf2gFJ5I\n",
       "hHYkKcB70MDNPdhq1rss/zmPFwUduRoIJjI0V0F/Nzkj90awtHVxcVJAeBUrUSCdZT4VEAlMnlYM\n",
       "yYrg55DaHS48pV+QAZUAAABtAZ7rakf/AAADAZKTrI8bZWNAChX77QwO9NSr0m4AvYN1Rr9qnZ8J\n",
       "cIai433uXthvhJW80O3cZf05GTlN5HAWsiKI4NuBcJSU1sNcI5YiLWGBMmwWwSZZeSai/XBbWAUb\n",
       "0+eSOsafd22Z4AAIWQAAAX1BmvBJqEFsmUwIZ//+nhAAAAipSk5IBmhDamVUCJ+Mup5J1Ns+p9aP\n",
       "Xst/8gdlC2aFjqBLGVztZQbFxDGGLsRyTwYZkNX1jSkWukvps8qYpzI/RmClYtuudAPxJzkfW4a0\n",
       "ic/+/o4jC8yw62eK8FJsCTQNFcj+/Lqh9GuaMYLig9iW62W9pfiJn5gtNU1Yb/vD/h1JMyHlUSgX\n",
       "9GZAqVMBY2BrIKCq67OEfU0nzVKHHr8g1rkcCgOtrizisLHxnxJRKbNYiKDGYsioaKWsnsKn/cYr\n",
       "bHh53SxCtGZIPx/OiOKWi64sGFNnsJVXwkpi6P66a4PlFj1A2K/GB1VOh7AydUH/SkEMZibw4ZDL\n",
       "yHWh8wLHDsJkn5qsAWmwSp90iUpNI7+8Nb3uVELyU2i1Uy425kbOaKrbz6iy37y0VqfFWYL7bZl/\n",
       "mhQbu+UIzKTMMbp9E5OzdnTzoesaI2dvEW2Tw/IQagjU3Wyb8mccxOJ0vJEPPrb8SadU4sAAmYEA\n",
       "AADrQZ8ORRUsI/8AAAMA+O4+cFB2dnTdVQGd0E4cBYyvk78E8FLkvrKWsrv3IZO9jZXEECAntlBh\n",
       "n/7d1ro89y3Kvo28R9f7hxmoGXybNQ0ewGkV67zOGqsFRRoD6Jg6FFf1P1IU2uRHS3jAcA/tUz3U\n",
       "9d94eq2r3FLLWKEhS2y1cZg0U1a4hnq5jKG6/Sz29gg0agQmdM1Hz/cgTZNYPdpCdvsnTsH5w3Co\n",
       "UVbEuY1fzEojS7zcBIPufu0JntlWjDABH5FBTE+yGulKmToK6oSpms21U0dyv1/8do1PrXBaWfN4\n",
       "+cJmJ8Y3a2APSAAAAKMBny10R/8AAAMBkcJfxDloygD09FfH1v1wBzqKAZKjYenxzokJiF40ewxA\n",
       "uQAxuqq6b+8/czZFygu8FffI1KJgp9pUhRWnl1f8J44uNVvgsFvqmNlAmkje+rw5s97hRVDjP1lu\n",
       "OV5FR+tnmICwtkNbIj4iJAND4l8DTJJD6SyArdcw8bCep3VHAo5pXW37hfBUYqez1qe9eEC+0ENo\n",
       "WE1sAGpAAAAAhQGfL2pH/wAAAwGSk6CBlS5VZ1hG94FhwEWQANiQBl/jgbgJi0waHV705UndB9kG\n",
       "o4RZf1UsiZeNJNwBy1R0CBS/5nOYBxvK+NrT5nxpx1IjEaXjm5HineIuH+tt5M07fRSeFWakFvmc\n",
       "RdWFOU/Y/bPxqgTjQUZl4s4mwHSiOEGSb7AApIEAAAF5QZs0SahBbJlMCGf//p4QAAADACouBjyd\n",
       "ZeABLBhYHMTyOG+qDIrr7e8Me31j7qAKBJcctLCMxM5vRThYmxLH9/mh/gY9nfMaRkrVbdXDICxt\n",
       "ztacLB18Xn2onQT+1L0ZTDpMaajRjUJVsGvKINjFGJVhskCfNSWx8UphlSh8dQVbO26X+k6ICoxN\n",
       "mi3ytzuoqhqf39C0K0TcHmqatq+QOqebVR40VxGeCd10we7kndpV/BKBudgllzBUKvVA/JxiZ7+9\n",
       "WzZ8gjL9j1YELzrKGmfxtC9v+f0ciZHwqW1AakJCwmtLqdRF4hIW8JAtqhDl7lRdz9cfqdloAn/A\n",
       "PRPbXhanBe1pa0h1Dj7IFpHY0Mlq9DhsV84lQLwQ0rCzooVsSbmhn/S3y2gVDYf2V101IHH4MdWD\n",
       "AMye9euTBBXvZIwqDa+WEHDfdQ+xZu4I0cAZmB8wkAjfjrpj51rXtGiPgMXpkcHL6bCx11DOtd+2\n",
       "+cnLtpl49ngAM+AAAADcQZ9SRRUsI/8AAAMA+O4+cE8JhYoAA4MYhsBPgimap0k95kyVI3f9Vpe3\n",
       "64ncRBetHD1HOYNWLAp1v9jSOFMkXU3nsGsN1husNR9HrgoXFdmcGa+yASYkqT/smLmHily6pI1n\n",
       "cqaRUQE0QdxBABnFQUiB98fc3zTrZoxH7NNGxwe2Azw5iYdx6wdppyCUxobrvEN+fFlsCAS/cIOB\n",
       "o33iM00rxnXlUNFOeQYZjFyUay34c7JQOO7PbJVTSxCcG/2/SrWcuIjlH4Bdxpg35KEMZ2PJeZYp\n",
       "R2TzccAdcAAAAJoBn3F0R/8AAAMBkcJOaFT4AC3iPKcNJ2Ar14qwyzrIL/z/Y3DE52UhK9AQpDmU\n",
       "Hjv6RTJ43u3VYHGGFc85JWEgjtzcIpflkVa8WP4Jmuo5lZGiSAawR+BDfAww1iHT2baWYKJ+xb/u\n",
       "WxhVx7fYlo6wdK1S9I4+hh4j9sEEpZfcfgwpfXSJoyIM2MsC3ZBq/DUa14i6RtJigAJfAAAAnwGf\n",
       "c2pH/wAAAwGSk52AVL4yTT8NgqAEtdzt4SyKO5sK9+Bmp3TZ/HZpFt6P0BdMep+xFHbMMbP5q+rx\n",
       "jycHhSF04tUqObMK0KKsmL6Qbypwb5K0s+Zqa/124RBLtH28BMi23cfblBte+Cor/XT+6t+C0Kt5\n",
       "tHanMeLi6JwbZsu9o1WXE/qjm6ZiR9HkCVCQpiVcwiyQixkY5AhgAAAekQAAAUFBm3hJqEFsmUwI\n",
       "Z//+nhAAAAMAEeNrBkAGmov8AEi+1+mYKLU2WT+7YQ3yJ6kZtyh9kH4JDrRXJKcwCoR4eIvvIziz\n",
       "4+V7PN58HTaxQNocn+VDwJQisSmrQM2c4E2bWorJivxLJj9mN6g6ywYqESzSsIkNHniU0+xeQzbn\n",
       "NarCiU6WzcZujiLjCvGMR/hcRpMBqVLy6jyWObDUhRscewfxRw0DmNdGmiqsqNsehykZxM4WKdQn\n",
       "0W6Wip2Ckq8eBNIQMlK9QvPgItZVEX/wrZCsL/9J+6+0zKcRKNIJZdN89qD0R8ElIOH9+D1cA0Gh\n",
       "j8UsthcSdzSBni9s1+tsQXv12RALqlpBYzLreRIjEBWvXIWdRbjiW0a1UNc9bu+CEddkCoa/wd9o\n",
       "CLn30sD6Q5RCJvXHKlQe58S1oBzFo9AAHdEAAAC9QZ+WRRUsI/8AAAMA+O4+cE8dx23WQzW4EtCd\n",
       "6ePbwEJ7vb2TvOWabzIggfMoWLHzoa9raKqAYVj8k6CdFps8QX1Ze63pKnZKBS93mPLcLGfsDupy\n",
       "Y2qyAbT1PI8yjzvxUqKTUy4TBz7veH2pBzcRHzM15UjL2qVvGLNuv5ZiYEHKxK5d/iKS0n+HXkZi\n",
       "uGnTxu4euMljjTyjWZX4qtM8sEjAAyKHbjzhLSuVUkuzADFiWIR+u03RM8JegFlAAAAAjQGftXRH\n",
       "/wAAAwGRwk5cy/zzT8oM6zszgjVxbCo3mkhV7oycNaEXve/nWzsIrCoAGDerqr0Aqn/vFjWVOTLo\n",
       "Cl6PbWgeCuCyMtNi6atDhS2/5sUIkkKFqHn28/EkTKCZSGXUH32z0d+eBN60ac2ZK6RieD7Ag/sP\n",
       "YKehadh+KYGrdRctS942QM42SAA+YAAAAIkBn7dqR/8AAAMBkpOeylX0ym3JKKeLgyFHbcFiepYO\n",
       "AEKaZagPaApyEoWnsysSfWewyTBPKVUUBfJF/5nBv+lJBjHvNRU4zmIJsiHua5ZReyzoqVrU5NQ/\n",
       "+tBB5/tjbBQE7Q+a86iB9YBpU9t4eRgM0PNalucaFgwjLSQBXHT9ORS06ZtXWsACywAAAVtBm7xJ\n",
       "qEFsmUwIZ//+nhAAAAMADX0rVyWwQ0wPlGg7cYbPqQlpgSPJ8uvJF5wRCwoUPllHwhqij3QF7l/V\n",
       "q0bX7Wm7SJTAPXJFWiLQH02Rtznxj7siA3fg+TVKuMIctkEWskfk6wio/n0TC2Bng83ZERKxtueo\n",
       "2oSJx9YEp/Ls78+qIqd7BJ3g38DbdAvUnSROduZ+4K67hliULquwk3BbYqXqNWBXDq7cZkl/QGKu\n",
       "s9Ym/JlsAQu4qCHqwoDnBaItLUBQFhrCKPLv8SCPcAE7e7MaMN1vScqVKps969CE0Blo4WQtIOrQ\n",
       "PoZZvW3t4jxeRvCcm4TW/0eihbW1Sj2vJbRxKY+hqDSVybBvg6sX5OxCj74YEKieJQ660cJ5ISKt\n",
       "at3I7p8JMgUt04+SEiS9DisoK2qTSyx9c/vXpEsnMQugow+Z24t/i5f8Df1ArXW3Uy+AGT/qwAB0\n",
       "wAAAANJBn9pFFSwj/wAAAwD47j5wT2W7Veep4+yMVQ/rtFmGiRsAFvGq04wLDRSmuW/AIUfGN42v\n",
       "91G38g1ZT0YIbJsXBsDdzwm9RH0OXW+fIhwuKUvMOfBCmCeC/fjsjr2CtNXHyAdotdfkDGbwEWP8\n",
       "DyBOh8T9TD5ThR5eN7fQYU5R139f+SSt9XY5+gJ0eJ0+GmxgISK4eVh/fFEGMugV6fHsEQXn341T\n",
       "3/Mi/8+hxTcVVZE2vxYD9axfUDuad7GzPg3sTxKzMZqVhVUlmEvjuIswCZgAAABpAZ/5dEf/AAAD\n",
       "AZHCTmA6pr1fjo68f1Om9YgBJbKQ8jG8xAnyaRkTYyH2QSo4ScVXAPunIhXAox7S+XqvfvdYxIPf\n",
       "EBUmG+D5Mf+6vjOnpXx/CT/LKa1036Eqrr9wAAlrdS0EN1LlgBvRAAAAYwGf+2pH/wAAAwGSk508\n",
       "FYXtXduZonl6/JoRYADaBoWbM3Hqj+SW3nSaGgQgAOwJbVge0kC2lZHmbdxygcKywImZkz3hy1gj\n",
       "zyPFLpc/cRlzyvph1QTJT8/vjDt8qzSmuEAE3AAAAZZBm+BJqEFsmUwIZ//+nhAAAEm+LEwaHIil\n",
       "a6qGRUZLmgPCU4PJtLAQLD5vnuAKVcefDoPLNXhmByv+2qfeG+M4ABByGDg8Va0tF2/ylgYH3K6h\n",
       "hA5YEsnWJpMMY5hhM365wSdRpRq+C3UppGy85T2Jgg43QdDfjFo+w++wR9T4V3L4WHUUkEmbSNkl\n",
       "wT8ZHx4VelyxTZdUZkIxzF1WvaotDchMzc8hNjKYckecqt0On39EMqwziXo803i8+Hqv28/yAFpf\n",
       "U0SAdua+y1CzZJ8PPqS0nhfa3u931jwh1CQTYrMj4DmAzpsBpnOwxTqyNdgBgtWa9E7fyUJXeI+3\n",
       "ZfzkzeV/XNIOeQVeNy80lsjgJixY13RWfsLNbdEZDuM+jWCAAgCVbBUSpHUNLH9qLilq4i3Jn+gq\n",
       "nSexpoOPed82Yfjfx7PwbmSpOBHBNxFIT7jz63Jhh4ei+yegqVMgntUJUYCvV0ruFkzLKqRVIPos\n",
       "rm1dsgw+zvbr0OrpHy71/FEaMaXlwVXOjPSNSAcABpJrPF/YAAIfAAABAUGeHkUVLCP/AAAFweS2\n",
       "amCT4ki+I+edngWT0ziQYhI6zZjE96m5906uO6G52Jh0uJVf0Cu0waPLEmJVv2C2+byvVdefySSC\n",
       "lvEd4mqQDQk1msNKzApJ2d/7sMi8ANsYqgzgEZOBYOAn4/qm/wiCwwJJyMu1CNvs9KFINa7SEKDb\n",
       "gEUPJynDx/RQrTTzn+Qzldt1IzYG3Qw+BcaIfQH54YSOc39XwK2ccdb62lHpfcQPDFRfO1CbRJf/\n",
       "y8M7Fl0IWKQqgyqvbGch43Rj1Yk+eet2s9PtglJHHwmwQs17+7Gqf7zj84NLhxHWxzcuOmij9HyD\n",
       "W6Qma5N0QUpIPsSI8YFJAAAAbQGePXRH/wAAAwGRwqjcGMyYnqNvAB0iYrMcCwbGmRZS3O0Yon2R\n",
       "HV6dchBwW5bwcX+t2R1eCi3LU7/iH0wGSXa7wvzP2xYANuIjlek6YsN+fzdVHNjyuYmHgc9u0EIA\n",
       "KW3AQ4tWg3v2W7yQASsAAACUAZ4/akf/AAADAZKT5RV84ZWR0YcoAbrmi23qQMWC3snuQzBBJbKm\n",
       "M0xDxMWnT98xadIBHlDRAq/RVM7frIp/nblW3Zwr2AFm6IW4TqDzJ9boXLPQv8U1dKtPVv6+nE8U\n",
       "DQdEk3TAJoxIyPOPLi4e6+2LAtK5wBp3Wqy4o/KsJvGG3uOO+9tdd0xyYl0VYXHM9YAGpQAAAZ9B\n",
       "miRJqEFsmUwIZ//+nhAAAEdVDWVUeA5i+nvTjmGeAF4P1JDnjydQ8M3mcTk3ABQDwb7RcAMx7xyJ\n",
       "vnYZJ1q9fMPWOXcv9DPZ390MvHLs658xpqzrpstSsaRaYNKj5u9cPrbthx27R1eyB41qq21yCJ9p\n",
       "4s7YXIT+7K/HWo0+zhFqpE6b2+nGDEj7aLSVKNHqPLQ6f842OYLT3wtDcfZ4PpcKUBj2J34eVTS2\n",
       "jBBUn5QHuJkesW3hkEWFF3X8r+rjJO5v5oYH20Oz9DJm5m6/8y4GMg+BRZhC5tIu5fVrwYNQCzOX\n",
       "QxTv8+qgkKka8XvxU92vSYB5cFGUKKmKxcM4ZlfVwgjmDUP2Hc4UhIu2oBqKHrxYRUL05/r/dbOg\n",
       "7hqwy0MtAavfXmoI0Hxf4JTECLPC5idCB+O6arktihjjqxerg5NKlipK1QzEDPmhVo37juKhYOIu\n",
       "hJkDyoLNJCc9JgaCCosvODcWnhWPP4vKTzvfDD8VvOj33+tUks6zGl+DwuTXMqN0YB0yB1HM3rmW\n",
       "2wlh+0l1XS7276KnAMqAAAAA1kGeQkUVLCP/AAAX6+Kipxpw1gb9jbmfRt0RRED6xdRGr3XIADjc\n",
       "2eqIfDA5GrFAai3vQosee0JpSzVL6TihGu2R3QZORL6yg3RvJyT1MtJe4hWRJFvjyZQ654RvKgQB\n",
       "8qlSC/X1d9AcOZcB03cBWx3ryd/BF61kQv8q6hvS/BkLFO0TXThzshJzqoqddwhojSDsTmSiryto\n",
       "RUQKGdBs2t4DR2nYJuCeHFj6xKLm4QXXLYFJ7M75Q/0cszpk1EHzqV9Ky4D5deXDMlJqD6AT95cl\n",
       "5j6Au4EAAABpAZ5hdEf/AAADAlx2GPBaCH6ry3MxAACdD8O14+WHyK3zDH8RB2ExaF5t1ADe6FtC\n",
       "bo2SDiGkS27hMDZVwKrg38nqBchZcX+9Ylmmli7ngHvXNRKBFWXQR4viQoPc9QyKPk3h0CDQgBmR\n",
       "AAAAigGeY2pH/wAAJb86YWWE1v7rhDHx0uVYAIxVLuD2zoCZP51no9QRBd7W2D+8jT0xnsll/ryj\n",
       "Y0LvsBHagJS3uw+VoqDLkynVIaC61Oobq5GY3egFfsz4MaVWGMOB9dd51UFaM7qgVrQu36Ntdve2\n",
       "Jrw7IyhxgiU8/mzltC08qwWgG1QYWeQ50IAVsAAAAWhBmmhJqEFsmUwIZ//+nhAAAElSB/e6MR1k\n",
       "01AgGaIZaLpp7joBb9P2LioU1VIDbinGPtm2U0liQx09H0Swz/Ox35k2ObDd0phWmnuCx4U+f0YQ\n",
       "Eb8S55c/RDbAQ3ctoxpXHYnfUaOP4f+PxRdz6oMAbjNC7sl1kw7/clJ8R8BBdrY1RpmXJDpM/HtS\n",
       "bNDMYCDuDq+Ic4dx8+/WYZoBOEnAh1oqc+lQ4AlusgC+aX2M/fH1Uk4sGZRtaj99Kiy6YYfDoamF\n",
       "GQT1mNsyPJV3B2S/QrMPlGqbzvpSaIbkf8gLZ00QG02X918yx7mZm5wiaFTZTn0bWX0oBwFeXsBM\n",
       "B6qAcG4g6LNZTPkGldyANTArAL6ZGRmio5wOKaal2mU6k7hwj1Zv1dKh+V0ao6m6zm7lDL+UetWh\n",
       "R251hH7flOQBGr6qtYk4eWs70pdD50HRNZOnG1Ifk2bMioJ2+WFHk3Bxe1a9tU4AA44AAADiQZ6G\n",
       "RRUsI/8AABfiwrZENu3fs1HgACkO0UgPuXkmkjtfhMFkYgMAqOCu6zCmLU+rRhJVyKWPEA69UYKJ\n",
       "yUk1kuSDgFP7pNi806mYk4DzUnGl8/qaXaQnkUpHiZaFqrDOBT/4ILvjAnYvuFyNSEkptoZBJFOK\n",
       "FFDlzfznnxC+pxT1bzcE3lnesWh4PCzf3cbikxPFPJezRIxgjLlG1qVdlxKDObiZzRWwgBhu1mtb\n",
       "iqZCY63b70ZVHeCMXwA5A0azSXmJjKnoKL5QT6fHTMx30b1vJCFjW3BDnTgefp8JWpALiQAAAJUB\n",
       "nqV0R/8AACWsbbcLCNmbDyAhjuHWOQg9zqv4OHtKHUTtn7AWa80V3Gtqyu0FQwB4xgWLaRhDatew\n",
       "AuWLVVoR2/Js7dSK7kPQS5C3wnS6u4mZ85FyTZF4b0A+7S+HqVLEHKwMCwc67M130V0kqHdk7b93\n",
       "enazMaePfnpBlPmoe2dymk5h1vhJciI2j3ZYu99XABADpgAAAG8BnqdqR/8AAAMBkpObLIANBkFF\n",
       "bwmHA1lBXshXXfliuubpSqXGiaNuXEJa1JI7uFGluYaOtgEvv9ksYRN7G+Y1Ue3s2ovkiE6Hy7xd\n",
       "fVRxNKZwTEbcSrgKNAjxny+lIL22WSDpY0s+G0t3g+YACgkAAAFGQZqsSahBbJlMCGf//p4QAAAD\n",
       "Av/3tQFnbQC+6my/1KZ5NJWglgxVi4RZyBGlEjo45DvEBaMyR0htGEIIhCxB6XhesR0R5VeCxP9G\n",
       "kUyB4FKOOguMkLQwuryh0+CrbFPG5iFiXZWSiC3yOp05WWk9wWIkjs7BaCmVTtb7RwE5voXmtLNh\n",
       "WnLFI/Z1ydtmW8CAuB+PchI19+CxDeO7nRdns4NEm1dvJeI3KXwC6HYfSaemEbpw4j9L+mejorey\n",
       "27GxuSmTzDwbksDi3N00uVee0U/L9EcurOqNiFX5RFpMP8itW+aNvN7gHAxrG6WZ1iL0YrDB5Irn\n",
       "U5WClua/hqLMRIa73E587vDcX5YCsiiiL8n2nlaQAH/4wc8IV+PQleptEGLkr6eaqvdTHKf/z8rT\n",
       "W3P3APNPh44+Yk/YXrZgoRL01jgAH+AAAAC6QZ7KRRUsI/8AAAMA+O4bUpfgS8PkYSiAT83SgiaE\n",
       "Bd3fLlQMNA99OCQl4tmuTTOmtAQnRhzks1StYeeAPDM8/OiR9X1oxU93bl1rVoY1iddkS9hRGBny\n",
       "hrY+l6rMkcco/9Tsr6vilgIWqJiB9IDiIJ6q3jNy5Q/96/n5RVo25TAX+BlQ/ZU1lQY34yvnhEu5\n",
       "MFXjJvtL48FycfAFsvw1ZWMItduzk3rgsSNf4E5oukSWMKYnUXQzwDghAAAARQGe6XRH/wAAAwG/\n",
       "90oeJdYEoz5CDH3f2AEOAmmoRFAvNSbpjxR02RKalxUx5ezb532Aa+F5RuAIhC9qqdFu3+p2xgA4\n",
       "4QAAAEABnutqR/8AAAMBkpPJglUBitjJIvBb8ucAClaq6gHXa2qHCKTY1c28tplYUcseXA7aeR2x\n",
       "gyq3641zziIUuAJvAAAAoUGa8EmoQWyZTAhn//6eEAAAAwN37HlbsG2qmgqpw6D7rn1CqN3+Msel\n",
       "rHACZO8FguhT8z9+rj7vjRdVOKif0grqL19TZUTEI9eqRhZHcK9QFq+c5QhnU9SmAutPG8EgNeiF\n",
       "cDumAi634ukDlYxkcLo/27Tu+4p5f8AefgLmT+hv9aN0rXlOs/QRvbTYJdiH1LFDgzfbVS10kRE2\n",
       "li2O8AGLAAAAaUGfDkUVLCP/AAADAPiAyIdWvQD82l0AVby7b454GIGh+zSNajfJLg3452Uy2E7j\n",
       "MXNYVHVbB1JknhaRQyK63+3Qz6ciGcrrhN8XlqZ9jFkfYzPFmthYVaJv+dKhof50+LyLLz0SK/QB\n",
       "jwAAAE0Bny10R/8AAAMABmytvtuFyoARkAmEf8KT0XbgtBfI1IJKI9F/tgZKb6iuS/M4abBkmUuM\n",
       "LHufDBOtu7mhIhuEfBB5be0/XaE6c+AB0wAAAH4Bny9qR/8AAAMBxMz2Ftkm6H0CItnQAhW0L2Yw\n",
       "OJkt1NT2j9sg8Y17rzptkH5Oc1n6KS/xe2DxKMPqNEs4jVgNnOPtgPtBvvWIKUUu3VJMB/Vl9kWs\n",
       "OmjreBEcCtHqjHvkcXKVJT8bWf/7kK+WcydqWCB9XSFyfMkce6AA9IEAAAFgQZs0SahBbJlMCGf/\n",
       "/p4QAAADAKw7+dKbgvpy9exmJ5hAJIwRa8y/B5TU8+Sy2O+1XbITOhW/sYyq5IJIzVB+2OzG46y/\n",
       "ZNPazFfqPNDAJP7jQ7pL6BEDtQp6o4ZT5FHlVQ9nT3rZUr5Bsk9E6u+x68x+u9Jz4AsNVeE/uq+B\n",
       "np1LV8hVbM5UFtmPEOF0D6iSGsP/ImaOsG6qv2IACwOW6649XY8oDgi5r6gN/tXeEGVhl5g4pbHc\n",
       "8GD9LL1PdCWCylxeb2fAYBkew6mBblAIhfW0nMf6VXfks2iEfcz/+UjXO/zkdO3DioKI1ugJq2ME\n",
       "5jEU7cBe0MdvWgGClfC9fz63h7NNNrQrGYO8KHndFUPxLI568Sc1Z5CNuSJYe0F1TxFvzlUbMUh0\n",
       "B+ep+7ktjeRh9SRY7gqWrYeswh/RPnNgMYATAWGcOMA2SU9UFDNcHoocCwgBE015iVvtQQAR8AAA\n",
       "AN9Bn1JFFSwj/wAAAwA+TniDU0YzdKdhGbqNBRKHc3vwiGXfSf9jCcGHu6CRzCQb6d0zF9P1Jsga\n",
       "YDONUVT7whZX4K53O0W5wQrKT3MXeoTv8iAJ9sHndHKxvHO4vx/7f05cnMxeVbOq1qkOv7XjM1bi\n",
       "T7cZ8pmKqF3tDZ7qvAW/28npAndHBaVcyJXfvPARUT2SGglItUlPI+osRyCi/MEqugf935vqmAGZ\n",
       "FmpshMqkt3nvSIc0e5JkDfDBVfhzTqZ6YAl0V7lim5Si4hirDZOxJ2kmNNcYFeaS/XP2gPGAAAAA\n",
       "ZwGfcXRH/wAAAwBk5d0AnUuHWaVkQXevM1PkfXMMsjLaf7suS1u1Bojp1LZS1opMnneaVGb2oX/M\n",
       "glakzqWOvQTk6wcj16HZpBpkKmb951Ai8u92BREonm3d5JfgDPKuhKVp1EnAAdMAAACMAZ9zakf/\n",
       "AAADAGSmrgAdvqyGFs87jY2FviB/yfoQKG/d/1QRtnfYM3dGGFydwdHYQdiOqT71dyXW9nlNW4FV\n",
       "We4FnwtBTqWPK/TqFB3DAkGkMU8Vv1c8FRoh2zgXbuBhXS9KS6UUTieJl0Rwz4nFgVLTy/evkYj3\n",
       "MkKYYn9+VgRsccQQ1tmc1ZyABvUAAAGjQZt4SahBbJlMCGf//p4QAABJvixMGhyIpWuqhkeAO8JL\n",
       "u3xBFFW7w4DfsmeeXvRUdPAJmu4D+Bpl+cEmvmQEjCJzpaZyJ9ES2zCKWObIW/atpxLwUjdrpB1S\n",
       "ytb94a8LxpJaF5nvyhIt62m5XLDd9xkMd5wdRVmPs+S9KopGPT/brfbRfrdw4CSEpVvkZvgdA6ND\n",
       "JaKNIT4tdBa8SW/QD+QfEtfPtjE1JKiXIkpEliSb/MjekyhHFA2O3kIZ/IkpvVQIzB+NQBMbSg0e\n",
       "4SrkCkMn8FFfSd5T4JxHGsk3IxjKEobkhlKqYaS9TRi+hhszoDKuBRokb7luRl6qUsEln3q2TiBn\n",
       "j3Vj2gjZfkvfSCjiW54Ej0gWwWTNBatqM5eukJNERbhsd+wDA3oS4XJTM7vW9JCmDp1iIHbEQtIB\n",
       "jaIFIaIDendz/gXrlpMgIBi9bILYqwQeDIFiQkKlUt2KPobULV2rAspkdRqrPwcDezTeOaERuJU1\n",
       "lcdbChPX4Hh+Yr7afsYL8paeh4wlShsjvnRJ2ekGH84nPtxpuVz7uZgAxoEAAAD1QZ+WRRUsI/8A\n",
       "ABfpg8CYz1yt4OeAAEdNaVZsrkAYfyoUmssISJqs18gkeyfOJyxeeFAIHGHoL/6a44Wgdci2C3Mn\n",
       "58EZVMMYre804R2noMrskSzHM0Ta2CATT4wJTJ9QsYL5MzW9+lmTQCx83fVwXTdAVIqkYx8LAq4s\n",
       "gtr9c7FhbSSklWWsAUJvP/59hCoxbTBFXPXc4KtqDv5CuWflOEP1tnyDFpqGF0OefpTbW97TvWRY\n",
       "tc/qSLEt/3Z0MJXy+fAA87mic/ZE1TsUUvstyUAN9euSHZ4QWwJvO36H5KV/ixmOSQdurUq75RxT\n",
       "IhWFE3eAXcAAAACYAZ+1dEf/AAADAAtYvXUW7adzYqlEAIOHlt9hCVJbELd+YnXuNwktZajnKxRf\n",
       "VngAukfAaBMmxKGBz6uvAN+mXSPBohLr/j7TPOngDAdgtt65PbmcF6uz4kcAOFD2gV4cWWr8uxqN\n",
       "SOU8fBx05pDJ2438X++8pRBoy7EcdTQVnqiMJ19BDB7d/+fN72DSWtghl+P/P0IAdMAAAACUAZ+3\n",
       "akf/AAAVnMJBNNzPXOzjfCbK1JyfDU3nxGY2N3mt60i82aIe/41Ko5vqrC4xoAC2ZFUnEkSLHzmR\n",
       "NyjyapOece9EO0SxOv7IYT7Mn99AHkBFsVW3eohjrqON4LOZHlRb5tsN9FIsrgJyNxLLaswxMj/M\n",
       "a4n7hH8rIbFdQ5UkdcydeXVB3xtRS6WjixqlcAAekQAAAXNBm7xJqEFsmUwIZ//+nhAAAEdR9e5j\n",
       "SaQgZPaqK7p9HJBEOYTG4KzAgAKFQwKCxJoCE31c0R/LMgFk0BLXuZWBttlwOF8Xue+JWJJwdQ/2\n",
       "oY7Agq0ui7WcvWvar+N2Z+UZ5adfw78XyZ62kYEhlbkAKBPo+yPnUeKiDzsxrWYmk33ZPg/Ks6QV\n",
       "Rhns8Op2Vwf78fD2e3dZrib08FDkJzHre+8F/EAFEY/R8eWNAegQjgnEJIvJTbHky6qfuDCYML/r\n",
       "9JMJ6gPIq4sFxKBkjIrSpRniLnKdbRMr+EsrNHuPhonHZRJDDrO1AlfRcHKevJNp+UwekE4TFUmy\n",
       "hmKqFr0oa8DPMlReYa4VYL5tTHZH4yEUNzLEmRFct1kYO/ebs0dqIKsbGbA1aLC6uV4yssz9Art3\n",
       "cO3Izn332K3inB0cVlkw3xZ7ruGjdZPDUy6KVOLe2iGqpkv1s/sNt7jZRmLrwaY/79KKkWJRiLi4\n",
       "qGUhgAACPgAAAOJBn9pFFSwj/wAADYbsbAmpszhbXPEOpTThHLc1U88W56eOdcgARkVu5eQRFZvY\n",
       "xoTQEnBSrJeo2c5pdeGGCA/z/Hale6czuQyajmWxjwiYc/KjvvkK585U5SMTgzl3naNV4nPZqSqv\n",
       "tPSWwRy/MBIlerLxKfqEsogGeo4dw20QdEOePc7b3i+wNm96GuBP69vTxyw2DLli0rxkU9gQFyef\n",
       "olQFMdk7M7vdtBDHw972V4BT9jnrnuOPNmaNR1kZfNs9u2CAO9CmIR0wSHyVXalkmMJViImJ1v5y\n",
       "7zcHrMBQgLaAAAAAzAGf+XRH/wAACRLQsPn7NN11bzcEojV3cLG+fvoRX0rjE78i5nQSh67ZOZJQ\n",
       "43PaOg5Yis6K2g8AfP0rGGqQcUgA74dahCiMANdZGffm8FiEBBx9HKKVqZXxCwRgC+J5LPN/r7eX\n",
       "JwX7haY0yJ5Yw0MeYYIC8rKQriZ6jF7ks/0epd3kpkTcvvp2lklzhy1fs8JxYZWPw3tPquM9LebL\n",
       "eXN+CI/hvpO4Dxp7vlCVgFhHXUqtsWYg5lReXcKIeKdo/OFjDco6EwJmEuACBwAAAI8Bn/tqR/8A\n",
       "ACSxyvBD+8YsWwO1hfnr4PKaUZgM5nFPd2AAcu/rDGWGWH8jnM9AktH/WJiq/2Y7ozGkZY0h4uL4\n",
       "87C6UsgszY+Tw2zKLp0ARc+S+fTACnQyObDQEofecz9CPZcb64r8wHzdBepz2zuSlaBfZvKoIa17\n",
       "quykIsOsciArDyAIeqxRLcM7doAqoAAAAT9Bm+BJqEFsmUwIZ//+nhAAAElOEcr0vB1U5SPGwz6m\n",
       "PvxNecOHawFMa8owU4B8VPR6TfHTyif+sO+/sC+Wm5h3945mg44GC+r1MD9mwgUnonaBfIUvLgrh\n",
       "B1ndwzznTIm5UWVl7olhJh+McPZO8x6RhXq2jiMuYuzQPCzxeU2DC7uAD+WRHkSke2XJ33gZeoAs\n",
       "iKrj887Ryc3Nwf4wj5wcAhfNNWChb9VK9nWNW41/11I+24Ys4KT9/gLJT/E8GJJsFgV94mUhY88R\n",
       "xuBLt/v2t++TNH3P1/r/b/3kXD5t1B5FTfiqGSy84aYw72+T3mh3oWXjox+P406+IeE4FuC/aPMe\n",
       "ILVEytDpHH0xoRCsVmPVIIOnL1DcX08W8Gk56lq7xb6UExCzZewNCwfemT+CDI1/x5/UheLzk3iP\n",
       "AAJfAAAAsEGeHkUVLCP/AAAX4sY0k5ZNCvYL0VJvUvc3xkMdcc+j8RUkYgBbO60p2TyVrCuAt6Vo\n",
       "FKnBuktTjGEI0s8ZPGZfmRNnk9IAXM2q3mJEZQetSXAPMRhPR8vQf4EuesAeS4JAOagEy6+N9laH\n",
       "j29FGgADE9WgHnxTZqvNCLuzew5gJ/24rY12H4vFfcAFzUdhrgND8XxZFR+pr42walEvjlSTJjtT\n",
       "ev18XLKXhRaDhQEXAAAAewGePXRH/wAAJaxyZpDnR11uBJa1egbosjWqTu4ACHbKbNIA2/PWn1jJ\n",
       "w/6SgUurekG9J7aJTXRBoZBY6tRohCgyAg6AuvZi8zAI3Jd9JQse5jwN4XP7pL7dSDvRJOYgtwqE\n",
       "fH5IxCynn0OZ/+5ACCKE0KDLOaprHGAFJAAAAFkBnj9qR/8AAAMAAvOublPC6sMAJbI4jNymh8yP\n",
       "5blrGfVYt9uo5H3J5ZdXaB1BTvixAellqLpbZ2vgNc1h9AVa/P41jBSZRig0EeilnDXRMXjGEoqR\n",
       "PGABswAAAYBBmiRJqEFsmUwIZ//+nhAAAAMAjxsk6TQI6gFmOpQTZAg0rQ0MzAm6OesFTQpylcZF\n",
       "4KBxKn9Zu0X6/IxgWpzp77y6Lf4cQIbuVtQ+vcH0n7Nv6Rv8qhgolPxulypduv/aSomdV+mjXq1U\n",
       "FPQ9ZOJZY+juCVYDomH0Om7t1RCsajncJklXvDEBTNvMxLfm40381BdZJ0yUbyDEaOvAMigq4831\n",
       "z8WzwPlpOQ8ua1Q9tGaZaSzZBnmc94X0Rb4wpbY4C/2gAFEBPz9BPRrk0O5Zv70yUXugyo5P5sLs\n",
       "y0BQTPFT4qVx0SYNM7B43KKYnFScPFqrLN5ooR1SW9lbzm+Wesb4pi9eJaEtCkMOOQeNITL3Urgy\n",
       "JLSjEWyLW1yZx1dDANFR/KfiVQgxWOSwepmQ7IdQJT0Uftre/GR05u6PWXzyG2zbUmEbOwJR/iUn\n",
       "AkjY1DF+sjPLl3HmcsJbHo57Z7UWuTda7PgCSXjwe1ReyOCPmbS22qwLnGnRxrNAAz4AAADEQZ5C\n",
       "RRUsI/8AAAs78msqFctJHh8JL2CcAFR1Q99BdyC+ocLhhgm6l06Ssik61B2N1yXrnsWjhfXLvrkp\n",
       "FgRs0heJylRTsZXbeiAqKMJXAWxQqeGS+uq47KTQwpqASOjAolNK/F0c2c7DvqEKGaSA0SnfPAu6\n",
       "EovgA2+99OrNHYQbR6hg8IUNyXYwwXDHw2Cw0VDdefeygm11wj7NUWZSL3i7zl2F3nv3w03Ujc4+\n",
       "zCvnzgqR2JfpfJgN7swHHgeR6wCBgQAAAHwBnmF0R/8AABHWHFQhGRfRnHFF2yDvAvwDX0a2qlT8\n",
       "3DRjSEyDbNMtQHtAqgk6KhR1ZqVf62jYx4eeApMdy4yqh0d9Wr11bcGKBUQtbGqBZGN95BKKj6EX\n",
       "wyvoLAUuU//yKXYIz5S9MXB/p8Vc9xUqDFdun/oIaWa0ABbRAAAAgQGeY2pH/wAAEd+MunBsbsJp\n",
       "cRakLkiRMT6haAC5Rt1enfuMlZRtStz9AX3T+Jgii9396ZI7JxB31Pp2I1tTAZDzAhXG4laiLArW\n",
       "YMX+03foT3aLFvKYHS/gAivtX6fC8a3ED2drU+xNE4f+CyWWSRo4nB5/RK8Hnv+bP16e1QAS8AAA\n",
       "AW1BmmhJqEFsmUwIZ//+nhAAACKpAzu++LBaY7GkAaCnPRJ+fMybKsjds+gsINYLKj5esDHH31dd\n",
       "26C5cHqFmn1nuFsVFUNX1PcEta7iNMouEXDD0btz6uVrcTOxY8UlxbF3e9P/DQSHx9Y2Wkbs+rlT\n",
       "LhmSu/VXBUsIiM3mhBMuKWvjoJL5HQoXn8Q4hMEgYyBPxkmAKEfDUtkpI1sU/jRfQl5w8FJ3xWkl\n",
       "WCfpLQPieYIlUpqRHGGPJoTlvbc1GyAPLWu2zOiT4ypSgJAjK6owg4U35pkcox/BgKL9SIkW/qpy\n",
       "BRluEy+9MQsPVl+bXTccQWMtSjNh/rwPt4nyFngNJkcmCIdoyIqxXyl/EnJ83AgZbTt+LRGxynOP\n",
       "cBM96zqPAoefexVAmUz3yNLJsYKrnYBf/1NEw8jDoV/6MC3AySTWFO4elhfnEiQx+zDvceLrDuUU\n",
       "0cmkzZ/kHeWsfmymrL1H5liv4gf3AcAB1QAAAMxBnoZFFSwj/wAAC1qrXu4Ag6TJnDozAu5MADgw\n",
       "ZsZeASw6UCEntiEhDui10J+Pr7Edb6ow94zt4d7pjqPKmlwbNVN+tr14islLOnW54Mu+vZLmx41i\n",
       "iCvjiMukNwZVA0MWXwI+Dv4+XYNBuUkH7hdAV/TI5PZ95bJCRZ7OnC1/Qqmh/wjL7IH+/wn0ND/t\n",
       "soQRoryoPqxq3awu4rDvfRNo30J4pEN9gKCU7m7ZeeKTes6/fvBZ0288I03OplW7hfJ+zqw1PuJa\n",
       "NCPIBU0AAACiAZ6ldEf/AAAR1hxUXbeww8jKg7hGgBI26D7uIcpBP/V1lBNtrXZQlGwWavwGIgXO\n",
       "remmTvR83Aoyu+/E95EGJzcgxKqWgGk6gvmr2fR3to9fKvktFd6c9jrSL+DGyk4W+DlXieMDOE2c\n",
       "zW6k6emZXZHiKC9AwpMAnaXGmH5pvgl5e3pd0W3qndwp8E9W7of0WZFYsTP2k92C6f1j4EWOACbg\n",
       "AAAAfwGep2pH/wAAAwEtkVG5wYgZ/WvA4cla3M0GUcVAAbPBF8ti5cwjQPlp1tfPn/LIuTVbpJUV\n",
       "2OkaX0EMOU4zxvco6SevSNKxfS56v7cXOG0lE7HVZ1FfWqt4NdCmqrIS2c0FmsGG6T9gyPFjEM/u\n",
       "alfLsPnPc42yqDbi/6sARMEAAAFGQZqsSahBbJlMCGf//p4QAAADADckmCJWy9hX11lvr4Gh0vaA\n",
       "D8GTxEvRzTJbhDIGWTgto4DZzDbXWJRTr5aJBcdO81I7i0Mq+PqZd0i1S6TYlNii9FWM9hMsKX04\n",
       "yjZERvQhAqNi4XjXySWA04sWunWWAz75LaOw8OQ/TmEI//4zeHGrVWy9U0QN9e/mEl6bIEJiW4pr\n",
       "5b27LiSuVTIaeqODdqfBiNYpElfZotjP88n3bG49V3btQfh0ohGcvu81oNcTfDygOn6ZHmF+0Hov\n",
       "Pj7JwSiAWmS7PiYAQoZfXssX+EqFqtgMISseBdBNpvrgbyUeF8ScFnrGu19ykM4HvdjA6ZuKmDQq\n",
       "pXs9YbJcI3sRP0oK8ViPGbXjV/Wb52Hy5VkSmpQIn3VZMUiWoN9Pb2pkIJ1P1fs1gg/lmlT+I0i1\n",
       "d6EADpgAAADFQZ7KRRUsI/8AAAMAEd6deAnSxS1lvK34kXYcJRbywtLnXLsrrIEVY4UiKUJt+ZX6\n",
       "heZ2gR8tLCQ9uRndibC31sSFhfSf/Slc3oyLFwCFoxo7M9EtekIGkOx+MWdSG4Qhc4fX9m+x3+Mp\n",
       "N6H32xlZecEE2kJ9HuOh/xp8d6AYrG1EqbhR3FrFhIraf8zODlWj3aH0YF3vtWakceXB44uETzTY\n",
       "aEyO+o4MkuwVFxy+SR+L6GRt+pofCVU+xNqaAn1c+X0AyoEAAACRAZ7pdEf/AAADABxKxsgAlZVL\n",
       "2jgAQkRbQCKV1dCoohHzfRI55eSK5r7SnNlamq4tKc3l398nKgYwT8LTDws5twQPi5A2ClKnRqJ0\n",
       "hkNJTm+lJyGfCp4qO6QlkZlM2JkF1HN9h2ffRvcrJN29MCqPRFKbxEzKZBr5wmROplZSi0qMpfIF\n",
       "Gr0RT/Rpu0Oj0OACHwAAAMUBnutqR/8AAAMAHFh3MANaT0Oj/3fbrjrvuqxsNZovRfTMV8ajuo2l\n",
       "nEs/9ChjQKi49/PjiWHWpIZoSzg5DC4oq54tyQllqmXm6bLYt919bYhwRZ5dEWfTGzKsrzAyAB9G\n",
       "f/yo7ngcjlL9jF1UALlBHHDRmpsspnX58HoDCJvCPQJ1CWzlPtS+9pkoiDjBwv1mbWQ/wTwWyOdP\n",
       "WDHwZsMJhxabQX3sGZbDPDYlk2Fi/cVeG5D3OAvE3EzrI0bm7+QYEgAg4QAAAUBBmvBJqEFsmUwI\n",
       "Z//+nhAAAAMAR0ltYCnqRqMz/a1HGOkDnvR7iWJ74SrLePJKkkcQ6cF3ja2WNo0bfgW6ogecKF0R\n",
       "6Z7uoy4MalkwWFK9Z6z4ci28mTf96nHg+VVSvt1mH85+xPKCV137WKHuqsWgieCyTAnjFCJ7WzRn\n",
       "cDfv9u/0NTlRVV+YO7ANh+TmXc9/5HdvoAwMLltZeH5YCsZqNQ7il6RpzaulvSQsXzdJjcrQdvg6\n",
       "P7KCxFGyEc7qMrJb68pj83Y1KeOP1Pb9l9+j5G3F43iyY/PDQyJyilPunmmwfrTm4PrDDUV8dF2s\n",
       "ZaM0o7T0eyNzGy9Z3+P+bA5vKexf+gz9Vbhv/BKSrmozqAhzTm8+hUmCAXx7va+Y7R8elCJS4MO2\n",
       "p68qpkGvW72YdgIKEES83Sv6VwuTGAAHHQAAAIZBnw5FFSwj/wAAAwAebcnB5AMX54OautHMAH87\n",
       "zf7YTHvnHY0QFE9xBY/Yr6vv+GSlGyCancTxLmcIcEX2l/3PPKQ01L4pLiffY5IhKCEI03SENXVl\n",
       "x43GnbEwNEb9eGlxShRobpl/8kuJM5b5ImdwG6VlKCipOWpyTZRMXMK7nLTEqYAJeAAAAE0Bny10\n",
       "R/8AAAMAG6vg18ZGAAANifz6JbILSZ36d/6Jew59fB4a+iMMurl6sJ6+byBW0rt3Nk0SitOop3PR\n",
       "Km8sYKv9J2GHVRse8YAJOAAAAEQBny9qR/8AAAMAG5/VikMoy38gBmbW8kNEN8v0/3wNQYb1VDzI\n",
       "9eUBz9hsaxdPiYoAL8ARyh5TxcMmShRCBqia7gDPgQAAAF1BmzRJqEFsmUwIZ//+nhAAAAMAR1IG\n",
       "cQBFBAB/4K7mGMB5F458Muz7/lm8fF5phi8lBovPyR+rXeQNhHExI33HZ+K42L2OtH+b6oNTWyi0\n",
       "A4a4azfwf9LwxK1oAwIAAABZQZ9SRRUsI/8AAAMAHm3MBALX8kA3lPEon+PwIagteP+q/hYfZLUd\n",
       "SxW/+R7IHqqA3+vha/+DB35uryCkWJ/RoDT0dZvJ9mwP4CEwzyQ93s8gd1Y0P/XsBHwAAABDAZ9x\n",
       "dEf/AAADADB65/MAR0ItBNEJp01AAjs5lDbhjEt972PqVw9rBafpq4KNcHjrjL+P/VH7/9OL7XyU\n",
       "2VUAdIABJwAAAE0Bn3NqR/8AAAMAMHrn+6uiYQiOgP4fuBmhp1HP9E1M03FUzB2/9IgaioFE8ZX9\n",
       "TAVmnU6t5Fn+62LaevH+0SniV+f4ZulqOI45y4ADuwAAANtBm3hJqEFsmUwIZ//+nhAAAAMAR7pv\n",
       "SeqCVUOjID7iHDWHipaAA0WEFSjTPAqNNWZKPFg1rp18Xy8c6ODB53tUEeBQFd+f0/Rm6BlN73wI\n",
       "0wOYKqw0qI3dBJV1jav3pGyoOo5J9nbqEATodUUn/1uRqerqbyXhTNAE7KQ0gqsEbG7WB7wmy9gn\n",
       "GduBEZRsJsXcoeOZWHPsJ6bL4AK9lRZEdgFklG4wzOF1suPYyUQK9oLL8CeJiY1oNToKFPURiAwR\n",
       "g5Wtr6mOFJ1yRO5ZDcxhul4NNVbQ8wAAJuEAAADBQZ+WRRUsI/8AAAMAEdXp861r0AQRXIDTbzUa\n",
       "IEj95qsIXp5BcL4HxC9uPFAm4UDMUAD+pgA7C16vTIJrKLYbPJHMYCWJkwJn0LrIqJXnATwzP/Hv\n",
       "RRZOiD3H9Sf38CB+K503XcTmFqS6y9BmUjMpA0jGV2UPextOpOlbO4Vob+G8LNXxMx8iiR9/U/L7\n",
       "IkN1Nkc07ndRaU/RnTFtBKB6EGgUVrM3a76K4ATys587xnlV5F1Ah9VeAi9QolZjMQBUwAAAAE0B\n",
       "n7V0R/8AAAMAb/3OKJGXp7a4KqAIKqYbkv3PfFtzteS/TUrM4Ci0bIvIRhO3lgUz54UtG5aYJvm+\n",
       "VIomuOTDNy6cisDZnIZBDABWwAAAAGcBn7dqR/8AAAMAcTNsS5I5IFGjA659oIFUA9+PAcz+auTb\n",
       "j1uyoSXedSX4tlfMXBNAYkiTz92d1iGMcnZk+NwSOyh9WUGb0TrG8vtIjXDN7Cj2xemi2gd1jNX+\n",
       "jI2IzvmzUs+HSAD/AAABY0GbvEmoQWyZTAhn//6eEAAAAwDd7c/xTEAmn7jA69b4zpU9CaTYVAN/\n",
       "pI8KGMI40K5zEozIaaB0zx5u6oV+lBi225EJmy2EKoEHwylr86+4GUu2173UFdg4sRePYkP1x2ba\n",
       "I5sHNYJdc0wyhTKDZiMVY6nrDJ4p3Oyp+7gf4Gblh4pR7EmXaiMXGLWzdp3nGOLo8mK3FRSrz/H1\n",
       "r+4vkEI3aRSOy6gIQUej0HU/lgAxKEY3ip9t/HIwH5VRTImpFezT6c+avqjTM/BZA1tq0iuTEaM/\n",
       "E7agAc6WXDW+0i6WUFF1w1R0sVFs+U7tur57zfY3iiOfu8SCO1HmgmyqsRhoxpHRb36HkvQivWhG\n",
       "iGpWxY+w+lh/9GYHDLO/wYtF/C4kV/TP82f6vGTT37DjFk44NJ1yKGe3kk0XtaVN/QUuvbe7kYIr\n",
       "H7aymwPAN8SfLhfGbb+/UNMeqJjCFXeZYhsAQMAAAADwQZ/aRRUsI/8AAAMAR3k1rloBPuiyzTiE\n",
       "i9Ha9fX2w0qg64yr9Ticz2UoL1TpuUV5QvSVl0aeU6+qpATZGwb0BD9TddgS8FQTmhNSNVigNTTR\n",
       "LDt4ls99GWJnqBAu8/+pYLD6GSrGsJ3/JbnPbLyh4le4MVqL/135AEXJYhxA3MF06RwPdk+rrXcq\n",
       "jeIBZqu54qWFb5qEDLIb0585fAjMg3qjvB6DWJRvTvDOMnbweWPlQ1DW/LpgwybyGkeWWJJ5V5n2\n",
       "3tVrw8y0zReb6vedDMsyNK1va1TiQ/MwsjvzjLccZm2HuOskMPipYU/tQDqgAAAAhAGf+XRH/wAA\n",
       "AwBxbFqHvoiRf0gAAmQXUDkTmalyETXO3McGk0qeICK6Ks2cMOVk0Km2m6stvhEbGYTWzacNMvfw\n",
       "sr9c55iYk5yVi1pNn509ES7Zz4CpbM8uiXyUyWFVyYgU2azxaXtIyqYoHgN96rNqmiJDq0GIEKgw\n",
       "kY9iT0FmAAD0gQAAAMoBn/tqR/8AAAMAcTNCCg/kABSHX+i32dZGEnZInh3U183hMxyRuw3TqRPE\n",
       "bcF9W+UqyhPa8u4vE7fwPn3v0oqlLJbja+voy8/JZU2cenPtEVFGNzjzgvyd3drYM4bCRXF2qRC0\n",
       "eD+xEqS35cP+wlmxBnvYdb3Oj1Y7ZrbEpOEG7KkWQzIGVFk6x95cT6HZDVOdNPocdnHq1J8GMSan\n",
       "z6Ab6e9VCAeGpd7MdWVOt1+O4aQeqjSg6XJpWWWpaTkeR7OIdU/lE1mtIAFBAAABeEGb4EmoQWyZ\n",
       "TAhn//6eEAAAAwDd+x4B8UDzFLiu/gATR1rwZV5UYSC1wG6BpMfbyYH/9rEiG+7pXsbUwS439Oc5\n",
       "FB6UUqzXV8PMm4Ca8SDcvItQ9pkRdH0Wo9IdkgSWpLVwAN1PZzwSQNhvTleoucY9byQpjYoh6RZ7\n",
       "Bw5kLNY2351azCXouthwWuPzK7ie8wfSoVmzgZ1eYrTGbrCkqiDh9xVG2aRzpc1ZInSILez/p+Sy\n",
       "Fe9oDZeX2EZckz4/0oCFRsV7bLhQmhaWXY4T8DXkX2ZGpazl+Kq7zoHkuDlRCtDyuS/D6TpP1zam\n",
       "B20n19tdgE15+22wcoUKQnjLQxFyg8MJs48zKplvn2jMXIXTAIcPv8oz/H83RTLK8XDPpK9/4cgn\n",
       "YNU6gemsSUOf1h2rY6/7CsGeldrhUmOPUjURLQIJqE6pVxMWFNFHocoANvQxjWb8HmieVRMqHSmF\n",
       "JwYXIUwWJ+k+vHVTqp1lmYQmavMfp+QAMCEAAADpQZ4eRRUsI/8AAAMAR2BIJSeSp2+PMXhEQcLp\n",
       "GrgAuos/mpuiz5A16+Li9fAkJcOQLCp2h/YKg2v2kUEUmeS3CISsxXemxYPO/9sPxWJTRfDiiQzA\n",
       "269OBmbacDrTsVMvi60USHrDWfA48keIbc0u9FReJupYVU4/2WnH0XBD7hrwle4ReFjR8uPmtJMO\n",
       "/lSk3PMKvwgDEAKKRvWpjM+U+zueE6UnpIdFpLUHBhUTrgerl8IUwlwfee2mL1TqYdHHjU7rT9qZ\n",
       "r/V04tMTB1IMIiUWkfZsVkPP1+myBEuEITs/goxVLeX4Az8AAACKAZ49dEf/AAADAHEiim1NUIgn\n",
       "XbtFXgCTfPaqwABOrYJuH8TuqlpTusyGu6AttvLvLDrljcwPcGJKs+5kzj2GjleFqLwHfyhaJcYA\n",
       "/fkswJEToLx7+6sqLWeW0bo3fzCmnWf4VqvFmiFumTHmQBBFN2cssyrsZn5d0T0WwKIJO5EXOiW7\n",
       "hJm6gAm4AAAAkAGeP2pH/wAAAwADEBxMANssnAmn6DLAohhKQuoQiCzzPXCORoeqhuT9oCRcemKl\n",
       "yp203gCgGLKbt5coLPAd3CgEYp2Rub9RqDDnZ1PxB9CPlwWir6UbuK0nWI3Rk+l4w3UZgn4KKr0j\n",
       "DSaeznTtZjK9UxMsA15XQULxfSMDzyxTG8m322zJ7GWrIy6LNABJwQAAASlBmiRJqEFsmUwIZ//+\n",
       "nhAAAAMAkpEuQDKK8puVVOTysDtPB2g3BQVowVg/XSEoUPIVOMnTAp6EKPbRyiihFCiY6UUmNYSz\n",
       "Uw+wzfg2cFekHH5q/t3RMLQUAw4t08DQyfeTmvfjeYSvUOqE6CiPzzTD3AEYo8gFouxbv3IYDf7B\n",
       "BRYAwhPMOYL3ws51bat1y+4zYMMGjJBXwHRGHU0/5O1wdusES2r0WGkjQLrFgn8aWkf3Qj8x8Ji+\n",
       "vmQjvf2tuvILLpvuUZmMTSU8oD64STcjQZqJDfwhM1ubVJ6hO615UYlmUrNtjs9h2cYsOTcX5+sE\n",
       "ArD3YFlEmfQjtPz8SiqpWKJdJDcpKLwIbUF2LF96/UVrafKm1RUUfsqLcu8GJAKx4wEyiCQALaAA\n",
       "AADXQZ5CRRUsI/8AAAMAAfHdD9+IAbfSyGruonrhKl9E1XiL6p1vKBid4LcF6vVA5BZbq6UgeYJ5\n",
       "kMFiRZOwwSX0R8dY9wriibnVnu/xKe+cR56YnNoXdNeV2/+WsXZy9QMLt4kc/deVDaYXUHT8P4Z3\n",
       "pagJ7i5NW9OZCt2NbPg5tK50GDalHRx7baffc11P5L5Zm7+FPXGQuA8EFQNpa5uICbvqRSebFZ9z\n",
       "Yv+g4itFOoSTcXX7CD2Hl493bVx4EtDcc4XG354VtSKFTvuJOyg2S/dJfUagHVEAAACPAZ5hdEf/\n",
       "AAADAAL4Q2L8bFgAWsOXkzcwuRGBhr+THTvyuTsFtFaJ5e0jnrlLnPvans0CnIatMahS39zGdDSj\n",
       "Y1h2cppFadizW1yJzZHHlNSWr5MqMo7ML2MahgDFVBZ8kpbcs/mO8UIUFeNmX14tae3j16reK32F\n",
       "rAAZj03lcALEwd6lrqEbaJlqEOwAtoEAAACDAZ5jakf/AAADAAbXXPWX5raD7u10+BMkLOn2gA/M\n",
       "YGcrYye7QYy/9fqEN28aFzi7Ja4v4ssrJ9flm+2h257YiOfibi41T1hXiab2KPaaZe8xh/8uSJz5\n",
       "49JWCGzEWNlzVWNJ7a8nRU0WDSku32P/tZg3OdzXTLNCMp2SGtzFG4QAdcAAAAFLQZpoSahBbJlM\n",
       "CGf//p4QAAADAAlpEuQBzE9JfL/XW7HbQHcZ2+pPRpQ46kha/yraUn9Jwilopeex788w0YHkOVbX\n",
       "WuFGSEWNnRFB/8QbAOwJvsctXidCIoqHfszIBbnpUVZS+bY8WGHfdxDLHFdC48gn1ZZmc8Vdqape\n",
       "XXk+od59T2ZyYwuzsDG2PIsEWDS+nsf+wv5J/TkGIVfv70ebDcsEyoW8jX6a/Mwahkcs/R7oYIXK\n",
       "pancsEAKqrkD0V/jxgfz6SQaAck4ABM1Yfv9hq+dWV5p0J5ihOOTZfylQcvGDHMc5q7AGdoEm8l/\n",
       "cptsMWK+69oJw+cZqFtM60krpdcr57rYiwj2caLN/seJriHyGQxyhrw+Ct1GHj/TizAzBhLQh1gX\n",
       "mGyZGgwBQbWP+gRG8ETuVrH5E7+TmJPAYx1//bx9n9MYigAQsAAAAMtBnoZFFSwj/wAAAwAB8d0J\n",
       "SQ5iNKML67xzYAEtWMZaHjGOZTXLfgEKPKCFmGaTJ5lgbKt9wxG4Ljn+rRDmK0ynb74xjKfAvp4k\n",
       "NnQ+ZaxrJ4JneAtZAwuXDHlJd/7i38jt0yq+zIYPNRLpHD1yEhDfxNDa1SM3zQXvRypINmjamNLn\n",
       "QwLK6RV8/d3wSsWNJ7wfBR3uz6WcZN2rMcg54Qeak9kS1mOd2IiMk+3WamHiWtUh2dV8JiQ6frX8\n",
       "UryZmM1yoCJRb43xZ8BBwQAAAHQBnqV0R/8AAAMAAvOufp/9mEcAJwJ4qqEuRAf/ixfgwNYVbArV\n",
       "9A33WOD/BZP7YqZSbKj9RoM7Mkc2J2GVkl+o2ipPW/V53BpZqrlKzP6zWrzQAYS29irxb0yNUKZr\n",
       "8Cx/9UFz5ZivwJ6YHtf2LC/VEwAEvAAAAFsBnqdqR/8AAAMAAuEQhPWV3ETEuxrRucaUS83WFgBB\n",
       "DJkdKoTFgSFtb+pEFcUwhzPGAV8min0oxZZfmVF4Tvg4g2VspqNtJnm70hrwCZ8JyWbK/AMHFwE+\n",
       "IAEvAAABNUGarEmoQWyZTAhn//6eEAAAAwAKfmKaAP3HjUQ3cUbfpVBnXB+di3eXGUSg5F8mprJw\n",
       "mQE/UwReohNMeHr2nl1O78B3HPt50orPyTIF/7ydY9692oA4Q41GhonvMVwRP0hV8wiV1XDAIEpE\n",
       "v/GwhjLhZ5b6LsMZVgw8npnsBj9pAG5QI9avj31y/wpYhoyuGQtXhQsRtliiJSSet9oIwCClNd6m\n",
       "TxjlezQ/vHrd41wGykclVXutzQPEGK+y/3nPv7euq491B44EQayd9/3Ajl5X6/0HBgU/6+yhz059\n",
       "9//u2d81DuPo/E9467YgMk/od59P5he2KxFPm7w/ZA/56FXjz7HAtt3RaKhMyO20ndcTf/LTzh/X\n",
       "DyBQZcdzWZbb6wuLJceP054SzYvEY+p5LgF38LoBqwAAAQlBnspFFSwj/wAAF5+5zId73BgFwnvR\n",
       "/IrZRT4WUe3wEkK0dbwjsK8nXuISDQ8mDK9mqSzAIdb5w58JflL3dNGAMzecYM5OCKZFhmHn3VCO\n",
       "Rb8Kmn/2qUK64dvKdQg+P6+I7xCxmVSBza5cELsMS0q05IvsNQFRzRpLJG8pp2Wim2s1PyPAAQdu\n",
       "p+ECDHeNZaoDgbOx5vuC6trxyjAJ1N2YPHtjV/AjstfDQym/R2+E77+jP1oAEpT1bAmD2SPrwYIN\n",
       "OZjScN+qMVwz7OnmrZkSnR3J3Q+rGGDdvy/kBN2m2sZlZnimkvMdo4DOvEF/3o02+9iWYDnpostG\n",
       "wxxoinrqX/V3YUO00CbhAAAAngGe6XRH/wAACRLQsPn7D1k4Ap/K9YM3OMyynjW0ulIqAG3zRES6\n",
       "myUR6UggybHDtvxOvZen9uJaeG81NvDCo60IAmhStmZURjjz8TGp5yBfBUR/aV0IDczMyuXZeJj4\n",
       "GAZ6ZRZjjzcXjAYY0UbXr7IMD79z89xWF1CZAQ077wtxODo7EAPcGHt4wg96FmK+M3E9dhTFQQzo\n",
       "UFMAAO6BAAAAjgGe62pH/wAAAwI0wOHNbi5Q5NGuwfSqXiP2ryBgBKBn13kphpQ79PZTd+ocpa22\n",
       "sfZLXG1uaENhF1B+uAXiswXj/fS8MJPLfs16fxE5ib5/RpBWjQ0ZUvYXJENu2DsOoKxhFuZK+bNW\n",
       "a3eY44dVGW1m3VzKDzmRqLfru9D+zsR1Uwr3UzxcN85VndcgAj8AAAGYQZrwSahBbJlMCGf//p4Q\n",
       "AAADAv/CN0LxAM0KFJZM4mQr9bzHd44xju1kUnAVmaXrQ+q2W26df7FpdlDgCbvCXeJzSHKssi5T\n",
       "b6swDhmpsYz/Coa8FjkPF5LLY9tXpwWY9TxPauiFNLXjFz5F0Zw5bL3aI9Fxhq6Kgv5mzSjznxrn\n",
       "TRhHbMsBRNg9uWqLi6XSr5aHChrZBGzldA4UozHlm0bKsl673CLU/2P4tR5Y/pFfOpmkdKILZvf6\n",
       "M/JYQ1W5Z0tRw7dv4+3NJeZCqBDSOGgONfqrOGTYB0vGmijRnKOsCnSlRWarZvTOtiHjUAlzE/8+\n",
       "qYwJjZGAl+1pjsC4OI7Ok5Wze9jHIjYqBvqkbxbhgIqRbu/6csgHgRiUXH2YV3wqjrh3PC8cxPzo\n",
       "ayq+H0zi3J+mqx8ynOfq0yoN3Wj8WYkmYWZddQk+n7vvuU7BsCMFgBRnEHJnNbUl/dbzgIRI+Udg\n",
       "shTq2dah/w6HUHgDCkZo7PoPohwTRSYWSZA+7OI8CgUPzFM2Bqiv9uKZJ6T8KR8IAFTBAAAA0UGf\n",
       "DkUVLCP/AAADAPjD5Edj8xGBH4+ZN/UCFNxcAC1l0v099jWZclYGlj5mnyVj3ar92Yz2JgifRjzc\n",
       "nHjzPercQSHiN3/WPaIPg1Cyf6Ykxd6jhUolFdD1zLcXy/T4zbjScSCRUs3wXkhwxo8foLrh2C0Y\n",
       "CStRLHUaUd10CH6UH7oTX2Kw6zVr2qAjB3sKL33MOOBZECo4k3z6DuS6D34mzWEkHOI3mRWRGGKT\n",
       "hoLoTSrGBgs106tL1ujpbI6L8RmPbtR4t/RlvbLqvSnE+oGBAAAApAGfLXRH/wAAAwAZvCnXn9yD\n",
       "cy8zX4iMgALZ34qXCEBio1WXzntR4sHhXEda11zYf2KtTrUR04M0OtfoOGo9qeLHE1Iw33qGGP6A\n",
       "d6spLCcosnjbY2uwchT+dIeW2acIG9ZCV0Ho6FHi3eIQqAXN8YuCEpd+1Wtl1bH95/te+cXLKII0\n",
       "e6+Sz4awfb0j56A0ejj/vZqkqM5yqCd8FNkTY07wgA7oAAAAnQGfL2pH/wAAAwGSk6UHoH0D/6se\n",
       "4AmjYREcpmAVeoxVLiPkEqUVKoZHDkpqar6ZHOpUW0/P+qsL+uTEcMxCIP8uphLbyKwcQVa2ubjJ\n",
       "c65Zewz9sNusLzW4jM2nQo8JYmaKNRxrli0RnEfv+gaR3NjHWtzlXyDXo4+iUwKb5VDSkIODT1ks\n",
       "gC6KHQ7du1Z10XjcV94qHkxgw1yABL0AAAHEQZs0SahBbJlMCGf//p4QAAADAxPsajxyOiiV1ga8\n",
       "hwhQuSy3SIPTNgjGaLSkP/gEUEvbB/K04ohtRrMoKbnQpbOv+uw3n2Egw1nXiiJUsGhu69bIhNck\n",
       "VLnvq0EvTP4qoN7Z8amRoWYppTULz8/UO5jCEN/6u3o1KTUBqA+zbXcFBh5OWxAvDUb2wFcXnzBH\n",
       "6Fp3x8gNjDyX3foxSlUxzxvcT784vzjYOIf6MqXPx3dtXb10ruuX1SmQtGJQ3asJ3eE7uzx6IcWt\n",
       "uKW9B5UgZzWf2gnImtEntGoGnyMmswRKXyoVQPrf0Ap6hc4eiz5Z//y27HJoGU99yeF38hr+pX/E\n",
       "DD1VzY4D+EJIpC90shGTv24Pa8Jls6n7ToxrJraWpuUNOqaF79l91kkd4Kiu0ZuYklDU6BDMY5Be\n",
       "VgOKcmAuH4Dy69nh/+qMARKQwXO3+5yF/zFhTIWVr9wsEA4N6XZ5OnCIP0hjNn27/LkHdVcY4IXh\n",
       "5lqcAfomzwf9Hl/a2WrP5dZCSaifbOBKo/FMLbhho2ymjnqKPKg47x+W4N4SvX2776SBvM/x6cb7\n",
       "3CqVTQAWwUGqk7kNZJ9xOgoo0QAAh4AAAADiQZ9SRRUsI/8AAAMA+IDLtfMDUNxSDBfpLvy2f/q2\n",
       "ckVYL3eAp8Cw/UvM+7Hi/zMkB9MFpnKtPJGzL5guQ7/btll9iPkdKxReNoDv1F7PAjhOWazL3WTn\n",
       "TkS4OaBjisqF04GGX54/K1zGfgufiTl5Rwst/pDTkW5innUkOsv1ddy5oOFgUbhTOyCvpjiuRW/j\n",
       "acCK4I5AiBrn7ED+3roK5uTIMMyjqmioFBGCjleNdVwusW7mcohHB+kcTRDJ45gnQe/9VhlHs5px\n",
       "8vYthQ3/DYekjlswRLRdVEdFfGq2P4wOOAAAAH4Bn3F0R/8AAAMBkcJaPlQNe4AE3i6SgvItKdN5\n",
       "uWXlpYxWYtVRYgNcow2MTV+G0Th+U3N9LXVHTJ0lajfylaAXLmbM7bVnDCzCvmsLtEfzWHgF001H\n",
       "dBQZknUl/MG81U7kgkDUxYbJk/U0Pt/vZrB5rCIJ4At00W2xDZwAuIEAAACRAZ9zakf/AAADACG5\n",
       "im0ynpaTyd4Af3hmElL7Lee7aqlp94gyl/4bPuhGMDg66ddZq2rKVP1Wo8XrA/JQn/OEzu0h0ZY5\n",
       "wiDwcfluP62x+qDZQeU/wIE2O5vQpNnGngJ1Y8pgjvwsaViIWAbckP87dcLv/Ln+4b9MwjO5uCz0\n",
       "wEoTuSxbcVeYezdMHOBgGAAUkQAAATtBm3hJqEFsmUwIZ//+nhAAAAMAWHF6AULisjnwvbXOy8E/\n",
       "c3l60Rk7MlSQdi1VcLnaCx7UNiLp1PtNIW//oteAKjzClNwcVjPdqN2187aV1elcJahBFKnVYYb5\n",
       "M2d9LmyLR4M9hA3sKbGyeekL60ZcD5oEbzF7zOtQgOlWUvb4qbkG2ckICjJxkGB8+s9XS7vRUUjJ\n",
       "SxYCZvq/kImOIAXUTV6rIRwQ0LdCENBErGv2YLu07MZpFyBAGZyVrEu7bAABNcwtwI9Qf9tNlq0D\n",
       "Kmz5wQRVomcE1md+eFmncY8RNZiSA4vVpl20ZdVuLc8LIff/1WgIIH9WcLr+6MU8P1Fke3QehDnp\n",
       "m2IfgqhU2sf7QFRZhE3pstTzCM1+vvgQxqCM7oPVwhvSRYVQOgdPBzM19ilbq0J0t6AACbkAAACW\n",
       "QZ+WRRUsI/8AAAMAHE/41qgCJAk5ZTkj/qeBd96OFJOVrU56JqYTgHK6Z1L8JMcV8QDZW3a78cpV\n",
       "G7HLPw5bl6bY1T69cG0ebRaT5X/tABJBpP3nAgVlTQhg9iM1dEXwR1RFI7h/gLaHYKN4kxZiU4k0\n",
       "3isQQGcmEnvF9++b5Q+MszYac4dlkvjfJzTmLYt4dJO45gdUAAAAUQGftXRH/wAAAwAsXp93uwRd\n",
       "s/OXl54wACTGh+39jj3PzGN9B1v5C6YvRl5RWJFXRoc3fFCOqEBP+EptN7nf8n96kwcFVMzLJBsZ\n",
       "Fo7NiAB9wAAAAEgBn7dqR/8AAAMAG7ogQGK6Vc0EWjFTY0VOdaa6IpCPgKFeGaI6lcSq7K5DsCCI\n",
       "2SvYfETfYBU4zrvPjXM/TXxDdACRixDgA48AAAClQZu8SahBbJlMCGf//p4QAAADAFY+HOQCZ/Np\n",
       "0Euus/GPuU97da6ulJ+hv91/OUFyE5b5cEnbY4ULhfMXfd8tqxVlo0FsFuc610Bl3NizepVXCfvM\n",
       "95epSJRtqzYMpELtNyTD9cyEKSjVFdNnxTDLW+6VMX56pEWUAkYLAkGPf/Khz+mHIOHenxhOrk5q\n",
       "nMkqLrbtx+/5uRhAZrR38ZXyG2KOwAR8AAAAX0Gf2kUVLCP/AAADABupmKzPPcc/X2HS+lqnIqgB\n",
       "Jnuhhs+ecyyxU4E/Drn/Q20j2nBMN8xBoNpx4h2+wNbVFbxFH7CGloc6q5C8V0EGPKVPmNZCf3pb\n",
       "McfZK/PUwEbAAAAAJgGf+XRH/wAAAwAZxDVVTIgD4bjK77gFd6KdqPRVkrbN6N2kcAGhAAAAdAGf\n",
       "+2pH/wAAAwAZySxwgIQBLdDhhCw+ChA6ZyWNj/S96Y4mMz7XrBBvKycOro09gSzZE8In3OBEBDeM\n",
       "cKWCrT2Bywf2z+4m4ZoMf+Ns84Vhvr1bSj3CwALhxf5RVywS41BufLeqhBFgMY5qbij73HpAADug\n",
       "AAABlUGb4EmoQWyZTAhn//6eEAAAAwL/v+29w4Aq3mqo9tF63aV6t5hFTvhfiaA8HNZ7E+tFpXi9\n",
       "4n3kyTcFGZUTvPn8GbTYG5xj8GP/1/8iOOFBpaNbsJIyVbK5EdB42GQXMwiMKvcLBuP4nx0K1Az5\n",
       "LEDJ33GUXu5fykg4WgSCo+fWzxxnLqJBe503ctdxDkXj30BFNX+8lhkW90s92RCghhNbpNMrlVzw\n",
       "wPlb8SYLM4W476IC+2LvwM0Mr2Mn6k/FwXHZATxZMTukyrXAP2aYBQqS83ecET7YplRbVACEJR9p\n",
       "7Ll7fye9KvuBOT2R1TV+0azQ7rzVd2S8w3uwKOCWoGD7fkj3lVa9LlGGKkZAr4B+9mnik3YsUAxp\n",
       "9lOHDtAjYLk7JGndKpDGnVYlVtualAzr5UvK1w2wD2/L+OFVr0ymLd3u4N1RoNNSTReXDIVh75l1\n",
       "4J/vtuxLQMkhNH1HUxAAFJGQnjACUkecCI2kFBnMcDB3oNVvKLN6brxOTvhy51+w4+wgY/Yapl/R\n",
       "M625YUcdHAAGVQAAANNBnh5FFSwj/wAAAwD4xG3XppcKKoAHCX1TYCsmZaM5kq/ti9lTO1lqbw3H\n",
       "6idWAeJ0OarC92RX845i7X6psML4olSorgot+FAziJxIs8b+uZocXBUijVxhZwIw+BTyk598Np/7\n",
       "9Z+LkAJ1daa1TQnfOcqEj5IMNIOyh3/6K5xgqHjtc6DTchDc7H+vBAB47YMX5Nxmy5Bm5WgIx4b4\n",
       "MP3tkbqSWTxIgXBbQ+4646brP/a+XD+l+nFFHhtmPUMAVOzcnCWN7BDSE6n6Cl2HiN48gD5hAAAA\n",
       "VQGePXRH/wAAAwBiL/Lt2P+rea+1vv9cC+qCAEwsadXGOcS447XREYGcGPabiXB5LStLqTKAu62s\n",
       "Gqwk0AKQ8OKlZcu5HrkJTp6teUCa2eP3g1AAE3AAAACLAZ4/akf/AAADAGONe/3NKXGrZ3fi/Qux\n",
       "hWEjeVYOJhTigA2lFopYrprdASFVgeLkCnXNLN0sWRNm/Gb/N+WQ94vNNdMnPmA9p/zyizZv7kr4\n",
       "e38wETVwvC7bPuvWKzRstrRLrol/zGCur7BQA1fycwaruWHheW43Pna7iP0deuyb5tUz8LN4VABU\n",
       "wQAAAVxBmiRJqEFsmUwIZ//+nhAAAAMDE+xqlxaPvAQCuKGF0/BQpwxilAfUfOicHdyagMKY8lSS\n",
       "LwbYDY47UXk09txzGd59G8lZjFVwAK/9AW7gSLU7/M5fMlwRLgXBvzvoT8/fcb2NqbjALMbO+hQZ\n",
       "OJHaFjMDGfbIH6FzRrDXE/dKmULkl64LwTHOb5Sa+exoWBrMaVFsAOxF//Tmwb46BdtoypfCqG5w\n",
       "qadOLWs0x/OiUtZWXhZFAd/1uP4DKLE6tX9C+SJmSGABiuzmG9Gkf6khNv7pyRHHkMFUqPWDK9y6\n",
       "4kidhCsIiOQ4yNGLiiZx2tSP5JWTHQhkqrWvULXlxrYXNkrI+ycXenASxymIPeDKw3/fvrR4eLhD\n",
       "EAY6W6ChupxHavrH51ZQdd0/gVoaAfyW2S6sOM0lBuSWUR3+iFFkl3kL6lv5prsT+McPspUWXyww\n",
       "CC1OaDgEpqgAfMAAAADmQZ5CRRUsI/8AAAMDzW2VvdTQWKJlJnSc6QrQRG+iOGE0jsq+JaQTmkoM\n",
       "E/K5oByy/ZRTI1AWRMjO03Y/qm2Al/4dggawga/7HuSVj42OQFUFsXoVqw73RtE4O2K1Wl7w6AOv\n",
       "gxCZ+EOjSYUXqj0WPiq6NbCQd5mSma820Uw50D2XH6P+IYAOI1VWMU3AxTg641ELIkns0SCVRvBV\n",
       "3FGbslJYc4T0EAaNLPq19HvW63CpVKv634yldC3MXKZfn9IDkDBXOY4va9czigG+WAD2qrvlp5gJ\n",
       "s0U/p5ai/R+g+aXaJuWtAYEAAACGAZ5hdEf/AAADAZHCVwHOBlgJABrulkJR1m9LFYp6ETK8OpO2\n",
       "BW9QYzQtevCCXobeNiLu0vtuDuTOpjNlArhQbOMDh5ka2HZ5DC3txAGQ8M7EfD8AuxUIWZBvKA0Z\n",
       "hAM1y7KpaJqLjv9a/ukKN7EoW0zPqJx+VkwjC6B6qTVZLhCmvqAAHpEAAACEAZ5jakf/AAAGIk6M\n",
       "mFrWirIlNsjNvwAG4KGLHw692MSpIpK+ox06S54kOnRA3Hg1cFygfkJzjaW0ly/fJ5foXwcdPc4v\n",
       "rmvNdHsXu42ZZYGEmG+mDs7ozMaXvInJGDml0/ey3PvJzf1wDIOoO69V+LQpttRkrwW7170SRp78\n",
       "PV8rgAiYAAABmkGaaEmoQWyZTAhn//6eEAAASb4sTBociKVrqoZHgF8fLsgQBUMdn90VgryHVQTh\n",
       "f3NcNCKXl3S58ABR5rNZMJk+aHVcbmSkoxaqHwlp/WvwgTirvo8gf4KtQTR+neMVcsDRi6dH03jI\n",
       "pLFixyx0r4CCd45WxPVslactlfnZ57HopiLm+g7BTshc+sGx6eJnz1SIDyF6xGEGLEpXND5Jpatp\n",
       "oucYXO5mPAE3zZP+Z/I/RIl5eWA1tAkIVOkLRxIGLY6BV9gmTpJw05OFcpNuq5ZDcLWBlH6Nj02R\n",
       "Tp/3yYnJ9x0ncFtKefrs2P09Tbsdu1ax/KikSI0CHye+ECsaInnA95zO/m8MW63m4w/EXyeQEgOO\n",
       "Gyod9nbe/lju+OVZLlGS4nWZjtke/p83WtURsT9oH3Irv/zJ4I1hgbzZY6ZhZIG+hgx6lS6Abirw\n",
       "qCV94N8iY1fNQnpZsiwXy7ssX8DmSitt5LlRYdPX/TCYM0R0Xad1iIobbsnbakFWqlDGd/NEQW5c\n",
       "6UouGNjsjls9WgwxYxaTMgAAAwEnAAAA6EGehkUVLCP/AAANhMhS3inHtsy4ZUdojWhCTXV+DaFy\n",
       "jyIShsAIC01xABFPemOmf4nVXPEtvYUsdmGc9PktUcCOIlL/tJAUKwUf3Ep5R4FOLJFqnvjXUJeT\n",
       "gSpA+bqJqtYzWPFELgtY457lxPRx/+OqHMyRL1IyUhVKrWSoCdHqt+7Q7D6sbJOHRcW9hd9e+Wm+\n",
       "wf0Y/1nB0Qelp0VJ/7PNTHI0FmnJG3lUn7sVZqL4+/XgYpgQV5/Bd+Gyvxlo/ylEg33fc5Po3AE6\n",
       "snkhTxujK4JbF7/dNMvchuELL9qxEuqBJNHgI+EAAACtAZ6ldEf/AAAlwxcTLLQaqEOcwLTCywsE\n",
       "yMHLaOm6FhQfdtOAUGCFVAFabcCeu9nyWwUdAPYchBZu/ViajOvAKIvHykJXx3aPbODFW4dsamvI\n",
       "Xcrj/gp8FlxF3I0ZHJ5ZX7zlNHqIu1TSVCMmdZRvJ8+qU2itR9vakNFcjzbRo/37ARtdLvkCoZbh\n",
       "DaKzbU9b01fvHgQjqJajClad3amidbxN13ORYPrGtDZQAi4AAACSAZ6nakf/AAAUyIOuE7E07U9W\n",
       "mzrxG4DHgNWOmzMxleW2wnnKAKksYATqzdn8bbRA5SmC2eYREcALCaHJZQ/8IypM1BBkipChvbdj\n",
       "2DiRoedQyMO/3f96o6eNGHo0Gk++01m4aD3AOHHFhktd13fFg9Fl9V3Jb4W5Oa5gxtm3gc0jS0t0\n",
       "bC/pVJCwUVZyb9SABbUAAAFvQZqsSahBbJlMCF///oywAABIG3XftAsNYqhIf2rrkUhha/IXRyQG\n",
       "vATBzSXDqZYZATSvdrlBcDHE/wugf7V06FyuVQnOn/IpiArM2n+QU9KsWLv1xgNPn7H9OggBKJEo\n",
       "iEfZqn1Sy+VwCoJizHtXPHNo98emtvAT73VoRstYfO/gUdJ2t5LOwbNDll58eTeu1hnzPeYhFRyG\n",
       "hDB/BIB1NkpFzibcTyGqFUReNvAadT6/XaoPIHnjAyM+r2qoD5Ghxw30CBLb48mGH4czctuZlXOb\n",
       "uwYWVOMtYiU0iQFmT6WRAATszWgwMVGOP543nfg/G/uzjSANHNKDGqNCCriII7YSWgeqEYvA/8o9\n",
       "E2Xt6F/qxCgj9H+y2op1EX0LpZPfYOgdvUKcDWi30SdDDsHtDVlDxWe6vSv1NgakfTirR0s0vsBk\n",
       "D10rHJMjbr0hRsmp6zeOenJV6GJ8P3XRbVJcZhmLksXLOWDmNMK4EAABowAAAMhBnspFFSwj/wAA\n",
       "E+VtfQL/NXDEXtIMn9S+kJJQK1tz+Zd3u+XfV4PHhZC+b+722h8ComJ7Cosod4/hMLYA7dFPDQss\n",
       "BKW9FaTlmvJIKfoPiMwZQGh25Zkn9XLrbo0nvxU3mjx5p+LrnQY3zVztHCHsM+vx6i2B/8ubH2ND\n",
       "n3kdK/rgGuXtM0wigMv+uKwKzNoo1mEz9uTGQ0zLFbWEuQRHMCkDnVAiQdJ8UY5cjFPr0GQ0NcEg\n",
       "z13eTOZlBM+JRuBlc/qrs24DpwAAAKEBnul0R/8AABWRiZucC9Usjyzus/9VfUDBqthoq/Grh1OQ\n",
       "8azrs4XEAC578gRiMUaxz7cXDKg+6lkltmMRdv8V5z4qaClGZK+5abjaPDSnxW3vvAwWVt4y9Th8\n",
       "fxe29fBQr+kJfAzpYDerEdHU4cJPBuW46r77AQfQ4ja08i4i/EI9EMyHfhnsKqqPVN8iSp7UaqYj\n",
       "YKqmnG2AFUH37gAHpQAAAHkBnutqR/8AACWtEAO4tqkWpATSwwCodMpjY+uMf1sVnN8U6AxuiDP+\n",
       "nH646psPUFlWvoV41/taiSAkmrxPg0H5iHMJjvtdnDfJ8M8XdZIKlMbGSZnMinirTx9PUjLIV1DZ\n",
       "CgqSxvtFIBbtewhe2MoRJgeedzRwACPhAAABKEGa8EmoQWyZTAhf//6MsAAASg4WJwd6Fe2btbJd\n",
       "bDs1g3vLu5H7tVyDF/4cXLv2Zo+nsmgBnXnLuFZrp8QiB1hPW+EEuNofwVk/xZsP4/uOTC4wcoUz\n",
       "g6YzEHUCEXB+n+IPxNVq8L7cNfAJG3H6uZWaJWA7XMtPj8kalyZ4o52iICBfyw0lauGpTmXIjeza\n",
       "kXb4zuuuv06VE5jTRmmjJiQYV+mpPAip/nGon4Qf+D/h1z5Iaq4wElwOGLrBsaZc3TGssdN2O1SX\n",
       "PfU2ZRz5KRxouq4ewnfl7Pu1Fh+pEhvj3LurIsGGho3eZruVTrCqB7myCwdmgOSFln67YMMO9IEy\n",
       "BT6ovXwWtNWoYJL7REo/1V9jQj7btak2KQnSacLpCPqowaEZwAbNAAAAs0GfDkUVLCP/AAAX4s51\n",
       "k369QXB+YQOPPEJ+5IIqL0WhDqiZACp+x5BaGyVXGq1lZcby3kqHT+j9zXxKio/XGdSXO+E1U5DP\n",
       "Rlpxyyex0q+kaxMu6/lwSqIFOOB+xRayDT+HnMl/L99c66cXKVeqFJ7BUWawCj6U22v3GzsY/G66\n",
       "MHSMQi02n/EVXOK4ELCg6Hltk7VHhtD+j2E8ebIzTzC4ITRMHj1nVY3sfHt1PDU8sBqQAAAAbQGf\n",
       "LXRH/wAAJax9xq6lxUflZ0fw7j/1bsYiugLJkAG0CyZDbdTECylAE/v9j5FqRfvQ0BnRm8wOI1c7\n",
       "1P9x2ZuBYrMixbfRrXSV04gxqAz8nUQ64+Mlq42KCdz7O9T/TGZOGOeToGIWWR+AB3QAAABoAZ8v\n",
       "akf/AAAGIk5y/SrwW/EQ9Z5sABOz3/ukD0pg+LW8yxnGN1fdDkxqBcZ82c/AnQpNLiU2ly2fx4Cs\n",
       "SBszFfjSTDLXN5yipIU9YVvZbrJSG2rLpIKzTHzSEjLNrPubMcW7eUKABH0AAAFyQZs0SahBbJlM\n",
       "CF///oywAAADAJAW17ACdKO88jLeHSwcuV+6JPj8HgIx6lNNHUJ5piSi566ycbptSGV2BvMcZpPi\n",
       "dCbI2VudyGAJNjFu6rj1urh8qtMS8VSLkRcI4GBZiKt5jBZyIy3q4fzlrpvhjD06o6Y3+Lf6RDkL\n",
       "Pzmtf4BsfnjhV1bqu7xPUQbFVGBwnvSpaVGf7l5g3jStfrZ6+A4voqtJbYKE79MGHghsZERsDYPB\n",
       "pOS27EeTwamBRUE1x1dWaHs4RzTvdCaBp70irdWjCs9ZzJUq+Ji0vRhUvGPYjLP1HJhjs+b5/f58\n",
       "iu896Wyl/dsXaX3C7sSkeDimMkpAeLUhHXn9sCBHELVXMgNttvBSJkHIkntCfPAG5khK3ZpVAdEj\n",
       "CWaLxekvHIxjs1hR+IgtC9cSANziYmZGySLvI1yv2Hla2qF6RtTceNfJKyRBu4erw6xJjYCPaAPN\n",
       "HP4t24wHdkvnE2VssTnx6gACXgAAAORBn1JFFSwj/wAAAwPNuNkF1b2p0sRZGAzeqZiDX0Vdz4c3\n",
       "w07ZVfPFVKBWN82aM3atde30Jl45LM7GvweDmubXV5cwpJDkZe3GyLOV7+IBJwJ1LDsiDw7nBulO\n",
       "wA2jpDC9KyZWAds//ZLHrsiwN0zDd6BtQwwOPWnQW/lWaoV3/yuBhhg+SA+p9+xKLdNt6j4LYBNo\n",
       "/xWHxir8vOm/KfeoxKDtkIPOA9J7nHouo5hHTuE8G5D/xW8dHFC2kPSeitbryFneqXEQRtNVg4pD\n",
       "9Jn0qPO2HCgKlPc2OPwy2kqqVhv4CtgAAAB7AZ9xdEf/AAAGHwk2JWggROcNgBt9Ft+iWtClEf39\n",
       "V/UgXseM31BSXslFJRrxbqanLyoQNb/VwPy20E0ZJ0y3bo9ZntkH7H7+Yv8gvJYKLJgduUYL102D\n",
       "+F/0L7+7o/R1SWFW98PcrXSHrCglcEa6m5qRpbn2RygwAPSBAAAAfAGfc2pH/wAABiJOe8pBlvhZ\n",
       "R1qotO1ACMiXBwpgIiXwltTvbPzCp1Pio4H47FQjtJv8oJju3dJqR/X2L89iOJgALOieN9j3S/7g\n",
       "RPWg2wMCcboOjLjOcbAFfj1B/Sii/AEICsUh88QcCHNmXKtB9ahW1OwmYD0DrQAAdMEAAAD0QZt1\n",
       "SahBbJlMCGf//p4QAAADAAyfseFfnLsAJ23K4MYb7vb4uiXm7mKPdKl+V47rYAswGB+D+yVciPhE\n",
       "M2o3jSvAEIJgyxLMdUu9Cuq2JsvTx0MoMjKsyvT3g2Y+RPKSUjkRVHzyKzXWsacT07h8hbyWyCuu\n",
       "/QBpg1iXgy6irVu6317MtkaWDS24fa02uEOayN7eo4SoXThuu8eigdHg0Ce8oHbH26EnHOcLUvDP\n",
       "ekGn9qhYvHhfmrlhDt95RM60dTMxQ1xD7m/nOzCNg6GCLA0NKJ02VSQoUA8uVq+b4i2pltZHbiy8\n",
       "Qku4Yyfiu//EaAB6wQAAAhJBm5lJ4QpSZTAhn/6eEAAACKt+Iq8bJrAHz/6s4w64hj3mKVGFDufv\n",
       "AXz4lA8k+ggn07/Lh2tnOdv7t+/ejElXkBUNl8Go4ZU7yQEeUrA4Z+ojYjegXHWtz962zhSB2YDu\n",
       "bKWch3whVrDTUVu6gT/nLP9yVr3PeDEl32uInQx2HuOWsvOh4MmwrVcbMBb5iZKapC7GqCRYT1A8\n",
       "RJMwcklY13V2zJSVDR7aOHyzmEXVL3czEc7wyCmHDsiDu/awEnTXXGYpg1jPwWgPWE+yyw58GoPL\n",
       "et4UwqMkO0tctcfPFHph2uDa0SzpxrUhxIRUM4aNLWHnPCAb3xKe5jFtS4pCSuGaozr+Y986GrOH\n",
       "QwVPFE83aPqf+laOCb3J/TVlMbTcn5R3KmQ0KPXj6Dwm4c0C56WoEYhzOJ/pim4g3E5+qPx/hBd2\n",
       "J9ecmRlYtWQsxErJYPl7NzX7jCQsPH67gN/Nx0kUONTebgi5ENad6SxzufdH1k27WcLWRyCojSWh\n",
       "fxSLaSGtoW8MAZk/KnXqjH+4KDexXM+hzbRl6qqNz+1LCyVSj7rWLDLX4yoPEDRK+j6BlsumACIl\n",
       "sNX6AjVJiUYhW9M9Vu1esFTJr9bVx5/NpdhkbL/o7nE7Hhk4xAJo7NFvaYYJFkj+C0tBGthmuV/n\n",
       "8v978HpJzYa0Car/ZcbnnkXdeaH41K0+068djRnLOwAB3QAAAR5Bn7dFNEwj/wAAAwPNbY6Z6VEn\n",
       "/IAED9FXSP+eh7htqtGjPBmi/RIj61NlEoN5klzM+ShPcPxOXp/nLcCpqlUM0lJYG/HywzBnxxl2\n",
       "CcPskoXBCXqH6Agntm6u6p8gTybju7d5qj3ZArGER07b71MOwsD7ituRdrG8cHbuFdcjPz0+G4Xa\n",
       "h5Y2pSUBnhn6pThPRyd/aJhJjI3MTVOp+8cDOlMyTicSQ3EHD694xs/6aBJ3hJVDt05uja3D7rzH\n",
       "ygz0+aXL360IRMraTZctGCMAcIuUWrzbX0hq1MTbLrFmm9es0uybLbhDxjrr/P/LMPJYM/B8Dr2e\n",
       "r/Yo91ypgyeqq3R6Ew8+PYv/um9mV+z179SF+t6VZIzhce20VgEXAAAAlAGf1nRH/wAABh8JYb6j\n",
       "lAy84Y0BvWF3yRjGBhcztb8NsUveKHrmqQM5148+5IOBvK3WnSwYTYt4N0ieWYBB1uYtcnVw4ZPY\n",
       "lgMF9HpVWdC+cbYfykuctvNMeTKsqHRm2kMCWjC2DB5PJJUzSAl9rE7/XnCyVrC5uCsTGxEDpnZR\n",
       "Q6j4UfGGTGYciHFDWCfev5AATcEAAAC6AZ/Yakf/AAAGIk6ZDNjT5mJr6IAFS4n4z0Q5EGSSMCs8\n",
       "I9ZuoS0TwXSpFq0JvXFA6TTHaQ7SjYeWMJe1/O/RGyqhfzA2B8k9GM9moHbpnQhJlWLjEX2Bhlej\n",
       "d4wJDb9cpUBSIy1vqioq3lbIvvg/14uLyqd/0ulD974+1RTFJxi2CpztiKDGmnMnOfjoG1xLAXVm\n",
       "BMBmci8xPEGcVu0qIp1fqRLOkMIc/j/tGBmEecA7xjQErPrQAGBAAAABM0Gb3UmoQWiZTAhn//6e\n",
       "EAAAAwC/+x4Om/OjceAbU9F0Rgnsw5uMdH9eiipRjmlfubKAVlWgi9R8Ol7NZjUdwfcZRfiegzqH\n",
       "Z1Lwo1jDDzh/H3j2bA+ElJnvNF3DsnUCZiq6GD4a47gXjaLQ9tTHtUJetaGe0HC0Y2/VvPot2ybK\n",
       "6+2BGkoe8lp/Cywt4o2QXoUPGrwa/8qh5PLTDPXcHzVmA9yP/15tcImN0bHDhgt5tev4f5NvFdNz\n",
       "kqI9Y8v66rzjebMs+0cfoSoYsdpZypljcGtE43Z7Pb8NHEZq1K4EcsiMPxKPcawVMq9II/IRFEOy\n",
       "Of+F+Y9hpZLJ0kc/PnC2GHR6K4evBBPRbOBWIZ4TeokwM5x7lGU21nw8cJzXaY7pZRK5En9JYpfZ\n",
       "/8kv5fkAAd0AAADCQZ/7RREsI/8AAAMDzbjZaIB0L1QfrAIKEyNozpB77cAAesrI+LTN7we+ZhFa\n",
       "WCgqgSc2G4tJwWpuW08dWMzkr3NowPXV6MwMFn/yCkIiEypbT29vU7gaqrRSQAVvBlSKRnnK4rCP\n",
       "pI2GZAzv9kPF0SWGtsF2HZ7xdLz4w13CGW/WIpViAVjiRNR4ldEWQjslBrH+dntCUIwkUqZC9743\n",
       "EyCIEr9ogBAJvfjG9ao6VtxK4vpfTybVL1dOkAhbmV8yAocAAACbAZ4adEf/AAAGHwlDGXHP2Vat\n",
       "Z1X4yyUgkAJlW88l0GR7ZrSs72CsnKTtL4d3ft2p83VTdJewnK5ZRKwH/9sjt18cWy5OZqTV0lJK\n",
       "j8PxsZvM9RQtVf+92HEFFPHC0q/oGEVBZFmlPlWQZtfN2zJR3XmKbfGwbMurLL7OSrkESDFpZXXl\n",
       "xg24d8mUSo239MS8FRwB7ISXyKUABNwAAAB0AZ4cakf/AAAGIk5+qUWIq/vsfyTvSgX/xGABtNed\n",
       "q1AFuY1vlBXeMRDlcHcHAd6UmOaETqX0WcNQunwPBwokiRhvVSnW5gntD0Qynb8h9s5MxPr+7I9J\n",
       "bQ3kTBOFaSJov0ZFQzH85J/GcGgXc9cOWiGABH0AAAFMQZoBSahBbJlMCGf//p4QAAADANyxt681\n",
       "QuCVViO0AFrglnY1TWTAdoS8ujxPhz5nKsUPfABKJeXW+HVUBczLX/0V51s7+FS9aFuoL+/U80mx\n",
       "YOZ3ahyeS5jzv/fckrVc3ooyT5mwqo3RwDJXJKZZ1ht9pwaXGb/IX7NgLTMDWN3SgNECGaJPtg/K\n",
       "kcPT/sMTEXXyP4FRE7jRpukPf792jFk2XnwEdGL0H1kjIncHHGq/myx3cQ7Wy6QHudSXe5TrCpMM\n",
       "RiadD8OiJs2fZePCpF7Yo37Rk02XS5x3JlfutOU9TsFmNXQAHdL89/LKtQRcDPqkSCUbcBBU0vXV\n",
       "yU5aDIfTxxLUjFsCjCLkZTzVtetgH8Ot5Pc0zr9UonXFHWuvUmVWwc34/vbbizQsgbQmQzRfk1R6\n",
       "ZLbjFgNdv7sAVy7yVBOONjpcHveACRkAAACCQZ4/RRUsI/8AAAMDzbjdNLnpxhgA2piewqP1vhBA\n",
       "ZxBTlosGc2iCVnWP6aXiY+oELalVpsvby5qarfwZasA67Neffl4DJp1o1GjgDKEYykdy0TnU6FfV\n",
       "bse0Gb/3Io3ZrvGyU6mRzFhiRiCFpboHmR3xTh+KaEtdECiuwBqpwaQEjAAAAFcBnl50R/8AAAYf\n",
       "CWGd0l8fahHB+6ZuLAB8ivQgTE9VmaKhA5BokoQV97GuetvqvdYlIE4L4a3BW4ggMpHY5YtJgnZS\n",
       "vGgtLkqmJtsV01jqc0GtLhAADakAAABbAZ5Aakf/AAAGIk57yKgcQALBKJ2j5UakiDHiMVsg2677\n",
       "qFzVk/kMVyPWVW8q/vxiwPZsYS6xDglqBUAifV8BJ04xvtONpFuuB2J4OnpwG8hoqJUMsx5JGgAj\n",
       "4AAAAJ9BmkVJqEFsmUwIZ//+nhAAAAMAX2oc5AT7adojH8fMnz3GonGoLTzZcS2FtMDzJEyJocqn\n",
       "Qj0ub48GcCYoyOmEthAAowKziLeb34sJHLN1b51rlS8fg9TgOWkxe6hd3KmELJWkvXY/RsivHzBu\n",
       "/T2oXvP041NX3odSFxuvG1QBXNbocH9er1CqxF178dW11qWp7vm3+0NVAYdPD/AAJeEAAAB3QZ5j\n",
       "RRUsI/8AAAMDzbjaAbzsw6wjAB0CsGWSHh6aSRDcAn8W6G8Qgv0uFp3uFjVxGLmn0x6df1rpsQbn\n",
       "VB4jTgZ/7QdxtWIdHYtvFFtTM5ZhtLMKK5ACOVk3zeKnfbEZeQY0lGkZF7hTep8i2kbUz40dVi1A\n",
       "GBEAAAA7AZ6CdEf/AAAGHwlAJ3HxJACjj4AWUdAECtiNUaHPYLHzFBPmCrirs3iVYIRX24SIIQuA\n",
       "S3aJq2UAEDAAAABHAZ6Eakf/AAAGIk57g/XQB8SGMydB+u8FFGZF8VxzL+QjrWPCs1LY0bzEgmaJ\n",
       "x9pTRXJ/kPQ8Sz3ruqGiOnSiioIFk4AAK2AAAAEGQZqJSahBbJlMCGf//p4QAAADAF/4TpPVQQkA\n",
       "nKD7gOw2mwxbpxZqRtc/gRN6lqY1gLEWArk5pri0PXHexcinMQyvN2BK5EzfbamZiWcmhar8G1jY\n",
       "qY1PLrqA+ukYQBpiv3p5iGAxc6JR64nh1tYGIm/uFUZo3lNlLUlYQymWiJ1tSPe7PFAuS1mP9ps1\n",
       "6+fiujgZ5+9uoOzTV+W8ruFFh7GoUF29RbpT0Quw/NkC91/2ACMhzdr7ne/0Zbqf/typ7Qry35BF\n",
       "+h5hO3f9bD1mK2a8Lt4SJw+v+Zq7ceHecCLNiNGl8fTTfSOGL5i+YRZgZMQ1rmQ1eZQ/ikX+W15I\n",
       "UVhkXgALuQAAAMtBnqdFFSwj/wAAAwPNuNoAvc+/VDTH5sLREAHql6BJAWkCWPnrZtsDM0j9k0xK\n",
       "mZP48X7al9viZvqX+JlaS1MnDFqJc2pNJGipvsVnE5EFn7p8HbPKuBgtMEj7NFFWm3gnOJPYsl77\n",
       "7RAOOawBpmLfZguKY49I/q4Du+TU+piA9v6IvO9Aw2ED1hCREnSaaOiC9NItyHNMvZrAOqLM2New\n",
       "pj9b54Em+Tqkkg+Is12AEVriPLpRVMGMUf26YJBUyFcZqGl9O1aLW1QBWwAAAEsBnsZ0R/8AAAYf\n",
       "CUgESPPmAMwOAvMKktEJtBKPrqzfoGunZ53dt3a9ZQO+e0XprgWAcrFJhFpcZpKuYBBrYr8RVKqH\n",
       "I2QNoWAARsEAAACRAZ7Iakf/AAAGIk6Chmxs0dvyYAOLOUPqbQWEzRA0l6hskT2CdmsIZB8CzgyJ\n",
       "bra1zivLCgDiXThg9azHw/gBETje81Yuud37qO3WSrF6ZWvTCf0Z7/HfB0/WbWUP47zx/dguQ1VZ\n",
       "v5ztN18x4AoK0X0PavqGdDtnQEPa0tyTH+jW5CEagBZPgf3WoG39c8ABWwAAARVBms1JqEFsmUwI\n",
       "Z//+nhAAAAMANyNHpbuACR5Mg0/tTQcRcAoXbQVB1ByFfZPwPAwkMHBF4HagTUiQ/F0W8Ptjvulb\n",
       "1Y2T2v+ChaSgr+H0A+oXjW1HBn5n0553WQ0fiK1yK0RW5Zo8xDiWEFRfwBfNBnEhcabGJGIUWP8I\n",
       "4GDSSpsqwQ5apaVyQW9yxUT6hYg6GJdb3bvkWFH7rRZ9mv7GBr0nOcAEVJdZA6Gi3NwKZjxGFwLX\n",
       "LEFvSzz48ThZqXtvrjAa0HCtTb0IVnBuZy2I3F2/iPZAePYuQuJH0n2Gx+B4jOQ0tW+QoCcbs3Tr\n",
       "V1ciXhukcXSapaVibJs2AkO6o/ldRH13qFdcp2c6B7fUnG+4AGzBAAAA30Ge60UVLCP/AAADABGl\n",
       "s11SAcrfMcSMYSDlAABbUry8bRJYQ5RaKxdCoquKlULFmxVCgwECEb1xp5JliI01sby5eRdjKrze\n",
       "j0la6ppAhV8zccjlZS/VmeOY4/uBwnqdevC/d3ZZ+SiVCWzskS/f7DaGlgpjOL8DuNOmvQCQyIYh\n",
       "CtTGWsiFLWdwj+nOhMt4wtMX9bn6wBnUT54P9E+kZb8YLR0uVys+G4wrpOpWK25F242Z6uu0kdSQ\n",
       "mAGMMIUzIqCkXrlc1TtPy8LhMHc/hkTJtAPkv/EQXQ8e+RT4BV0AAACfAZ8KdEf/AAADABxfNYow\n",
       "H+Y15NlrqharmvdvpxiQq7+9lhDdbb4dphSFxyYYfFbYWGgC55MTjgohfaOgwQAtQx0R/O2qvwYN\n",
       "6aKCKO+oylex0PZracX3wkFZFq84YjSFk7C2gLKPUC9XTFEb/PHVeR6FNYRdXVgdSBATy228hPmU\n",
       "KCiWgV0lBgMvGGyZi1uJaQzAd7UXhsDN9XAgAPaBAAAAsQGfDGpH/wAAAwAMQJ3gAt4laI5bwpF8\n",
       "WvWTnV/XnAIZ5s4WyL9OL4QyiwV56PAIIYFFN4mJ67sb/n1g7BNDd0zHRM3/3HzF4U/OnMUXtujA\n",
       "ikiS4MUNFXBkw/F3X4pxPbgP4p6OBw40dMFunLSXd5N0jrMe/jjWvPFx5VH+mOc7BCr18AE5y89e\n",
       "TG6Hu+0z3mXNpCeC0zz/MQr0drnbfuD2XmfU4tpVTTf7jSEz5ABiwQAAAWVBmxFJqEFsmUwIZ//+\n",
       "nhAAAAMANzStXKXbAQCOfFwsTqj3s+qHKKiKbqXAzsYWJ5xwAo8JVhH9LguTQKBlzoB+0jXrh9MK\n",
       "DFNaAjFaCqykONPGcr6nRlPOZrKWqjT1fn69XFha+BtY2dr/GAk5ts8W2k8bA77Q8YYf4tezdnnV\n",
       "K+1NTxGX5GHbrqT3S1EO0cF9nJ8cM7vY7ZpbhUGGB6NX3gbM7MNDDtUsnvg7jnY6QPIRSUTzStpR\n",
       "Tdm17/lkUDnW0ofoFn6YxVpl/QIVHGcrp1b5njy6JdZaWkEkRWxB+3C1+91PG1kZThbmDRLtVVpo\n",
       "EU0m3uOAyJ3e6RJdzIE/mwJRGSOPc4tTIpdv+2e1coTytoJP8HsjRP8I1sXuWB3yqtPww9qqspWe\n",
       "QLL1XEKdjqrR9a8pkAm9tOyvYuHqotcHbnL7bu3hKiSg+nE5U9eUrfHR6pIKku7QULdrPQ8qoFQA\n",
       "akAAAADlQZ8vRRUsI/8AAAMAB5f6XJk6rFxGNDf5IfK0+yGQAt08T+ObeEHGI5cwGjD3FQj6sTP/\n",
       "Cel1lVnTSWzCL5FzQBT8/r584mTioa8SqXNdzAf9oRLKZmYPLV/bduBki0RXEcNA7TdJrB+V4ge3\n",
       "0gSm+/JyZCprkyY0dYn+HxSEkTWPnJ1M7wkfp8QzYenfqMEA32lGR88l0KRqUMf+GtkGPPGSkzir\n",
       "dHs/wbJafXdcGzAdxyuZ6YETDV6A+eBuCU2yhi9+QnfxdAmFlSP+xQfsp9DC44YXp8epmacp4z9q\n",
       "edgiZmoCVgAAAJgBn050R/8AAAMAHFJiYjRztcck+5u703edACZbqp6HKpOox+TUuS34vu29r994\n",
       "GffHwp1xJf++oYUrjUI/ep1cTey/NLOk0bSfC+2W9FZ9XSHRyT+B6TTCEcpzAWLU0OofHvXQOZ2j\n",
       "6pgRL1XcHHFCfhMHlbQ98Y5z9jHqCQeHj2m4C9O3/NKz8IHsJFsNkrUqHcdRTTABSQAAAKQBn1Bq\n",
       "R/8AAAMACO/Hhme8ANssnAmn6DK/2jsSGHAO5LJUC3XaoGm+Jlr7E5UUAexStzn6KZFUc6tvBM26\n",
       "6O+760QtiBQjI4KS4HYzW0v8juh/1XYcjXSmdA/h30putfPZYy6x0Z8xHBdZ20zfO96+vpZLc57L\n",
       "Sp71v2hXmL1QCqZo/SS2BWwblsWmgn2kEoPuNstAsOBqjpCuiLUyx6fSTAAJOAAAARpBm1VJqEFs\n",
       "mUwIZ//+nhAAAAMAR74sY3b0qx9xk+t3YsDRRCDNKK7/lncPWXToSpp3pP8EQSCq4SFvCQLb3IPB\n",
       "AzrcDINlhTs4UR3nFC6ZfSADBfoSCo2vMfIkiyzTnNfltKcQkScrm5NTMerwNNbWk7v6I0yweC6D\n",
       "DZBlAcigzHN2omIxpWB8fRuoR4BxD0Ey9NGR7rz6HaQTCGvy3uB/dlmALw8P9+3gDH6GSqxzsU25\n",
       "OhwARlEwZ6Lto3BvA2oAc6dRAoHbgZUmh6rPuM7vNuUy5AIvaALCVZ/T2e82PA3arr8CU4R/gbLb\n",
       "CPy+QoGQH6cdkPTSyBVScRazvwEYMewkuqiaNIlZRwexPwsU6r89VNrxD/QAIuAAAADTQZ9zRRUs\n",
       "I/8AAAMAF0VaB9aFT9AKeAANvpZDV1OrrhKlBHrB4XbMUYGxaz6ASM63ALMkcd+q8SvEdZzeBJDL\n",
       "6vOFpm4s0vRrmS6bhSmZWreUCi9tiSkNIyIcnv1kU254WW9/hTzek4Vwo1X9uEUzNk+w6oI28woH\n",
       "uq98R11LnYrNHhCJRO9gN0+R4PZnSE8j7xH/b3QuJdxast8LUu22YNA1saJnjdA73LmPo1+/qH/n\n",
       "ZmMwil87lB8gzowauTPNCw95CF9MSurrn5CzukF2isADFwAAAIwBn5J0R/8AAAMAJKw7kRK5c+tB\n",
       "RvFJwAFput+mrbjhVBc1mUknIfhFnDYnnSQUHNfHwlfjMwxyHTPj7qeLn9nlwdhQhVjC7/Lqv/EO\n",
       "xty5RsFh5Veg4/hXeQ1kKiUbSx/mTdRhL566tKtpAg8MeIV6sQvprh3I/u6rK/UDXZAtgneCmJz8\n",
       "Nr4NuABWwQAAAHkBn5RqR/8AAAMACO/MFXQ2zsJ3W1IoAEMW9fSK6vQvMBvuNQRXI6o7EZW094iP\n",
       "rECQKd5UCJgH9Ez7xUH9rpL/eqnt5mYoOvesiIQPcOrdixwsD2Kv8M0Jnxu+NNmS/NQg8F+e5S5j\n",
       "zmP2eqQllhiC5VbhzmtgANSBAAABPUGbmUmoQWyZTAhn//6eEAAAAwAEVJvdr/dFjPgnODgEHl/V\n",
       "OfwXuAmfuo46vUkCOqNJAzvpqWMGafcNqk0a1Pr38IqtvuL5l3mD8MtsudMRvniOBbbE2yGnTS8D\n",
       "iTbFUmkTk5+mKZ/kIwVvGQTd2oEZ97iNJrfl7tgQnyvvQVX9lToXISAWGPPk4TwX45sCq7RHNbFB\n",
       "7ApfU7YbkAtfJsHiD/pqVhDpchLs82NNPWOqSzHPTDfP6Vs0lFn/oKO9FEs8aV8aCo44odtJ1295\n",
       "pWJbu3gqb9le+0c99kBCjmHA6qlJ5fHXzVsI2LXE5E1c96V5GVPWOCmVtFeUUi3BkBe00uEMRML9\n",
       "/BaPJeM+hLOJa5vA2Ten0c2XD/iia8qTW6e8evcEzdQmvTySt/qJxl9v/eDDuz5d/UkZAFBAAAAA\n",
       "zkGft0UVLCP/AAADAAWwJ/uv8NPvGMCBuKNMCAD+d1ibQnlpSvWSBN50lFzV58+HY4C/P/HcjWpa\n",
       "HhpgHeyYC8/0CQZgZmIfgsSEe4XrfdAw7DclnKzTT1ihjzuwjPW85xpK3fzX9qinNHrIpj/lSVg8\n",
       "lsLY4B2UwPph5fN0Atr5rLg18AEvqdDTOJDCi61Pa1i3x/bmrjQEDE6860Ky0WrAtm9yRvTqZN/+\n",
       "RCflWtB6h8LW466Rlk7VjcUHWworOt1Fp/k9pBGbUPt6QCggAAAAiwGf1nRH/wAAAwAI6xeXwKAC\n",
       "+i676Na508+Kv66T/v3C+NZXvlFk8Un3v/MNr6CV4WyhNg8Z3mjQtVQyDtCdoqRiYiuvxzAS1xzs\n",
       "SQJcwUJOQVRD1IgeIdqijyL5O3VZTVLC2rSULBz9wNw2RM0rvCNUY0NWCNkIyZNJjKQtPjwTjtyT\n",
       "XUwIeHoAB3UAAAB2AZ/Yakf/AAADAALqQZbcBK/AoutCyHEiJ3NRMdkAHvoor6q34UMLNglsr24E\n",
       "vAIIy+SF7lBYfdO95L6oaANcWq/tg2trxjyXb37WVO9GcpKQLsJ+DHQ29uVwUIHWgkOybZyqDn07\n",
       "IMCkvndjhUci8xAOwAAN6AAAAWxBm91JqEFsmUwIZ//+nhAAAAMABbN9/BRvrABOOYgFvHRd4NMi\n",
       "z8MSxAFRAG0gDb/o1sE5PqUvzI+5xISBbHAA3PIoYqM2wcvCPnhOjUoMvXOBSDaoCxLtkeH6bWFa\n",
       "9D39DzqTwFElbHqvMF1T9F9+vWL3aK4otIOX9pefehk6kvktym2JYuLRtOsILQql5IQl3shffgnw\n",
       "uxnBS/NNGmpZI+1RZWDhBki4nlHi2qE7xWpfHxnFz3dteu7pze9sLy8DRoPMUKoUw1uSOQ6ocdz7\n",
       "+1T3U6Z5IST1AHfSG7bvHxRssE5erelvtfBYQlFauEUMh9AGsPmqr6xpdwfXvvS6r1bxs+Nw+AY0\n",
       "/UqMeYoSufD50Eofq0gDkrvyJZmiZW39eg/TyeV5g3g2tjBK+mKAzKLW1dF6RcBqRP5wvgBlBi/j\n",
       "pNwVkoAu5ktRimW3kBgfiIQAhCa0OSU8CWNoSHuwhX710bXyqARbAD5gAAABM0Gf+0UVLCP/AAAX\n",
       "n7nMh3vcGAYHafj6y/mZNwQHIKtZr+luoFxiF3rJk9cNgBbzxsZref97QVZAHrqcP3GnV/+uOv/S\n",
       "dq5pSectXll1Moi7V9jNsQnrAmiAbnou74iyXoSOHDQ8xyFH0CoCDDrb95/dQy+DDW6zYJh7C/UG\n",
       "ZQ6TEQOEa95POHbXoqEPzMt8ePPtxd7SlaUgvKg5bw14kHoOtMq0sXhwk1/8QFON5bxe5g2IoaEa\n",
       "9jdPet0BgKDAHswfeg1ZtTm6ohFs1AgW+pJ+2d/lzNoTLS6GT12oKkOFjUjl8XlxYqSiaoaXnkOA\n",
       "1971EK213ODRSHHYOCjPlKjGue4LO1eSlsKool0FVhMB0KiMOKQlpSxEyI4p54BKtM7rtiMFDDud\n",
       "2YYFCua5GwcA3oEAAADJAZ4adEf/AAAfb3Qbq50L5YlGtxuJ6QHC1Bh6NSNaRHHO+8C6WExL2OmS\n",
       "L025Q2m2O1iOTN2hz22I+Tt8lhMmXb/OxACVHvq62bdXgEg1OYSwmXCr6m2cV7FjJTjP7cftV2oL\n",
       "oTL2AvH+8crFPYvFfBlpXLmvhe7K1KU9WvqOGNAAdI3JWSDTlQBCyc8Q+YZC2xe/rwJ+MyuW8GSO\n",
       "fJxE9RXPdtjAS++RQTh5YJTKXVlhTz5OoEwWDwoGyUyJ1BwDgvDW3HAAADugAAAAjwGeHGpH/wAA\n",
       "IbIob7g5QUzu/SI4SYxqy/aeUTPBjoASMwfp1JL5t11AXWB18VTMVZDSqFexJ+ip9j7mRo2x8mH3\n",
       "J01Kg+Ff+bXSjbgJl1nf5Nu3GcJY+5/LVteY1N5LCI6YqmVQiEZXWtK7EzYweWUQegdLHd0qGdbY\n",
       "R0rhbTibcoSP2luq3VK2t4AAANSBAAABZkGaAUmoQWyZTAhn//6eEAAAAwL69ZcgGar7O4/0ZStf\n",
       "FmONbUc3CloYlEtL4yUGcgf4MVr3WMXh71NFT/IJijksOI8G+LBQbXTpG1HzBH6B6Yuw0aTPjnEk\n",
       "4wjmAMuT0acvhje7xzwLWasywry0mAs3ZRTwCRDuHZm9dwszcvJqyH+UkLrOsXAtITb2JYtpVgDV\n",
       "lxPriyPN1wng73iSxIdN11775Obc83j75iPlGmca9OHUyZLyt3VqH2aKoGLsd8zV7Ti9J3nlLtn1\n",
       "b9ONQPtQmU3k9kFRIjNDVmlcmIaLy3zxnXWlbgcK3euv+WhiVMRHCRNLJJhn3coBHr9Pis6cbBIE\n",
       "BjAhDnw69m+EMEdQ/CdpbccA8zFWdvPwQHSwOCOqyIQNcTMQsltlfWzm9MN4u9Hf7hMfT2AVuR6j\n",
       "cFhFPGOLvzBjWdbL/3mB8mjRZ7v3osOxSoAGSJPs9yhpazRwXKaAFtEAAADXQZ4/RRUsI/8AAAMA\n",
       "+MReNQTzxPCpKawSTUUz20f3yyeMHLFd4wNIX2BF9ZoH5C++1Ivx5fMfRgTkF+fU4++/OKpYDJpC\n",
       "JUv3S6RlOyJCQnZxMHh39uayWWO7halj15v7rD0kL9vVjNHrQWJI2u0BgwB7OFkt10ShPbN7FMxj\n",
       "ztY07BZxG/2XHX97JZCQowVFRNvZK/FLLS3Ru+L+Z/bGCMaQd7Ht2z2lVk0RfhAcNeV0U0jpqmUr\n",
       "Gh44A0ePTYeuH+gJlUrzsLdr6Yf4FHhIrx30+WOAUkAAAAC4AZ5edEf/AAADABnL4S9YFyv0ECZO\n",
       "z5HuLtzEeWNFKOhQ1KMGi1q6PbPosMWDC64MvnE/8j4aV6vaAD87G6WfSxZiKrlcoJlSjVetpoiZ\n",
       "LrmDkbdUplBF9kiZ2LVZPxPHp0ja6dMqYAfczDQ35CZg1M58U9tdeHEPjTXliwYhLaUXJpjUZ59Y\n",
       "mTPdgy7ArKIyvJCJyk8BTvicq7WOc+rp9udG0BUDDIsuG0+dv5cCwBaSNJGuuAAWUQAAALEBnkBq\n",
       "R/8AAAMAcOhBs+xywAIo5+s2YWg7KJ31B+Mk6UJkOhPyIxbFq9NO2H2HzgazO1G25Z0cr/VVqc7V\n",
       "vHlnvGCk8BWKaxoXKHB6YmRRrXqsmRjKCqCPsNekUiEKwVMLH0dNRMz+1af7FnLO/Ws9WqOl/G+Z\n",
       "9Ceu43AWJF+LjrKdctpSHAotcI0pK8n/g5BG7KQfK4Gyx8g+Bu9HGAROyMOJQ1ZNUxJELqi86hAA\n",
       "NSAAAAGBQZpFSahBbJlMCGf//p4QAAADAvq7UeU6pBtAVPlLhcMMZLIYsojIbvInM7Sz1ZcazyLW\n",
       "BoIEwyjv876/jJJBQvpswKYZgbC+/wQvL+xKNQcb9qZ5rmyPeKfi3Y+4/jBTAqrdTjG0YrxB9aaV\n",
       "3ei71zvAVG+3JsNp0aeY8cAaU7GF3bjNV1FJvUBSzgkWfZSBnM04VqeNHLUxFwvUtgMFIuN9BM4F\n",
       "FuKOVmjhLXyDqqN9K0BrvVAIKEHdWGOQ4/SYkCmjkZWwDmjB2Bv7FmnBFviL1crXCpZzuN7mXO7H\n",
       "oP7f/Lrxq/q15Xon71e9c2PWWLIecSLcRvMO3+ZuLT/Bs6A6emE4zIiWg0Jqh/LiYKr3Is2BPPIE\n",
       "BVl1l0Z4HA/b6e/DJ4+jOw4fuD/KPl+7XsBuVtTDgTz5UKMXMf4UpMD7Uq+19GDCkWre/IbSTali\n",
       "VL/CR1lDXcOAt1bjuy+yA113HUP6DnJQEEVrJ0AIJi3cdqpazMBv4lrigZ+JkAAGzQAAAOBBnmNF\n",
       "FSwj/wAAAwD47jgJt6XJJmAqOpWNzpi8uhWz/teyLGTa/Ciw22zgCZcbg4VF7JP/6IaJuXGLWWSH\n",
       "mCjtEFWFoYcKxNywyXwm3ieiVt+H/lVsXtxKW9+z+XkU9nnIjKihwvGWlKktNHeFaUflOJnUdV5g\n",
       "sShFj72oEneTy93GHZznLmFgVcUNDB7wQ4jEHzP4Wtfj8hmDYwWCUqIKacWkNNViw5bNRXgA1E1S\n",
       "7CT9OXHqs+sBStM5v08c3jOAPXwEjXESAygklDBMa8xK5j82Fm3Bij4vdOzPusCkgQAAAJEBnoJ0\n",
       "R/8AAAMBkcCrszvwMX6Wkcy71xXEmVnIAH4RmjZmAl5IfN4N0olYsH74EqEt+wtWjpkJAM9hICH5\n",
       "LHIC2gBqbUWtI+C41Z08e7OTENvTx5Fxk5o7grHevWInQ1m9F0cKY7csDky2lcWiyLQ/9aTNUMj9\n",
       "v5Mn87xpm47YTLdq/IbGJ+fnBnJcICsAADKgAAAAbgGehGpH/wAAAwGSjsD9woxgDmma9uljlAFb\n",
       "yfBRTdJvwcHSbeVpHyZB5sHsywlmvpsDQVjzGOoug+YsG5Xizu3U2SmbBu9Flc7/ELy+Fg7v5i6x\n",
       "nZF7vC2oJxO+XmrI958EjJVDgweTLw+O4AxYAAABlUGaiUmoQWyZTAhf//6MsAAABMB9AQBQljvR\n",
       "Sx9gewDMVIEmTPh6XDvaCEI3LHU/mfH9ldin9dbeRTVg/2cpzNY6ANvqRXK08Dzws5P4Pq/4zlhc\n",
       "L1QMpXJ28CU0nP/m6Ni8dIfjqpW2DnhuRAtBI3Cihc/iLj852VgHLNACUaQ1hpzSVusBwTMCdmsB\n",
       "vojic0YmAooZYot59GEVoIqA0eIBOWnw4EV/20LfCPu4CK3dwXkVjrlrVJcr5OumgHFXs9Z/6/4v\n",
       "lWEV4X5uiNDTSVVtCv19suWjny4EtoAfkbyeiA5oVXvYz4MiRwg2NODDUY0msXGMqKtIGvUj908S\n",
       "DqzQF0S4FWKyiOqhP4UiXuBK9r+fZxvslNpVYzcDKmQNM2aeX7Cyj/ntW6qPyljzNLKmWqQGgirj\n",
       "6Ls+/hoJg3OZS2qfSAh0jcoijpLlHEJgIN6Mp6cJ1cEtkk9eWe97PmjhJahsScb6//6JRsJ69mnK\n",
       "7h5I0tF36U1oQm5sd4Fq6VnAFNMb8g/7Ux/zE2ZYWOOGAAAoIQAAALlBnqdFFSwj/wAAAwD47hmJ\n",
       "intLv3HuAiBLdZkob+F4AI8Dsl6TFJwZOdjr+XX/zB91epTZy+6LJR9vFOsC35XJx/AB51RTocq0\n",
       "dPkGhpb3kxuX2bJ8myayZKiCGg/PKV81oEjiBpcMlK71zkv3j5z7lAJxKWs5ZfvgwkYVj8Emm6lN\n",
       "Tba/A1zvuENcH16tgK3FE1gzj3KLXIcdBiwsK/Yy/l/re/KFRxaQPlZPWSuI0LnSV5CGykmBlQAA\n",
       "AJIBnsZ0R/8AAAMBWfYQ7rRgva+/NNl7PLBAASx+vqIMyySjPZlSGPti/iXzxyvVfn9W1pYF0Cz1\n",
       "74bREWbOxy7FWQ6XA8HPRy/idbN+RSGqd2gt9O5zeZQYXqgm5y7lBMr8Xz/bMxs2WFWGT7icHKdH\n",
       "ZHQsaUCSPmWG/TV2bBVS/0XvVN1XFdmq2+G8k4y7UQAsoQAAAFsBnshqR/8AAAMAhvy7c/DgT5AA\n",
       "oYEn3gn9hE4gumsAjuy93hPjc/wS0mmNTqYlGhX2+HZhAZXA1+lOhnOw9HjTJLcNtjGDSYYkTLjH\n",
       "1myznTSnFO6zpDWoAAm4AAAA10GazUmoQWyZTAhf//6MsAAACQxWKQsLw/QBBND/Zzne33Ha478v\n",
       "hoWcdpzVZXdRZm2IsTtjgcd/4wKX1EZTAjpLZap6dLCvDo5l5Km+GmpxHDQ7GqfL8UyuSCN2EYma\n",
       "YqvOce402Rk/uFM1Tfkiw2ozzRcsm1yIlgrcYqbuTAYWpupJzIsJFMq4WEsKud8WecMR2uVmUzYC\n",
       "BjHPCk82atAOobflfR44lWaZiCxTGQa9z2DuI3IyDf050lz3sm8tR23ul6XNcW33fFYScnHvZvpR\n",
       "jmtGgAK3AAAAlkGe60UVLCP/AAADA8ILd3Oy9peYCNXhAHsav2nNuwwjU6vL0vOlS8DuVrnFdd+e\n",
       "W7ej/BObsejX/K8WSabF7ZpwTAk5wu70S13ZdeR+gM8tQLUJtD4quEdcR6Ku1ig7vTU0pp4RIdNv\n",
       "ybSDOfVuj+ObHtkcVvW4NZAZc+2CC6Fqgx4iR8TAoD8R0p65agyVTsp4oqBcQQAAAEIBnwp0R/8A\n",
       "AAMBKlo7dd5BMCfcAkYRP5IqCVsSi14GVHbb8Eps6zOQ5k+rjTNiY/PXqOQHAeonLvRlKGSJni3A\n",
       "BN0AAABKAZ8Makf/AAADAcXwKH5aXULB7O+YXG0FUeGXG3gRWqDb1Az+CAEZw8n4o1q82mFKS4++\n",
       "7XH3uAxsnsqAVApgKr42VewkSxKACDkAAAFVQZsRSahBbJlMCF///oywAAAEwH0BADRqrHEWCgLs\n",
       "N66SWR6XxxKGOyMnf9T58s3V2XbBuatKmvtNaV46osq6/G0oUq0C0z8qFu4TFSBuxy+0GhxhZcvG\n",
       "uklydEdBVIIJljDZqrPo7WDkQq9Nr2/Po7vxX/od4s5rbYeALlfBdEjfXt9qTqKiFSYK4vEZCv8K\n",
       "AghB5U7V73231lcDy6Hqqnn+wbd3aIbd2oz/9aub13acfZp3W9srJlx3j2EdEVJSQtPNH+ddPBT2\n",
       "b9PRqJh3cuEwNAATxvY3MiMkDz8sSHaN4l6Ao9efQf2D6r0MjeScoZrqHwIQh6JBpowv3xalwUQi\n",
       "M/YE57hMfKqhThxDAhNq6ozf8HsFOOD/dsxqJSOrO2cgbBjKKlKe83dtHeBZk4fmALxL3Aoup41W\n",
       "EkH9fakcRNOaOyJVHJgqHqc/SfN6vzYAtoAAAAC0QZ8vRRUsI/8AAAMDzbjQUpkFIa3obZCgCNrC\n",
       "7OT1yE7EeYwx97geQKtTyP3SpEodNb0MrZLq+bEeyZa9r948hUKuYokqZbfLgKsrZjs2D1Y9EB+7\n",
       "1lMRfoxyB3FHOlIRrfTP5etaFc+vkaee8HPnMVXobxZN5hiT435MhJLbsBkhe6I07NTxN90yhkAQ\n",
       "FKZaRU+PY0CeJ0t3kKr4bv3Yc/4vz3nc8gtLCmIk+SV15hX28gIWAAAAeQGfTnRH/wAABh8JuSLb\n",
       "igFj3i6gFIR5l2meBYAR7oY/Q01jurFBEwIA2gPAAiDoEgaN0Y0jzhx7FEl2213urhIzwAlB3ULG\n",
       "iim/YEzQNFYSnP7BYzgdmTffsxUunVDHdW4zJyvW8gJQm5CF4CEnRxvpee6JeEQALKEAAABpAZ9Q\n",
       "akf/AAADAgsm81f44hDMnuZZeQkACU/kQfKdILSuW6GTGiBk6SY9if+HTqtJyiG2NYcXBDqZRknZ\n",
       "n0Yg7WmY+ZAfPEScQcfzMKhmZRfN8XU42hiNFHTcE2iWv8zU/PcLNFq8AGfAAAABGUGbVUmoQWyZ\n",
       "TAhX//44QAAAEe+CJbdTj5v7Ojx48Qn4/oeXNZu2Y02FSf7AESG8DLxJqVTgHDxk7Jjb5MblcTQM\n",
       "OGh8/tlP0k/dHQB87rnOZfhnaauORvg0/AKhoZoKucKEf3uLdK9083pj9k6lN001wQB1yTS7K/a5\n",
       "aiC/4nH7CDm9ZLFea6KxpCCiW6S0HAbaq6aGZPoo9vQ7uHNy+XG6SiD9Qvx9JcCRKeGDafi8flOp\n",
       "EdmjMX5ziyZJi+WnfSOb01tmoh9Q85qmjefvAlni2bkq9exsap/3AzDFuCBZSxSuUWvGEL+ksol8\n",
       "flRHn+hQFwiFNu75uNQ/WKvzrvhV6zyVBkcYEZOH+ReN/wAHXEvaE4f8AAKKAAABCEGfc0UVLCP/\n",
       "AAADA825C0wTmp9rboWcjoQNrbOqy9wCklQraQylZKCyPcnzc5akRJIg3CL/SG0byfVcCHPXDvhL\n",
       "a12vIdKaxNM5O2LGimFAG06WHZ9O4jeUC206wdYt/2ltIGAM8CQBwLQ/aLBMrRS8MQxnOBUq08Dd\n",
       "ktk5HTfUOdlDkMmzPiEydzN5nvLbqywF4lfgCJOdCZ8T2gUvjyxohFfYTR79m062mw30JTz9lVEr\n",
       "8NZ6ZsLjbvIt7ofb7e2Nt5iy4NHNiKK7ZHj6I/sh8mA3mgHSCM1llO0f1yp4xhQurg6UhGpDUMnQ\n",
       "idivkNQgRuVTH7hJtELpjmV52TbhY5av66KCFwAAALIBn5J0R/8AAAYfCuE/exFFlonO0TDZcAHF\n",
       "c2NMKvP5c0foZIArmhspIgDByqRMBVgc9kiZseVIextQ4bo3fBHAlOFTkFpNFCoIvqxh3n7bLd5g\n",
       "qlgZJql8zPjQAkVPo0DJqAn2AUH+asOR6DMfZ62DBDo3M79OtMTiWnqNj3LTpMkTez0PY5ER4p1Y\n",
       "S2gcSWtl7Z4V+j/x69NNqejMKPLoCul1C4hJuUtesg5rd4OoAA1JAAAAxQGflGpH/wAAAwBxIYAh\n",
       "u7GHJSsABYehGc9j+xlOkiLdv1xE1vS743uLs8e7kOchs4rSboZ/brls/2ZFkYDHxIANrFZQZcqW\n",
       "7Q+Ae/G8fR3++1VmlWKfL9BvwSWzlY54z2pqW+0nf1Bxoo9LRO4SIBrvJaqzn7w27puKEZjWwai6\n",
       "e+aBOYykToPIAFZ4YXDqKWeB59cFGYuloaZ8mYwhQxqasr1OzFFdpKvXmVc7Lct+2/jMwhBiOFSy\n",
       "IS7HbWuBnnKgAH+BAAAA8kGbmEmoQWyZTAj//IQAAAMAsfuGlzAG177XNEyBT3zA7mNCwA2xLcnp\n",
       "1BlYur0RyVZxjHRe6ZdxKpgwEy8V5nCe2HI6tIP3t/C+dSW9xZc7N46lf9vnCuFJ4aIzfR4aUcaB\n",
       "L1lD8fDd5ey8tLsn65ScnzA0PB+8yO2hXm7vIApWQCUFVtY7RJNQYSE1AT1DYmnhvGQQX+CSWuTV\n",
       "VNr//3MY+XuYebzpeTSme6I67f8ecZSHpmDgXwDeBJbrUXg67SZNxrJUFpxawsqdYXX5yJRKilum\n",
       "C36MBrIgO7qROM/8JjTBpEO1DwpSIJaXe+c8ABJwAAAAq0Gft0I//wAAAwAZv22N1ACJqYwIYbpg\n",
       "AFrnNBbZfJwZFwQdzSuOkNnC1ip21mX2BA+xbcMsaU5jZlelx4/re7gg5QDgbZC7UazBPHq4taZR\n",
       "VmbHrZY7PkXD5mLlhmH8os2AZkB5aZLOxneYJNCQgXL+9OaNUTi+2L438dKr0M6U8/JktrPf48Ny\n",
       "jrK2ziU7qKV8kavIMHReVyStMzATSRuvS2+WrTziTAADFgAAAKsBn9ZpEf8AAAYjyCp/Tp3Ra6dN\n",
       "RACRfEWshQFTWHxTE9WSEwU1mHkZMM/kWkVMFVIXI0NcGZr6rnTnmCQqRMtXj9/HIHr+OVwxoUp5\n",
       "ibfoIuGF+2uq/TCsDcqLIUi/NVBhlgdS94CwqLMKUkWEUfSd+GPH3kcFMb4kdjyyVTBbjsBJXLET\n",
       "ev/O8uzmKadyXm1G/7g4NWZB9jly/VYm/TUZbm/C/45KgeGApIEAABqXbW9vdgAAAGxtdmhkAAAA\n",
       "AAAAAAAAAAAAAAAD6AAAJvwAAQAAAQAAAAAAAAAAAAAAAAEAAAAAAAAAAAAAAAAAAAABAAAAAAAA\n",
       "AAAAAAAAAABAAAAAAAAAAAAAAAAAAAAAAAAAAAAAAAAAAAAAAAAAAgAAGcF0cmFrAAAAXHRraGQA\n",
       "AAADAAAAAAAAAAAAAAABAAAAAAAAJvwAAAAAAAAAAAAAAAAAAAAAAAEAAAAAAAAAAAAAAAAAAAAB\n",
       "AAAAAAAAAAAAAAAAAABAAAAAA2AAAAFoAAAAAAAkZWR0cwAAABxlbHN0AAAAAAAAAAEAACb8AAAC\n",
       "AAABAAAAABk5bWRpYQAAACBtZGhkAAAAAAAAAAAAAAAAAAAyAAAB8wBVxAAAAAAALWhkbHIAAAAA\n",
       "AAAAAHZpZGUAAAAAAAAAAAAAAABWaWRlb0hhbmRsZXIAAAAY5G1pbmYAAAAUdm1oZAAAAAEAAAAA\n",
       "AAAAAAAAACRkaW5mAAAAHGRyZWYAAAAAAAAAAQAAAAx1cmwgAAAAAQAAGKRzdGJsAAAAtHN0c2QA\n",
       "AAAAAAAAAQAAAKRhdmMxAAAAAAAAAAEAAAAAAAAAAAAAAAAAAAAAA2ABaABIAAAASAAAAAAAAAAB\n",
       "AAAAAAAAAAAAAAAAAAAAAAAAAAAAAAAAAAAAAAAAAAAAGP//AAAAMmF2Y0MBZAAf/+EAGWdkAB+s\n",
       "2UDYL/lhAAADAAEAAAMAZA8YMZYBAAZo6+PLIsAAAAAcdXVpZGtoQPJfJE/FujmlG88DI/MAAAAA\n",
       "AAAAGHN0dHMAAAAAAAAAAQAAAfMAAAEAAAAAGHN0c3MAAAAAAAAAAgAAAAEAAAD7AAAPqGN0dHMA\n",
       "AAAAAAAB8wAAAAEAAAIAAAAAAQAABQAAAAABAAACAAAAAAEAAAAAAAAAAQAAAQAAAAABAAAFAAAA\n",
       "AAEAAAIAAAAAAQAAAAAAAAABAAABAAAAAAEAAAUAAAAAAQAAAgAAAAABAAAAAAAAAAEAAAEAAAAA\n",
       "AQAABQAAAAABAAACAAAAAAEAAAAAAAAAAQAAAQAAAAABAAAFAAAAAAEAAAIAAAAAAQAAAAAAAAAB\n",
       "AAABAAAAAAEAAAUAAAAAAQAAAgAAAAABAAAAAAAAAAEAAAEAAAAAAQAABQAAAAABAAACAAAAAAEA\n",
       "AAAAAAAAAQAAAQAAAAABAAAFAAAAAAEAAAIAAAAAAQAAAAAAAAABAAABAAAAAAEAAAUAAAAAAQAA\n",
       "AgAAAAABAAAAAAAAAAEAAAEAAAAAAQAABQAAAAABAAACAAAAAAEAAAAAAAAAAQAAAQAAAAABAAAF\n",
       "AAAAAAEAAAIAAAAAAQAAAAAAAAABAAABAAAAAAEAAAUAAAAAAQAAAgAAAAABAAAAAAAAAAEAAAEA\n",
       "AAAAAQAABQAAAAABAAACAAAAAAEAAAAAAAAAAQAAAQAAAAABAAAFAAAAAAEAAAIAAAAAAQAAAAAA\n",
       "AAABAAABAAAAAAEAAAUAAAAAAQAAAgAAAAABAAAAAAAAAAEAAAEAAAAAAQAABQAAAAABAAACAAAA\n",
       "AAEAAAAAAAAAAQAAAQAAAAABAAAFAAAAAAEAAAIAAAAAAQAAAAAAAAABAAABAAAAAAEAAAUAAAAA\n",
       "AQAAAgAAAAABAAAAAAAAAAEAAAEAAAAAAQAABQAAAAABAAACAAAAAAEAAAAAAAAAAQAAAQAAAAAB\n",
       "AAAFAAAAAAEAAAIAAAAAAQAAAAAAAAABAAABAAAAAAEAAAUAAAAAAQAAAgAAAAABAAAAAAAAAAEA\n",
       "AAEAAAAAAQAABQAAAAABAAACAAAAAAEAAAAAAAAAAQAAAQAAAAABAAAFAAAAAAEAAAIAAAAAAQAA\n",
       "AAAAAAABAAABAAAAAAEAAAUAAAAAAQAAAgAAAAABAAAAAAAAAAEAAAEAAAAAAQAABQAAAAABAAAC\n",
       "AAAAAAEAAAAAAAAAAQAAAQAAAAABAAAFAAAAAAEAAAIAAAAAAQAAAAAAAAABAAABAAAAAAEAAAUA\n",
       "AAAAAQAAAgAAAAABAAAAAAAAAAEAAAEAAAAAAQAABQAAAAABAAACAAAAAAEAAAAAAAAAAQAAAQAA\n",
       "AAABAAACAAAAAAEAAAUAAAAAAQAAAgAAAAABAAAAAAAAAAEAAAEAAAAAAQAABQAAAAABAAACAAAA\n",
       "AAEAAAAAAAAAAQAAAQAAAAABAAAFAAAAAAEAAAIAAAAAAQAAAAAAAAABAAABAAAAAAEAAAUAAAAA\n",
       "AQAAAgAAAAABAAAAAAAAAAEAAAEAAAAAAQAABQAAAAABAAACAAAAAAEAAAAAAAAAAQAAAQAAAAAB\n",
       "AAAFAAAAAAEAAAIAAAAAAQAAAAAAAAABAAABAAAAAAEAAAUAAAAAAQAAAgAAAAABAAAAAAAAAAEA\n",
       "AAEAAAAAAQAABQAAAAABAAACAAAAAAEAAAAAAAAAAQAAAQAAAAABAAAFAAAAAAEAAAIAAAAAAQAA\n",
       "AAAAAAABAAABAAAAAAEAAAUAAAAAAQAAAgAAAAABAAAAAAAAAAEAAAEAAAAAAQAABQAAAAABAAAC\n",
       "AAAAAAEAAAAAAAAAAQAAAQAAAAABAAAFAAAAAAEAAAIAAAAAAQAAAAAAAAABAAABAAAAAAEAAAUA\n",
       "AAAAAQAAAgAAAAABAAAAAAAAAAEAAAEAAAAAAQAABQAAAAABAAACAAAAAAEAAAAAAAAAAQAAAQAA\n",
       "AAABAAAFAAAAAAEAAAIAAAAAAQAAAAAAAAABAAABAAAAAAEAAAUAAAAAAQAAAgAAAAABAAAAAAAA\n",
       "AAEAAAEAAAAAAQAABQAAAAABAAACAAAAAAEAAAAAAAAAAQAAAQAAAAABAAAFAAAAAAEAAAIAAAAA\n",
       "AQAAAAAAAAABAAABAAAAAAEAAAUAAAAAAQAAAgAAAAABAAAAAAAAAAEAAAEAAAAAAQAABQAAAAAB\n",
       "AAACAAAAAAEAAAAAAAAAAQAAAQAAAAABAAAFAAAAAAEAAAIAAAAAAQAAAAAAAAABAAABAAAAAAEA\n",
       "AAUAAAAAAQAAAgAAAAABAAAAAAAAAAEAAAEAAAAAAQAABQAAAAABAAACAAAAAAEAAAAAAAAAAQAA\n",
       "AQAAAAABAAAFAAAAAAEAAAIAAAAAAQAAAAAAAAABAAABAAAAAAEAAAUAAAAAAQAAAgAAAAABAAAA\n",
       "AAAAAAEAAAEAAAAAAQAABQAAAAABAAACAAAAAAEAAAAAAAAAAQAAAQAAAAABAAAFAAAAAAEAAAIA\n",
       "AAAAAQAAAAAAAAABAAABAAAAAAEAAAUAAAAAAQAAAgAAAAABAAAAAAAAAAEAAAEAAAAAAQAABQAA\n",
       "AAABAAACAAAAAAEAAAAAAAAAAQAAAQAAAAABAAAFAAAAAAEAAAIAAAAAAQAAAAAAAAABAAABAAAA\n",
       "AAEAAAUAAAAAAQAAAgAAAAABAAAAAAAAAAEAAAEAAAAAAQAABQAAAAABAAACAAAAAAEAAAAAAAAA\n",
       "AQAAAQAAAAABAAAFAAAAAAEAAAIAAAAAAQAAAAAAAAABAAABAAAAAAEAAAUAAAAAAQAAAgAAAAAB\n",
       "AAAAAAAAAAEAAAEAAAAAAQAAAgAAAAABAAAFAAAAAAEAAAIAAAAAAQAAAAAAAAABAAABAAAAAAEA\n",
       "AAUAAAAAAQAAAgAAAAABAAAAAAAAAAEAAAEAAAAAAQAABQAAAAABAAACAAAAAAEAAAAAAAAAAQAA\n",
       "AQAAAAABAAAFAAAAAAEAAAIAAAAAAQAAAAAAAAABAAABAAAAAAEAAAUAAAAAAQAAAgAAAAABAAAA\n",
       "AAAAAAEAAAEAAAAAAQAABQAAAAABAAACAAAAAAEAAAAAAAAAAQAAAQAAAAABAAAFAAAAAAEAAAIA\n",
       "AAAAAQAAAAAAAAABAAABAAAAAAEAAAUAAAAAAQAAAgAAAAABAAAAAAAAAAEAAAEAAAAAAQAABQAA\n",
       "AAABAAACAAAAAAEAAAAAAAAAAQAAAQAAAAABAAAFAAAAAAEAAAIAAAAAAQAAAAAAAAABAAABAAAA\n",
       "AAEAAAUAAAAAAQAAAgAAAAABAAAAAAAAAAEAAAEAAAAAAQAABQAAAAABAAACAAAAAAEAAAAAAAAA\n",
       "AQAAAQAAAAABAAAFAAAAAAEAAAIAAAAAAQAAAAAAAAABAAABAAAAAAEAAAUAAAAAAQAAAgAAAAAB\n",
       "AAAAAAAAAAEAAAEAAAAAAQAABQAAAAABAAACAAAAAAEAAAAAAAAAAQAAAQAAAAABAAAFAAAAAAEA\n",
       "AAIAAAAAAQAAAAAAAAABAAABAAAAAAEAAAUAAAAAAQAAAgAAAAABAAAAAAAAAAEAAAEAAAAAAQAA\n",
       "BQAAAAABAAACAAAAAAEAAAAAAAAAAQAAAQAAAAABAAAFAAAAAAEAAAIAAAAAAQAAAAAAAAABAAAB\n",
       "AAAAAAEAAAUAAAAAAQAAAgAAAAABAAAAAAAAAAEAAAEAAAAAAQAABQAAAAABAAACAAAAAAEAAAAA\n",
       "AAAAAQAAAQAAAAABAAAFAAAAAAEAAAIAAAAAAQAAAAAAAAABAAABAAAAAAEAAAUAAAAAAQAAAgAA\n",
       "AAABAAAAAAAAAAEAAAEAAAAAAQAABQAAAAABAAACAAAAAAEAAAAAAAAAAQAAAQAAAAABAAAFAAAA\n",
       "AAEAAAIAAAAAAQAAAAAAAAABAAABAAAAAAEAAAUAAAAAAQAAAgAAAAABAAAAAAAAAAEAAAEAAAAA\n",
       "AQAABQAAAAABAAACAAAAAAEAAAAAAAAAAQAAAQAAAAABAAAFAAAAAAEAAAIAAAAAAQAAAAAAAAAB\n",
       "AAABAAAAAAEAAAUAAAAAAQAAAgAAAAABAAAAAAAAAAEAAAEAAAAAAQAABQAAAAABAAACAAAAAAEA\n",
       "AAAAAAAAAQAAAQAAAAABAAAFAAAAAAEAAAIAAAAAAQAAAAAAAAABAAABAAAAAAEAAAUAAAAAAQAA\n",
       "AgAAAAABAAAAAAAAAAEAAAEAAAAAAQAABQAAAAABAAACAAAAAAEAAAAAAAAAAQAAAQAAAAABAAAF\n",
       "AAAAAAEAAAIAAAAAAQAAAAAAAAABAAABAAAAAAEAAAUAAAAAAQAAAgAAAAABAAAAAAAAAAEAAAEA\n",
       "AAAAAQAABQAAAAABAAACAAAAAAEAAAAAAAAAAQAAAQAAAAABAAAFAAAAAAEAAAIAAAAAAQAAAAAA\n",
       "AAABAAABAAAAAAEAAAUAAAAAAQAAAgAAAAABAAAAAAAAAAEAAAEAAAAAAQAABQAAAAABAAACAAAA\n",
       "AAEAAAAAAAAAAQAAAQAAAAABAAAFAAAAAAEAAAIAAAAAAQAAAAAAAAABAAABAAAAAAEAAAUAAAAA\n",
       "AQAAAgAAAAABAAAAAAAAAAEAAAEAAAAAAQAABQAAAAABAAACAAAAAAEAAAAAAAAAAQAAAQAAAAAB\n",
       "AAAFAAAAAAEAAAIAAAAAAQAAAAAAAAABAAABAAAAAAEAAAUAAAAAAQAAAgAAAAABAAAAAAAAAAEA\n",
       "AAEAAAAAAQAABQAAAAABAAACAAAAAAEAAAAAAAAAAQAAAQAAAAABAAACAAAAAAEAAAUAAAAAAQAA\n",
       "AgAAAAABAAAAAAAAAAEAAAEAAAAAAQAABQAAAAABAAACAAAAAAEAAAAAAAAAAQAAAQAAAAABAAAF\n",
       "AAAAAAEAAAIAAAAAAQAAAAAAAAABAAABAAAAAAEAAAUAAAAAAQAAAgAAAAABAAAAAAAAAAEAAAEA\n",
       "AAAAAQAABQAAAAABAAACAAAAAAEAAAAAAAAAAQAAAQAAAAABAAAFAAAAAAEAAAIAAAAAAQAAAAAA\n",
       "AAABAAABAAAAAAEAAAUAAAAAAQAAAgAAAAABAAAAAAAAAAEAAAEAAAAAAQAABQAAAAABAAACAAAA\n",
       "AAEAAAAAAAAAAQAAAQAAAAABAAAFAAAAAAEAAAIAAAAAAQAAAAAAAAABAAABAAAAAAEAAAUAAAAA\n",
       "AQAAAgAAAAABAAAAAAAAAAEAAAEAAAAAAQAABQAAAAABAAACAAAAAAEAAAAAAAAAAQAAAQAAAAAB\n",
       "AAAFAAAAAAEAAAIAAAAAAQAAAAAAAAABAAABAAAAAAEAAAUAAAAAAQAAAgAAAAABAAAAAAAAAAEA\n",
       "AAEAAAAAAQAABQAAAAABAAACAAAAAAEAAAAAAAAAAQAAAQAAAAABAAAFAAAAAAEAAAIAAAAAAQAA\n",
       "AAAAAAABAAABAAAAAAEAAAUAAAAAAQAAAgAAAAABAAAAAAAAAAEAAAEAAAAAAQAABAAAAAABAAAC\n",
       "AAAAAAEAAAAAAAAAHHN0c2MAAAAAAAAAAQAAAAEAAAHzAAAAAQAAB+BzdHN6AAAAAAAAAAAAAAHz\n",
       "AAAfDQAAA3cAAAC0AAAA4QAAAKIAAAEQAAAAewAAAFkAAABEAAAAnAAAAGIAAABLAAAAUAAAATcA\n",
       "AACgAAAAMgAAAEQAAAF2AAAAuAAAAEkAAAAvAAABcwAAALYAAABRAAAARgAAAY4AAADPAAAAaAAA\n",
       "AD0AAAF0AAAAlAAAADsAAABZAAABgAAAAKAAAAA/AAAAQQAAAU8AAACsAAAAKwAAADcAAAFEAAAA\n",
       "nQAAADUAAABGAAABBAAAAEcAAAA+AAAAQQAAAJkAAABIAAAARgAAADQAAAEOAAAAjgAAAEIAAAAj\n",
       "AAABRQAAALgAAAAwAAAAPwAAAQkAAACsAAAAXQAAAGYAAAFOAAAAmAAAAGsAAABqAAABiwAAAKAA\n",
       "AABlAAAAcQAAAXIAAAE7AAAAmgAAAKYAAAGnAAAA3gAAAIIAAACXAAABdgAAANQAAACAAAAAdwAA\n",
       "AUAAAACYAAAAOwAAAGUAAABiAAAAawAAAIsAAACIAAABXQAAAK4AAABuAAAAeAAAASMAAADiAAAA\n",
       "jgAAAI0AAAFNAAABBAAAAJAAAACwAAABSQAAAMgAAABpAAAAdQAAAYAAAACdAAAAaQAAAGkAAAEQ\n",
       "AAABcwAAANQAAACCAAAAkQAAAbUAAAEDAAAAowAAAJEAAAE7AAAAsAAAAHUAAABaAAAA6AAAAIsA\n",
       "AAA7AAAARQAAAHcAAABwAAAAPwAAAEMAAAEmAAAAogAAAFIAAABtAAABiQAAANYAAAC4AAAAkQAA\n",
       "AVEAAADIAAAAlAAAAJIAAAElAAAAwAAAAHoAAABvAAABmgAAAKoAAABzAAAAbQAAAWAAAAEmAAAA\n",
       "uAAAAJ8AAAGxAAAA+QAAAKUAAACgAAABfQAAAMcAAACaAAAAbwAAAYQAAABiAAAATQAAAFsAAADJ\n",
       "AAAAewAAAFMAAABUAAABfQAAAOsAAABiAAAAiwAAAYwAAADyAAAArQAAAKkAAAFRAAABFAAAAK0A\n",
       "AACzAAABiwAAANgAAACNAAAAeAAAAYcAAADCAAAAZgAAAHwAAAFwAAAAzgAAAIUAAACAAAABpwAA\n",
       "AOsAAACKAAAAvQAAAW0AAADUAAAAgwAAAH0AAAEFAAAAjgAAAEAAAABdAAAA5wAAAFsAAABsAAAA\n",
       "SQAAAUwAAADKAAAAWwAAAJUAAAFGAAAA0gAAAHYAAACRAAABZwAAALYAAACbAAAAggAAASQAAAC/\n",
       "AAAAigAAAHsAAAGaAAAAwwAAAGgAAAB1AAABaQAAARcAAACyAAAAfQAAAZUAAADdAAAAkwAAAH0A\n",
       "AAFAAAAAsgAAAHYAAABqAAAAzAAAAGkAAABXAAAARQAAIAUAAAMKAAAAtwAAAG4AAAB2AAABVgAA\n",
       "AOMAAACXAAAAlgAAAVwAAAEJAAAAlwAAALEAAAFFAAAA1wAAAG4AAACAAAABXwAAAKwAAABsAAAA\n",
       "cgAAAWwAAADZAAAAkwAAAJcAAAFyAAAA3AAAAH8AAACcAAABVAAAAKsAAACfAAAAygAAAUYAAAB5\n",
       "AAAARwAAAFwAAACZAAAAUAAAAIQAAABYAAABGQAAAI4AAABnAAAAcQAAAYEAAADvAAAApwAAAIkA\n",
       "AAF9AAAA4AAAAJ4AAACjAAABRQAAAMEAAACRAAAAjQAAAV8AAADWAAAAbQAAAGcAAAGaAAABBQAA\n",
       "AHEAAACYAAABowAAANoAAABtAAAAjgAAAWwAAADmAAAAmQAAAHMAAAFKAAAAvgAAAEkAAABEAAAA\n",
       "pQAAAG0AAABRAAAAggAAAWQAAADjAAAAawAAAJAAAAGnAAAA+QAAAJwAAACYAAABdwAAAOYAAADQ\n",
       "AAAAkwAAAUMAAAC0AAAAfwAAAF0AAAGEAAAAyAAAAIAAAACFAAABcQAAANAAAACmAAAAgwAAAUoA\n",
       "AADJAAAAlQAAAMkAAAFEAAAAigAAAFEAAABIAAAAYQAAAF0AAABHAAAAUQAAAN8AAADFAAAAUQAA\n",
       "AGsAAAFnAAAA9AAAAIgAAADOAAABfAAAAO0AAACOAAAAlAAAAS0AAADbAAAAkwAAAIcAAAFPAAAA\n",
       "zwAAAHgAAABfAAABOQAAAQ0AAACiAAAAkgAAAZwAAADVAAAAqAAAAKEAAAHIAAAA5gAAAIIAAACV\n",
       "AAABPwAAAJoAAABVAAAATAAAAKkAAABjAAAAKgAAAHgAAAGZAAAA1wAAAFkAAACPAAABYAAAAOoA\n",
       "AACKAAAAiAAAAZ4AAADsAAAAsQAAAJYAAAFzAAAAzAAAAKUAAAB9AAABLAAAALcAAABxAAAAbAAA\n",
       "AXYAAADoAAAAfwAAAIAAAAD4AAACFgAAASIAAACYAAAAvgAAATcAAADGAAAAnwAAAHgAAAFQAAAA\n",
       "hgAAAFsAAABfAAAAowAAAHsAAAA/AAAASwAAAQoAAADPAAAATwAAAJUAAAEZAAAA4wAAAKMAAAC1\n",
       "AAABaQAAAOkAAACcAAAAqAAAAR4AAADXAAAAkAAAAH0AAAFBAAAA0gAAAI8AAAB6AAABcAAAATcA\n",
       "AADNAAAAkwAAAWoAAADbAAAAvAAAALUAAAGFAAAA5AAAAJUAAAByAAABmQAAAL0AAACWAAAAXwAA\n",
       "ANsAAACaAAAARgAAAE4AAAFZAAAAuAAAAH0AAABtAAABHQAAAQwAAAC2AAAAyQAAAPYAAACvAAAA\n",
       "rwAAABRzdGNvAAAAAAAAAAEAAAAsAAAAYnVkdGEAAABabWV0YQAAAAAAAAAhaGRscgAAAAAAAAAA\n",
       "bWRpcmFwcGwAAAAAAAAAAAAAAAAtaWxzdAAAACWpdG9vAAAAHWRhdGEAAAABAAAAAExhdmY1Ni40\n",
       "MC4xMDE=\n",
       "\">\n",
       "  Your browser does not support the video tag.\n",
       "</video>"
      ],
      "text/plain": [
       "<IPython.core.display.HTML object>"
      ]
     },
     "execution_count": 38,
     "metadata": {},
     "output_type": "execute_result"
    }
   ],
   "source": [
    "HTML(vid)"
   ]
  },
  {
   "cell_type": "markdown",
   "metadata": {},
   "source": [
    "### Dream Sequence"
   ]
  },
  {
   "cell_type": "markdown",
   "metadata": {},
   "source": [
    "From a starting latent, use MDNRNN to predict next latent space with random action"
   ]
  },
  {
   "cell_type": "code",
   "execution_count": 18,
   "metadata": {},
   "outputs": [],
   "source": [
    "for batch_idx, batch in enumerate(loader):\n",
    "    break\n",
    "    \n",
    "frame_seqs = batch['frame_seq'].to(device).float() # (BATCHSIZE, SEQ_LEN, 3, 64, 64)\n",
    "latent_seqs = to_latent(frame_seqs, vae) # (BATCHSIZE, SEQ_LEN, LATENT_SIZE)"
   ]
  },
  {
   "cell_type": "code",
   "execution_count": 19,
   "metadata": {},
   "outputs": [],
   "source": [
    "curr_latent = latent_seqs[0,0].unsqueeze(0).unsqueeze(0)"
   ]
  },
  {
   "cell_type": "code",
   "execution_count": 27,
   "metadata": {},
   "outputs": [
    {
     "data": {
      "application/vnd.jupyter.widget-view+json": {
       "model_id": "c85d4aaa8396424fa5a68e33f7cfd993",
       "version_major": 2,
       "version_minor": 0
      },
      "text/plain": [
       "HBox(children=(IntProgress(value=0, max=1000), HTML(value='')))"
      ]
     },
     "metadata": {},
     "output_type": "display_data"
    },
    {
     "name": "stdout",
     "output_type": "stream",
     "text": [
      "\n"
     ]
    },
    {
     "data": {
      "image/png": "[encoded data removed]",
      "text/plain": [
       "<Figure size 432x288 with 1 Axes>"
      ]
     },
     "metadata": {},
     "output_type": "display_data"
    }
   ],
   "source": [
    "fig = plt.figure()\n",
    "ims = []\n",
    "\n",
    "prev_rnn_hidden = None\n",
    "\n",
    "for i in tqdm_notebook(range(1000)):\n",
    "    mus, logsigmas, logpis, rnn_out, rnn_hidden = model(curr_latent, torch.randint(0,3,(1,1,1)).to(device) , prev_rnn_hidden)\n",
    "    prev_rnn_hidden = (torch.tensor(rnn_hidden[0]).detach(), torch.tensor(rnn_hidden[1]).detach())\n",
    "    \n",
    "    mu, logsigma, logpi = mus.squeeze(), logsigmas.squeeze(), logpis.squeeze()\n",
    "    next_latent = sample_gmm(mu, logsigma, logpi)\n",
    "    \n",
    "    next_decoded = vae.decoder(next_latent).squeeze().detach().cpu().numpy().transpose((1,2,0))\n",
    "    im = plt.imshow(next_decoded, animated=True)\n",
    "    ims.append([im])\n",
    "    \n",
    "    curr_latent = next_latent.unsqueeze(0).unsqueeze(0)\n",
    "anim = animation.ArtistAnimation(fig, ims, interval=20, blit=True)"
   ]
  },
  {
   "cell_type": "code",
   "execution_count": 28,
   "metadata": {},
   "outputs": [],
   "source": [
    "vid = anim.to_html5_video()"
   ]
  },
  {
   "cell_type": "code",
   "execution_count": 29,
   "metadata": {},
   "outputs": [
    {
     "data": {
      "text/html": [
       "<video width=\"432\" height=\"288\" controls autoplay loop>\n",
       "  <source type=\"video/mp4\" src=\"data:video/mp4;base64,AAAAHGZ0eXBNNFYgAAACAGlzb21pc28yYXZjMQAAAAhmcmVlAAE8t21kYXQAAAKuBgX//6rcRem9\n",
       "5tlIt5Ys2CDZI+7veDI2NCAtIGNvcmUgMTQ4IHIyNjQzIDVjNjU3MDQgLSBILjI2NC9NUEVHLTQg\n",
       "QVZDIGNvZGVjIC0gQ29weWxlZnQgMjAwMy0yMDE1IC0gaHR0cDovL3d3dy52aWRlb2xhbi5vcmcv\n",
       "eDI2NC5odG1sIC0gb3B0aW9uczogY2FiYWM9MSByZWY9MyBkZWJsb2NrPTE6MDowIGFuYWx5c2U9\n",
       "MHgzOjB4MTEzIG1lPWhleCBzdWJtZT03IHBzeT0xIHBzeV9yZD0xLjAwOjAuMDAgbWl4ZWRfcmVm\n",
       "PTEgbWVfcmFuZ2U9MTYgY2hyb21hX21lPTEgdHJlbGxpcz0xIDh4OGRjdD0xIGNxbT0wIGRlYWR6\n",
       "b25lPTIxLDExIGZhc3RfcHNraXA9MSBjaHJvbWFfcXBfb2Zmc2V0PS0yIHRocmVhZHM9NiBsb29r\n",
       "YWhlYWRfdGhyZWFkcz0xIHNsaWNlZF90aHJlYWRzPTAgbnI9MCBkZWNpbWF0ZT0xIGludGVybGFj\n",
       "ZWQ9MCBibHVyYXlfY29tcGF0PTAgY29uc3RyYWluZWRfaW50cmE9MCBiZnJhbWVzPTMgYl9weXJh\n",
       "bWlkPTIgYl9hZGFwdD0xIGJfYmlhcz0wIGRpcmVjdD0xIHdlaWdodGI9MSBvcGVuX2dvcD0wIHdl\n",
       "aWdodHA9MiBrZXlpbnQ9MjUwIGtleWludF9taW49MjUgc2NlbmVjdXQ9NDAgaW50cmFfcmVmcmVz\n",
       "aD0wIHJjX2xvb2thaGVhZD00MCByYz1jcmYgbWJ0cmVlPTEgY3JmPTIzLjAgcWNvbXA9MC42MCBx\n",
       "cG1pbj0wIHFwbWF4PTY5IHFwc3RlcD00IGlwX3JhdGlvPTEuNDAgYXE9MToxLjAwAIAAAAwIZYiE\n",
       "ADP//vbsvgU1/Z/QlxEsxdpKcD4qpICAdzTAAAADAAB4HShe6DhKq9DAABt7rjyNLz6/zAJZrX65\n",
       "k/82RVLywIZry1dCs0W3Vs9JpuWgAYRjRNBvHVXdDE4ZFd2aM4Pjn2OI3xeZdMhk/SKYg8dd2Gtc\n",
       "UHDbfTpd/sJX3U+/8MEkZXszJ4rqIgMQkXImV+w0Yasf/Q+/lnJ6StF6baO2B/UbekvBXUOmKQSR\n",
       "3/m+ei6Ne6sXeTqlVGvWRzQgeY6GS9v3mS+7Ib9P/sIlsNCM9OMEk21Um/viMvuZLATq1wzQRCYG\n",
       "PL1NJB/+CVVVTQva3Dyirt2qlLUCXpFfDibVR4rXZ3qkghNDcRWb5C1JAaUkpf3YMUpX1704P397\n",
       "7ojIavlUb7p/IGfOM9lWOXWJ5XEXsg77wF9xkt4iEvN1gbTucB0vvS788w951DtQPLk6/8HP0o/0\n",
       "33b+G/De/6hA0+yN9D9vWAP6v93fVkwihoF5T0o09Z4vM/4mzw7vzTGDvBpSsXDttrUGHJT7V2hi\n",
       "5pBcHjJwYgnKAcCI1jQX8PY6GfvkeTN4vg2y669U+8KY0z75fHijTSoPA/n3Qt1kfBSTaBEh5sv+\n",
       "ADiMVik4AINF0Z+b0uVJdzSvH1gryiTUOXwBwzxQQRKtk84SG+LpBNdz3sqEl+4G79/GYjQJSPfa\n",
       "1OUXG5vnWqhyxpQh9V/g6/kflSQdnXxzqycM2MWXydqNUSlg7fQ53Bk3RSu8vDmcAB7KUSAy6Bd2\n",
       "+Hn663/knSkD/qnMzs/CJqDR13yvsbCB0qgJ3cduD0exiAA5eoRnFduqMtPiqROiGxRa3OdpFYNk\n",
       "QRswRa2zu4GiLeBV7oVn9kI6tsBHEgD7MC3rjUof4NCWpICNIR5bkr4xNrhNeXDAtbQj5PNrQI2p\n",
       "L0/4wFCUkrPM+irLiiprGSOnN4Y+573lX0tOYN8O4soSzQ9j1dx4EWpNkeCEoCgD6pN30fgEU7NQ\n",
       "gIm0Rex5KPiTn8nhy6QsC1MQCvSls8o6vTePvtWl5Gm4YbLAyLzbmohu3fjVBT5LgCAlsDSsiJ+h\n",
       "cMkyDzaJmv+wNiMhtJrs92Cmgn7Vl6xP8GpYh0rI0W2cpnelrlP8EMnzjRfP3USJRvrUw7IRyj+8\n",
       "t+jC4silU+ljyuxf3I/gD3g2bLdFKY4UIK5txmdrIi4PLIP7+4gUgaQg0ZvtzWps83c46Hcd8Lh7\n",
       "nYVc3PS1DXMzwGva+lHTknmm05+oKrzO2UxQmAXnK2KKBxbFaB+11DTX9U7mzWZygYeHk4hyksNV\n",
       "MeoFtoxmuZaImt1M3WfdFPA2V38alNE8iNRSEb2Sr49PMkg6+dPhSqOreWJKyIo1zielSXULKW21\n",
       "/bX+C2W38n8e18ZKy0C4q2smo49ogXL2rWQmfC19Wu9zL8nD0ud50jpFNJFF6k3BAZGI4suRgc5I\n",
       "LIFWJGCmpIFnOVVKNB5LK08Rrngm+MDA6xn95ZUB/RXqiYd0pGzj5g37dIQe9CiAY2VLBf8rfHMA\n",
       "w6pvOagwN1ca60dpfOCzDIR7eeohtRNkjeIqsdLO7d9/fcvg6T2nvCJt/duo/r6btFRGsohMqqHk\n",
       "vignvutruheZRkqs378NxUHjG1fBSQoYwIUJANb9KZiuOP9lLam1TkQC10EWTGSm+fcjA9MzOrQ1\n",
       "ygCO/Qri2O5MTBjZ7yCJlkr2xE8lEQQXcgB0OXJzFunmGpYB7so0EDoJ7V/8edN/0jHeGummkI6i\n",
       "LQlm+bUNGmjgEnTB5J9/c256Nz+gz7RNHIFQj4AhlulRh2uzV/uyvJWiF75ETYf/DkJjEJglKUt8\n",
       "aN51lFX1PG/jZeApzICIDbd6qR0xIOzIy062iDYioSQ1hO1ujXcmB/M7HideUk64fzfGrFJNmjdy\n",
       "sFvmprsNlAyTPTlp9a1bt1lfwXSxo5BGn2Mf8YtuJcToy3Y2vXe+rMxx51jSR5s4V7d4BafsvjqE\n",
       "/cqMYQDUEDE0wKxHO2d8y6V8Mr8gawehiJVWB09cXoxcfgatgQ+9n9fjKew5epwR2dqeBV8rZ7M8\n",
       "fTVynTxL1pGVdxjNAEi2fvsbOUBtP+oZ0h6tC/mOjAVkm7GCh2gWMFVzsrZ+ubHNfeB0o/Zd6am5\n",
       "mgWmhy3KGdBBSYVZMcbPnhhql8acN9VhhLi0u2ZWpkO1mlhqrR0Xkk05ozFG00W+9xP3oh0hGbMv\n",
       "IYNy1xQv8byHomph50xtDIf6jjNXy+KzrTGnAwVsh3SBTPPqJk89Z3sqjoqZYVREH5nNyqBhgJTP\n",
       "eNG0R6M6qWzE4aeA33qZ4duCvFGN57qsUErbi39VJQGKVaWXqzYP9b/4cN34+EE8eXrmTcQ+nUaZ\n",
       "tw7SE9aePOc1sS7icJPdzXmR2+q639B8M+rdsBYFoCHSPxuw+ngU90IHo+N6wE2O16TOtyEcAUgc\n",
       "Ws32SAio+qBceOs6tHQnnHXbfssvm8e4iS1udbban1wAFnrJrT29UTCamWnKamEHAOtYtEx2uS3x\n",
       "Fv6Re8tH/4RVzKetKZ16AzNmjWpiX8tu1oeM2yWWWyj3tHR32XbYR4/Um3ZO1vPH3WbR3jVcnQqG\n",
       "TGr82rdGi3QO7X7Sg9BkAf6gLZ27Nw+vSd8Zq+Jt4VqjXRldOkL9jFt3BZmXkmFWzEl9P9kvnzW6\n",
       "rqFTwoE1+oQRs7U73VLINsaxEDe2q58r6Rayx3EzMPn6tAQiSOlXILu9chV2Ehv8NcylUw+PAQoK\n",
       "lPANMI6y/Qv7xnmV7/kzFZwnFgyYMXRGIwdv6PY1jawjSxFUQWNv/rXonuzGyohWFNUQjEmuVt1j\n",
       "n0w8ykVFh1BibwkycpNpiKa0aJaU+xLkc/376HxjvJXvVEyp3QeykjRuZY9/ZFhxIImIRFdUem0y\n",
       "BigS2HFJGGGQRpD1CcNi1wPyaz0ZDPIcH98gaoF1h592XDfYxCA4HiJ7QLN/IFqBLlMOS2ttGRLo\n",
       "T3ONbmDHz0jaavLYZkCmKp1/4dtVVz8IN6se/Y4Ln6UFDFMUC/sCP/OwfDaLrMYzLPNBOaM8SYm8\n",
       "D0K1FJig9B4cx3+a5k6mu8+cpHfgh6p4Gqij8wPyYwz3J7FbBjhKd4m/h/3J7BrW4keaZzRvdsEV\n",
       "Bunv0dK+dJAelFckCgza4YtP//MEJ8d9tGbLD/u+Qa5BbxIrlUnElRFdqM7ij4AhjfkJlSABfMfz\n",
       "f3fINcgt6aQS2ImVIQamAG0lzko53eFEKnVdgPZ3l+yl5OeyiRQobGJmYOefWycz9MM9QAAE2/l6\n",
       "N6w0wWPc+TJJ7jAUffCiNAvxRL2b9YkMc+XRxWEUcGgN+atBWTT94VE1lZ7ritG3I48KQy3h8p08\n",
       "rd+NlSSenbc72vKIxtaayDu5AX3VdfcRQ7cZWAL+JS/labT3i6UH0hMQTPemVW3pAxdRAahw/YI6\n",
       "ox3sXGCiqSHRw5s7lgw0LoWW2sVWV9KRS7RbqoX1JXSD1JIvQ2F/7kmyGDRD0/uBGGYAT6vicajS\n",
       "U95ev+tFPjjZjMMkQR5PaxjZkZ0Svw0A0CMTQ1m/XA5KkSBFiPhBgsp+CN7xQaniuL9xE4od8K21\n",
       "TuHzN2pVkJS/Oj7/V9u2PYNgbdCLtVn3CwmuKyImezUJKDT2P+qc4dhks8K82mbMIXhJxcRNeOQh\n",
       "UH93VvWNaH7BOgBkeR/6KPRZVvkk/4E7DH6E04SyEW/WuUqC8dt1kddSJfKDN/HFEJatghGKftoX\n",
       "8CAqqwriHF4W3TFwny9zGSKXEdgEGmI0jGPGACoA/I5RWTNYY8m05tzL3fTU4YuZsGdpBYXat93N\n",
       "kdRFtzbUu88k5TRVQHgQlzKCnpCv7HbRSx1JBSCNO76ZB5jh8qToyDQnW0sEvjLiYBf0IdTCAaou\n",
       "oTrH3cVQwXbqT1yZ2iEOpMdDSSVHNp+RMEvSiE59fztzqnp71dc6blGJseTTasrvuBtRfXBwobSx\n",
       "m5dEt1l22tZQov0JVrBunNy8vzGiD3NX4faXy3sYh8UWERqCqALkTjL5jpIhqwFOXH2XgDtTofKw\n",
       "PmOy/LZhmXtVVk2OIgYJf2JjgxnTop0vgxjo+95WZHd5DKVgUWB/c4nWoSoshwAB1vR4fogAY8EA\n",
       "AAFmQZokbEM//p4QBnjK2AC2vDY9402a63Rc1xBCsxPZkT2tZs1JyRG2m/RzTxvApff5YAerOIr5\n",
       "KcTJF+iIklu6b+bpzMTtkGqCDPm357g//Q2dA9rRmmxusdKTGtH+nOMM77qLT1kiFNZyUwwLnuwv\n",
       "B3t8h9I+jyiYohiVwUCGgG6NvdHyfm6uwcTzq9vXMXyFxr5zQS1SA0Vs9djevLCXm/OFrUllAVSJ\n",
       "dMmMijGSlTu10oDDs1ErhXW9SQVRaS37diXEFKR+YuTrIWUyEDcYtqwzOKvI4eelI3qJl7x544BM\n",
       "+5rKedx14ac+TQycSGGQJVQw3pG1nC/3aFcWc6R1JIW84qBcVzoGMmYJ+01e7Iyc2XlZh3k4cg/l\n",
       "M33wwmRHzBWPCXakCA3iL8CdBzKevCGxQSjr1GCgYV+akPJ/MyOm03XxD0BBRt7xA2m/fW9H+qmc\n",
       "fQduA4fyTeatLanHc2+7P10kAwAAAEhBnkJ4hH8EZYurIlWZMOXWHe5izIAynPCMQHj4RfrcQEzt\n",
       "6KEy/5071oYaptFW8bLCExpyIu8/OnxO2zGTaqCdqtPHkpkAxYEAAAA6AZ5hdEf/Ax+ALCmZnTtx\n",
       "APKalUnd4GRBhBz/YAQAJrGvoe11ou+3ZEc+HBj9SThTHMUwBLauhUfRAQAAACsBnmNqR/8GrmEg\n",
       "mm5nWDgIDJJJljWapi/y6RNCRX8Xm8eHrdSq20Qg1mF3AAAAY0GaaEmoQWiZTAhn//6eED42O50t\n",
       "fxoKr9QwVtP42ckY1oyxAvzo9QB+ynZXsczdS03ltdyEhGjeD7ykRrzWKf/vijHCmD+sxnMVuFZ7\n",
       "iJ7FMMldXSkFEbCTotcBeEgAtDifgQAAAC9BnoZFESwj/wRiV/Jyb68MUCrMqZZGkvNJwzXaOi/D\n",
       "AyEWaSzlsctPFPqs0HElmQAAACABnqV0R/8GqKSwpmZ07cU6mY0yxCQt1jPI4uTJW9QuQQAAABUB\n",
       "nqdqR/8ABnJQXcMGldotOeA9/KAAAABCQZqsSahBbJlMCGf//p4QABh3YvQB+7r52TtzcGvBXMVG\n",
       "3PT6YXKPU6TrZggoMCh7NotQvH/zu9XC3LoTs+SVWi9AAAAAH0GeykUVLCP/AugUAJ4EqkJpqYqC\n",
       "fuR8JzfYuheHF2EAAAAXAZ7pdEf/AAZvC6JDAbbOkyoYooYnWUcAAAAUAZ7rakf/AAZyUFNmkiBs\n",
       "rdDPjOAAAACdQZrwSahBbJlMCGf//p4QAAnuL0AHqIYuj9+5EpLYkoi7sFWeFZ1VLtH9BZHj4xoH\n",
       "zVDy9pTxESToacQRVVFB0l3LulV29prUVj9u3/KgUL3x/zsXHzbjfs3ferQGmnnVGa6Ma5k/yrDo\n",
       "LvsGg80ZBESry4aPY1f/wOK0zgrZ1AS2jn/T31QKCF+AVmeHDWJ7/9zUQdulcY2ug3LM/wAAAClB\n",
       "nw5FFSwj/wLoFACeBKpJg+JAPxrQgwuJ8TLt495wZKugbLAuZYZPQQAAABMBny10R/8ABm8LokMB\n",
       "tq2e/mAxAAAALgGfL2pH/wAGclB4u3SACRNKME/3wHZ8rzqKlitI2P1ZHTk21UdpZB7e1xbHnvAA\n",
       "AACSQZs0SahBbJlMCGf//p4QAAnrv6CnID428NeeZKzpqHZQkv1GkDChtFrc64ZaVsfCc9hqcFKO\n",
       "OiJLGMth2uR3znZ3+9YDzC2emYI1a8jLWOuyo8UhFdDzq6cd5BVfa22OvDD4BHHgK0LPGsq011mw\n",
       "Q0JdvlFFR5Xko2oEBHqz/C83dC9tbXjZ9sg4U8tlu2XnaPYAAAAvQZ9SRRUsI/8C6BQAngTcUrYp\n",
       "3d4EAU/8tuiMmLaWDoe/PIbGZfplxVnpRoIeL2EAAAA4AZ9xdEf/AAZvC6Gr++VhACaK68v2rwUh\n",
       "tJCR57ABkg38c4I3jNy0aXzcZbrXyaIPqEfxRxDScmAAAAApAZ9zakf/AAZyUHhZiQATQVGgiv3q\n",
       "fAgGiTXhOMdeWUL69h/HthX8M1MAAABOQZt4SahBbJlMCGf//p4QAALV0GTaGH6wEAwqhR+qW7QM\n",
       "jju1DyDw1zXXu93okK/5XtsU07K1+C0Ntm2qabDbYLb9OmzAkPSh7DFcWNqhAAAANkGflkUVLCP/\n",
       "AugUAJ4Epbg76b5m14b4FCIAO93KGeqMaTH4DZvmUyzLoPgzC3p12TgTzd8dXAAAABoBn7V0R/8A\n",
       "Bm8KyVoL5OBgbH3JHt0uhO7UoQAAAB4Bn7dqR/8ABnJPvFt3VU+5Z1UAIJEgl3j0YEQDZFkAAABL\n",
       "QZu8SahBbJlMCGf//p4QAAXQs46gHY7acqx6+r9BeE8V4/P5Nzs1N49H2hxGee1C5ZF7vzly/cHQ\n",
       "cIAPsKN1HU4N2wUp505DWeaAAAAAG0Gf2kUVLCP/AugUAJ4Epbg767NyL5HaE893DQAAABABn/l0\n",
       "R/8ABm8KyhCwVM0+AAAAKAGf+2pH/wAGclB4V4gASLKgM1zgkaSujnGH7aUTO5ED58PgYy9xfOMA\n",
       "AABWQZvgSahBbJlMCGf//p4QAACw4vQAFbOU2nU/+yOQ6Omt1khKPj1dzk6MsMBuv0OJv0tCqw08\n",
       "k54e0KQ+Vxjr9BdMIijTX4W6vt5Mdo+6bYe3sYoW+YEAAAAZQZ4eRRUsI/8C6BQA1EJeZ7gpN/jO\n",
       "21XaJgAAABIBnj10R/8ABm8Lox5UwpzKtRgAAAAbAZ4/akf/AAZyUHizKlXDQAFho492wRDUuJVj\n",
       "AAAAXEGaJEmoQWyZTAhn//6eEAAFz9WbDQqg4AbfpKGc6220lL4Rc8rTTDxEsTl0rn+skSnCn9Mn\n",
       "EcNAf14b0L396wu8RNYy5C4LGybv290/sX2eFwt5nUYPV/GuQwVmAAAAJUGeQkUVLCP/AugUAJ4E\n",
       "pbg7ea9zq1q5ABob+ukcuiuxqz9LFnEAAAAhAZ5hdEf/AAZvC6MtbAAkXVCztPfRgth3nR113FQ5\n",
       "ciR4AAAAHQGeY2pH/wAGclB4/6cACRZWFkmSZtAzEVRkWVKzAAAAOEGaaEmoQWyZTAhn//6eEAAC\n",
       "jO/nR2fJ1FGgALNIkyR2lKb7i4Hr6ce/iY4wEE6TJ05BlmnT5k8tAAAAI0GehkUVLCP/AugUANRC\n",
       "Xme4KLwFkyCSatXU505ABusOfFgPAAAAGgGepXRH/wAGbwuiQtO28VAAhUhZnmmAS7jBAAAAEQGe\n",
       "p2pH/wAGck+geFSBe0X4AAAAUEGarEmoQWyZTAhn//6eEAATTaAr54AQesiJVn4TyfJshHOZbPY+\n",
       "Q+Rkc444MU/3AIDTnuOQH6ErPDsfuN/4ykGL9Wt1vl1G6xw4MJ4bdjikAAAAJUGeykUVLCP/AugU\n",
       "AJ4Eqkh4G9GwvdZgxtcALhUYv9DjQ4QUs2EAAAAcAZ7pdEf/AAZvCslaC+ZXDMAJriKl1cmylbQm\n",
       "wAAAABEBnutqR/8ABnJQeLMZOuzXwAAAAEBBmvBJqEFsmUwIZ//+nhACOk3uAKW39XNKeOqZHnQ1\n",
       "8fnlqIYKIvwD883mvV0TJbslArJp7Tgh8SmUgQFgj4cxAAAAJ0GfDkUVLCP/AugUAJ4EqkPbYQBp\n",
       "Vy9xnXOC8gyEcsdoonmjfEvnwQAAABYBny10R/8ABm8LmkL7bKEZwzwSAveBAAAAFgGfL2pH/wAG\n",
       "clB4P1h0LqJBGcEvE48AAABOQZs0SahBbJlMCGf//p4QAAXP4eyACaiTy8i3iVR638XBPXVgs0cM\n",
       "U/tE66dCcJbQ7CeMdM6pbiy9UpbVEr3K9lg0UqU+Iz7EU0C+Cq3QAAAAGUGfUkUVLCP/AugUAJ4E\n",
       "qkZ3Nk1GoAibNsEAAAAQAZ9xdEf/AAZvC5pCspTNPgAAABMBn3NqR/8ABnJQeELXoFXUAu/4AAAA\n",
       "LUGbeEmoQWyZTAhn//6eEAAFz9WbGXsdXqRjwBGSet57ra2TbDzqAl8bSUkhkQAAAB1Bn5ZFFSwj\n",
       "/wLoFACeBNkIZdaKdBKRec02wDlJwAAAACsBn7V0R/8ABm8Loru11iF4JQAXE1Og6Sy7rv8Y6R3V\n",
       "vx8RvDrIZEL3BUvBAAAAJAGft2pH/wAGclB4sypsZQAOBAn/dPpgm3pydGJWthNKIYAIYQAAAExB\n",
       "m7xJqEFsmUwIZ//+nhAAC68y6SPI/wAQdBdY3KDKDKtZJifVqsPrO8C+3b27JkU6IGBpTBJNfJpl\n",
       "qD/AEZdI+JqDLh05mw+iQapAAAAAJEGf2kUVLCP/AugUAJ4E3FLDKv+AcaWidkigAu7sbO4z+JPg\n",
       "oQAAAB4Bn/l0R/8ABm8KqyVdEANDoUSNysepTDxcSpTcWzAAAAAhAZ/7akf/AAZyUHix6yzFGoxA\n",
       "vkY6ADdctK0UhU2c4abBAAAAWUGb4EmoQWyZTAhn//6eEAAF00QJjNkAXeC+6PM0+uH5Jc84i3E2\n",
       "UUX7CiQyDYWFn6Ls+8gz3yGfewfgUwBR7aF/y/EQojeKcpfhSU7RchTBelRBg2MZ3gsRAAAAGkGe\n",
       "HkUVLCP/AugUAJ4Eqgh4NudfNXqwm3DAAAAAGgGePXRH/wAGbwujLukADVpbpGUlCWI+aI/MAAAA\n",
       "GwGeP2pH/wAGclB4P1hY5cgw3cMAATW0YkCzZwAAAGtBmiRJqEFsmUwIZ//+nhAABc8q1wQ1BnRJ\n",
       "LGDDhvGsALlGPnTToGWGwJ71SJOmv7A7h8C5zcfvc06JcrYin2lpYStPvJq49lScxGYypRkAC8hx\n",
       "x7MzwS1qTTH7XsnrMKs7/+CY/8t3IUPb/AAAAC1BnkJFFSwj/wLoFADUQl5nuBErO4B/E6AoACA+\n",
       "YEMRXZg8sFbzT0yM2axv+YEAAAARAZ5hdEf/AAZvC5pCspkU7oAAAAAiAZ5jakf/AAZyUHMzKuH3\n",
       "UAGeuGw47aDrdbeEVdqlyyJgwQAAAKpBmmhJqEFsmUwIZ//+nhAAAues6MgEq3XRqqdIaz10tcg8\n",
       "p5aXs2Sd+MR5oT75Ur/XAB871J7ZH1eDh0+3sirdsXTPtQlq6H2mznQVqiCalMgRjK5Evi+or8RW\n",
       "u+W7mUYk8I3N/xwgiIvbHBio/xJYCHLW+b0Y/gteqAZwMu1G3zWJbqHSut2Qeimx+/jOdoFQdPgc\n",
       "YsHa6MqyP2L8SnL/mCre0ZH3fME+gQAAAEtBnoZFFSwj/wLoFACeBKoIdvM06cruGWoWGnACWoaC\n",
       "sX1TOCXeLogV30xuhwih0PGNlVaP6tfg+4TvD2tl25E1U6gW0BVAsMowlT0AAAAVAZ6ldEf/AAZv\n",
       "C5pC1bp98KtvapBhAAAAJQGep2pH/wAGclBzMyqV/D0HJACFJ5VosxO4ZB6XdxZfgosu6jwAAACX\n",
       "QZqsSahBbJlMCGf//p4QABP/d/A1aALFRW/TbCkAhHps5G8thZJ9p5QtyDqEXaL5791JxNTdPFvO\n",
       "gQPk3LrloEL+yM+FSGaEb2gvgWAqnz8ARRaNRt0sAkEJTTo2MhnPLEaCk9261q/mN8zk5k+4neDW\n",
       "OZk2MabJVvpFtBKDBm1q3iPWD+PRHJNEEydCuHhckOx9NPys5gAAABpBnspFFSwj/wLoFACeBKoI\n",
       "dv5fsyRwu2/Z8QAAABQBnul0R/8ABm8LmkL9TfS6JIJ8wAAAABUBnutqR/8ACjqH6C4Lgx0ZoHZe\n",
       "2cAAAACdQZrwSahBbJlMCGf//p4QAAX1+CJAJVuwNqnFJoQU3k0g4PSrNbmUdY/bxR8z1nafTmcj\n",
       "pqtSuCYtKCgjpONDFTdcq5l+8p1Ek+0ky/lwDwFit2B283msrZj88ScMK1LDYHJeEd1JMm40PiZy\n",
       "1tfSqqpm1HZP8WJSXjFnSX1U71q6Oe2YYD+d91FVawEYdS4y71EUSXwEZeVAF/0KmwAAAClBnw5F\n",
       "FSwj/wLoFACeBKoId+JnJztiP0fIAZhOO/+VEdna3YTFsH21YQAAACIBny10R/8ABm8LmkL7TOra\n",
       "gu87QAfApjlmloYc/qYVmZL/AAAAHAGfL2pH/wAGclBzMytyiqAAtq3Kh7Iy12S5aMAAAABvQZs0\n",
       "SahBbJlMCGf//p4QAALZ7v6sPl6AP3aZQeq2LHA5gJxs4IwGMlVzO4w13VBQbU7+3h2Le4mZlk+O\n",
       "iSEiqn7Huk47F9djqW9Yw6xZ4xnHT2LSAPZTuzVZI36s3W8GN3PLsCluLjqbmB1VfN+QAAAAJkGf\n",
       "UkUVLCP/AugUAJ4Eqgh1LXgejdaHQeCAD9uHemn5xoXtlqSBAAAAFAGfcXRH/wAGbwuaQmti3iw/\n",
       "IcVMAAAAGAGfc2pH/wAGclBzMw78LrWJipQeAGfieAAAAI5Bm3hJqEFsmUwIZ//+nhAAAXP0+sPx\n",
       "rxAaJ+NAgCKxWCIKw+Wcpi3UeIgJ/XIjg2rq0HoNhSEoM+fZYks8qXi1DNo59Q3/6zv+/JDD2On4\n",
       "RRELwYfp3SydKL27diWsO+bjIBhYoZvHlD2gWUctVD37eAeSb2Ap3KQdQx1uS5wjfyFEm56gYqxk\n",
       "aBmeN/mBAAAAJUGflkUVLCP/AugUAJ4Eqgh34sJPHMj4dLUgBJ9EHWubtn8DlsAAAAAhAZ+1dEf/\n",
       "AAZvC5pC/YoHc7cABLbZ/ryqUVSIaM1DgEHxAAAAIQGft2pH/wAGclBzMytXoQhACqCml5mbAHBt\n",
       "Kd0fsy6HcQAAAClBm7xJqEFsmUwIZ//+nhAAAWP3fwbTiIbsAUirvYH+PANyXb3NDe0LgAAAACtB\n",
       "n9pFFSwj/wLoFACeBKoIdUM4pvvpjYaEAIApG7Blz5u1lOpyPUqrITnRAAAAGgGf+XRH/wAGbwua\n",
       "Qv1shEdEOAEqJa+HReAzAAAAEgGf+2pH/wAGclBzMz6oTy0NowAAAKNBm+BJqEFsmUwIX//+jLAA\n",
       "BdtcmgE7cwYnDeYgzdKUnfLsU3HlH22+78jpvFBVW651WaZ+JP6WJdTNIhjda9QGR/bhszU0/cbM\n",
       "Szt5v7DlcZiBzcliGITGPjg73V3KiQ3sZNkGqTtgYGBKzZfRQSHMwrVVddVbiLSHjIswmZlgTwP/\n",
       "g2bHjni29l/L0ij4YQKiI2jy3Yx4mHhvetGotwxIofzBAAAAREGeHkUVLCP/AugUAJ4Eqgh35Gnn\n",
       "9/zQ8oAbaSaC7mFOas8VozwuAO7CSeZItqhXsjNLF5vPYUL2euKkpDBY3/9y/6kgAAAAEQGePXRH\n",
       "/wAGbwuaQrKZFO6AAAAALQGeP2pH/wAGclBzMz/VkuAjSABaqlxDqajFNrZfFbkIXXvxMarvR22U\n",
       "He8mYQAAAK1BmiRJqEFsmUwIX//+jLAACgY2AgN+3KroW1iZP8pxxVrNeAw+NMHioJXP9Ae023tH\n",
       "u9K2ZvQ2Mqv5kxgEWDKkj+P6/Ayj/I3g8iMHpd/tE18ByklbBRqGb0YNr2k8hNrxn39D8ylWG/Q8\n",
       "awutgo1EUC59nprZSFVwIwO/KLa70P7XmGjkMiXwqxSJ2TMH5q5kMGqb+7OlDY5cxnxWi+Gnicuy\n",
       "BYj4uM34hv2+GAAAAD1BnkJFFSwj/wLoFACeBKMrtSAAWA/IHjfMNLd7XSG0q4ulqVBI/DhqSr0O\n",
       "Dwes8cvpeZA4iZTQzHEX+yoxAAAAFQGeYXRH/wAGbwrOENMGYTJ3CW91YAAAAC8BnmNqR/8ABnJP\n",
       "vv7NxvACxC0dleBrPF88Ls7RStBpYFSLy0/YMdkTdMAAJqvmFQAAAJdBmmhJqEFsmUwIX//+jLAC\n",
       "P6y7RnsSQnwAEh62c65T9c7Puny8KtZf1ihazpYTt6WMYhkFTqIajPi+F9k28VWW6CxVf3jZqnOI\n",
       "0hoe058goRqUSVxQTUEMTMBb8GzmU7K0GYpRgMeeHF8abteFFS6Jy3hxy8xPEXd7hJkkk8uYKtBt\n",
       "TJ8D1hogIcqPrgecl9IUH9QUOvnxAAAAMUGehkUVLCP/AugUANRvANhHGcYIQAXTKL3sb1tiBxUB\n",
       "ZlPgtFY0svJOVOIEVVObcocAAAAUAZ6ldEf/AAZvCs5HsyHuXSzuIYEAAAAiAZ6nakf/AAo+bvM+\n",
       "B8k7PaAAmMx8M2k/ApkRDijaWClexAAAAC5BmqlJqEFsmUwIZ//+nhAPvseAEikqT8ex3v9oBMTF\n",
       "LRPd/d6wNoAq+7EMPD7MAAAAdEGazUnhClJlMCGf/p4QABh7jEqgD3UBIE58TDb559i6Aer7GQcx\n",
       "HpktbGqGDM+KJntkuUNL/FaRvzrB/Y1cV+M3m9bAWct9XlXinm/ozO43/s1ClPMnpq9dK3WQS8cD\n",
       "bt/KFq2gF07I8ZP/vi+1DTJbhcnhAAAAI0Ge60U0TCP/AAZy+gneJ9RM5IAWNC+zcxesFvdj6Akz\n",
       "AHPwAAAAIAGfCnRH/wAKOL3Y4/RbALKhIIAM2x3Sf7WvaptslivdAAAAKgGfDGpH/wAKPm7zPgeI\n",
       "j4aAAs7zSyoo9AFy8weX5yyqce0h9sJuza2rwQAAAIdBmxFJqEFomUwIZ//+nhAAAtVBwm1zwIQC\n",
       "AB1eGmbpNXgaa6+m23uKj5V73NMBbsjcTcjiO0tIiVVMjGfdnBqzXziUERgqJnGoMqP35UcgWdvS\n",
       "CGVQjJ0Pu+RGxBN5zh32LtuXfjQKHv5aIZgpRanV+td4yCHLYHV7CqfsDWIPrhLy9Nf8N+cAAAAy\n",
       "QZ8vRREsI/8AA/m5CA3ggARAqb+PD1aPUDVpOPjtCsCI9okC9bJnNeNSn/TaF+iGFD8AAAATAZ9O\n",
       "dEf/AAZvCsoQMgxcWTgQoAAAABsBn1BqR/8ABnJPv7TpAAQq0TrtElxvls6olYwAAABgQZtVSahB\n",
       "bJlMCGf//p4QABfXrLkBvvzVwaHyw/LTh4e50urVf0dTz8fJzYbn1AsISyg2xNX4PgR57UlluDy9\n",
       "4lV/ZIdE2GluZma6/34zpViLc/kH/eqRVtxTjIu5PC2vAAAAGEGfc0UVLCP/AAP5uRy38+irw929\n",
       "P87PgAAAABsBn5J0R/8ABm8Kzkh2Mcl2IAPmsPOWvY1reDwAAAAhAZ+Uakf/AAZyT7+GGawcAAhT\n",
       "2LP+kNBi+Rm338eAVPeBAAAArUGbmUmoQWyZTAhn//6eEAEdb8co20QqyS4/0jgBL+xK82v6b4v7\n",
       "6G5BymSRB8Flz73p+rgjt3kLcaCLOULSoxwuIiJvQP1LNB/g1oYXNKDC8mw3TVAr0wMW1afKfkj5\n",
       "YPXLhHKIPhKifkth3sns+4Xm0pkf17iv+WksNIlsjudyIXBNusfVq87Lho5OlwP7Z14F8OjB7quD\n",
       "Ho9lLwVvpG03NPCw9+TQH40XmsfAAAAAS0Gft0UVLCP/AAP5uRy+qbXCUAC4btfiKtYlrqXE2bRW\n",
       "wrwtxZnT7zo0sFv+NdN+yW1YhBppVV/6dLr2EyqDVOO2f1MbO0SdJvnNEQAAABMBn9Z0R/8ABm8L\n",
       "cylLJzZUlQ4fAAAALwGf2GpH/wAGclB4/EFbjYQJMfoAVVWPHNI+lapSbnTg6nsTR2++Jhy1Q+oX\n",
       "jOJAAAAAsEGb3UmoQWyZTAhn//6eEAAFI938MW9L70yQDCw7GkW7gJDjMFNZQd3sa1ir5dz8vLDU\n",
       "SdHmQjBHP0Bm7LZyHb5EbT9aYeqv7kXv0VDpWjl1gVDDWB1QK0VsDJkDtsA1padEOYgv/wmF4yFa\n",
       "8Pb/vZMji8HsR3IAOTI3E39UAGrt+B79ja8k2y3SmHN1r28m7pRdzUGj4jm2dkxiRfoDfv3TPKgU\n",
       "cvVTP0wUc6F/76uhAAAAVEGf+0UVLCP/AAP5uSOhYpV+gMNFz8sPsjvubABwa2cfuMIuN+BMWk8e\n",
       "XEBuEOQ5XlGa7tYqcr5xxJzmQqlZ/GrPjk32amlUwEbZSX54Gupa6NWBgAAAAC8Bnhp0R/8ABm8L\n",
       "okW3Wo3dqLLaUwAS2SI0fHcny3v/9W+ZNcxEA05b2JQNRQ3ZdQAAABEBnhxqR/8ABnJPvbt27DEk\n",
       "uwAAAI5BmgFJqEFsmUwIZ//+nhAAE9xi9UxdIQ7KmgutgU3fzBtHsSN7ShD8Q/tDr4e8gIjTiGQA\n",
       "mYf0t5o1SVWTrJGxBY00qVN8j0ZBM9fvJBdsSKD/GSgxeKhJ20yGSfOfvRkFLzdvhAByPNEjTaxt\n",
       "C5HXmQTr62/BuyZl76eltDrP9pH1lm7yqSS5hgjPGtE6AAAAK0GeP0UVLCP/AAP5uSKmUtqaY6Hc\n",
       "xAB5VVvxUdUq7VfhTF2Ue2hlwtyfzZMAAAAUAZ5edEf/AAZvCstaCNNuFtMdwoEAAAATAZ5Aakf/\n",
       "AAZyT75QqK3RuTYx4AAAAHtBmkVJqEFsmUwIZ//+nhAACe4xegHZu8hVZwQueNAE6Obhom4vicj9\n",
       "V1I+2lmuppJ0fp41tJJjj6zdzzy6xKafWF/YXmQdXrar9Eujj4H60dE9uyBQn/I1V1FN/YkmYU0g\n",
       "94rv/Dn/a4Eb/yQOoTpFZ+MswzxZYBuI9OMAAAAeQZ5jRRUsI/8AA/m5EIhJCMwaAD7ZS1LJ/7en\n",
       "lZHXAAAADwGegnRH/wAGbwqN09qHwQAAABEBnoRqR/8ABnJPoHhDJ+BBFwAAAIlBmolJqEFsmUwI\n",
       "X//+jLAACcNuSb0ZEADh8UsgwvNl4YE9qOSU6xhqv4aWpduMgNfGC5cvhcdmEFHaNHxrI9QBfJ6+\n",
       "pU+bXRh5RuXZB/Ht2xX/aV7ZCwfHnXeoRjMwUwNqWZucQz+i3kP8GJaQezBTZr3BSS00OKoDiOpF\n",
       "UyPsk23Pvc41YW8cwQAAADpBnqdFFSwj/wAD+bkihjvzelVadf2BLC2LACvDoyRYgA/5c/KB4svf\n",
       "J7Zoa6uYOXUoWhUJvhFJ0TL/AAAADwGexnRH/wAGbwqN09qHwAAAAA8BnshqR/8ABnJPh2YPw0AA\n",
       "AACiQZrNSahBbJlMCF///oywABioZ4wAZCN/WWCqg13MZQalB8hMr49adVKHSmVgVhNhUql2S5wr\n",
       "Mmk42X8XY64ZIMrAFqglDkw5Yraz6LKBYvkLMBwXChYI+qPJPm15FADJKZnffsBF1UpRzNtPwf/5\n",
       "/NLbXaPk5++KKlDvWgKvhWLxWd1C/gLEDPOjZLZBdEwV4TbkBHfQHFAp+bFOuORjxA2BAAAAQEGe\n",
       "60UVLCP/AAP5uSKc6IgDSfisNJqi1DO1I3xBkinu5dnB4WAaEVyqMXQMZ2Oz9y7kp26g0yyP/Yse\n",
       "UVdOB4AAAAAtAZ8KdEf/AAZvC6K6sM5kaw2dhkzLeQAAcq+bWpsmotjFBjVl7Cz/6ybWvMdrAAAA\n",
       "HwGfDGpH/wAGclB4QtTuj94KADQ2q8dSIVhJWTV4GA0AAACmQZsRSahBbJlMCF///oywAJQW17AC\n",
       "dHX/VWnKEUv2FfwSH2jU/QFJ1k5ClZh2uHAECnnY65WXJNUhcNdIfsj0Zoa+lnzKtE/5QssKdlcU\n",
       "lIVU2vzwLZdECgdq6v6kGXiOC86gE2f2EfyFL9007L6VTAEaGuY8xU2BPgq1UX4V2SymLCfFl1LE\n",
       "SYsQ0BEOaFglHb9aGg9aTI8Ca5I9JmjQnbAg0hfH+QAAACZBny9FFSwj/wAD+bkDoYafRkAFtxeS\n",
       "pfG68jLi3SX7ts9cV1c/jQAAAA8Bn050R/8ABm8KjdPah8AAAAAPAZ9Qakf/AAZyT4dmD8NAAAAA\n",
       "OkGbUkmoQWyZTAhf//6MsAEgJPdAK4fRcafYHBIJbawwxmHfaW0AnEXFE4zY6UclF7VrpU7A5nVC\n",
       "YVcAAACdQZt2SeEKUmUwIX/+jLABICNwEAzQVTwsdfOGBloXemssmqeTuwDmFSPA6lVHDWaCoBJS\n",
       "OucHWR3VWVf4SFnYV6/RrSy8bUFORzcMUfADMaicZ5tnbuzveyTDw5rSAEGcdiwHsK1lRl3nGDgl\n",
       "O7t3MVD0mYDV1O16J5zuOjqU+WZc3LqXIzML+BnTkIYF+MTsQrqup6gVvwFYhFrGngAAAB1Bn5RF\n",
       "NEwj/wAD+W2hrdD/f1ABOt/serydwtuz0AAAABEBn7N0R/8ABm8KqerlaYONvQAAAA8Bn7VqR/8A\n",
       "BnJPh2YPw0AAAAClQZu3SahBaJlMCGf//p4QAsXMv/Trp4A3Y6e2Orl3QLgy9R5A6SxOO//2O9je\n",
       "HAmM+RVoiOl3f8GpnGH/4ULA3npx4NuGxP3aS4YS7TxjXjZHLxTia0veHOmKnAPq7EGU89o8joHk\n",
       "GeZ8kkE2bbPluIv2pWb3mBJQrWwCHV6hsgjX3izrjfcWFtmMhwXG6RjzrlZn8WlUe2atjhUefgOI\n",
       "nuzsWQ1pAAAAa0Gb20nhClJlMCGf/p4QAsHqzeuuwEAfuO2hg8Br3tb5TGuyjRAA4KVk8ZqKIuE9\n",
       "gUOpeIIQ+z+5ThnQpBKTnqe7tp/hIWfWX7KJEzdz6MdgCs/7zvEXuPYnQxpUyA5BPT5X+6VESr71\n",
       "rZYVAAAAG0Gf+UU0TCP/AA3PjIrbkk6pP5S+RZtItLkv8AAAABUBnhh0R/8ABm8Lfq1fPpnQRCak\n",
       "wSEAAAARAZ4aakf/AAZyT/NGPo6hXcAAAAC6QZofSahBaJlMCGf//p4QAm3xY929K5rfNsG0/XJm\n",
       "p2LT8E558wBO5KKotpg++vrB/umzZylNLqYA8US3ytLPwvxeK9f6PTivQQ7KVkzW7rA4b5sJD7Ya\n",
       "A8Lj9LcwEp/8+a8gpsp5fBTSIsE2QKRRDzJ/jS5lyYBRJ9kF17sBIAwoI2PvK95MA12Q8lQAwNiX\n",
       "xEpVSI1Yd/cfDlJicauZVUKNMMJY/dIGMkIPATC2LODOq4zzfRcNosoFAAAAJ0GePUURLCP/AMkW\n",
       "c5ARkuTcfskJDE8aIfF8GfQZgtiNoTZoX4dYtwAAAB4Bnlx0R/8AFizApm0VYyY1Fcg6SABCreOf\n",
       "UQJ6GdAAAAAzAZ5eakf/ALYQRtRT0J0mYcs0b/Tz61UiqJHMblpkIx963AAEDwWs3EeSRM1+aBnU\n",
       "Rq94AAAAkkGaQ0moQWyZTAhn//6eEAAo3qzQY7++w2neuZt+5GpBUx4jdjgvmOdLa2wlMtRGZgA5\n",
       "wIiPoVjc/kcMg8py7DTHyH/UPa0k5VvQPThXgetgA9JrRAVhpGQ8WedlEqKc4EbhWcqx96bKGZmv\n",
       "dwt9ara4WVXuaXchJcZ/NmrFdwDabY9tEzsaH+IH8Q2oI26xlIuhAAAALkGeYUUVLCP/AA0xUMxo\n",
       "Kk5Wfb5bcmwAEtyc/gq9NtDq2o+xN51WkmijtWqjwQ0AAAASAZ6AdEf/ABUBdRXdcDKXxjEjAAAA\n",
       "IQGegmpH/wAKgodMuQfRa9+2IACutR7C9v1J4u352CHZMAAAAKBBmodJqEFsmUwIZ//+nhAAJcbm\n",
       "XygFc4ZeGqdhd2+7k5nhDBkeWxnHG/jsrKS7cYyOzCnW/U5qZWWx7avTgWHGtdF7BAZhF8auE+IT\n",
       "75RG3rYy2b1H0pT7ROlKBcdgd5dJwmuH35VYMGkFJipa7//6I+H1uIujp3YHx3gT27dW35CDGGI+\n",
       "OiIAH8BKE9ANhvugEC0cHFCCDbUC5tHqV/aBAAAAPEGepUUVLCP/AAP5uR4G6Wd4xlSdDy25bCIv\n",
       "SIAPLnVXx53Ttov1swnuFzJw/g9BhQMbaQfiRlXDVT9JpQAAABwBnsR0R/8ABm8KqgfssJAASm0T\n",
       "ZgLk5Jkr8lhhAAAAHgGexmpH/wAGclB4sylLgpT/KxoASzXYxox6n4yZQQAAALBBmstJqEFsmUwI\n",
       "Z//+nhAAkrltkAGj/0yUcR2UH2PRqQARJO/40yklhebq70FFocaRl7wOGF+i2e4qUAIOD6DTaZuJ\n",
       "tNG97vBmGUOindLNpj9cJ9dDbxU7wJuY/nmFlVXuV/3h7bouBPQUD4Ob8YGSD7K7yL79pJAvGTwb\n",
       "fkD3Dwbmt1SHAP+iW8Sy1sAPUJWD3JpXhoysoznv5HlmwTcHlRd5+aDqjLBzVTALu1KsFgAAAE5B\n",
       "nulFFSwj/wAD+bkipmipvTtvDh8aTU87F/AAtH478ae2yNz0Jy+0sAFeh4mdUeHN5Rlu8jaf4tf6\n",
       "UNpTktXcwgE8rG0NCr4vWHdO54AAAAAUAZ8IdEf/AAZvC6JC+Wyf9WlyDbUAAAArAZ8Kakf/AAZy\n",
       "UHj8aQh83sqpxd9YALiw6DnOorZ1csZg/SVGzDcoKOfwvAAAAMlBmw9JqEFsmUwIZ//+nhAAS1IG\n",
       "0/fFhRK2As1ev430B0CU7cuplvZyS3MNIBBMc3lVRMU2Y9g/Sg7218w3R+h/iAKKeATJqfNFNBQg\n",
       "aV/FL5L1QFGYt/ISfypiv6PY/Q2/f5LZp85wlb/aXg5iLKpuW9+S8klBgP3z5IbWoEruxbTG1D+o\n",
       "3Vmibv48YXxljp1QlsAVyxKBhvEUIndccL0EKWzMd93tC8EFTLjmhN+lXbTKIwQXgDlUApG9C9lq\n",
       "xX+t536xn//wZSAAAABdQZ8tRRUsI/8AA/m5Iouqge47Oin+EtrMSfF4eABED1yNWMER0/TtF86Y\n",
       "jPrrRPgEAEoJsf1whPg+oPwQOhp3jvKLlw8IxcjtGvLRgip2y6NN2hOmS64vbHurudbRAAAAKgGf\n",
       "THRH/wAGbwqrORpAB++xu/iHuUOAoTOOUjQ2cb+Y7oY2u7waVM//2QAAAEMBn05qR/8ABnJPvbt3\n",
       "VQfSAA1LRX9zt04rBCC5BKWNYP7ozKHb8FJn8ZnvGrOOiMbctuLi6I7EoyV/Ev/3ptZbfJB5AAAA\n",
       "7EGbU0moQWyZTAhn//6eEACSlidyAZoQTHFbpbAVT3ix5z3vg3aSiawTrK+F8Wc6GVVqtIzLlJez\n",
       "LVNUmFpGtJojJhywK2+qRjF5+DGMotf/SYQ2aAdd6d9qFiVSBv65iJSB/SFMahE25fGxzgpUcNfo\n",
       "bHwS8/ayP/CA8ie6yRO7LQQfcnVcXFDDEwuDeDYL9PCWgQajed2xoLlsTLzamMkNaql8VP/HC/y+\n",
       "3N3SfNBECBPU9QtJ86V8TJprXEKRCwj6gDgm0bjsZcKP46ZBfkrcvq3vrIE6umABLMsjYqgS2auC\n",
       "ThBNMniOjzgjAAAAVUGfcUUVLCP/AAP5uiF1xwWNI1+W+gAlqUXTscduXhQkieB7VYB/FaKsIMtr\n",
       "Rijcw/Cb5LEAEIKTVQMYiFmEyB4JHSmlbhQudNKlXPHItsZH1ZXE674AAABGAZ+QdEf/AAZvCs5K\n",
       "j8AVvxZQTzUWYwSrWk4eyTGVlORNroycQfWOpjJ5vjQWtIk9FyA7ju6YTjn34bEZLhCgYvVXOC/r\n",
       "mQAAACkBn5JqR/8ABnJPv/XaABrfXFQBmo66Ofvk9b88n4VdaXgB44w1qi93QAAAAHxBm5dJqEFs\n",
       "mUwIZ//+nhAAAueRZAGjwivcPUbfdU3JtCypWLoIEw080Kg3riX+jeI5/92ENNOVVPu245Auvu07\n",
       "1ydvWa4aXxRBOkBzjEhuz9cJi+kpJcapYEjlQ7dTbV5QqljdY9tgdv3rpANd4YBoUF/WS1u5NDEo\n",
       "rmvQAAAAGEGftUUVLCP/AAP5uiLKOQDqPt5iTebjBwAAABIBn9R0R/8ABm8Kzkh2MyYVlXAAAAAb\n",
       "AZ/Wakf/AAZyT7+14gAED2nfYByGkS+JKIWBAAAAM0Gb20moQWyZTAhn//6eEAAE90daAP3G+The\n",
       "u+9RuE73iZkYXrxgx3W7mhJNq2ghy6WSwQAAABdBn/lFFSwj/wAD+bkHU6q/b2JLpO7+2AAAABIB\n",
       "nhh0R/8ABm8KyGphDdloskcAAAASAZ4aakf/AAZyT7uwys8ctWDjAAAAdEGaH0moQWyZTAhn//6e\n",
       "EAEddu/KAP3diTakbcjl/AeQ077EphHyhv7TAcVzX2tH2KUevG4Udoc8lX19TeqJOeB+/BnLcYmk\n",
       "c9TcwSv1byrOM2si8EnUTN7lQDXrFk7Bqdr3MLU4l7IFaPGT4dX5WTwWPJhBAAAAIUGePUUVLCP/\n",
       "AAP5uQgDykgAJQBwqTymT54+czIMwSLBnwAAABgBnlx0R/8ABm8Kzi853SscQl584R08LAwAAAAW\n",
       "AZ5eakf/AAZyT7+S6LApJbHOgBYJjAAAAIFBmkNJqEFsmUwIZ//+nhAAJpt/pnasHm9vACYdPlhp\n",
       "ntcqgUFzKc/QteT/Bo4DvMJwsQU24qcb7aVfy1JnCz/o2v6ofBFG6l6PBoIPvMPwGa54551VEzUH\n",
       "sAkyQylLt6fPQT+wFtJEL5Zg2fCYWSY8nuuKYSH+7rBr77LMNqU/uekAAAAlQZ5hRRUsI/8AA/m5\n",
       "B+TFYUFj0UyP7WiBfQAjPgv3/LaWjI9mXAAAABcBnoB0R/8ABm8KykatNazlUeBjwdjtqQAAABwB\n",
       "noJqR/8ABnJPv85dEAHxlx1iaNBYVHwqoUf0AAAAuEGah0moQWyZTAhn//6eEAAFI938FHVlZcKM\n",
       "u4cAXu1ibpJEViaZa0SVfhCdG0TLI/X8rUHJAn3zURBU0FWJ1zUgjxdxRYJcCCC+DHpcGgwCqY03\n",
       "Gsz/+NgWl5s3kY4yqNsARna8eOatHf+N6zESXAoIsmun4mTE8XeOn1Shi9PlCfRl8iaAcGeIAvuD\n",
       "LNrEUW6eZxhUrnBkKU5Af0PHSEHewMZEzc1CFGYu1t4T54YbOA5lH1DK/MEAAABPQZ6lRRUsI/8A\n",
       "A/m5CANeYAIvuK0bU9L7WXpYTi720W7eernAQaI9SroWEa3TmVEkwUgt47IFOBE8O7MP3/E4peTr\n",
       "iFxr+6W3f/H4d3gWMQAAACkBnsR0R/8ABm8KzTEK708ALI/HIwcO7CL+4lizHnIu7vqu8wJtmDG7\n",
       "DwAAACEBnsZqR/8ABnJQXWZbmyhAB2rp1W0cHNHRyFAZRMWuPjEAAABFQZrLSahBbJlMCGf//p4Q\n",
       "AAFj938HwYpoAVe1/N/QwbiSQYCE2rkilmOCAFhDgb2NuIkRLqHJP8sSjiX38XTn4QuTuTQ2AAAA\n",
       "IUGe6UUVLCP/AAP5uQepJHy/DbYwAs63Ix1AFEDKxBFYwAAAABUBnwh0R/8ABm8Ky1oL5a8YEo2f\n",
       "6XEAAAAtAZ8Kakf/AAZyT6H8ngAFZtrhbZmX2Il3YxR/GXVTWO9RiZMKHV1LF0tisv/PAAAAP0Gb\n",
       "D0moQWyZTAhn//6eEAAJqW/8oA/d2IIG0p1n6tOdUCEPDaO1OLnmtigwBJ9oixSLwZa6GrUg10AV\n",
       "722OIAAAABtBny1FFSwj/wAD+bkct/PdZ25sFOYR/ZZkBpkAAAAQAZ9MdEf/AAZvCqsjynR1PwAA\n",
       "ABYBn05qR/8ABnJPvmzD1TQAEKlfUSqZAAAAjEGbU0moQWyZTAhf//6MsAAKBjYCA38HgtSZ38q4\n",
       "subJNDigC28FdjNhf61UMPAUS1p4TdQq2KND8KEAMABUI192na6stVYemGTkhxzRXDtzaxxRgSHy\n",
       "wyCh40aZCnOL1HJlhzUPMGP5Ty1MgpPIYw8luUTbSuAVGKnJTr1tfqTyJrf/9jOo1h/oY2WAAAAA\n",
       "M0GfcUUVLCP/AAP5uRy+qbTk8+gABAB4qYPnxixkr8s0S2snXiMd/MQPmXeSaRn3T7/dgAAAABsB\n",
       "n5B0R/8ABm8LcylN5zbnGaz6ADWtZt6VA9MAAAAPAZ+Sakf/AAZyT4dmD8NAAAAAoUGbl0moQWyZ\n",
       "TAhf//6MsAABbWkMS/dy9VbHAQATqcwU2ky1N88CIxiw/imLKgFoiH+B5FYReCYNvVYDJNx84dIt\n",
       "l66uCEFCgM/xaS4sSJOYxBBgU0loU/p1HUhVs5JqsYH48hr6v59aF2P2hxIJYvLqf4aX1IqL8LAB\n",
       "dHGtQ6Gb5Jl7nRb7jBCAWwsHmFGzVGm5rCWv6Ll/hVXiR4t5GPnAAAAAM0GftUUVLCP/AAP5uQgN\n",
       "YYAFqqcfZGSqJogqc3MwNvWRqURwRLHeXHM6Fo9Zb71hLXq6sQAAACQBn9R0R/8ABm8KzkqPwBEh\n",
       "AlU51bRsapAULRwp355+quRXoyYAAAAjAZ/Wakf/AAZyT7sNbf33oiADtGxu4sAKTNu30Vw+b8Od\n",
       "AasAAACYQZvbSahBbJlMCF///oywASAmXAANMXnMmvHgEfg5br5qP4HY+OfpIp9asJ4FytOQcDHJ\n",
       "EwofEH27HnNU4W4RftBjgCvBrLdwha96qIuE5RU7VOVBdcVcxEYp75QcYBHWFPYapMt5ULvH97iz\n",
       "qtqjBMdQCikOyuIi8dceBbxjl2yY2FFZgnQ5um5dJ+OSWIxoPeJyEFy9BCkAAAAhQZ/5RRUsI/8A\n",
       "A/m5CALEOzoJ6nQAALBgAoRAACbHx3jwAAAAEQGeGHRH/wAGbwrMLuiG92vhAAAAEwGeGmpH/wAG\n",
       "ck+7DW34wYvEQiMAAABpQZocSahBbJlMCGf//p4QAAvr1lyARjb0rSqPr/f3ihe3nu/TlL5TOdH0\n",
       "+p+Rr0gqavKy4vJT408p5VicRoMdN4/rsO8uOkf1tbrVXuCK4zG3M/YUw8M+r/cK4gLnEv++DgV0\n",
       "tOL/SxwpAAAAikGaIEnhClJlMCF//oywAAwEPzdALESF2kCtDO9kod2wHeq6bvzXfYkJcvSlwXNT\n",
       "/9KgaxzlqaQ5VsD+Rytq1lxqz/eU7AkhRS+/64TtdgloJ/OroX480hEePaUba7EqHJTzriwVGkvF\n",
       "hoPUUcoeXTH8qmgaDK+rU0HJN9GZXGk4NrkDWCJKrwI7KQAAAClBnl5FNEwj/wAD+W2kBvyIATGz\n",
       "taG7O26yXdTct+ZkeFJ4nM9vKzI4MAAAABEBnn10R/8ABm8Kx+XFUfJ8ugAAABMBnn9qR/8ABnJP\n",
       "uw1tygcP1lINAAAAb0GaZEmoQWiZTAhf//6MsAI/lJ4AzgCAZoR3rfPtdxrRR1BhNbzBevzyumBm\n",
       "LxXQUh1kdH/VnriDDL9aCwvcprRRUFm2xDt2xh6cejq8WNWSUJTyQNRtBURC3xmwxot5jrjhjH3/\n",
       "KCed9HIS+tKdwAAAACFBnoJFESwj/wAD+bkICZshDNOTofReJACV1LLqAX3bGoEAAAAaAZ6hdEf/\n",
       "AAZvCs5KuiAEn26Y0F2Py2WMS28AAAAcAZ6jakf/AAZyT7/OrYABLbsu2FWtWkEbs23l+wAAAHhB\n",
       "mqZJqEFsmUwUTDP//p4QAAUbMU1I2atXMBD4E4sFPHlWppSFw9h0D+y0N2K2w4+U+82pY1xF01l4\n",
       "q0ch/iXfzhroPCY3cH8aW7fBfOnJyg7BmvitObFxLANb1hCLWoMsE6VeKCUourgnqIqGb5wX7Jup\n",
       "FhG+CYEAAAAYAZ7Fakf/AAZzyHOGPGwjGgBLNcC2QlCxAAAAXkGayknhClJlMCGf/p4QAjqplkAV\n",
       "YhViEQThBHg0ubfa8dDrcYe/ijYf1W9olOwL7/s8Hw7VyslgA8EK+TEz/tkjd1tknFhbZ6SdfDLp\n",
       "+Pr6dq4ysGRMo5Xv+E5ZP6UAAAAWQZ7oRTRMI/8AA/ltsU3YG1DZwxsPwAAAABcBnwd0R/8ABm8K\n",
       "zhCafiiAAE1v3FF9EAAAABABnwlqR/8ABnJPoShUWgk/AAAAhUGbDkmoQWiZTAhn//6eEAAJ8Dzv\n",
       "xSaQWtBAJWTM9vv8ToEFfK+2ECPsfAAyYuU6huqf7nAR8SF8yGd+EaAfQYjahjvObX1Hsb9zUwqg\n",
       "coKJrXUxw/fLz1ucrjCUCtdZmeTGv1oBIN1e8v6X2S+uu4yTMh3aEQ7JbiP6wIbIYapZohACsW4A\n",
       "AAAsQZ8sRREsI/8AA/m5CAOERACShmT/LJzOAV3D60r+4UhmOU0GUHBcKhKE8GAAAAAPAZ9LdEf/\n",
       "AAZvCo3T2ofBAAAAEgGfTWpH/wAGck+/sLcbkSekjQAAALRBm1JJqEFsmUwIZ//+nhAABSPd/DFv\n",
       "TYslFdp1+WYCfiZEtTJX8eRbjDj5eTpiqRs7mVEYcfut778rUHh24xjWoGdzUskL2esT/7jD+m+b\n",
       "ltfYhv+O64tJGzXzrjrMV5FuRKhvAA58MDhgTKqs7xmOm0XlxQxx7IdonhquAkkNponR8mjcPJ6q\n",
       "jHt375Wi58qw4TZAWlMSW7FgObp1Jx9mGActzct/diI4l+rcvQoSErvqQDEAAABFQZ9wRRUsI/8A\n",
       "A/m5B+aYqPbb6AIgBXmI/AOYq657AUwTBfJHh8BlJXUqYPSl9Zd/PsL3ULwKEZOhgmaa/jK3pY+P\n",
       "z6orAAAAHwGfj3RH/wAGbwrNM600gAJrC4VKiaD1RnK5Vh+dsPAAAAAqAZ+Rakf/AAZyT6F/l1So\n",
       "ACVwlKO9hFWyprWXwDEnEZZCuXF6L+fXv0DVAAAAsEGblkmoQWyZTAhn//6eEAAL68jiARziygFB\n",
       "89HzZQXmhyVy7hO0PZ6bydipiaFO3mOlkKvocPy2nT3qizqSDYt2/IALlqe7oqdjeF4YcCtFK1zh\n",
       "9KBfxh2/wSh08BLF+13nDi8vYRVjeo20fCVx73Ezo8E+IGTH2h2MrJnnuZ1DHDeSSciCgr7Z9HqL\n",
       "TCuU1/EQZU3dPcWviYi89viNykxMYuzWsC5Frks36bODLDdgAAAALUGftEUVLCP/AAP5ufmCODh2\n",
       "7HLIScHYAf2oDr//JUZWVmGhBcZTj2xZlReDtgAAACQBn9N0R/8ABm8KzEiOc1HLkAEtWGZhYd0d\n",
       "jje7tTFJpfVVWGkAAAAXAZ/Vakf/AAZyVoZnOcDQfPLwCCAPKsAAAAApQZvZSahBbJlMCP/8hAAA\n",
       "KfCOAANWk+/Tl+10be/gaeWjzcMX2TPpJ8EAAAA6QZ/4QhH/AAP5ugk6U4TzPvuYABLVsMUUfgON\n",
       "9GjyDwZLdZd0S8LuqvX4ZNOPjt6v3MZ881lqX3vZqQAAABUBnhdpEf8ABm8TA15w6NmYjTcsB8AA\n",
       "AA3eZYiCAA///vdonwKbWkN6gOSVxSXbT4H/q2dwfI/pAwAAAwAArqxz6KZIGF3rxgACbsACFnch\n",
       "gn/AAlvz0ZE2ZpljS76UmgifAv6mOZPzg1SyRYs/1yQlJffrdsyGaA4HdCO70hdwv76kRwjTbe4f\n",
       "+ylwdwGKXL6+OzsOQfIgedta36gNL399u2qN7lMYFaESFX6w8aNYSyEX+NsEVzu1I5XoEmDo4Kcx\n",
       "mTr+pGZYZM3vwz2GJ1rGlCQe/QkUDeU0DV3tswBnuGR89j/m2z8C8vEtcKBSec2UXrNBMSuXNQpr\n",
       "iI3zyxg2ktnKNQ2e50JuS4yRMRQcFcqq7Mzwqr+mj3k9/ldnkQXwQGmBQtyYjaOLwYJHZImEojqm\n",
       "0FJCaQ5731KdCi9/68KJqedIxXgbS51yF7qYJNqM2mJeJfLqWMJGSEhPJn3ef9KfZPVWBC2PnDR/\n",
       "jT+Iqv0kRYzn/RQYppFewZom56S7bcdyx62nWOL+voLGiu0ocB6DozcJstrvuNSatn8627aVjt6s\n",
       "FPOdWwX+a83k+1ZtICZujqetewjmzgFxUkYJOkUuhAgcUUnQhOANis63IeByyhyXBPJMfv4C3y8v\n",
       "9g7QOdfzJXVk8lCOvmmpbIXwhwohqG45BNSKujzDDiEJB+qM06XTD5apVoH7EvB5hkD8b/6rK8ki\n",
       "9pgXU3uNIyMsCsTGUeegUUGRceXsFEqSNQgqNnprHQ9DSRTArkL7D7InUGTGkQFZtucjQeAKfimK\n",
       "fUzB0pqBWg79u1Y5daYLYV5d7fImMCT9y/Vse2nJgmnPHQSRNEsANrWnufkCh2a+lkzNuTZeszRo\n",
       "MhC9pm7gxZiELQ0UevthljH/20uFYAfiN2jiF9ipT9DfY8ssj5CNXRDCLW6sGtRkFs5atKf3u90D\n",
       "Dj98VZ0Mzpr4SXkrklG04RL5F4PAoKoemxPpQWSJRyZwoa27sWavqv1MoER6pN/OnsO3Gz/C2CRF\n",
       "N0jCSroEFvPwXt1C6D+ez+M1/JMIHiHhH/9XYgsaNjpwWEoFjXa8emrYzLQpIDXyfXBc+IVd44tp\n",
       "7AQRoRKJim//miZSnl8B7Tqm/QD25YfzFOL+IoCjlx43kzEzxrjEvv42204ZWsZDSnIBJvudq9aw\n",
       "gl2bWHaWbz4KvJ3p7gsJlS8BqwQ1xqEC8URX3e4m7iKXtVuCJGc1r7djJdEoJT3y3xp3tKIslf5y\n",
       "lCfudDPZ8HoFvsuWuEIQ+pHXq8SGSUbFE+0HcUoycYyVmVOvJKw3VDVhXkEqoYYYmXpShRznp9SV\n",
       "nbcrXXU7bEYAkm2gn6UU9ak0vD4OEPVJxnZc6btKylgMQgSK7NdSS+txlird9a4jIETqJsAlshse\n",
       "ba59lemQe1EHzEeGZgGgXG/+fxC6BwUZX5On6mCDRtknnaGUHoW6g7L8/4FjJoocgWF583TRSIK5\n",
       "VKjg2ajL+SVi7Owj1Sgw1DxpRgC12m+dk32HphGr/LIlLjkrdX82FA38EU22mf/zJ3btLdetayQc\n",
       "RSDXMpaoIu2k1SGHcGknzymP3DBEUyaJSfxmHhm1edyOOk7RU470wh9WBfN8nSZBbSLWGjItFFfT\n",
       "i3vKcB1XgimF0uNOla3LvZxikkUHIGyc2nkr9CI8QjoTkyuMjpnYNeVNaQgsVPqdVMKKotwj2nWG\n",
       "LKhzzVY1pHS7CL/iQrPjFCa48LX6oun6PN0V54FtqcLZr0dtaL3eBiFj+vdzN//zvfHVUTLNoTzp\n",
       "7yGUUYqAz+jKBTjqTzbsyBRDVAIzDVgJVfphk2NQfYixY666C/26L2v9g/fCIH5SNLvgrE3LUhqD\n",
       "+Hm1uy5YC2JKnGyirqFPdzI7SNJPGQki/N2NqrPPS6FHJpx6ggalOpKzXftd0Yzd/OA/QugNGuoZ\n",
       "jPGPKwjiKd4rsxw6Pmxs+IEEp26snkI8GZR+n1NsOO0EXmUaURNq+yFXoHkr05rx/ZjdMn/wU+bi\n",
       "r+kBhftZrUHsWO8x3ifhRQyKxNZK7g8G3vMjWWztInlu2V/NoyrgPLFkf2JP0H7JHahX6oBN4D6s\n",
       "5VHPSgQWFz58NBv5e3+9cdIL95KYxOf3Y2dThejUMSXtziDv5htg0CHrE4QSslsk4HCN1uuGz1Tn\n",
       "5AacJP4zgIZqRpro8cky0Fzz2Asi+55UgBCnkOkMDclJ8M+HeRf+M9MBnp7yNN5w87whG7JNqXq/\n",
       "CSwwhsxui141CaaZrVq5Wb5e5V8M9PgyhA/NlcokbPR5r2xtybe6sifQ1dRTbEbA0/SkG7Pnk3lj\n",
       "2aqCfz0qqqAEoEKcFDfJoP0bJybiOYjYEoAz4FxdpkC9kXhMH8W65SDKdy+XH+ldDPwO61Q/up+3\n",
       "PERYVCZmUz8WjI7rmdurflqoJn8JW2//CaZobNTZvacfSoY25GnNCtmHzj11vvpej12alovE4PUd\n",
       "jUVWuUr42jcXyZ3qXxhI4xnZrcqGh/R0NLrCJijztS84+BC80C+0aE0xjtb3jH/f791Vro9JPvCs\n",
       "Nee7FrE2QvvC/BFnzo+5HoVT42U5D+e5c7ijFxgiCxXGEioxT6Ib52G/AHSJ1vcQnZsP4QTkfoHJ\n",
       "gUjsVd4ICRBN2IjhvQorGNOfJQlpdsKjuEPUntVR3ZG5z043BmDeMwg6oIn7U3URSIvKW9jC/vgk\n",
       "2W7Lyz/TdmVV03UeZ7rw+RqQTaXEeqcjMMD+fLpLWwZR4lYfqFP3N2v9s1yvs9wWxnG5PGrkkiFD\n",
       "ghhSrlpET3yL5hOgCryY5Jp/IK4SM0X9sY4gj+ACtgKsD/Y7BkOF7wGtGl2Ru2Xom3kNPZi361hd\n",
       "qQ3YQkcIIFIOTzZhoJAfAgswX6yvFov9vAd9r5x+wqaJ9IbAEzLyrKCaIOyG9KJYOpfDwE9+lo6r\n",
       "frikyly5TA7/hHuQCMQWirJOXf6NuuMiFArkCftJMxOwsOvgEcCpGeQES6fvkNnVbaeyqJRp4UAY\n",
       "kNbStJZXm252ro8dM7U9tIqE9j6VuEuhdQ0Hx+lH2CD3/A7U1lb7O4jWDxfW1YZWy19Mir9Y9pR1\n",
       "WnIJSrIgj47/F/aZVw0ryuZtbLwxI6q2El/tuBxDUxV0XrPAQ1eEYVZ09QCqTXSVxdrFR1LQIZPr\n",
       "N5g9WyrHZHvMyh7DpV03j3LAq2VodHE+1y3tIkNED2STKcAphzYbY8CYol3nOMyCg+OukhT/yFHh\n",
       "E66gRra3fzEMQITHSXawvz8NFtCEOqKTjP27yyy+8Lc4iTsoQGJSnL5yyFBBIxcH4BnnLyHeDeho\n",
       "06twiTLL3cLpy8v5LuwwoUz6J/ZxZy0oqSKjKETbrpIDOzQjwiwDgK/Ct41FouukRka4nFJAq/G8\n",
       "TkXZXDu9BtrwT5YvI27TXWyGs2jv1KdGhcnxmIcFFGH/n56SYDu9pH16xFxO5n+gAwYCzgrNL1bK\n",
       "EysjglDwLhqZu1MzJ4f0xmIclP9ORw/Ng2lfId+v88DK5ZaG5cn01ZozocWPIrCsY4MUGDvyUF0U\n",
       "v8/BXRmbadoOMSBnDosfT+H38tO4mKcGtAOqOvKduSIxLzPoQT0JNp3EUgUBl8MmNpKMSa/71j/F\n",
       "RC8EnjMl55YwvQumY3KTsepFeHBDA3427hTTyy6UGrY9d6WFl/0gT9yojEJ8k1kZbnhaIsgRm4ur\n",
       "Bq0hN4Q+Ot8+FEYi8A0MZlaLaXX56QdCCt6XWr6bPwGEkwZb1s+d3c6HRddC+V2CIlvPrpd63k8a\n",
       "lGwAd8PXHpm9kGORUabCyJwVwYSfCaRL9/mMAa4gC7NP1H65BHNQQoh59M1Z98DBUOeKXdFB6vLt\n",
       "5fHt9/iqAAAcf8vRvWGmC0+lYdwSKWZcPE+3tWltdmvEda8gMFIlydXeDD69AuDIzkSHaTyB+aga\n",
       "WUUahF2V+SPNcCub/akQyxrxL3/wpXvNDgr+VU+9kAlUq/Vx/BDoZHGu6q1QeBcNlpXLMrVTb51s\n",
       "YSZ5tZzW6b4iBiw7/YOc2xrhBZnJhQTQiMa4oaYo4k+8stemCXEBZQfwEtQ8XYFU6P9sZPVVo1TP\n",
       "ZN91Oh0T+Asy+i/7EeELYVG9PeqIyZI38HCrzFgK7c/fA6Xxo4bOAiAvErNN2/xhXwzwt+eLlDjC\n",
       "gxeBP6xPjojTn1o8krE4twXyd783qyZhK1EH5c4ooQCQDe+k4tXsvtvTEI8bIx9tzJWfbmP2cwNX\n",
       "GiGvTOX2R+HQEXkP9UT15POCmrXhI2SxfUp1bEj6vTa1QxgCsiy+N4frS0fu4t49NV7WdQWfI2tS\n",
       "MLEhjrd6UQdi4MrlykRo0glFrOHUgf+5Q9pbJuXmCY446PzkZWV1CfYqK8vHWjmvkqqygWsYyUIV\n",
       "vgVonaxdGMnCckNQD640p7SozTBtqAYjofHjIMJgMqRED8VmJL8RQ5x6JHHNYrwIfKMF42TLK4Xu\n",
       "IukDRgsiU43ViaySStFa/95gjLOEid7nEgVbq3lBvD1gAekG+/4F/KmLFEBLV9IWqNe7xIP9COeo\n",
       "+9xVPMDZU6LzcLnR0upFMye26gO/MUDdU44+vjXwaP2E8cX6mU4s7lpEZ5hFQRF3YIYF9r1xWLBc\n",
       "tIYJNrEyg6mYZ/6prSOsISuweIQaUVoGkVo1JkENLuzk6uksIKPM8uTJF3qj8jvBlBNgjeNpBQuU\n",
       "IAl8pU+XcYz0nfZZeP94p/DIjYDg5PXiGXy58R6QDdcS1K8+Rg8Wh1tyeHMlhC7fOgc2+ofv04lB\n",
       "ll3c5BCvpbPu0oAAKFb1owgBUQAAANpBmiRsQz/+nhAGR89+nKVXtU8ftMgUY0ijK7rOkfiHbQAG\n",
       "mDSyyRLj4YOcg4acfXcoHo9PsQl5dC9Izg2bezYJoCjjpoIULHM27rpHNcCgqKViGf8tEY/a31YG\n",
       "/rBTEQgnloPn+CXRrLrgX0M1U1bIiTgyvhAElfltGpw1bExzBfpwyfafXwhPswVtHRy6Q5m7wzRu\n",
       "tN4hAjCCIE1S7rmPRIzZXiuFY1Sk3Xws6dJSbgzNtgGDOP6hdJXG3VCymsV+adfACuOXh0QpcFOy\n",
       "Uc2UesDfYSI5bGgDXgAAADhBnkJ4hH8B5f6MUUastpk0plkKkQmdwb72fNQDsQs18ktJnlURp1em\n",
       "Y6TmIQJrUrQpj2+ntwaWgQAAADsBnmF0R/8DC4AsKZmdO3QAyeEPAPAwAlqwzMu/M5ng5j+JN7Cq\n",
       "zAdqDiIc8cF0lNH0eK/7+UJbienHlQAAABcBnmNqR/8AABg99ODJ/L177dCL4PvKgAAAADhBmmhJ\n",
       "qEFomUwIZ//+nhAEkSBssksDl+jYnDCQAlPbB2q4RJvmSIPi5O8lXfbe1xuaXjU6mCmNkAAAAC5B\n",
       "noZFESwj/wAAcAFv3Zla+QIASufohZkZE7TsjnoJGIOnnKdpSLIF5rWGOX/BAAAAIQGepXRH/wAA\n",
       "s8QdT30AAQO0g87vbeKw/DWkJLVIJd1eEAAAABUBnqdqR/8AALPEHgtkQkRu2WSiMrcAAAAzQZqs\n",
       "SahBbJlMCGf//p4QBJEgbLJKlpfo9VgADdxtsRUSwVqkalubrF38HSt5YZqxzX94AAAAGkGeykUV\n",
       "LCP/AABwAW/dmhQ+lUfan6YJApDxAAAAHwGe6XRH/wAAtYu5BcHbNEACC/p1QwpYeg0/KSARhCEA\n",
       "AAAWAZ7rakf/AAC15tLzDla9yvl/Q4KEwQAAAH9BmvBJqEFsmUwIZ//+nhAEkSBstJor4WcuEAir\n",
       "9NnJ+JsnkOkoayHUjldb1GmFnHHEZ+LZeU8TMTqJvFvbwl7gafFkehrvfq9zd3VTg2g3gtDAuAkI\n",
       "eVq2UEw43OnG3wnx6yas7C9xAAeioZr4WSICJ64ZnMTxWax4jFYW6N9xAAAAIUGfDkUVLCP/AAA6\n",
       "G3lWYJkAIJdHxqdsQ4TpWp9eheJEwAAAABkBny10R/8AALPEHtmyTys0qBCx/DeMXbuBAAAAFgGf\n",
       "L2pH/wAAV3W0aOgASLPp10zSRL0AAACoQZs0SahBbJlMCGf//p4QBJEgbLJaNqiq1eSyc1k1wT13\n",
       "Ps8Fbu5A4AKU5+qr3/IoJZdBn7AuBT1ReHJiguGJXHrJHwKRZ8t+f2T8kcTj82zbwBMa6aBeQ/ne\n",
       "FckH3Yv2F6Hg4HC4gewWRVedvgZNsCDKtFfHo6FtzZ1XqRXEWJira5uMeUWyR+t0jzWkIob7NYwH\n",
       "p9BFGyvzsp2rBCJNmMq2SFny3ipYAAAAXEGfUkUVLCP/AAB0I8pAEe8uUuJ5Pfsg8y1FYEkNq5sG\n",
       "ArYOH5LWlD1pVahOKyEXYTUaP4WGhMPfbpaN/yOvKmWyyjqwxzQbog1dbKjK+xmDMKlLoXUdDBXx\n",
       "OfSAAAAAIwGfcXRH/wAAXXOMAB+JTUuBRupvvWZpruWskz316b1YHVpRAAAANQGfc2pH/wAAuc8S\n",
       "sAgA4pT4al38XDGAR3FcYsRN9ptZcn03fQiX2W0vgviaql0EpIcm0JCJAAAAc0GbeEmoQWyZTAhn\n",
       "//6eEASRIGy1jLUNgBQAwwVkGafV2w88POS9lsQa8zYG1nmhxYIO1kMkH6nJvT6RFi6beYwYvPNw\n",
       "XAgFXg4svyCBqI0MFOew8b/f5JoY2xBlF7xrft09R9L/xiDRrecH1dCXQsCDZ4EAAAAdQZ+WRRUs\n",
       "I/8AAHP/prTqiZxrACW8lwcweqip1kgAAAAiAZ+1dEf/AAC6EJ5ACCZqthSzhJKnYrH7ezqmlbCW\n",
       "gccawAAAAA8Bn7dqR/8AAKzOINPwjuEAAAAmQZu8SahBbJlMCGf//p4QBJEgbLFQCmb0pAAGVkYl\n",
       "lzLh2JhTbcsAAAARQZ/aRRUsI/8AAGr+86aZ3osAAAAWAZ/5dEf/AAC61ugAIHd5WeUljKU8wQAA\n",
       "AAwBn/tqR/8AAKzmsfkAAACkQZvgSahBbJlMCGf//p4QBJEgbLJZ7owVEMABNJ0nDkV4fv62ONXQ\n",
       "qjJY3R1+PTcMC7YOr3I9t/I2PpTjFd2eU2Sprln6qsSbRI1BeX9VxdT0zWQjjP9XJfVYSOO1PksU\n",
       "7OuZvGNrFOfwiTSeGurtXrYAlq/Q0JfCOURBpS+ME9gXRTx59fPU7JU/qOD8pzNG7+ad9N+KXfdX\n",
       "o7EwHQr2uXhxGYEAAAAsQZ4eRRUsI/8AAHQET4AiO4qJq8+l8SIZDubKjdEq96lkCi55G/Vxbbn8\n",
       "KbcAAAAqAZ49dEf/AAC6zHAAe1slnCHZ+e76nzfXqLmU4yR9VtsoObedanG2Z3SgAAAACwGeP2pH\n",
       "/wAAAwO7AAAAWEGaJEmoQWyZTAhn//6eEASRIGy1htbAQCVa5o8JC6R+MXthpBrxP0yYzLs8c4gW\n",
       "yD8WgXlFjflPiDsckz7Ydb+44TpBQ/nN80WcdzNanmG6wwkenFhdQUAAAAAfQZ5CRRUsI/8AAHQ3\n",
       "Cj6OBugIAPZQPrpg17vlag0KnQAAAAwBnmF0R/8AAC1i5ecAAAAhAZ5jakf/AAC6ahwABn2G3+sA\n",
       "uQdIMwLISYuT86hbcokrAAAAoEGaaEmoQWyZTAhn//6eEASRIGy0lGA5ATRlM+F8p2Crx0W2Wk1+\n",
       "PvgJnEvLSAWzAUEc/pVqx8aWuX3NAhEEfZyiYC/xqy7D/duiUVcqwnShACDf217NlJPRw+qWjrdh\n",
       "znm/eeRJoKhPIbt7n9fCoNYv70qp/nFuGPomiYxF5Wn5Kbyq8kdk9JoiDq2jfezDAY83e6fLJ47e\n",
       "HBdxlpE2muAAAAA/QZ6GRRUsI/8AAHPgJaIrVoIAENUP+lJTeazhz24zFPRttVoTFOlWF929nbho\n",
       "HPbCbXqF6EezcZBM+be/HRZhAAAAHgGepXRH/wAAt+xxAAADA1uzX/TBN4aIDy+3OrPV8AAAACAB\n",
       "nqdqR/8AALo8+IAIP9Isvdkpc74lI0LnH0mfDv2swQAAAHxBmqxJqEFsmUwIZ//+nhAEkSBs80Zs\n",
       "BAM0S57yXwBe+LH7PYU77/NrcCiW88/VIYQXw81XkO5/QZj8pdVErveEmfz/pCrRCXOeDyzWn9tt\n",
       "C3eUUdhSwGAwnxwJ33mRNABbXPVXIoAByezFtKrOmJOkjcU6E6tZAjb1iAhyAAAAMkGeykUVLCP/\n",
       "AADoAPeE8ACavDVOCQyPEccobZqzqMeCz0JAK3RHT6CIVK3uv1obPB2BAAAACwGe6XRH/wAAAwO7\n",
       "AAAAJAGe62pH/wAAt9ULbLAgBJPwvBNCuFDdgoLIXyDj+xsq6tAJAwAAAJFBmvBJqEFsmUwIZ//+\n",
       "nhAEkR+igYAHD4ef6XA1nOm9WwTCxSDkUuarRby3YS3VgIheTGc9zIwut02AF/0g3xfVnAdUxct9\n",
       "BF6ck1euwNUZxjt0OWU+3/CTw1wm5OKudJ0AfUJr4QgyO6lRccxYEmFEU31CJyRwV4Xnvj8Nbkir\n",
       "pf9y+jXQspG0rNOPaG2KfTqhAAAAOkGfDkUVLCP/AABygi3z4AbgoJE3iLDBFBCZlzxnCMe0J5+M\n",
       "cudnkxs/JvTp7jFeRSw370VNeKpoP4AAAAARAZ8tdEf/AAC6Ckzwl/tvTbcAAAAZAZ8vakf/AAC6\n",
       "L3MARHV1K79uW1C/4QLDwQAAAJNBmzRJqEFsmUwIZ//+nhAACfuBlBpC+oA78MJYjzKnf1bxAhFH\n",
       "2gLS+Cldxqef15ycVJ1UoEEIXIxPLR/EjmmgrjbXXn9KB0foy5i7/3qqrkbnAF/EVbafGdGqinii\n",
       "4Vy0VCK+OndA9tzoZYhWAS8uF44xuziXYo9pipshe4uFZMecn1pNJ3eppmigTRTkTfCnH4AAAAAY\n",
       "QZ9SRRUsI/8AAHQh8hbpP5oACa4ImlSgAAAALwGfcXRH/wAAukZHlrAp5czi1j8lIHNnjwFSWeHN\n",
       "ogzu5e5i55Cx4K7ZKRnpr2mBAAAAHAGfc2pH/wAAuiYCKkkABXnMWjkBDaXhWsjoYzEAAABbQZt4\n",
       "SahBbJlMCGf//p4QAAUj3fwUJ9La82lSgcFb2WSzF3uaDqlzVutT9ujXdVk5HDLe8e8l+sdrn7Z2\n",
       "Y8M3C5IfNG26bIjJLY38X43s4EjO3cN2eEvCkm/JTwAAAB5Bn5ZFFSwj/wABpinzrQ+4GxgACa3f\n",
       "bbb95M2n8ZQAAAALAZ+1dEf/AAADA7oAAAAcAZ+3akf/AACzxB7OGANasALDmKy6eU1uYbVLEQAA\n",
       "AH5Bm7xJqEFsmUwIZ//+nhAACe4xegHaDX0tcwbwIX7dzgezTLfSMH+8rb3w3DLgcqqt/FiQpffL\n",
       "D5X5brltlzvMU5B+GwkJU0QGYNKHFIbDRuy2iFX98gNGxDVsbI42ocgSQlNRwh7fxkdr5J3R7+8f\n",
       "IFIIYvsezDcfr1H42kMAAAAaQZ/aRRUsI/8AADo3NEAHf66qcPOdgQhqKmcAAAAVAZ/5dEf/AAC6\n",
       "eX3GE+gBW85X1qNxAAAACwGf+2pH/wAAAwO6AAAAq0Gb4EmoQWyZTAhn//6eEAI7wnSWWGnRVQB5\n",
       "PswoMxMx2p7HqHlcVpFbHMfVBYkc9Dwn97E1lAvqAYzWBhPoAOZU0KfP40yC7wAHXuPQC7bTVIUv\n",
       "L18Q74Ob6xI6Ei009wbO10mWDBCrLKZL3dmoLBeuBn488vKJBVxdUFD+7sOkz2vbLryH34z3gxbK\n",
       "TBMhrpd439e7tMokFA2kUEmvEuSF5Jf0V9xRMpud0QAAADNBnh5FFSwj/wABkr51YxgZ/ABYlLy0\n",
       "gz62tOwwezncWIQYwGH5hdY6mhyFeju36YTcRnEAAAANAZ49dEf/AABYo1zYgAAAACABnj9qR/8A\n",
       "ALm483kAJPNOQcx+Olt4VuWxkKsZ29000wAAAKNBmiRJqEFsmUwIZ//+nhAAS0m9wAaXs/QvFsiq\n",
       "XLqGGXz0Ekyjjhuq12QuXFGafsU9vFjImHaIPX+EImI2mZs++/m+TiIk2AMG6izGCYrkQknG9/zp\n",
       "EsZxfkuJT+cnyiYTgxawRsbGIsFzJXhek0AYuWf/pIdoCcaFTzjEdZNDw0c7EMeSDNMype/CxDwN\n",
       "gJouw64McwjESJFwYpQxc29P/Ty8AAAALkGeQkUVLCP/AAGS3hqgakgBudaruCluwVMoyFfkQ2W8\n",
       "cGfR9h2rCrEQxzB+TBkAAAALAZ5hdEf/AAADA7sAAAAXAZ5jakf/AAC5RAFIAAhVsKwRDV2bMrsA\n",
       "AABrQZpoSahBbJlMCGf//p4QAAnuSOICaMpPmGPgnq2DsBOjaWBG20wiaX62dS4Lq+EK9GAoIIkF\n",
       "tR9mQn0GYXulddolfhk649AsA23mK+6xvmXfC12UrS8z2eV+akGQEqhCX5pGIOxWJbq/pYAAAAAg\n",
       "QZ6GRRUsI/8AAHJzB0g37wAEKx71TBMbMCWyewqBIwcAAAARAZ6ldEf/AABa5b2IACw89l0AAAAW\n",
       "AZ6nakf/AABdNqkAAS3mVsHIuKzQLQAAAIhBmqxJqEFsmUwIZ//+nhAAS3hOlBn6+OCATIEcvlo6\n",
       "SX8uaWFM1E90xTv4zobWpy1yyuJcPYx6FGNLOoAFqDyyTlaA3YaGYCHRPvRcb40TVQDc3X1ySGWU\n",
       "w6LqJJn3S/+0ZF/31Gl/vlaPV2pkclaW+M3PepNFlRVy1OLA4xKhRzUNe/6Pu3+gAAAAIUGeykUV\n",
       "LCP/AADoAPItnoAM2NeX2F93aw0BqReWdcQVoQAAABsBnul0R/8AALqHxegAzUDnJlb/Yvx++X9V\n",
       "vlcAAAAlAZ7rakf/AAF0TxUROLLWABtJGZv+mlbjmSDHJl/m9IK4t63AwQAAAIZBmvBJqEFsmUwI\n",
       "Z//+nhAABfaVtEDn0AfxlQfuUDcy6Qt6DbpVONm6XF+fompoTa5nnxNSAzpSKkjsjQUx6uWM1b/7\n",
       "F7xRYLMFlaTPkeq8dgbM6XOsqTI5SCO2ShaYCNWECki+LoqrlmgH7Gj5b8VSUBTE7QFRKX7EZ8Xb\n",
       "bYs84kx9qRrwgQAAADJBnw5FFSwj/wAAc16fyRqykALVeTHCYBQv5+X2SgJUU7LfSsNHO/waTg5Z\n",
       "Eh/2WswilgAAABkBny10R/8AALrOYAAl+EGISZLY88gvCZRLAAAAFwGfL2pH/wAAumocAAW0xOZY\n",
       "gljp6ilhAAAArEGbNEmoQWyZTAhn//6eEAAT3GL1TV+NmwCBQSpzG4772O5+FSm54qnHAqWA/3NA\n",
       "4Stmm4u/8dGVn5sMTf3Ee9nL4PxXfcD1HihMv7Tq+86q8cWv6R+fIw7q1T8Wb0pUy3e5TE0V7A6p\n",
       "Mza5ATbvgZYsGht4TGZL9DffW5NWUF2QIAZ7EYIsPFklnkm3PXlyyILBGPG2B4mnIe4du1eT7r1B\n",
       "sLq2YftkeC4hBXAAAABQQZ9SRRUsI/8ABnJkTBdnT0LOe4m7RagmH3mGmk80gIqeR3lBkpC9cu0e\n",
       "iYQLB0EzLN2VV1WgCBTJ4hBdXct/EQoVBqsWjtpMxDqY/HOFaBAAAAAdAZ9xdEf/AABb6zjt8AEy\n",
       "XKnh9dtZDIOkZRNUBYEAAAA+AZ9zakf/AAo+a1IZQu8sAFon4b8FrbTni1ro+cchvZvO7GDtPxgA\n",
       "I4V/R+iyxnVuer7dAqlctT6p8Ub6ra0AAACJQZt4SahBbJlMCGf//p4QAAXUQulLq1XLfTzweQCd\n",
       "vxj/Eq1IiPufMI0bRGaJa81rDYyanuFudLN9KT4nwA1WoeuYLJI7pCB5qKsBCtQEUY3JahDcAsrj\n",
       "45FfnID83Ei4wjmswdse789eeEHYVc56ZLFBfG9/cOz78KiQYqTEPpbPvUClN5Kw0WcAAAA/QZ+W\n",
       "RRUsI/8AADn+vSswV8rmZyAD9zlKu6eT1OY8QdImAI5Fnrw2eqWZ1taxPxmb383WGj/I4E1rI7L8\n",
       "IgaAAAAAGQGftXRH/wAAWz8AAAMCEDJJYZwZYlDWWCYAAAAcAZ+3akf/AABbK3QAEBex0w7uRtzN\n",
       "HqDquQTsSQAAAK9Bm7xJqEFsmUwIZ//+nhAABdRC7Wc0aoAuX5Y1FM6OvtjVBNws1fesZpjQ00D6\n",
       "WxtClVJudhReUx9uNxJF1cviUWGGziD0gq0yLceG1Wn0CTGLD21UXO6FteTQdGWu4iWaaORRQhI8\n",
       "PTSsMGrfCcT6iX1BehJJKMhNbyuxHczbtbEuG01KTpLeHrgsaaVdx/4ZEBpZ8eIKcT/ddOkHTkQq\n",
       "0bVDq2oFn9TMx4ff4/ycAAAAPEGf2kUVLCP/AABpipaxR/dXOADbNaGT467K7JyZomKDlc+0jKge\n",
       "kLgX5zPQR54OR558sw67ABMBjfW1pAAAACEBn/l0R/8AAvySvSASp8JNEuJ03naVzcowz+kzeGtA\n",
       "WYEAAAAmAZ/7akf/AAL8KboAqmB+nGoD5i38qwaVfprubft1KrLEkKdD6f4AAACaQZvgSahBbJlM\n",
       "CGf//p4QABNSb3ABNIgNqJgtATgTSlXgdr5sALFoAucdKYhu2S8FoME89cpX6LXEiCdj5uioJFte\n",
       "JwYACXR1CGV3b8W1V93SCvzNtu78QyzJsnrlHgdVja9KHNJyjOXiiJ1gghd0E1dMiYD9OPUI9qM5\n",
       "Ul++ZNzwLbJh4nJXei1ma3T1ZgST/PJcJ0lx4u/koQAAACxBnh5FFSwj/wAAN+ZrdbhAARBldmtT\n",
       "zZ4SvYZZC69Rc9uGTI0UkOpvVWIgxQAAABQBnj10R/8AAFaA7YAFdTBhfE7cgAAAABYBnj9qR/8A\n",
       "AFrTD2wACFSaPYFy1n9tAAAAn0GaJEmoQWyZTAhf//6MsAAGAGmNCTFVAelHQAY/xae5tNFHY8ui\n",
       "ttTn7hinpNTMJ4Ux2Hpx/WRmMduHh0pseBv2J33b3zmMenOG1PLDYUh88U3Ee/r3kNUQfVzFYeML\n",
       "Vm+6LMyrtTQpOdSQjkvXqGNr9iX7tBDclDFiIM/xIbaIENGXt/jPxyM+nWCIIiwlz8i/Tjb3fNUv\n",
       "j2E3vdX3IAAAACZBnkJFFSwj/wAAN3DrACYQEAMe4TzA8YCzLZwo5eOAywpCC8HbzQAAACABnmF0\n",
       "R/8AAFiITyAEEtjQm/HvTZ6+j6QKesuHIzV1gQAAABMBnmNqR/8AAFiYDkAIJbjZWC6wAAAAgEGa\n",
       "aEmoQWyZTAhf//6MsAI/lJ+pgAO7BDVmMRpn3Od7sePrOJg/g8Ux/7ic+N8tHkifvmRt6+E0laRE\n",
       "sNGhlF47/jhHw16wzNENbCDunMf9uwxeuS+h4Qr+yXqbErwGIGfw/UVOBZCj5Z+gtbU1JlbDeJVN\n",
       "Jf57YiZ/pQ3rUNugAAAAD0GehkUVLCP/AAGluJ/tQQAAABEBnqV0R/8AAFiFJrCE6T/EMAAAACcB\n",
       "nqdqR/8AAKyzkoB8+KlqN+kaseKD3gl6HDkfHps+Bg9tiJVKX/kAAAA4QZqsSahBbJlMCF///oyw\n",
       "AAYCrNzFV8YDH4QACVrMDi6wGTHRbQz//q6dlF5oqFLwLMxQu8e+s4AAAAAWQZ7KRRUsI/8AADdT\n",
       "CS51AB826im9YQAAABoBnul0R/8AAFjqoAA2LhfdVe21rs3OsIY2zQAAAA4BnutqR/8AAFiTAREp\n",
       "1wAAAEhBmu5JqEFsmUwUTC///oywAEobcezD7H6AfuXqwCQlRZ9rMiqAPVzDjmb6CfneH4jPVKWi\n",
       "y0iDyDxvGkq7qLZLGHozHY1bCcEAAAAWAZ8Nakf/AABYsw6gUABAXdoN4gPMJgAAAJVBmw9J4QpS\n",
       "ZTAhf/6MsAMFvvP6bdPCcb9yv32P9ob/3jnZPMaPeCNJSHJd04YCQPghAbB8nTFTmr0++JgrWdy+\n",
       "cmy0BFdGbFHlXI2NSnooqLotCEMNCR4s9HDPVKnahTvPuPkookQBPDOmiSUnVQSnDUXx6wIyFH9Z\n",
       "ivmQVqWnGQjWU95I8K1IUQiSCrwxcwCUjdgtoAAAAIVBmzJJ4Q6JlMCGf/6eEAL36eqzuOmBRnn9\n",
       "zKr43rxMBS43kcElh69mMxbtMuXSQDtJhdtdDbzhEd0pdTLJRJrf33q3j285kjphZpMnBvCkoYTa\n",
       "6vTn9Q0Vk8zXzJDdRBONCsmT6xEvoXnKvLXl1luI48PqT9pMR55XSzDLylgvKKXkiDdhAAAADUGf\n",
       "UUI//wAAqJBEvUAAAAAkAZ9waRH/AK9HMj/ZAXQuQW2W328Y8Ft1BiglQLyJ3wh1/KaAAAAAvUGb\n",
       "dkmoQWiZTAhn//6eEAI7wuogB6+mDoxdg6Kwlq0TyZpkuNMSzfS22bDSENeI1S7zwuuJAF4uexQS\n",
       "dVfQvqxQn+YZSAKe5ARs2o4IEFw1I+HD1nIaVsh2bc9fXacrcmeuMV/CAClKQB2EWi+JYQij7221\n",
       "rngn6m+M1n4r2nJ250CMpIU/Nf9CrDsGYzY9Un2MHPRj+vN+obqXGnjfp1E0KXrcYweQW7ylGQuC\n",
       "DjsnNi6bzU8lkcjX3m1y/wAAADFBn5RFESwj/wAAOLEMXKADPvMlTbfD1hLA555aMj1pi+6gtl9s\n",
       "/vd+QzbP0DBisf7BAAAACwGfs3RH/wAAAwO7AAAADQGftWpH/wAC/eQxoMAAAACZQZu6SahBbJlM\n",
       "CGf//p4QAAX2k9yyqgSll0+Wk42Vlf9NXw/s0y+F9nrVZZ1qybZjM1w0CHUlTpl6TX7dOCCQ8Ub9\n",
       "xerY7+I/98W2eFSKPY06HXy2rUjyTxtp8Eo/MWx3wRQzOaaDEAs8o/BgrTHc4ouy/rQvgC4qwgZ8\n",
       "t+EgVxvOphE6+vSGQhoVHV1IObcHF9gAR+lb1l7AAAAANUGf2EUVLCP/AAA4ze8AVIN1So3m51MP\n",
       "ydtHnJpFQhnh8VyzKBIl/G4JB+8HBLEeNfpAtIHFAAAAGwGf93RH/wAC/IcfkXaqzZJAAQF/cne1\n",
       "hRxwiAAAAAwBn/lqR/8AALEoA+IAAABqQZv+SahBbJlMCGf//p4QAAFzzgiQDF6y0bYVK5Be//hW\n",
       "sqn0mBWEGbzR1eb7BTHCMw1A40/ciTDkjgMeAFyGwiS3ptnFqf8V/IqXqMC6rz9csVNo+NHhMBJi\n",
       "x/D/RB8nG52un8c9AcCrcQAAADNBnhxFFSwj/wAAOIa/1OiAEYR7zYkr3wbXRmj4qKGqzkryOxYX\n",
       "QwA8eqGpbBfDOpTWV1AAAAAgAZ47dEf/AABayCTACW+bTg435TXdyzhnbEQL7BF9G5sAAAALAZ49\n",
       "akf/AAADA7sAAACtQZoiSahBbJlMCGf//p4QABP/d/BTqSXGskC/MeP+smKm7jPQinzv1grMVTBh\n",
       "4xc77tjZqlIwBhwCx/yqvcml+diLbk/ng5n4I2anD9nb1fbVTXLd9b4NwkAcohuISFmvW3ZwvbiU\n",
       "90EAGB03Tt7JhO02wJCeA8T+QiScM+OxfP2CJODskbNH8eIG6c083GdKXQcejGfrmbPO/HCU/MK5\n",
       "54f/ut9qytZmErmYgUcAAABKQZ5ARRUsI/8AADoQbaKOuyuFBQScACDo9FC2W+CADAz3b+lLcSqc\n",
       "WKmkmnNu8eJ2qou4Fi6VAzb5TO/M/eVk0EQ2OMoVKZ3ZPh0AAAAdAZ5/dEf/AABbPlAABAGJdDv7\n",
       "qStPAoC/QyK6McMAAAApAZ5hakf/AAo6gFp+zqAD36ls/G7l5TxcIcTzu/5Fe9XKA9ClNiIOsmkA\n",
       "AADPQZpmSahBbJlMCGf//p4QAAXPWQiALuoCqsD9zDdECTLUNBIXDj2IcvBMEmGB0YZVr3rwv4kF\n",
       "BwnlH0bqZDvVdQlXnftrm3Q1qHTJZbr49bCQNH5IrTtzGvYuC1b8p9sYY01ELD0xma3cH77MUM3n\n",
       "JMu2mVD9WiDdYh50UtnZ80ki3AJV1lH1GRvyvcoOV1UGJedA3gg6AVPUCnAlSzW3ozO1i3cJm6kv\n",
       "bK/et2PXlwTbdXIQRrwnYrIrJ6/LQEeYULIt6Ar6w/x0xjkuGKVhAAAAV0GehEUVLCP/AABzfxWi\n",
       "MPv1NH4AWu16GebE/jrItNGKWsWMU7p3dCza5+z2jnz8hZOa57tu73UXzTi8KN1rwZN3M/lRjlrs\n",
       "9ZXwCNn8Yxs2ajb+z1t3QAAAAEcBnqN0R/8AALp/EQAsPgjuuNXVkEPzyJWQLY2VRnuqIRAK0y+l\n",
       "vprI3cAtM0m+T8pYtuT3i+z/pRG9RvENcekFcxC26XvB9gAAAC8BnqVqR/8AALrrmoAPjP0aalcV\n",
       "CiJOwGyYPx7yiskOp6uNNpGe6j9m8YILW3rdgQAAAHhBmqpJqEFsmUwIZ//+nhAAAtVoFs5uN8yB\n",
       "YrV0AFKGcRY5RtYkXuNG7mV9S2WNvMsRlUzKsRf8scNuO+3Us3Q+TirvV8aeV1Wm16AE5/Licf2j\n",
       "X4mWJAx9KQB+ttMYZBX3qbhqBS0lg3XocPjGjXKRfHUjf+fUoNgAAABUQZ7IRRUsI/8AAOjLuAoU\n",
       "e0iXE9QIXy/M7CopLMGYu9YRnSRHyFAh3aZR2B1tAWlhOudBu0M+P60aOX327ORDSc3D8FZdDv/u\n",
       "7ynPVoiw1fhb5X/RAAAAHgGe53RH/wABdBb5wIoAP3KtqnZqb1Mdi/NQ6RAOgAAAAB0BnulqR/8A\n",
       "AXUUPFRk6F+gAQ4ayJNVA9xJn7rymQAAAJBBmu5JqEFsmUwIZ//+nhAAAtXFOTFj3eYdPW1AEbpl\n",
       "WklLGuOvx8Sd+zG70DMkepa+N7/+2yfw47uZHuAl+frBcfNTNlR2iWvL1pz0rRD61swqDXL9hCtx\n",
       "UhXDMoaTIM5f2vmAP2beDNOoFLyltf95D+uN9mKVH3yFC1NoByRKX7x+Xq1Y4YzvdF1Wb6RPU0UA\n",
       "AAA0QZ8MRRUsI/8AAHQElEAM4X4mXXxNGVPgQIiRVJ9QSIQJHAFIyLD0flanA1whTQcWXjcb+wAA\n",
       "ADQBnyt0R/8AALfVItCQgBIICpLYWCmVGOwx3dlYRRO5mHgSdAUeHTym+IpEoHnJDrT/sMGBAAAA\n",
       "DgGfLWpH/wAAumbQniMPAAAAlkGbMkmoQWyZTAhn//6eEAAC6GGMkAfJBsrWdPVbx0p5Y0znbMDz\n",
       "ioebTj89OaI479s4BaW/lXlmV4uXSstQ3w4zZjFJOYZm7I4AvbW/q/i/AZpv5UJgr1fUcogbEgXq\n",
       "006ivfxQKlErKgdnMB1ccpZJDJGZHUPMq6Wiz0CnuEFiyGfKsFm7eBaVAcqyzpHy1t6hVv4q+AAA\n",
       "ACVBn1BFFSwj/wAAdu2LxVXoAiAFfdTzP6vcYNJTAbVBiedsh4LxAAAADAGfb3RH/wAAuguSzQAA\n",
       "ACABn3FqR/8AALnpg6IAWHwDqmgmecB1sIvqSFn/KhywsAAAAMZBm3ZJqEFsmUwIZ//+nhAAS0oJ\n",
       "VAKXO8/1oHtOwNbl9vVmLoosiAl6sL2rIlULk7O6+rg6Awvv/obJuSPJeRzD556OVpzemsWYTIlW\n",
       "6X6mA2bYBz9sWnnfCs69XzyPGKTAX7xGIpQPMtF6/iHgkd1/1A4pSbUDQyatWZqwdtDa0UBf8AVl\n",
       "M8FjvQXzRKuZY6sBqEl8hbQxkXp7MrPydvegN93ZWBBO0isk4GXLeSLYMPiSIJb0l9I2SV2OO4uY\n",
       "Vfprv4/3nuEAAABFQZ+URRUsI/8AADoCJ8AQ97C8vkHRjWNWZ0+LH8bqv9Yu36dbrM9vuJCbIxUF\n",
       "BQ0PqdKvSU3GiJMIx+FvXgvGSOIjTGBpAAAAKgGfs3RH/wAKP6No2jGDa4r8tUAIKXqVEtb3o6K+\n",
       "w4HMXH7EIat0ttSBoQAAAAsBn7VqR/8AAAMDugAAAHxBm7pJqEFsmUwIZ//+nhAAAucm1NPygDoZ\n",
       "zzzyye4J3Pq+0Qvjezl6OKHNdcJ2JCEPBQnAKs+Q9l/pd63Nm++6vw0yIM8hvH5XAlB1qrYt8ZV3\n",
       "dQgryVoxH3ZUg23hrHfoOl+RsSl1ZnAHhowi89TKlrxEecg4Q7o4seaAAAAAOkGf2EUVLCP/AADT\n",
       "XzqH8zkAH00mN0iGUGiLEcf/b3iJ1hfdeSBfXdwWwYdppw9ne6bKfvWMNWtSLjEAAAAXAZ/3dEf/\n",
       "AABY7cUAExZLrPzZt8IUQiAAAAALAZ/5akf/AAADA7oAAACMQZv+SahBbJlMCF///oywAAXctUMA\n",
       "E6+gJO2rm6wLDDscGVvUBXYoc1ek/XgZxTA1Xos21XHujKlbZ8DurLGc0YJ6zYgf9Wt/zfU3r0EH\n",
       "qwgz+bx182/MmGh533YVi6wK39yy5kbs/3/fmLJWcMvuAOl7pD/K5UphBX2ClhWLwHtwIhl4P8tO\n",
       "VrVtu+0AAAAxQZ4cRRUsI/8AADhPQeh4mgAuHndhsuqoNpapMwum1EV2ACN+v7T/HVxF9f2dLNm6\n",
       "tgAAABcBnjt0R/8AAFf4btIAINsEUdtZ0N/5swAAABMBnj1qR/8AAFsnMAAakgX7twNxAAAAk0Ga\n",
       "IkmoQWyZTAhf//6MsAAF2+zcPsU3w1cjAt+po6rYKdDqd2AWTYBsz+ioo9gX0HefMrbNGYU0viRb\n",
       "bonooQe0sx42EMzoLGaII0vE4S3sZhvAWWo8g/8dqoWBDwJY2qtD3J+oh2SX8/Qe1TYVqowXRr+j\n",
       "URAVc/u5v2tpb93l0tRl3A8i6NbJiCcK4jpeuv0c1QAAACZBnkBFFSwj/wAAOJ/ZUkABAGoyThKC\n",
       "XllWVPEV908SR3n1r2UGIQAAABQBnn90R/8AALF6VmXWsAG4mbaaQgAAAA4BnmFqR/8AAFiUII9o\n",
       "xQAAALBBmmZJqEFsmUwIX//+jLAEgH0BAJVuZhSOG1h33VD3CUxkmy7le/As6l2KUkXB3x4GvrF/\n",
       "53o3vcq5q8g8R+6HSEW67NaCkYYu1DcsJvXR6se41wAotY/im53VoDZVrezEwJYro2gsbTyet6UB\n",
       "Rek71AvhZUQy6OeijX5p6/w29/vFD3YAyHy06OkFuAjV4HQ4zBzOQLtIw1K1oztQErS2lNMjQ1FI\n",
       "olAlVInvdo1KQQAAACVBnoRFFSwj/wAB24kdRuCRisQAbeU2Unyfty+b6tlEjI8/+Ik/AAAAEwGe\n",
       "o3RH/wAAWL+zIAQS6ESnC6wAAAAWAZ6lakf/AAL9J+CH0WqoANa3vna5gQAAAHtBmqlJqEFsmUwI\n",
       "X//+jLAAlBG4CAmjecttMc34OhN0GA1Gn6Ktv48cLe9eppIc9oU9/I7NgqZsXk8eQaHL0L3zJyEQ\n",
       "MeCE0LNKvpE3qbuLcG2W75x2WRsBChdxFsPG/VSEKwEOMo4ID5TRawJVgChN1eUIF17SLFAarcAA\n",
       "AACMQZ7IQj//AYQ05fcBVt8bEeJhtB6rJiO3EI/s2RRZcJDJttHjn5b8KAM5n4+dIjQ2DJ7ExPlj\n",
       "brV8K8oIV4bYdqVVs4411O1RDS6x9DYE+mWovr5bMB/mSpgZEBD9TtAv0hMMAdJPwIk3JeHrcgdx\n",
       "Ik/wKqVw/jG9LEHr1r37e+0Iux+4JgL6p+yAYUEAAAAeAZ7naRH/ALD7CWMxUSB/KNyglVd/e7G2\n",
       "gjivr5TAAAAAUkGa60moQWyZTBTRML/+jLAABOCdNRLneiUYnZQQNLYsmkS3mZx1Ruv/fFHSfLEY\n",
       "vEWEVP4R4ia4LbLanllr3JXvgPZQ5032+yLx8dED8YkF1sEAAABNAZ8Kakf/AYj5gAPkv5M0hi9s\n",
       "7iOKXG20Z+GODgCilrx3ZvBkBVxYl9gOJM5wT2ZsJggp3gnHOCl9rBQQEW6FYcjLh+VIQsbtIlY8\n",
       "hRcAAACVQZsOSeEKUmUwIX/+jLAABgH76oBXHFqPpqHehcJDTvi8YuktHnq6UQAclOskk3DYeydA\n",
       "9EbGg9BFFYKWrfayiH9QO6pwOSCgs6W3CiJwBLa3wMENld2ty7fnK5Yr5Qq9biCIqeu4j+JfnF6E\n",
       "2dlqqADRO293tsHYE9yRgOyeK9CzQbEogvJaKMlPLOWL+suqdLE6PZEAAAAyQZ8tQj//AACvRBeD\n",
       "2IiAD4DU1Llr9DewdiBCIT1kc2f+cFx6CGeNZACb8RKCLoUoCGEAAAAdAZ9MaRH/AAJ8Lpm7hHMk\n",
       "AGx65Qb+RiJDYGYyEjgAAACOQZtQSahBaJlMFETwz/6eEAABWvd/B96LaV7AFcyruNIUWU8ON9mA\n",
       "mvf2ryUvgsbbclZCBduj7ZbYaRH/9QGwiDiBu9iByyvnfA5yCoEKZEq80QvPAJJRtDpxqRj9LzlZ\n",
       "9YpwFsXQmDm5Vw90Y96sNKrcDJx0TB+hiAp76AIdXK637LttRNZdz7V9N3E5gAAAABwBn29qR/8A\n",
       "ALEoRkp2+fKsACCy1LkjJUMfmqjhAAAAnUGbdEnhClJlMCGf/p4QBHCJcgDl1dZxcHCloqHYzp0u\n",
       "OiCKbfLvjatEba5GoaPZ7ZDxzqhESw/dCIUnFlbnnnwEduBWyZ/hrWTGCUMzPra/ZksIR2zvpKx0\n",
       "qHyvoKcGzkbWF4GESIQ+N39sdHaB0dyqORUSUMuX/+PW+xQdM24NnpV0pl8OxS9m1Itxvzdfv5cR\n",
       "awapK6pUqBEG9CgAAAAoQZ+SRTRMI/8AADfft9xJAEaoo01MbjD+tNquZ7BTmxeQkMwlHnL9gAAA\n",
       "AAwBn7F0R/8AALF6MuEAAAAbAZ+zakf/AACxkE5FEkFhcWxACRpeyqXzQCtBAAAAlkGbuEmoQWiZ\n",
       "TAhn//6eEAAJ77lcgI/3CBFNQV2iN16CPxMd2SK3c6/evBtPEJMfqIx6VWaKRXleHLt01NJ/nXXs\n",
       "7vFkWYOsvxIb/04Udqt1VyPh/a3wwaMa0jKlFz0uhxBqHnjpFbhS09BtmP8baojgeB3jUFvPrsNG\n",
       "oHhAnhqXVU7ZInuyU0424aaOSCddeMgnT+jJ0wAAAEFBn9ZFESwj/wADrAt7CKawl/hLZ4zACdRV\n",
       "6qGzyDeV8778iLEzlEcxgSLIocStKgQJLUBUz9IApea8VC0Fv0fXqgAAACgBn/V0R/8AAn0awFJj\n",
       "3/D2v+R0RfYmIACFx4U/2kvFs+XmW3ZtqOewAAAAIQGf92pH/wACfJ+LAP7RoAPjNDWUEXNNt8ox\n",
       "hXytqTghgQAAAM1Bm/xJqEFsmUwIZ//+nhAAJqRTIAMjFEnpvSasw1kSNR+QYfRdij1S/qMCZqfX\n",
       "G/Q1UXmQVlQx5Ynr1HZvdi/oWf/g58EbPj9uU3g/Gi2ScV9Jy4+gILzPjmFbSBXe8loGOIzt/Hau\n",
       "y9qvoeDWyZrLAaPqMhXv1y59fQXgFoCB5JjkXQhKCXcFMODLLwwTabk0hDAbjRQMuUsw7z57j8PS\n",
       "tsgb+2xkrzExY2wfyqQt2OOchuRoyE/Tzs6CL+t7DtJoIT7langXQz9y5R2YAAAAZEGeGkUVLCP/\n",
       "AAZf7z1291axJnQ/fwN/gBcXmDc+pOSZLXw+FKKbvC+3TcEiTb9yz0JdeJn17J9zuJIHARZE9BuA\n",
       "vVrMMeMf5fdv28zMEjglYNJys0/2itnoBIh0NqrkXY6KB4AAAAA6AZ45dEf/AACzxB7Zs7s7gBA2\n",
       "pO72gPr7g1TPSAtBau3R/Vjl7q1A3HTBwgxCpIrbRG0Y7xZQpgsOMQAAAD8BnjtqR/8ACj5rVD6p\n",
       "gBHu/7QaL1od9AusdGbM1hvF14dhAymLHidG44GN2D3c1GPr7iy0yOZkmSVbsx3/ihwAAADwQZog\n",
       "SahBbJlMCGf//p4QAjpN7gCrTHj7CWb8P+8X+xkGWAD43XrCmOpxJCYRWcnyrebyfP5jT4uzQ04k\n",
       "oeFxa+x9TZ+WaUT5/p7iD0HiOKB1/O6J0tRP6SEPMCebh80HNtVe7cttVeZ7uuTL1+RAss0DegRL\n",
       "OuAdHKgvDvQJ+I1+UhqhRM7MnBr9lBUoeRMy651kdB/5gdJ0qDRyssbomUcwKOsXVGuMNM/BIk0V\n",
       "M3pYRMJB9V4zWBESouCSCIaPUbUgYE9jGRATE1kVzwQEpIkJ9qhGyONj3yL2gFZQSisJGJ2UbxJq\n",
       "BvtXVvbGmDpBAAAASUGeXkUVLCP/AADtgkNKsvVNDVLsvz8ADj2gr5dWjt+rtFv/k8nQGK6/jkZF\n",
       "s+GwyzBoTqRcXqoqanATL9ro5efxEFQPdrM9+10AAAA+AZ59dEf/AAF9wuz63AAnbwuuvjiBK2XH\n",
       "hDo3Yf+vltzQ075Au1UqlII3h3+1ZmW1YeRmJgAcAPdKwOMkhjgAAAAdAZ5/akf/AAC6PXmAA2EH\n",
       "629IcjpvLruqBUdPymEAAACnQZpkSahBbJlMCGf//p4QAAFrH96E0bQAjrjagsbq03U/FC2p8RUq\n",
       "GnW3gVVWOOyFDTiPFLdWnMzJ+25brJacmpLhno3tkFGqcPH6sPr2yp1gQCcu+DWyNVSPaFEgvS90\n",
       "DIxL8izO4peiG7EyWHPxlIu4Mb4GrBvaj7Eyiul4MHp3XHWZVoMlLBzDvxiy+qVaqh43q3P/ZR8e\n",
       "N2PBBGh7J4p6xdc85HEAAABAQZ6CRRUsI/8AAHR0vgBaqiVjo0+e7cGjI9X3vCw7Z9/bZ0MbG+vJ\n",
       "FZ35CW5/bT3SaJcMHh+Npku9GC/HaWL2wQAAAAsBnqF0R/8AAAMDuwAAABMBnqNqR/8AALpqHAAE\n",
       "D6yshAh4AAAATEGaqEmoQWyZTAhn//6eEAI5zAwpyBXCGTtAhGccdjtLyVY0BB57J2NaMpOc0ycM\n",
       "qev6Wup+li/n4W4AgzQ0wrPK92OvMDVkhSLox2YAAAAeQZ7GRRUsI/8AAHRjHQAaG5u4Nr51k5Mp\n",
       "ZFDUXDuBAAAAEgGe5XRH/wAAun9mQAlct332jQAAACYBnudqR/8AALm7j0GAErUo7K8L6pKJvhk+\n",
       "2f39YLhoS1Q84taqKQAAAOBBmuxJqEFsmUwIZ//+nhAABdREm2AYtQls/Mye4ih4WsbqzZz7pRNQ\n",
       "rRrtHurvnRU1Skz0pjtnQlcRY9qEcI506mvrI/s7JXyj8tHpZwK3qGzzS3zxE+jibRcesGnX2od+\n",
       "vdUnFhE56sti6gqYG6Z+sLz4Xvy+vtZ0M12T3QhiKyNMVkz9LZ3gEhj/RtUOTdGmmk0srKbtuh9W\n",
       "eXpW67ru95h3fN2++d+zQE55xIKU5KSqAMXJsCBxyFk99eDMDhKdaKFRucQcbO21iMRmJB7776gx\n",
       "RKANwFpAiGJkeiiFNwAAAEhBnwpFFSwj/wAAdARPgCtH4xkKn579SfRy09dG5/N1mX0mJbxALPy6\n",
       "lwtUFbXwvGgvgBx1dq9OSa0sobHtXHPMrYg/QsQZ3yEAAAAmAZ8pdEf/AAFQjZnOsusIAC0HgMOw\n",
       "kKN4GBwK5vDdXJCxWeR4/acAAAA1AZ8rakf/AAFwiDq2+3a3oRLGEAFxdUgu2hSWvZELvmnBf70E\n",
       "X3oxzEsT37h6H8tHyCLnsvkAAABVQZswSahBbJlMCGf//p4QACWlv/KAUud6N+Dh0ZCDO64eIgZO\n",
       "FN/QbfqZz0Z0nsNWFeK0eapRj3knZimgnlt0zbzAkCF/KLv4gCDnqC32dQdkPEAzgQAAAB9Bn05F\n",
       "FSwj/wADrAt98pnyDxEah0ALoPlyNEVIeaiAAAAAFQGfbXRH/wAF9wseXej9GwjD5A7+gAAAABMB\n",
       "n29qR/8ABfpQBDJ74mtFFNFJAAAAM0GbdEmoQWyZTAhn//6eEAAFz9Wb7RWOaAVft/ceE6i/SE3W\n",
       "CnTH0eIQW4H2awrNNtUSnAAAADdBn5JFFSwj/wAAcAFv3cjfYAjI5VDoIi4CORDM0C4LNmxad8Xl\n",
       "R2UeOXNInjx1wJhh11ZgJB2AAAAAGAGfsXRH/wAAs8Qe1+L7SAAhUYFyJPuuYQAAAAsBn7NqR/8A\n",
       "AAMDuwAAACxBm7hJqEFsmUwIZ//+nhAACe4xegLTnut3TelDqWYdzI3teHFZWa2+eDBhgQAAABxB\n",
       "n9ZFFSwj/wAAcAFv0o9S4AJeFayjz3MLDB3gAAAADAGf9XRH/wAAtYuS1wAAACkBn/dqR/8AALXm\n",
       "03J4ABn3jjKW4GiDLSJRkNkbZII5aCVEaC8VDpSmYQAAAJFBm/xJqEFsmUwIZ//+nhAAF9erXAqL\n",
       "SS6uMdD+lpPvdsqBvsutQxEswzCNOCJuuF/tEAdMLkVwlzBQCQndxrAUe2LRfH0+WrW8Je139Qw+\n",
       "eu07RFyQm84fxxH6A781u6mbFhMNabJlsKWnfpZB98l8HD/bcOtrHHPmu9PnW7qPo7vQ9c5RsuiP\n",
       "+uFdnIWPYyBoAAAANkGeGkUVLCP/AABxdyTscjgBaJJoMhhFObrOKuSU3y2tt1Fo0HYymhs7UNCi\n",
       "4a3Q1+QzqL7dWAAAAAsBnjl0R/8AAAMDuwAAABsBnjtqR/8AAFsmOAA2LIJINSqnVnnh7+I1JuAA\n",
       "AACPQZogSahBbJlMCGf//p4QAAX12L0ApakjzFog0Yja+1QpcdGTG3+0SjGf7WTm2I5BdKIOhIjj\n",
       "TNosqa2rRhl4nD5CaQJ8jZ3iVdTaJNicC+9MrtgatxTbig+6En/QmBXWpDgqiaGmTNgHWktKx6ma\n",
       "kEysq4FOF2JDCrNqL4co63lXMg0B4/JWFucCH+GX6DkAAAAqQZ5eRRUsI/8AAHQjykAhGmpkSt4Y\n",
       "LsL3q5XXgIM3bew1G6WRVqVXRaqZAAAAJQGefXRH/wAAusxwAR1b1A6ubaxrwOalAL1Rcyxa3T9A\n",
       "3xFEG4AAAAAZAZ5/akf/AAC6aeiAEX1l83CraaMEb0pKwQAAAMFBmmRJqEFsmUwIZ//+nhAACe4x\n",
       "egLTnwm+JWCqiZqVBbc3F/+keCg2EVGial1HgMgKQnMoV8+b7AsmHBH/B9AJIOpdLpxqIdg0E5wk\n",
       "cvWLtbp1gqL3ji1z25kRf2ouTqBKnRa8md5uMqcYNoWKJr25aHkiKwRrZPfLbjha/nkuRXF+kMfj\n",
       "uf5Y3SsfrTG5JO2PV5v9rjtojgm8lytD57P0b0PWPdTXq2qnGWFrT0U0ps8SPlF7bO4DmPADWVEL\n",
       "B4OgAAAASkGegkUVLCP/AABycFqolgBMIcr/48VgL7tbeYlRedYs8WUsPr7IKSpTp172SKyzfn+N\n",
       "V37EvEyw6xfg31eecEaBDrDYxJQ74ZDtAAAAIwGeoXRH/wAAutVAAH8Uu3KHpMhsm23WQfDdlkus\n",
       "QHhcZWQJAAAADQGeo2pH/wAAqsQdz8gAAABUQZqoSahBbJlMCGf//p4QAAvsM6MgEc/ap6kLQtq4\n",
       "q0JVafSPUW3VMmBs+TTxSSxth3yps+IOcs9jKlcL/foi6AKcwzSRah1ZXTFTrtbZgaYmG5WAAAAA\n",
       "D0GexkUVLCP/AABq/vMW5QAAAB0BnuV0R/8AALqEloACAGvVfbx7U2wUqKyJDjeSwAAAABwBnudq\n",
       "R/8AALm483kAH0lha6rpPeQdBsPtuDBhAAAAO0Ga7EmoQWyZTAhn//6eEABLeE6TBz3ZzQC1e/4V\n",
       "xfdWuK3FdJxH6fCQ7CprlEL/00Eu2sAGB7j+m4f8AAAAEUGfCkUVLCP/AADoXUQVMjFLAAAADwGf\n",
       "KXRH/wAArIu8Xlg7gQAAAAwBnytqR/8AAKzmsfkAAACnQZswSahBbJlMCGf//p4QAR1vxyVvrC0a\n",
       "bESCANRjxBZO0TUxikvjqPFuFboMICBN1QTPXPAXO4D3eDZHIwikDQnBvfuWKQ+CwE21sldbY8Iq\n",
       "lNcPFmII6Fjt44BW5EIAykSgG015Vibj9lK1sbQSYAeEDbfWK2ydFOTwnAI4TerESM7kMd7Q0L2S\n",
       "+zRmyjv+qXoeW/Ypeug8rEKummDEFwaQUTFAxm8AAAAnQZ9ORRUsI/8AAHbiGLlAB4PERgRu1hJ/\n",
       "hFoCUVpQ43RXKytPAWjwAAAACwGfbXRH/wAAAwO6AAAAFgGfb2pH/wAAXTHbIOvyAAgfe5+Of8EA\n",
       "AABLQZt0SahBbJlMCGf//p4QAAX1+CJAI5+1kqgA4HT+X9BNvq1X2CtMLcBJD8nYgND0StL0lJuG\n",
       "4Fd4YeMa2fdpQOqiKZuALoNcLSomAAAAIkGfkkUVLCP/AADt7jvy9qoAR99dBxe2ErJCjPZu47Bm\n",
       "/+YAAAAUAZ+xdEf/AAC6RkWgQtQAEttUw0kAAAAhAZ+zakf/AAC6ay0ABKwAdMeJZ9F+kGfmIfJT\n",
       "M22cXuXBAAAAf0GbuEmoQWyZTAhn//6eEAAC2cx0/UOU5V0Efwq+oAE6ZTXoVkzO2ZDYzHSXMt4K\n",
       "7HV4L/6ZD8RbjMp1OlBhg1hWa9yFhY4VU+dBputh9NtC5Wj+IrHP+HM9VahFEDLcXhPNpeM/dTDu\n",
       "xFYUNfZ9yXfUQmtGnv0mJsfQwSE2hbkAAAAgQZ/WRRUsI/8AAO3uSSmrzQAlDntteCYI9iTMfV3P\n",
       "tWgAAAAPAZ/1dEf/AACxeljM+k1cAAAAGwGf92pH/wAAuemJdAAE1l3VEg2Ov818yVZ/owAAACpB\n",
       "m/lJqEFsmUwI//yEAABUB31ihKZcAE7eCW3oJH4Hp1IZavP8XfegPmAAAA2NZYiEAD///vdonwKb\n",
       "WkN6gOSVxSXbT4H/q2dwfI/pAwAAAwAArqxz6KZIGF3rxgACbsACFnchgn/AAlvz0ZE2ZpljS76U\n",
       "mgifAv6mOZPzg1SyRYs/1yQlJffrdsyGaA4HdCO70hdwv76kRwjTbe4f+ylwdwGKXL6+OzsOQfIg\n",
       "edta36gNL399u2qN7lMYFaESFX6w8aNYSyF//e+LnxDwPCOmSkawgkPForLDJbIttwwGZYkdKGZp\n",
       "SR4f3gm58I9nL3jeYj1/hPjox1RU4S4a+c2UXc2I6ST3NREof3MOArFC3vQo1kdicM2V6hNyXFuT\n",
       "hJExGWqYGFVf4rex2/aisJ7By2JB2KR+CdOwKP4fELUd/G242nbicDfts0sTEvem9Oga2724vCIm\n",
       "Ma1XTj521GNCkVgEsVG8upnSw2S5J5M/rmrCn2T1VgQwxs9s3L4stLPnOdudmJnjsnmRXr1yq1WF\n",
       "Lm5XNrDy073xUl9BY0V2lDgP0+f6xCCru+ayqt0/slt202Tv1YKec6tsX9CbhluexgxVLqAocfiH\n",
       "aaPceO4kVFGQmW8KX/an+vi0CPtX8ar0cVuRTfIXsyzoakpXhYJLnMNjEX5nKxeo9xPafko0/Pv2\n",
       "CJDD6rH1r1jlBvjZOiQf9We1s/v0WrXaUaIUsfZH/u/bsR97ucBRiujjRis3ICYDsJQIFWGxGYMA\n",
       "kxevd31paQTkR11ep9Sy+pcy0yHWTw3hlblGlL3iqli/ff4UAYawSxhVvkIDwQTyQ83+E569c0IS\n",
       "0XvxxYdax346TNS4KZo/ncUui8QRu5LYaurQBr73dTZJ9q4Fq7aJM2kGzB1KZ66fiyJa3mc6aGGv\n",
       "ukrxxC+xUp+P/9HPj5tkEqoY3UWt1YNajILZ4x1RN5GgdTHjcbuoZnrbXwkvJXJKNmxTa0LweBQV\n",
       "Q9Njc3BZIlHJnChrbuyRnrrPdb/8Gx7HmAUL1Ld5HoHFbAmJHQ8KGzeh7qzd14z/Hin8Zr+nuyew\n",
       "/5X+haFndXR7tlsMDb8OWeVTsrlm0EbBgfodox21H93p1angWCiYoO85HQRV0OjpDCkLn81zcMS6\n",
       "UC8DJX0owc5/t/VL/pUE8YQvH8holUm4IlsZ5OQ/16ctGxN84Z2qfyiHCNbswCalGjjQLa154Wls\n",
       "daoSaiOUpMTbFtkGYRJ5k5t3IJ8HBo5GN6HohBOaNNHH/gjR39g9UVHFP22MFsbUJZgajjCDup2B\n",
       "a7RcJskPmy7Rw4/cyaiVJ452QlGtBFCeZYPijeqxouIVhNYSyDkDsQokp0v98YkUf1c2Vl9GMUVB\n",
       "4dqJKAeZPFOpqw/2w2a6kl9bkAeJNSQhqUvwe/X71yZSsyv33+imJVeiD53BW0wDQLjf/P4kVRCa\n",
       "1GXSeacNLuRZF79fXn7Wh0dl+f8CxkkUWxftE21Be7RJ8Sz4PJOFKe63DeDJ/Zc2VQTzTx+fazJa\n",
       "S4jC1LKJ8mrmE7oYlo7g8rCf21rUw9aBi5H1qt91qmUq68KYA137ISfSgAEW96Lv9B0bL5ohM/Dq\n",
       "oQtsXlRaAEAu4d36PcI4VfB5mE8/xpd2XV/cD5Q99o/aQm37J/sK5YQ+fGV0LkcM+gZKjSDMuo+B\n",
       "SpB82ZKqtk8oasANrH1eeYpov04DYNyQGGP5+KZ4gJ3uqyWsfe2YoCQv6uofksxHXmcd1RcDzgAZ\n",
       "1EOJR4QwRSw4H1M5ixoWm1dmRn+35v2DzJfKETEx3l4NZn3XUfMhE5jog3RwJzta0aqBt5ZUsxXn\n",
       "CGX/GI+Le8Il7Kbp/sjCQB5v7V7Deh0+4k+VXCI/76hfoeAn3Hx2it15FHJj/GHi5ZOlkmvzj9/3\n",
       "5DXpYXykoFNK2h5cKeUbSfq+wnJoSq4hfB0PS7m4j0kYOhJmOH+A6r1STFGKk+NCUInjmrdzc+9e\n",
       "MKYyKZwJa2rBXTEfGx6O8JZaHyQVVIKa2q+pV0PZAO+wkdobf7aB3fowtqZjvE/CihkJ7QKEyHJ9\n",
       "K5vahs5lYmzeYaM2j4UsWuNxIiQLhFOByi2JWw4X5JEJDkGNLiRZj9bVAmSfBCzN2lR/TbeUQPNz\n",
       "RZFPtfBtHcUndMQc5TkchzY4OfrWRuZ6a6cAxNDjx1i3LsNgWwZa9oDWNAgLSYUz498eeFt0YH4q\n",
       "1y7Zu9sRnWfrQLZL0IfPz42FhdNhevHC3bueeBlpbCcNY0ZgeSYngsKJaxcMUY8/wcQi6Dj5VXT1\n",
       "BjLfk6pvE8QOzYot5/4e4AYFixLzuhxmYWhGVx8d5LXGjcBMXNpnVaLKSYBik64czyS46tAO5VSO\n",
       "NwlXLdyAKwAAPCGgwSa0kkRp6N6ZByhUVyJ16wyC3Ey30jJlz3jj6k3y9pNyqLUxD92acM4Gh3j0\n",
       "OQLEkH/O2ct6gAtpFlDOxSEuvnx49WDVKUbye4IrM/Zugm4MF51JJwBK84/RLTl6IkSRtm4HW2TQ\n",
       "J6BAXjacQPKm66LLfQweojN6uUXGHQIRcvYo89YgUUFoXwAyQtmCVsUWge8+vrLTSFRofNuV3Pz7\n",
       "gxMnqyLn5N8TkirB3SS/kwzur01QeTSFGqwFxcCABZYKpTH7l9xyM+SysT9MyK0LtzjKUYYfniOV\n",
       "XBLk5nsWtpygj9WXIAqCa0gXehQdE/58C+sHs1zia0q6OTcjjm7fvBVm+v5Y1vvfsSQHIlBHqd96\n",
       "+5jDJspz07KB17XqJI6lVBMjgsd2j7RUpgmv+3C6KBDeYy9KTidYh49D/vjnm2XPEiUlsdoLG5A6\n",
       "Y0OU8cVf2kI3MOvEs+KSdLyjL2AQ/ZGzFHg83JxeRy9N1XKCwYf/YEAriXwtSHWyPGQvRNulBwOB\n",
       "vzVBV+Pw8bw8j5rlfaLd4V3ou79kYnJoaOjv3fY78pncn9455SKU5x2miDsd56OZXfBOidAhHL8k\n",
       "5u1/7l+z69D+nDdHIgBqMhnWqLHl2aePvK0dfOOiQs2pSInlKDCNhiGgsbF4Nfrm7/6+fTqTGbFy\n",
       "0zJZpLqiqbp0cDHCk9jkORwquB3s3aefspSp5UBcVRYKH3Vq7CQbpMIAyJGhj4ZIrJgCExIsms9b\n",
       "VDDMc9oyaU2fsymgs3uGaZ51c/HAY89jcecid1nprANTYaZ0nXscHinJgXkEWkiHGNN77VxHscTv\n",
       "CeVuC8kMAUvYDDAN0CxQwv8piO8DwcQi6zCTLMyIDoGpddpnMSFAySe8vGhouS5ABrR7DQO8Ae9c\n",
       "F4VYplYb/67UNW/T4a1C24vtXqbmk8ZnRFI3xHb3HZVqwCSPaI7eYi7suhAjUsvRz3OVLS9zpFFH\n",
       "3WTuSqzmN+vLhUgUG+MP0dfrIs5Q9oM1aViQdajcz1ORgvfjC0FIYrZ6q346up+0GHSvb1NHk5h+\n",
       "JAltnsFxOf3HHZwbzIDCV9eelFy/AJS7/D6Fxc3u2uB8cce9wjQiIFSA3ABYQMypt/aPOQeAdh3e\n",
       "mqpx9OEkY51mDCJfnXHeBmhPhfhVlmOgTzumo+cBnc7BSCCreYhEbxNEUWcK1BCBvi+mg+rxz4kV\n",
       "JvDwNYwUHukmy43DY7UT4vXJAQ05AXWv1IJXcj2y5VXeoTubHR+30ob1MqNFUBGTNJu72Usxa+cC\n",
       "2QxKM5Y2vPCs0aoRzHXUdGVVTq2wyryZpN3e1jr19ajnwd3GicHj0+Fi3al+mxh+9PvrKtV08++B\n",
       "RyfSc9eZRery+nph7jKUbaAiEH/cZVfcSyCgWwztCzSc9F5itsrGU/bdC+r5NMHhXfH2i4jg6EeM\n",
       "w9c6iZhmyBArMjitZeryej8h7CWMaixaNUCQiNV0eKg8Cl23KPdpYiWJHhZSMxYAiFnS6Xc4vXMN\n",
       "Uc+fzY1eFAMkLZb8scV4AcKYD6tcf2Tmta3NWg5m2xr3ZHzY342br32V5v7R/HgXWH50uEUVO2wq\n",
       "ZtIU1tSxQ531mpZXTQ3NCJSVYuyLT/p3QiQviCDjmtQntXHIk0M4ilhXffh4ZD9NZQNwHe/xh8oR\n",
       "3TSisN0V6a2kjSXMJd09ebz9uvwrq2uEIkNk2sLzUUOSvXIzhjuJ+MsPRvFEDDKnaoRphOQB268a\n",
       "8RwqtCznnPfm97yRNpb7yG5PxTq4Wuzfik7Djla7fndoJh8OR0nZYnCGvA2pPKBa77yHHu7EqFX4\n",
       "XW2XB7x4Xk7cJu/QAX0Nkx6HEuLYyjg7cndA1dNBPj57Ybfq9ahQeOfbvubboCmD+OUC3JEwQ8Va\n",
       "G57cXnQykeQIwgf8uIGH4hPcuZZX3185CSK5BxjXqHa/fkM2xwcd5SdZHQdIXH6A6uCo8jRqPk9+\n",
       "lVi8IqF2VIR1qOg9JrnOFs5Ufmmhch59Y0ftM4fSbg5g2TU6/E/ep7oxx29Is5J8/NQC5LMDlbOs\n",
       "de5Roeu8nxgin3iiiGMhB1H3tc02kgr9isv0g1A9t9ikoeKGtAVk1xZ9hdonBCUx5r8JCq2yYfdJ\n",
       "Fs7GZ+dLaq5nT+2yrrRy2uBwhhliuqlINP0+eFN6iSH/Tth3GBrJCgaRYA40BDiJOtJ428E/f+Pk\n",
       "AlpLcSipHIBkivxNHJ57UaVuJJbal0OXM0hdwri8f3xf3/ZY+7bNs2gDauIRyFsRPXcRKrZGDxaH\n",
       "W4l8a6D9lBgEG4M5S1WjN9qKIvyaprPMYxVi9gBxG08kCiDYgAAAAWpBmiRsQz/+nhAGR89+nKVX\n",
       "tU8ftMgUY0iPv/BgV1AHLDN23Mql9w8ljCRFLoZBPQ2bwPwG5cyXp1e/+BttTybZMmzs7EUVCWU3\n",
       "gIrVBgmtMs308yfnB1K4z9kTo/u6JWmChX9064wux7FwsFQ8bLUDWChesL1z8PFMRj5JooY1QECP\n",
       "vprVO4ky+TyPKUwnRF+I/Ysp790Brr2/76Jz4ZyNyuycAJ3iDu0ajbsY8v3eqHWKWFVERTBPGuoz\n",
       "H8S5Th2tJVh/raXt2QZ8Mv3F5lLYf5VvYEGSjttXA9sDEHdZ2QqfHcVQvR36lyhtrG7hZ8zLAYxy\n",
       "nUQEep64Gxgmqb4KlEtD23f97s6CtstPJNVSAbbGfkzurdphhy3eSCo6MPy9/fE9fRKJTzi5k51e\n",
       "YmToOxtB/GXOTetFFYlQvGy9tFCoUuUG58v9M7NKX6Fp/F2lCdmB6bTCGjQDkixrcj4c9XVs4q9h\n",
       "isD1gQAAAGhBnkJ4hH8B5f6MUUastpFdyG2jUywp4ShuWfmPzjot4AE3lDapkAPP24EYc5Wn6ROY\n",
       "SLmKMp5L9ZPxgBgx4l0GCLag30MWLi6tEzg3nlIFbteGI8nkVYiZ9SxFInl4Tyov6LGKByCkgAAA\n",
       "ADwBnmF0R/8DC4AsKZmdO3EHXtSqCo+ypACBDZMuzmgJLlX+x2fpD7CRb9GCLvsM22E/VMzn6EhW\n",
       "y+z4IUsAAABMAZ5jakf/Akvx4q94W1VgAkPlIcDqGR5PmyW1+3BGBSpq+Ez4py1m9Xy0rimFJeSb\n",
       "ub8fCzdIp76YtLRId9l7O7lKuGWNVyVyv2Gf+QAAAM1BmmhJqEFomUwIZ//+nhAEcSBsuWiqAshj\n",
       "hED2eF0ESi9omgSZ0Yr1QREdUO5wTWiibfMq/GVeIZbjxXKTzqAI2V1HYuhiwUBqy9mJNEgMTvYn\n",
       "UhxtTTPGanU9o77GQBpYU5f4QSOHmCA/Ab8LD4wZG+ES5eMECk16TefxBuiioQBcuiNWttyN3Tb+\n",
       "dPqTFpT7hKADD8cJUnw+nc7MBcxEP68JNO6wAq9HrI7bNugfUdfmqmUCzZOIGubqnO/inH6llcOd\n",
       "mPoZlolyhSvCAAAAaUGehkURLCP/AtUQRzmLGYhx9I5jH6+fENgAWzvvH885zdPnyN1/xOIba8WB\n",
       "sXLY+6BDwOGUDiFWig+oVcmEOc114mog8QLPoMrvQtWCMICiF19brR2Ry/MfP95HZDJm6gKW+zKf\n",
       "rzZ4lQAAAC4BnqV0R/8CSsQGoQsU821ZqbQAFxW3j5bC4cgvNhs8XbrgX9gyEPIE8RKKeq/IAAAA\n",
       "KwGep2pH/wAAs8QdjMcoAM5LDdnqehdfV6yNjAs+TB1C3z9u/kwKXxlxj4EAAACFQZqsSahBbJlM\n",
       "CGf//p4QBHCJcgDl1dZxOj1QiHhcnWkvHGlU2ba46T8iiMw7VbNdUOahsOb/DwhyRJsQpwfKs41e\n",
       "6euKJ/yVaP6rDyYMztjL+sBu0cmsXPet/j5rqT1d0Qzn8gP+6wg7Dt6uUUDxeLC/92OzR08GiTWf\n",
       "BgeGutxCFj2PgQAAAD9BnspFFSwj/wLWFABsvWzTeE0AHcZ9q67gb/lrkqdjdWeeyM5VcSgeIibt\n",
       "Y/PGJ1iXVWZtXiGjRoI4odMO2pgAAAANAZ7pdEf/AAAV6OZECAAAABsBnutqR/8AAFsrdAAQP2TA\n",
       "rPxq2gFCv6+EgE0AAACJQZrwSahBbJlMCF///oywAAXcpx3NiNnQCi5XFqz59MV+WM82b5Qf32JT\n",
       "bVDKYhKA7rDKcBcdP53/6lc7IYosnnXPwKkxviED92ufS3MTtmdKBS+xjTix78Wri7/VHWVg4NYP\n",
       "8UsPg2hJy3tDs1bjgxZ9IKvg7zxrGCq4M5s1wU8+G4pVHU6DDRUAAABCQZ8ORRUsI/8C1hQAbN8z\n",
       "kAZOIGX/UEX6lNlkP720H/rYZoyXTegXi1BtUYf1OjRz6V+4HxOPgSyVURkNtsqA+ip7AAAAKwGf\n",
       "LXRH/wAF+vdGs6YAJHFCknj5pKzE89xLVtE3BogpGRZ8ATMcc3mFskMAAAAjAZ8vakf/AAX36+1T\n",
       "sOQAN8SRPIWpDHJiFagXIW9zoVZWuIEAAACRQZs0SahBbJlMCF///oywAAXcOFDAA0xefUdJVjT5\n",
       "GS/Zh50dhORiiZ5VXckaes/3kLZ6Bh5u0fx60DfK59K+UeoTDedeqkoubZlGoMennMAFi4H8KNcW\n",
       "mZ1/l2DVKWG4Atx625JFCtoMX323Ea/j1ambYh/a0hGu/UMp7YuBn/ud5o79tD6VeTlWXx/Z+8Z/\n",
       "0wAAAC1Bn1JFFSwj/wLWFABFTI+p72caoAO+Jm/TtpOoBLSjuIP+lD/Oj5LOi8BzroEAAAAmAZ9x\n",
       "dEf/AACxei+GkAIA7hn4IZT4X8G4eYaObfT018W/nL0JbdcAAAAOAZ9zakf/AAAsWZ7HgJIAAAB+\n",
       "QZt2SahBbJlMFEwz//6eEAAF/s7JbP3RVQB+47YlCgiHciP/p5qHDzRIKXigvvdT+nb8Ai2moQk8\n",
       "yW9HH0eZ6hbOhOd5bIdYHmZfTAVOp2UvnVfM+Ri6sqOwqyMDZbLJue3+TGjYMejRdHZ7J+Xt5ut/\n",
       "7yrmxAHDx9QQDHngAAAAGAGflWpH/wR0+QEKF+/AASSi99qYW3M3oQAAAJ9Bm5pJ4QpSZTAhn/6e\n",
       "EAAJ7jF6Adm8BqUYNAIHEaWEytQG1iLQiZw4clc/ZyzYeUfgbcMe3P//s+R/G8nkAAE6ouVs8xv1\n",
       "I9om4nQ99SZMgxUpQa5zmLr+DiqOkt0Ac1jw9/R2VrClEmavUwGqSYlLn5SEWn68lWdi1xEUkcCr\n",
       "JZgrYMh9XBnLEJNSPL4lxxCl/ZfVoVEc/ZTZJZQJScAAAAAhQZ+4RTRMI/8C1RAfi2zwdGdLJACU\n",
       "jQeeHrAfz+5UdThAAAAAjQGf13RH/wGENOX3AVbfGxHiYbQeqyYjHcHRjDY48wgDCSCqrimDM1G5\n",
       "CsiZdTeabv22yBTbmndutMIwGPagvBIpblsae29HAQDEDc8o8iDfn8G2XwGkJOGNArl1cQH+n2Xy\n",
       "3i0xMDbXDAa8vfOGLGUseN15wSCW6f8VE2QDsaAk7MtXniVupXIWB5wO6QAAABEBn9lqR/8AAKyo\n",
       "RfjL1TcyGQAAAHhBm95JqEFomUwIX//+jLAADABYelWKU4B4jkFsVqnCnQ+E/sbbXhVKp9UAtWST\n",
       "myi4wwruya7vRPwWw6ujJNJpUhZFrYmZ1hxSCA83AbsKNiD07VDLLbDVwmir54g41uh7BEoBUafp\n",
       "+wgUAqYAQ5rSq9h9fuJ4DGUAAAAiQZ/8RREsI/8C1hQAbKXMrY6AQrDZsJVyqyXv7BWy9i4h6AAA\n",
       "ABYBnht0R/8AAKyLfHXUAH7ce/o97XyAAAAAIgGeHWpH/wAVXjf7gKtz7PKi0qAd6YXxJrgiDCJ+\n",
       "4kErvz8AAACAQZoCSahBbJlMCF///oywAkB1UahVAAZsIYTeX4BzlVhrgQCuqlTjnUb7x9Wwiwq6\n",
       "VozUsB5noyxi9O6oGJBsoVnfc6v+TGDWEpEiyGjXE/wP+7NbGtYMntXmnWefrQd2jYxExzu8ng6Q\n",
       "h6+q46VKYBfXk4NkKTCbdANBSxJ4YAEAAACEQZ4gRRUsI/8C1hQWXET/fqivTb5OgjYZWTrIw8ft\n",
       "wieJ2wxp7B8qPWYn7YUlryY+zbQg//xecp/jpGiCXo0CCn7AfSZfdppiGQTXTU1ulrUSrl2+RtnH\n",
       "oCcYwZM9CMOGlw5txhGbzt8I2OLIv3bzecAE8+oJEEKmeqrlyShWbtDa7YfAAAAAGwGeX3RH/wAC\n",
       "w+hO8QSsEh7Ca6LHqyPM02zUoQAAACsBnkFqR/8Bff/7GUElA7AgqYKvl7JrpcQLFbmR/oqQyz4E\n",
       "YMJliDGJhkm6AAAAj0GaREmoQWyZTBRMM//+nhAABc/Vu3xY8lzJai96HLCcIA5XYvD3qfp49QmL\n",
       "hEbnv8zIvMMHXbeimd/xk5u6YauFFSiMyOPhUrBzw9DFW8C/nddYovynJL5oeOEvD2BUwpqFxZ83\n",
       "A1Cx4hTJyZpKOkIgJrJSPrNurhzvec06ucfKE5c5R3AOm9bMkR2WqZq7AAAAIwGeY2pH/wR0+QFK\n",
       "GRdiyX4AwAmdYlt+7e0cEfm0w1DqC4jJAAAAj0GaaEnhClJlMCGf/p4QAAXN72dmljnUAgT7se/f\n",
       "vO/wyFnnMsdpHHDDhI2tZ/2iNvbNVYKS35uE20xYBak8avQWCUNY00jKYNccsPGiSYzcJfbvZKiS\n",
       "u2fjYrX9TNkfdlsq/dh7rRQnmz/HMAzQkm22tO28AHJr3Ei83LFM254+LBIYyZ1Oxgr4UzZ3dQlw\n",
       "AAAAPUGehkU0TCP/AtUQH4YA7pnLoANqAeDcAELplq/e8GDku6qXMkBNp6AXiRST10pAVMbHXDTT\n",
       "0jxjEKCZce8AAAAlAZ6ldEf/AACxRsmzpgA3/4xfyn/2aZpKggA5Wm0n2sb3bFAb4AAAAB8Bnqdq\n",
       "R/8AAvwv0ABNC+P52XuiUVaJsrxIfbAS54BvAAAArkGarEmoQWiZTAhn//6eEAAT/3fwTaRWyQBc\n",
       "sA4AYL/xtB+Z4SOOBIxxc77tmVVKRgR+gM04Rzwzwvo299rX0hC+lgmsp+c2l0PjYPXOQBRUpMOy\n",
       "dauxk8sQKD8jdIqwZdtp1WjVfSTllyRsJp7A5KklMvkIKRIIokLQ9VaQ2uyfArSPpqRzeqIqZhk2\n",
       "LsQPsPXX7No4fJQ77v0hsOeUSV8JwzTiSFWmep8owI11dQAAAFRBnspFESwj/wLWFABnG63ekOoa\n",
       "P1Ja74pABD/ExHHoHoQ+8Qg4OqsqZiu7cl9MewMqa6HvQmUXrAxat4eGwc1LySF7f6eBaQEcJvi0\n",
       "Kye+gZQT1PMAAAAaAZ7pdEf/AABbK3QAEDlb3KD29FSCsOvcY4AAAABAAZ7rakf/AAKhmwo8YTQ9\n",
       "qKgBgdOCACDnNt5eaH9s4kcbi/QmdsuiQ0HOZKp0dXJvaEVFXgEmnjp685Xh63tPMQAAAMRBmvBJ\n",
       "qEFsmUwIZ//+nhAACe+4iAPglOf5/ObZ5r7YJHVQRqLWnnihAGFDAnjo8kFNAPpPC0D6KEriSe0s\n",
       "H9ez6SvOVfSvCgsjTgJtlSi0wwtP3Tew5nPthbltXdXcLe4InWPZmh6lx8vQy803149xTD+tSyMW\n",
       "hCLgWzB/IKUpQb0cz4OG4bJBtHWLoqeq/kUCjBbY1WdhCWwFdRuOs2qIWeyFuaAopGcTU5sprcYR\n",
       "NisGsfOcMMkBl0GHVNmzGD08eHvQAAAATUGfDkUVLCP/AtYUAErbQHNUx0qAD7pb5DqVEI/x+pal\n",
       "vb/Sc00XgDHOcUHJqbT/gtVd8njvT6iUibXsOArYGFLBe8F/3bquM6tM3ZnbAAAASwGfLXRH/wAF\n",
       "+vjZxlavnonMAI94HUXJOs2EtJR57LnIWxINZhp08ZsnJscemiEVCr4iiVMVGH6lfQ82R54eofP7\n",
       "/IkkDldqQc59+gAAACABny9qR/8AALfrVn9QAA/suKj91jWn34adKAEUwqx2gQAAAKpBmzRJqEFs\n",
       "mUwIZ//+nhAAF93EGgBqfYIL/xWpzGinlsmETIj8XrweK9Zz6K1bOGMBeV5dYoPjRmEJhFXVNp6Q\n",
       "8LVwtpa6yu6SvBWAEpzP65YJ+fe3uRkOHq3Nz7xwpCvm6WVbqOWxlQflBersakC+NIhTUVoRVp6e\n",
       "Jb7YmnbDxL6jiZN71ekyZAt2EZ2mDkoYkvMx00pv8y83ZdGiZ1RWX/etEVe57ygunQAAAExBn1JF\n",
       "FSwj/wLWFAD3X3JQpzvA/vu9AAiDqZ0buPAn3Crr3B3iziFFlMlP/AD4Iq2PRuZTZnjOfaYbgYjY\n",
       "RoApS3mHpNCccgd+WGxBAAAAEQGfcXRH/wAAsQhpGUGn71GRAAAAQAGfc2pH/wAMRKi2LNTnzAKn\n",
       "HIbHoC7lDAM98wOBfJa5E9HYvZNTwVCLRIT5L5yghXmg9rLEk7+HInXeCrAOmvAAAACtQZt4SahB\n",
       "bJlMCGf//p4QABh917gAa7RrJZQ4Tp4xqzH92VSY7sCuRvpH9wMSDNVZOpi5PRP5XOVJEjnN4B8Y\n",
       "vHhWy/QsxLxLNICRLOhVY075mj8FymXBO5+dxIfHfDeiiHmLf6qT5Ne3/CSdwI7UyUbsxpDz9UCh\n",
       "Lv55OPokxCP3QUX4RyRvKdr3sgiVy2nQmFcXzLcxRJzEbZPcWlitjV46hMlpULDL+H4BYuAAAAAw\n",
       "QZ+WRRUsI/8C1hQA8t9xDLkuOQSsxNU6/BIAV0IUvaTzBJK/m93Jr78AXOPFxdphAAAAJAGftXRH\n",
       "/wAMPiDpOpub/HXkIFZcSDCADzCf5VHmN3iOHzkyJAAAAEwBn7dqR/8ADDs1Z61jA3oStUSJkUbh\n",
       "wb2AKUSeMF9/B882rUouqTad81M7oSQ9ruD/qney49o1UQGn6Ze4FaCF1pFHJhrKpjUuGqPAAAAA\n",
       "wEGbvEmoQWyZTAhn//6eEAAYek7fPjIVdQue9QFpOIFNupOqs1WvKATa9Pn2VQFKf/2sDQku1dxA\n",
       "+jwyBupucWfRhfS/HAPpuzahkfzP1rJicvYTFb4Lb6x118gMTioFp/wm9fMpAEymfS2+FzK5qaZ2\n",
       "0h+4aC/7vsiAOnFW2awOOJJUZay/De5vSMYt+fnC3NpeExWyegN3PkNRXsgoHwbIPWNmqw6ZWeNI\n",
       "cn5spHQ5qZ6FcGX7FupGLagOziqq4wAAAGhBn9pFFSwj/wLWFAGu61o5z5Bssdgwxk5L0c1iKhQd\n",
       "VB/BTTRcABIuBMKnCBLqDzKedq6Y0d1wLW3XDxjLZHWr741zyg//1x+K+BZncSHU8NVZy/boKBUC\n",
       "0bqZsEUrudeNKCHNtTshwQAAADsBn/l0R/8AC+4iBY/84VVACxz9bj2W6Xhi2GPr9IxwJJB3RgzR\n",
       "JMhu/+ueqLc1gHsBncgLztfFLDbEOQAAABgBn/tqR/8AGIk+To02c7Dt5AqTyNUXw+0AAADOQZvg\n",
       "SahBbJlMCGf//p4QABPfcrkR267mI6ATODFwnRZR8dVLuj+4sxHUZ4FqB/hFuMlgfVEvl09PCgk0\n",
       "36/DrPhUAddQxOUXIdV0tAgmIjcoXTB94hN4oCpn+/8QabAPVj75/QzicMFWLkrJ1QgiKduDXwfw\n",
       "+jLtzYBlgP2Jm7pIvx5L3g+np+GuHUsX+TWg+cq2KnKq0jMdBweanxqWe94Cb/35jbOdL5lD1NEP\n",
       "n8jt7HARrsKbxuD4LdNGnG2c9sHCRq2h7NMEqy/SOIAAAABnQZ4eRRUsI/8C1hQBrxKlIeMHzUKX\n",
       "MN6VIzy3IryszlqHsiGUPiJNEwObE5P/apybMN3KVJZetYV759tk+3QSN/BPVkIlNE3OVV7s9eVQ\n",
       "5ctcw9FNQwGBERdsRLODnb5RTBIE+jS5pwAAADoBnj10R/8AGHwqcBOvwBEdXZ6iaX2cdHGhgD4f\n",
       "jDUf5YKZuMm1nwnlZ+dRuYZO+/EhmIFU4TyMluEKAAAAMgGeP2pH/wAYiUGLDSl3R8Xkm9MyAFZV\n",
       "e3i9A3Xa/gcKaA+gh6KLbYuiVY4YGNL0ywBYAAAAk0GaJEmoQWyZTAhn//6eEAAT20C2RYIhwNOq\n",
       "/KkZAJOiT93DK+L3+z+JMF3ID8SKg+QBpgtQIWsMFX7BJjB++tB+og9UMB2dCJGRlf4H3fpYwXM8\n",
       "hPW90FvcxjN6b/XzLxpZTPVl9fPpKCyf6GCuN3thmvImMKpUWEL0H0uaW7EzxBcj+0UCrUsCFvD3\n",
       "U8IlXKl5gQAAAEdBnkJFFSwj/wLWFADYLuEfYIktaGCMHLDOdfsCgA+NrblLnDv2IuJ9w1jb1/jK\n",
       "wZ5GqTaT7YXYFoZnwGpGJEdWFYiGzH95gAAAABEBnmF0R/8ABfcK0i7qS7NnewAAABMBnmNqR/8A\n",
       "BfpQZ8LqF3UPiz8hAAAAgUGaaEmoQWyZTAhf//6MsAATgt5ugFcb0/6W/BobSrp7RMBhQzzhYBVG\n",
       "pTQE7tbG0F2AzIznGRPjoYuF3GjasCKKUg75ZUwscy9WGvP5AyJ+x5xKOUECFilMh35VmJ7+de+Z\n",
       "ccRTi8qtulOgb2wbaQWd7dPashCRjMpaF0w8EQAE4AAAAD1BnoZFFSwj/wLWFACZhKU4sj+P9yfQ\n",
       "AJVDdaUU42Mi42Du5zS04gPLfWpABfFJWPWL1XdrB9blVZNnahiBAAAAHwGepXRH/wAF9wnhtIAI\n",
       "0pP5A3qpmONBFBQPTS9FxfkAAAAiAZ6nakf/AAX6T6NZ0wAPvBpKkcMawGOfGFIxgFW6FWwN8QAA\n",
       "ALdBmqxJqEFsmUwIX//+jLAACgY2AgPjXpa0SmxcJTv/oKkm63Yn3AixG8fqCF9sPgSBk6gnsDJP\n",
       "i7VFe3hwu9C5LVqNLpwostVEK72btV/DiMnBxroJ0xOpT79bNghhzbaJaqsNARI/NJIeVMW69pjG\n",
       "R+Z21ouksf74UuU4fQy0B9CCvrlPVLEffqjBaq9qHWp8Kn8+A62tH4ekm8Domd0v6/vetAkaDUe7\n",
       "zjP+ObYk/kFP9aZpk+sAAABFQZ7KRRUsI/8C1hQAbKY436vHrSh8iVZkkSAMpccmMP8d8I0iY68x\n",
       "bfGvtd0cvZHf2oN33tt7FIeIH0WBag0+CwKJg2i8AAAAEQGe6XRH/wAAsXpWY9AZfFXYAAAALAGe\n",
       "62pH/wAYPXPDYpde8nyEgBCAsfhVk73KOuwqRptKe5FfzneMhsGt3xDBAAAApUGa8EmoQWyZTAhf\n",
       "//6MsAAF216aoDCx8qLbemD4YTOM36dGo3P8HlLbbhB0cv8M+dE4skYg4hd8BwSo+SOhQVu9DzRx\n",
       "rFfd6gvjmZ/1DhKd0vWfufBMdfSGRFggXgiu+ekhviL6g4gss98s0Jq9ht8DO8z9QLpxeIN60NBe\n",
       "E8tmInrexSakwk7a/Sxt6eCm5mgU4CE1omPkjo4c8hBfMbHAO9z5gAAAAEhBnw5FFSwj/wLWFABV\n",
       "vvZiER83mwFR/3NMxRDU0sXqOHro7yA0/mpUC4LT6FjUEwXqUcbs7O4zRED0eLHzTMDlN00eF9k8\n",
       "By8AAAAXAZ8tdEf/AABWv3mABscMkRwA2kR8Y4AAAAAYAZ8vakf/AACtVUABf42hZvyDfKQtE5jh\n",
       "AAAA30GbMUmoQWyZTAhn//6eEALpytX9OunfGpzBYC2BT3QfYhXZXU/1sZsK6g0pJmLf4CHs9EAA\n",
       "FtikqQ87yNJRUsEGgA6Yad7WQKddHfa8e+yrN8QunyBJ0PMa8Ts/xfxh1QRsDDqQyH1lMgWSQ8ON\n",
       "uecgT6EY3AahHMR3FCD+/jUceoh0Wa+RmEaLi35W3PJSsbPXi9ZwuRT425OKQuPXfb3Ob+UHLeUO\n",
       "nn46I+HIeeZjM1Ddqsit0DlrP1rCk4aVMCg6cZc/HorblnF+EdGdpBXKTYpnRwA2Cq1cSjWP3UkA\n",
       "AABeQZtVSeEKUmUwIZ/+nhAC5erfA+FpIl9dCcj3hAnvlrrEiHSUyp9SbJ+/59W1BHUAhWjF3gVj\n",
       "UCEcPMKmheLl//SjAHIAO/tIDW/UbI9oje9afgUq46Uvvb4F2UQ3nQAAAFxBn3NFNEwj/wLVEDjQ\n",
       "a6fG5/5yfDWxJaBM+mKKSfn+SUsXhAo7wyMc/mmuiL/gWkejuzuqTUCXmb7HncfPRa/WoESlVsjo\n",
       "MG8bKkFW0NeOrMhAl6ouXlWzhIgm4QAAAA8Bn5J0R/8AAT4XTP31xMYAAABKAZ+Uakf/AX7ylbj7\n",
       "54IOJVQqIOKUB1CzBU6VCeISEh9LAnG0Xg6zAXnao+yH8VKgLfc75vTgK7hQuVhDSH4OwpjpJkAr\n",
       "xeugFPAAAACHQZuZSahBaJlMCF///oywAtv2iuFNWCYdU8Nz+ctXpMIkLyPxIX0nID9pYhZgQ8UQ\n",
       "PjLuH1GZkAF9ejLHoLlNsPwRSF3xeAPBP6ZGGSmr2OHG0QiYHkxfNaEWZXuar1x1ETWiWfJ4QV11\n",
       "pxQBI0YLg4St0EwtSBvbmgnxYZAW7U7Vfv8zACthAAAAXUGft0URLCP/AtYUFgK5uf12WZBKxowo\n",
       "iSBQihcW0qdKNXYCC19KQziynQEpJwaHZkvsJDaCfav45SHKFB+yQGm0lRkwpOa4nn0rwEQi2zd3\n",
       "3qTugnGDVz7AaKsQgAAAAGUBn9Z0R/8BfpRnRjHcoo+cgLUl5I6asz1E8nHuAlWWdwJKOlJTljQv\n",
       "NYdSrB+5JUS4+sZuJFGFp/Q/TVNAN04jm659L0Cn2lUN8o+q3Kyj9DvcHCfzhlDxNvLX6ixO7bgT\n",
       "pqCmIAAAACMBn9hqR/8Ba81p6VdqK/5jVuT8igATjdEMuzKTn/PZL2QzVwAAAK9Bm9xJqEFsmUwI\n",
       "Z//+nhACwerNEi3xYVh9FRu9xkAzjNcEQM8p/qnyF7HzQDj9bwMI+DvhMDWAEk/jBguVm1QgnuSO\n",
       "zP10J8ysu5XYJb7+TE1oza0/Vjg7YNl4Idlvt13O6RVuf8z/0lbvAMUgldfSXrb61dk6xY2hrpcf\n",
       "xahWOueAe0/YM/vp+L1OYX8d7KGQnOAFdZ9Vb1I22M0GEKZ3b9+ZecuHLnH372Ev5xThAAAAJEGf\n",
       "+0I//wRzC+W1rFo5Yd8cwAGxpJVYuOWkWcUvCaHY9BFwgQAAACkBnhppEf8EdPkrXEY6OF3SSXsz\n",
       "hcSaf4cAAH7x4+/WxYpqXSIWg9t38AAAALFBmgBJqEFsmUwIZ//+nhAAS3hOlPnZ+pIM9XF9Pahl\n",
       "hPiOhm2qnG5BtRe+o+3apj4/52EUXJcgkXisBVVLAvm4qFY5Yq4+Sp+C6ehHT6DvMSRz/H/dPsqD\n",
       "09q1ql8zwgdAGD9dK/UP5nyhIeBjMZYwcaf5tOyiIDM0pMwWlZrT/10gFdHFwHELqtzh/HowIaC1\n",
       "nc8XqPGY1SlZht8NLdRG9OStzg5lhvOiriuS0fDct4AAAAAwQZ4+RREsI/8C1RAfsrLZaj/cAQ6o\n",
       "qUCjBzbuQa+lJBPIN8+j/IXQ34w17hoxfT/hAAAAHgGeXXRH/wAYPXPF43KABcTN0gCE+4iglPvA\n",
       "Gi8ugAAAAAsBnl9qR/8AAAMDugAAAG1BmkRJqEFsmUwIZ//+nhAABfaT2MAgLwa2qXbzbGaHc04U\n",
       "nQfBKeq3SEgIYl5AovfGZJEeQUF9htt0vRJnk1mXoWyrCJ0Q1XNDA9qZdSmvu7uONiPf2vvs/7dz\n",
       "+gPCVY1jroAOMfBsC4zFP0B3AAAAIUGeYkUVLCP/AtYUAGyl2z3EmdXoxB+QAjxW0edtlR5d4AAA\n",
       "AB0BnoF0R/8AALF6WWdMAD7wZVn4jlQ0KW3/0vKLAwAAABYBnoNqR/8AALGQTkXGnWABA8BWDKf7\n",
       "AAAAd0GaiEmoQWyZTAhn//6eEAAF0Y+Lp8QLYbyslNi3qO+ZWBHjN0RmYT/zPpVoG+SN/dQu6ZA9\n",
       "F2cO/ZghilpAPX9LjjZ1TpgwqgdNo4UI68Yj4GFH8xLEIS00qqSLE+kOiF8+8TQk3ZRDEUxemlfG\n",
       "3leW8Ts/iziAAAAAGkGepkUVLCP/AtYUAFXRKXFdvcRUAGh+rbspAAAAFQGexXRH/wAAWL0smbdQ\n",
       "Al+AWC5boAAAABYBnsdqR/8AAFm2O/tAAQPBJlxr8KqhAAAAr0GazEmoQWyZTAhn//6eEAAT/3fw\n",
       "P9hf+UAfu5xDICOlfVojszrGwitvH4t90glpNTPg8pnhCYv61oN28CqI4WQvW4AZraVMJjBj9Q9z\n",
       "A1m8Khpy55o+gRf30sbodlZECI/dxltfstvBCqHi9bVBAMgAJbHZcCFgecBlDEKiJD2BgA+8oPwR\n",
       "5NKHe7P0fFehWH9pMDDoCLR/I77qUCd8DZLqvlzDBPhmD8Ss49yM/usAAABPQZ7qRRUsI/8C1hQA\n",
       "Sp9btlkHAETHS2yX+zC2BFqlt/T56wsIfaJLXrPIKYhag2fl2O9FeyWn88ZU088o2uwHJiAFMCW8\n",
       "tqdhEauPE6+hzQAAACUBnwl0R/8AAXUSae/UgAEQcISjawe7a0aWVieYoC3efkIqpyzAAAAAOAGf\n",
       "C2pH/wAYPXPgfwnMk/5RhVeIAZg0r7tCde3fVgOA0t0UPf0WIynd+d1ens4wb/MvZTc27NMJAAAA\n",
       "pkGbEEmoQWyZTAhn//6eEAAYfZfIk8TGiRgAJH7vmkrfCsZqcEQgjYmH1uZ4t0IiG6mOWVSoofga\n",
       "AMXPwsfKuaS5el3jckIjsE49TLs5epX6yw4Nop9Vmn5UMysEtU9pGtMA3XbuCyfBc7amXd88zHIA\n",
       "IsgHvvQsF76wr9nNIbegjE9nWjq57UEWW5dEiHR2DOIWcv685FvF3HLIZD69RT/2GW50lGAAAAA7\n",
       "QZ8uRRUsI/8C1hQBqm8NHr/p8AdI9SSzYLw93/eTP6p1irYLQk8TJ7ftKvJ9oh3UMvqxBp8f/fba\n",
       "bQcAAAAdAZ9NdEf/ABh8KkvLJ3uAAlWmKt30JRLkl9WuvsAAAAAaAZ9Pakf/ABiJPi87x8ABOKDR\n",
       "tfTQOm1hv7EAAAC9QZtUSahBbJlMCGf//p4QAAvtKzhQZloCotLa9AdGR3Z0cOYY1HaL7BxnBmLO\n",
       "ru0cYdyMBlOVU2WlVU4maRUlGfaVtzE15pKYxtp7nQZsfVHJs+amNLvNVxqt/6nRcXBqFkfIs2tv\n",
       "MjBo+3jeIcqPM6wY29g/Wb5XAXd5/ZYfke0FbtMn+w53olWUYQI9DYhJ/5EH7v1FP5myfjQSheN+\n",
       "Sx9MbzHhDMkjyErClN+A1TKBY7n0N17Z5JRksN95AAAAUEGfckUVLCP/AtYUAa8Si66Hc9wT8PmQ\n",
       "EAEyPPGQ6uqa310VlCFA7368AsWy0YjERb2sadf1T9uPja9r2+6ezRv9lzc2uZtueGm2zj/0qeKr\n",
       "AAAAJAGfkXRH/wAYfCpvMwZVgAkkkFus5IVbROT3hsdohzQS/dUoEQAAACcBn5NqR/8AGIk+TrZE\n",
       "AAh+jrxqD2yzDD75W+VJPUQD0YyTu8//KHAAAACFQZuYSahBbJlMCF///oywAAUnNNFU9vkGn2u2\n",
       "4JUkGM6XBxu7anejw10OpEHu8kH/x7XCy1JhEA5rVzLZAF9qMNr6axF7MuBwbCX9nK4uxWPLav3t\n",
       "NqyC7Z/efCXuxdYlJpmmXH2hnsRvir7fKvkXvTmDT5f/4NGOrCuqu6+8BTVIEftklgAAADJBn7ZF\n",
       "FSwj/wLWFAGvEo14XW5L/jHgAXUbti3nM/bEMcN+3fkGS1KiQ6atmnd1Z2ubEwAAABQBn9V0R/8A\n",
       "GHwqcC8+E1yl7VNBIAAAAA4Bn9dqR/8AGIk+SlCeAgAAAFpBm9xJqEFsmUwIX//+jLAABdwINkAn\n",
       "dzUTGeTCbkD7SrvWK2l9wc+TsMiKdTHOQ9wlRmJLtr34N+/0s73j0QcIFIEKpXuawbQs1RF3geV/\n",
       "sEFbYzfhAt8fdXEAAAAmQZ/6RRUsI/8C1hQBrxKF7CpXVABodoTadh5Wlxr083JK6eT/aoEAAAAi\n",
       "AZ4ZdEf/ABh8KnBOSpAAP2onmAwiaUyApPpd5ksKXGt5wQAAABABnhtqR/8AGIk+TRIY4MdYAAAA\n",
       "lkGaAEmoQWyZTAhf//6MsAEgH0BAMehLyl3C0V2nM2TcfAZTBRHSc3r2fCThaxml+4CMWxaHvnme\n",
       "PCinkj9x5WAL/b6riiaCB5PoV/d0KCcYzPNkIVj+4jUwHT9pJqGlYKjLwOHDgwDJiij7jOsV/tpt\n",
       "6MJn1HVGeBjXk4cVEsM1geCt7n9tDVYJtC4EvwE4iduX3m71YAAAADhBnj5FFSwj/wLWFAGvEoX9\n",
       "NrpCAFUJQL4lcDdyMemBYtXFAK8+gMiv2X6vGZyGVKi+/HWZakowzwAAACQBnl10R/8AGHwqcBOv\n",
       "wAturqvrLs0JrOEjMrp/cweT0FmzxqoAAAAaAZ5fakf/ABiJPlA7pjJADV6hHqjxXdapoqAAAAA8\n",
       "QZpBSahBbJlMCGf//p4QAAT3OCJAIu8uZEXpadHFuzCar4GsHgtln+T/Lp+7rjFJH4NZD4YGkXju\n",
       "wNpxAAAAYUGaZUnhClJlMCF//oywAALtjYCAZovYpXCgZNfyduq/fYHN74OLLkQnG/Fldn2YQLRT\n",
       "UotKnaOIdsJv5AtEo7IZYEyBrNmewROrWwh+8JOfOfB9Ktw9q36auZ4xaXuxcJwAAAAkQZ6DRTRM\n",
       "I/8C1RAhH8bY5eFuRCAOeWK05LgogBTRudG7TkdhAAAAHAGeonRH/wAYfCpuR7W46oACX4dpXA1s\n",
       "cJy/SsEAAAAZAZ6kakf/ABiJPk6e8Pk0COwAQiqJQObjMAAAALlBmqlJqEFomUwIX//+jLAAGKfv\n",
       "qgFcb1qiNjMgD7ARKTdoCrZPDMsNsEvj6VdISiK6nPrUWBQBpheGO3mHSKf+EaBPzKvv/dsjjYAV\n",
       "g3nnwrpjS3FfTEinVaR5F/HEEIrr3EDoLQYgJMEwowZIEuOupbzbjEbewemG49MGCANgEog00t4p\n",
       "N2bXZjSE8YkuY4onS8XBEL2X/nSRiGyG7CntOAsXu/SnEFULMWrMsL73TntEvzAWkyqKYQAAAEdB\n",
       "nsdFESwj/wLWFAGvEoXitKCz0AD8NZL/4fUoRhLDQMkrtzv2Nai3YbuZ81pf3bofCqkOWz9nwAJC\n",
       "Hu9QEb9vUpCKtOqBwAAAAB8BnuZ0R/8AGHwqbzMGVYAJJ6qLFlk8uUYPQPA3EZtNAAAAIwGe6GpH\n",
       "/wAYiT5OWM+ngBANgprNXc4L8xv98TxH9NvRI/lBAAAAaUGa7UmoQWyZTAhf//6MsAABbWV2cX+C\n",
       "sAA5pJ0J2NTi/j49IjWplerI1B2He03df+vgtiQcvY+B1mFtmBgzKJuxZmyFv24S1B1wamfaNjEa\n",
       "xfF/x8AvLoi50K4QPKX7vHuVD6PgShLBtAAAAClBnwtFFSwj/wLWFAGvEoXrxH4AJ2wajsU6utC8\n",
       "0cHoGeRfBitAP3CpIAAAAA4Bnyp0R/8AGHwqcBCtKQAAAA8BnyxqR/8AGIk+Sbt25AQAAACMQZsu\n",
       "SahBbJlMCGf//p4QAALZ7v6bC/8oBS3z6IflX5fH7Cqc2xc5gYB6Khy9zsPKHgQRbk/3295AXKlu\n",
       "zSi9FZPpHTbr4UlhU7qOybymhsQ+UagzTjqhED+lDm3zFhUdOM1db+ecr/dQlpSggMUoLe/xqRcU\n",
       "OxEV7fMr/+sueghLWi0XbxHeXF7zlSEAAACPQZtSSeEKUmUwIZ/+nhAACeu/oKcgN+d7mmiEihu4\n",
       "wLzoEwPEurw2CRY5rrgVNXrLgz1x0CCFkHhzBaYwZDjwRuLju6a2epMGNyS8hBRKmd50wjNq1X/K\n",
       "34NQLO3HmLgw64zp/iIetWc8l/vxy57viiZORTtxN9kxabf//HOOSsjjrW12z6nUtID/4Avg3oAA\n",
       "AABAQZ9wRTRMI/8C1RAhH8bblN5PkvJlCARxWiMnMF4CdXmypFJC82I4JsKLg7w4MZTW5KgmPd5L\n",
       "eP7XRLBTwQCdQQAAABgBn490R/8AGHwqcC6sHzqKgBLNgG87IkUAAAAZAZ+Rakf/ABiJPk0s2tFS\n",
       "oACW4xebbNxgoQAAAEhBm5ZJqEFomUwIZ//+nhAAAtYS/+ciqCa1AHQPyRbE9Nf9u5wdfDVo6EOw\n",
       "w/B0DzyUbvz3wEMxio60ZpxPWJPnKpmcUaUMvyEAAAAcQZ+0RREsI/8C1hQBrxKF40InvN4hACxo\n",
       "rJ8ccAAAAAwBn9N0R/8AGHwqKXkAAAAXAZ/Vakf/ABiJPk6Mw7i14ABCVyusMCEAAAC5QZvaSahB\n",
       "bJlMCGf//p4QABh4SWgAkgXHxn4Qgxpe/ZzizbK5U7hGgUhslivF+xVbmiU0L+6WXVyz4+KYgiVG\n",
       "pJ5riPijYri3sw1j67uIorqs/mKS2cqtwNHa3taNbtcI58L+ww+ZeBHv9dLucE0/BPHy1jhC56Hh\n",
       "4dmQfR2nhcUfuCHUFrafQ3i7ZD6Yp3xHUW9nMp8mPs85QVhC2aGJTpq+6vRsBxWGmzHtlNI7323+\n",
       "HzvY/cSrdaAAAAA4QZ/4RRUsI/8C1hQBrxKlGhTy/JgsgBbwXGHgLc4jNsvUctilrH2GF42fkRqs\n",
       "h//qf+Hs6cEgR7gAAAAWAZ4XdEf/ABh8KkslrYABA6ml4rPJWQAAABMBnhlqR/8AGIlBiwuHR2zX\n",
       "FvbBAAAAOkGaHkmoQWyZTAhn//6eEAABdAd9rhoAblwVaWUez00U445XG9H7s4JdexVdrMspCbki\n",
       "DpvInmdT9/EAAAAlQZ48RRUsI/8C1hQBrxKlIdocS44+e3nxL5NQAfhEV7nIfRMFwAAAABUBnlt0\n",
       "R/8AGHwqahDYeWqoANa9sJgAAAApAZ5dakf/ABiJQYsLifCbohABLVhMvP9EbfszyX335NY1CLZi\n",
       "NbEgyyUAAADEQZpCSahBbJlMCGf//p4QAAvr1lyASrdfr5lvkLSf+zFaqYlaUnEnj4v29R0y7igD\n",
       "8irO6xK9Blb8RmPndLDvogxOcyeTQaDfHAuFujObQOrTH7Zw/5s75ndpA8iP1PjmG1ZErjnorSNw\n",
       "W1nnlkMrUvPqfw0sAL1VksNwPQhhemywEScvDoU4aAKrXjQnPO+lR7yPQP/zm9KPZRcQzwaHFp9B\n",
       "rC0SAkJvCE1yD6G6sV9ReKpskgaQcMitakz+XssCdtKGhAAAAEhBnmBFFSwj/wLWFAGvEqUh3DLR\n",
       "pKmgIXZurDRmtAYAFtvhfxxhDP8Zjv/Dzw70IBRDUw7qTgjiju+YJVmKh6tQGJ2FmKHX+oAAAAAn\n",
       "AZ6fdEf/ABh8Lg6kr8XwdSOGAAJw+Xflr2PoJuC/MK4ZEwxij+nBAAAAFQGegWpH/wAYiUGLC4jl\n",
       "SqHQlB5ZuwAAAC5BmoZJqEFsmUwIZ//+nhAAAtX5tB7YZUIAJ291RJmbdUhGxozxN0n+NfILWfot\n",
       "AAAAHkGepEUVLCP/AtYUAa8SpSHaWWe4cqoMwsXENctfTQAAABIBnsN0R/8AGHwuDqR6AvS8YggA\n",
       "AAAQAZ7Fakf/ABiJQYsLiXXTZQAAAHlBmspJqEFsmUwIZ//+nhAAAWrF6AAsO5Wk1pIFcjZqgvMZ\n",
       "8KMR+2NVSlNjvyU30PpaBZ/H2Ges1PlMrlK69e5D2VDfSwa6iCfmES1LzqJtahb6gG00o34hqHB4\n",
       "kqVF6w2O7LBbBAjTkP//JjcP6/6xEfSksKt5o2TmAAAAJ0Ge6EUVLCP/AtYUAa8SpSHaWgpY01EA\n",
       "EjUdZrv51rcwz81blSf9MQAAABcBnwd0R/8AGHwuDqS6xcfH42AAltZQUQAAACoBnwlqR/8AGIlB\n",
       "iwuKpaZrYVOAAr0IBt8BXyDw3hOnmOvadht25YnVyQwAAAC3QZsOSahBbJlMCGf//p4QAAnuMXoC\n",
       "0588A971qn63OxoLWXzGZOu6Qob7mcqUyH0jroi0vl8n7CjqBVrvRTj5jYuG/kOpbutmD9Guno3f\n",
       "uFD0IeOPgtQAxgznNIvCufVu4bPu6Z7brIb3fLDnXTtzoPwSHXBU89+BznR6MIPP+Ekbz0JpA6Sk\n",
       "xqNkpn3fTSXnwAeV/zM11znkiEpoizTZacTd++dqUGhiJdEZAnxzcxbs7ho7OUWYAAAATkGfLEUV\n",
       "LCP/AtYUAa8SpSHc1joM8LfR1mfIALqC4y2UMCxoKWV3YHUp+S/q8u0QUCPCMEHlQlGy1vys3eYk\n",
       "peUzeuyG8bxH7/pOT7PMuQAAACkBn0t0R/8AGHwuDqR7te4AHDh6oJz7aagNAXDXLWQqcW+nCeO1\n",
       "OBXyYAAAABABn01qR/8AGIlBiwwaV0lTAAAAr0GbUkmoQWyZTAhn//6eEAAJ77lcgN+SCZp4WNq6\n",
       "aB91zAvMPsATQH+E9JPz8Px5rUcjKLNxpr0FbLDRDkuANfbdJ9CzlHHB+edbBSUWWbAfeK68+C5r\n",
       "NOtNsvhun5aw5iqsAkUJxtf3rlc/bIw5pTHo3RkhxfnaRbs6rIqeRveNLzJ+tKfSIGXHclFp37G7\n",
       "AJ+vempFqHSYm5t3Zfb28GXkA+gCfXjb4AIUJCD5lGAAAABBQZ9wRRUsI/8C1hQBrxKNcDukeA7Q\n",
       "r3T1GqJJmwAJjbmVbBgrqiod3HYlf75Ps2eOz9qB6+9U788xLc9uyqf8eGcAAAAUAZ+PdEf/ABh8\n",
       "KkwK66gBL4A3ZgkAAAApAZ+Rakf/ABiJPo0Zi3OSAEHQvDV69Jt1XazytbK3I4QufsxOEciKdYEA\n",
       "AAByQZuWSahBbJlMCGf//p4QAAT34eyACaUNvI1qUtxhkWxV2FQDAn0jjLn6Pt6w8xH0ez3rba8n\n",
       "64zEpQu83N5qbkpuJa43qgiWqXJzPxmx03BVjMYoFGpfYCPo7JMxXJG+PZRkVYsxq01zqtpkQbwS\n",
       "4oCBAAAAJ0GftEUVLCP/AtYUAa8SiFg6wuWkAGpP9bJW2Tm0Q1VMsWH/Y5uQgAAAABkBn9N0R/8A\n",
       "GHwquKHVw1FACCSZnJrOqw1AAAAAKwGf1WpH/wAYiT6KfjUP5lIKgBB3ubjhQgLhfZlev3ormWvX\n",
       "zjG8kvJAA10AAACWQZvaSahBbJlMCGf//p4QABiGJmIKiJjbvjb4rl+sQvZ7msAVwkN6QaqmqY5a\n",
       "pcosgcllOtlV1lPHiWIOSCnM0vk29O5dsof4d2gbHLbi8ZkbvSmbFbM+qYnBAzD5zSBF2oYot7Fa\n",
       "jrRE582Bi7vBLsbqdRRfRPtbfZfOgAixpjh1yiyaf20qMKaWykr/KVRKy5pa+53gAAAAPEGf+EUV\n",
       "LCP/AtYUAa8SheL5ZzOgAln0EDsBZfQ15NbJWM+t54TaMeJnngvSHG43To0gMpavHR9nPywiYAAA\n",
       "ABgBnhd0R/8AGHwqcBPaIAS9//G5BP0jcIEAAAAwAZ4Zakf/ABiJPk50qwASpyoFKr1MKaE7pQ6i\n",
       "/hKXTBjIGHc96j5QKXcvbRPHHuBBAAAAyEGaHkmoQWyZTAhn//6eEAAF1ELoNleKwTDAfyt+oBCT\n",
       "xi98690dC65K/CRElV0Q3oxLQ5jaTQAgb7wD+sz8H4UnR00yixKdMuFpmRUmlJ1q8ajFqGnOwJ3u\n",
       "hPdfLnliykfcEHMP/XVCw1IKvCxyd072fQ0z7flddWjdB9a76Ajayr3p0A6ZfYRaBxVOQonsKpEX\n",
       "qRID8qCFTe2t+ewRq0EM8zjjr/G03wbbhZYZ5dNxmVuCjtb1g4kS1nV/VkOe6DCXMaD/2uaBAAAA\n",
       "TkGePEUVLCP/AtYUAa8SiDU0xg/BAWwLliVPwsADgzEi++Azo5brfpC09h52m+sxT+lGtzGrpe2z\n",
       "+CJqQFjaMNcZNAKzrDsbOJYCW3pGJAAAACQBnlt0R/8AGHwqtCGAWPuIkABJzbCAGu71qDCLw2rn\n",
       "BfP42DgAAAAaAZ5dakf/ABiJPkzhq/ZPsMgAIOTyArz6gSEAAACtQZpCSahBbJlMCGf//p4QABfY\n",
       "ZCIAu6gX9rs5dZnjSXAPzuvAxXHZkFjWGskC8tYJliAhBjDFigCC9bceOblp7zC06oAfDlf3qW1y\n",
       "7JlUnp/WcDJjDHV6yGG/PDPs22Tv7psV1aKH5qjemCAQtXXuoMhoDi2NetoDu+/NQg1oaIvv5LMr\n",
       "Q8rHpgxh8PIKwGu8CFoaf0SlOVOGbsv4IyP/5W/EJCz6A24qZg4r4JAAAAASQZ5gRRUsI/8C1hQA\n",
       "Snt4aJmAAAAADwGen3RH/wAAtYu41bNpgQAAABsBnoFqR/8AALXmc0eekBQAD+zqoG0+7hmgKYAA\n",
       "AAB5QZqGSahBbJlMCGf//p4QABPy9ECPGXeP9XhgAnoG8zQ5fptLJS9fkMvxp5sD9rcgnCzzMSvj\n",
       "cZM0Yc12ik15zcLFTHmdjq5i8SMiy4gOXZUj+jpFMDz1GF6+vsunJvs6fvZjSPf4l5aQoKppY7R5\n",
       "w8luhlHp0zy+kQAAABJBnqRFFSwj/wLWFABKmVzyuGkAAAAMAZ7DdEf/AAC1i5LXAAAADAGexWpH\n",
       "/wAAsWax8QAAAIFBmspJqEFsmUwIZ//+nhAABdXAyDoewEAlZNKj3hP2S4s0ldMHXKkOeRAJkI+r\n",
       "FyKen4fx5wTCFvxJo3B/Pncn1nrZFnGFZ/YQMj7uPgg80nUd1wgnAP14ikPYPLXu3qTwx5rUDHy2\n",
       "+McXxz/KoqCHRWbGMMHbfTXuKCrjNRUpaZgAAAAoQZ7oRRUsI/8C1hQASliVb2sAAIHuRJv49Un8\n",
       "lZ0DCxz/+146rUImcQAAAAsBnwd0R/8AAAMDuwAAABMBnwlqR/8AAvv20ED9IACG1S30AAAAikGb\n",
       "DkmoQWyZTAhf//6MsAABXfc0RxNMaO9cAVtUZv+JsGepZp89jmfAHCCFLNVBjY6R8/w5hX5eXb03\n",
       "m8TOVQ0JleJKl06ueVqY4n/jXFDqpBhdYn/VeNS/9G5OHq+YjD1i8y6bhiXTkLE0MwVcH3S1J9Sr\n",
       "X/xdnUz+DIt8XiAg79ZD7W3SFS46CAAAADJBnyxFFSwj/wLWFABs3zOQCKQ8Q1inbMLMTD/iYv+Q\n",
       "wEI3WhYtjJo/vE7woFTGwM2T+QAAABABn0t0R/8ABfr3ghlOkypAAAAAIAGfTWpH/wAF9+vtkSFl\n",
       "9O/oAPmbMsIpCu7yY6XpkbUhAAAAikGbUkmoQWyZTAhf//6MsAAGA2cck/czHmptn2NANGaUKVRe\n",
       "1V8HK0AA3pqv5zzX3QmU3wO5lme8He2+MMO4ukSXsftAEhSppb0Higp4RAPFShZQDjBnFRPYKVtr\n",
       "/PzojYgitjHbCZBue/E+KP5L3Lie2NjUmIOL7KE9Y+pIFFCevkzcWmBiDRdjuwAAACRBn3BFFSwj\n",
       "/wLWFAGqbw2XjzMwyWbqAAcb0DOxYwKtMLqEu6EAAAAWAZ+PdEf/AAL9e8HHtvILk2oASfYdpQAA\n",
       "AAwBn5FqR/8AGIk+EU0AAACZQZuWSahBbJlMCF///oywABin00QDNCPX5CM7lZ9AnvqZEa6wLCgG\n",
       "Lv3mksEIWPq5y1nlOD7/OWAO88pGIIZ2BfhyrOLl29FHLycNgNwGwuGVj270xK5lA0eI775S7js2\n",
       "W8EFfHkKiP3ux8gf/DybVdqdfIpf0hiIbIh13/pazrpFy9N4wFA9E1fOso/hDgWdYrp+H5HqSR7B\n",
       "AAAAFkGftEUVLCP/AtYUAa8Si66F9UbBQIAAAAAZAZ/TdEf/ABh8KmxQ6EylUBtUkACcVFlRwAAA\n",
       "ABEBn9VqR/8AGIk+LdfFtdhOYQAAAEVBm9hJqEFsmUwUTC///oywAATgKGcIcIjEAJmXLvgg8L0J\n",
       "B02K4Xm/+hjuEWTaVSP6Hm9G2gBnjQB2KijcsXmsO1ZNWHAAAAANAZ/3akf/BHT5AQBvwAAAADFB\n",
       "m/lJ4QpSZTAhn/6eEAABT7EUSQqXcgBLgpJlFfEI7PscqemLdKm2pMRdhtRXi0OBAAAALkGaHUnh\n",
       "DomUwIZ//p4QAACsfDnIAQecxWeaEkiyrhhP4MHVUd2Zi+myTDG1znkAAAAqQZ47RRE8I/8C1RAf\n",
       "hd/CMIAQgVrH6rz/buHWPgiYy+cPmKbYLiBKCnQxAAAADwGeWnRH/wAYPXPDYpI9QQAAABYBnlxq\n",
       "R/8AAFjIw8gBBKNh4Xf/1er4AAAAlEGaQUmoQWiZTAhn//6eEAAT2wtEbli7dqMAJf3JKpCkEaRb\n",
       "qbDSvqCf46XJLHmSbGhTvJFGFmZpZiWY4nZRQLaV74k1XwzyE96wNyHR6T/XrkcL3Eo83FyYETQJ\n",
       "Mzp0p0GPnYIUq4f0CsJxUpSiSM3hk7sOgh2G6rC3+xDPdn0v1EX+i+BMH2B/6pmjNDI6MMBHJU0A\n",
       "AAAVQZ5/RREsI/8C1hQBqm8ONY2IuymAAAAAHwGennRH/wAAV3MX9Uc8mAA2LaJMIY9Y8XnoSQjM\n",
       "XhkAAAATAZ6Aakf/AABWXvFIAP3bsywxpQAAAE1BmoVJqEFsmUwIZ//+nhAABfaT2MAgUHPG1FWr\n",
       "NzKW8cVz6vchxZ2W28LMSMwk6P6Pak29+WJJC/9assIszj+sQSvIS4eENZkK8j0zyAAAAEtBnqNF\n",
       "FSwj/wLWFAF9x//HEtncu2LEOcZBJOWl3SHW+bDXylf1ej2upw9ufPg69zxcu7ty/07lduwIQyEc\n",
       "kaTr6tDgIjgVweU8W0EAAAAOAZ7CdEf/ABWfR3rgr58AAAAaAZ7Eakf/AABYtQ4AAgffuXeMB0B9\n",
       "uhSpuaAAAABvQZrJSahBbJlMCGf//p4QAACsOyZO8PEOADk8IbSSb+6RDcgZGShjv7Zvnl22JAdN\n",
       "YmmPh1fedToa9bGAFBjgRzQaSOka3ACMToNNfUZ6uxjNLs1KBpj+qSI8JbnwZYSjH2hV9ONN1QWB\n",
       "Tcyn7ZzxAAAAJEGe50UVLCP/AtYUAEUuyEACbRM6lqVTkOvv2avEnR2uTazbgAAAABgBnwZ0R/8A\n",
       "FM43+4EGsyZOmAEKPvx8/qkAAAAWAZ8Iakf/AABYtQ4AAhVy98MwLkobmwAAAHZBmw1JqEFsmUwI\n",
       "Z//+nhAACe4xegIMB0hDZu6PkqfIXtZgWHGtd7IsKg+ESkULTJm1c0W8Im2dH9ncA/iYDLnJmy89\n",
       "48nVOaUIzC178Rc6TCsE8jD/AqUbjqYr6C9+7ObSF++RPvbLhPPb6u52Q7HXCO/moQmqAAAAIEGf\n",
       "K0UVLCP/AtYUAapvDQrfipm8nyABXcR4Jj7Lh/uAAAAAJgGfSnRH/wAYfCprWgs77IABA9XSNKEK\n",
       "NXjywNkY8jjE5XAO1vgbAAAADAGfTGpH/wAYiT4RTQAAAIFBm1FJqEFsmUwIZ//+nhAABfRnHFFh\n",
       "AQHhw7uI0j6J15PNH2V4R9sxU6VsmCZ1WLsg2rjoHJp97yTzJ5mJBZU3fHuSgmNBbJs0NCOIQaHx\n",
       "yxPnyX0b4kRUqYu71IPpoNLIeDwy6DzrORHYKSDtanTtbUSRkNWJKwMHe46hSysfL6UAAAA6QZ9v\n",
       "RRUsI/8C1hQBrxKXWLXyMqyy6yhPBZjAACdRajChWMfRpfBhRwXXjonanKYVocwZa7DXlrugEAAA\n",
       "ACMBn450R/8AALFGyU+dNAAcXnYstz6irMnpVtdzV7f3sLQezQAAAB4Bn5BqR/8AAvv2z/k9jrxA\n",
       "B/bqVF/mGtNxOhz7TvMAAAB8QZuVSahBbJlMCGf//p4QAAJ7rOjIBJ0TAFpmtF0gKoeM8d3Gt443\n",
       "lAxpVFsxB5XxoIqDCCZj7k1aKCDHNm8dMuru0jnnkbrvjagC/C2chVhUVdsBjza2ZFoFKN9rU3nB\n",
       "duDZ4Q9qC1Y4LvGK6r6GSUFEDOm/a9AvNUxASQAAAEhBn7NFFSwj/wLWFACZhKNLnNfbi32+vD/H\n",
       "UAE6poOW5vq7uhCyG0R/akeOIUyAtKHP3zTanq5pXbkjdZgqtCLZoykGsYKFa9UAAAAeAZ/SdEf/\n",
       "AAC1+lXRjE8AAbFwvyo3ll7aKWk19byAAAAADgGf1GpH/wAAthAdReJgAAAAsUGb2UmoQWyZTAhn\n",
       "//6eEACSlBKoBXG6V1zLfeSpuYDDB4hAXhzXX03gm1f8F30tKAj3JwSqwTwJY1CMczncXNVROPTX\n",
       "m/XRwAURqw4dM6frT/IvQf6m8TgBYqw4iyOQJ70GfyckiVnqs2eHl8wZPKypD0MzcEkjf+TyOwoX\n",
       "puTytIYE9BLN30KTsDz11r5tIsLy0olAZWkDmFB/f/8X7aqh8CUzPtOJv06JK+bkIdzTQQAAAFFB\n",
       "n/dFFSwj/wLWFAGqbw8RG6iev/Ew1QAqgHoasUi8cNXSU/gA+iww+h3Stzp07C0NNdykfOPDGRjg\n",
       "CXNGP/eMbDy3yhPYh/RPBTJfLgyhQsAAAAAoAZ4WdEf/AABdOylpMf0AGambwFmqFCDTPrnp2K+d\n",
       "T5Si+clmjvj+YAAAADoBnhhqR/8AGIk+THt3VdgiAEXeLpynLeMv41rokx57qiHuHnSDIAY659Pj\n",
       "h9A22Sh2NPRCt2uHjwexAAANcGWIggAO//73Tr8Cm0WXagOSVwr2yqQmWblSawHypgAAAwAAEbBu\n",
       "fJcNeavSJAAArb7DGTeCwT/gAZ0kcjmlmHPwKE/C498IsaXS0Y6hM2aIcbuF4u7NUeEOWWXFyjKe\n",
       "a9ju9IXcL+3D7ZM6sLw7tc5uTEaMO1YzDw0PuPkQPO2tbFnul7++3bVG9ymMCYqoRqpFUKTxT6di\n",
       "sc93kHuzsuLriiNffrQK3zNmJTeMDi1NKEg9+hIqAXPZUQL6Dbw1WILZOBASjXj4Wcx2Ufy/lx5Q\n",
       "RxM8TPOnU9YnyqGCCxc2e9P8cNA0PNVbkGhQ6aWBesPe6umRibjYtSiNoMnXf66POq2X3dVjcO7b\n",
       "Uw8HKyz0ljUAGuDUnJhRDGelZh/VK81Yan1UdCg73ewN7DjY21jO6CZtMS8S+XUxih/eeEP1VcO/\n",
       "4ZrP5ysCGAR8qgc1ZTXpSy1OVTy/BHmwi2zSvgHan9WtwiXyxQ07jxWayObpBDYAbOR9v6HXQ0yT\n",
       "hMENxsIwxx/3d0+st7T2RwxBU0P8phVWdV11rlMl/2V2tcIjAe48dwUYNc5lnTPZ+3FpLZlwKTmD\n",
       "duOZHkUc8DRiy9TCUvl3nZmwx0r4pz4aGuD7HxlP+k+MkWU4v1iK85fqYGq7J/hrh6vOGbb9tYUf\n",
       "Rq1MQVTHAnT3kaCRguArYLiVmdQBiaGyCAGP+nX5Sl6bxYZoJOCUc8wf8In8Ccn24zXbrMRqAL4A\n",
       "mgWvhJ+qcLdythhi0sNilUm/JzB0lQY7Sus2mG82JXuwqTpviBG3kNKREyJ+ef5i2kHkOSOajrMr\n",
       "ROnOBD4KelbtWe3Kb2xWN9MmAgdvXKyhyuklptU7gMdewL1Hmd79z6tW8MkHd/Td39+qTaPmQPrT\n",
       "zMkq6706ikqSAsuCYCtirMty5RnLGPkzJvCS8lcko3Lhs+IKr7SPWySSNqUFkiUcmcKGtu7FnOqx\n",
       "87wM/Wcp3Vm08Fxs/wtfgFbhO3UDFiq/rBqkIqN16vnN+BG5F88v+hboaANyIQGXmIXDD3adJIoR\n",
       "6gCdhKn8gHrMvzFWFsstVgeK69dxb7ENO37jHzalYtE8Ws0M6GkleWFeafi7YRRlG5rAInWDYcV9\n",
       "4lLaHwGJOIp500nIEh+czi+schHwOCLGD4sRdj8p5AdwGp4WLKvDm+gaLbjN7bNUTglT6cZqb5eq\n",
       "d6vTbo5JT/wlnS0kgLxHGwr4j0OChhPVxHBZtUlvFLfyZmW9CHc0J2AyggXQ8bvz/1Nsu+MnBhqW\n",
       "uXIPC4xtIx6KhRwg2FLmomNu+ceEGUCK0qB1V4CRclOgXZ/yb5TzRQ9CvNYLjGZMzh+GKr63GKYP\n",
       "5HupIDNavJfvXJlKzK/3AbwSt44a9K/W11QbLvC9H6Si6/JO0zeil2MDyWIuQ+nK+vO/f7H2X5/w\n",
       "LGSvRbSv/NtOLGZYzFLOoMUx0XJA9fnFU+pu1P6Puo5oPfwm/HRqHDKf2J8mrmE8JDsvHCbBHCOb\n",
       "/5/RRlVIPrqgOR+jMfidapEg8osDaDdjbkZ6x6LWo0YPML9GNxoNiaYsp3oVV+B0P3Et2q59LDnP\n",
       "9lk9a1GgmAO8n+BpxewmQI/CgVpTeOPCv0Rd5Mu/ox0elGv5BJnKltOuEvTIIe+h3Jx+pQAo48Kx\n",
       "ml+Wrh3f/u89K2MG3YpeJP8ViPd+4LUeI47vSVcGAVz+U39mh181gnMco5TrQ2MkHIHHRFhKQ+E0\n",
       "Gm/+PklGUUTzQEEuIxWodeEt8PKhsiCYNlkpqER984CHwiGer0MWt2gpUf+j0AagXYX77ea8Y+QE\n",
       "+wzP18oyX28i1vFvsj7uwj+JybhImEL57iGEo8F6FSEFgufW1fswxWYJjhG9C1hTKx1oDFlVwVa9\n",
       "5SqLa4nL59LhJGUvn7llbdOZ/PFET0dnmdurPDHEB6lnnCFduipoW5nZi7epUDcQfLdNrN5K7TQA\n",
       "+G63Pad/Eke5po7Az42Iy1CAKHjaEEgRNpF1iBISjSrxdz3w5Tikm3qiWYYWlwVjxBTioBjLem3j\n",
       "fucDgEXEj67Fpi1YBEX3+t3yFN2KBnDgwd6BE/uiZGAVMq5uTAy3npviZ6JwlWSAdFz1Wc6EGuf6\n",
       "E1cZt6V/NBUdtKEcOq92D7EjMqc+g8x0K0GbJPu2osol4d7aSFp/Ie5TmbQC1eXwRAjJmr37dHco\n",
       "ddjXILOpMU5nAeOeDtnbvZ4lN2wBreWdn4RzF36J/Bba590Z58PHQkopi/tCNaQ/OcKYRN8wRYAr\n",
       "2zgJEddwG/BR+2FZDZedqe8VQ37O8k5oUa9IWGlA+zoOH9ZChPmT/bqJXectMFlLUv8BiCSzAiCn\n",
       "hQDCjs8obUvpxgAESNt7rLf93fY6LUyOmS36iGPhwX6rzJYGLpvRdwWChO0GzqabiZAP0k5gQD3G\n",
       "0H2iGghEH1tlXPpXTsgfe9Hez1ctfbGh/SsKzqtuWReXHbRAbu6JCvI0CJ4cN6eo8EPjn6u9tVFy\n",
       "vMVLQ/yEufAqhXrYIs+dH3I/3+/GynIfz3NBFCKdMT7Ifm+o0Yp9EN87DfallUKZ+UWQAmAOMwrJ\n",
       "O/88FTX9rZbCFbd0OUw6g7OfnoHsiaZSYc0ThZhkhqrCHGH6XliuOEOoRIH0j4S6pBSe34yRohKW\n",
       "XniKAxCZ9cMwbEfna/Cj0zXtVIMl1xI43rvccEw6UvDnJcD1I9rLDMFNSb2lt9GOxLAy3xHxXpCw\n",
       "/vvnUxcIu/Otpr063z8mTLfPZBVtfdcjnoj21/M1BYQCwHCaqf0m5xFUEMj/YQQnDzDQ+jSwrOMy\n",
       "luWCvbZ3SmmH+ic95aCfvk5f+FWwH77oC+AFUA/RI0gRfzgk4uPUou4OKJ/knNXyu5AmjpbATW9I\n",
       "bc0bkM9HLpt/jD0HYujW9SaJzBf/4C6ufryOxTG08BB13KcLg5+QELzEwunGVuK7VvSiWpPFfiCg\n",
       "2hbAIdMf5ySjwl6Wc31M2fXk+QJxfT0gnSubyVMVj5W0j40N93YgKJhgXApnD0vDUDv3ZLrGLl33\n",
       "tkfM79fjxNweRGZoiI2edhxOX7vmSUwDACbDu2iQD6tse7wgaUn1NoXt87PknxCn9R/Dzm4pc93g\n",
       "Sib+cSLGrPLZyN/E6TZacIWNyF+GpAdRn4XQjnUh5h1D3HKLxBK9lsGA1bmRwbom0dlV3B6nQwml\n",
       "a4NSe3H2Wzx28AU3ppgfp7R8315IotEXs0fzKjktkSYKRdwudvSD3KImcDM1upLMZzcMAgFBh7eT\n",
       "KzB0iSMIlu9k3evlpUKYaU0t9LtteVwhUJv+Kp7ZixK3cMsn53VopmNUQMLY7PmeB9ngH7ZUaTL0\n",
       "cLypU6kZFgG7su5PN5NeqizMX3FD4F2hrNEdNMqEqrLc4Uni3bhMh/J4p/GGgLEgviYPUqASI+5v\n",
       "GaMPj62158OOyZBQk9dtwnZSExhVzveQnqqtC0ZLul0fQJQU/5fMVG8TQ7ImkeYG7HtenBR8TXSp\n",
       "zSyZWLwXoC8a88H/0oK4Q92UKblNfewZ2zvod9PDfZHIr+XBIvCsT9SANr9HT2+RgVkmvCFkTgrg\n",
       "wk7g/0EezbYI/154VmjVCAv71yIK8sP7yZpN3e1eeLaxFRzV7Gip9FAhO5sdIAukSbSsP9ZVtCFk\n",
       "TgoVmJQD8ZoH7HTSxJNJyk9wAAER/l6N6w0wauXZjtCzSc9F5itvaM1CMMHRn553Zch5DSwDpk0S\n",
       "afhqgd11oW/8YX6RO+5QXDsqzsltLRmMh6pTTzvNnILA7Fl1dix61Z9gpTGUYvEEpWyOLa+flIis\n",
       "CdL0WfFgC7yO46RzeqAsZmc+gsLG7Wbt137+Q5mBrtjs6NscI/ViJWF3D7N5z8rB4Q8tqjvfAXtP\n",
       "o9k06TyFSlhpcBD5BRXpLf8UkWhlTFf+CmEenrlgJ9rUJ7VxsEF3YuYc884eJincpDDycxc92syv\n",
       "zgeboEv9rXp/aSNJcwl3T4jnP26/Cura30I2ZhFheaihyV65Gb+CQbLLjAznUaH83L9CNMJyAO3X\n",
       "jXiKK0Vi0huY/ZzA1QbxMzr00/FPC8QnrdEQhf9YG0CkOrm7AQT6xw3tW9BKDESCUw90mnRH+NfU\n",
       "gJe9bg948LyduE3fmrw0OTT3wWQH+VqGEJxvSlJNr5du1QUuh5q3U6vIccgCrA06VrHHvDq9l2y6\n",
       "kybwfxWg8CbnWXjHQBE5s3p+qgK92St/zqOzbq8FW421W4jzrs9zI27Ncx8i4c00iPqDVd0cAEDk\n",
       "qZyZmZok6sda3W9G8OfUY56r0LRnIvQ24942q3ISLl3DJ+3rk3Hyx3TYFOT1KLBVahV4AAekLq2b\n",
       "mvK6uOpnrvJ8YIqBjF87EGxu7qaxx3iMKn0Ya/SDUD232KSm8eNnT7HgS1bcw0X92p1AbV27qmU4\n",
       "s7lpEZ5hE0qefFdIF9r1xWKk7uIfvlpfv18UNtpTv/Y+t5wYG9O38HTSAZVJFoXD+RCfdnJ1b4Cv\n",
       "bcuAHg9T4ZT+IK88onXPbr5HxacPBowHrL1JOfDsPtZRkm6dYgyL9Ju7m1oA2riEchrzHcXp609d\n",
       "MCA+5FFNPHh7cglWNWSoIde3ZxKtZd5nZ5rPMYxVZgACAYFzgA55AAABlEGaJGxDP/6eEAZ4ytgA\n",
       "tIFVHCFayUp7wnZNvXtKyjchYoATPj9FtR62ZdiLOzMcg4TOusFJ1aVCoAC61J07WroYZarW2tw8\n",
       "tcUCU70D2tGabG6+CAWthcJDsh8G69pyMzR9e1TJad2ik4cAwhEz1z8exwvofb/nUEAwLjUoZlRK\n",
       "vq7pqP11DMAkOqrS0uz+i+/JwvJHzQeP7e97fchcKTnPloKeB+1nDT6+cocc/lM5zVRXT0q0GmdP\n",
       "IEI5Bp6mBundZ+zM5jtmhKul9yHtoFQUfzdbtuNHLLzoJGlN6qB1dCXNKC2dpL4y7nKPcf+RdX+6\n",
       "yfeE0eq3EZtyJnwSW+W0iJrC2w4/pUmgnvyGjkkSLkNO9QXEMC7NAsYlunljEe50Vt80RpEpOXjV\n",
       "/fa+zY7wDDAZZ6gEt56q+CBne/CZEs9gyUW61G/0I1P49+5uDeKVkkU06e0kJZ3SnlloDYtZxExZ\n",
       "UvsG80Vdv606nCZtayVzXxHv6OHtyPW9XnhBZ6bx2vX73JpWmNskJcpNuEJgLYFLAAAAYkGeQniP\n",
       "/wavqMPp3+Q9yHwAKYaMsMK1EyiW1gQ7s7RACEpxYleMW00bHaZkCmXZhsxYOCfICd/SzaDLk0Wd\n",
       "bJaGMONPn2yzjNaOOSsT99zq48Nkv2Mv3WXHp4LnPxmE2Gd0AAAAVQGeYXRH/wavoOQ2/HeX/YAB\n",
       "K6UywZLl/PmgAJjFAuuyxDYCaj2DIm7w0gJppkeWk8llnOc0k8W9i7RpmedN9+CKMwbSNhQOSBzU\n",
       "/kWGjEUwU5B4VhwAAABIAZ5jakf/BrEFsBF6Vynol7Wg4zgAIU7ZcOM3+AEYvx1S9rAk5anQRI9/\n",
       "JkxP6rlHHOycYdxD1zZ96M8Jy0syEYs6f+GD8mv5AAAAZUGaaEmoQWiZTAhn//6eEAAC1fkfnIqk\n",
       "T2ncjIKozMdgHyIZtc8vb02NJvzFL+hCEjLXTonu+S0/7bT1Dg3fxyxQ2vx1wIE8KQiCbTSb+AOM\n",
       "xpvagj5UYDADvdOEcvgtyOug9uDgAAAAUkGehkURLCP/AtYUAJ8o7iT9tPXmgTrmJeCGTgBAEPpE\n",
       "/oxkid7xG7zJ9Y2JVpmCYEZHKu0kziZcQlMuAPiEH3Xbc98eBqaLwO/oU+XPqp5kzUgAAAAvAZ6l\n",
       "dEf/BHGIBwE7qhXD7sAAbCMAWPYUUYeLcJLnizz1mM32mkNjJsOKhp8hWIEAAAAzAZ6nakf/BHPj\n",
       "xrOF0i7/lw6gA1H33u7Kyn/942cgnFgI6e5MM66tRmtTwiDeYgdUmqVFAAAA7kGarEmoQWyZTAhn\n",
       "//6eEAAYhiZkoj6WOn+CQ9x6VYT3KXHp1lNfg/5nJp44/qPl17/o0yRY9/9n33hKGdG6kH4MsGwk\n",
       "x7+i6NEPMV8EB+Bc6kSK2YcRlWlVft0Ob3EF07V6xRdtEYSP61gxc4dEhzxYPSZeknzL87EUEWNw\n",
       "X8xes39+odQ0PiD15SsUf+VjO4QRsWVQNf0BIQpyoUhCQ1kLlVcCCu+UxPCLKfIHpABU3gDArV/4\n",
       "WHsdxf8TWx+n8V5tI6mk80wOmUpFtkbeUVkOjoGDCrA30g2rdgvoBeEh9yomFF+IfKoXcrxJIH0A\n",
       "AABrQZ7KRRUsI/8C1hQA2G8A2FTbK1oYGjeVi8QA43gKMPSLBvgxdrSpPKynpaAqEIwnD7DCChVb\n",
       "cZ83lJWRCYnWY5TPLHKsa73kdhKdZy0tv6vQge/rJ4XMT82L5PD9tid5E+aGkvsaz8SOcUEAAABU\n",
       "AZ7pdEf/BHGIBwE8TtxUCcH4mKZttiaQu9xLvKwgBNL/8eMiYoKAthlzJlSNUl9un9le52ofwYQ+\n",
       "Ulvqx9/52qw+/VT6+fyCT/rdz8J0iEE/Ttx3AAAALAGe62pH/wRz48azhdFAUSLe0pRytgA/WJPM\n",
       "XUFve+U4cIm7pt3Kmsq6C7qZAAAAekGa8EmoQWyZTAhn//6eEAAT20C2LM934s2vuziE9hyStz4L\n",
       "/UAGzA4UWEmEmTadx05N5KyUSeYFOB0HfI2sE03ncBpn2RD5CEvYKFcH+J4ZgkZjwMPBMFh78KXc\n",
       "damUW3mTClW/k+2mB+R6aiUTgRJaWh8jIX9PE4VAAAAAO0GfDkUVLCP/AtYUANgvAbNlmXBjdLD8\n",
       "3J8ABL/enHcUVGqBwUIxSf6MSmIc0cGbBsTSt3Yjau5yn6hjAAAAIwGfLXRH/wRxiAjBDyDSvk4S\n",
       "LwJiQAIb2OBMi9nyVAOiPa2lAAAAEwGfL2pH/wRz48azhdC7cg7ZZ+QAAACMQZs0SahBbJlMCF//\n",
       "/oywAAXctUMAG7dBr1D0c4oTDTtAOynDHY46FsEp8sxUsMnziMWFm7LuXjZ07/39N+ZUsgDg1vYj\n",
       "Wl9yGdWE6udFw+TryAaRw14Z3aee//9kzdOyw7rGEindqWGtknwXnCj7FOtACfSVJFPVt4KzKhF0\n",
       "37bAEeksesd/+hdBViMAAABCQZ9SRRUsI/8C1hQAoHqjDB4EMaDkwlgBtOwzF4P5Hf9TOOkLDTpI\n",
       "cs4hWeHoEZ/gJikz4gBkNwXveLae4G/1pvvRAAAAEwGfcXRH/wRxiAcBPH9qX37Nn5AAAAAmAZ9z\n",
       "akf/BHPjxrOFv5jAh7gAcIrF4jamCtMh+rGqbmgszSLB3oEAAACiQZt4SahBbJlMCF///oywAAXZ\n",
       "tz9YQADCwrUUUnyG7a5DvoAdjYNNia/TqdquPlBaT5nZodSQkhraR0YU33jojDiIxyEY5DXOx/6K\n",
       "dnf+Z+dlSXSMt+x5ZVCjwd6Bq5IEzC9hC/jifiK5i2qrz7/7xO2oKjAASAN217OXNoM0navEokfb\n",
       "jHz9tWwl1/uqpqLdgYJhopZrav6ETNbqUDTmgg0VAAAAQUGflkUVLCP/AtYUAKB6qj2y6vr4+Rbo\n",
       "gAzrwSsb5A1iFzYB7DD29sYk+79Myml3KQCrWkKBQauna7DigvB27+xhAAAAHwGftXRH/wRxiAcB\n",
       "PH9qqqc+mAG5PLirjzJ+6gSVK2sAAAAeAZ+3akf/BHPjxrOFvu/a0ABJ/AunksJzYuT/BdM9AAAA\n",
       "q0GbvEmoQWyZTAhf//6MsAAGAdsBAMJGCT6nXJSFlqBLHTKPVI9GvboO08utH6XGXVTmhBzUbuwu\n",
       "75sUnTwh+CjANJgEHtnMngW/E7PsbuChUuWvl7TUJUtuLDK20iyjDaiyx3V0RP+uOv8BT8fp3iO7\n",
       "NpU7Xnnx1GT/nre6EeUtZ6LkjfywK6bwG/4fj4oZgtGs/N/yNAxB1WQ/jkqlvYVH1i/lfDdH70tc\n",
       "YQAAADdBn9pFFSwj/wLWFACgeqpCYs6mZEvAggBVNg2jGk93nI+Vc+un1jdsSZ7pq5OHU6OjnSOG\n",
       "bwTEAAAAEwGf+XRH/wRxiAcBOwztMsbM4egAAAARAZ/7akf/BHPjxrOFskgfKu0AAAAkQZv9SahB\n",
       "bJlMCGf//p4QAAFPysuQC8UzFtDUiAOiaC/z1GxwAAAAc0GaAUnhClJlMCF//oywAEwJlwAEk14C\n",
       "RantXlRVlSaF3rPDgc4zYF/JYiwAvej555h5c8rQEEJYNGKDhe26wnd295/jUuitQz4n9brX5XYh\n",
       "tm1vCSlIdakdDREVcb3rC7GWWhREFlRBzgAQLEfwKpDFz2AAAAAYQZ4/RTRMI/8C1dTf9niEwua5\n",
       "ZOgtieXJAAAAEwGeXnRH/wRxiAcBOwzsO7R5b8MAAAAsAZ5Aakf/BHPjxrOF812e3nJACw//VMYs\n",
       "bVA43pEHCK1sLYeSiA4hpE8g2VUAAACLQZpFSahBaJlMCF///oywAJQT6/UA/XpmSIyxO0rMG1EF\n",
       "vc01+/2TNXFWicWcmUHQ7kqPACRkqRgiwNCZTxZMI1a0qh0Zef73Opv1/hJO3d/ckFR3LyCyYWil\n",
       "j52bj7jUCuEo6/CscEvXhIWzXDOhnmyz9UhjDYSh1teK9TxM548Dbine07fDEv7SlgAAAIFBnmNF\n",
       "ESwj/wLWFBbsRP9+myN0a2p74eJQ+aGmLxPcSbfYSSpgesnt3O5ECYWPqn2NAf5+1XvanTtzvt8n\n",
       "D01g8b5kBwtag0RqbuYGj9D9nZOK6voFZnpjg2DRBUhm1ClDMopvgAAhGsbnVTmU9Uq2psEb1BKG\n",
       "6vrH01lhIA6CEY0AAAA4AZ6CdEf/BHGIoI+Dm6m2OEEAEOwz/AwBdUoYY+QH5wzhnVYAZ+nLLA0w\n",
       "uyiQnemgxUgrHLA0j+8AAAAWAZ6Eakf/BHPj7cpttFuro/2P8WUjwAAAAHhBmohJqEFsmUwIX//+\n",
       "jLAABOFFbcwuXbICpMXUcQ1+tbrDtsINROdYRRkHHtQHW9GWFfyEITZVpfr57wYrrUaXV0FqCrlF\n",
       "wrFJ6NQcQJYO/fPQTS0XikWHEW8rELOErRk4DkXB3STDt39M6GcSaZSJjINx0r6J3MAAAAArQZ6n\n",
       "Qj//BHT5AcD/UNOCsACGVK/brpv6XGdxheK9FE93brcQuJTUQUHc/QAAACgBnsZpEf8EcYgHBAUf\n",
       "jXZSEABDdTvJzst2H1ezHa6T+Rs7uC1wj5yAAAAApkGazEmoQWyZTAhf//6MsACUm16MAE642vqP\n",
       "IUU9N1poB1Y3WCc3vUc+RIdvK2k2kq2DfFS0Gx+4HPflB7/yrDit4q7f4g23dGBZxTa3KRiM1fSr\n",
       "yqltIm8EcA97NDUnOPwKuflAaloCYuyKsU6wG0wx7FCaMTUwFKVA7xT2ncolGUScK+c9rIRf1ism\n",
       "tUYfpTP4/T2wBoLacxswwg84CgtSAsiXYikAAAA1QZ7qRREsI/8C1hQAoHDZfPQVRnMdAfwAhTai\n",
       "lg6FIaU10reY+2Cqx6MnlDbZdcDWzUEhT2EAAAAdAZ8JdEf/BHGIBwE7DnXuADpAH5uJxdNNm6Sj\n",
       "L2AAAAAZAZ8Lakf/BHPjxrOFv+xlAA4L3URk01Qq4QAAAFdBmw1JqEFsmUwIZ//+nhAAGHGccs6j\n",
       "PSAZWtIDpsqnBRUCoYbEdo6LPcfcn2csoRRgzq/fv3Bq6ym7bfVA/oVBY9amDj/GibsDx7pMoV2+\n",
       "CgLA/V1fj4AAAACdQZsxSeEKUmUwIZ/+nhAABc/Vt2ipVQB4AWcQbx32WSo6qHzYqF/sTsMas1C1\n",
       "dCP4TvzY8RxH/PWNmDBPsa/ND54GV75xq+YJpz/CWIBwAxx/Pz0DYDzvUrGt6tjh2eoLjMf8HE96\n",
       "E0NPVDK3kr7MJ184qYg9f8N5T7LHwN1hDH4gnl5oXxjuMvbHT9MxuL0ddlclPLpISvuy7BSWYQAA\n",
       "AExBn09FNEwj/wLV1N/2eIaRolqDHq65Cgq5K8ejPufAAWIvyIeTRVT2uoikDGZjxsfY9IwxdwCu\n",
       "XKTBWbEEpGp3Fw6QbtbSbEUGACNdAAAAJAGfbnRH/wRxiAcBO6m1jkI/QAeWav9FncE2E9sQrXC1\n",
       "n+CQwAAAAEUBn3BqR/8Ec+PGs4Ysv4y4r88/IjL9ATlztQgBCXIfw+3HrCf/PKnLx9G348zhDEvc\n",
       "DJR2PlLbeX6/rVroksYDzZ2tgsAAAADOQZt1SahBaJlMCGf//p4QABP/d/BNoAn4UhLEAlWNbye7\n",
       "Z7O9stJK9iIhcinYXtsCcSfx2v76fSsJhcc8zDJFWMBeK5f7P+ShEwnCvbJwwkFlU+kfX5EDUIXn\n",
       "Zq7MpLx03OBuwX0EuaxUVUQE/n4eg/rrqvqoPDOb09PSNTMTj1TBx5BE575cRpxVnjQA7f4AY2Fx\n",
       "Kg/oUax2aXUJWbk+HMg95LUhB8yXh9n3VEJ5DQZhjfe4dwY7Az//IgyWUJa7I6WtI1wNbMjQJTwY\n",
       "CcEAAABhQZ+TRREsI/8C1hQA2C8Bs3hdyB2D8bl+zl66haIEAJUnJFwZqDI6VrabQh+yjX9UHidp\n",
       "QHNO7N+3B8ziYKy4vIvNzZo0FynC4TV/IAj2JIbUqXsUyotBaxsSbL6pwOaR5wAAAEABn7J0R/8E\n",
       "cYgHATupte52UEvmAABbPAVUAEbM41bRxLHCDQGvSYm0rqDYJanbaniNXzhTqH457nlC7alAcJmB\n",
       "AAAAQwGftGpH/wRz48azhdLJ6uACL6uz1GXA52E4jLhqAHsw++n6F9PBfco4ZTOPf4uG9SEPNc85\n",
       "U+s2ku3ozNBdVax9B4AAAAB4QZu5SahBbJlMCGf//p4QAAnuMXoB2fjwimwo2K/VXn0UupFqvJUP\n",
       "hxozjevEDf62DxHF+gYrUstIin7hw4ehRYsOaKgzGIS993DSpj4j9OprCJQBjf0Ogfmpk2/ADBJK\n",
       "b++lDAQqGh/iAWFdFmIDUF+P7g/FbeIdAAAAF0Gf10UVLCP/AtYUAKB6oyqIvHc3GrUhAAAADgGf\n",
       "9nRH/wRxiAcBOt4PAAAADwGf+GpH/wRz48azha7AgQAAAKxBm/1JqEFsmUwIZ//+nhAACfA73prB\n",
       "TowAj6gVkAcr1NN4LhtwYTEFcLB7nLjIiC6AYfA1Aj4H0OKc4GV+bJa8fM1NhZAkWRaX4t3/zM+u\n",
       "Va3HaQuAv47mRuTyHHN760uZmsbbYwsgn32ul6TDhMFlTtBt15CQLMgSbY0TqoHzGPaU8N1A8FAH\n",
       "jLxDjIUT/4lkA/7IlLyr0UWAMjDuwxrjTcINnhD8auP2sdfpAAAAOEGeG0UVLCP/AtYUAKB6oyK2\n",
       "HpIgUACcOpY0BceXLZi7ksgDJIjHj7RsHIKhVTTR8SsqsWTRi9+AAAAAEQGeOnRH/wRxiAcBOw0g\n",
       "QDaBAAAAJgGePGpH/wRz48azhdIvFLVwALWOKeGO5pYJXzDRmbSuBvpGEFokAAAAXkGaIUmoQWyZ\n",
       "TAhn//6eEAAC56zoyASrdga0TmfEZX2kcc5TvDJMfUdb22Ksw3EnverPI5Eru+hf1lYNjyYZFSD5\n",
       "X0g2zGVLRXi0u9NV8THcXkSDUcmqooWQDAdjnEAAAAAcQZ5fRRUsI/8C1hQAoHqjKoisM+kAI2oa\n",
       "4UuIYQAAABABnn50R/8EcYgHATtAWpYdAAAAJgGeYGpH/wRz48azhdLYygAsBT9MvI8U9alBET0s\n",
       "5WZU0xOcDryZAAAAkEGaZUmoQWyZTAhn//6eEAAJ7jF6AtOfCbvNgpQrNplMVhGoivJ5ZA4PNPHq\n",
       "uXTSK+6g01RzWH05MWHWlSLAZozzQm/r6J3pRBvPPdsmjyaZxIIkMuA0Mb7s/GJN6HcDpDt9W6yW\n",
       "LxtLHIDT9fFY1LeyxxPd5peGEGDeCWJnAlwONES2FcfDF+GgedVMBLZjOAAAAClBnoNFFSwj/wLW\n",
       "FACgeqMtegABNAc3MLr8nWTM5JAB+CYTPvnZ0waslAAAAB8BnqJ0R/8EcYgHATtDNw8AFroXlYzu\n",
       "CANkn8n4994ZAAAAEQGepGpH/wRz48azhb9NVjaAAAAAkUGaqUmoQWyZTAhn//6eEAAmpFMgBJcS\n",
       "uNmSaTiEy3VySQ/rcHrufnqtfGFLDE9Y0i31EKyLEFXSWt0O0y8BH+gPLpifYczhq/rNeKv6oAaN\n",
       "ldFx0gUA8KNNhzLKaxy9LVLFh5EyUppWV7zaxHdmVwAMxw5H7GpgTRan6rBbECgOVcCGDsRNrCRP\n",
       "Ciwk/fI4nYAAAAAgQZ7HRRUsI/8C1hQAoHqjJda7AACw4n5Mo3lyCzqaF1EAAAAXAZ7mdEf/BHGI\n",
       "BwE7QuENAATWIWj1SjgAAAAPAZ7oakf/BHPjxrOFrsCBAAAAK0Ga7UmoQWyZTAhf//6MsAABdw0x\n",
       "4ofbAgA86mDzgaDXmZ5AOh7ifGrY6pEAAAAtQZ8LRRUsI/8C1hQAoHqjLdzoAW8O0swIqI0rIx0z\n",
       "UCgMesvt1EuaCURTABJQAAAAEgGfKnRH/wRxiAcBO0La/DpxqQAAAA8BnyxqR/8Ec+PGs4WuwIAA\n",
       "AAB3QZsxSahBbJlMCF///oywAAFv3l3Ggiwf4AQZd7z/+mmvdWipnSkc4Ngjr/LWIURqjEGtjLiJ\n",
       "nIVTkCrR8Fsze8mknTQ4MPlq73n1cimDagCVut7rYOGhR6V9XYna4Ad3sCPKwrhyR2ZCXZdmS3Zt\n",
       "FDFKG+WuDekAAAA5QZ9PRRUsI/8C1hQAoHqjIsgfdzoAJalFj1bfvN8EarSt3urtCv8JXPgDaye7\n",
       "qzuWAo7iuagWnYQ/AAAAKAGfbnRH/wRxiAcBO0HCRfR4ACatVZkda3uk11jZlPbkG9rMWBK4a1wA\n",
       "AAARAZ9wakf/BHPjxrOFv2Sit4AAAACPQZt1SahBbJlMCF///oywAAwG6oYAGxzjoUHtq8J0m81Y\n",
       "9EL8Y/sBna5pBhv/ZhjiMGFKG5zpsqTfEDZOa6HEeXQjXX+nJTvnuh6mNDuHMJ29LjDMTzoehDc6\n",
       "wGbfyJA9mxTCk+wGDdoj2bhajVpVohu8Kf92eXfTdoFZRT37etpmGSeGeVLR4am1md2TywkAAAAm\n",
       "QZ+TRRUsI/8C1hQAoHqpAmP8QWgAbbKwsr4m8P+Uv6CqzSjtf4AAAAAYAZ+ydEf/BHGIBwE7DaFQ\n",
       "TxoACFSFZJqBAAAAEwGftGpH/wRz48azhfaApMvxqggAAABYQZu2SahBbJlMCGf//p4QABhykkGO\n",
       "QCOens1THhPAMim87lbuKRQC3BskzRv9CHtY3uGZKbKlINH5tMk9c8w02Fh0LN+1oQFbbFyW6frj\n",
       "RsDieCz5ZnCuMQAAAJxBm9pJ4QpSZTAhn/6eEAAFGzFNHwAGGtil81JHlxS+k4n/PZQTPMl0a/tY\n",
       "DyFLDZOE+1+1techqQmdc2eYkzp9y5xiMt/53du72sVnLbTJ3AlMulYlFaNR0ltNbNoNqrVi+T7z\n",
       "AmsKWobw2jX+4crT2a1LKRfaruvWT/Hyv+E4SgzLNC+qhIJ4eoPMhrx5HfXHTwuYqZ2zqjC8yCEA\n",
       "AABFQZ/4RTRMI/8C1dTf9niEykx7cOX5wAtogyy0yvbwOcsajCOcKwFNqWeEtUR/kn3B07wVMUZL\n",
       "DakfxZJVXk7Yhp5/r/1RAAAAIgGeF3RH/wRxiAcBO0MvkH/joASe1jxmDVfrzrYfkcwJo1EAAAAe\n",
       "AZ4Zakf/BHPjxrOF0iotxWYKAC3jP4ovs34XWVbAAAAAe0GaHkmoQWiZTAhn//6eEAAC1ViJ5FGs\n",
       "bw+PGYRkLCADAzo8chTfeCLj7vC4xxivMZaBraIYYPzxArmjsVj2cgi9R+KF6w8JQqf5LChnfgYg\n",
       "k/pIruPbuyYnqx2bxumrx7AP8yYK/rH1p1JhcXq2lKH9huGlrbyfhf2C8wAAABVBnjxFESwj/wLW\n",
       "FACgeqL0GZt1nTkAAAAcAZ5bdEf/BHGIBwE7QuaqqADNsRhGsLLo+ZQiUAAAADIBnl1qR/8Ec+PG\n",
       "s4X3UF5ugKgAhwo18V4dOYEaK7RumviZ/nZDRsabnxCsAh2lRAegkAAAAElBmkJJqEFsmUwIZ//+\n",
       "nhAAAtX/SO8n3dIfYhG2ZoALRQ8ZFFmLqU1tvl3L19OR8iwMb03qVowxdMUQF7fUO3uU+ChPP9Tz\n",
       "V/CpAAAAM0GeYEUVLCP/AtYUAKB6oyvGmkABJ7DqZeGrsq3IX+PhTbFUbIICZaPSLNkXh6wFDB17\n",
       "wQAAABQBnp90R/8EcYgHATuqFbLRecyfrQAAACEBnoFqR/8Ec+PGs4X3UI8vAAIEoNcgHK+Kb/Xf\n",
       "xQG9xOIAAACZQZqGSahBbJlMCGf//p4QAAUj3fwvrQVxmU+7zDp6n4BsiiiWppMzsryjDdzdV84Q\n",
       "twObxneY6DDD+mXHwwLvHOQ92sJJLoNxpQsy3jjJm3AUhhzpC4Q1yE5kgpDOJZAbIA/cmG+zvPjj\n",
       "DsRxoJBOx/M9w/ugHMsGGyYC0OVkneALp3ABAnsesJemR2Os/fMZAR0QfSuX+JroAAAAKkGepEUV\n",
       "LCP/AtYUAKB6oyrH3AETJ7BuUuZwL4uLnfsIC5NnUXgu7673QQAAADYBnsN0R/8EcYgHATtByaw9\n",
       "L3AAtl2qO1rhjljptMbdX+PQbk0pnEBLo99S2GD/7aWCJO+qXlQAAAAbAZ7Fakf/BHPjxrOF91Bl\n",
       "WiBAk9oANaxSTomAAAAAwEGaykmoQWyZTAhn//6eEAAT3GL1TV+NlviUEX0zO0GAYZlc/ZpAYx4t\n",
       "iQYfflDg8w152zgrvQQ3xWXFNCTzo8L/xN6LHk5AnvWmrQLE72zOFN4eWE0g1Xs2KpWryFEASKiw\n",
       "IHPyDpIndeimo7+ykPhVkQVyh8USNdzgTL7Bnt8MxHEu1Mwb516o6PLN+Csj/IHzE5HZXftmYWti\n",
       "fYHy209aFahSntDdKLofPAXMMn/Zew1S4g52amciLhRWhH9omQAAAF5BnuhFFSwj/wLWFADYbwDY\n",
       "RxzPfOuPywoYGa2uAHBswSlKcFJAyeEQ7TP0txA6FMmcK1l0lZ0gRSd/ynjb6nAYz0ndxKkOZxL+\n",
       "SkWAp5/njCnC/oc7C8Xao5YNZjmAAAAALQGfB3RH/wRxiAcBO6oVrjeio+kAAk/GReb7oYpEJCfc\n",
       "zq3l19UthnGnY3N9UQAAAC4BnwlqR/8Ec+PHuYYkwgaw7AcJ5WgABAERwABoesfXT3cKQRy0Et7y\n",
       "IiI+tOlXAAAAm0GbDkmoQWyZTAhn//6eEAAL67F6AP3ev/9G6v1Sao8lgKip6qKVZ+vemCG17i/z\n",
       "hDWPmFmx8UXJuoGA16uGb2j+scv7gc8IuSv7xyFz8DtVZJvWNaFrwb5vbAxfLLsd9Rk4ffxrcwo3\n",
       "2prkwlqhbBs7e1zD6Oda5VRrPYHMSYr+s0CoRa5iTh4TpNEoel5fjmoDha3YxvvG7qcdAAAANkGf\n",
       "LEUVLCP/AtYUAKB6qkllH40x7N7sslgAJQAuVdtIQsVSIVa8csyTuu+yQcn120Nrj5ZPwQAAABEB\n",
       "n0t0R/8EcYgHATtArrUC1AAAABIBn01qR/8Ec+PGs4XRySi0O8EAAAB0QZtSSahBbJlMCGf//p4Q\n",
       "AAXQsQaAfw0fJzGceNJlvZycoAUJ62y3ydhic53lqydA/5tRSN7HErYPY5JR/CSQhCyGKugXjdZ1\n",
       "zOhcC03kUvKYg1dTsK7sUeoET1S8DTe0rbXqDu3oFZL2ObnvijFMlOQENUkAAAAXQZ9wRRUsI/8C\n",
       "1hQAoHqqQmkF8+cAJeAAAAAYAZ+PdEf/BHGIBwE8dsQXco25oAQSOn0LAAAAGgGfkWpH/wRz48az\n",
       "hkClKGW0MJV5QAkn/p7xAAAAjkGblkmoQWyZTAhn//6eEAABYePZErcRuPgArmVhwqwYKhFOlzM/\n",
       "Fc1dXiiTYyZDTfPbVms6QpAEzdcrD+4rmH4R33lMVCY2sQoCs3hMsFAxHJUeEceempMPa0SugFfa\n",
       "g/rm9kYf77dmF+qa1ZKeKZE9cC9mKD8ARz4nj+Mewag9ji5oZK2KghhNr7tqb9gAAABAQZ+0RRUs\n",
       "I/8C1hQAoHqleDv3tODAh+dF4AC4GVEORkmPbrJnH+31Qfib0Jf63r/Wv6aFlIyfeRP7y+oYH/as\n",
       "wQAAABABn9N0R/8EcYgHATs92pY8AAAAJwGf1WpH/wRz48azhkTp9QB3ti4CYla1MgAhd9ITzCfe\n",
       "SeMFakuJgQAAAIZBm9pJqEFsmUwIX//+jLAAJwPoCA38HlmRw3ho7Qam1VAwQnigHqjZHb9/dxO4\n",
       "vSnkkYKxMvuKg0gw0kolYoR3B3gkWxtKQQQU3fKwtSGuTn0TallHjbtbFpoiYPXWSSo//fFtBQVO\n",
       "e93sKMWp9GgSit/PsJ3vf48lPuT7jy53kgm3Z42S+QAAAChBn/hFFSwj/wLWFACgeqpDXxIB15/V\n",
       "NJKwEjhHlGwgnDzNHTQfAVuvAAAAFgGeF3RH/wRxiAcBPIC605H1naxzGxUAAAAXAZ4Zakf/BHPj\n",
       "xrOFv1Ol9BACr4DdWa8AAACUQZoeSahBbJlMCF///oywAEwJlwAEk160V5B23BXgmV2wDzCUVoxy\n",
       "qiLyihzjFLkAQDv63UK2UOTUtiEibGkXG7RWwBQ8YDmg2xOqA2kYkMqbzwbTZ4EvC+J24ckSbamB\n",
       "Es041Fo4cSfgs22zYphkG15ruI2AOYf+ZOZj6e+UTq7KkbO4mjIQ9pyYNu3tMec1mX2giAAAAB1B\n",
       "njxFFSwj/wLWFACgeqHu/cEgB8byId8KLp6QCwAAABMBnlt0R/8EcYgHATyAK8QkVgqEAAAAFAGe\n",
       "XWpH/wRz48azhkSlJ+FkPmk6AAAAP0GaQEmoQWyZTBRMM//+nhAABfacrkAwt2QRgZ1MDpvBDF6n\n",
       "psBKW0iA+2TMevOHchUsI9kdhOfKGKtcVYQPWQAAABEBnn9qR/8EdPkBwP9Q5XsmUQAAAEVBmmRJ\n",
       "4QpSZTAhn/6eEAAF9t59LJaIFGnyABHdCHlvEsRjqCq8WK8HH6f6s+OEWvHAS8lYAa56xmT5wlQ4\n",
       "9nIlH3lRqTcAAAAeQZ6CRTRMI/8C1dTf9niEfy4HI1QAE1shyHUH51i+AAAAEwGeoXRH/wRxiAcB\n",
       "Oz4aWYVrWNwAAAAeAZ6jakf/BHPjxrOFv8uBTHQlOoADVxhchdZNDgEhAAAAIEGaqEmoQWiZTAhn\n",
       "//6eEAAFze9nZ0vAfRYACcjbYtIgAAAAI0GexkURLCP/AtYUAKB6ovxZTWqh/6ABc8igrcfsdCl1\n",
       "pvlAAAAADgGe5XRH/wRxiAcBOt4PAAAAIAGe52pH/wRz48azhb9tkOABBPhlTX4ne6su8WjSSdsO\n",
       "AAAAeEGa7EmoQWyZTAhn//6eEAAF+YmSyxNcplQClzf31beIqrfcs4ngyb5KnwojHaOHDGYubQ17\n",
       "7Oe+uusI53YTUj1XagtgPsz/gYJvEcQ0vEVlBtOEvocPPkIr5WWSSML+UH6m8smutRYwwJdWrZmx\n",
       "OqWW2Yt2HbyN2QAAAB9BnwpFFSwj/wLWFACgeqH9zu/iEAHsf994LHf273Z5AAAAGAGfKXRH/wRx\n",
       "iAcBOwv/iigBVMGKYbK7gAAAAB0BnytqR/8Ec+PGs4W/3YSH5ACCWSy6qt7WfgOQoQAAAINBmzBJ\n",
       "qEFsmUwIZ//+nhAABdXAyWb9AhXsNPrCGAahmvxCoAIYuMqv1Dyo6437Al7QPT5NeNslxXxjD5ZO\n",
       "sQ1MraRNqlk7Z3BGuxGmShXUfGHn4V8WMf/nEIpsdHLazDq24gXV8Lq7f1Tj1sGeJApgO/wTqK1O\n",
       "E24aSg/x+7XyPTmv8AAAADZBn05FFSwj/wLWFACgeqMKmm7eAAbvTcxJXRptPi5g1KhK2mt/crqr\n",
       "5L7RvD/J+iQOl3hSl7EAAAAQAZ9tdEf/BHGIBwE7PgrjbQAAAB8Bn29qR/8Ec+PGs4ZEMWygGZe8\n",
       "jvwBcBhU/ZpEe4MIAAAAcUGbdEmoQWyZTAhn//6eEAABRvh7IANNQ6f74ugMxWZMd9Uy8nZ+rov7\n",
       "IXriL/qbknvfpIoYrg1Sd4vp1Px5C2xP3dWrwyhQDJJRKEW0C1vZWZVcOam5rMGDVy5hGEHvlNmQ\n",
       "RnpUmREP4tdUT9kDpVNgAAAANkGfkkUVLCP/AtYUAKB6ofyZfvwkgBI1xcNxAitOjESZTpwmIy2I\n",
       "6CLCgcWOqBzNiYqb7RxH8QAAAA4Bn7F0R/8EcYgHATreDgAAAB4Bn7NqR/8Ec+PGs4W/bT6gAzbI\n",
       "KL2he2hGhQbThoEAAACHQZu4SahBbJlMCGf//p4QAJJz+XR0ljCkIEply2fJAkHoCve1sUrFIj46\n",
       "sLJrLQ30PDe8KqKFJkkXgVzLhUN+p4cPZDDaxs3ezP+9hRkGtC8LqMCkGjhajNnAFR3Oh+YYQdmS\n",
       "Ex52SIru94BaEULVISRNaxqxpYEheYtd1CeoKAnKVV/U+1mAAAAAJEGf1kUVLCP/AtYUAKB6owui\n",
       "b/h9AB7JeCl/cVkZ3ObButkaTQAAABMBn/V0R/8EcYgHATsOV8g3jfOBAAAAIAGf92pH/wRz48az\n",
       "hdC7i63AoANaXDIq8zYMX6voeJm9AAAAuUGb/EmoQWyZTAhn//6eEAAT/3fwU5o46gfUDn/TUbsG\n",
       "uf+NMNTZIFxqnPL3s2QMgvxbm4xw0gCk8evmLnPrs/dsfEUvMiRTSkMbtjLu/jvUvpibB7ChuUCB\n",
       "X0Bd6fdUx1vb2/uPOExNa2TefObX1pDh85HORr02H0oQi2Gdebfp4dmdbGDDwAwwrcDlAFcGsNPQ\n",
       "2+BFDvwH/L4eGtThCwcpIddD/Tc5Dmi2VfmlLK1xmQyQd3oxLZBNAAAARkGeGkUVLCP/AtYUANgv\n",
       "AbNlijv3zM5GwAlSg1WktnvGFIqX23XbJUHYHBHo9IZzX65sUmr82XvQUydyK1uJDpMuLhdM0WAA\n",
       "AAAaAZ45dEf/BHGIBwE7P02QYeSSAAAaOc9yKQsAAAAcAZ47akf/BHPjxrOF0LuNbg80ABAXdkXt\n",
       "o8l7qwAAAJtBmiBJqEFsmUwIZ//+nhAABc/x8egiVqckcTjWqOMYEdlx6ymzH4vveVrFjcMuHNOO\n",
       "ua3LXRDFTIXH2OubBx1xnUcqT7vzTRqxx/30e/9Qx9D8OrwJftSTjd5Xkorc6s8cgfe1UO84eB+K\n",
       "edz87sUCLKwhQH5Geaj18VgwPj5f/vInY8bJMN2ArXq2pC/+EsQeTontf+iEIBYGgAAAADFBnl5F\n",
       "FSwj/wLWFACgeqMrk4GGs+UxIAViDn61lyJVW6euZd8BmR0fPJinontyLNOAAAAAFQGefXRH/wRx\n",
       "iAcBRdVujY09qCnB3QAAABABnn9qR/8Ec+PGs4XQu2ttAAAApUGaZEmoQWyZTAhn//6eEAAF9fgi\n",
       "QCOdBZi0N1qZ/u2VElQfUSJH7gs82kXOye893nMrPsiJpgV4/qr6gnn9E+Jy/3OZF4cFSiRSw27w\n",
       "rTkm5At/CrwCDnl0hJ0gbD0ela3WJgY2SVBYSpivjJKNrxEaUxfCLVzz8TQY5+74+p5MQ5R85UD1\n",
       "W1BwpsFlgDuucRdGHwg6e8hL/73dGVMMeYFERgMqBwAAAC5BnoJFFSwj/wLWFACgeqV1J/jOAAAV\n",
       "2tPtoM+rWK75cHykAz5SVVKck09MmmhYAAAAEgGeoXRH/wRxiAcBO6m183TVCAAAABsBnqNqR/8E\n",
       "c+PGs4XSq4aAAmtXpQ0mdgdQacEAAACHQZqoSahBbJlMCGf//p4QABfXrLkCt9+keEiNR6uwZay0\n",
       "WQ5vZrxB64eo7hrF9xGOAW4AThPYryNbBC142/xDNg1dkalgUPObkLaqo2tb1R60wP8cPd4LXojP\n",
       "pFcwi/FLxKAI1Q3bB3qq+0/wwankcrWrCPMOOlpWELgR70zlyVt+QFD7ubEoAAAAIkGexkUVLCP/\n",
       "AtYUAKB6pZeUbiAGxtmcUWX0sO2sZ7LolxcAAAAZAZ7ldEf/BHGIBwE7QcNez6gA0NpTFL4ZgQAA\n",
       "ACEBnudqR/8Ec+PGs4XSNTafIAM2ypy3NhI2PICJPw/BpyAAAABCQZrsSahBbJlMCGf//p4QACak\n",
       "UyAElyhcJSd5ZiitEv90cPHAwyTdDTHZeLu2JDbRg7wuF7/EJ8vugNk0MswNC+2BAAAAI0GfCkUV\n",
       "LCP/AtYUAKB6oykwwixAC1Ly2JLXtlE/OM4DhMovAAAAGQGfKXRH/wRxiAcBO0La/EfhoACFZgZk\n",
       "oJQAAAAQAZ8rakf/BHPjxrOF0btrZQAAADJBmzBJqEFsmUwIZ//+nhAABc8rLkCt9+mWbu0K9NDe\n",
       "ytWWCNIUo1BhuUu+VJe6e0o9MAAAABVBn05FFSwj/wLWFACgeqMqmj2xoxcAAAAqAZ9tdEf/BHGI\n",
       "BwE7QzghAA2GGnJKODtFs4S4xvAO4TSgMfFD0q3ylwhRAAAAGAGfb2pH/wRz48azhdLJUAkfDQAE\n",
       "KkxQ1AAAAI9Bm3RJqEFsmUwIZ//+nhAAAWp1h5KO2VPFNYAJ29d8D3srBm5vw0C7EZ3YXFLjH/oi\n",
       "strWnN56ZjATN/44bWJ8qGatzhodnyev5fMU1osARtfzZQpV6qf9mLYb1Ckj27DXx8v+d4mZzde0\n",
       "StyhMh7Ix9Dnl/Ww4b+NKrvfEefMVH7Ouk/KRtmQVr5dfV0N4AAAACFBn5JFFSwj/wLWFACgeqMp\n",
       "bRckAA42m1/i72wco+xYi4EAAAAdAZ+xdEf/BHGIBwE7QoaqPoASe58kZh4E2awU324AAAARAZ+z\n",
       "akf/BHPjxrOF0qc9mGcAAAA9QZu4SahBbJlMCGf//p4QAAv3Mp+UAfxd/fe2/ivMexdaR8uDl6Lw\n",
       "VyCIHD4GYT7d7QpbAJGnp+6DvctbTwAAABRBn9ZFFSwj/wLWFACgeqMroKD3sQAAACABn/V0R/8E\n",
       "cYgHATtDeiIAIg0up0ewH4BpmJW1KC0clQAAABIBn/dqR/8Ec+PGs4XSqH4eWckAAABmQZv8SahB\n",
       "bJlMCGf//p4QAAFq7oS0wcABKVgLSxJo8z8dZf9eD04bfgb2sAV4Bf4++7yoBHCeoKX9XH1lFlaT\n",
       "Cur9YmMrtM0Q9CCsZOLYPtibb0QygU2gEOHqRanbOYsPrJSREqTBAAAAHEGeGkUVLCP/AtYUAKB6\n",
       "oyl2+rEAK3pwKGc6rcAAAAAOAZ45dEf/BHGIBwE63g4AAAAPAZ47akf/BHPjxrOFrsCBAAAA0UGa\n",
       "IEmoQWyZTAhn//6eEAAF1ESf1AKXza2L75d95tDZAkG2wFI41ErRcMFqpzA8/N8X9Hj3o/Xrcf7y\n",
       "gvGiVvP/b+NXEiUbryU3XnVJQacCiORiHVD/bcHtQCWRrtsx7noMrNzE3Uqjm7YU+biB63BtGm+a\n",
       "FlaZiL8ihiNlm2c8GSWWzgsF2PgGCBp31lA0AQ9BxboZ7RmAzBEsSHeg1/PoYAxCb3Xcq5/7xA/A\n",
       "hDhJGjKeArjQOrpqOZ6zSsjXAKc0H7yA+nBjHF6xQ1GC3H8wAAAAU0GeXkUVLCP/AtYUAKB6qQJr\n",
       "43OEwAOkepIAZ9QFg+NR+SS/tzVxRGYYyHmvAfe7ywsamdra7hh+bIBTAFwQ8O7cFthvR3nxo+ng\n",
       "Cm5RG418gATAAAAAMgGefXRH/wRxiAcBO0Nr3AAuWr0ZSRDbZxuHTxQQVe1X0f0toNqXkbNnN8iw\n",
       "cMNcicJhAAAAOQGef2pH/wRz48azhdKmQtgoAv4ABZHIGIwfjQjNkrbNzqZqfy3Zd0yHw9H51HPJ\n",
       "bvEQRooREr49gQAAAKRBmmRJqEFsmUwIZ//+nhABHW/GzzFDtXBANLoHc83+ZChik/cSnykra36d\n",
       "swNXMu4Eh+a+o0oJCscf8w9G9Fy2DaqDV36ylOUu60T53ggRkY47zBISoAdV3dOpfn2EiAd9oHE6\n",
       "OsHkVrhcYxU356cTK5LxPCxMyb03s7uUxZmFj8neUCD18hBxn0hsa/QY3bfVwjX5/xC4uj5rDNfo\n",
       "fgS5yqrDyQAAAEtBnoJFFSwj/wLWFACgeqMMHg2dbdgdqhtuytHLQAX8AJo8csYwHz90IwlBQ6Pb\n",
       "7NAWr62Jj3v9e1P2D7RNinq7b/FN7A+QtEXy+cwAAAAvAZ6hdEf/BHGIBwE7D20FTVAB9GNeyPci\n",
       "rImfAn22Nl4Mn9YzDLqPOwKhRJ2h1EgAAAAPAZ6jakf/BHPjxrOFrsCBAAAAnUGaqEmoQWyZTAhf\n",
       "//6MsAAF3MOeCAKIuBrkKUF/x3+FwC6v+CjnxvRVAvfRqp0Ulvpa08KLI1N8pk258LWFqZXhxwPP\n",
       "ML5SnD61/ES6wxyRpjM3TDa1fWLKkGalEx1PJ9wxcMwTyPKlFpDX1B1zKawOJn1jIn1l/zSFx2EM\n",
       "Eu141eoa3EpvxeF3oi2cYo3NPLDbmCzmhYkX/Tr241QAAABKQZ7GRRUsI/8C1hQAoHqqRobR6zLq\n",
       "B6Cj0AASZvKeYVXDASCeK1e2Dm/bL2nxo5gvSFNIIHL9sAE+1cRPbMB/aovaI4TQ9N7DJoAAAAAY\n",
       "AZ7ldEf/BHGIBwE7PdohomM7GgAQPaKfAAAALQGe52pH/wRz48azhkRt5LwJ7NEAI2Gg6JYjnJ3q\n",
       "ai1AZcEXiKPUGBC91wiFwAAAAJhBmuxJqEFsmUwIX//+jLAABdv5oAAbvWg2uGj7SK5oJ9+dfGkI\n",
       "F3ioj+wMdpzV7us3r+2RytsTsZhpaAKBajI1p+IOctM9UfrPBnLCSJFCWZyXiphLsijTxfLO569b\n",
       "d/5KUbGSr/+HXahdz7uXeuVgdnWQnfh4mo1rt87WtuDpUXYufmImh3PgzLIW2vkPgj4lBDYFnPga\n",
       "sQAAAEJBnwpFFSwj/wLWFACgeqMMHgJ4ujCuLtZ+2AAna40jUBYDBeyGjg5CG5TggTYg1Pf7vEkZ\n",
       "xSaJhBe57DFuNeSSKRsAAAAkAZ8pdEf/BHGIBwE8gCvEJFWnmkSACH5CpIgOuP/YaRUOnHqWAAAA\n",
       "IQGfK2pH/wRz48azhb/UxPuwAB+zy4rM015lQlfgyC5s+wAAAOZBmy9JqEFsmUwIX//+jLABePdG\n",
       "qSiXad/zNKN0vOSKUTJqzJRP/6AEBJDn4HJ40tJvULVxhj96AaFgifbcaRmjP2IgIVS38rc9BQRG\n",
       "tMP6E4d6btQ4e++z5WmnWRSZ9Z54+vLuemUMe8aELJGsc5+rLsrTSP/TR90aChGoa4zSSrKzpBEx\n",
       "uEQbArQGGf8DADagOPDTCzP5X5nBj0l9SAk/wJjXVwVSDUDugPEIEwX/awKj0SYabnPa3PHrtmXz\n",
       "pIk7ZwAMHKHSsSzBxteqhpfqM+gF31ElPPHB1i2R1WtZ0+jGOeBvQAAAAJBBn05CP/8EdPktreW2\n",
       "6kPH6bf+/kjbdkgtMhf/NW/iuTRLLPf0Hx4P6fYDcwKkqVaU49LP73EuC4kVPw3VbNrZtsZUhcUN\n",
       "+3nzUoWQsn89RjMkOTpHfc7LSx/SExBIUSQGdM+vAFZPogo+CMAIA/yavrXVoo9oH7H6L8Q3150n\n",
       "52DLb6PELyaw3NThkR3K0MEAAAA5AZ9taRH/BHGIkH/YLsL8nDfvFwuIkTXxRhhx2aKMN6R100kA\n",
       "078vyeiD/18AGweihOM+HCzC1/TdAAAAkkGbc0moQWyZTAhf//6MsALuDCu6iayeP7fn4/qf65S6\n",
       "u6lZJ56QCuJ3GxBvRy9lWO2DoKnnF1+6wyKaKKk1qiAvcP4g57ZesK3g942bvCx24F540dJzmcA+\n",
       "wmzAmlxdn/WU0Ala/TjiY1oOfnLReUXIWd73j9zWC4aBYUZvzB/anbkCmOab8Nfd25XmyqAAuCXg\n",
       "AAAAOUGfkUURLCP/AtYUC29fKEYcBSff7plorTOYzdUiQn+6SC7WvBHKzGM5VhNHuFooAC0oqvF9\n",
       "IvJV0AAAAHMBn7B0R/8EcYi648BttJb7WF20bqucDS+mBP3mOgqDeeGu8Jv/r7XQq7XtZrUcoU9n\n",
       "dx3uQ98Ok9vjatjJ+RbZfderTAFEw/dVUZmTn95atYaQ5Abhp1dUsBMI+ARewoUMfNrsGT85TWDP\n",
       "rDAgu3QVsUOnAAAAPwGfsmpH/wRz5Cyh2pZn4wQAt/QMowzbM1fssxwgSrsAzm/x3Jv0kggLFvkU\n",
       "a3SGLtUQVS2N45a8sAk94wwlTAAAAI9Bm7RJqEFsmUwIZ//+nhAAtX0ackJNm2+b9RxNZTdC8S1w\n",
       "9KkynDh2usWdbEEdkhDV/jgPct6xr05tpk/icfZsbnlOPW5FfCLWXhRKROAeSBGslnKOppGJa845\n",
       "ssgrml/+CqPgt83uy9jN7KSQ+oh1RAJ8mHciIm6rHwL9OwpY9rWZr8MdWUrS1NaOdzPheQAAAHBB\n",
       "m9hJ4QpSZTAhn/6eEALFzLpTd5y5GNp0c4yttCVWPH+QUmx+KpcMhc+W+iBbx85LGub1rV661RuB\n",
       "4ysfG86FgVoBHM+cgpBu2vRYxWYLni7nbfX7WCL1LwoFIj1o1tB3Cl0a5W5hAhVZDF3GxpcwAAAA\n",
       "QkGf9kU0TCP/AtXU68hdeSuKQXEwVewBnF0uF/bBr9BvOzLux/cvV0ZO6b8DeJP5jY/dqFBcG4rq\n",
       "rW6ync5PttBqQQAAADQBnhV0R/8EcYhUiNoB5HDg8lFshZ6CalrfF3qY/3tAAIGIwOhXITjvxLXK\n",
       "Kji2NlICUw/nAAAASQGeF2pH/wRz5Cyh2pZn2msoiRG+N202UvIejXBsbonZdRRl7ly8N6lfyxAm\n",
       "M44fIsPqLACszf/AQZrvGBw4/B2hRURcvzIBziEAAACWQZocSahBaJlMCF///oywAVv7NxMeHwEh\n",
       "bZ9ilYJNwJV9yzcwbPjJ9B2eagn2NqGIBlfRljzt6Q8jblvslssRAsHgdk2CUX82C32BDP/p0DuA\n",
       "tP4/v5QOcEwqAFDmLBp5Kcs4U5YvAcCp5VAFBOeAttP61YZ24uuxlBbm7p8AjARTZ3hui48q59Z6\n",
       "vjRkPZAJshgHfxsrAAAAKkGeOkURLCP/AtYUCyiUv3MrNoCbn6k0+ZrzrK/QAaGtKEin4YX8GbPU\n",
       "gAAAADgBnll0R/8EcYiwXhDQT8a1u/PvGFCy81AQ62TZsgevU04hBzaxHWRQaiV09s+3jn7i6tgB\n",
       "Cnh3QAAAACUBnltqR/8Ec+QgeLr6nW01zrhNJz4guBI/u7PpBwmJerVSQhlRAAAArUGaX0moQWyZ\n",
       "TAhn//6eEALp8YC73mRbuukSHW4eBd7suyHoCNxbhCba+/L41v5LcrPo5fLh45hCgnDD3yOXYQCM\n",
       "qiUo4H8sNBBqG1PoR4yGXaNb7GseO648wwjYXO5e3u6yUiYHqHY6WUQn32wmFIrGSVhvBbqxLgAj\n",
       "i2N5tO7Dv0pLAa3Qw//OzXyij/gwUwklTvEsc/kSfklkpY4x0k7jdt0xI0qSntCMAKuAAAAAGEGe\n",
       "fkI//wR0+QHA/1DPS56CAEeJfRJtwAAAADsBnp1pEf8EcYi2eMKCZpkUlnSnaOHdNA0AUpa4thIh\n",
       "dzOC+P7iAEBGjM1o9pm736e2R1he8PEXnnsm9QAAAKpBmoNJqEFsmUwIZ//+nhABbPd/AwO7Cz83\n",
       "ioxmAArOF0z1WiBlF8F0fBmWHwhhTGi4AC3JimW/E1kGv+m1T/VPkMPRfB4/Gc95IMMx2+/N6Bb/\n",
       "70zo7cXV06kd3qvbHOiKhaTKf2AU0md4H9g9DFGML0d/bBb6pLGG3KBR3f8NkpNLJ5avsc1PDbQe\n",
       "6SNSGuzUOK9ovhlC8fU0cUngCesyuXqwGb/qJTx0KQAAABtBnqFFESwj/wLWFAshcGxqNStuDYYj\n",
       "ZGc7uaEAAAAbAZ7AdEf/BHGIWvuOVcL/gedpr6pHBAzYGxuAAAAAHQGewmpH/wRz48azhkRsFKNV\n",
       "eBSSN9oAWO31AF7MAAAAiUGax0moQWyZTAhn//6eEAALr7v3qlB1AP4FST7H2KQXX4sA4G0zwMTy\n",
       "rMxS5D7EfaH9K2wOjxZlrhQTAJqfhe931Vi+Q0xskfUxmiS/M4nJ4UXUf867HQc3I2THPeenI2WY\n",
       "5DRAXzhtzH7HTaFYn9h5S6lXgrvyhkr6cUYzsOSGIaalrBkeurfZAAAAP0Ge5UUVLCP/AtYUAKB6\n",
       "qkJcGZ55xRQLGG+9icALWbf5p700nz8hfKoJoNv30Ja2oDUuF9hjkdj+aarmsH1jiwAAAC0BnwR0\n",
       "R/8EcYgHAUXExV/JCt9yKs3o1ABqnuJWo120rkPzz1EmBTkih/w1QZUAAAAQAZ8Gakf/BHPjxrOF\n",
       "ti7cAQAAAHNBmwtJqEFsmUwIX//+jLAABgH76oAuUexP67VMJsMNeXR1zPk1bit78jorFd1EmJI/\n",
       "9bHvr1xtMPd46+dSMgkNpyLezMo19Inhieogaq5ZrnA5gdToUcWF7BRYpBwfSBs09gZsy3X/10zE\n",
       "03cmtRS15jmAAAAALEGfKUUVLCP/AtYUAKB6pPU1nOa0lkAHcaX2An2GUtBos6Zolz4pi6EG0cyZ\n",
       "AAAADgGfSHRH/wRxiAcBOt4PAAAAFQGfSmpH/wRz48azhb9e6DgATW4+qAAAAJFBm09JqEFsmUwI\n",
       "X//+jLAAJg24/Pn9yYzsPMix7wABcYxGYQ2Id8zZIgesZs4YBxQzTKILGpHLRT+UkRddZXtdM/Yr\n",
       "G9S9kWjejRqgbG5q0NhfgCAlLzqm8ARAijV16yTk8pJaK1hEiZL743ie8zUeAEQqV/9ifdbEd9+P\n",
       "9L4eJj7CJtUhyQ4lpJSxXf7NeLxxAAAANUGfbUUVLCP/AtYUAKB6ogXI8Ud/hAkJgAhqPrxaeCrq\n",
       "RmXocdrQ3/ZrzvjYL2ShlrqvY7j2AAAAGgGfjHRH/wRxiAcBOw5X1PiAAmWwSEmEtOAlAAAAIAGf\n",
       "jmpH/wRz48azhb/thAACDmZUzSiPplD0rE5UkyjRAAAAi0Gbk0moQWyZTAhf//6MsAAKCV51AHeo\n",
       "4yhUetwDSdxMrn4fqqJe2zFAALjLwth6PgZru9B95qGPYGvmZs2eXxESskha9HZkhoyC8yGmyGF8\n",
       "38wXC+Tu90YrICBUMhkwbKuFSAGbgxWFjtJC/dgSrdEsVj/jk4Gkh/4iKoHx7ZvwOAndm8uYAqVg\n",
       "8VoAAABUQZ+xRRUsI/8C1hQAoHqlaFdilCAAdI7TurElB9Iny2Q4RRzXEQOUrDfAjZGTe+sQYbqg\n",
       "y0Q7W6kzYPseICzK1aFfVoikv9k6v832bwz6QDf7/0+4AAAAMwGf0HRH/wRxiAcBO6m0+nMtzikA\n",
       "EqDiJQrGEvbXahoroD6E1GNqhqRrpKEfKl3WSdnK/wAAACkBn9JqR/8Ec+PGs4XSvUKACI6y9E2X\n",
       "w7lBR2vLdHq5UBxB4y5yNR6ImAAAAGtBm9dJqEFsmUwIT//98QAADXxkNUzo4AJ22bE4f8M7Uai+\n",
       "wFn//BH+7rauum4bxVuTFqLtE2TbCbpG6THi65km+5Bbj1e6k6oQr+j4rWpqcS+v0E8CfA37oT6t\n",
       "WbNbK04CuepmMcfS5JOqYQAAAENBn/VFFSwj/wLWFACgeqMtkxABdJldMxaZ+t3+SA8S77u4vL3W\n",
       "ngUuwGZsLn4P6dmJCsQbxe9+UAu//rqYrQwXDmvcAAAAEAGeFHRH/wRxiAcBOw0Fcm0AAAAfAZ4W\n",
       "akf/BHPjxrOF0r1UkAGtgFH8CYoBO7UIuHAVsQAAAD5BmhlJqEFsmUwUTH/8hAAAVG552JQAIgwq\n",
       "9l0lK1WJWJcYnB17rM6T+I9j3+aSBJLT5vZql0HoNjJQPdd9yQAAABQBnjhqR/8EdPkBwP9TpWJN\n",
       "P1nzQQAAMhJtb292AAAAbG12aGQAAAAAAAAAAAAAAAAAAAPoAABOIAABAAABAAAAAAAAAAAAAAAA\n",
       "AQAAAAAAAAAAAAAAAAAAAAEAAAAAAAAAAAAAAAAAAEAAAAAAAAAAAAAAAAAAAAAAAAAAAAAAAAAA\n",
       "AAAAAAACAAAxPHRyYWsAAABcdGtoZAAAAAMAAAAAAAAAAAAAAAEAAAAAAABOIAAAAAAAAAAAAAAA\n",
       "AAAAAAAAAQAAAAAAAAAAAAAAAAAAAAEAAAAAAAAAAAAAAAAAAEAAAAABsAAAASAAAAAAACRlZHRz\n",
       "AAAAHGVsc3QAAAAAAAAAAQAATiAAAAIAAAEAAAAAMLRtZGlhAAAAIG1kaGQAAAAAAAAAAAAAAAAA\n",
       "ADIAAAPoAFXEAAAAAAAtaGRscgAAAAAAAAAAdmlkZQAAAAAAAAAAAAAAAFZpZGVvSGFuZGxlcgAA\n",
       "ADBfbWluZgAAABR2bWhkAAAAAQAAAAAAAAAAAAAAJGRpbmYAAAAcZHJlZgAAAAAAAAABAAAADHVy\n",
       "bCAAAAABAAAwH3N0YmwAAACzc3RzZAAAAAAAAAABAAAAo2F2YzEAAAAAAAAAAQAAAAAAAAAAAAAA\n",
       "AAAAAAABsAEgAEgAAABIAAAAAAAAAAEAAAAAAAAAAAAAAAAAAAAAAAAAAAAAAAAAAAAAAAAAAAAY\n",
       "//8AAAAxYXZjQwFkAB7/4QAYZ2QAHqzZQbCWhAAAAwAEAAADAZA8WLZYAQAGaOvjyyLAAAAAHHV1\n",
       "aWRraEDyXyRPxbo5pRvPAyPzAAAAAAAAABhzdHRzAAAAAAAAAAEAAAPoAAABAAAAACBzdHNzAAAA\n",
       "AAAAAAQAAAABAAAA+wAAAfUAAALvAAAfSGN0dHMAAAAAAAAD5wAAAAEAAAIAAAAAAQAABQAAAAAB\n",
       "AAACAAAAAAEAAAAAAAAAAQAAAQAAAAABAAAFAAAAAAEAAAIAAAAAAQAAAAAAAAABAAABAAAAAAEA\n",
       "AAUAAAAAAQAAAgAAAAABAAAAAAAAAAEAAAEAAAAAAQAABQAAAAABAAACAAAAAAEAAAAAAAAAAQAA\n",
       "AQAAAAABAAAFAAAAAAEAAAIAAAAAAQAAAAAAAAABAAABAAAAAAEAAAUAAAAAAQAAAgAAAAABAAAA\n",
       "AAAAAAEAAAEAAAAAAQAABQAAAAABAAACAAAAAAEAAAAAAAAAAQAAAQAAAAABAAAFAAAAAAEAAAIA\n",
       "AAAAAQAAAAAAAAABAAABAAAAAAEAAAUAAAAAAQAAAgAAAAABAAAAAAAAAAEAAAEAAAAAAQAABQAA\n",
       "AAABAAACAAAAAAEAAAAAAAAAAQAAAQAAAAABAAAFAAAAAAEAAAIAAAAAAQAAAAAAAAABAAABAAAA\n",
       "AAEAAAUAAAAAAQAAAgAAAAABAAAAAAAAAAEAAAEAAAAAAQAABQAAAAABAAACAAAAAAEAAAAAAAAA\n",
       "AQAAAQAAAAABAAAFAAAAAAEAAAIAAAAAAQAAAAAAAAABAAABAAAAAAEAAAUAAAAAAQAAAgAAAAAB\n",
       "AAAAAAAAAAEAAAEAAAAAAQAABQAAAAABAAACAAAAAAEAAAAAAAAAAQAAAQAAAAABAAAFAAAAAAEA\n",
       "AAIAAAAAAQAAAAAAAAABAAABAAAAAAEAAAUAAAAAAQAAAgAAAAABAAAAAAAAAAEAAAEAAAAAAQAA\n",
       "BQAAAAABAAACAAAAAAEAAAAAAAAAAQAAAQAAAAABAAAFAAAAAAEAAAIAAAAAAQAAAAAAAAABAAAB\n",
       "AAAAAAEAAAUAAAAAAQAAAgAAAAABAAAAAAAAAAEAAAEAAAAAAQAABQAAAAABAAACAAAAAAEAAAAA\n",
       "AAAAAQAAAQAAAAABAAAFAAAAAAEAAAIAAAAAAQAAAAAAAAABAAABAAAAAAEAAAUAAAAAAQAAAgAA\n",
       "AAABAAAAAAAAAAEAAAEAAAAAAQAABQAAAAABAAACAAAAAAEAAAAAAAAAAQAAAQAAAAABAAAFAAAA\n",
       "AAEAAAIAAAAAAQAAAAAAAAABAAABAAAAAAEAAAIAAAAAAQAABQAAAAABAAACAAAAAAEAAAAAAAAA\n",
       "AQAAAQAAAAABAAAFAAAAAAEAAAIAAAAAAQAAAAAAAAABAAABAAAAAAEAAAUAAAAAAQAAAgAAAAAB\n",
       "AAAAAAAAAAEAAAEAAAAAAQAABQAAAAABAAACAAAAAAEAAAAAAAAAAQAAAQAAAAABAAAFAAAAAAEA\n",
       "AAIAAAAAAQAAAAAAAAABAAABAAAAAAEAAAUAAAAAAQAAAgAAAAABAAAAAAAAAAEAAAEAAAAAAQAA\n",
       "BQAAAAABAAACAAAAAAEAAAAAAAAAAQAAAQAAAAABAAAFAAAAAAEAAAIAAAAAAQAAAAAAAAABAAAB\n",
       "AAAAAAEAAAUAAAAAAQAAAgAAAAABAAAAAAAAAAEAAAEAAAAAAQAABQAAAAABAAACAAAAAAEAAAAA\n",
       "AAAAAQAAAQAAAAABAAACAAAAAAEAAAUAAAAAAQAAAgAAAAABAAAAAAAAAAEAAAEAAAAAAQAAAgAA\n",
       "AAABAAAFAAAAAAEAAAIAAAAAAQAAAAAAAAABAAABAAAAAAEAAAUAAAAAAQAAAgAAAAABAAAAAAAA\n",
       "AAEAAAEAAAAAAQAABQAAAAABAAACAAAAAAEAAAAAAAAAAQAAAQAAAAABAAAFAAAAAAEAAAIAAAAA\n",
       "AQAAAAAAAAABAAABAAAAAAEAAAUAAAAAAQAAAgAAAAABAAAAAAAAAAEAAAEAAAAAAQAABQAAAAAB\n",
       "AAACAAAAAAEAAAAAAAAAAQAAAQAAAAABAAAFAAAAAAEAAAIAAAAAAQAAAAAAAAABAAABAAAAAAEA\n",
       "AAUAAAAAAQAAAgAAAAABAAAAAAAAAAEAAAEAAAAAAQAABQAAAAABAAACAAAAAAEAAAAAAAAAAQAA\n",
       "AQAAAAABAAAFAAAAAAEAAAIAAAAAAQAAAAAAAAABAAABAAAAAAEAAAUAAAAAAQAAAgAAAAABAAAA\n",
       "AAAAAAEAAAEAAAAAAQAABQAAAAABAAACAAAAAAEAAAAAAAAAAQAAAQAAAAABAAAFAAAAAAEAAAIA\n",
       "AAAAAQAAAAAAAAABAAABAAAAAAEAAAUAAAAAAQAAAgAAAAABAAAAAAAAAAEAAAEAAAAAAQAABQAA\n",
       "AAABAAACAAAAAAEAAAAAAAAAAQAAAQAAAAABAAAFAAAAAAEAAAIAAAAAAQAAAAAAAAABAAABAAAA\n",
       "AAEAAAUAAAAAAQAAAgAAAAABAAAAAAAAAAEAAAEAAAAAAQAAAgAAAAABAAAFAAAAAAEAAAIAAAAA\n",
       "AQAAAAAAAAABAAABAAAAAAEAAAUAAAAAAQAAAgAAAAABAAAAAAAAAAEAAAEAAAAAAQAAAwAAAAAB\n",
       "AAABAAAAAAEAAAUAAAAAAQAAAgAAAAABAAAAAAAAAAEAAAEAAAAAAQAABQAAAAABAAACAAAAAAEA\n",
       "AAAAAAAAAQAAAQAAAAABAAAFAAAAAAEAAAIAAAAAAQAAAAAAAAABAAABAAAAAAEAAAUAAAAAAQAA\n",
       "AgAAAAABAAAAAAAAAAEAAAEAAAAAAQAABAAAAAABAAACAAAAAAEAAAAAAAAAAQAAAgAAAAABAAAF\n",
       "AAAAAAEAAAIAAAAAAQAAAAAAAAABAAABAAAAAAEAAAUAAAAAAQAAAgAAAAABAAAAAAAAAAEAAAEA\n",
       "AAAAAQAABQAAAAABAAACAAAAAAEAAAAAAAAAAQAAAQAAAAABAAAFAAAAAAEAAAIAAAAAAQAAAAAA\n",
       "AAABAAABAAAAAAEAAAUAAAAAAQAAAgAAAAABAAAAAAAAAAEAAAEAAAAAAQAABQAAAAABAAACAAAA\n",
       "AAEAAAAAAAAAAQAAAQAAAAABAAAFAAAAAAEAAAIAAAAAAQAAAAAAAAABAAABAAAAAAEAAAUAAAAA\n",
       "AQAAAgAAAAABAAAAAAAAAAEAAAEAAAAAAQAABQAAAAABAAACAAAAAAEAAAAAAAAAAQAAAQAAAAAB\n",
       "AAAFAAAAAAEAAAIAAAAAAQAAAAAAAAABAAABAAAAAAEAAAUAAAAAAQAAAgAAAAABAAAAAAAAAAEA\n",
       "AAEAAAAAAQAABQAAAAABAAACAAAAAAEAAAAAAAAAAQAAAQAAAAABAAAFAAAAAAEAAAIAAAAAAQAA\n",
       "AAAAAAABAAABAAAAAAEAAAUAAAAAAQAAAgAAAAABAAAAAAAAAAEAAAEAAAAAAQAABQAAAAABAAAC\n",
       "AAAAAAEAAAAAAAAAAQAAAQAAAAABAAAFAAAAAAEAAAIAAAAAAQAAAAAAAAABAAABAAAAAAEAAAUA\n",
       "AAAAAQAAAgAAAAABAAAAAAAAAAEAAAEAAAAAAQAABQAAAAABAAACAAAAAAEAAAAAAAAAAQAAAQAA\n",
       "AAABAAAFAAAAAAEAAAIAAAAAAQAAAAAAAAABAAABAAAAAAEAAAUAAAAAAQAAAgAAAAABAAAAAAAA\n",
       "AAEAAAEAAAAAAQAABQAAAAABAAACAAAAAAEAAAAAAAAAAQAAAQAAAAABAAAFAAAAAAEAAAIAAAAA\n",
       "AQAAAAAAAAABAAABAAAAAAEAAAUAAAAAAQAAAgAAAAABAAAAAAAAAAEAAAEAAAAAAQAABQAAAAAB\n",
       "AAACAAAAAAEAAAAAAAAAAQAAAQAAAAABAAAFAAAAAAEAAAIAAAAAAQAAAAAAAAABAAABAAAAAAEA\n",
       "AAUAAAAAAQAAAgAAAAABAAAAAAAAAAEAAAEAAAAAAQAABQAAAAABAAACAAAAAAEAAAAAAAAAAQAA\n",
       "AQAAAAABAAADAAAAAAEAAAEAAAAAAQAAAgAAAAABAAAEAAAAAAEAAAIAAAAAAQAAAAAAAAABAAAF\n",
       "AAAAAAEAAAIAAAAAAQAAAAAAAAABAAABAAAAAAEAAAUAAAAAAQAAAgAAAAABAAAAAAAAAAEAAAEA\n",
       "AAAAAQAABQAAAAABAAACAAAAAAEAAAAAAAAAAQAAAQAAAAABAAAFAAAAAAEAAAIAAAAAAQAAAAAA\n",
       "AAABAAABAAAAAAEAAAUAAAAAAQAAAgAAAAABAAAAAAAAAAEAAAEAAAAAAQAABQAAAAABAAACAAAA\n",
       "AAEAAAAAAAAAAQAAAQAAAAABAAAFAAAAAAEAAAIAAAAAAQAAAAAAAAABAAABAAAAAAEAAAUAAAAA\n",
       "AQAAAgAAAAABAAAAAAAAAAEAAAEAAAAAAQAABQAAAAABAAACAAAAAAEAAAAAAAAAAQAAAQAAAAAB\n",
       "AAAFAAAAAAEAAAIAAAAAAQAAAAAAAAABAAABAAAAAAEAAAUAAAAAAQAAAgAAAAABAAAAAAAAAAEA\n",
       "AAEAAAAAAQAABQAAAAABAAACAAAAAAEAAAAAAAAAAQAAAQAAAAABAAAFAAAAAAEAAAIAAAAAAQAA\n",
       "AAAAAAABAAABAAAAAAEAAAQAAAAAAQAAAgAAAAABAAAAAAAAAAEAAAMAAAAAAQAAAQAAAAABAAAE\n",
       "AAAAAAEAAAIAAAAAAQAAAAAAAAABAAADAAAAAAEAAAEAAAAAAQAABQAAAAABAAACAAAAAAEAAAAA\n",
       "AAAAAQAAAQAAAAABAAAFAAAAAAEAAAIAAAAAAQAAAAAAAAABAAABAAAAAAEAAAUAAAAAAQAAAgAA\n",
       "AAABAAAAAAAAAAEAAAEAAAAAAQAABQAAAAABAAACAAAAAAEAAAAAAAAAAQAAAQAAAAABAAAFAAAA\n",
       "AAEAAAIAAAAAAQAAAAAAAAABAAABAAAAAAEAAAUAAAAAAQAAAgAAAAABAAAAAAAAAAEAAAEAAAAA\n",
       "AQAABQAAAAABAAACAAAAAAEAAAAAAAAAAQAAAQAAAAABAAAFAAAAAAEAAAIAAAAAAQAAAAAAAAAB\n",
       "AAABAAAAAAEAAAUAAAAAAQAAAgAAAAABAAAAAAAAAAEAAAEAAAAAAQAABQAAAAABAAACAAAAAAEA\n",
       "AAAAAAAAAQAAAQAAAAABAAAFAAAAAAEAAAIAAAAAAQAAAAAAAAABAAABAAAAAAEAAAUAAAAAAQAA\n",
       "AgAAAAABAAAAAAAAAAEAAAEAAAAAAQAABQAAAAABAAACAAAAAAEAAAAAAAAAAQAAAQAAAAABAAAF\n",
       "AAAAAAEAAAIAAAAAAQAAAAAAAAABAAABAAAAAAEAAAUAAAAAAQAAAgAAAAABAAAAAAAAAAEAAAEA\n",
       "AAAAAQAABQAAAAABAAACAAAAAAEAAAAAAAAAAQAAAQAAAAABAAAFAAAAAAEAAAIAAAAAAQAAAAAA\n",
       "AAABAAABAAAAAAEAAAUAAAAAAQAAAgAAAAABAAAAAAAAAAEAAAEAAAAAAgAAAgAAAAABAAAFAAAA\n",
       "AAEAAAIAAAAAAQAAAAAAAAABAAABAAAAAAEAAAUAAAAAAQAAAgAAAAABAAAAAAAAAAEAAAEAAAAA\n",
       "AQAABQAAAAABAAACAAAAAAEAAAAAAAAAAQAAAQAAAAABAAAFAAAAAAEAAAIAAAAAAQAAAAAAAAAB\n",
       "AAABAAAAAAEAAAUAAAAAAQAAAgAAAAABAAAAAAAAAAEAAAEAAAAAAQAAAwAAAAABAAABAAAAAAEA\n",
       "AAUAAAAAAQAAAgAAAAABAAAAAAAAAAEAAAEAAAAAAQAABQAAAAABAAACAAAAAAEAAAAAAAAAAQAA\n",
       "AQAAAAABAAAFAAAAAAEAAAIAAAAAAQAAAAAAAAABAAABAAAAAAEAAAMAAAAAAQAAAQAAAAABAAAF\n",
       "AAAAAAEAAAIAAAAAAQAAAAAAAAABAAABAAAAAAEAAAUAAAAAAQAAAgAAAAABAAAAAAAAAAEAAAEA\n",
       "AAAAAQAABQAAAAABAAACAAAAAAEAAAAAAAAAAQAAAQAAAAABAAAFAAAAAAEAAAIAAAAAAQAAAAAA\n",
       "AAABAAABAAAAAAEAAAUAAAAAAQAAAgAAAAABAAAAAAAAAAEAAAEAAAAAAQAABQAAAAABAAACAAAA\n",
       "AAEAAAAAAAAAAQAAAQAAAAABAAAFAAAAAAEAAAIAAAAAAQAAAAAAAAABAAABAAAAAAEAAAUAAAAA\n",
       "AQAAAgAAAAABAAAAAAAAAAEAAAEAAAAAAQAABQAAAAABAAACAAAAAAEAAAAAAAAAAQAAAQAAAAAB\n",
       "AAAFAAAAAAEAAAIAAAAAAQAAAAAAAAABAAABAAAAAAEAAAUAAAAAAQAAAgAAAAABAAAAAAAAAAEA\n",
       "AAEAAAAAAQAAAgAAAAABAAAFAAAAAAEAAAIAAAAAAQAAAAAAAAABAAABAAAAAAEAAAUAAAAAAQAA\n",
       "AgAAAAABAAAAAAAAAAEAAAEAAAAAAQAABAAAAAABAAACAAAAAAEAAAAAAAAAAQAABQAAAAABAAAC\n",
       "AAAAAAEAAAAAAAAAAQAAAQAAAAABAAAFAAAAAAEAAAIAAAAAAQAAAAAAAAABAAABAAAAAAEAAAUA\n",
       "AAAAAQAAAgAAAAABAAAAAAAAAAEAAAEAAAAAAQAABQAAAAABAAACAAAAAAEAAAAAAAAAAQAAAQAA\n",
       "AAABAAAFAAAAAAEAAAIAAAAAAQAAAAAAAAABAAABAAAAAAEAAAUAAAAAAQAAAgAAAAABAAAAAAAA\n",
       "AAEAAAEAAAAAAQAABQAAAAABAAACAAAAAAEAAAAAAAAAAQAAAQAAAAABAAAFAAAAAAEAAAIAAAAA\n",
       "AQAAAAAAAAABAAABAAAAAAEAAAUAAAAAAQAAAgAAAAABAAAAAAAAAAEAAAEAAAAAAQAAAgAAAAAB\n",
       "AAAFAAAAAAEAAAIAAAAAAQAAAAAAAAABAAABAAAAAAEAAAUAAAAAAQAAAgAAAAABAAAAAAAAAAEA\n",
       "AAEAAAAAAQAABQAAAAABAAACAAAAAAEAAAAAAAAAAQAAAQAAAAABAAACAAAAAAEAAAUAAAAAAQAA\n",
       "AgAAAAABAAAAAAAAAAEAAAEAAAAAAQAABQAAAAABAAACAAAAAAEAAAAAAAAAAQAAAQAAAAABAAAF\n",
       "AAAAAAEAAAIAAAAAAQAAAAAAAAABAAABAAAAAAEAAAUAAAAAAQAAAgAAAAABAAAAAAAAAAEAAAEA\n",
       "AAAAAQAABQAAAAABAAACAAAAAAEAAAAAAAAAAQAAAQAAAAABAAAFAAAAAAEAAAIAAAAAAQAAAAAA\n",
       "AAABAAABAAAAAAEAAAUAAAAAAQAAAgAAAAABAAAAAAAAAAEAAAEAAAAAAQAABQAAAAABAAACAAAA\n",
       "AAEAAAAAAAAAAQAAAQAAAAABAAAFAAAAAAEAAAIAAAAAAQAAAAAAAAABAAABAAAAAAEAAAUAAAAA\n",
       "AQAAAgAAAAABAAAAAAAAAAEAAAEAAAAAAQAABQAAAAABAAACAAAAAAEAAAAAAAAAAQAAAQAAAAAB\n",
       "AAAFAAAAAAEAAAIAAAAAAQAAAAAAAAABAAABAAAAAAEAAAUAAAAAAQAAAgAAAAABAAAAAAAAAAEA\n",
       "AAEAAAAAAQAABQAAAAABAAACAAAAAAEAAAAAAAAAAQAAAQAAAAABAAAFAAAAAAEAAAIAAAAAAQAA\n",
       "AAAAAAABAAABAAAAAAEAAAUAAAAAAQAAAgAAAAABAAAAAAAAAAEAAAEAAAAAAQAABQAAAAABAAAC\n",
       "AAAAAAEAAAAAAAAAAQAAAQAAAAABAAAFAAAAAAEAAAIAAAAAAQAAAAAAAAABAAABAAAAAAEAAAMA\n",
       "AAAAAQAAAQAAAAABAAACAAAAAAEAAAUAAAAAAQAAAgAAAAABAAAAAAAAAAEAAAEAAAAAAQAABQAA\n",
       "AAABAAACAAAAAAEAAAAAAAAAAQAAAQAAAAABAAAFAAAAAAEAAAIAAAAAAQAAAAAAAAABAAABAAAA\n",
       "AAEAAAUAAAAAAQAAAgAAAAABAAAAAAAAAAEAAAEAAAAAAQAABQAAAAABAAACAAAAAAEAAAAAAAAA\n",
       "AQAAAQAAAAABAAAFAAAAAAEAAAIAAAAAAQAAAAAAAAABAAABAAAAAAEAAAUAAAAAAQAAAgAAAAAB\n",
       "AAAAAAAAAAEAAAEAAAAAAQAABQAAAAABAAACAAAAAAEAAAAAAAAAAQAAAQAAAAABAAACAAAAAAEA\n",
       "AAUAAAAAAQAAAgAAAAABAAAAAAAAAAEAAAEAAAAAAQAABQAAAAABAAACAAAAAAEAAAAAAAAAAQAA\n",
       "AQAAAAABAAAFAAAAAAEAAAIAAAAAAQAAAAAAAAABAAABAAAAAAEAAAUAAAAAAQAAAgAAAAABAAAA\n",
       "AAAAAAEAAAEAAAAAAQAABQAAAAABAAACAAAAAAEAAAAAAAAAAQAAAQAAAAABAAAFAAAAAAEAAAIA\n",
       "AAAAAQAAAAAAAAABAAABAAAAAAEAAAUAAAAAAQAAAgAAAAABAAAAAAAAAAEAAAEAAAAAAQAAAgAA\n",
       "AAABAAAFAAAAAAEAAAIAAAAAAQAAAAAAAAABAAABAAAAAAEAAAUAAAAAAQAAAgAAAAABAAAAAAAA\n",
       "AAEAAAEAAAAAAQAABAAAAAABAAACAAAAAAEAAAAAAAAAAQAABQAAAAABAAACAAAAAAEAAAAAAAAA\n",
       "AQAAAQAAAAABAAACAAAAAAEAAAUAAAAAAQAAAgAAAAABAAAAAAAAAAEAAAEAAAAAAQAABQAAAAAB\n",
       "AAACAAAAAAEAAAAAAAAAAQAAAQAAAAABAAAFAAAAAAEAAAIAAAAAAQAAAAAAAAABAAABAAAAAAEA\n",
       "AAUAAAAAAQAAAgAAAAABAAAAAAAAAAEAAAEAAAAAAQAABQAAAAABAAACAAAAAAEAAAAAAAAAAQAA\n",
       "AQAAAAABAAAFAAAAAAEAAAIAAAAAAQAAAAAAAAABAAABAAAAAAEAAAUAAAAAAQAAAgAAAAABAAAA\n",
       "AAAAAAEAAAEAAAAAAQAABQAAAAABAAACAAAAAAEAAAAAAAAAAQAAAQAAAAABAAAFAAAAAAEAAAIA\n",
       "AAAAAQAAAAAAAAABAAABAAAAAAEAAAUAAAAAAQAAAgAAAAABAAAAAAAAAAEAAAEAAAAAAQAAAgAA\n",
       "AAABAAAFAAAAAAEAAAIAAAAAAQAAAAAAAAABAAABAAAAAAEAAAUAAAAAAQAAAgAAAAABAAAAAAAA\n",
       "AAEAAAEAAAAAAQAABQAAAAABAAACAAAAAAEAAAAAAAAAAQAAAQAAAAABAAAFAAAAAAEAAAIAAAAA\n",
       "AQAAAAAAAAABAAABAAAAAAEAAAUAAAAAAQAAAgAAAAABAAAAAAAAAAEAAAEAAAAAAQAABQAAAAAB\n",
       "AAACAAAAAAEAAAAAAAAAAQAAAQAAAAABAAAFAAAAAAEAAAIAAAAAAQAAAAAAAAABAAABAAAAAAEA\n",
       "AAUAAAAAAQAAAgAAAAABAAAAAAAAAAEAAAEAAAAAAQAABQAAAAABAAACAAAAAAEAAAAAAAAAAQAA\n",
       "AQAAAAABAAAFAAAAAAEAAAIAAAAAAQAAAAAAAAABAAABAAAAAAEAAAMAAAAAAQAAAQAAAAABAAAF\n",
       "AAAAAAEAAAIAAAAAAQAAAAAAAAABAAABAAAAAAEAAAUAAAAAAQAAAgAAAAABAAAAAAAAAAEAAAEA\n",
       "AAAAAQAABQAAAAABAAACAAAAAAEAAAAAAAAAAQAAAQAAAAABAAAFAAAAAAEAAAIAAAAAAQAAAAAA\n",
       "AAABAAABAAAAAAEAAAUAAAAAAQAAAgAAAAABAAAAAAAAAAEAAAEAAAAAAQAABQAAAAABAAACAAAA\n",
       "AAEAAAAAAAAAAQAAAQAAAAABAAAFAAAAAAEAAAIAAAAAAQAAAAAAAAABAAABAAAAAAEAAAUAAAAA\n",
       "AQAAAgAAAAABAAAAAAAAAAEAAAEAAAAAAQAABQAAAAABAAACAAAAAAEAAAAAAAAAAQAAAQAAAAAB\n",
       "AAAFAAAAAAEAAAIAAAAAAQAAAAAAAAABAAABAAAAAAEAAAUAAAAAAQAAAgAAAAABAAAAAAAAAAEA\n",
       "AAEAAAAAAQAABQAAAAABAAACAAAAAAEAAAAAAAAAAQAAAQAAAAABAAAFAAAAAAEAAAIAAAAAAQAA\n",
       "AAAAAAABAAABAAAAAAEAAAUAAAAAAQAAAgAAAAABAAAAAAAAAAEAAAEAAAAAAQAABQAAAAABAAAC\n",
       "AAAAAAEAAAAAAAAAAQAAAQAAAAABAAAFAAAAAAEAAAIAAAAAAQAAAAAAAAABAAABAAAAAAEAAAUA\n",
       "AAAAAQAAAgAAAAABAAAAAAAAAAEAAAEAAAAAAQAABQAAAAABAAACAAAAAAEAAAAAAAAAAQAAAQAA\n",
       "AAABAAAFAAAAAAEAAAIAAAAAAQAAAAAAAAABAAABAAAAAAEAAAQAAAAAAQAAAgAAAAABAAAAAAAA\n",
       "AAEAAAUAAAAAAQAAAgAAAAABAAAAAAAAAAEAAAEAAAAAAQAAAgAAAAABAAAFAAAAAAEAAAIAAAAA\n",
       "AQAAAAAAAAABAAABAAAAAAEAAAUAAAAAAQAAAgAAAAABAAAAAAAAAAEAAAEAAAAAAQAABAAAAAAB\n",
       "AAACAAAAAAEAAAAAAAAAAQAABQAAAAABAAACAAAAAAEAAAAAAAAAAQAAAQAAAAABAAAFAAAAAAEA\n",
       "AAIAAAAAAQAAAAAAAAABAAABAAAAAAEAAAUAAAAAAQAAAgAAAAABAAAAAAAAAAEAAAEAAAAAAQAA\n",
       "BQAAAAABAAACAAAAAAEAAAAAAAAAAQAAAQAAAAABAAAFAAAAAAEAAAIAAAAAAQAAAAAAAAABAAAB\n",
       "AAAAAAEAAAUAAAAAAQAAAgAAAAABAAAAAAAAAAEAAAEAAAAAAQAAAwAAAAABAAABAAAAABxzdHNj\n",
       "AAAAAAAAAAEAAAABAAAD6AAAAAEAAA+0c3RzegAAAAAAAAAAAAAD6AAADr4AAAFqAAAATAAAAD4A\n",
       "AAAvAAAAZwAAADMAAAAkAAAAGQAAAEYAAAAjAAAAGwAAABgAAAChAAAALQAAABcAAAAyAAAAlgAA\n",
       "ADMAAAA8AAAALQAAAFIAAAA6AAAAHgAAACIAAABPAAAAHwAAABQAAAAsAAAAWgAAAB0AAAAWAAAA\n",
       "HwAAAGAAAAApAAAAJQAAACEAAAA8AAAAJwAAAB4AAAAVAAAAVAAAACkAAAAgAAAAFQAAAEQAAAAr\n",
       "AAAAGgAAABoAAABSAAAAHQAAABQAAAAXAAAAMQAAACEAAAAvAAAAKAAAAFAAAAAoAAAAIgAAACUA\n",
       "AABdAAAAHgAAAB4AAAAfAAAAbwAAADEAAAAVAAAAJgAAAK4AAABPAAAAGQAAACkAAACbAAAAHgAA\n",
       "ABgAAAAZAAAAoQAAAC0AAAAmAAAAIAAAAHMAAAAqAAAAGAAAABwAAACSAAAAKQAAACUAAAAlAAAA\n",
       "LQAAAC8AAAAeAAAAFgAAAKcAAABIAAAAFQAAADEAAACxAAAAQQAAABkAAAAzAAAAmwAAADUAAAAY\n",
       "AAAAJgAAADIAAAB4AAAAJwAAACQAAAAuAAAAiwAAADYAAAAXAAAAHwAAAGQAAAAcAAAAHwAAACUA\n",
       "AACxAAAATwAAABcAAAAzAAAAtAAAAFgAAAAzAAAAFQAAAJIAAAAvAAAAGAAAABcAAAB/AAAAIgAA\n",
       "ABMAAAAVAAAAjQAAAD4AAAATAAAAEwAAAKYAAABEAAAAMQAAACMAAACqAAAAKgAAABMAAAATAAAA\n",
       "PgAAAKEAAAAhAAAAFQAAABMAAACpAAAAbwAAAB8AAAAZAAAAFQAAAL4AAAArAAAAIgAAADcAAACW\n",
       "AAAAMgAAABYAAAAlAAAApAAAAEAAAAAgAAAAIgAAALQAAABSAAAAGAAAAC8AAADNAAAAYQAAAC4A\n",
       "AABHAAAA8AAAAFkAAABKAAAALQAAAIAAAAAcAAAAFgAAAB8AAAA3AAAAGwAAABYAAAAWAAAAeAAA\n",
       "ACUAAAAcAAAAGgAAAIUAAAApAAAAGwAAACAAAAC8AAAAUwAAAC0AAAAlAAAASQAAACUAAAAZAAAA\n",
       "MQAAAEMAAAAfAAAAFAAAABoAAACQAAAANwAAAB8AAAATAAAApQAAADcAAAAoAAAAJwAAAJwAAAAl\n",
       "AAAAFQAAABcAAABtAAAAjgAAAC0AAAAVAAAAFwAAAHMAAAAlAAAAHgAAACAAAAB8AAAAHAAAAGIA\n",
       "AAAaAAAAGwAAABQAAACJAAAAMAAAABMAAAAWAAAAuAAAAEkAAAAjAAAALgAAALQAAAAxAAAAKAAA\n",
       "ABsAAAAtAAAAPgAAABkAAA3iAAAA3gAAADwAAAA/AAAAGwAAADwAAAAyAAAAJQAAABkAAAA3AAAA\n",
       "HgAAACMAAAAaAAAAgwAAACUAAAAdAAAAGgAAAKwAAABgAAAAJwAAADkAAAB3AAAAIQAAACYAAAAT\n",
       "AAAAKgAAABUAAAAaAAAAEAAAAKgAAAAwAAAALgAAAA8AAABcAAAAIwAAABAAAAAlAAAApAAAAEMA\n",
       "AAAiAAAAJAAAAIAAAAA2AAAADwAAACgAAACVAAAAPgAAABUAAAAdAAAAlwAAABwAAAAzAAAAIAAA\n",
       "AF8AAAAiAAAADwAAACAAAACCAAAAHgAAABkAAAAPAAAArwAAADcAAAARAAAAJAAAAKcAAAAyAAAA\n",
       "DwAAABsAAABvAAAAJAAAABUAAAAaAAAAjAAAACUAAAAfAAAAKQAAAIoAAAA2AAAAHQAAABsAAACw\n",
       "AAAAVAAAACEAAABCAAAAjQAAAEMAAAAdAAAAIAAAALMAAABAAAAAJQAAACoAAACeAAAAMAAAABgA\n",
       "AAAaAAAAowAAACoAAAAkAAAAFwAAAIQAAAATAAAAFQAAACsAAAA8AAAAGgAAAB4AAAASAAAATAAA\n",
       "ABoAAACZAAAAiQAAABEAAAAoAAAAwQAAADUAAAAPAAAAEQAAAJ0AAAA5AAAAHwAAABAAAABuAAAA\n",
       "NwAAACQAAAAPAAAAsQAAAE4AAAAhAAAALQAAANMAAABbAAAASwAAADMAAAB8AAAAWAAAACIAAAAh\n",
       "AAAAlAAAADgAAAA4AAAAEgAAAJoAAAApAAAAEAAAACQAAADKAAAASQAAAC4AAAAPAAAAgAAAAD4A\n",
       "AAAbAAAADwAAAJAAAAA1AAAAGwAAABcAAACXAAAAKgAAABgAAAASAAAAtAAAACkAAAAXAAAAGgAA\n",
       "AH8AAACQAAAAIgAAAFYAAABRAAAAmQAAADYAAAAhAAAAkgAAACAAAAChAAAALAAAABAAAAAfAAAA\n",
       "mgAAAEUAAAAsAAAAJQAAANEAAABoAAAAPgAAAEMAAAD0AAAATQAAAEIAAAAhAAAAqwAAAEQAAAAP\n",
       "AAAAFwAAAFAAAAAiAAAAFgAAACoAAADkAAAATAAAACoAAAA5AAAAWQAAACMAAAAZAAAAFwAAADcA\n",
       "AAA7AAAAHAAAAA8AAAAwAAAAIAAAABAAAAAtAAAAlQAAADoAAAAPAAAAHwAAAJMAAAAuAAAAKQAA\n",
       "AB0AAADFAAAATgAAACcAAAARAAAAWAAAABMAAAAhAAAAIAAAAD8AAAAVAAAAEwAAABAAAACrAAAA\n",
       "KwAAAA8AAAAaAAAATwAAACYAAAAYAAAAJQAAAIMAAAAkAAAAEwAAAB8AAAAuAAANkQAAAW4AAABs\n",
       "AAAAQAAAAFAAAADRAAAAbQAAADIAAAAvAAAAiQAAAEMAAAARAAAAHwAAAI0AAABGAAAALwAAACcA\n",
       "AACVAAAAMQAAACoAAAASAAAAggAAABwAAACjAAAAJQAAAJEAAAAVAAAAfAAAACYAAAAaAAAAJgAA\n",
       "AIQAAACIAAAAHwAAAC8AAACTAAAAJwAAAJMAAABBAAAAKQAAACMAAACyAAAAWAAAAB4AAABEAAAA\n",
       "yAAAAFEAAABPAAAAJAAAAK4AAABQAAAAFQAAAEQAAACxAAAANAAAACgAAABQAAAAxAAAAGwAAAA/\n",
       "AAAAHAAAANIAAABrAAAAPgAAADYAAACXAAAASwAAABUAAAAXAAAAhQAAAEEAAAAjAAAAJgAAALsA\n",
       "AABJAAAAFQAAADAAAACpAAAATAAAABsAAAAcAAAA4wAAAGIAAABgAAAAEwAAAE4AAACLAAAAYQAA\n",
       "AGkAAAAnAAAAswAAACgAAAAtAAAAtQAAADQAAAAiAAAADwAAAHEAAAAlAAAAIQAAABoAAAB7AAAA\n",
       "HgAAABkAAAAaAAAAswAAAFMAAAApAAAAPAAAAKoAAAA/AAAAIQAAAB4AAADBAAAAVAAAACgAAAAr\n",
       "AAAAiQAAADYAAAAYAAAAEgAAAF4AAAAqAAAAJgAAABQAAACaAAAAPAAAACgAAAAeAAAAQAAAAGUA\n",
       "AAAoAAAAIAAAAB0AAAC9AAAASwAAACMAAAAnAAAAbQAAAC0AAAASAAAAEwAAAJAAAACTAAAARAAA\n",
       "ABwAAAAdAAAATAAAACAAAAAQAAAAGwAAAL0AAAA8AAAAGgAAABcAAAA+AAAAKQAAABkAAAAtAAAA\n",
       "yAAAAEwAAAArAAAAGQAAADIAAAAiAAAAFgAAABQAAAB9AAAAKwAAABsAAAAuAAAAuwAAAFIAAAAt\n",
       "AAAAFAAAALMAAABFAAAAGAAAAC0AAAB2AAAAKwAAAB0AAAAvAAAAmgAAAEAAAAAcAAAANAAAAMwA\n",
       "AABSAAAAKAAAAB4AAACxAAAAFgAAABMAAAAfAAAAfQAAABYAAAAQAAAAEAAAAIUAAAAsAAAADwAA\n",
       "ABcAAACOAAAANgAAABQAAAAkAAAAjgAAACgAAAAaAAAAEAAAAJ0AAAAaAAAAHQAAABUAAABJAAAA\n",
       "EQAAADUAAAAyAAAALgAAABMAAAAaAAAAmAAAABkAAAAjAAAAFwAAAFEAAABPAAAAEgAAAB4AAABz\n",
       "AAAAKAAAABwAAAAaAAAAegAAACQAAAAqAAAAEAAAAIUAAAA+AAAAJwAAACIAAACAAAAATAAAACIA\n",
       "AAASAAAAtQAAAFUAAAAsAAAAPgAADXQAAAGYAAAAZgAAAFkAAABMAAAAaQAAAFYAAAAzAAAANwAA\n",
       "APIAAABvAAAAWAAAADAAAAB+AAAAPwAAACcAAAAXAAAAkAAAAEYAAAAXAAAAKgAAAKYAAABFAAAA\n",
       "IwAAACIAAACvAAAAOwAAABcAAAAVAAAAKAAAAHcAAAAcAAAAFwAAADAAAACPAAAAhQAAADwAAAAa\n",
       "AAAAfAAAAC8AAAAsAAAAqgAAADkAAAAhAAAAHQAAAFsAAAChAAAAUAAAACgAAABJAAAA0gAAAGUA\n",
       "AABEAAAARwAAAHwAAAAbAAAAEgAAABMAAACwAAAAPAAAABUAAAAqAAAAYgAAACAAAAAUAAAAKgAA\n",
       "AJQAAAAtAAAAIwAAABUAAACVAAAAJAAAABsAAAATAAAALwAAADEAAAAWAAAAEwAAAHsAAAA9AAAA\n",
       "LAAAABUAAACTAAAAKgAAABwAAAAXAAAAXAAAAKAAAABJAAAAJgAAACIAAAB/AAAAGQAAACAAAAA2\n",
       "AAAATQAAADcAAAAYAAAAJQAAAJ0AAAAuAAAAOgAAAB8AAADEAAAAYgAAADEAAAAyAAAAnwAAADoA\n",
       "AAAVAAAAFgAAAHgAAAAbAAAAHAAAAB4AAACSAAAARAAAABQAAAArAAAAigAAACwAAAAaAAAAGwAA\n",
       "AJgAAAAhAAAAFwAAABgAAABDAAAAFQAAAEkAAAAiAAAAFwAAACIAAAAkAAAAJwAAABIAAAAkAAAA\n",
       "fAAAACMAAAAcAAAAIQAAAIcAAAA6AAAAFAAAACMAAAB1AAAAOgAAABIAAAAiAAAAiwAAACgAAAAX\n",
       "AAAAJAAAAL0AAABKAAAAHgAAACAAAACfAAAANQAAABkAAAAUAAAAqQAAADIAAAAWAAAAHwAAAIsA\n",
       "AAAmAAAAHQAAACUAAABGAAAAJwAAAB0AAAAUAAAANgAAABkAAAAuAAAAHAAAAJMAAAAlAAAAIQAA\n",
       "ABUAAABBAAAAGAAAACQAAAAWAAAAagAAACAAAAASAAAAEwAAANUAAABXAAAANgAAAD0AAACoAAAA\n",
       "TwAAADMAAAATAAAAoQAAAE4AAAAcAAAAMQAAAJwAAABGAAAAKAAAACUAAADqAAAAlAAAAD0AAACW\n",
       "AAAAPQAAAHcAAABDAAAAkwAAAHQAAABGAAAAOAAAAE0AAACaAAAALgAAADwAAAApAAAAsQAAABwA\n",
       "AAA/AAAArgAAAB8AAAAfAAAAIQAAAI0AAABDAAAAMQAAABQAAAB3AAAAMAAAABIAAAAZAAAAlQAA\n",
       "ADkAAAAeAAAAJAAAAI8AAABYAAAANwAAAC0AAABvAAAARwAAABQAAAAjAAAAQgAAABgAAAAUc3Rj\n",
       "bwAAAAAAAAABAAAALAAAAGJ1ZHRhAAAAWm1ldGEAAAAAAAAAIWhkbHIAAAAAAAAAAG1kaXJhcHBs\n",
       "AAAAAAAAAAAAAAAALWlsc3QAAAAlqXRvbwAAAB1kYXRhAAAAAQAAAABMYXZmNTYuNDAuMTAx\n",
       "\">\n",
       "  Your browser does not support the video tag.\n",
       "</video>"
      ],
      "text/plain": [
       "<IPython.core.display.HTML object>"
      ]
     },
     "execution_count": 29,
     "metadata": {},
     "output_type": "execute_result"
    }
   ],
   "source": [
    "HTML(vid)"
   ]
  },
  {
   "cell_type": "code",
   "execution_count": null,
   "metadata": {},
   "outputs": [],
   "source": []
  }
 ],
 "metadata": {
  "kernelspec": {
   "display_name": "Environment (conda_pytorch_p36)",
   "language": "python",
   "name": "conda_pytorch_p36"
  },
  "language_info": {
   "codemirror_mode": {
    "name": "ipython",
    "version": 3
   },
   "file_extension": ".py",
   "mimetype": "text/x-python",
   "name": "python",
   "nbconvert_exporter": "python",
   "pygments_lexer": "ipython3",
   "version": "3.6.7"
  },
  "latex_envs": {
   "LaTeX_envs_menu_present": true,
   "autocomplete": true,
   "bibliofile": "biblio.bib",
   "cite_by": "apalike",
   "current_citInitial": 1,
   "eqLabelWithNumbers": true,
   "eqNumInitial": 1,
   "hotkeys": {
    "equation": "Ctrl-E",
    "itemize": "Ctrl-I"
   },
   "labels_anchors": false,
   "latex_user_defs": false,
   "report_style_numbering": false,
   "user_envs_cfg": false
  }
 },
 "nbformat": 4,
 "nbformat_minor": 2
}
