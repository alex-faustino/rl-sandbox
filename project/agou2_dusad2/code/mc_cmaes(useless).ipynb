{
 "cells": [
  {
   "cell_type": "code",
   "execution_count": 1,
   "metadata": {
    "collapsed": true
   },
   "outputs": [],
   "source": [
    "#%%\n",
    "#IPython\n",
    "from IPython import display\n",
    "import matplotlib\n",
    "import matplotlib.pyplot as plt\n",
    "%matplotlib inline\n",
    "\n",
    "from tqdm import tqdm\n",
    "\n",
    "# numpy\n",
    "import numpy as np\n",
    "from PIL import Image\n",
    "\n",
    "# gym\n",
    "import gym\n",
    "\n",
    "# torch stuff\n",
    "import torch\n",
    "import torch.nn as nn\n",
    "from torchvision.transforms import Compose, ToTensor, ToPILImage\n",
    "from torch.utils.data import DataLoader, WeightedRandomSampler, random_split\n",
    "from torchsummary import summary\n",
    "import torch.nn.functional as F\n",
    "\n",
    "# our stuff\n",
    "import importlib\n",
    "from model.mdnrnn import MDNRNN\n",
    "from model.vaelin import VAELin\n",
    "\n",
    "from constants import *\n",
    "\n",
    "# cma\n",
    "from cma import CMAEvolutionStrategy as CMAES"
   ]
  },
  {
   "cell_type": "code",
   "execution_count": 2,
   "metadata": {
    "collapsed": true
   },
   "outputs": [],
   "source": [
    "device = torch.device(\"cuda:0\" if torch.cuda.is_available() else \"cpu\")"
   ]
  },
  {
   "cell_type": "code",
   "execution_count": 3,
   "metadata": {},
   "outputs": [
    {
     "name": "stdout",
     "output_type": "stream",
     "text": [
      "\u001b[33mWARN: gym.spaces.Box autodetected dtype as <class 'numpy.float32'>. Please provide explicit dtype.\u001b[0m\n",
      "\u001b[33mWARN: gym.spaces.Box autodetected dtype as <class 'numpy.float32'>. Please provide explicit dtype.\u001b[0m\n"
     ]
    }
   ],
   "source": [
    "env = gym.make(\"MountainCarContinuous-v0\")"
   ]
  },
  {
   "cell_type": "code",
   "execution_count": null,
   "metadata": {
    "collapsed": true
   },
   "outputs": [],
   "source": [
    "# load vae and rnn\n",
    "vae = VAELin(z_size=LATENT_SIZE, device=device).to(device)\n",
    "vae.load_state_dict(torch.load(VAE_PATH, map_location=device)['model_state_dict'])\n",
    "rnn = MDNRNN(\n",
    "    sequence_length=500,\n",
    "    hidden_space_dim=32,\n",
    "    action_space_dim=1,\n",
    "    latent_space_dim=LATENT_SIZE,\n",
    "    num_mixtures=10,\n",
    "    rnn_type=\"lstm\",\n",
    "    n_layers=5\n",
    ")\n",
    "rnn.load_state_dict(torch.load(RNN_PATH, map_location=device)['model_state_dict'])\n",
    "\n",
    "#%%"
   ]
  },
  {
   "cell_type": "code",
   "execution_count": null,
   "metadata": {
    "collapsed": true
   },
   "outputs": [],
   "source": []
  },
  {
   "cell_type": "code",
   "execution_count": null,
   "metadata": {
    "collapsed": true
   },
   "outputs": [],
   "source": [
    "def to_latent(vae, frame):\n",
    "    frame = frame.unsqueeze(0)\n",
    "    latent_seq = vae(frame)[3].detach()\n",
    "    return latent_seq.squeeze()\n",
    "\n",
    "def get_action(latent, solution, hidden=None):\n",
    "    w= solution[:-1]\n",
    "    b = solution[-1]\n",
    "\n",
    "    latent = latent.cpu().numpy()\n",
    "    if hidden is None:\n",
    "        hidden_size = len(solution) - len(latent) - 1\n",
    "        hidden = np.zeros(hidden_size)\n",
    "    else:\n",
    "        hidden = torch.cat([hidden[0], hidden[1]], -1).float().detach().squeeze(1).view(-1).cpu().numpy()\n",
    "\n",
    "    stacked_features = np.hstack([latent, hidden])\n",
    "    res = w @stacked_features  + b\n",
    "    return np.tanh(res)\n",
    "\n",
    "def get_loss(solution):\n",
    "    max_pos = -0.4\n",
    "\n",
    "    rewards = 0\n",
    "    for ep in range(10):\n",
    "        state = env.reset()\n",
    "        old_rnn_hidden = None\n",
    "        for step in range(NUM_STEPS):\n",
    "            im = env.render(mode='rgb_array')\n",
    "            im = Image.fromarray(im).resize((HEIGHT, WIDTH), Image.BILINEAR)\n",
    "            frame = ToTensor()(im)\n",
    "            latent = to_latent(vae, frame)\n",
    "            action = get_action(latent, solution, old_rnn_hidden)\n",
    "            _, _, _, _, rnn_hidden = rnn(latent.unsqueeze(0).unsqueeze(0), torch.tensor([[[action]]]).float(), old_rnn_hidden)\n",
    "            old_rnn_hidden = rnn_hidden\n",
    "            state, reward, done, _ = env.step([action])\n",
    "            if state[0] > max_pos:\n",
    "                max_pos = state[0]\n",
    "                reward += 10\n",
    "            rewards += reward\n",
    "            if done:\n",
    "                break\n",
    "    loss = -rewards\n",
    "    return loss"
   ]
  },
  {
   "cell_type": "code",
   "execution_count": 4,
   "metadata": {
    "collapsed": true
   },
   "outputs": [],
   "source": [
    "def to_latent(vae, frame):\n",
    "    frame = frame.unsqueeze(0)\n",
    "    latent_seq = vae(frame)[3].detach()\n",
    "    return latent_seq.squeeze()\n",
    "\n",
    "def get_action(state, solution):\n",
    "    w= solution[:-1]\n",
    "    b = solution[-1]\n",
    "    \n",
    "    res = w @state + b\n",
    "    return np.tanh(res)\n",
    "\n",
    "def get_loss(solution):\n",
    "    max_pos = -0.4\n",
    "\n",
    "    rewards = 0\n",
    "    for ep in range(10):\n",
    "        state = env.reset()\n",
    "        for step in range(NUM_STEPS):\n",
    "            action = get_action(state, solution)\n",
    "            state, reward, done, _ = env.step([action])\n",
    "            if state[0] > max_pos:\n",
    "                max_pos = state[0]\n",
    "                reward += 10\n",
    "            rewards += reward\n",
    "            if done:\n",
    "                break\n",
    "    loss = -rewards\n",
    "    return loss"
   ]
  },
  {
   "cell_type": "code",
   "execution_count": 13,
   "metadata": {},
   "outputs": [
    {
     "name": "stdout",
     "output_type": "stream",
     "text": [
      "\u001b[33mWARN: gym.spaces.Box autodetected dtype as <class 'numpy.float32'>. Please provide explicit dtype.\u001b[0m\n",
      "\u001b[33mWARN: gym.spaces.Box autodetected dtype as <class 'numpy.float32'>. Please provide explicit dtype.\u001b[0m\n",
      "(32_w,64)-aCMA-ES (mu_w=17.6,w_1=11%) in dimension 3 (seed=636534, Tue Dec 11 05:04:45 2018)\n",
      "Iterat #Fevals   function value  axis ratio  sigma  min&max std  t[m:s]\n",
      "    1     64 -1.223462597269289e+03 1.0e+00 1.50e+00  1e+00  2e+00 0:06.2\n",
      "    2    128 -1.591305553888262e+03 1.9e+00 2.11e+00  1e+00  3e+00 0:12.4\n",
      "    3    192 -2.297723572474240e+03 2.7e+00 2.65e+00  1e+00  3e+00 0:19.0\n",
      "    4    256 -2.142965347004530e+03 2.9e+00 3.22e+00  1e+00  3e+00 0:25.0\n",
      "    5    320 -2.115781790660407e+03 3.6e+00 3.85e+00  1e+00  3e+00 0:30.9\n",
      "    6    384 -2.144215879567569e+03 5.6e+00 3.82e+00  8e-01  3e+00 0:36.1\n",
      "    8    512 -2.533046148086903e+03 1.0e+01 3.63e+00  5e-01  2e+00 0:45.5\n",
      "   10    640 -2.560047129762479e+03 1.4e+01 3.44e+00  4e-01  2e+00 0:54.0\n",
      "   13    832 -2.456589167550750e+03 1.5e+01 3.27e+00  3e-01  1e+00 1:05.2\n",
      "   16   1024 -2.660216043915912e+03 1.3e+01 3.34e+00  3e-01  1e+00 1:17.2\n",
      "   19   1216 -2.634047227372947e+03 1.4e+01 2.92e+00  2e-01  7e-01 1:29.4\n",
      "   22   1408 -2.337896539946052e+03 1.9e+01 2.86e+00  1e-01  5e-01 1:42.1\n",
      "   26   1664 -2.915469013228076e+03 2.5e+01 3.75e+00  2e-01  8e-01 1:57.6\n",
      "   29   1856 -2.425210923870839e+03 2.1e+01 4.15e+00  2e-01  7e-01 2:10.9\n",
      "   33   2112 -2.878536844224563e+03 2.1e+01 2.86e+00  1e-01  3e-01 2:26.5\n",
      "   37   2368 -2.840447568421929e+03 2.1e+01 3.02e+00  1e-01  3e-01 2:41.6\n",
      "   42   2688 -2.814122521085748e+03 2.1e+01 3.31e+00  1e-01  2e-01 3:00.5\n",
      "   47   3008 -2.605469313142364e+03 1.4e+01 3.24e+00  8e-02  2e-01 3:19.3\n",
      "   52   3328 -2.899127658543729e+03 1.6e+01 3.46e+00  7e-02  2e-01 3:38.7\n",
      "   57   3648 -3.097953945022692e+03 1.7e+01 3.16e+00  6e-02  2e-01 3:58.1\n",
      "   63   4032 -2.732520369079452e+03 4.5e+01 3.03e+00  6e-02  2e-01 4:20.7\n",
      "   69   4416 -2.851688928926354e+03 1.1e+02 2.66e+00  4e-02  1e-01 4:43.0\n",
      "   75   4800 -2.648465728553055e+03 1.1e+02 3.08e+00  4e-02  1e-01 5:05.9\n",
      "   82   5248 -2.593594938335372e+03 3.6e+01 2.35e+00  2e-02  6e-02 5:32.5\n",
      "   89   5696 -2.346059220720191e+03 6.4e+01 1.92e+00  1e-02  4e-02 5:59.6\n",
      "   96   6144 -2.516300177394422e+03 7.5e+01 2.33e+00  2e-02  6e-02 6:26.6\n",
      "  100   6400 -2.850621740635409e+03 7.3e+01 2.16e+00  2e-02  6e-02 6:42.3\n"
     ]
    },
    {
     "ename": "KeyboardInterrupt",
     "evalue": "",
     "output_type": "error",
     "traceback": [
      "\u001b[0;31m---------------------------------------------------------------------------\u001b[0m",
      "\u001b[0;31mKeyboardInterrupt\u001b[0m                         Traceback (most recent call last)",
      "\u001b[0;32m<ipython-input-13-bf1be5a896fa>\u001b[0m in \u001b[0;36m<module>\u001b[0;34m()\u001b[0m\n\u001b[1;32m     10\u001b[0m \u001b[0mes\u001b[0m \u001b[0;34m=\u001b[0m \u001b[0mCMAES\u001b[0m\u001b[0;34m(\u001b[0m\u001b[0minit_params\u001b[0m\u001b[0;34m,\u001b[0m \u001b[0minit_sigma\u001b[0m\u001b[0;34m,\u001b[0m \u001b[0;34m{\u001b[0m\u001b[0;34m'popsize'\u001b[0m\u001b[0;34m:\u001b[0m\u001b[0mpopsize\u001b[0m\u001b[0;34m}\u001b[0m\u001b[0;34m)\u001b[0m\u001b[0;34m\u001b[0m\u001b[0m\n\u001b[1;32m     11\u001b[0m \u001b[0;31m#%%\u001b[0m\u001b[0;34m\u001b[0m\u001b[0;34m\u001b[0m\u001b[0m\n\u001b[0;32m---> 12\u001b[0;31m \u001b[0mes\u001b[0m\u001b[0;34m.\u001b[0m\u001b[0moptimize\u001b[0m\u001b[0;34m(\u001b[0m\u001b[0mget_loss\u001b[0m\u001b[0;34m)\u001b[0m\u001b[0;34m\u001b[0m\u001b[0m\n\u001b[0m\u001b[1;32m     13\u001b[0m \u001b[0menv\u001b[0m\u001b[0;34m.\u001b[0m\u001b[0mclose\u001b[0m\u001b[0;34m(\u001b[0m\u001b[0;34m)\u001b[0m\u001b[0;34m\u001b[0m\u001b[0m\n",
      "\u001b[0;32m/Library/Frameworks/Python.framework/Versions/3.6/lib/python3.6/site-packages/cma/interfaces.py\u001b[0m in \u001b[0;36moptimize\u001b[0;34m(self, objective_fct, maxfun, iterations, min_iterations, args, verb_disp, callback)\u001b[0m\n\u001b[1;32m    179\u001b[0m \u001b[0;34m\u001b[0m\u001b[0m\n\u001b[1;32m    180\u001b[0m             \u001b[0mX\u001b[0m \u001b[0;34m=\u001b[0m \u001b[0mself\u001b[0m\u001b[0;34m.\u001b[0m\u001b[0mask\u001b[0m\u001b[0;34m(\u001b[0m\u001b[0;34m)\u001b[0m  \u001b[0;31m# deliver candidate solutions\u001b[0m\u001b[0;34m\u001b[0m\u001b[0m\n\u001b[0;32m--> 181\u001b[0;31m             \u001b[0mfitvals\u001b[0m \u001b[0;34m=\u001b[0m \u001b[0;34m[\u001b[0m\u001b[0mobjective_fct\u001b[0m\u001b[0;34m(\u001b[0m\u001b[0mx\u001b[0m\u001b[0;34m,\u001b[0m \u001b[0;34m*\u001b[0m\u001b[0margs\u001b[0m\u001b[0;34m)\u001b[0m \u001b[0;32mfor\u001b[0m \u001b[0mx\u001b[0m \u001b[0;32min\u001b[0m \u001b[0mX\u001b[0m\u001b[0;34m]\u001b[0m\u001b[0;34m\u001b[0m\u001b[0m\n\u001b[0m\u001b[1;32m    182\u001b[0m             \u001b[0mcevals\u001b[0m \u001b[0;34m+=\u001b[0m \u001b[0mlen\u001b[0m\u001b[0;34m(\u001b[0m\u001b[0mfitvals\u001b[0m\u001b[0;34m)\u001b[0m\u001b[0;34m\u001b[0m\u001b[0m\n\u001b[1;32m    183\u001b[0m             \u001b[0mself\u001b[0m\u001b[0;34m.\u001b[0m\u001b[0mtell\u001b[0m\u001b[0;34m(\u001b[0m\u001b[0mX\u001b[0m\u001b[0;34m,\u001b[0m \u001b[0mfitvals\u001b[0m\u001b[0;34m)\u001b[0m  \u001b[0;31m# all the work is done here\u001b[0m\u001b[0;34m\u001b[0m\u001b[0m\n",
      "\u001b[0;32m/Library/Frameworks/Python.framework/Versions/3.6/lib/python3.6/site-packages/cma/interfaces.py\u001b[0m in \u001b[0;36m<listcomp>\u001b[0;34m(.0)\u001b[0m\n\u001b[1;32m    179\u001b[0m \u001b[0;34m\u001b[0m\u001b[0m\n\u001b[1;32m    180\u001b[0m             \u001b[0mX\u001b[0m \u001b[0;34m=\u001b[0m \u001b[0mself\u001b[0m\u001b[0;34m.\u001b[0m\u001b[0mask\u001b[0m\u001b[0;34m(\u001b[0m\u001b[0;34m)\u001b[0m  \u001b[0;31m# deliver candidate solutions\u001b[0m\u001b[0;34m\u001b[0m\u001b[0m\n\u001b[0;32m--> 181\u001b[0;31m             \u001b[0mfitvals\u001b[0m \u001b[0;34m=\u001b[0m \u001b[0;34m[\u001b[0m\u001b[0mobjective_fct\u001b[0m\u001b[0;34m(\u001b[0m\u001b[0mx\u001b[0m\u001b[0;34m,\u001b[0m \u001b[0;34m*\u001b[0m\u001b[0margs\u001b[0m\u001b[0;34m)\u001b[0m \u001b[0;32mfor\u001b[0m \u001b[0mx\u001b[0m \u001b[0;32min\u001b[0m \u001b[0mX\u001b[0m\u001b[0;34m]\u001b[0m\u001b[0;34m\u001b[0m\u001b[0m\n\u001b[0m\u001b[1;32m    182\u001b[0m             \u001b[0mcevals\u001b[0m \u001b[0;34m+=\u001b[0m \u001b[0mlen\u001b[0m\u001b[0;34m(\u001b[0m\u001b[0mfitvals\u001b[0m\u001b[0;34m)\u001b[0m\u001b[0;34m\u001b[0m\u001b[0m\n\u001b[1;32m    183\u001b[0m             \u001b[0mself\u001b[0m\u001b[0;34m.\u001b[0m\u001b[0mtell\u001b[0m\u001b[0;34m(\u001b[0m\u001b[0mX\u001b[0m\u001b[0;34m,\u001b[0m \u001b[0mfitvals\u001b[0m\u001b[0;34m)\u001b[0m  \u001b[0;31m# all the work is done here\u001b[0m\u001b[0;34m\u001b[0m\u001b[0m\n",
      "\u001b[0;32m<ipython-input-4-f9b187655564>\u001b[0m in \u001b[0;36mget_loss\u001b[0;34m(solution)\u001b[0m\n\u001b[1;32m     19\u001b[0m         \u001b[0;32mfor\u001b[0m \u001b[0mstep\u001b[0m \u001b[0;32min\u001b[0m \u001b[0mrange\u001b[0m\u001b[0;34m(\u001b[0m\u001b[0mNUM_STEPS\u001b[0m\u001b[0;34m)\u001b[0m\u001b[0;34m:\u001b[0m\u001b[0;34m\u001b[0m\u001b[0m\n\u001b[1;32m     20\u001b[0m             \u001b[0maction\u001b[0m \u001b[0;34m=\u001b[0m \u001b[0mget_action\u001b[0m\u001b[0;34m(\u001b[0m\u001b[0mstate\u001b[0m\u001b[0;34m,\u001b[0m \u001b[0msolution\u001b[0m\u001b[0;34m)\u001b[0m\u001b[0;34m\u001b[0m\u001b[0m\n\u001b[0;32m---> 21\u001b[0;31m             \u001b[0mstate\u001b[0m\u001b[0;34m,\u001b[0m \u001b[0mreward\u001b[0m\u001b[0;34m,\u001b[0m \u001b[0mdone\u001b[0m\u001b[0;34m,\u001b[0m \u001b[0m_\u001b[0m \u001b[0;34m=\u001b[0m \u001b[0menv\u001b[0m\u001b[0;34m.\u001b[0m\u001b[0mstep\u001b[0m\u001b[0;34m(\u001b[0m\u001b[0;34m[\u001b[0m\u001b[0maction\u001b[0m\u001b[0;34m]\u001b[0m\u001b[0;34m)\u001b[0m\u001b[0;34m\u001b[0m\u001b[0m\n\u001b[0m\u001b[1;32m     22\u001b[0m             \u001b[0;32mif\u001b[0m \u001b[0mstate\u001b[0m\u001b[0;34m[\u001b[0m\u001b[0;36m0\u001b[0m\u001b[0;34m]\u001b[0m \u001b[0;34m>\u001b[0m \u001b[0mmax_pos\u001b[0m\u001b[0;34m:\u001b[0m\u001b[0;34m\u001b[0m\u001b[0m\n\u001b[1;32m     23\u001b[0m                 \u001b[0mmax_pos\u001b[0m \u001b[0;34m=\u001b[0m \u001b[0mstate\u001b[0m\u001b[0;34m[\u001b[0m\u001b[0;36m0\u001b[0m\u001b[0;34m]\u001b[0m\u001b[0;34m\u001b[0m\u001b[0m\n",
      "\u001b[0;32m/Library/Frameworks/Python.framework/Versions/3.6/lib/python3.6/site-packages/gym/wrappers/time_limit.py\u001b[0m in \u001b[0;36mstep\u001b[0;34m(self, action)\u001b[0m\n\u001b[1;32m     29\u001b[0m     \u001b[0;32mdef\u001b[0m \u001b[0mstep\u001b[0m\u001b[0;34m(\u001b[0m\u001b[0mself\u001b[0m\u001b[0;34m,\u001b[0m \u001b[0maction\u001b[0m\u001b[0;34m)\u001b[0m\u001b[0;34m:\u001b[0m\u001b[0;34m\u001b[0m\u001b[0m\n\u001b[1;32m     30\u001b[0m         \u001b[0;32massert\u001b[0m \u001b[0mself\u001b[0m\u001b[0;34m.\u001b[0m\u001b[0m_episode_started_at\u001b[0m \u001b[0;32mis\u001b[0m \u001b[0;32mnot\u001b[0m \u001b[0;32mNone\u001b[0m\u001b[0;34m,\u001b[0m \u001b[0;34m\"Cannot call env.step() before calling reset()\"\u001b[0m\u001b[0;34m\u001b[0m\u001b[0m\n\u001b[0;32m---> 31\u001b[0;31m         \u001b[0mobservation\u001b[0m\u001b[0;34m,\u001b[0m \u001b[0mreward\u001b[0m\u001b[0;34m,\u001b[0m \u001b[0mdone\u001b[0m\u001b[0;34m,\u001b[0m \u001b[0minfo\u001b[0m \u001b[0;34m=\u001b[0m \u001b[0mself\u001b[0m\u001b[0;34m.\u001b[0m\u001b[0menv\u001b[0m\u001b[0;34m.\u001b[0m\u001b[0mstep\u001b[0m\u001b[0;34m(\u001b[0m\u001b[0maction\u001b[0m\u001b[0;34m)\u001b[0m\u001b[0;34m\u001b[0m\u001b[0m\n\u001b[0m\u001b[1;32m     32\u001b[0m         \u001b[0mself\u001b[0m\u001b[0;34m.\u001b[0m\u001b[0m_elapsed_steps\u001b[0m \u001b[0;34m+=\u001b[0m \u001b[0;36m1\u001b[0m\u001b[0;34m\u001b[0m\u001b[0m\n\u001b[1;32m     33\u001b[0m \u001b[0;34m\u001b[0m\u001b[0m\n",
      "\u001b[0;32m/Library/Frameworks/Python.framework/Versions/3.6/lib/python3.6/site-packages/gym/envs/classic_control/continuous_mountain_car.py\u001b[0m in \u001b[0;36mstep\u001b[0;34m(self, action)\u001b[0m\n\u001b[1;32m     70\u001b[0m         \u001b[0;32mif\u001b[0m \u001b[0mdone\u001b[0m\u001b[0;34m:\u001b[0m\u001b[0;34m\u001b[0m\u001b[0m\n\u001b[1;32m     71\u001b[0m             \u001b[0mreward\u001b[0m \u001b[0;34m=\u001b[0m \u001b[0;36m100.0\u001b[0m\u001b[0;34m\u001b[0m\u001b[0m\n\u001b[0;32m---> 72\u001b[0;31m         \u001b[0mreward\u001b[0m\u001b[0;34m-=\u001b[0m \u001b[0mmath\u001b[0m\u001b[0;34m.\u001b[0m\u001b[0mpow\u001b[0m\u001b[0;34m(\u001b[0m\u001b[0maction\u001b[0m\u001b[0;34m[\u001b[0m\u001b[0;36m0\u001b[0m\u001b[0;34m]\u001b[0m\u001b[0;34m,\u001b[0m\u001b[0;36m2\u001b[0m\u001b[0;34m)\u001b[0m\u001b[0;34m*\u001b[0m\u001b[0;36m0.1\u001b[0m\u001b[0;34m\u001b[0m\u001b[0m\n\u001b[0m\u001b[1;32m     73\u001b[0m \u001b[0;34m\u001b[0m\u001b[0m\n\u001b[1;32m     74\u001b[0m         \u001b[0mself\u001b[0m\u001b[0;34m.\u001b[0m\u001b[0mstate\u001b[0m \u001b[0;34m=\u001b[0m \u001b[0mnp\u001b[0m\u001b[0;34m.\u001b[0m\u001b[0marray\u001b[0m\u001b[0;34m(\u001b[0m\u001b[0;34m[\u001b[0m\u001b[0mposition\u001b[0m\u001b[0;34m,\u001b[0m \u001b[0mvelocity\u001b[0m\u001b[0;34m]\u001b[0m\u001b[0;34m)\u001b[0m\u001b[0;34m\u001b[0m\u001b[0m\n",
      "\u001b[0;31mKeyboardInterrupt\u001b[0m: "
     ]
    }
   ],
   "source": [
    "env = gym.make(\"MountainCarContinuous-v0\")\n",
    "\n",
    "\n",
    "param_size = LATENT_SIZE + 32*2*5 + 1\n",
    "\n",
    "param_size = 2 +1 \n",
    "init_params = param_size*[0]\n",
    "init_sigma = 1\n",
    "popsize = 64\n",
    "es = CMAES(init_params, init_sigma, {'popsize':popsize})\n",
    "#%%\n",
    "es.optimize(get_loss)\n",
    "env.close()"
   ]
  },
  {
   "cell_type": "code",
   "execution_count": 14,
   "metadata": {},
   "outputs": [],
   "source": [
    "w  = es.ask()[0][:2]"
   ]
  },
  {
   "cell_type": "code",
   "execution_count": 15,
   "metadata": {
    "collapsed": true
   },
   "outputs": [],
   "source": [
    "b =  es.ask()[0][-1]"
   ]
  },
  {
   "cell_type": "code",
   "execution_count": 21,
   "metadata": {},
   "outputs": [
    {
     "name": "stdout",
     "output_type": "stream",
     "text": [
      "\u001b[33mWARN: gym.spaces.Box autodetected dtype as <class 'numpy.float32'>. Please provide explicit dtype.\u001b[0m\n",
      "\u001b[33mWARN: gym.spaces.Box autodetected dtype as <class 'numpy.float32'>. Please provide explicit dtype.\u001b[0m\n"
     ]
    }
   ],
   "source": [
    "env = gym.make(\"MountainCarContinuous-v0\")\n",
    "done = False\n",
    "state = env.reset()\n",
    "while not done:\n",
    "    action = np.tanh(w @ state + b)\n",
    "    env.render(mode='rgb_array')\n",
    "    state, reward, done, _ = env.step([action])\n",
    "env.close()"
   ]
  },
  {
   "cell_type": "code",
   "execution_count": 19,
   "metadata": {
    "collapsed": true
   },
   "outputs": [],
   "source": [
    "env.close()"
   ]
  },
  {
   "cell_type": "code",
   "execution_count": null,
   "metadata": {
    "collapsed": true
   },
   "outputs": [],
   "source": []
  }
 ],
 "metadata": {
  "kernelspec": {
   "display_name": "Python 3",
   "language": "python",
   "name": "python3"
  },
  "language_info": {
   "codemirror_mode": {
    "name": "ipython",
    "version": 3
   },
   "file_extension": ".py",
   "mimetype": "text/x-python",
   "name": "python",
   "nbconvert_exporter": "python",
   "pygments_lexer": "ipython3",
   "version": "3.6.3"
  },
  "latex_envs": {
   "LaTeX_envs_menu_present": true,
   "autocomplete": true,
   "bibliofile": "biblio.bib",
   "cite_by": "apalike",
   "current_citInitial": 1,
   "eqLabelWithNumbers": true,
   "eqNumInitial": 1,
   "hotkeys": {
    "equation": "Ctrl-E",
    "itemize": "Ctrl-I"
   },
   "labels_anchors": false,
   "latex_user_defs": false,
   "report_style_numbering": false,
   "user_envs_cfg": false
  }
 },
 "nbformat": 4,
 "nbformat_minor": 2
}
