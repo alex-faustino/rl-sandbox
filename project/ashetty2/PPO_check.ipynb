{
 "cells": [
  {
   "cell_type": "code",
   "execution_count": 1,
   "metadata": {},
   "outputs": [],
   "source": [
    "from collections import namedtuple\n",
    "\n",
    "import matplotlib.pyplot as plt\n",
    "import gym.spaces\n",
    "import gym\n",
    "import torch\n",
    "import torch.nn as nn\n",
    "import torch.nn.functional as F\n",
    "import torch.optim as optim\n",
    "from torch.distributions import Normal\n",
    "from torch.utils.data.sampler import BatchSampler, SubsetRandomSampler"
   ]
  },
  {
   "cell_type": "code",
   "execution_count": 2,
   "metadata": {},
   "outputs": [],
   "source": [
    "gamma = 0.9\n",
    "seed = 0\n",
    "_render = True\n",
    "log_interval = 10\n",
    "\n",
    "torch.manual_seed(seed)\n",
    "\n",
    "TrainingRecord = namedtuple('TrainingRecord', ['ep', 'reward'])\n",
    "Transition = namedtuple('Transition', ['s', 'a', 'a_log_p', 'r', 's_'])"
   ]
  },
  {
   "cell_type": "code",
   "execution_count": 3,
   "metadata": {},
   "outputs": [],
   "source": [
    "class ActorNet(nn.Module):\n",
    "\n",
    "    def __init__(self):\n",
    "        super(ActorNet, self).__init__()\n",
    "        self.fc = nn.Linear(2, 100)\n",
    "        self.mu_head = nn.Linear(100, 1)\n",
    "        self.sigma_head = nn.Linear(100, 1)\n",
    "\n",
    "    def forward(self, x):\n",
    "        x = F.relu(self.fc(x))\n",
    "        mu = 1.0 * F.tanh(self.mu_head(x))\n",
    "        sigma = F.softplus(self.sigma_head(x))\n",
    "        return (mu, sigma)\n",
    "\n",
    "\n",
    "class CriticNet(nn.Module):\n",
    "\n",
    "    def __init__(self):\n",
    "        super(CriticNet, self).__init__()\n",
    "        self.fc = nn.Linear(2, 100)\n",
    "        self.v_head = nn.Linear(100, 1)\n",
    "\n",
    "    def forward(self, x):\n",
    "        x = F.relu(self.fc(x))\n",
    "        state_value = self.v_head(x)\n",
    "        return state_value"
   ]
  },
  {
   "cell_type": "code",
   "execution_count": 4,
   "metadata": {},
   "outputs": [],
   "source": [
    "class Agent():\n",
    "\n",
    "    clip_param = 0.2\n",
    "    max_grad_norm = 0.5\n",
    "    ppo_epoch = 10\n",
    "    buffer_capacity, batch_size = 1000, 32\n",
    "\n",
    "    def __init__(self):\n",
    "        self.training_step = 0\n",
    "        self.anet = ActorNet().float()\n",
    "        self.cnet = CriticNet().float()\n",
    "        self.buffer = []\n",
    "        self.counter = 0\n",
    "\n",
    "        self.optimizer_a = optim.Adam(self.anet.parameters(), lr=1e-4)\n",
    "        self.optimizer_c = optim.Adam(self.cnet.parameters(), lr=3e-4)\n",
    "\n",
    "    def select_action(self, state):\n",
    "        state = torch.from_numpy(state).float().unsqueeze(0)\n",
    "        with torch.no_grad():\n",
    "            (mu, sigma) = self.anet(state)\n",
    "        dist = Normal(mu, sigma)\n",
    "        action = dist.sample()\n",
    "        action_log_prob = dist.log_prob(action)\n",
    "        action.clamp(-2.0, 2.0)\n",
    "        return action.item(), action_log_prob.item()\n",
    "\n",
    "    def get_value(self, state):\n",
    "\n",
    "        state = torch.from_numpy(state).float().unsqueeze(0)\n",
    "        with torch.no_grad():\n",
    "            state_value = self.cnet(state)\n",
    "        return state_value.item()\n",
    "\n",
    "    def store(self, transition):\n",
    "        self.buffer.append(transition)\n",
    "        self.counter += 1\n",
    "        return self.counter % self.buffer_capacity == 0\n",
    "\n",
    "    def update(self):\n",
    "        self.training_step += 1\n",
    "\n",
    "        s = torch.tensor([t.s for t in self.buffer], dtype=torch.float)\n",
    "        a = torch.tensor([t.a for t in self.buffer], dtype=torch.float).view(-1, 1)\n",
    "        r = torch.tensor([t.r for t in self.buffer], dtype=torch.float).view(-1, 1)\n",
    "        s_ = torch.tensor([t.s_ for t in self.buffer], dtype=torch.float)\n",
    "\n",
    "        old_action_log_probs = torch.tensor(\n",
    "            [t.a_log_p for t in self.buffer], dtype=torch.float).view(-1, 1)\n",
    "\n",
    "        r = (r - r.mean()) / (r.std() + 1e-5)\n",
    "        with torch.no_grad():\n",
    "            target_v = r + gamma * self.cnet(s_)\n",
    "\n",
    "        adv = (target_v - self.cnet(s)).detach()\n",
    "\n",
    "        for _ in range(self.ppo_epoch):\n",
    "            for index in BatchSampler(\n",
    "                    SubsetRandomSampler(range(self.buffer_capacity)), self.batch_size, False):\n",
    "\n",
    "                (mu, sigma) = self.anet(s[index])\n",
    "                dist = Normal(mu, sigma)\n",
    "                action_log_probs = dist.log_prob(a[index])\n",
    "                ratio = torch.exp(action_log_probs - old_action_log_probs[index])\n",
    "\n",
    "                surr1 = ratio * adv[index]\n",
    "                surr2 = torch.clamp(ratio, 1.0 - self.clip_param,\n",
    "                                    1.0 + self.clip_param) * adv[index]\n",
    "                action_loss = -torch.min(surr1, surr2).mean()\n",
    "\n",
    "                self.optimizer_a.zero_grad()\n",
    "                action_loss.backward()\n",
    "                nn.utils.clip_grad_norm_(self.anet.parameters(), self.max_grad_norm)\n",
    "                self.optimizer_a.step()\n",
    "\n",
    "                value_loss = F.smooth_l1_loss(self.cnet(s[index]), target_v[index])\n",
    "                self.optimizer_c.zero_grad()\n",
    "                value_loss.backward()\n",
    "                nn.utils.clip_grad_norm_(self.cnet.parameters(), self.max_grad_norm)\n",
    "                self.optimizer_c.step()\n",
    "\n",
    "        del self.buffer[:]"
   ]
  },
  {
   "cell_type": "code",
   "execution_count": 5,
   "metadata": {},
   "outputs": [
    {
     "name": "stderr",
     "output_type": "stream",
     "text": [
      "/home/ggrg/Documents/gym/gym/envs/registration.py:14: PkgResourcesDeprecationWarning: Parameters to load are deprecated.  Call .resolve and .require separately.\n",
      "  result = entry_point.load(False)\n"
     ]
    },
    {
     "name": "stdout",
     "output_type": "stream",
     "text": [
      "Ep 0\tMoving average score: -901.28\t\n",
      "Ep 10\tMoving average score: -320.14\t\n",
      "Ep 20\tMoving average score: -113.12\t\n",
      "Ep 30\tMoving average score: -39.80\t\n",
      "Ep 40\tMoving average score: -13.96\t\n",
      "Ep 50\tMoving average score: -4.89\t\n",
      "Ep 60\tMoving average score: -1.71\t\n",
      "Ep 70\tMoving average score: -0.60\t\n",
      "Ep 80\tMoving average score: -0.21\t\n",
      "Ep 90\tMoving average score: -0.07\t\n",
      "Ep 100\tMoving average score: -0.03\t\n",
      "Ep 110\tMoving average score: -0.01\t\n",
      "Ep 120\tMoving average score: -0.00\t\n",
      "Ep 130\tMoving average score: -0.01\t\n",
      "Ep 140\tMoving average score: -0.01\t\n",
      "Ep 150\tMoving average score: -0.01\t\n",
      "Ep 160\tMoving average score: -0.01\t\n",
      "Ep 170\tMoving average score: -0.01\t\n",
      "Ep 180\tMoving average score: -0.00\t\n",
      "Ep 190\tMoving average score: -0.00\t\n",
      "Ep 200\tMoving average score: -0.01\t\n",
      "Ep 210\tMoving average score: -0.03\t\n",
      "Ep 220\tMoving average score: -0.07\t\n",
      "Ep 230\tMoving average score: -0.14\t\n",
      "Ep 240\tMoving average score: -0.17\t\n",
      "Ep 250\tMoving average score: -0.18\t\n",
      "Ep 260\tMoving average score: -0.20\t\n",
      "Ep 270\tMoving average score: -0.22\t\n",
      "Ep 280\tMoving average score: -0.22\t\n",
      "Ep 290\tMoving average score: -0.22\t\n",
      "Ep 300\tMoving average score: -0.22\t\n",
      "Ep 310\tMoving average score: -0.22\t\n",
      "Ep 320\tMoving average score: -0.22\t\n",
      "Ep 330\tMoving average score: -0.22\t\n",
      "Ep 340\tMoving average score: -0.22\t\n",
      "Ep 350\tMoving average score: -0.22\t\n",
      "Ep 360\tMoving average score: -0.22\t\n",
      "Ep 370\tMoving average score: -0.22\t\n",
      "Ep 380\tMoving average score: -0.22\t\n",
      "Ep 390\tMoving average score: -0.22\t\n",
      "Ep 400\tMoving average score: -0.22\t\n",
      "Ep 410\tMoving average score: -0.22\t\n",
      "Ep 420\tMoving average score: -0.22\t\n",
      "Ep 430\tMoving average score: -0.22\t\n",
      "Ep 440\tMoving average score: -0.22\t\n",
      "Ep 450\tMoving average score: -0.22\t\n",
      "Ep 460\tMoving average score: -0.22\t\n",
      "Ep 470\tMoving average score: -0.22\t\n",
      "Ep 480\tMoving average score: -0.22\t\n",
      "Ep 490\tMoving average score: -0.22\t\n",
      "Ep 500\tMoving average score: -0.22\t\n",
      "Ep 510\tMoving average score: -0.22\t\n",
      "Ep 520\tMoving average score: -0.22\t\n",
      "Ep 530\tMoving average score: -0.22\t\n",
      "Ep 540\tMoving average score: -0.22\t\n",
      "Ep 550\tMoving average score: -0.22\t\n",
      "Ep 560\tMoving average score: -0.22\t\n",
      "Ep 570\tMoving average score: -0.22\t\n",
      "Ep 580\tMoving average score: -0.22\t\n",
      "Ep 590\tMoving average score: -0.22\t\n",
      "Ep 600\tMoving average score: -0.22\t\n",
      "Ep 610\tMoving average score: -0.22\t\n",
      "Ep 620\tMoving average score: -0.22\t\n"
     ]
    },
    {
     "ename": "KeyboardInterrupt",
     "evalue": "",
     "output_type": "error",
     "traceback": [
      "\u001b[0;31m---------------------------------------------------------------------------\u001b[0m",
      "\u001b[0;31mKeyboardInterrupt\u001b[0m                         Traceback (most recent call last)",
      "\u001b[0;32m<ipython-input-5-61dc5e7f33a6>\u001b[0m in \u001b[0;36m<module>\u001b[0;34m()\u001b[0m\n\u001b[1;32m     17\u001b[0m             \u001b[0menv\u001b[0m\u001b[0;34m.\u001b[0m\u001b[0mrender\u001b[0m\u001b[0;34m(\u001b[0m\u001b[0;34m)\u001b[0m\u001b[0;34m\u001b[0m\u001b[0m\n\u001b[1;32m     18\u001b[0m         \u001b[0;32mif\u001b[0m \u001b[0magent\u001b[0m\u001b[0;34m.\u001b[0m\u001b[0mstore\u001b[0m\u001b[0;34m(\u001b[0m\u001b[0mTransition\u001b[0m\u001b[0;34m(\u001b[0m\u001b[0mstate\u001b[0m\u001b[0;34m,\u001b[0m \u001b[0maction\u001b[0m\u001b[0;34m,\u001b[0m \u001b[0maction_log_prob\u001b[0m\u001b[0;34m,\u001b[0m \u001b[0;34m(\u001b[0m\u001b[0mreward\u001b[0m \u001b[0;34m+\u001b[0m \u001b[0;36m8\u001b[0m\u001b[0;34m)\u001b[0m \u001b[0;34m/\u001b[0m \u001b[0;36m8\u001b[0m\u001b[0;34m,\u001b[0m \u001b[0mstate_\u001b[0m\u001b[0;34m)\u001b[0m\u001b[0;34m)\u001b[0m\u001b[0;34m:\u001b[0m\u001b[0;34m\u001b[0m\u001b[0m\n\u001b[0;32m---> 19\u001b[0;31m             \u001b[0magent\u001b[0m\u001b[0;34m.\u001b[0m\u001b[0mupdate\u001b[0m\u001b[0;34m(\u001b[0m\u001b[0;34m)\u001b[0m\u001b[0;34m\u001b[0m\u001b[0m\n\u001b[0m\u001b[1;32m     20\u001b[0m         \u001b[0mscore\u001b[0m \u001b[0;34m+=\u001b[0m \u001b[0mreward\u001b[0m\u001b[0;34m\u001b[0m\u001b[0m\n\u001b[1;32m     21\u001b[0m         \u001b[0mstate\u001b[0m \u001b[0;34m=\u001b[0m \u001b[0mstate_\u001b[0m\u001b[0;34m\u001b[0m\u001b[0m\n",
      "\u001b[0;32m<ipython-input-4-4d655d798853>\u001b[0m in \u001b[0;36mupdate\u001b[0;34m(self)\u001b[0m\n\u001b[1;32m     59\u001b[0m                     SubsetRandomSampler(range(self.buffer_capacity)), self.batch_size, False):\n\u001b[1;32m     60\u001b[0m \u001b[0;34m\u001b[0m\u001b[0m\n\u001b[0;32m---> 61\u001b[0;31m                 \u001b[0;34m(\u001b[0m\u001b[0mmu\u001b[0m\u001b[0;34m,\u001b[0m \u001b[0msigma\u001b[0m\u001b[0;34m)\u001b[0m \u001b[0;34m=\u001b[0m \u001b[0mself\u001b[0m\u001b[0;34m.\u001b[0m\u001b[0manet\u001b[0m\u001b[0;34m(\u001b[0m\u001b[0ms\u001b[0m\u001b[0;34m[\u001b[0m\u001b[0mindex\u001b[0m\u001b[0;34m]\u001b[0m\u001b[0;34m)\u001b[0m\u001b[0;34m\u001b[0m\u001b[0m\n\u001b[0m\u001b[1;32m     62\u001b[0m                 \u001b[0mdist\u001b[0m \u001b[0;34m=\u001b[0m \u001b[0mNormal\u001b[0m\u001b[0;34m(\u001b[0m\u001b[0mmu\u001b[0m\u001b[0;34m,\u001b[0m \u001b[0msigma\u001b[0m\u001b[0;34m)\u001b[0m\u001b[0;34m\u001b[0m\u001b[0m\n\u001b[1;32m     63\u001b[0m                 \u001b[0maction_log_probs\u001b[0m \u001b[0;34m=\u001b[0m \u001b[0mdist\u001b[0m\u001b[0;34m.\u001b[0m\u001b[0mlog_prob\u001b[0m\u001b[0;34m(\u001b[0m\u001b[0ma\u001b[0m\u001b[0;34m[\u001b[0m\u001b[0mindex\u001b[0m\u001b[0;34m]\u001b[0m\u001b[0;34m)\u001b[0m\u001b[0;34m\u001b[0m\u001b[0m\n",
      "\u001b[0;31mKeyboardInterrupt\u001b[0m: "
     ]
    }
   ],
   "source": [
    "env = gym.make('MountainCarContinuous-v0')\n",
    "env.seed(seed)\n",
    "\n",
    "agent = Agent()\n",
    "\n",
    "training_records = []\n",
    "running_reward = -1000\n",
    "state = env.reset()\n",
    "for i_ep in range(1000):\n",
    "    score = 0\n",
    "    state = env.reset()\n",
    "\n",
    "    for t in range(200):\n",
    "        action, action_log_prob = agent.select_action(state)\n",
    "        state_, reward, done, _ = env.step([action])\n",
    "        if _render:\n",
    "            env.render()\n",
    "        if agent.store(Transition(state, action, action_log_prob, (reward + 8) / 8, state_)):\n",
    "            agent.update()\n",
    "        score += reward\n",
    "        state = state_\n",
    "\n",
    "    running_reward = running_reward * 0.9 + score * 0.1\n",
    "    training_records.append(TrainingRecord(i_ep, running_reward))\n",
    "\n",
    "    if i_ep % log_interval == 0:\n",
    "        print('Ep {}\\tMoving average score: {:.2f}\\t'.format(i_ep, running_reward))\n",
    "#     if running_reward > -200:\n",
    "#         print(\"Solved! Moving average score is now {}!\".format(running_reward))\n",
    "#         env.close()\n",
    "#         break"
   ]
  },
  {
   "cell_type": "code",
   "execution_count": 6,
   "metadata": {},
   "outputs": [
    {
     "data": {
      "text/plain": [
       "-0.1048770472407341"
      ]
     },
     "execution_count": 6,
     "metadata": {},
     "output_type": "execute_result"
    }
   ],
   "source": [
    "action"
   ]
  },
  {
   "cell_type": "code",
   "execution_count": 7,
   "metadata": {},
   "outputs": [
    {
     "data": {
      "image/png": "[encoded data removed]",
      "text/plain": [
       "<Figure size 432x288 with 1 Axes>"
      ]
     },
     "metadata": {},
     "output_type": "display_data"
    }
   ],
   "source": [
    "plt.plot([r.ep for r in training_records], [r.reward for r in training_records])\n",
    "plt.title('PPO')\n",
    "plt.xlabel('Episode')\n",
    "plt.ylabel('Moving averaged episode reward')\n",
    "plt.show()"
   ]
  }
 ],
 "metadata": {
  "kernelspec": {
   "display_name": "Python 3",
   "language": "python",
   "name": "python3"
  },
  "language_info": {
   "codemirror_mode": {
    "name": "ipython",
    "version": 3
   },
   "file_extension": ".py",
   "mimetype": "text/x-python",
   "name": "python",
   "nbconvert_exporter": "python",
   "pygments_lexer": "ipython3",
   "version": "3.6.5"
  }
 },
 "nbformat": 4,
 "nbformat_minor": 2
}
