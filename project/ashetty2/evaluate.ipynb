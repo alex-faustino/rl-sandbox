{
 "cells": [
  {
   "cell_type": "code",
   "execution_count": 1,
   "metadata": {},
   "outputs": [],
   "source": [
    "import importlib\n",
    "import matplotlib.pyplot as plt\n",
    "import numpy as np\n",
    "import torch\n",
    "from IPython import display\n",
    "%matplotlib inline\n",
    "\n",
    "import gym.spaces\n",
    "import gym\n",
    "import hw6_ppo"
   ]
  },
  {
   "cell_type": "markdown",
   "metadata": {},
   "source": [
    "Evaulate single FOV sensor case:"
   ]
  },
  {
   "cell_type": "code",
   "execution_count": 2,
   "metadata": {},
   "outputs": [
    {
     "name": "stderr",
     "output_type": "stream",
     "text": [
      "/home/akshay_shetty160992/.local/lib/python3.6/site-packages/gym/envs/registration.py:14: PkgResourcesDeprecationWarning: Parameters to load are deprecated.  Call .resolve and .require separately.\n",
      "  result = entry_point.load(False)\n"
     ]
    }
   ],
   "source": [
    "import FastSLAM1\n",
    "env = gym.make('FastSLAM-v1')\n",
    "agent = hw6_ppo.PPOAgent(env)"
   ]
  },
  {
   "cell_type": "code",
   "execution_count": 3,
   "metadata": {},
   "outputs": [
    {
     "name": "stdout",
     "output_type": "stream",
     "text": [
      "Average reward per step: = 0.532695652173913\n",
      "% of zero reward: = 66.59130434782608\n"
     ]
    }
   ],
   "source": [
    "load_model = 'case3_LM_best'\n",
    "PATH = 'saved_models/' + load_model + '.pth'\n",
    "checkpoint = torch.load(PATH)\n",
    "agent.net.load_state_dict(checkpoint['model_state_dict'])\n",
    "agent.net.train()\n",
    "\n",
    "r_zero = []\n",
    "r_total = []\n",
    "horizon = 230\n",
    "for iep in range(50):\n",
    "    r_ = []\n",
    "    state = env.reset()\n",
    "    for t in range(1,horizon):\n",
    "        action = agent.action_greedy(state)\n",
    "        state_, reward, done, _ = env.step(action)\n",
    "        r_.append(reward)\n",
    "        state = state_\n",
    "    r_zero.append(r_.count(0.0))\n",
    "    r_total.append(sum(r_) / 230.0)\n",
    "\n",
    "print(f'Average reward per step: = {sum(r_total)/float(len(r_zero))}')\n",
    "print(f'% of zero reward: = {100.0*(sum(r_zero)/float(len(r_zero)))/horizon}')"
   ]
  },
  {
   "cell_type": "markdown",
   "metadata": {},
   "source": [
    "Evaulate two FOV sensor case:"
   ]
  },
  {
   "cell_type": "code",
   "execution_count": 4,
   "metadata": {},
   "outputs": [],
   "source": [
    "import FastSLAM2\n",
    "env = gym.make('FastSLAM-v2')\n",
    "agent = hw6_ppo.PPOAgent(env)"
   ]
  },
  {
   "cell_type": "code",
   "execution_count": 5,
   "metadata": {},
   "outputs": [
    {
     "name": "stdout",
     "output_type": "stream",
     "text": [
      "Average reward per step: = 0.917130434782609\n",
      "% of zero reward: = 52.81739130434783\n"
     ]
    }
   ],
   "source": [
    "load_model = 'case5_LM_best'\n",
    "PATH = 'saved_models/' + load_model + '.pth'\n",
    "checkpoint = torch.load(PATH)\n",
    "agent.net.load_state_dict(checkpoint['model_state_dict'])\n",
    "agent.net.train()\n",
    "\n",
    "r_zero = []\n",
    "r_total = []\n",
    "horizon = 230\n",
    "for iep in range(50):\n",
    "    r_ = []\n",
    "    state = env.reset()\n",
    "    for t in range(1,horizon):\n",
    "        action = agent.action_greedy(state)\n",
    "        state_, reward, done, _ = env.step(action)\n",
    "        r_.append(reward)\n",
    "        state = state_\n",
    "    r_zero.append(r_.count(0.0))\n",
    "    r_total.append(sum(r_)/230.0)\n",
    "\n",
    "print(f'Average reward per step: = {sum(r_total)/float(len(r_zero))}')\n",
    "print(f'% of zero reward: = {100.0*(sum(r_zero)/float(len(r_zero)))/horizon}')"
   ]
  }
 ],
 "metadata": {
  "kernelspec": {
   "display_name": "Python 3",
   "language": "python",
   "name": "python3"
  },
  "language_info": {
   "codemirror_mode": {
    "name": "ipython",
    "version": 3
   },
   "file_extension": ".py",
   "mimetype": "text/x-python",
   "name": "python",
   "nbconvert_exporter": "python",
   "pygments_lexer": "ipython3",
   "version": "3.6.7"
  }
 },
 "nbformat": 4,
 "nbformat_minor": 2
}
