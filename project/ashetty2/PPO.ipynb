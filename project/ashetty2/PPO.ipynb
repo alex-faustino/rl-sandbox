{
 "cells": [
  {
   "cell_type": "code",
   "execution_count": 1,
   "metadata": {},
   "outputs": [],
   "source": [
    "from collections import namedtuple\n",
    "import matplotlib.pyplot as plt\n",
    "import numpy as np\n",
    "from IPython import display\n",
    "import time\n",
    "\n",
    "import gym.spaces\n",
    "import gym\n",
    "import FastSLAM\n",
    "\n",
    "import torch\n",
    "import torch.nn as nn\n",
    "import torch.nn.functional as F\n",
    "import torch.optim as optim\n",
    "from torch.distributions import Normal\n",
    "from torch.utils.data.sampler import BatchSampler, SubsetRandomSampler"
   ]
  },
  {
   "cell_type": "code",
   "execution_count": 2,
   "metadata": {},
   "outputs": [],
   "source": [
    "# device = torch.device('cpu')\n",
    "# torch.cuda.is_available()"
   ]
  },
  {
   "cell_type": "code",
   "execution_count": 3,
   "metadata": {},
   "outputs": [],
   "source": [
    "N_eps = 100\n",
    "sim_time = 10.0\n",
    "gamma = 0.9\n",
    "_render = False\n",
    "log_interval = 10\n",
    "state_size = 12\n",
    "\n",
    "TrainingRecord = namedtuple('TrainingRecord', ['ep', 'reward', 'score'])\n",
    "Transition = namedtuple('Transition', ['s', 'a', 'a_log_p', 'r', 's_'])"
   ]
  },
  {
   "cell_type": "code",
   "execution_count": 4,
   "metadata": {},
   "outputs": [],
   "source": [
    "class ActorNet(nn.Module):\n",
    "\n",
    "    def __init__(self):\n",
    "        super(ActorNet, self).__init__()\n",
    "        self.fc1 = nn.Linear(state_size, 100)\n",
    "        self.fc2 = nn.Linear(100, 100)\n",
    "        self.mu_head = nn.Linear(100, 1)\n",
    "        self.sigma_head = nn.Linear(100, 1)\n",
    "\n",
    "    def forward(self, x):\n",
    "#         x = F.relu(self.fc1(x))\n",
    "#         x = F.relu(self.fc2(x))\n",
    "        x = F.tanh(self.fc1(x))\n",
    "        x = F.tanh(self.fc2(x))\n",
    "        mu = self.mu_head(x)\n",
    "        sigma = F.sigmoid(self.sigma_head(x))\n",
    "        return (mu, sigma)\n",
    "\n",
    "\n",
    "class CriticNet(nn.Module):\n",
    "\n",
    "    def __init__(self):\n",
    "        super(CriticNet, self).__init__()\n",
    "        self.fc1 = nn.Linear(state_size, 100)\n",
    "        self.fc2 = nn.Linear(100, 100)\n",
    "        self.v_head = nn.Linear(100, 1)\n",
    "\n",
    "    def forward(self, x):\n",
    "#         x = F.relu(self.fc1(x))\n",
    "#         x = F.relu(self.fc2(x))\n",
    "        x = F.tanh(self.fc1(x))\n",
    "        x = F.tanh(self.fc2(x))\n",
    "        state_value = self.v_head(x)\n",
    "        return state_value"
   ]
  },
  {
   "cell_type": "code",
   "execution_count": 5,
   "metadata": {},
   "outputs": [],
   "source": [
    "class Agent():\n",
    "\n",
    "    clip_param = 0.2\n",
    "    max_grad_norm = 0.5\n",
    "    ppo_epoch = 100\n",
    "    buffer_capacity, batch_size = 1000, 32\n",
    "\n",
    "    def __init__(self):\n",
    "        self.training_step = 0\n",
    "        self.anet = ActorNet().float()\n",
    "        self.cnet = CriticNet().float()\n",
    "        self.buffer = []\n",
    "        self.counter = 0\n",
    "\n",
    "        self.optimizer_a = optim.Adam(self.anet.parameters(), lr=1e-4)\n",
    "        self.optimizer_c = optim.Adam(self.cnet.parameters(), lr=3e-4)\n",
    "\n",
    "    def select_action(self, state):\n",
    "        state = torch.from_numpy(state).float().unsqueeze(0)\n",
    "        with torch.no_grad():\n",
    "            (mu, sigma) = self.anet(state)\n",
    "        dist = Normal(mu, sigma)\n",
    "        action = dist.sample()\n",
    "        action_log_prob = dist.log_prob(action)\n",
    "#         action.clamp(-2.0, 2.0)\n",
    "        return action.item(), action_log_prob.item(), mu.numpy()[0][0], sigma.numpy()[0][0]\n",
    "\n",
    "    def get_value(self, state):\n",
    "\n",
    "        state = torch.from_numpy(state).float().unsqueeze(0)\n",
    "        with torch.no_grad():\n",
    "            state_value = self.cnet(state)\n",
    "        return state_value.item()\n",
    "\n",
    "    def store(self, transition):\n",
    "        self.buffer.append(transition)\n",
    "        self.counter += 1\n",
    "        return self.counter % self.buffer_capacity == 0\n",
    "\n",
    "    def update(self):\n",
    "        self.training_step += 1\n",
    "\n",
    "        s = torch.tensor([t.s for t in self.buffer], dtype=torch.float)\n",
    "        a = torch.tensor([t.a for t in self.buffer], dtype=torch.float).view(-1, 1)\n",
    "        r = torch.tensor([t.r for t in self.buffer], dtype=torch.float).view(-1, 1)\n",
    "        s_ = torch.tensor([t.s_ for t in self.buffer], dtype=torch.float)\n",
    "\n",
    "        old_action_log_probs = torch.tensor(\n",
    "            [t.a_log_p for t in self.buffer], dtype=torch.float).view(-1, 1)\n",
    "\n",
    "        r = (r - r.mean()) / (r.std() + 1e-5)\n",
    "        with torch.no_grad():\n",
    "            target_v = r + gamma * self.cnet(s_)\n",
    "\n",
    "        adv = (target_v - self.cnet(s)).detach()\n",
    "\n",
    "        for _ in range(self.ppo_epoch):\n",
    "            for index in BatchSampler(\n",
    "                    SubsetRandomSampler(range(self.buffer_capacity)), self.batch_size, False):\n",
    "\n",
    "                (mu, sigma) = self.anet(s[index])\n",
    "                dist = Normal(mu, sigma)\n",
    "                action_log_probs = dist.log_prob(a[index])\n",
    "                ratio = torch.exp(action_log_probs - old_action_log_probs[index])\n",
    "\n",
    "                surr1 = ratio * adv[index]\n",
    "                surr2 = torch.clamp(ratio, 1.0 - self.clip_param,\n",
    "                                    1.0 + self.clip_param) * adv[index]\n",
    "                action_loss = -torch.min(surr1, surr2).mean()\n",
    "\n",
    "                self.optimizer_a.zero_grad()\n",
    "                action_loss.backward()\n",
    "                nn.utils.clip_grad_norm_(self.anet.parameters(), self.max_grad_norm)\n",
    "                self.optimizer_a.step()\n",
    "\n",
    "                value_loss = F.smooth_l1_loss(self.cnet(s[index]), target_v[index])\n",
    "                self.optimizer_c.zero_grad()\n",
    "                value_loss.backward()\n",
    "                nn.utils.clip_grad_norm_(self.cnet.parameters(), self.max_grad_norm)\n",
    "                self.optimizer_c.step()\n",
    "\n",
    "        del self.buffer[:]"
   ]
  },
  {
   "cell_type": "code",
   "execution_count": 6,
   "metadata": {
    "scrolled": false
   },
   "outputs": [
    {
     "name": "stderr",
     "output_type": "stream",
     "text": [
      "/home/ggrg/Documents/gym/gym/envs/registration.py:14: PkgResourcesDeprecationWarning: Parameters to load are deprecated.  Call .resolve and .require separately.\n",
      "  result = entry_point.load(False)\n"
     ]
    },
    {
     "name": "stdout",
     "output_type": "stream",
     "text": [
      "Ep 0\tMoving average score: 26.10\tAverage opt time: 0.00\t\n",
      "Ep 10\tMoving average score: 21.53\tAverage opt time: 7.77\t\n",
      "Ep 20\tMoving average score: 25.87\tAverage opt time: 7.21\t\n",
      "Ep 30\tMoving average score: 56.50\tAverage opt time: 6.97\t\n",
      "Ep 40\tMoving average score: 26.59\tAverage opt time: 7.05\t\n",
      "Ep 50\tMoving average score: 58.24\tAverage opt time: 7.30\t\n",
      "Ep 60\tMoving average score: 22.02\tAverage opt time: 7.35\t\n",
      "Ep 70\tMoving average score: 83.68\tAverage opt time: 7.35\t\n",
      "Ep 80\tMoving average score: 84.38\tAverage opt time: 7.37\t\n",
      "Ep 90\tMoving average score: 117.04\tAverage opt time: 7.33\t\n"
     ]
    }
   ],
   "source": [
    "env = gym.make('FastSLAM-v0')\n",
    "\n",
    "agent = Agent()\n",
    "\n",
    "opt_times = []\n",
    "training_records = []\n",
    "running_reward = 0\n",
    "state = env.reset()\n",
    "for i_ep in range(N_eps):\n",
    "    score = 0\n",
    "    state = env.reset()\n",
    "\n",
    "    while env.time < sim_time:\n",
    "        action, action_log_prob, _, _ = agent.select_action(state)\n",
    "        state_, reward, done, _ = env.step([action])\n",
    "\n",
    "        if _render:\n",
    "            env.render_world()\n",
    "            display.clear_output(wait=True)\n",
    "            plt.pause(0.001)\n",
    "        \n",
    "        if agent.store(Transition(state, action, action_log_prob, reward, state_)):\n",
    "            t1 = time.time()\n",
    "            agent.update()\n",
    "            t2 = time.time()\n",
    "            opt_times.append(t2-t1)\n",
    "            \n",
    "        score += reward\n",
    "        state = state_\n",
    "\n",
    "    running_reward = running_reward * 0.9 + score * 0.1\n",
    "    training_records.append(TrainingRecord(i_ep, running_reward, score))\n",
    "\n",
    "    if len(opt_times) == 0:\n",
    "        avg_opt_time = 0.0\n",
    "    else:\n",
    "        avg_opt_time = sum(opt_times) / float(len(opt_times))\n",
    "    \n",
    "    if i_ep % log_interval == 0:\n",
    "        print('Ep {}\\tMoving average score: {:.2f}\\tAverage opt time: {:.2f}\\t'.format(i_ep, running_reward, avg_opt_time))"
   ]
  },
  {
   "cell_type": "code",
   "execution_count": 7,
   "metadata": {},
   "outputs": [
    {
     "data": {
      "image/png": "[encoded data removed]",
      "text/plain": [
       "<Figure size 432x288 with 1 Axes>"
      ]
     },
     "metadata": {},
     "output_type": "display_data"
    }
   ],
   "source": [
    "# env.close()\n",
    "plt.plot([r.ep for r in training_records], [r.score for r in training_records])\n",
    "plt.plot([r.ep for r in training_records], [r.reward for r in training_records])\n",
    "plt.title('PPO')\n",
    "plt.xlabel('Episode')\n",
    "plt.ylabel('Moving averaged episode reward')\n",
    "plt.show()"
   ]
  },
  {
   "cell_type": "code",
   "execution_count": 9,
   "metadata": {},
   "outputs": [
    {
     "data": {
      "image/png": "[encoded data removed]",
      "text/plain": [
       "<Figure size 288x288 with 1 Axes>"
      ]
     },
     "metadata": {},
     "output_type": "display_data"
    }
   ],
   "source": [
    "# env = gym.make('FastSLAM-v0')\n",
    "# agent = Agent()\n",
    "state = env.reset()\n",
    "a_, r_, mu_, sigma_, _state_ = [], [], [], [], []\n",
    "\n",
    "while env.time < sim_time:\n",
    "    _state_.append(state)\n",
    "#     print(state)\n",
    "    action, action_log_prob, mu, sigma = agent.select_action(state)\n",
    "    state_, reward, done, _ = env.step([action])\n",
    "    a_.append([action])\n",
    "    r_.append(reward)\n",
    "    mu_.append(mu)\n",
    "    sigma_.append(sigma)\n",
    "    state = state_\n",
    "    env.render_world()\n",
    "    display.clear_output(wait=True)\n",
    "    plt.pause(0.001)\n",
    "    "
   ]
  }
 ],
 "metadata": {
  "kernelspec": {
   "display_name": "Python 3",
   "language": "python",
   "name": "python3"
  },
  "language_info": {
   "codemirror_mode": {
    "name": "ipython",
    "version": 3
   },
   "file_extension": ".py",
   "mimetype": "text/x-python",
   "name": "python",
   "nbconvert_exporter": "python",
   "pygments_lexer": "ipython3",
   "version": "3.6.5"
  }
 },
 "nbformat": 4,
 "nbformat_minor": 2
}
