{
 "cells": [
  {
   "cell_type": "markdown",
   "metadata": {},
   "source": [
    "# Testing the accuracy of Q-learning and SARSA \n",
    "## In urban and open-sky conditions"
   ]
  },
  {
   "cell_type": "code",
   "execution_count": 1,
   "metadata": {},
   "outputs": [
    {
     "name": "stderr",
     "output_type": "stream",
     "text": [
      "/home/green/rl_ipynotebook/lib/python3.6/site-packages/gym/envs/registration.py:14: PkgResourcesDeprecationWarning: Parameters to load are deprecated.  Call .resolve and .require separately.\n",
      "  result = entry_point.load(False)\n"
     ]
    },
    {
     "data": {
      "text/plain": [
       "[543]"
      ]
     },
     "execution_count": 1,
     "metadata": {},
     "output_type": "execute_result"
    }
   ],
   "source": [
    "import gym\n",
    "import matplotlib.pyplot as plt\n",
    "import numpy as np\n",
    "from urbanworld.urbanworld import UrbanWorldEnv\n",
    "import qlearning as ql\n",
    "import SARSAlearning as sa\n",
    "\n",
    "myenv = gym.make('MyUrbanWorld-v1')\n",
    "\n",
    "### Modify the height vector to change the cases from open-sky conditions to urban area conditions\n",
    "myenv.env.HEIGHT = [[80]*7]*7\n",
    "\n",
    "set_params = {}\n",
    "myenv.seed(543)"
   ]
  },
  {
   "cell_type": "code",
   "execution_count": 2,
   "metadata": {},
   "outputs": [],
   "source": [
    "##### First set of experiments are conducted for easy version\n",
    "myenv.env.version = 'easy'"
   ]
  },
  {
   "cell_type": "code",
   "execution_count": 3,
   "metadata": {
    "scrolled": true
   },
   "outputs": [
    {
     "name": "stdout",
     "output_type": "stream",
     "text": [
      "Version:  easy\n",
      "i_eps:  0\n",
      "Reset is called:  [3, 4, 0.04]\n"
     ]
    },
    {
     "ename": "ValueError",
     "evalue": "too many values to unpack (expected 2)",
     "output_type": "error",
     "traceback": [
      "\u001b[0;31m---------------------------------------------------------------------------\u001b[0m",
      "\u001b[0;31mValueError\u001b[0m                                Traceback (most recent call last)",
      "\u001b[0;32m<ipython-input-3-ff6b64761de8>\u001b[0m in \u001b[0;36m<module>\u001b[0;34m\u001b[0m\n\u001b[1;32m      2\u001b[0m \u001b[0mql_agent_easy\u001b[0m \u001b[0;34m=\u001b[0m \u001b[0mql\u001b[0m\u001b[0;34m.\u001b[0m\u001b[0mQlearning\u001b[0m\u001b[0;34m(\u001b[0m\u001b[0mmyenv\u001b[0m\u001b[0;34m)\u001b[0m\u001b[0;34m\u001b[0m\u001b[0;34m\u001b[0m\u001b[0m\n\u001b[1;32m      3\u001b[0m \u001b[0mset_params\u001b[0m\u001b[0;34m.\u001b[0m\u001b[0mupdate\u001b[0m\u001b[0;34m(\u001b[0m\u001b[0;34m{\u001b[0m\u001b[0;34m'no_eps'\u001b[0m\u001b[0;34m:\u001b[0m \u001b[0;36m500\u001b[0m\u001b[0;34m,\u001b[0m \u001b[0;34m'eps_len'\u001b[0m\u001b[0;34m:\u001b[0m \u001b[0;36m150\u001b[0m\u001b[0;34m,\u001b[0m \u001b[0;34m'alpha'\u001b[0m\u001b[0;34m:\u001b[0m \u001b[0;36m0.05\u001b[0m\u001b[0;34m,\u001b[0m \u001b[0;34m'gamma'\u001b[0m\u001b[0;34m:\u001b[0m \u001b[0;36m0.9\u001b[0m\u001b[0;34m,\u001b[0m \u001b[0;34m'epsilon'\u001b[0m\u001b[0;34m:\u001b[0m \u001b[0;36m0.9\u001b[0m\u001b[0;34m,\u001b[0m \u001b[0;34m'decay'\u001b[0m\u001b[0;34m:\u001b[0m \u001b[0;36m0.98\u001b[0m\u001b[0;34m}\u001b[0m\u001b[0;34m)\u001b[0m\u001b[0;34m\u001b[0m\u001b[0;34m\u001b[0m\u001b[0m\n\u001b[0;32m----> 4\u001b[0;31m \u001b[0mql_qfunc_easy\u001b[0m\u001b[0;34m,\u001b[0m \u001b[0mql_reward_easy\u001b[0m \u001b[0;34m=\u001b[0m \u001b[0mql_agent_easy\u001b[0m\u001b[0;34m.\u001b[0m\u001b[0mtrain\u001b[0m\u001b[0;34m(\u001b[0m\u001b[0mset_params\u001b[0m\u001b[0;34m)\u001b[0m\u001b[0;34m\u001b[0m\u001b[0;34m\u001b[0m\u001b[0m\n\u001b[0m",
      "\u001b[0;32m~/rl_ipynotebook/mycodes/PPOmycodes/qlearning.py\u001b[0m in \u001b[0;36mtrain\u001b[0;34m(self, params)\u001b[0m\n\u001b[1;32m     46\u001b[0m \u001b[0;34m\u001b[0m\u001b[0m\n\u001b[1;32m     47\u001b[0m             \u001b[0;31m### Initialize the episode with random state\u001b[0m\u001b[0;34m\u001b[0m\u001b[0;34m\u001b[0m\u001b[0;34m\u001b[0m\u001b[0m\n\u001b[0;32m---> 48\u001b[0;31m             \u001b[0minit_state\u001b[0m\u001b[0;34m,\u001b[0m \u001b[0mcur_pos\u001b[0m \u001b[0;34m=\u001b[0m \u001b[0mself\u001b[0m\u001b[0;34m.\u001b[0m\u001b[0menv\u001b[0m\u001b[0;34m.\u001b[0m\u001b[0mreset\u001b[0m\u001b[0;34m(\u001b[0m\u001b[0;34m)\u001b[0m \u001b[0;31m### 2. Initialize S\u001b[0m\u001b[0;34m\u001b[0m\u001b[0;34m\u001b[0m\u001b[0m\n\u001b[0m\u001b[1;32m     49\u001b[0m             \u001b[0mself\u001b[0m\u001b[0;34m.\u001b[0m\u001b[0mstore_state\u001b[0m\u001b[0;34m[\u001b[0m\u001b[0mstr\u001b[0m\u001b[0;34m(\u001b[0m\u001b[0mi_episode\u001b[0m\u001b[0;34m)\u001b[0m\u001b[0;34m]\u001b[0m\u001b[0;34m.\u001b[0m\u001b[0mappend\u001b[0m\u001b[0;34m(\u001b[0m\u001b[0mcur_pos\u001b[0m\u001b[0;34m)\u001b[0m\u001b[0;34m\u001b[0m\u001b[0;34m\u001b[0m\u001b[0m\n\u001b[1;32m     50\u001b[0m \u001b[0;34m\u001b[0m\u001b[0m\n",
      "\u001b[0;31mValueError\u001b[0m: too many values to unpack (expected 2)"
     ]
    }
   ],
   "source": [
    "## Plotting the learning curves of Qlearning\n",
    "ql_agent_easy = ql.Qlearning(myenv)\n",
    "set_params.update({'no_eps': 500, 'eps_len': 150, 'alpha': 0.05, 'gamma': 0.9, 'epsilon': 0.9, 'decay': 0.98})\n",
    "ql_qfunc_easy, ql_reward_easy = ql_agent_easy.train(set_params)"
   ]
  },
  {
   "cell_type": "code",
   "execution_count": null,
   "metadata": {},
   "outputs": [],
   "source": [
    "## Plotting the learning curves of SARSA\n",
    "sarsa_agent_easy = sa.SARSAlearning(myenv)\n",
    "set_params.update({'no_eps': 500, 'eps_len': 150, 'alpha': 0.05, 'gamma': 0.9, 'epsilon': 0.9, 'decay': 0.98})\n",
    "sarsa_qfunc_easy, sarsa_reward_easy = sarsa_agent_easy.train(set_params)"
   ]
  },
  {
   "cell_type": "code",
   "execution_count": null,
   "metadata": {
    "scrolled": true
   },
   "outputs": [],
   "source": [
    "plt.plot(np.arange(ql_agent_easy.no_eps), ql_reward_easy, 'b', label='Qlearning')\n",
    "plt.plot(np.arange(sarsa_agent_easy.no_eps), sarsa_reward_easy, 'r', label='SARSA')\n",
    "plt.legend()\n",
    "plt.ylabel('Average reward per episode')\n",
    "plt.xlabel('Episode number')\n",
    "plt.title('Easy version')\n",
    "plt.show()"
   ]
  },
  {
   "cell_type": "code",
   "execution_count": null,
   "metadata": {},
   "outputs": [],
   "source": [
    "### Q learning: example trajectory of robot using trained policy via Q learning\n",
    "eps_len = 200\n",
    "record_pos, record_action = ql_agent_easy.test(eps_len)\n",
    "plt.plot(np.arange(eps_len), record_pos, 'b')\n",
    "plt.plot(np.arange(eps_len), record_pos, 'b.')\n",
    "plt.show()"
   ]
  },
  {
   "cell_type": "code",
   "execution_count": null,
   "metadata": {},
   "outputs": [],
   "source": [
    "### SARSA learning: example trajectory of robot using trained policy via SARSA learning\n",
    "eps_len = 200\n",
    "record_pos, record_action = sarsa_agent_easy.test(eps_len)\n",
    "plt.plot(np.arange(eps_len), record_pos, 'b')\n",
    "plt.plot(np.arange(eps_len), record_pos, 'b.')\n",
    "plt.show()"
   ]
  },
  {
   "cell_type": "code",
   "execution_count": null,
   "metadata": {},
   "outputs": [],
   "source": []
  }
 ],
 "metadata": {
  "kernelspec": {
   "display_name": "Python 3",
   "language": "python",
   "name": "python3"
  },
  "language_info": {
   "codemirror_mode": {
    "name": "ipython",
    "version": 3
   },
   "file_extension": ".py",
   "mimetype": "text/x-python",
   "name": "python",
   "nbconvert_exporter": "python",
   "pygments_lexer": "ipython3",
   "version": "3.6.7"
  }
 },
 "nbformat": 4,
 "nbformat_minor": 2
}
